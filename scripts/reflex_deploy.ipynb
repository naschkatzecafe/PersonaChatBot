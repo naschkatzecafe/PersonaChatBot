{
  "nbformat": 4,
  "nbformat_minor": 0,
  "metadata": {
    "colab": {
      "provenance": [],
      "mount_file_id": "1lNunTdkRVSVkThlVQWZA41n683dbGIMa",
      "authorship_tag": "ABX9TyPsKx31gRUYEXi/W0cksqTl"
    },
    "kernelspec": {
      "name": "python3",
      "display_name": "Python 3"
    },
    "language_info": {
      "name": "python"
    }
  },
  "cells": [
    {
      "cell_type": "code",
      "source": [
        "raw_token = \"\" # @param {type: \"string\"}\n",
        "version = \"reflex-0.0.9\" # @param {type: \"string\"}\n",
        "is_prerelease = False # @param {type: \"boolean\"}"
      ],
      "metadata": {
        "id": "x_B8pHL84N8L"
      },
      "execution_count": null,
      "outputs": []
    },
    {
      "cell_type": "code",
      "source": [
        "!apt install python3.10-venv"
      ],
      "metadata": {
        "id": "p47eY9vONjaO",
        "outputId": "0f8792ca-18dc-4777-a5db-db807b4d8abb",
        "colab": {
          "base_uri": "https://localhost:8080/"
        }
      },
      "execution_count": null,
      "outputs": [
        {
          "output_type": "stream",
          "name": "stdout",
          "text": [
            "Reading package lists... Done\n",
            "Building dependency tree... Done\n",
            "Reading state information... Done\n",
            "The following additional packages will be installed:\n",
            "  python3-pip-whl python3-setuptools-whl\n",
            "The following NEW packages will be installed:\n",
            "  python3-pip-whl python3-setuptools-whl python3.10-venv\n",
            "0 upgraded, 3 newly installed, 0 to remove and 45 not upgraded.\n",
            "Need to get 2,473 kB of archives.\n",
            "After this operation, 2,884 kB of additional disk space will be used.\n",
            "Get:1 http://archive.ubuntu.com/ubuntu jammy-updates/universe amd64 python3-pip-whl all 22.0.2+dfsg-1ubuntu0.4 [1,680 kB]\n",
            "Get:2 http://archive.ubuntu.com/ubuntu jammy-updates/universe amd64 python3-setuptools-whl all 59.6.0-1.2ubuntu0.22.04.1 [788 kB]\n",
            "Get:3 http://archive.ubuntu.com/ubuntu jammy-updates/universe amd64 python3.10-venv amd64 3.10.12-1~22.04.3 [5,716 B]\n",
            "Fetched 2,473 kB in 0s (12.7 MB/s)\n",
            "Selecting previously unselected package python3-pip-whl.\n",
            "(Reading database ... 121920 files and directories currently installed.)\n",
            "Preparing to unpack .../python3-pip-whl_22.0.2+dfsg-1ubuntu0.4_all.deb ...\n",
            "Unpacking python3-pip-whl (22.0.2+dfsg-1ubuntu0.4) ...\n",
            "Selecting previously unselected package python3-setuptools-whl.\n",
            "Preparing to unpack .../python3-setuptools-whl_59.6.0-1.2ubuntu0.22.04.1_all.deb ...\n",
            "Unpacking python3-setuptools-whl (59.6.0-1.2ubuntu0.22.04.1) ...\n",
            "Selecting previously unselected package python3.10-venv.\n",
            "Preparing to unpack .../python3.10-venv_3.10.12-1~22.04.3_amd64.deb ...\n",
            "Unpacking python3.10-venv (3.10.12-1~22.04.3) ...\n",
            "Setting up python3-setuptools-whl (59.6.0-1.2ubuntu0.22.04.1) ...\n",
            "Setting up python3-pip-whl (22.0.2+dfsg-1ubuntu0.4) ...\n",
            "Setting up python3.10-venv (3.10.12-1~22.04.3) ...\n"
          ]
        }
      ]
    },
    {
      "cell_type": "code",
      "execution_count": null,
      "metadata": {
        "colab": {
          "base_uri": "https://localhost:8080/"
        },
        "id": "37u2e1Vq2_xK",
        "outputId": "192bde5d-d502-4924-d6c0-4870a0f11949"
      },
      "outputs": [
        {
          "output_type": "stream",
          "name": "stdout",
          "text": [
            "\u001b[33m\r0% [Working]\u001b[0m\r            \rGet:1 http://security.ubuntu.com/ubuntu jammy-security InRelease [110 kB]\n",
            "\u001b[33m\r0% [Waiting for headers] [1 InRelease 14.2 kB/110 kB 13%] [Connected to cloud.r\u001b[0m\r                                                                               \rHit:2 http://archive.ubuntu.com/ubuntu jammy InRelease\n",
            "\u001b[33m\r0% [Waiting for headers] [1 InRelease 110 kB/110 kB 100%] [Connected to cloud.r\u001b[0m\r                                                                               \rGet:3 http://archive.ubuntu.com/ubuntu jammy-updates InRelease [119 kB]\n",
            "\r                                                                               \rHit:4 http://archive.ubuntu.com/ubuntu jammy-backports InRelease\n",
            "\r                                                                               \rGet:5 https://cloud.r-project.org/bin/linux/ubuntu jammy-cran40/ InRelease [3,626 B]\n",
            "\u001b[33m\r0% [Connecting to ppa.launchpadcontent.net (185.125.190.80)] [Connected to deve\u001b[0m\r                                                                               \rGet:6 https://cli.github.com/packages stable InRelease [3,917 B]\n",
            "Get:7 https://developer.download.nvidia.com/compute/cuda/repos/ubuntu2204/x86_64  InRelease [1,581 B]\n",
            "Hit:8 https://ppa.launchpadcontent.net/c2d4u.team/c2d4u4.0+/ubuntu jammy InRelease\n",
            "Get:9 http://archive.ubuntu.com/ubuntu jammy-updates/main amd64 Packages [2,037 kB]\n",
            "Hit:10 https://ppa.launchpadcontent.net/deadsnakes/ppa/ubuntu jammy InRelease\n",
            "Hit:11 https://ppa.launchpadcontent.net/graphics-drivers/ppa/ubuntu jammy InRelease\n",
            "Get:12 http://archive.ubuntu.com/ubuntu jammy-updates/universe amd64 Packages [1,371 kB]\n",
            "Hit:13 https://ppa.launchpadcontent.net/ubuntugis/ppa/ubuntu jammy InRelease\n",
            "Get:14 https://cli.github.com/packages stable/main amd64 Packages [344 B]\n",
            "Get:15 https://developer.download.nvidia.com/compute/cuda/repos/ubuntu2204/x86_64  Packages [825 kB]\n",
            "Fetched 4,471 kB in 2s (2,472 kB/s)\n",
            "Reading package lists... Done\n",
            "Building dependency tree... Done\n",
            "Reading state information... Done\n",
            "45 packages can be upgraded. Run 'apt list --upgradable' to see them.\n",
            "Reading package lists... Done\n",
            "Building dependency tree... Done\n",
            "Reading state information... Done\n",
            "The following NEW packages will be installed:\n",
            "  gh\n",
            "0 upgraded, 1 newly installed, 0 to remove and 45 not upgraded.\n",
            "Need to get 13.6 MB of archives.\n",
            "After this operation, 50.0 MB of additional disk space will be used.\n",
            "Get:1 https://cli.github.com/packages stable/main amd64 gh amd64 2.49.0 [13.6 MB]\n",
            "Fetched 13.6 MB in 0s (66.4 MB/s)\n",
            "debconf: unable to initialize frontend: Dialog\n",
            "debconf: (No usable dialog-like program is installed, so the dialog based frontend cannot be used. at /usr/share/perl5/Debconf/FrontEnd/Dialog.pm line 78, <> line 1.)\n",
            "debconf: falling back to frontend: Readline\n",
            "debconf: unable to initialize frontend: Readline\n",
            "debconf: (This frontend requires a controlling tty.)\n",
            "debconf: falling back to frontend: Teletype\n",
            "dpkg-preconfigure: unable to re-open stdin: \n",
            "Selecting previously unselected package gh.\n",
            "(Reading database ... 121935 files and directories currently installed.)\n",
            "Preparing to unpack .../archives/gh_2.49.0_amd64.deb ...\n",
            "Unpacking gh (2.49.0) ...\n",
            "Setting up gh (2.49.0) ...\n",
            "Processing triggers for man-db (2.10.2-1) ...\n",
            "gh version 2.49.0 (2024-04-30)\n",
            "https://github.com/cli/cli/releases/tag/v2.49.0\n"
          ]
        }
      ],
      "source": [
        "!sudo mkdir -p -m 755 /etc/apt/keyrings && wget -qO- https://cli.github.com/packages/githubcli-archive-keyring.gpg | sudo tee /etc/apt/keyrings/githubcli-archive-keyring.gpg > /dev/null \\\n",
        "&& sudo chmod go+r /etc/apt/keyrings/githubcli-archive-keyring.gpg \\\n",
        "&& echo \"deb [arch=$(dpkg --print-architecture) signed-by=/etc/apt/keyrings/githubcli-archive-keyring.gpg] https://cli.github.com/packages stable main\" | sudo tee /etc/apt/sources.list.d/github-cli.list > /dev/null \\\n",
        "&& sudo apt update \\\n",
        "&& sudo apt install gh -y\n",
        "!gh version"
      ]
    },
    {
      "cell_type": "code",
      "source": [
        "!echo {raw_token} > /content/pat.txt"
      ],
      "metadata": {
        "id": "_M784miV5Yqj"
      },
      "execution_count": null,
      "outputs": []
    },
    {
      "cell_type": "code",
      "source": [
        "!gh auth login --hostname github.com -p https --with-token  < /content/pat.txt"
      ],
      "metadata": {
        "id": "0t3WxtPa4Kha"
      },
      "execution_count": null,
      "outputs": []
    },
    {
      "cell_type": "code",
      "source": [
        "!gh auth status"
      ],
      "metadata": {
        "colab": {
          "base_uri": "https://localhost:8080/"
        },
        "id": "LGYLb57p4TfT",
        "outputId": "6be72ec2-d62c-4274-f91f-b56974f82c22"
      },
      "execution_count": null,
      "outputs": [
        {
          "output_type": "stream",
          "name": "stdout",
          "text": [
            "\u001b[0;1;39mgithub.com\u001b[0m\n",
            "  \u001b[0;32m✓\u001b[0m Logged in to github.com account \u001b[0;1;39mryugibo\u001b[0m (/root/.config/gh/hosts.yml)\n",
            "  - Active account: \u001b[0;1;39mtrue\u001b[0m\n",
            "  - Git operations protocol: \u001b[0;1;39mhttps\u001b[0m\n",
            "  - Token: \u001b[0;1;39mgithub_pat_11AB4PWOA0lpljujJOobbj_***********************************************************\u001b[0m\n"
          ]
        }
      ]
    },
    {
      "cell_type": "code",
      "source": [
        "!rm /content/pat.txt"
      ],
      "metadata": {
        "id": "Fcss-5W-q4Mh"
      },
      "execution_count": null,
      "outputs": []
    },
    {
      "cell_type": "code",
      "source": [
        "%cd /content"
      ],
      "metadata": {
        "id": "lb7IrV_aw7tR",
        "outputId": "b7214633-3ca1-4fd3-bd93-bd3e3da783bb",
        "colab": {
          "base_uri": "https://localhost:8080/"
        }
      },
      "execution_count": null,
      "outputs": [
        {
          "output_type": "stream",
          "name": "stdout",
          "text": [
            "/content\n"
          ]
        }
      ]
    },
    {
      "cell_type": "code",
      "source": [
        "!rm -rf iNotePal"
      ],
      "metadata": {
        "id": "g1PDdOGhw9wQ"
      },
      "execution_count": null,
      "outputs": []
    },
    {
      "cell_type": "code",
      "source": [
        "!gh repo clone pal-ette/iNotePal"
      ],
      "metadata": {
        "colab": {
          "base_uri": "https://localhost:8080/"
        },
        "id": "zKOftMdt4WJb",
        "outputId": "0161eb59-020f-4b6c-ad43-a0579db4a20d"
      },
      "execution_count": null,
      "outputs": [
        {
          "output_type": "stream",
          "name": "stdout",
          "text": [
            "Cloning into 'iNotePal'...\n",
            "remote: Enumerating objects: 1774, done.\u001b[K\n",
            "remote: Counting objects: 100% (246/246), done.\u001b[K\n",
            "remote: Compressing objects: 100% (111/111), done.\u001b[K\n",
            "remote: Total 1774 (delta 150), reused 171 (delta 117), pack-reused 1528\u001b[K\n",
            "Receiving objects: 100% (1774/1774), 16.21 MiB | 26.42 MiB/s, done.\n",
            "Resolving deltas: 100% (1010/1010), done.\n"
          ]
        }
      ]
    },
    {
      "cell_type": "code",
      "source": [
        "%cd iNotePal/app"
      ],
      "metadata": {
        "colab": {
          "base_uri": "https://localhost:8080/"
        },
        "id": "bJzufFgt4cVr",
        "outputId": "22f4fb81-f9bf-4cf5-f94b-b4a8f82f783a"
      },
      "execution_count": null,
      "outputs": [
        {
          "output_type": "stream",
          "name": "stdout",
          "text": [
            "/content/iNotePal/app\n"
          ]
        }
      ]
    },
    {
      "cell_type": "code",
      "source": [
        "!./deploy/init.sh"
      ],
      "metadata": {
        "id": "hrHjOcq6NHKl",
        "outputId": "2a14297a-375a-4bdd-c398-0e89843b75c7",
        "colab": {
          "base_uri": "https://localhost:8080/"
        }
      },
      "execution_count": null,
      "outputs": [
        {
          "output_type": "stream",
          "name": "stdout",
          "text": [
            "./deploy/init.sh: 3: asdf: not found\n",
            "Collecting bcrypt==4.1.2\n",
            "  Using cached bcrypt-4.1.2-cp39-abi3-manylinux_2_28_x86_64.whl (698 kB)\n",
            "Collecting openai==1.20.0\n",
            "  Using cached openai-1.20.0-py3-none-any.whl (292 kB)\n",
            "Collecting PyJWT==2.8.0\n",
            "  Using cached PyJWT-2.8.0-py3-none-any.whl (22 kB)\n",
            "Collecting python-dotenv==1.0.1\n",
            "  Using cached python_dotenv-1.0.1-py3-none-any.whl (19 kB)\n",
            "Collecting reflex==0.4.9\n",
            "  Using cached reflex-0.4.9-py3-none-any.whl (780 kB)\n",
            "Collecting scikit-learn==1.2.2\n",
            "  Using cached scikit_learn-1.2.2-cp310-cp310-manylinux_2_17_x86_64.manylinux2014_x86_64.whl (9.6 MB)\n",
            "Collecting supabase==2.4.3\n",
            "  Using cached supabase-2.4.3-py3-none-any.whl (15 kB)\n",
            "Collecting tensorflow==2.15.0\n",
            "  Using cached tensorflow-2.15.0-cp310-cp310-manylinux_2_17_x86_64.manylinux2014_x86_64.whl (475.2 MB)\n",
            "Collecting reflex-calendar==0.0.4\n",
            "  Using cached reflex_calendar-0.0.4-py3-none-any.whl (5.8 kB)\n",
            "Collecting torch==2.2.2\n",
            "  Using cached torch-2.2.2-cp310-cp310-manylinux1_x86_64.whl (755.5 MB)\n",
            "Collecting torchaudio==2.2.2\n",
            "  Using cached torchaudio-2.2.2-cp310-cp310-manylinux1_x86_64.whl (3.3 MB)\n",
            "Collecting torchvision==0.17.2\n",
            "  Using cached torchvision-0.17.2-cp310-cp310-manylinux1_x86_64.whl (6.9 MB)\n",
            "Collecting transformers==4.40.1\n",
            "  Using cached transformers-4.40.1-py3-none-any.whl (9.0 MB)\n",
            "Collecting sentence-transformers==2.7.0\n",
            "  Using cached sentence_transformers-2.7.0-py3-none-any.whl (171 kB)\n",
            "Collecting anyio<5,>=3.5.0\n",
            "  Using cached anyio-4.3.0-py3-none-any.whl (85 kB)\n",
            "Collecting sniffio\n",
            "  Using cached sniffio-1.3.1-py3-none-any.whl (10 kB)\n",
            "Collecting tqdm>4\n",
            "  Using cached tqdm-4.66.2-py3-none-any.whl (78 kB)\n",
            "Collecting pydantic<3,>=1.9.0\n",
            "  Using cached pydantic-2.7.1-py3-none-any.whl (409 kB)\n",
            "Collecting httpx<1,>=0.23.0\n",
            "  Using cached httpx-0.27.0-py3-none-any.whl (75 kB)\n",
            "Collecting distro<2,>=1.7.0\n",
            "  Using cached distro-1.9.0-py3-none-any.whl (20 kB)\n",
            "Collecting typing-extensions<5,>=4.7\n",
            "  Using cached typing_extensions-4.11.0-py3-none-any.whl (34 kB)\n",
            "Collecting packaging<25.0,>=23.1\n",
            "  Using cached packaging-24.0-py3-none-any.whl (53 kB)\n",
            "Collecting typer<1.0,>=0.4.2\n",
            "  Using cached typer-0.12.3-py3-none-any.whl (47 kB)\n",
            "Collecting dill<0.4,>=0.3.8\n",
            "  Using cached dill-0.3.8-py3-none-any.whl (116 kB)\n",
            "Collecting python-engineio!=4.6.0\n",
            "  Using cached python_engineio-4.9.0-py3-none-any.whl (57 kB)\n",
            "Collecting jinja2<4.0,>=3.1.2\n",
            "  Using cached Jinja2-3.1.3-py3-none-any.whl (133 kB)\n",
            "Collecting wheel<1.0,>=0.42.0\n",
            "  Using cached wheel-0.43.0-py3-none-any.whl (65 kB)\n",
            "Collecting tomlkit<1.0,>=0.12.4\n",
            "  Using cached tomlkit-0.12.4-py3-none-any.whl (37 kB)\n",
            "Collecting redis<6.0,>=4.3.5\n",
            "  Using cached redis-5.0.4-py3-none-any.whl (251 kB)\n",
            "Collecting uvicorn<0.21.0,>=0.20.0\n",
            "  Using cached uvicorn-0.20.0-py3-none-any.whl (56 kB)\n",
            "Collecting twine<6.0,>=4.0.0\n",
            "  Using cached twine-5.0.0-py3-none-any.whl (37 kB)\n",
            "Collecting build<2.0,>=1.0.3\n",
            "  Using cached build-1.2.1-py3-none-any.whl (21 kB)\n",
            "Collecting python-socketio<6.0,>=5.7.0\n",
            "  Using cached python_socketio-5.11.2-py3-none-any.whl (75 kB)\n",
            "Collecting sqlmodel<0.1,>=0.0.14\n",
            "  Using cached sqlmodel-0.0.18-py3-none-any.whl (26 kB)\n",
            "Collecting reflex-hosting-cli<2.0,>=0.1.2\n",
            "  Using cached reflex_hosting_cli-0.1.13-py3-none-any.whl (32 kB)\n",
            "Collecting fastapi<1.0,>=0.96.0\n",
            "  Using cached fastapi-0.110.3-py3-none-any.whl (91 kB)\n",
            "Collecting setuptools<70.0,>=69.1.1\n",
            "  Using cached setuptools-69.5.1-py3-none-any.whl (894 kB)\n",
            "Collecting watchfiles<1.0,>=0.19.0\n",
            "  Using cached watchfiles-0.21.0-cp310-cp310-manylinux_2_17_x86_64.manylinux2014_x86_64.whl (1.3 MB)\n",
            "Collecting python-multipart<0.1,>=0.0.5\n",
            "  Using cached python_multipart-0.0.9-py3-none-any.whl (22 kB)\n",
            "Collecting rich<14.0,>=13.0.0\n",
            "  Using cached rich-13.7.1-py3-none-any.whl (240 kB)\n",
            "Collecting wrapt<2.0,>=1.11.0\n",
            "  Using cached wrapt-1.16.0-cp310-cp310-manylinux_2_5_x86_64.manylinux1_x86_64.manylinux_2_17_x86_64.manylinux2014_x86_64.whl (80 kB)\n",
            "Collecting starlette-admin<1.0,>=0.11.0\n",
            "  Using cached starlette_admin-0.13.2-py3-none-any.whl (2.2 MB)\n",
            "Collecting watchdog<5.0,>=2.3.1\n",
            "  Using cached watchdog-4.0.0-py3-none-manylinux2014_x86_64.whl (82 kB)\n",
            "Collecting gunicorn<22.0,>=20.1.0\n",
            "  Using cached gunicorn-21.2.0-py3-none-any.whl (80 kB)\n",
            "Collecting platformdirs<5.0,>=3.10.0\n",
            "  Using cached platformdirs-4.2.1-py3-none-any.whl (17 kB)\n",
            "Collecting alembic<2.0,>=1.11.1\n",
            "  Using cached alembic-1.13.1-py3-none-any.whl (233 kB)\n",
            "Collecting charset-normalizer<4.0,>=3.3.2\n",
            "  Using cached charset_normalizer-3.3.2-cp310-cp310-manylinux_2_17_x86_64.manylinux2014_x86_64.whl (142 kB)\n",
            "Collecting psutil<6.0,>=5.9.4\n",
            "  Using cached psutil-5.9.8-cp36-abi3-manylinux_2_12_x86_64.manylinux2010_x86_64.manylinux_2_17_x86_64.manylinux2014_x86_64.whl (288 kB)\n",
            "Collecting threadpoolctl>=2.0.0\n",
            "  Using cached threadpoolctl-3.5.0-py3-none-any.whl (18 kB)\n",
            "Collecting numpy>=1.17.3\n",
            "  Using cached numpy-1.26.4-cp310-cp310-manylinux_2_17_x86_64.manylinux2014_x86_64.whl (18.2 MB)\n",
            "Collecting scipy>=1.3.2\n",
            "  Using cached scipy-1.13.0-cp310-cp310-manylinux_2_17_x86_64.manylinux2014_x86_64.whl (38.6 MB)\n",
            "Collecting joblib>=1.1.1\n",
            "  Using cached joblib-1.4.0-py3-none-any.whl (301 kB)\n",
            "Collecting supafunc<0.5.0,>=0.3.1\n",
            "  Using cached supafunc-0.4.5-py3-none-any.whl (6.1 kB)\n",
            "Collecting gotrue<3.0,>=1.3\n",
            "  Using cached gotrue-2.4.2-py3-none-any.whl (44 kB)\n",
            "Collecting realtime<2.0.0,>=1.0.0\n",
            "  Using cached realtime-1.0.4-py3-none-any.whl (8.9 kB)\n",
            "Collecting postgrest<0.17.0,>=0.14\n",
            "  Using cached postgrest-0.16.4-py3-none-any.whl (20 kB)\n",
            "Collecting storage3<0.8.0,>=0.5.3\n",
            "  Using cached storage3-0.7.4-py3-none-any.whl (15 kB)\n",
            "Collecting protobuf!=4.21.0,!=4.21.1,!=4.21.2,!=4.21.3,!=4.21.4,!=4.21.5,<5.0.0dev,>=3.20.3\n",
            "  Using cached protobuf-4.25.3-cp37-abi3-manylinux2014_x86_64.whl (294 kB)\n",
            "Collecting tensorflow-estimator<2.16,>=2.15.0\n",
            "  Using cached tensorflow_estimator-2.15.0-py2.py3-none-any.whl (441 kB)\n",
            "Collecting termcolor>=1.1.0\n",
            "  Using cached termcolor-2.4.0-py3-none-any.whl (7.7 kB)\n",
            "Collecting tensorflow-io-gcs-filesystem>=0.23.1\n",
            "  Using cached tensorflow_io_gcs_filesystem-0.37.0-cp310-cp310-manylinux_2_17_x86_64.manylinux2014_x86_64.whl (5.1 MB)\n",
            "Collecting six>=1.12.0\n",
            "  Using cached six-1.16.0-py2.py3-none-any.whl (11 kB)\n",
            "Collecting wrapt<2.0,>=1.11.0\n",
            "  Using cached wrapt-1.14.1-cp310-cp310-manylinux_2_5_x86_64.manylinux1_x86_64.manylinux_2_17_x86_64.manylinux2014_x86_64.whl (77 kB)\n",
            "Collecting keras<2.16,>=2.15.0\n",
            "  Using cached keras-2.15.0-py3-none-any.whl (1.7 MB)\n",
            "Collecting flatbuffers>=23.5.26\n",
            "  Using cached flatbuffers-24.3.25-py2.py3-none-any.whl (26 kB)\n",
            "Collecting libclang>=13.0.0\n",
            "  Using cached libclang-18.1.1-py2.py3-none-manylinux2010_x86_64.whl (24.5 MB)\n",
            "Collecting ml-dtypes~=0.2.0\n",
            "  Using cached ml_dtypes-0.2.0-cp310-cp310-manylinux_2_17_x86_64.manylinux2014_x86_64.whl (1.0 MB)\n",
            "Collecting h5py>=2.9.0\n",
            "  Using cached h5py-3.11.0-cp310-cp310-manylinux_2_17_x86_64.manylinux2014_x86_64.whl (5.3 MB)\n",
            "Collecting tensorboard<2.16,>=2.15\n",
            "  Using cached tensorboard-2.15.2-py3-none-any.whl (5.5 MB)\n",
            "Collecting opt-einsum>=2.3.2\n",
            "  Using cached opt_einsum-3.3.0-py3-none-any.whl (65 kB)\n",
            "Collecting absl-py>=1.0.0\n",
            "  Using cached absl_py-2.1.0-py3-none-any.whl (133 kB)\n",
            "Collecting google-pasta>=0.1.1\n",
            "  Using cached google_pasta-0.2.0-py3-none-any.whl (57 kB)\n",
            "Collecting gast!=0.5.0,!=0.5.1,!=0.5.2,>=0.2.1\n",
            "  Using cached gast-0.5.4-py3-none-any.whl (19 kB)\n",
            "Collecting astunparse>=1.6.0\n",
            "  Using cached astunparse-1.6.3-py2.py3-none-any.whl (12 kB)\n",
            "Collecting grpcio<2.0,>=1.24.3\n",
            "  Using cached grpcio-1.63.0-cp310-cp310-manylinux_2_17_x86_64.manylinux2014_x86_64.whl (5.6 MB)\n",
            "Collecting sympy\n",
            "  Using cached sympy-1.12-py3-none-any.whl (5.7 MB)\n",
            "Collecting nvidia-cufft-cu12==11.0.2.54\n",
            "  Using cached nvidia_cufft_cu12-11.0.2.54-py3-none-manylinux1_x86_64.whl (121.6 MB)\n",
            "Collecting nvidia-nccl-cu12==2.19.3\n",
            "  Using cached nvidia_nccl_cu12-2.19.3-py3-none-manylinux1_x86_64.whl (166.0 MB)\n",
            "Collecting nvidia-curand-cu12==10.3.2.106\n",
            "  Using cached nvidia_curand_cu12-10.3.2.106-py3-none-manylinux1_x86_64.whl (56.5 MB)\n",
            "Collecting nvidia-cusparse-cu12==12.1.0.106\n",
            "  Using cached nvidia_cusparse_cu12-12.1.0.106-py3-none-manylinux1_x86_64.whl (196.0 MB)\n",
            "Collecting nvidia-cudnn-cu12==8.9.2.26\n",
            "  Using cached nvidia_cudnn_cu12-8.9.2.26-py3-none-manylinux1_x86_64.whl (731.7 MB)\n",
            "Collecting filelock\n",
            "  Using cached filelock-3.14.0-py3-none-any.whl (12 kB)\n",
            "Collecting fsspec\n",
            "  Using cached fsspec-2024.3.1-py3-none-any.whl (171 kB)\n",
            "Collecting nvidia-cuda-nvrtc-cu12==12.1.105\n",
            "  Using cached nvidia_cuda_nvrtc_cu12-12.1.105-py3-none-manylinux1_x86_64.whl (23.7 MB)\n",
            "Collecting nvidia-cuda-runtime-cu12==12.1.105\n",
            "  Using cached nvidia_cuda_runtime_cu12-12.1.105-py3-none-manylinux1_x86_64.whl (823 kB)\n",
            "Collecting nvidia-cuda-cupti-cu12==12.1.105\n",
            "  Using cached nvidia_cuda_cupti_cu12-12.1.105-py3-none-manylinux1_x86_64.whl (14.1 MB)\n",
            "Collecting nvidia-cublas-cu12==12.1.3.1\n",
            "  Using cached nvidia_cublas_cu12-12.1.3.1-py3-none-manylinux1_x86_64.whl (410.6 MB)\n",
            "Collecting nvidia-cusolver-cu12==11.4.5.107\n",
            "  Using cached nvidia_cusolver_cu12-11.4.5.107-py3-none-manylinux1_x86_64.whl (124.2 MB)\n",
            "Collecting nvidia-nvtx-cu12==12.1.105\n",
            "  Using cached nvidia_nvtx_cu12-12.1.105-py3-none-manylinux1_x86_64.whl (99 kB)\n",
            "Collecting triton==2.2.0\n",
            "  Using cached triton-2.2.0-cp310-cp310-manylinux_2_17_x86_64.manylinux2014_x86_64.whl (167.9 MB)\n",
            "Collecting networkx\n",
            "  Using cached networkx-3.3-py3-none-any.whl (1.7 MB)\n",
            "Collecting pillow!=8.3.*,>=5.3.0\n",
            "  Using cached pillow-10.3.0-cp310-cp310-manylinux_2_28_x86_64.whl (4.5 MB)\n",
            "Collecting safetensors>=0.4.1\n",
            "  Using cached safetensors-0.4.3-cp310-cp310-manylinux_2_17_x86_64.manylinux2014_x86_64.whl (1.2 MB)\n",
            "Collecting requests\n",
            "  Using cached requests-2.31.0-py3-none-any.whl (62 kB)\n",
            "Collecting tokenizers<0.20,>=0.19\n",
            "  Using cached tokenizers-0.19.1-cp310-cp310-manylinux_2_17_x86_64.manylinux2014_x86_64.whl (3.6 MB)\n",
            "Collecting pyyaml>=5.1\n",
            "  Using cached PyYAML-6.0.1-cp310-cp310-manylinux_2_17_x86_64.manylinux2014_x86_64.whl (705 kB)\n",
            "Collecting regex!=2019.12.17\n",
            "  Using cached regex-2024.4.28-cp310-cp310-manylinux_2_17_x86_64.manylinux2014_x86_64.whl (774 kB)\n",
            "Collecting huggingface-hub<1.0,>=0.19.3\n",
            "  Using cached huggingface_hub-0.22.2-py3-none-any.whl (388 kB)\n",
            "Collecting nvidia-nvjitlink-cu12\n",
            "  Using cached nvidia_nvjitlink_cu12-12.4.127-py3-none-manylinux2014_x86_64.whl (21.1 MB)\n",
            "Collecting Mako\n",
            "  Using cached Mako-1.3.3-py3-none-any.whl (78 kB)\n",
            "Collecting SQLAlchemy>=1.3.0\n",
            "  Using cached SQLAlchemy-2.0.29-cp310-cp310-manylinux_2_17_x86_64.manylinux2014_x86_64.whl (3.1 MB)\n",
            "Collecting idna>=2.8\n",
            "  Using cached idna-3.7-py3-none-any.whl (66 kB)\n",
            "Collecting exceptiongroup>=1.0.2\n",
            "  Using cached exceptiongroup-1.2.1-py3-none-any.whl (16 kB)\n",
            "Collecting pyproject_hooks\n",
            "  Using cached pyproject_hooks-1.1.0-py3-none-any.whl (9.2 kB)\n",
            "Collecting tomli>=1.1.0\n",
            "  Using cached tomli-2.0.1-py3-none-any.whl (12 kB)\n",
            "Collecting starlette<0.38.0,>=0.37.2\n",
            "  Using cached starlette-0.37.2-py3-none-any.whl (71 kB)\n",
            "Collecting httpcore==1.*\n",
            "  Using cached httpcore-1.0.5-py3-none-any.whl (77 kB)\n",
            "Collecting certifi\n",
            "  Using cached certifi-2024.2.2-py3-none-any.whl (163 kB)\n",
            "Collecting h11<0.15,>=0.13\n",
            "  Using cached h11-0.14.0-py3-none-any.whl (58 kB)\n",
            "Collecting MarkupSafe>=2.0\n",
            "  Using cached MarkupSafe-2.1.5-cp310-cp310-manylinux_2_17_x86_64.manylinux2014_x86_64.whl (25 kB)\n",
            "Collecting deprecation<3.0.0,>=2.1.0\n",
            "  Using cached deprecation-2.1.0-py2.py3-none-any.whl (11 kB)\n",
            "Collecting strenum<0.5.0,>=0.4.9\n",
            "  Using cached StrEnum-0.4.15-py3-none-any.whl (8.9 kB)\n",
            "Collecting annotated-types>=0.4.0\n",
            "  Using cached annotated_types-0.6.0-py3-none-any.whl (12 kB)\n",
            "Collecting pydantic-core==2.18.2\n",
            "  Using cached pydantic_core-2.18.2-cp310-cp310-manylinux_2_17_x86_64.manylinux2014_x86_64.whl (2.1 MB)\n",
            "Collecting simple-websocket>=0.10.0\n",
            "  Using cached simple_websocket-1.0.0-py3-none-any.whl (13 kB)\n",
            "Collecting bidict>=0.21.0\n",
            "  Using cached bidict-0.23.1-py3-none-any.whl (32 kB)\n",
            "Collecting python-dateutil<3.0.0,>=2.8.1\n",
            "  Using cached python_dateutil-2.9.0.post0-py2.py3-none-any.whl (229 kB)\n",
            "Collecting websockets<13,>=11\n",
            "  Using cached websockets-12.0-cp310-cp310-manylinux_2_5_x86_64.manylinux1_x86_64.manylinux_2_17_x86_64.manylinux2014_x86_64.whl (130 kB)\n",
            "Collecting async-timeout>=4.0.3\n",
            "  Using cached async_timeout-4.0.3-py3-none-any.whl (5.7 kB)\n",
            "Collecting tabulate<0.10.0,>=0.9.0\n",
            "  Using cached tabulate-0.9.0-py3-none-any.whl (35 kB)\n",
            "Collecting pipdeptree<2.17.0,>=2.13.1\n",
            "  Using cached pipdeptree-2.16.2-py3-none-any.whl (27 kB)\n",
            "Collecting markdown-it-py>=2.2.0\n",
            "  Using cached markdown_it_py-3.0.0-py3-none-any.whl (87 kB)\n",
            "Collecting pygments<3.0.0,>=2.13.0\n",
            "  Using cached pygments-2.17.2-py3-none-any.whl (1.2 MB)\n",
            "Collecting markdown>=2.6.8\n",
            "  Using cached Markdown-3.6-py3-none-any.whl (105 kB)\n",
            "Collecting tensorboard-data-server<0.8.0,>=0.7.0\n",
            "  Using cached tensorboard_data_server-0.7.2-py3-none-manylinux_2_31_x86_64.whl (6.6 MB)\n",
            "Collecting google-auth<3,>=1.6.3\n",
            "  Using cached google_auth-2.29.0-py2.py3-none-any.whl (189 kB)\n",
            "Collecting google-auth-oauthlib<2,>=0.5\n",
            "  Using cached google_auth_oauthlib-1.2.0-py2.py3-none-any.whl (24 kB)\n",
            "Collecting werkzeug>=1.0.1\n",
            "  Using cached werkzeug-3.0.2-py3-none-any.whl (226 kB)\n",
            "Collecting urllib3<3,>=1.21.1\n",
            "  Using cached urllib3-2.2.1-py3-none-any.whl (121 kB)\n",
            "Collecting rfc3986>=1.4.0\n",
            "  Using cached rfc3986-2.0.0-py2.py3-none-any.whl (31 kB)\n",
            "Collecting pkginfo>=1.8.1\n",
            "  Using cached pkginfo-1.10.0-py3-none-any.whl (30 kB)\n",
            "Collecting importlib-metadata>=3.6\n",
            "  Using cached importlib_metadata-7.1.0-py3-none-any.whl (24 kB)\n",
            "Collecting requests-toolbelt!=0.9.0,>=0.8.0\n",
            "  Using cached requests_toolbelt-1.0.0-py2.py3-none-any.whl (54 kB)\n",
            "Collecting readme-renderer>=35.0\n",
            "  Using cached readme_renderer-43.0-py3-none-any.whl (13 kB)\n",
            "Collecting keyring>=15.1\n",
            "  Using cached keyring-25.2.0-py3-none-any.whl (38 kB)\n",
            "Collecting shellingham>=1.3.0\n",
            "  Using cached shellingham-1.5.4-py2.py3-none-any.whl (9.8 kB)\n",
            "Collecting click>=8.0.0\n",
            "  Using cached click-8.1.7-py3-none-any.whl (97 kB)\n",
            "Collecting mpmath>=0.19\n",
            "  Using cached mpmath-1.3.0-py3-none-any.whl (536 kB)\n",
            "Collecting rsa<5,>=3.1.4\n",
            "  Using cached rsa-4.9-py3-none-any.whl (34 kB)\n",
            "Collecting cachetools<6.0,>=2.0.0\n",
            "  Using cached cachetools-5.3.3-py3-none-any.whl (9.3 kB)\n",
            "Collecting pyasn1-modules>=0.2.1\n",
            "  Using cached pyasn1_modules-0.4.0-py3-none-any.whl (181 kB)\n",
            "Collecting requests-oauthlib>=0.7.0\n",
            "  Using cached requests_oauthlib-2.0.0-py2.py3-none-any.whl (24 kB)\n",
            "Collecting zipp>=0.5\n",
            "  Using cached zipp-3.18.1-py3-none-any.whl (8.2 kB)\n",
            "Collecting SecretStorage>=3.2\n",
            "  Using cached SecretStorage-3.3.3-py3-none-any.whl (15 kB)\n",
            "Collecting jaraco.classes\n",
            "  Using cached jaraco.classes-3.4.0-py3-none-any.whl (6.8 kB)\n",
            "Collecting jaraco.context\n",
            "  Using cached jaraco.context-5.3.0-py3-none-any.whl (6.5 kB)\n",
            "Collecting jeepney>=0.4.2\n",
            "  Using cached jeepney-0.8.0-py3-none-any.whl (48 kB)\n",
            "Collecting jaraco.functools\n",
            "  Using cached jaraco.functools-4.0.1-py3-none-any.whl (9.8 kB)\n",
            "Collecting mdurl~=0.1\n",
            "  Using cached mdurl-0.1.2-py3-none-any.whl (10.0 kB)\n",
            "Collecting pip>=23.1.2\n",
            "  Using cached pip-24.0-py3-none-any.whl (2.1 MB)\n",
            "Collecting nh3>=0.2.14\n",
            "  Using cached nh3-0.2.17-cp37-abi3-manylinux_2_17_x86_64.manylinux2014_x86_64.whl (777 kB)\n",
            "Collecting docutils>=0.13.1\n",
            "  Using cached docutils-0.21.2-py3-none-any.whl (587 kB)\n",
            "Collecting wsproto\n",
            "  Using cached wsproto-1.2.0-py3-none-any.whl (24 kB)\n",
            "Collecting greenlet!=0.4.17\n",
            "  Using cached greenlet-3.0.3-cp310-cp310-manylinux_2_24_x86_64.manylinux_2_28_x86_64.whl (616 kB)\n",
            "Collecting pyasn1<0.7.0,>=0.4.6\n",
            "  Using cached pyasn1-0.6.0-py2.py3-none-any.whl (85 kB)\n",
            "Collecting oauthlib>=3.0.0\n",
            "  Using cached oauthlib-3.2.2-py3-none-any.whl (151 kB)\n",
            "Collecting cryptography>=2.0\n",
            "  Using cached cryptography-42.0.5-cp39-abi3-manylinux_2_28_x86_64.whl (4.6 MB)\n",
            "Collecting more-itertools\n",
            "  Using cached more_itertools-10.2.0-py3-none-any.whl (57 kB)\n",
            "Collecting backports.tarfile\n",
            "  Using cached backports.tarfile-1.1.1-py3-none-any.whl (29 kB)\n",
            "Collecting cffi>=1.12\n",
            "  Using cached cffi-1.16.0-cp310-cp310-manylinux_2_17_x86_64.manylinux2014_x86_64.whl (443 kB)\n",
            "Collecting pycparser\n",
            "  Using cached pycparser-2.22-py3-none-any.whl (117 kB)\n",
            "Installing collected packages: strenum, nh3, mpmath, libclang, flatbuffers, zipp, wrapt, wheel, websockets, watchdog, urllib3, typing-extensions, tqdm, tomlkit, tomli, threadpoolctl, termcolor, tensorflow-io-gcs-filesystem, tensorflow-estimator, tensorboard-data-server, tabulate, sympy, sniffio, six, shellingham, setuptools, safetensors, rfc3986, regex, pyyaml, python-multipart, python-dotenv, pyproject_hooks, PyJWT, pygments, pycparser, pyasn1, psutil, protobuf, platformdirs, pkginfo, pip, pillow, packaging, oauthlib, nvidia-nvtx-cu12, nvidia-nvjitlink-cu12, nvidia-nccl-cu12, nvidia-curand-cu12, nvidia-cufft-cu12, nvidia-cuda-runtime-cu12, nvidia-cuda-nvrtc-cu12, nvidia-cuda-cupti-cu12, nvidia-cublas-cu12, numpy, networkx, more-itertools, mdurl, MarkupSafe, markdown, keras, joblib, jeepney, idna, h11, grpcio, greenlet, gast, fsspec, filelock, exceptiongroup, docutils, distro, dill, click, charset-normalizer, certifi, cachetools, bidict, bcrypt, backports.tarfile, async-timeout, annotated-types, absl-py, wsproto, werkzeug, uvicorn, triton, SQLAlchemy, scipy, rsa, requests, redis, readme-renderer, python-dateutil, pydantic-core, pyasn1-modules, pipdeptree, opt-einsum, nvidia-cusparse-cu12, nvidia-cudnn-cu12, ml-dtypes, markdown-it-py, Mako, jinja2, jaraco.functools, jaraco.context, jaraco.classes, importlib-metadata, httpcore, h5py, gunicorn, google-pasta, deprecation, cffi, build, astunparse, anyio, watchfiles, starlette, simple-websocket, scikit-learn, rich, requests-toolbelt, requests-oauthlib, realtime, pydantic, nvidia-cusolver-cu12, huggingface-hub, httpx, google-auth, cryptography, alembic, typer, torch, tokenizers, supafunc, storage3, starlette-admin, sqlmodel, SecretStorage, python-engineio, postgrest, openai, gotrue, google-auth-oauthlib, fastapi, transformers, torchvision, torchaudio, tensorboard, supabase, reflex-hosting-cli, python-socketio, keyring, twine, tensorflow, sentence-transformers, reflex, reflex-calendar\n",
            "  Attempting uninstall: setuptools\n",
            "    Found existing installation: setuptools 59.6.0\n",
            "    Uninstalling setuptools-59.6.0:\n",
            "      Successfully uninstalled setuptools-59.6.0\n",
            "  Attempting uninstall: pip\n",
            "    Found existing installation: pip 22.0.2\n",
            "    Uninstalling pip-22.0.2:\n",
            "      Successfully uninstalled pip-22.0.2\n",
            "Successfully installed Mako-1.3.3 MarkupSafe-2.1.5 PyJWT-2.8.0 SQLAlchemy-2.0.29 SecretStorage-3.3.3 absl-py-2.1.0 alembic-1.13.1 annotated-types-0.6.0 anyio-4.3.0 astunparse-1.6.3 async-timeout-4.0.3 backports.tarfile-1.1.1 bcrypt-4.1.2 bidict-0.23.1 build-1.2.1 cachetools-5.3.3 certifi-2024.2.2 cffi-1.16.0 charset-normalizer-3.3.2 click-8.1.7 cryptography-42.0.5 deprecation-2.1.0 dill-0.3.8 distro-1.9.0 docutils-0.21.2 exceptiongroup-1.2.1 fastapi-0.110.3 filelock-3.14.0 flatbuffers-24.3.25 fsspec-2024.3.1 gast-0.5.4 google-auth-2.29.0 google-auth-oauthlib-1.2.0 google-pasta-0.2.0 gotrue-2.4.2 greenlet-3.0.3 grpcio-1.63.0 gunicorn-21.2.0 h11-0.14.0 h5py-3.11.0 httpcore-1.0.5 httpx-0.27.0 huggingface-hub-0.22.2 idna-3.7 importlib-metadata-7.1.0 jaraco.classes-3.4.0 jaraco.context-5.3.0 jaraco.functools-4.0.1 jeepney-0.8.0 jinja2-3.1.3 joblib-1.4.0 keras-2.15.0 keyring-25.2.0 libclang-18.1.1 markdown-3.6 markdown-it-py-3.0.0 mdurl-0.1.2 ml-dtypes-0.2.0 more-itertools-10.2.0 mpmath-1.3.0 networkx-3.3 nh3-0.2.17 numpy-1.26.4 nvidia-cublas-cu12-12.1.3.1 nvidia-cuda-cupti-cu12-12.1.105 nvidia-cuda-nvrtc-cu12-12.1.105 nvidia-cuda-runtime-cu12-12.1.105 nvidia-cudnn-cu12-8.9.2.26 nvidia-cufft-cu12-11.0.2.54 nvidia-curand-cu12-10.3.2.106 nvidia-cusolver-cu12-11.4.5.107 nvidia-cusparse-cu12-12.1.0.106 nvidia-nccl-cu12-2.19.3 nvidia-nvjitlink-cu12-12.4.127 nvidia-nvtx-cu12-12.1.105 oauthlib-3.2.2 openai-1.20.0 opt-einsum-3.3.0 packaging-24.0 pillow-10.3.0 pip-24.0 pipdeptree-2.16.2 pkginfo-1.10.0 platformdirs-4.2.1 postgrest-0.16.4 protobuf-4.25.3 psutil-5.9.8 pyasn1-0.6.0 pyasn1-modules-0.4.0 pycparser-2.22 pydantic-2.7.1 pydantic-core-2.18.2 pygments-2.17.2 pyproject_hooks-1.1.0 python-dateutil-2.9.0.post0 python-dotenv-1.0.1 python-engineio-4.9.0 python-multipart-0.0.9 python-socketio-5.11.2 pyyaml-6.0.1 readme-renderer-43.0 realtime-1.0.4 redis-5.0.4 reflex-0.4.9 reflex-calendar-0.0.4 reflex-hosting-cli-0.1.13 regex-2024.4.28 requests-2.31.0 requests-oauthlib-2.0.0 requests-toolbelt-1.0.0 rfc3986-2.0.0 rich-13.7.1 rsa-4.9 safetensors-0.4.3 scikit-learn-1.2.2 scipy-1.13.0 sentence-transformers-2.7.0 setuptools-69.5.1 shellingham-1.5.4 simple-websocket-1.0.0 six-1.16.0 sniffio-1.3.1 sqlmodel-0.0.18 starlette-0.37.2 starlette-admin-0.13.2 storage3-0.7.4 strenum-0.4.15 supabase-2.4.3 supafunc-0.4.5 sympy-1.12 tabulate-0.9.0 tensorboard-2.15.2 tensorboard-data-server-0.7.2 tensorflow-2.15.0 tensorflow-estimator-2.15.0 tensorflow-io-gcs-filesystem-0.37.0 termcolor-2.4.0 threadpoolctl-3.5.0 tokenizers-0.19.1 tomli-2.0.1 tomlkit-0.12.4 torch-2.2.2 torchaudio-2.2.2 torchvision-0.17.2 tqdm-4.66.2 transformers-4.40.1 triton-2.2.0 twine-5.0.0 typer-0.12.3 typing-extensions-4.11.0 urllib3-2.2.1 uvicorn-0.20.0 watchdog-4.0.0 watchfiles-0.21.0 websockets-12.0 werkzeug-3.0.2 wheel-0.43.0 wrapt-1.14.1 wsproto-1.2.0 zipp-3.18.1\n"
          ]
        }
      ]
    },
    {
      "cell_type": "code",
      "source": [
        "!./deploy/build.sh"
      ],
      "metadata": {
        "id": "EVQtTeDw_wfM",
        "outputId": "36584663-ec98-4f4a-cab8-f5a6ab84e673",
        "colab": {
          "base_uri": "https://localhost:8080/"
        }
      },
      "execution_count": null,
      "outputs": [
        {
          "output_type": "stream",
          "name": "stdout",
          "text": [
            "\u001b[92m───────────────────────────────────────── \u001b[0m\u001b[1mInitializing app\u001b[0m\u001b[92m ─────────────────────────────────────────\u001b[0m\n",
            "\u001b[2;36m[00:51:19]\u001b[0m\u001b[2;36m \u001b[0mPrior to reflex \u001b[1;36m0.4\u001b[0m.\u001b[1;36m0\u001b[0m, rx.* components are based on Chakra UI. They are now \u001b]8;id=912616;file:///content/iNotePal/app/.venv/lib/python3.10/site-packages/reflex/utils/console.py\u001b\\\u001b[2mconsole.py\u001b[0m\u001b]8;;\u001b\\\u001b[2m:\u001b[0m\u001b]8;id=169699;file:///content/iNotePal/app/.venv/lib/python3.10/site-packages/reflex/utils/console.py#95\u001b\\\u001b[2m95\u001b[0m\u001b]8;;\u001b\\\n",
            "\u001b[2;36m           \u001b[0mbased on Radix UI. To stick to Chakra UI, use rx.chakra.*.                  \u001b[2m             \u001b[0m\n",
            "\u001b[2;36m          \u001b[0m\u001b[2;36m \u001b[0m                                                                            \u001b]8;id=376252;file:///content/iNotePal/app/.venv/lib/python3.10/site-packages/reflex/utils/console.py\u001b\\\u001b[2mconsole.py\u001b[0m\u001b]8;;\u001b\\\u001b[2m:\u001b[0m\u001b]8;id=820835;file:///content/iNotePal/app/.venv/lib/python3.10/site-packages/reflex/utils/console.py#95\u001b\\\u001b[2m95\u001b[0m\u001b]8;;\u001b\\\n",
            "\u001b[2;36m          \u001b[0m\u001b[2;36m \u001b[0m\u001b[1mRun `reflex script keep-chakra` to automatically update your app.\u001b[0m           \u001b]8;id=200327;file:///content/iNotePal/app/.venv/lib/python3.10/site-packages/reflex/utils/console.py\u001b\\\u001b[2mconsole.py\u001b[0m\u001b]8;;\u001b\\\u001b[2m:\u001b[0m\u001b]8;id=488240;file:///content/iNotePal/app/.venv/lib/python3.10/site-packages/reflex/utils/console.py#95\u001b\\\u001b[2m95\u001b[0m\u001b]8;;\u001b\\\n",
            "\u001b[2;36m          \u001b[0m\u001b[2;36m \u001b[0m                                                                            \u001b]8;id=500998;file:///content/iNotePal/app/.venv/lib/python3.10/site-packages/reflex/utils/console.py\u001b\\\u001b[2mconsole.py\u001b[0m\u001b]8;;\u001b\\\u001b[2m:\u001b[0m\u001b]8;id=883201;file:///content/iNotePal/app/.venv/lib/python3.10/site-packages/reflex/utils/console.py#95\u001b\\\u001b[2m95\u001b[0m\u001b]8;;\u001b\\\n",
            "\u001b[2;36m          \u001b[0m\u001b[2;36m \u001b[0mFor more details, please see                                                \u001b]8;id=396439;file:///content/iNotePal/app/.venv/lib/python3.10/site-packages/reflex/utils/console.py\u001b\\\u001b[2mconsole.py\u001b[0m\u001b]8;;\u001b\\\u001b[2m:\u001b[0m\u001b]8;id=202387;file:///content/iNotePal/app/.venv/lib/python3.10/site-packages/reflex/utils/console.py#95\u001b\\\u001b[2m95\u001b[0m\u001b]8;;\u001b\\\n",
            "\u001b[2;36m           \u001b[0m\u001b[4;94mhttps://reflex.dev/blog/2024-02-16-reflex-v0.4.0/\u001b[0m                           \u001b[2m             \u001b[0m\n",
            "\u001b[2;36m[00:51:20]\u001b[0m\u001b[2;36m \u001b[0mInitializing the web directory.                                             \u001b]8;id=808008;file:///content/iNotePal/app/.venv/lib/python3.10/site-packages/reflex/utils/console.py\u001b\\\u001b[2mconsole.py\u001b[0m\u001b]8;;\u001b\\\u001b[2m:\u001b[0m\u001b]8;id=517795;file:///content/iNotePal/app/.venv/lib/python3.10/site-packages/reflex/utils/console.py#95\u001b\\\u001b[2m95\u001b[0m\u001b]8;;\u001b\\\n",
            "\u001b[32mSuccess: Initialized app\u001b[0m\n",
            "\u001b[92m──────────────────────── \u001b[0m\u001b[1mCompiling production app and preparing for export.\u001b[0m\u001b[92m ────────────────────────\u001b[0m\n",
            "\u001b[2KCompiling: \u001b[90m━━━━━━━━━━━━━━━━━━━━━━━━━━━━━━━━━━━━━━━━\u001b[0m \u001b[35m100%\u001b[0m \u001b[32m20/20\u001b[0m \u001b[33m0:00:00\u001b[0m\n",
            "\u001b[?25h\u001b[?25l\u001b[32m⠋\u001b[0m Installing base frontend packages bun install v1.1.3 (2615dc74)\n",
            "\u001b[2K\u001b[1A\u001b[2K\u001b[32m⠙\u001b[0m Installing base frontend packages bun install v1.1.3 (2615dc74)\n",
            "\u001b[2K\u001b[1A\u001b[2K\u001b[32m⠹\u001b[0m Installing base frontend packages bun install v1.1.3 (2615dc74)\n",
            "\u001b[2K\u001b[1A\u001b[2K\u001b[32m⠸\u001b[0m Installing base frontend packages  Resolving dependencies\n",
            "\u001b[2K\u001b[1A\u001b[2K\u001b[32m⠼\u001b[0m Installing base frontend packages  Resolving dependencies\n",
            "\u001b[2K\u001b[1A\u001b[2K\u001b[32m⠴\u001b[0m Installing base frontend packages  Resolving dependencies\n",
            "\u001b[2K\u001b[1A\u001b[2K\u001b[32m⠦\u001b[0m Installing base frontend packages  Resolving dependencies\n",
            "\u001b[2K\u001b[1A\u001b[2K\u001b[32m⠧\u001b[0m Installing base frontend packages  Resolved, downloaded and extracted [113]\n",
            "\u001b[2K\u001b[1A\u001b[2K\u001b[32m⠇\u001b[0m Installing base frontend packages  Resolved, downloaded and extracted [113]\n",
            "\u001b[2K\u001b[1A\u001b[2K\u001b[32m⠏\u001b[0m Installing base frontend packages  Resolved, downloaded and extracted [113]\n",
            "\u001b[2K\u001b[1A\u001b[2K\u001b[32m⠋\u001b[0m Installing base frontend packages  Resolved, downloaded and extracted [113]\n",
            "\u001b[2K\u001b[1A\u001b[2K\u001b[32m⠙\u001b[0m Installing base frontend packages  Resolved, downloaded and extracted [113]\n",
            "\u001b[2K\u001b[1A\u001b[2K\u001b[32m⠹\u001b[0m Installing base frontend packages  Resolved, downloaded and extracted [113]\n",
            "\u001b[2K\u001b[1A\u001b[2K\u001b[32m⠸\u001b[0m Installing base frontend packages  140 packages installed [1120.00ms]\n",
            "\n",
            "\u001b[1A\u001b[2K\u001b[1A\u001b[2K\u001b[?25l\u001b[32m⠋\u001b[0m Installing tailwind  Resolving dependencies\n",
            "\u001b[2K\u001b[1A\u001b[2K\u001b[32m⠙\u001b[0m Installing tailwind  Resolving dependencies\n",
            "\u001b[2K\u001b[1A\u001b[2K\u001b[32m⠹\u001b[0m Installing tailwind  Resolving dependencies\n",
            "\u001b[2K\u001b[1A\u001b[2K\u001b[32m⠸\u001b[0m Installing tailwind  Resolved, downloaded and extracted [64]\n",
            "\u001b[2K\u001b[1A\u001b[2K\u001b[32m⠼\u001b[0m Installing tailwind  Resolved, downloaded and extracted [64]\n",
            "\u001b[2K\u001b[1A\u001b[2K\u001b[32m⠴\u001b[0m Installing tailwind  79 packages installed [478.00ms]\n",
            "\n",
            "\u001b[1A\u001b[2K\u001b[1A\u001b[2K\u001b[?25l\u001b[32m⠋\u001b[0m Installing frontend packages from config and components bun add v1.1.3 (2615dc74)\n",
            "\u001b[2K\u001b[1A\u001b[2K\u001b[32m⠙\u001b[0m Installing frontend packages from config and components bun add v1.1.3 (2615dc74)\n",
            "\u001b[2K\u001b[1A\u001b[2K\u001b[32m⠹\u001b[0m Installing frontend packages from config and components  Resolving dependencies\n",
            "\u001b[2K\u001b[1A\u001b[2K\u001b[32m⠸\u001b[0m Installing frontend packages from config and components  Resolving dependencies\n",
            "\u001b[2K\u001b[1A\u001b[2K\u001b[32m⠼\u001b[0m Installing frontend packages from config and components  Resolving dependencies\n",
            "\u001b[2K\u001b[1A\u001b[2K\u001b[32m⠴\u001b[0m Installing frontend packages from config and components  Resolving dependencies\n",
            "\u001b[2K\u001b[1A\u001b[2K\u001b[32m⠦\u001b[0m Installing frontend packages from config and components  Resolving dependencies\n",
            "\u001b[2K\u001b[1A\u001b[2K\u001b[32m⠧\u001b[0m Installing frontend packages from config and components  Resolving dependencies\n",
            "\u001b[2K\u001b[1A\u001b[2K\u001b[32m⠇\u001b[0m Installing frontend packages from config and components  Resolving dependencies\n",
            "\u001b[2K\u001b[1A\u001b[2K\u001b[32m⠏\u001b[0m Installing frontend packages from config and components  Resolving dependencies\n",
            "\u001b[2K\u001b[1A\u001b[2K\u001b[32m⠋\u001b[0m Installing frontend packages from config and components  Resolving dependencies\n",
            "\u001b[2K\u001b[1A\u001b[2K\u001b[32m⠙\u001b[0m Installing frontend packages from config and components  Resolving dependencies\n",
            "\u001b[2K\u001b[1A\u001b[2K\u001b[32m⠹\u001b[0m Installing frontend packages from config and components warn: incorrect peer dependency \n",
            "\"react@18.2.0\"\n",
            "\u001b[2K\u001b[1A\u001b[2K\u001b[1A\u001b[2K\u001b[32m⠸\u001b[0m Installing frontend packages from config and components warn: incorrect peer dependency \n",
            "\"react@18.2.0\"\n",
            "\u001b[2K\u001b[1A\u001b[2K\u001b[1A\u001b[2K\u001b[32m⠼\u001b[0m Installing frontend packages from config and components warn: incorrect peer dependency \n",
            "\"react@18.2.0\"\n",
            "\u001b[2K\u001b[1A\u001b[2K\u001b[1A\u001b[2K\u001b[32m⠴\u001b[0m Installing frontend packages from config and components warn: incorrect peer dependency \n",
            "\"react@18.2.0\"\n",
            "\u001b[2K\u001b[1A\u001b[2K\u001b[1A\u001b[2K\u001b[32m⠦\u001b[0m Installing frontend packages from config and components warn: incorrect peer dependency \n",
            "\"react@18.2.0\"\n",
            "\u001b[2K\u001b[1A\u001b[2K\u001b[1A\u001b[2K\u001b[32m⠧\u001b[0m Installing frontend packages from config and components warn: incorrect peer dependency \n",
            "\"react@18.2.0\"\n",
            "\u001b[2K\u001b[1A\u001b[2K\u001b[1A\u001b[2K\u001b[32m⠇\u001b[0m Installing frontend packages from config and components  232 packages installed [1.53s]\n",
            "\n",
            "\u001b[2KCreating Production Build:  \u001b[90m━━━━━━━━━━━━━━━━━━━━━━━━━━━━━━━━━━━━━━━━\u001b[0m \u001b[35m100%\u001b[0m \u001b[32m9/9\u001b[0m \u001b[33m0:01:25\u001b[0m\n",
            "\u001b[2KZipping Frontend: \u001b[90m━━━━━━━━━━━━━━━━━━━━━━━━━━━━━━━━━━━━━━━━\u001b[0m \u001b[35m100%\u001b[0m \u001b[32m44/44\u001b[0m \u001b[33m0:00:00\u001b[0m\n",
            "\u001b[2KZipping Backend: \u001b[90m━━━━━━━━━━━━━━━━━━━━━━━━━━━━━━━━━━━━━━━━\u001b[0m \u001b[35m100%\u001b[0m \u001b[32m38/38\u001b[0m \u001b[33m0:00:00\u001b[0m\n",
            "\u001b[?25h"
          ]
        }
      ]
    },
    {
      "cell_type": "code",
      "source": [
        "!ls -al | grep .zip"
      ],
      "metadata": {
        "id": "jbPdps9YAiFd",
        "outputId": "4ece7c74-0917-44e4-ce8d-0d0f8575fc14",
        "colab": {
          "base_uri": "https://localhost:8080/"
        }
      },
      "execution_count": null,
      "outputs": [
        {
          "output_type": "stream",
          "name": "stdout",
          "text": [
            "-rw-r--r--  1 root root  29760 May  2 00:52 backend.zip\n",
            "-rw-r--r--  1 root root 696974 May  2 00:52 frontend.zip\n"
          ]
        }
      ]
    },
    {
      "cell_type": "code",
      "source": [
        "# %cd /content/\n",
        "# !gh repo clone pal-ette/iNotePal iNotePal-pages -- --branch gh-pages\n",
        "# %cd iNotePal-pages\n",
        "# !ls | xargs rm -rf\n",
        "# !ls -al\n",
        "# !unzip /content/iNotePal/app/frontend.zip\n",
        "# !git add . & git commit -m \"Deploy frontend\" & git push -u origin gh-pages"
      ],
      "metadata": {
        "id": "AioKfz3DoMTC"
      },
      "execution_count": null,
      "outputs": []
    },
    {
      "cell_type": "code",
      "source": [
        "release_options = \" \".join([\n",
        "    version,\n",
        "    \"--prerelease\" if is_prerelease else \"\",\n",
        "])\n",
        "release_options"
      ],
      "metadata": {
        "id": "QbKD_7HjIuNV",
        "outputId": "27219885-a228-48cb-a2e4-7fa2a7a7a81a",
        "colab": {
          "base_uri": "https://localhost:8080/",
          "height": 35
        }
      },
      "execution_count": null,
      "outputs": [
        {
          "output_type": "execute_result",
          "data": {
            "text/plain": [
              "'reflex-0.0.9 '"
            ],
            "application/vnd.google.colaboratory.intrinsic+json": {
              "type": "string"
            }
          },
          "metadata": {},
          "execution_count": 46
        }
      ]
    },
    {
      "cell_type": "code",
      "source": [
        "!gh release create {release_options} --generate-notes /content/iNotePal/app/*.zip"
      ],
      "metadata": {
        "colab": {
          "base_uri": "https://localhost:8080/"
        },
        "id": "grCV5pYp4gsd",
        "outputId": "0edbcca3-d012-492c-e03b-024fd302ff91"
      },
      "execution_count": null,
      "outputs": [
        {
          "output_type": "stream",
          "name": "stdout",
          "text": [
            "\u001b[Khttps://github.com/pal-ette/iNotePal/releases/tag/reflex-0.0.9\n"
          ]
        }
      ]
    },
    {
      "cell_type": "code",
      "source": [],
      "metadata": {
        "id": "xI0F3zGFqePq"
      },
      "execution_count": null,
      "outputs": []
    }
  ]
}