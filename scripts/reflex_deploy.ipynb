{
  "nbformat": 4,
  "nbformat_minor": 0,
  "metadata": {
    "colab": {
      "provenance": [],
      "mount_file_id": "1lNunTdkRVSVkThlVQWZA41n683dbGIMa",
      "authorship_tag": "ABX9TyOMMcGINW5rop3bvoOj/HhE"
    },
    "kernelspec": {
      "name": "python3",
      "display_name": "Python 3"
    },
    "language_info": {
      "name": "python"
    }
  },
  "cells": [
    {
      "cell_type": "code",
      "source": [
        "raw_token = \"\" # @param {type: \"string\"}\n",
        "version = \"reflex-0.2.1\" # @param {type: \"string\"}\n",
        "is_prerelease = False # @param {type: \"boolean\"}"
      ],
      "metadata": {
        "id": "x_B8pHL84N8L"
      },
      "execution_count": 23,
      "outputs": []
    },
    {
      "cell_type": "code",
      "source": [
        "from google.colab import userdata\n",
        "\n",
        "if not raw_token:\n",
        "    raw_token = userdata.get('GITHUB_PAT')"
      ],
      "metadata": {
        "id": "Wo1kaFoAkkkk"
      },
      "execution_count": 24,
      "outputs": []
    },
    {
      "cell_type": "code",
      "source": [
        "!apt install python3.10-venv"
      ],
      "metadata": {
        "id": "p47eY9vONjaO",
        "outputId": "1b71f8c8-7e20-4192-ec3e-07c6cef11f0d",
        "colab": {
          "base_uri": "https://localhost:8080/"
        }
      },
      "execution_count": 25,
      "outputs": [
        {
          "output_type": "stream",
          "name": "stdout",
          "text": [
            "Reading package lists... Done\n",
            "Building dependency tree... Done\n",
            "Reading state information... Done\n",
            "python3.10-venv is already the newest version (3.10.12-1~22.04.5).\n",
            "0 upgraded, 0 newly installed, 0 to remove and 50 not upgraded.\n"
          ]
        }
      ]
    },
    {
      "cell_type": "code",
      "execution_count": 26,
      "metadata": {
        "colab": {
          "base_uri": "https://localhost:8080/"
        },
        "id": "37u2e1Vq2_xK",
        "outputId": "88b328ba-747d-406e-ac32-953d1a25603a"
      },
      "outputs": [
        {
          "output_type": "stream",
          "name": "stdout",
          "text": [
            "\u001b[33m\r0% [Working]\u001b[0m\r            \rHit:1 https://cloud.r-project.org/bin/linux/ubuntu jammy-cran40/ InRelease\n",
            "\u001b[33m\r0% [Connecting to archive.ubuntu.com (91.189.91.82)] [Connecting to security.ub\u001b[0m\r                                                                               \rHit:2 https://cli.github.com/packages stable InRelease\n",
            "\u001b[33m\r0% [Waiting for headers] [Connecting to security.ubuntu.com (185.125.190.82)] [\u001b[0m\r                                                                               \rHit:3 https://developer.download.nvidia.com/compute/cuda/repos/ubuntu2204/x86_64  InRelease\n",
            "\u001b[33m\r0% [Waiting for headers] [Connecting to security.ubuntu.com (185.125.190.82)] [\u001b[0m\r                                                                               \rHit:4 http://archive.ubuntu.com/ubuntu jammy InRelease\n",
            "Hit:5 http://archive.ubuntu.com/ubuntu jammy-updates InRelease\n",
            "Hit:6 http://archive.ubuntu.com/ubuntu jammy-backports InRelease\n",
            "Hit:7 http://security.ubuntu.com/ubuntu jammy-security InRelease\n",
            "Ign:8 https://r2u.stat.illinois.edu/ubuntu jammy InRelease\n",
            "Hit:9 https://r2u.stat.illinois.edu/ubuntu jammy Release\n",
            "Hit:10 https://ppa.launchpadcontent.net/deadsnakes/ppa/ubuntu jammy InRelease\n",
            "Hit:11 https://ppa.launchpadcontent.net/graphics-drivers/ppa/ubuntu jammy InRelease\n",
            "Hit:12 https://ppa.launchpadcontent.net/ubuntugis/ppa/ubuntu jammy InRelease\n",
            "Reading package lists... Done\n",
            "Building dependency tree... Done\n",
            "Reading state information... Done\n",
            "50 packages can be upgraded. Run 'apt list --upgradable' to see them.\n",
            "\u001b[1;33mW: \u001b[0mSkipping acquire of configured file 'main/source/Sources' as repository 'https://r2u.stat.illinois.edu/ubuntu jammy InRelease' does not seem to provide it (sources.list entry misspelt?)\u001b[0m\n",
            "Reading package lists... Done\n",
            "Building dependency tree... Done\n",
            "Reading state information... Done\n",
            "gh is already the newest version (2.55.0).\n",
            "0 upgraded, 0 newly installed, 0 to remove and 50 not upgraded.\n",
            "gh version 2.55.0 (2024-08-20)\n",
            "https://github.com/cli/cli/releases/tag/v2.55.0\n"
          ]
        }
      ],
      "source": [
        "!sudo mkdir -p -m 755 /etc/apt/keyrings && wget -qO- https://cli.github.com/packages/githubcli-archive-keyring.gpg | sudo tee /etc/apt/keyrings/githubcli-archive-keyring.gpg > /dev/null \\\n",
        "&& sudo chmod go+r /etc/apt/keyrings/githubcli-archive-keyring.gpg \\\n",
        "&& echo \"deb [arch=$(dpkg --print-architecture) signed-by=/etc/apt/keyrings/githubcli-archive-keyring.gpg] https://cli.github.com/packages stable main\" | sudo tee /etc/apt/sources.list.d/github-cli.list > /dev/null \\\n",
        "&& sudo apt update \\\n",
        "&& sudo apt install gh -y\n",
        "!gh version"
      ]
    },
    {
      "cell_type": "code",
      "source": [
        "!echo {raw_token} > /content/pat.txt"
      ],
      "metadata": {
        "id": "_M784miV5Yqj"
      },
      "execution_count": 27,
      "outputs": []
    },
    {
      "cell_type": "code",
      "source": [
        "!gh auth login --hostname github.com -p https --with-token  < /content/pat.txt"
      ],
      "metadata": {
        "id": "0t3WxtPa4Kha"
      },
      "execution_count": 28,
      "outputs": []
    },
    {
      "cell_type": "code",
      "source": [
        "!gh auth status"
      ],
      "metadata": {
        "colab": {
          "base_uri": "https://localhost:8080/"
        },
        "id": "LGYLb57p4TfT",
        "outputId": "b0146ff8-4411-4e44-afbb-55f39d2e7c87"
      },
      "execution_count": 29,
      "outputs": [
        {
          "output_type": "stream",
          "name": "stdout",
          "text": [
            "\u001b[0;1;39mgithub.com\u001b[0m\n",
            "  \u001b[0;32m✓\u001b[0m Logged in to github.com account \u001b[0;1;39mryugibo\u001b[0m (/root/.config/gh/hosts.yml)\n",
            "  - Active account: \u001b[0;1;39mtrue\u001b[0m\n",
            "  - Git operations protocol: \u001b[0;1;39mhttps\u001b[0m\n",
            "  - Token: \u001b[0;1;39mgithub_pat_11AB4PWOA0pSA0vdtCAYiM_***********************************************************\u001b[0m\n"
          ]
        }
      ]
    },
    {
      "cell_type": "code",
      "source": [
        "!rm /content/pat.txt"
      ],
      "metadata": {
        "id": "Fcss-5W-q4Mh"
      },
      "execution_count": 30,
      "outputs": []
    },
    {
      "cell_type": "code",
      "source": [
        "%cd /content"
      ],
      "metadata": {
        "id": "lb7IrV_aw7tR",
        "outputId": "e3ecc5cb-3565-4d8c-c7d4-1f0e77bbda1b",
        "colab": {
          "base_uri": "https://localhost:8080/"
        }
      },
      "execution_count": 31,
      "outputs": [
        {
          "output_type": "stream",
          "name": "stdout",
          "text": [
            "/content\n"
          ]
        }
      ]
    },
    {
      "cell_type": "code",
      "source": [
        "!rm -rf iNotePal"
      ],
      "metadata": {
        "id": "g1PDdOGhw9wQ"
      },
      "execution_count": 32,
      "outputs": []
    },
    {
      "cell_type": "code",
      "source": [
        "!gh repo clone pal-ette/iNotePal"
      ],
      "metadata": {
        "colab": {
          "base_uri": "https://localhost:8080/"
        },
        "id": "zKOftMdt4WJb",
        "outputId": "994c7513-1049-4f71-979e-ae6db2b0fd1a"
      },
      "execution_count": 33,
      "outputs": [
        {
          "output_type": "stream",
          "name": "stdout",
          "text": [
            "Cloning into 'iNotePal'...\n",
            "remote: Enumerating objects: 2606, done.\u001b[K\n",
            "remote: Counting objects: 100% (1086/1086), done.\u001b[K\n",
            "remote: Compressing objects: 100% (333/333), done.\u001b[K\n",
            "remote: Total 2606 (delta 727), reused 970 (delta 665), pack-reused 1520 (from 1)\u001b[K\n",
            "Receiving objects: 100% (2606/2606), 17.08 MiB | 19.05 MiB/s, done.\n",
            "Resolving deltas: 100% (1580/1580), done.\n"
          ]
        }
      ]
    },
    {
      "cell_type": "code",
      "source": [
        "%cd iNotePal/app"
      ],
      "metadata": {
        "colab": {
          "base_uri": "https://localhost:8080/"
        },
        "id": "bJzufFgt4cVr",
        "outputId": "6ea99a41-1f44-487b-9457-1c06b64f7967"
      },
      "execution_count": 34,
      "outputs": [
        {
          "output_type": "stream",
          "name": "stdout",
          "text": [
            "/content/iNotePal/app\n"
          ]
        }
      ]
    },
    {
      "cell_type": "code",
      "source": [
        "!./deploy/init_ubuntu.sh"
      ],
      "metadata": {
        "id": "hrHjOcq6NHKl",
        "outputId": "f744f3fa-2999-4dae-c633-94c4653c5492",
        "colab": {
          "base_uri": "https://localhost:8080/"
        }
      },
      "execution_count": 40,
      "outputs": [
        {
          "output_type": "stream",
          "name": "stdout",
          "text": [
            "./deploy/init_ubuntu.sh: 3: asdf: not found\n",
            "Collecting reflex-wordcloud@ git+https://github.com/pal-ette/reflex-wordcloud@bdc9ea8f8d45c430b0926e54cf3f9b889b731f4b (from -r requirements_ubuntu.txt (line 112))\n",
            "  Using cached reflex_wordcloud-0.0.1-py3-none-any.whl\n",
            "Requirement already satisfied: absl-py==2.1.0 in ./.venv/lib/python3.10/site-packages (from -r requirements_ubuntu.txt (line 1)) (2.1.0)\n",
            "Collecting alembic==1.13.2 (from -r requirements_ubuntu.txt (line 2))\n",
            "  Downloading alembic-1.13.2-py3-none-any.whl.metadata (7.4 kB)\n",
            "Requirement already satisfied: annotated-types==0.7.0 in ./.venv/lib/python3.10/site-packages (from -r requirements_ubuntu.txt (line 3)) (0.7.0)\n",
            "Collecting anyio==4.4.0 (from -r requirements_ubuntu.txt (line 4))\n",
            "  Downloading anyio-4.4.0-py3-none-any.whl.metadata (4.6 kB)\n",
            "Collecting astunparse==1.6.3 (from -r requirements_ubuntu.txt (line 5))\n",
            "  Using cached astunparse-1.6.3-py2.py3-none-any.whl.metadata (4.4 kB)\n",
            "Requirement already satisfied: async-timeout==4.0.3 in ./.venv/lib/python3.10/site-packages (from -r requirements_ubuntu.txt (line 6)) (4.0.3)\n",
            "Requirement already satisfied: backports.tarfile==1.2.0 in ./.venv/lib/python3.10/site-packages (from -r requirements_ubuntu.txt (line 7)) (1.2.0)\n",
            "Requirement already satisfied: bcrypt==4.1.2 in ./.venv/lib/python3.10/site-packages (from -r requirements_ubuntu.txt (line 8)) (4.1.2)\n",
            "Requirement already satisfied: bidict==0.23.1 in ./.venv/lib/python3.10/site-packages (from -r requirements_ubuntu.txt (line 9)) (0.23.1)\n",
            "Collecting build==1.2.1 (from -r requirements_ubuntu.txt (line 10))\n",
            "  Using cached build-1.2.1-py3-none-any.whl.metadata (4.3 kB)\n",
            "Requirement already satisfied: cachetools==5.5.0 in ./.venv/lib/python3.10/site-packages (from -r requirements_ubuntu.txt (line 11)) (5.5.0)\n",
            "Requirement already satisfied: certifi==2024.7.4 in ./.venv/lib/python3.10/site-packages (from -r requirements_ubuntu.txt (line 12)) (2024.7.4)\n",
            "Collecting cffi==1.17.0 (from -r requirements_ubuntu.txt (line 13))\n",
            "  Using cached cffi-1.17.0-cp310-cp310-manylinux_2_17_x86_64.manylinux2014_x86_64.whl.metadata (1.5 kB)\n",
            "Requirement already satisfied: charset-normalizer==3.3.2 in ./.venv/lib/python3.10/site-packages (from -r requirements_ubuntu.txt (line 14)) (3.3.2)\n",
            "Requirement already satisfied: click==8.1.7 in ./.venv/lib/python3.10/site-packages (from -r requirements_ubuntu.txt (line 15)) (8.1.7)\n",
            "Collecting cryptography==43.0.0 (from -r requirements_ubuntu.txt (line 16))\n",
            "  Using cached cryptography-43.0.0-cp39-abi3-manylinux_2_28_x86_64.whl.metadata (5.4 kB)\n",
            "Collecting deprecation==2.1.0 (from -r requirements_ubuntu.txt (line 17))\n",
            "  Downloading deprecation-2.1.0-py2.py3-none-any.whl.metadata (4.6 kB)\n",
            "Requirement already satisfied: dill==0.3.8 in ./.venv/lib/python3.10/site-packages (from -r requirements_ubuntu.txt (line 18)) (0.3.8)\n",
            "Requirement already satisfied: distro==1.9.0 in ./.venv/lib/python3.10/site-packages (from -r requirements_ubuntu.txt (line 19)) (1.9.0)\n",
            "Requirement already satisfied: docutils==0.21.2 in ./.venv/lib/python3.10/site-packages (from -r requirements_ubuntu.txt (line 20)) (0.21.2)\n",
            "Requirement already satisfied: exceptiongroup==1.2.2 in ./.venv/lib/python3.10/site-packages (from -r requirements_ubuntu.txt (line 21)) (1.2.2)\n",
            "Collecting fastapi==0.110.3 (from -r requirements_ubuntu.txt (line 22))\n",
            "  Downloading fastapi-0.110.3-py3-none-any.whl.metadata (24 kB)\n",
            "Requirement already satisfied: filelock==3.15.4 in ./.venv/lib/python3.10/site-packages (from -r requirements_ubuntu.txt (line 23)) (3.15.4)\n",
            "Requirement already satisfied: flatbuffers==24.3.25 in ./.venv/lib/python3.10/site-packages (from -r requirements_ubuntu.txt (line 24)) (24.3.25)\n",
            "Requirement already satisfied: fsspec==2024.6.1 in ./.venv/lib/python3.10/site-packages (from -r requirements_ubuntu.txt (line 25)) (2024.6.1)\n",
            "Requirement already satisfied: gast==0.6.0 in ./.venv/lib/python3.10/site-packages (from -r requirements_ubuntu.txt (line 26)) (0.6.0)\n",
            "Collecting google-auth==2.34.0 (from -r requirements_ubuntu.txt (line 27))\n",
            "  Downloading google_auth-2.34.0-py2.py3-none-any.whl.metadata (4.7 kB)\n",
            "Collecting google-auth-oauthlib==1.2.1 (from -r requirements_ubuntu.txt (line 28))\n",
            "  Using cached google_auth_oauthlib-1.2.1-py2.py3-none-any.whl.metadata (2.7 kB)\n",
            "Collecting google-pasta==0.2.0 (from -r requirements_ubuntu.txt (line 29))\n",
            "  Using cached google_pasta-0.2.0-py3-none-any.whl.metadata (814 bytes)\n",
            "Collecting gotrue==2.7.0 (from -r requirements_ubuntu.txt (line 30))\n",
            "  Downloading gotrue-2.7.0-py3-none-any.whl.metadata (6.0 kB)\n",
            "Requirement already satisfied: greenlet==3.0.3 in ./.venv/lib/python3.10/site-packages (from -r requirements_ubuntu.txt (line 31)) (3.0.3)\n",
            "Requirement already satisfied: grpcio==1.66.0 in ./.venv/lib/python3.10/site-packages (from -r requirements_ubuntu.txt (line 32)) (1.66.0)\n",
            "Collecting gunicorn==22.0.0 (from -r requirements_ubuntu.txt (line 33))\n",
            "  Downloading gunicorn-22.0.0-py3-none-any.whl.metadata (4.4 kB)\n",
            "Requirement already satisfied: h11==0.14.0 in ./.venv/lib/python3.10/site-packages (from -r requirements_ubuntu.txt (line 34)) (0.14.0)\n",
            "Collecting h2==4.1.0 (from -r requirements_ubuntu.txt (line 35))\n",
            "  Downloading h2-4.1.0-py3-none-any.whl.metadata (3.6 kB)\n",
            "Collecting h5py==3.11.0 (from -r requirements_ubuntu.txt (line 36))\n",
            "  Using cached h5py-3.11.0-cp310-cp310-manylinux_2_17_x86_64.manylinux2014_x86_64.whl.metadata (2.5 kB)\n",
            "Requirement already satisfied: hpack==4.0.0 in ./.venv/lib/python3.10/site-packages (from -r requirements_ubuntu.txt (line 37)) (4.0.0)\n",
            "Collecting httpcore==1.0.5 (from -r requirements_ubuntu.txt (line 38))\n",
            "  Downloading httpcore-1.0.5-py3-none-any.whl.metadata (20 kB)\n",
            "Collecting httpx==0.27.2 (from -r requirements_ubuntu.txt (line 39))\n",
            "  Downloading httpx-0.27.2-py3-none-any.whl.metadata (7.1 kB)\n",
            "Collecting huggingface-hub==0.24.6 (from -r requirements_ubuntu.txt (line 40))\n",
            "  Downloading huggingface_hub-0.24.6-py3-none-any.whl.metadata (13 kB)\n",
            "Requirement already satisfied: hyperframe==6.0.1 in ./.venv/lib/python3.10/site-packages (from -r requirements_ubuntu.txt (line 41)) (6.0.1)\n",
            "Requirement already satisfied: idna==3.8 in ./.venv/lib/python3.10/site-packages (from -r requirements_ubuntu.txt (line 42)) (3.8)\n",
            "Collecting importlib_metadata==8.4.0 (from -r requirements_ubuntu.txt (line 43))\n",
            "  Using cached importlib_metadata-8.4.0-py3-none-any.whl.metadata (4.7 kB)\n",
            "Requirement already satisfied: install-jdk==1.1.0 in ./.venv/lib/python3.10/site-packages (from -r requirements_ubuntu.txt (line 44)) (1.1.0)\n",
            "Collecting jaraco.classes==3.4.0 (from -r requirements_ubuntu.txt (line 45))\n",
            "  Downloading jaraco.classes-3.4.0-py3-none-any.whl.metadata (2.6 kB)\n",
            "Collecting jaraco.context==6.0.1 (from -r requirements_ubuntu.txt (line 46))\n",
            "  Downloading jaraco.context-6.0.1-py3-none-any.whl.metadata (4.1 kB)\n",
            "Collecting jaraco.functools==4.0.2 (from -r requirements_ubuntu.txt (line 47))\n",
            "  Downloading jaraco.functools-4.0.2-py3-none-any.whl.metadata (2.8 kB)\n",
            "Requirement already satisfied: jeepney==0.8.0 in ./.venv/lib/python3.10/site-packages (from -r requirements_ubuntu.txt (line 48)) (0.8.0)\n",
            "Collecting Jinja2==3.1.4 (from -r requirements_ubuntu.txt (line 49))\n",
            "  Using cached jinja2-3.1.4-py3-none-any.whl.metadata (2.6 kB)\n",
            "Requirement already satisfied: joblib==1.4.2 in ./.venv/lib/python3.10/site-packages (from -r requirements_ubuntu.txt (line 50)) (1.4.2)\n",
            "Collecting JPype1==1.5.0 (from -r requirements_ubuntu.txt (line 51))\n",
            "  Downloading JPype1-1.5.0-cp310-cp310-manylinux_2_17_x86_64.manylinux2014_x86_64.whl.metadata (4.9 kB)\n",
            "Requirement already satisfied: keras==2.15.0 in ./.venv/lib/python3.10/site-packages (from -r requirements_ubuntu.txt (line 52)) (2.15.0)\n",
            "Collecting keyring==25.3.0 (from -r requirements_ubuntu.txt (line 53))\n",
            "  Downloading keyring-25.3.0-py3-none-any.whl.metadata (20 kB)\n",
            "Collecting konlpy==0.6.0 (from -r requirements_ubuntu.txt (line 54))\n",
            "  Downloading konlpy-0.6.0-py2.py3-none-any.whl.metadata (1.9 kB)\n",
            "Collecting lazy_loader==0.4 (from -r requirements_ubuntu.txt (line 55))\n",
            "  Using cached lazy_loader-0.4-py3-none-any.whl.metadata (7.6 kB)\n",
            "Requirement already satisfied: libclang==18.1.1 in ./.venv/lib/python3.10/site-packages (from -r requirements_ubuntu.txt (line 56)) (18.1.1)\n",
            "Requirement already satisfied: lxml==5.3.0 in ./.venv/lib/python3.10/site-packages (from -r requirements_ubuntu.txt (line 57)) (5.3.0)\n",
            "Collecting Mako==1.3.5 (from -r requirements_ubuntu.txt (line 58))\n",
            "  Downloading Mako-1.3.5-py3-none-any.whl.metadata (2.9 kB)\n",
            "Requirement already satisfied: Markdown==3.7 in ./.venv/lib/python3.10/site-packages (from -r requirements_ubuntu.txt (line 59)) (3.7)\n",
            "Collecting markdown-it-py==3.0.0 (from -r requirements_ubuntu.txt (line 60))\n",
            "  Using cached markdown_it_py-3.0.0-py3-none-any.whl.metadata (6.9 kB)\n",
            "Requirement already satisfied: MarkupSafe==2.1.5 in ./.venv/lib/python3.10/site-packages (from -r requirements_ubuntu.txt (line 61)) (2.1.5)\n",
            "Requirement already satisfied: mdurl==0.1.2 in ./.venv/lib/python3.10/site-packages (from -r requirements_ubuntu.txt (line 62)) (0.1.2)\n",
            "Collecting ml-dtypes==0.2.0 (from -r requirements_ubuntu.txt (line 63))\n",
            "  Downloading ml_dtypes-0.2.0-cp310-cp310-manylinux_2_17_x86_64.manylinux2014_x86_64.whl.metadata (20 kB)\n",
            "Requirement already satisfied: more-itertools==10.4.0 in ./.venv/lib/python3.10/site-packages (from -r requirements_ubuntu.txt (line 64)) (10.4.0)\n",
            "Requirement already satisfied: mpmath==1.3.0 in ./.venv/lib/python3.10/site-packages (from -r requirements_ubuntu.txt (line 65)) (1.3.0)\n",
            "Requirement already satisfied: networkx==3.3 in ./.venv/lib/python3.10/site-packages (from -r requirements_ubuntu.txt (line 66)) (3.3)\n",
            "Requirement already satisfied: nh3==0.2.18 in ./.venv/lib/python3.10/site-packages (from -r requirements_ubuntu.txt (line 67)) (0.2.18)\n",
            "Requirement already satisfied: numpy==1.26.4 in ./.venv/lib/python3.10/site-packages (from -r requirements_ubuntu.txt (line 68)) (1.26.4)\n",
            "Requirement already satisfied: nvidia-cublas-cu12==12.1.3.1 in ./.venv/lib/python3.10/site-packages (from -r requirements_ubuntu.txt (line 69)) (12.1.3.1)\n",
            "Requirement already satisfied: nvidia-cuda-cupti-cu12==12.1.105 in ./.venv/lib/python3.10/site-packages (from -r requirements_ubuntu.txt (line 70)) (12.1.105)\n",
            "Requirement already satisfied: nvidia-cuda-nvrtc-cu12==12.1.105 in ./.venv/lib/python3.10/site-packages (from -r requirements_ubuntu.txt (line 71)) (12.1.105)\n",
            "Requirement already satisfied: nvidia-cuda-runtime-cu12==12.1.105 in ./.venv/lib/python3.10/site-packages (from -r requirements_ubuntu.txt (line 72)) (12.1.105)\n",
            "Collecting nvidia-cudnn-cu12==8.9.2.26 (from -r requirements_ubuntu.txt (line 73))\n",
            "  Downloading nvidia_cudnn_cu12-8.9.2.26-py3-none-manylinux1_x86_64.whl.metadata (1.6 kB)\n",
            "Requirement already satisfied: nvidia-cufft-cu12==11.0.2.54 in ./.venv/lib/python3.10/site-packages (from -r requirements_ubuntu.txt (line 74)) (11.0.2.54)\n",
            "Requirement already satisfied: nvidia-curand-cu12==10.3.2.106 in ./.venv/lib/python3.10/site-packages (from -r requirements_ubuntu.txt (line 75)) (10.3.2.106)\n",
            "Collecting nvidia-cusolver-cu12==11.4.5.107 (from -r requirements_ubuntu.txt (line 76))\n",
            "  Downloading nvidia_cusolver_cu12-11.4.5.107-py3-none-manylinux1_x86_64.whl.metadata (1.6 kB)\n",
            "Requirement already satisfied: nvidia-cusparse-cu12==12.1.0.106 in ./.venv/lib/python3.10/site-packages (from -r requirements_ubuntu.txt (line 77)) (12.1.0.106)\n",
            "Requirement already satisfied: nvidia-nccl-cu12==2.19.3 in ./.venv/lib/python3.10/site-packages (from -r requirements_ubuntu.txt (line 78)) (2.19.3)\n",
            "Requirement already satisfied: nvidia-nvjitlink-cu12==12.6.20 in ./.venv/lib/python3.10/site-packages (from -r requirements_ubuntu.txt (line 79)) (12.6.20)\n",
            "Requirement already satisfied: nvidia-nvtx-cu12==12.1.105 in ./.venv/lib/python3.10/site-packages (from -r requirements_ubuntu.txt (line 80)) (12.1.105)\n",
            "Requirement already satisfied: oauthlib==3.2.2 in ./.venv/lib/python3.10/site-packages (from -r requirements_ubuntu.txt (line 81)) (3.2.2)\n",
            "Collecting openai==1.20.0 (from -r requirements_ubuntu.txt (line 82))\n",
            "  Downloading openai-1.20.0-py3-none-any.whl.metadata (21 kB)\n",
            "Requirement already satisfied: opt-einsum==3.3.0 in ./.venv/lib/python3.10/site-packages (from -r requirements_ubuntu.txt (line 83)) (3.3.0)\n",
            "Requirement already satisfied: packaging==24.1 in ./.venv/lib/python3.10/site-packages (from -r requirements_ubuntu.txt (line 84)) (24.1)\n",
            "Requirement already satisfied: pillow==10.4.0 in ./.venv/lib/python3.10/site-packages (from -r requirements_ubuntu.txt (line 85)) (10.4.0)\n",
            "Requirement already satisfied: pipdeptree==2.16.2 in ./.venv/lib/python3.10/site-packages (from -r requirements_ubuntu.txt (line 86)) (2.16.2)\n",
            "Requirement already satisfied: pkginfo==1.10.0 in ./.venv/lib/python3.10/site-packages (from -r requirements_ubuntu.txt (line 87)) (1.10.0)\n",
            "Requirement already satisfied: platformdirs==4.2.2 in ./.venv/lib/python3.10/site-packages (from -r requirements_ubuntu.txt (line 88)) (4.2.2)\n",
            "Collecting postgrest==0.16.11 (from -r requirements_ubuntu.txt (line 89))\n",
            "  Downloading postgrest-0.16.11-py3-none-any.whl.metadata (5.1 kB)\n",
            "Requirement already satisfied: protobuf==4.25.4 in ./.venv/lib/python3.10/site-packages (from -r requirements_ubuntu.txt (line 90)) (4.25.4)\n",
            "Requirement already satisfied: psutil==6.0.0 in ./.venv/lib/python3.10/site-packages (from -r requirements_ubuntu.txt (line 91)) (6.0.0)\n",
            "Requirement already satisfied: pyasn1==0.6.0 in ./.venv/lib/python3.10/site-packages (from -r requirements_ubuntu.txt (line 92)) (0.6.0)\n",
            "Requirement already satisfied: pyasn1_modules==0.4.0 in ./.venv/lib/python3.10/site-packages (from -r requirements_ubuntu.txt (line 93)) (0.4.0)\n",
            "Requirement already satisfied: pycparser==2.22 in ./.venv/lib/python3.10/site-packages (from -r requirements_ubuntu.txt (line 94)) (2.22)\n",
            "Collecting pydantic==2.8.2 (from -r requirements_ubuntu.txt (line 95))\n",
            "  Using cached pydantic-2.8.2-py3-none-any.whl.metadata (125 kB)\n",
            "Requirement already satisfied: pydantic_core==2.20.1 in ./.venv/lib/python3.10/site-packages (from -r requirements_ubuntu.txt (line 96)) (2.20.1)\n",
            "Requirement already satisfied: Pygments==2.18.0 in ./.venv/lib/python3.10/site-packages (from -r requirements_ubuntu.txt (line 97)) (2.18.0)\n",
            "Requirement already satisfied: PyJWT==2.8.0 in ./.venv/lib/python3.10/site-packages (from -r requirements_ubuntu.txt (line 98)) (2.8.0)\n",
            "Requirement already satisfied: pyproject_hooks==1.1.0 in ./.venv/lib/python3.10/site-packages (from -r requirements_ubuntu.txt (line 99)) (1.1.0)\n",
            "Requirement already satisfied: python-dateutil==2.9.0.post0 in ./.venv/lib/python3.10/site-packages (from -r requirements_ubuntu.txt (line 100)) (2.9.0.post0)\n",
            "Requirement already satisfied: python-dotenv==1.0.1 in ./.venv/lib/python3.10/site-packages (from -r requirements_ubuntu.txt (line 101)) (1.0.1)\n",
            "Collecting python-engineio==4.9.1 (from -r requirements_ubuntu.txt (line 102))\n",
            "  Downloading python_engineio-4.9.1-py3-none-any.whl.metadata (2.2 kB)\n",
            "Requirement already satisfied: python-multipart==0.0.9 in ./.venv/lib/python3.10/site-packages (from -r requirements_ubuntu.txt (line 103)) (0.0.9)\n",
            "Collecting python-socketio==5.11.3 (from -r requirements_ubuntu.txt (line 104))\n",
            "  Downloading python_socketio-5.11.3-py3-none-any.whl.metadata (3.2 kB)\n",
            "Requirement already satisfied: PyYAML==6.0.2 in ./.venv/lib/python3.10/site-packages (from -r requirements_ubuntu.txt (line 105)) (6.0.2)\n",
            "Requirement already satisfied: readme_renderer==44.0 in ./.venv/lib/python3.10/site-packages (from -r requirements_ubuntu.txt (line 106)) (44.0)\n",
            "Collecting realtime==1.0.6 (from -r requirements_ubuntu.txt (line 107))\n",
            "  Downloading realtime-1.0.6-py3-none-any.whl.metadata (2.6 kB)\n",
            "Requirement already satisfied: redis==5.0.8 in ./.venv/lib/python3.10/site-packages (from -r requirements_ubuntu.txt (line 108)) (5.0.8)\n",
            "Collecting reflex==0.5.9 (from -r requirements_ubuntu.txt (line 109))\n",
            "  Downloading reflex-0.5.9-py3-none-any.whl.metadata (12 kB)\n",
            "Collecting reflex-calendar==0.0.4 (from -r requirements_ubuntu.txt (line 110))\n",
            "  Downloading reflex_calendar-0.0.4-py3-none-any.whl.metadata (2.7 kB)\n",
            "Collecting reflex-hosting-cli==0.1.13 (from -r requirements_ubuntu.txt (line 111))\n",
            "  Downloading reflex_hosting_cli-0.1.13-py3-none-any.whl.metadata (1.3 kB)\n",
            "Requirement already satisfied: regex==2024.7.24 in ./.venv/lib/python3.10/site-packages (from -r requirements_ubuntu.txt (line 113)) (2024.7.24)\n",
            "Requirement already satisfied: requests==2.32.3 in ./.venv/lib/python3.10/site-packages (from -r requirements_ubuntu.txt (line 114)) (2.32.3)\n",
            "Collecting requests-oauthlib==2.0.0 (from -r requirements_ubuntu.txt (line 115))\n",
            "  Downloading requests_oauthlib-2.0.0-py2.py3-none-any.whl.metadata (11 kB)\n",
            "Collecting requests-toolbelt==1.0.0 (from -r requirements_ubuntu.txt (line 116))\n",
            "  Downloading requests_toolbelt-1.0.0-py2.py3-none-any.whl.metadata (14 kB)\n",
            "Requirement already satisfied: rfc3986==2.0.0 in ./.venv/lib/python3.10/site-packages (from -r requirements_ubuntu.txt (line 117)) (2.0.0)\n",
            "Collecting rich==13.8.0 (from -r requirements_ubuntu.txt (line 118))\n",
            "  Downloading rich-13.8.0-py3-none-any.whl.metadata (18 kB)\n",
            "Requirement already satisfied: rsa==4.9 in ./.venv/lib/python3.10/site-packages (from -r requirements_ubuntu.txt (line 119)) (4.9)\n",
            "Requirement already satisfied: safetensors==0.4.4 in ./.venv/lib/python3.10/site-packages (from -r requirements_ubuntu.txt (line 120)) (0.4.4)\n",
            "Collecting scikit-learn==1.2.2 (from -r requirements_ubuntu.txt (line 121))\n",
            "  Downloading scikit_learn-1.2.2-cp310-cp310-manylinux_2_17_x86_64.manylinux2014_x86_64.whl.metadata (11 kB)\n",
            "Requirement already satisfied: scipy==1.14.1 in ./.venv/lib/python3.10/site-packages (from -r requirements_ubuntu.txt (line 122)) (1.14.1)\n",
            "Collecting SecretStorage==3.3.3 (from -r requirements_ubuntu.txt (line 123))\n",
            "  Downloading SecretStorage-3.3.3-py3-none-any.whl.metadata (4.0 kB)\n",
            "Collecting sentence-transformers==2.7.0 (from -r requirements_ubuntu.txt (line 124))\n",
            "  Downloading sentence_transformers-2.7.0-py3-none-any.whl.metadata (11 kB)\n",
            "Requirement already satisfied: shellingham==1.5.4 in ./.venv/lib/python3.10/site-packages (from -r requirements_ubuntu.txt (line 125)) (1.5.4)\n",
            "Collecting simple-websocket==1.0.0 (from -r requirements_ubuntu.txt (line 126))\n",
            "  Downloading simple_websocket-1.0.0-py3-none-any.whl.metadata (1.3 kB)\n",
            "Requirement already satisfied: six==1.16.0 in ./.venv/lib/python3.10/site-packages (from -r requirements_ubuntu.txt (line 127)) (1.16.0)\n",
            "Requirement already satisfied: sniffio==1.3.1 in ./.venv/lib/python3.10/site-packages (from -r requirements_ubuntu.txt (line 128)) (1.3.1)\n",
            "Requirement already satisfied: SQLAlchemy==2.0.32 in ./.venv/lib/python3.10/site-packages (from -r requirements_ubuntu.txt (line 129)) (2.0.32)\n",
            "Collecting sqlmodel==0.0.21 (from -r requirements_ubuntu.txt (line 130))\n",
            "  Downloading sqlmodel-0.0.21-py3-none-any.whl.metadata (9.8 kB)\n",
            "Collecting starlette==0.37.2 (from -r requirements_ubuntu.txt (line 131))\n",
            "  Downloading starlette-0.37.2-py3-none-any.whl.metadata (5.9 kB)\n",
            "Collecting starlette-admin==0.14.1 (from -r requirements_ubuntu.txt (line 132))\n",
            "  Downloading starlette_admin-0.14.1-py3-none-any.whl.metadata (8.1 kB)\n",
            "Collecting storage3==0.7.7 (from -r requirements_ubuntu.txt (line 133))\n",
            "  Downloading storage3-0.7.7-py3-none-any.whl.metadata (1.9 kB)\n",
            "Requirement already satisfied: StrEnum==0.4.15 in ./.venv/lib/python3.10/site-packages (from -r requirements_ubuntu.txt (line 134)) (0.4.15)\n",
            "Collecting supabase==2.4.3 (from -r requirements_ubuntu.txt (line 135))\n",
            "  Downloading supabase-2.4.3-py3-none-any.whl.metadata (9.3 kB)\n",
            "Collecting supafunc==0.4.7 (from -r requirements_ubuntu.txt (line 136))\n",
            "  Downloading supafunc-0.4.7-py3-none-any.whl.metadata (1.2 kB)\n",
            "Requirement already satisfied: sympy==1.13.2 in ./.venv/lib/python3.10/site-packages (from -r requirements_ubuntu.txt (line 137)) (1.13.2)\n",
            "Requirement already satisfied: tabulate==0.9.0 in ./.venv/lib/python3.10/site-packages (from -r requirements_ubuntu.txt (line 138)) (0.9.0)\n",
            "Collecting tensorboard==2.15.2 (from -r requirements_ubuntu.txt (line 139))\n",
            "  Downloading tensorboard-2.15.2-py3-none-any.whl.metadata (1.7 kB)\n",
            "Requirement already satisfied: tensorboard-data-server==0.7.2 in ./.venv/lib/python3.10/site-packages (from -r requirements_ubuntu.txt (line 140)) (0.7.2)\n",
            "Collecting tensorflow==2.15.0 (from -r requirements_ubuntu.txt (line 141))\n",
            "  Downloading tensorflow-2.15.0-cp310-cp310-manylinux_2_17_x86_64.manylinux2014_x86_64.whl.metadata (4.4 kB)\n",
            "Requirement already satisfied: tensorflow-estimator==2.15.0 in ./.venv/lib/python3.10/site-packages (from -r requirements_ubuntu.txt (line 142)) (2.15.0)\n",
            "Requirement already satisfied: tensorflow-io-gcs-filesystem==0.37.1 in ./.venv/lib/python3.10/site-packages (from -r requirements_ubuntu.txt (line 143)) (0.37.1)\n",
            "Requirement already satisfied: termcolor==2.4.0 in ./.venv/lib/python3.10/site-packages (from -r requirements_ubuntu.txt (line 144)) (2.4.0)\n",
            "Requirement already satisfied: threadpoolctl==3.5.0 in ./.venv/lib/python3.10/site-packages (from -r requirements_ubuntu.txt (line 145)) (3.5.0)\n",
            "Collecting tokenizers==0.19.1 (from -r requirements_ubuntu.txt (line 146))\n",
            "  Using cached tokenizers-0.19.1-cp310-cp310-manylinux_2_17_x86_64.manylinux2014_x86_64.whl.metadata (6.7 kB)\n",
            "Requirement already satisfied: tomli==2.0.1 in ./.venv/lib/python3.10/site-packages (from -r requirements_ubuntu.txt (line 147)) (2.0.1)\n",
            "Requirement already satisfied: tomlkit==0.13.2 in ./.venv/lib/python3.10/site-packages (from -r requirements_ubuntu.txt (line 148)) (0.13.2)\n",
            "Collecting torch==2.2.2 (from -r requirements_ubuntu.txt (line 149))\n",
            "  Downloading torch-2.2.2-cp310-cp310-manylinux1_x86_64.whl.metadata (26 kB)\n",
            "Collecting torchaudio==2.2.2 (from -r requirements_ubuntu.txt (line 150))\n",
            "  Downloading torchaudio-2.2.2-cp310-cp310-manylinux1_x86_64.whl.metadata (6.4 kB)\n",
            "Collecting torchvision==0.17.2 (from -r requirements_ubuntu.txt (line 151))\n",
            "  Downloading torchvision-0.17.2-cp310-cp310-manylinux1_x86_64.whl.metadata (6.6 kB)\n",
            "Requirement already satisfied: tqdm==4.66.5 in ./.venv/lib/python3.10/site-packages (from -r requirements_ubuntu.txt (line 152)) (4.66.5)\n",
            "Collecting transformers==4.40.1 (from -r requirements_ubuntu.txt (line 153))\n",
            "  Downloading transformers-4.40.1-py3-none-any.whl.metadata (137 kB)\n",
            "Requirement already satisfied: triton==2.2.0 in ./.venv/lib/python3.10/site-packages (from -r requirements_ubuntu.txt (line 154)) (2.2.0)\n",
            "Collecting twine==5.1.1 (from -r requirements_ubuntu.txt (line 155))\n",
            "  Downloading twine-5.1.1-py3-none-any.whl.metadata (3.5 kB)\n",
            "Collecting typer==0.12.5 (from -r requirements_ubuntu.txt (line 156))\n",
            "  Downloading typer-0.12.5-py3-none-any.whl.metadata (15 kB)\n",
            "Requirement already satisfied: typing_extensions==4.12.2 in ./.venv/lib/python3.10/site-packages (from -r requirements_ubuntu.txt (line 157)) (4.12.2)\n",
            "Requirement already satisfied: urllib3==2.2.2 in ./.venv/lib/python3.10/site-packages (from -r requirements_ubuntu.txt (line 158)) (2.2.2)\n",
            "Requirement already satisfied: uvicorn==0.30.6 in ./.venv/lib/python3.10/site-packages (from -r requirements_ubuntu.txt (line 159)) (0.30.6)\n",
            "Requirement already satisfied: watchdog==4.0.2 in ./.venv/lib/python3.10/site-packages (from -r requirements_ubuntu.txt (line 160)) (4.0.2)\n",
            "Collecting watchfiles==0.23.0 (from -r requirements_ubuntu.txt (line 161))\n",
            "  Downloading watchfiles-0.23.0-cp310-cp310-manylinux_2_17_x86_64.manylinux2014_x86_64.whl.metadata (4.9 kB)\n",
            "Requirement already satisfied: websockets==12.0 in ./.venv/lib/python3.10/site-packages (from -r requirements_ubuntu.txt (line 162)) (12.0)\n",
            "Requirement already satisfied: Werkzeug==3.0.4 in ./.venv/lib/python3.10/site-packages (from -r requirements_ubuntu.txt (line 163)) (3.0.4)\n",
            "Requirement already satisfied: wrapt==1.14.1 in ./.venv/lib/python3.10/site-packages (from -r requirements_ubuntu.txt (line 164)) (1.14.1)\n",
            "Requirement already satisfied: wsproto==1.2.0 in ./.venv/lib/python3.10/site-packages (from -r requirements_ubuntu.txt (line 165)) (1.2.0)\n",
            "Requirement already satisfied: zipp==3.20.1 in ./.venv/lib/python3.10/site-packages (from -r requirements_ubuntu.txt (line 166)) (3.20.1)\n",
            "Requirement already satisfied: wheel<1.0,>=0.23.0 in ./.venv/lib/python3.10/site-packages (from astunparse==1.6.3->-r requirements_ubuntu.txt (line 5)) (0.44.0)\n",
            "Requirement already satisfied: pip>=23.1.2 in ./.venv/lib/python3.10/site-packages (from pipdeptree==2.16.2->-r requirements_ubuntu.txt (line 86)) (24.2)\n",
            "Requirement already satisfied: setuptools<70.2,>=69.1.1 in ./.venv/lib/python3.10/site-packages (from reflex==0.5.9->-r requirements_ubuntu.txt (line 109)) (70.1.1)\n",
            "Downloading alembic-1.13.2-py3-none-any.whl (232 kB)\n",
            "Downloading anyio-4.4.0-py3-none-any.whl (86 kB)\n",
            "Using cached astunparse-1.6.3-py2.py3-none-any.whl (12 kB)\n",
            "Using cached build-1.2.1-py3-none-any.whl (21 kB)\n",
            "Using cached cffi-1.17.0-cp310-cp310-manylinux_2_17_x86_64.manylinux2014_x86_64.whl (445 kB)\n",
            "Using cached cryptography-43.0.0-cp39-abi3-manylinux_2_28_x86_64.whl (4.0 MB)\n",
            "Downloading deprecation-2.1.0-py2.py3-none-any.whl (11 kB)\n",
            "Downloading fastapi-0.110.3-py3-none-any.whl (91 kB)\n",
            "Downloading google_auth-2.34.0-py2.py3-none-any.whl (200 kB)\n",
            "Using cached google_auth_oauthlib-1.2.1-py2.py3-none-any.whl (24 kB)\n",
            "Using cached google_pasta-0.2.0-py3-none-any.whl (57 kB)\n",
            "Downloading gotrue-2.7.0-py3-none-any.whl (47 kB)\n",
            "Downloading gunicorn-22.0.0-py3-none-any.whl (84 kB)\n",
            "Downloading h2-4.1.0-py3-none-any.whl (57 kB)\n",
            "Using cached h5py-3.11.0-cp310-cp310-manylinux_2_17_x86_64.manylinux2014_x86_64.whl (5.3 MB)\n",
            "Downloading httpcore-1.0.5-py3-none-any.whl (77 kB)\n",
            "Downloading httpx-0.27.2-py3-none-any.whl (76 kB)\n",
            "Downloading huggingface_hub-0.24.6-py3-none-any.whl (417 kB)\n",
            "Using cached importlib_metadata-8.4.0-py3-none-any.whl (26 kB)\n",
            "Downloading jaraco.classes-3.4.0-py3-none-any.whl (6.8 kB)\n",
            "Downloading jaraco.context-6.0.1-py3-none-any.whl (6.8 kB)\n",
            "Downloading jaraco.functools-4.0.2-py3-none-any.whl (9.9 kB)\n",
            "Using cached jinja2-3.1.4-py3-none-any.whl (133 kB)\n",
            "Downloading JPype1-1.5.0-cp310-cp310-manylinux_2_17_x86_64.manylinux2014_x86_64.whl (488 kB)\n",
            "Downloading keyring-25.3.0-py3-none-any.whl (38 kB)\n",
            "Downloading konlpy-0.6.0-py2.py3-none-any.whl (19.4 MB)\n",
            "\u001b[2K   \u001b[90m━━━━━━━━━━━━━━━━━━━━━━━━━━━━━━━━━━━━━━━━\u001b[0m \u001b[32m19.4/19.4 MB\u001b[0m \u001b[31m115.5 MB/s\u001b[0m eta \u001b[36m0:00:00\u001b[0m\n",
            "\u001b[?25hUsing cached lazy_loader-0.4-py3-none-any.whl (12 kB)\n",
            "Downloading Mako-1.3.5-py3-none-any.whl (78 kB)\n",
            "Using cached markdown_it_py-3.0.0-py3-none-any.whl (87 kB)\n",
            "Downloading ml_dtypes-0.2.0-cp310-cp310-manylinux_2_17_x86_64.manylinux2014_x86_64.whl (1.0 MB)\n",
            "\u001b[2K   \u001b[90m━━━━━━━━━━━━━━━━━━━━━━━━━━━━━━━━━━━━━━━━\u001b[0m \u001b[32m1.0/1.0 MB\u001b[0m \u001b[31m45.4 MB/s\u001b[0m eta \u001b[36m0:00:00\u001b[0m\n",
            "\u001b[?25hDownloading nvidia_cudnn_cu12-8.9.2.26-py3-none-manylinux1_x86_64.whl (731.7 MB)\n",
            "\u001b[2K   \u001b[90m━━━━━━━━━━━━━━━━━━━━━━━━━━━━━━━━━━━━━━━━\u001b[0m \u001b[32m731.7/731.7 MB\u001b[0m \u001b[31m34.4 MB/s\u001b[0m eta \u001b[36m0:00:00\u001b[0m\n",
            "\u001b[?25hDownloading nvidia_cusolver_cu12-11.4.5.107-py3-none-manylinux1_x86_64.whl (124.2 MB)\n",
            "\u001b[2K   \u001b[90m━━━━━━━━━━━━━━━━━━━━━━━━━━━━━━━━━━━━━━━━\u001b[0m \u001b[32m124.2/124.2 MB\u001b[0m \u001b[31m58.7 MB/s\u001b[0m eta \u001b[36m0:00:00\u001b[0m\n",
            "\u001b[?25hDownloading openai-1.20.0-py3-none-any.whl (292 kB)\n",
            "Downloading postgrest-0.16.11-py3-none-any.whl (21 kB)\n",
            "Using cached pydantic-2.8.2-py3-none-any.whl (423 kB)\n",
            "Downloading python_engineio-4.9.1-py3-none-any.whl (57 kB)\n",
            "Downloading python_socketio-5.11.3-py3-none-any.whl (76 kB)\n",
            "Downloading realtime-1.0.6-py3-none-any.whl (9.0 kB)\n",
            "Downloading reflex-0.5.9-py3-none-any.whl (891 kB)\n",
            "\u001b[2K   \u001b[90m━━━━━━━━━━━━━━━━━━━━━━━━━━━━━━━━━━━━━━━━\u001b[0m \u001b[32m891.3/891.3 kB\u001b[0m \u001b[31m37.2 MB/s\u001b[0m eta \u001b[36m0:00:00\u001b[0m\n",
            "\u001b[?25hDownloading reflex_calendar-0.0.4-py3-none-any.whl (5.8 kB)\n",
            "Downloading reflex_hosting_cli-0.1.13-py3-none-any.whl (32 kB)\n",
            "Downloading requests_oauthlib-2.0.0-py2.py3-none-any.whl (24 kB)\n",
            "Downloading requests_toolbelt-1.0.0-py2.py3-none-any.whl (54 kB)\n",
            "Downloading rich-13.8.0-py3-none-any.whl (241 kB)\n",
            "Downloading scikit_learn-1.2.2-cp310-cp310-manylinux_2_17_x86_64.manylinux2014_x86_64.whl (9.6 MB)\n",
            "\u001b[2K   \u001b[90m━━━━━━━━━━━━━━━━━━━━━━━━━━━━━━━━━━━━━━━━\u001b[0m \u001b[32m9.6/9.6 MB\u001b[0m \u001b[31m93.6 MB/s\u001b[0m eta \u001b[36m0:00:00\u001b[0m\n",
            "\u001b[?25hDownloading SecretStorage-3.3.3-py3-none-any.whl (15 kB)\n",
            "Downloading sentence_transformers-2.7.0-py3-none-any.whl (171 kB)\n",
            "Downloading simple_websocket-1.0.0-py3-none-any.whl (13 kB)\n",
            "Downloading sqlmodel-0.0.21-py3-none-any.whl (28 kB)\n",
            "Downloading starlette-0.37.2-py3-none-any.whl (71 kB)\n",
            "Downloading starlette_admin-0.14.1-py3-none-any.whl (2.2 MB)\n",
            "\u001b[2K   \u001b[90m━━━━━━━━━━━━━━━━━━━━━━━━━━━━━━━━━━━━━━━━\u001b[0m \u001b[32m2.2/2.2 MB\u001b[0m \u001b[31m66.1 MB/s\u001b[0m eta \u001b[36m0:00:00\u001b[0m\n",
            "\u001b[?25hDownloading storage3-0.7.7-py3-none-any.whl (16 kB)\n",
            "Downloading supabase-2.4.3-py3-none-any.whl (15 kB)\n",
            "Downloading supafunc-0.4.7-py3-none-any.whl (6.2 kB)\n",
            "Downloading tensorboard-2.15.2-py3-none-any.whl (5.5 MB)\n",
            "\u001b[2K   \u001b[90m━━━━━━━━━━━━━━━━━━━━━━━━━━━━━━━━━━━━━━━━\u001b[0m \u001b[32m5.5/5.5 MB\u001b[0m \u001b[31m83.2 MB/s\u001b[0m eta \u001b[36m0:00:00\u001b[0m\n",
            "\u001b[?25hDownloading tensorflow-2.15.0-cp310-cp310-manylinux_2_17_x86_64.manylinux2014_x86_64.whl (475.2 MB)\n",
            "\u001b[2K   \u001b[90m━━━━━━━━━━━━━━━━━━━━━━━━━━━━━━━━━━━━━━━━\u001b[0m \u001b[32m475.2/475.2 MB\u001b[0m \u001b[31m25.1 MB/s\u001b[0m eta \u001b[36m0:00:00\u001b[0m\n",
            "\u001b[?25hUsing cached tokenizers-0.19.1-cp310-cp310-manylinux_2_17_x86_64.manylinux2014_x86_64.whl (3.6 MB)\n",
            "Downloading torch-2.2.2-cp310-cp310-manylinux1_x86_64.whl (755.5 MB)\n",
            "\u001b[2K   \u001b[90m━━━━━━━━━━━━━━━━━━━━━━━━━━━━━━━━━━━━━━━━\u001b[0m \u001b[32m755.5/755.5 MB\u001b[0m \u001b[31m41.5 MB/s\u001b[0m eta \u001b[36m0:00:00\u001b[0m\n",
            "\u001b[?25hDownloading torchaudio-2.2.2-cp310-cp310-manylinux1_x86_64.whl (3.3 MB)\n",
            "\u001b[2K   \u001b[90m━━━━━━━━━━━━━━━━━━━━━━━━━━━━━━━━━━━━━━━━\u001b[0m \u001b[32m3.3/3.3 MB\u001b[0m \u001b[31m62.1 MB/s\u001b[0m eta \u001b[36m0:00:00\u001b[0m\n",
            "\u001b[?25hDownloading torchvision-0.17.2-cp310-cp310-manylinux1_x86_64.whl (6.9 MB)\n",
            "\u001b[2K   \u001b[90m━━━━━━━━━━━━━━━━━━━━━━━━━━━━━━━━━━━━━━━━\u001b[0m \u001b[32m6.9/6.9 MB\u001b[0m \u001b[31m89.4 MB/s\u001b[0m eta \u001b[36m0:00:00\u001b[0m\n",
            "\u001b[?25hDownloading transformers-4.40.1-py3-none-any.whl (9.0 MB)\n",
            "\u001b[2K   \u001b[90m━━━━━━━━━━━━━━━━━━━━━━━━━━━━━━━━━━━━━━━━\u001b[0m \u001b[32m9.0/9.0 MB\u001b[0m \u001b[31m105.3 MB/s\u001b[0m eta \u001b[36m0:00:00\u001b[0m\n",
            "\u001b[?25hDownloading twine-5.1.1-py3-none-any.whl (38 kB)\n",
            "Downloading typer-0.12.5-py3-none-any.whl (47 kB)\n",
            "Downloading watchfiles-0.23.0-cp310-cp310-manylinux_2_17_x86_64.manylinux2014_x86_64.whl (427 kB)\n",
            "Installing collected packages: nvidia-cudnn-cu12, ml-dtypes, markdown-it-py, Mako, lazy_loader, JPype1, Jinja2, jaraco.functools, jaraco.context, jaraco.classes, importlib_metadata, httpcore, h5py, h2, gunicorn, google-pasta, deprecation, cffi, build, astunparse, anyio, watchfiles, starlette, simple-websocket, scikit-learn, rich, requests-toolbelt, requests-oauthlib, realtime, pydantic, nvidia-cusolver-cu12, konlpy, huggingface-hub, httpx, google-auth, cryptography, alembic, typer, torch, tokenizers, starlette-admin, sqlmodel, SecretStorage, python-engineio, openai, google-auth-oauthlib, fastapi, transformers, torchvision, torchaudio, tensorboard, supafunc, storage3, reflex-hosting-cli, python-socketio, postgrest, keyring, gotrue, twine, tensorflow, supabase, sentence-transformers, reflex, reflex-wordcloud, reflex-calendar\n",
            "Successfully installed JPype1-1.5.0 Jinja2-3.1.4 Mako-1.3.5 SecretStorage-3.3.3 alembic-1.13.2 anyio-4.4.0 astunparse-1.6.3 build-1.2.1 cffi-1.17.0 cryptography-43.0.0 deprecation-2.1.0 fastapi-0.110.3 google-auth-2.34.0 google-auth-oauthlib-1.2.1 google-pasta-0.2.0 gotrue-2.7.0 gunicorn-22.0.0 h2-4.1.0 h5py-3.11.0 httpcore-1.0.5 httpx-0.27.2 huggingface-hub-0.24.6 importlib_metadata-8.4.0 jaraco.classes-3.4.0 jaraco.context-6.0.1 jaraco.functools-4.0.2 keyring-25.3.0 konlpy-0.6.0 lazy_loader-0.4 markdown-it-py-3.0.0 ml-dtypes-0.2.0 nvidia-cudnn-cu12-8.9.2.26 nvidia-cusolver-cu12-11.4.5.107 openai-1.20.0 postgrest-0.16.11 pydantic-2.8.2 python-engineio-4.9.1 python-socketio-5.11.3 realtime-1.0.6 reflex-0.5.9 reflex-calendar-0.0.4 reflex-hosting-cli-0.1.13 reflex-wordcloud-0.0.1 requests-oauthlib-2.0.0 requests-toolbelt-1.0.0 rich-13.8.0 scikit-learn-1.2.2 sentence-transformers-2.7.0 simple-websocket-1.0.0 sqlmodel-0.0.21 starlette-0.37.2 starlette-admin-0.14.1 storage3-0.7.7 supabase-2.4.3 supafunc-0.4.7 tensorboard-2.15.2 tensorflow-2.15.0 tokenizers-0.19.1 torch-2.2.2 torchaudio-2.2.2 torchvision-0.17.2 transformers-4.40.1 twine-5.1.1 typer-0.12.5 watchfiles-0.23.0\n"
          ]
        }
      ]
    },
    {
      "cell_type": "code",
      "source": [
        "!./deploy/build.sh"
      ],
      "metadata": {
        "id": "EVQtTeDw_wfM",
        "outputId": "1c6dab46-58de-46a9-c675-59a7906246dd",
        "colab": {
          "base_uri": "https://localhost:8080/"
        }
      },
      "execution_count": 41,
      "outputs": [
        {
          "output_type": "stream",
          "name": "stdout",
          "text": [
            "\u001b[92m───────────────────────────────────────── \u001b[0m\u001b[1mInitializing app\u001b[0m\u001b[92m ─────────────────────────────────────────\u001b[0m\n",
            "\u001b[2;36m[06:23:21]\u001b[0m\u001b[2;36m \u001b[0mPrior to reflex \u001b[1;36m0.4\u001b[0m.\u001b[1;36m0\u001b[0m, rx.* components are based on Chakra UI. They are    \u001b]8;id=626250;file:///content/iNotePal/app/.venv/lib/python3.10/site-packages/reflex/utils/console.py\u001b\\\u001b[2mconsole.py\u001b[0m\u001b]8;;\u001b\\\u001b[2m:\u001b[0m\u001b]8;id=471174;file:///content/iNotePal/app/.venv/lib/python3.10/site-packages/reflex/utils/console.py#104\u001b\\\u001b[2m104\u001b[0m\u001b]8;;\u001b\\\n",
            "\u001b[2;36m           \u001b[0mnow based on Radix UI. To stick to Chakra UI, use rx.chakra.*.             \u001b[2m              \u001b[0m\n",
            "\u001b[2;36m          \u001b[0m\u001b[2;36m \u001b[0m                                                                           \u001b]8;id=505217;file:///content/iNotePal/app/.venv/lib/python3.10/site-packages/reflex/utils/console.py\u001b\\\u001b[2mconsole.py\u001b[0m\u001b]8;;\u001b\\\u001b[2m:\u001b[0m\u001b]8;id=800694;file:///content/iNotePal/app/.venv/lib/python3.10/site-packages/reflex/utils/console.py#104\u001b\\\u001b[2m104\u001b[0m\u001b]8;;\u001b\\\n",
            "\u001b[2;36m          \u001b[0m\u001b[2;36m \u001b[0m\u001b[1mRun `reflex script keep-chakra` to automatically update your app.\u001b[0m          \u001b]8;id=396464;file:///content/iNotePal/app/.venv/lib/python3.10/site-packages/reflex/utils/console.py\u001b\\\u001b[2mconsole.py\u001b[0m\u001b]8;;\u001b\\\u001b[2m:\u001b[0m\u001b]8;id=220299;file:///content/iNotePal/app/.venv/lib/python3.10/site-packages/reflex/utils/console.py#104\u001b\\\u001b[2m104\u001b[0m\u001b]8;;\u001b\\\n",
            "\u001b[2;36m          \u001b[0m\u001b[2;36m \u001b[0m                                                                           \u001b]8;id=4632;file:///content/iNotePal/app/.venv/lib/python3.10/site-packages/reflex/utils/console.py\u001b\\\u001b[2mconsole.py\u001b[0m\u001b]8;;\u001b\\\u001b[2m:\u001b[0m\u001b]8;id=995567;file:///content/iNotePal/app/.venv/lib/python3.10/site-packages/reflex/utils/console.py#104\u001b\\\u001b[2m104\u001b[0m\u001b]8;;\u001b\\\n",
            "\u001b[2;36m          \u001b[0m\u001b[2;36m \u001b[0mFor more details, please see                                               \u001b]8;id=596237;file:///content/iNotePal/app/.venv/lib/python3.10/site-packages/reflex/utils/console.py\u001b\\\u001b[2mconsole.py\u001b[0m\u001b]8;;\u001b\\\u001b[2m:\u001b[0m\u001b]8;id=990800;file:///content/iNotePal/app/.venv/lib/python3.10/site-packages/reflex/utils/console.py#104\u001b\\\u001b[2m104\u001b[0m\u001b]8;;\u001b\\\n",
            "\u001b[2;36m           \u001b[0m\u001b[4;94mhttps://reflex.dev/blog/2024-02-16-reflex-v0.4.0/\u001b[0m                          \u001b[2m              \u001b[0m\n",
            "\u001b[2;36m[06:23:22]\u001b[0m\u001b[2;36m \u001b[0mInitializing the web directory.                                            \u001b]8;id=701241;file:///content/iNotePal/app/.venv/lib/python3.10/site-packages/reflex/utils/console.py\u001b\\\u001b[2mconsole.py\u001b[0m\u001b]8;;\u001b\\\u001b[2m:\u001b[0m\u001b]8;id=102133;file:///content/iNotePal/app/.venv/lib/python3.10/site-packages/reflex/utils/console.py#104\u001b\\\u001b[2m104\u001b[0m\u001b]8;;\u001b\\\n",
            "\u001b[32mSuccess: Initialized app\u001b[0m\n",
            "\u001b[92m──────────────────────── \u001b[0m\u001b[1mCompiling production app and preparing for export.\u001b[0m\u001b[92m ────────────────────────\u001b[0m\n",
            "JAVA INSTALLED: /content/iNotePal/app/.cache/jdk/jdk-22.0.2+9\n",
            "\u001b[2K[06:23:43] Compiling: \u001b[90m━━━━━━━━━━━━━━━━━━━━━━━━━━━━━━━━━━━━━━━━\u001b[0m \u001b[35m100%\u001b[0m \u001b[32m19/19\u001b[0m \u001b[33m0:00:02\u001b[0m\n",
            "\u001b[?25h\u001b[?25l\u001b[32m⠋\u001b[0m Installing base frontend packages bun install v1.1.10 (5102a944)\n",
            "\u001b[2K\u001b[1A\u001b[2K\u001b[32m⠙\u001b[0m Installing base frontend packages Resolving dependencies\n",
            "\u001b[2K\u001b[1A\u001b[2K\u001b[32m⠹\u001b[0m Installing base frontend packages Resolving dependencies\n",
            "\u001b[2K\u001b[1A\u001b[2K\u001b[32m⠸\u001b[0m Installing base frontend packages Resolving dependencies\n",
            "\u001b[2K\u001b[1A\u001b[2K\u001b[32m⠼\u001b[0m Installing base frontend packages Resolving dependencies\n",
            "\u001b[2K\u001b[1A\u001b[2K\u001b[32m⠴\u001b[0m Installing base frontend packages Resolving dependencies\n",
            "\u001b[2K\u001b[1A\u001b[2K\u001b[32m⠦\u001b[0m Installing base frontend packages Resolved, downloaded and extracted [126]\n",
            "\u001b[2K\u001b[1A\u001b[2K\u001b[32m⠧\u001b[0m Installing base frontend packages Resolved, downloaded and extracted [126]\n",
            "\u001b[2K\u001b[1A\u001b[2K\u001b[32m⠇\u001b[0m Installing base frontend packages Resolved, downloaded and extracted [126]\n",
            "\u001b[2K\u001b[1A\u001b[2K\u001b[32m⠇\u001b[0m Installing base frontend packages 155 packages installed [744.00ms]\n",
            "\n",
            "\u001b[1A\u001b[2K\u001b[1A\u001b[2K\u001b[?25l\u001b[32m⠋\u001b[0m Installing tailwind Resolving dependencies\n",
            "\u001b[2K\u001b[1A\u001b[2K\u001b[32m⠙\u001b[0m Installing tailwind Resolving dependencies\n",
            "\u001b[2K\u001b[1A\u001b[2K\u001b[32m⠹\u001b[0m Installing tailwind Resolving dependencies\n",
            "\u001b[2K\u001b[1A\u001b[2K\u001b[32m⠸\u001b[0m Installing tailwind Resolved, downloaded and extracted [58]\n",
            "\u001b[2K\u001b[1A\u001b[2K\u001b[32m⠸\u001b[0m Installing tailwind 73 packages installed [348.00ms]\n",
            "\n",
            "\u001b[1A\u001b[2K\u001b[1A\u001b[2K\u001b[?25l\u001b[32m⠋\u001b[0m Installing frontend packages from config and components bun add v1.1.10 (5102a944)\n",
            "\u001b[2K\u001b[1A\u001b[2K\u001b[32m⠙\u001b[0m Installing frontend packages from config and components bun add v1.1.10 (5102a944)\n",
            "\u001b[2K\u001b[1A\u001b[2K\u001b[32m⠹\u001b[0m Installing frontend packages from config and components Resolving dependencies\n",
            "\u001b[2K\u001b[1A\u001b[2K\u001b[32m⠸\u001b[0m Installing frontend packages from config and components Resolving dependencies\n",
            "\u001b[2K\u001b[1A\u001b[2K\u001b[32m⠼\u001b[0m Installing frontend packages from config and components Resolving dependencies\n",
            "\u001b[2K\u001b[1A\u001b[2K\u001b[32m⠴\u001b[0m Installing frontend packages from config and components Resolving dependencies\n",
            "\u001b[2K\u001b[1A\u001b[2K\u001b[32m⠦\u001b[0m Installing frontend packages from config and components Resolving dependencies\n",
            "\u001b[2K\u001b[1A\u001b[2K\u001b[32m⠧\u001b[0m Installing frontend packages from config and components Resolving dependencies\n",
            "\u001b[2K\u001b[1A\u001b[2K\u001b[32m⠇\u001b[0m Installing frontend packages from config and components Resolving dependencies\n",
            "\u001b[2K\u001b[1A\u001b[2K\u001b[32m⠏\u001b[0m Installing frontend packages from config and components Resolving dependencies\n",
            "\u001b[2K\u001b[1A\u001b[2K\u001b[32m⠋\u001b[0m Installing frontend packages from config and components Resolving dependencies\n",
            "\u001b[2K\u001b[1A\u001b[2K\u001b[32m⠙\u001b[0m Installing frontend packages from config and components Resolving dependencies\n",
            "\u001b[2K\u001b[1A\u001b[2K\u001b[32m⠹\u001b[0m Installing frontend packages from config and components warn: incorrect peer dependency \n",
            "\"react@18.2.0\"\n",
            "\u001b[2K\u001b[1A\u001b[2K\u001b[1A\u001b[2K\u001b[32m⠸\u001b[0m Installing frontend packages from config and components warn: incorrect peer dependency \n",
            "\"react@18.2.0\"\n",
            "\u001b[2K\u001b[1A\u001b[2K\u001b[1A\u001b[2K\u001b[32m⠼\u001b[0m Installing frontend packages from config and components warn: incorrect peer dependency \n",
            "\"react@18.2.0\"\n",
            "\u001b[2K\u001b[1A\u001b[2K\u001b[1A\u001b[2K\u001b[32m⠴\u001b[0m Installing frontend packages from config and components 230 packages installed [1275.00ms]\n",
            "\n",
            "\u001b[2KCreating Production Build:  \u001b[90m━━━━━━━━━━━━━━━━━━━━━━━━━━━━━━━━━━━━━━━━\u001b[0m \u001b[35m100%\u001b[0m \u001b[32m9/9\u001b[0m \u001b[33m0:01:27\u001b[0m\n",
            "\u001b[2KZipping Frontend: \u001b[90m━━━━━━━━━━━━━━━━━━━━━━━━━━━━━━━━━━━━━━━━\u001b[0m \u001b[35m100%\u001b[0m \u001b[32m38/38\u001b[0m \u001b[33m0:00:00\u001b[0m\n",
            "\u001b[2KZipping Backend: \u001b[90m━━━━━━━━━━━━━━━━━━━━━━━━━━━━━━━━━━━━━━━━\u001b[0m \u001b[35m100%\u001b[0m \u001b[32m38/38\u001b[0m \u001b[33m0:00:00\u001b[0m\n",
            "\u001b[?25h"
          ]
        }
      ]
    },
    {
      "cell_type": "code",
      "source": [
        "!ls -al | grep .zip"
      ],
      "metadata": {
        "id": "jbPdps9YAiFd",
        "outputId": "d5de066e-05ee-4cca-9d90-dc9a14729705",
        "colab": {
          "base_uri": "https://localhost:8080/"
        }
      },
      "execution_count": 42,
      "outputs": [
        {
          "output_type": "stream",
          "name": "stdout",
          "text": [
            "-rw-r--r--  1 root root  33209 Aug 28 06:25 backend.zip\n",
            "-rw-r--r--  1 root root 748915 Aug 28 06:25 frontend.zip\n"
          ]
        }
      ]
    },
    {
      "cell_type": "code",
      "source": [
        "commit_hash = !git log -1 --pretty=format:'%H'\n",
        "release_options = \" \".join([\n",
        "    version,\n",
        "    f\"--target {commit_hash[0]}\",\n",
        "    \"--prerelease\" if is_prerelease else \"\",\n",
        "])\n",
        "release_options"
      ],
      "metadata": {
        "id": "QbKD_7HjIuNV",
        "outputId": "960972b1-461d-49bf-ab0d-807766b52d16",
        "colab": {
          "base_uri": "https://localhost:8080/",
          "height": 36
        }
      },
      "execution_count": 43,
      "outputs": [
        {
          "output_type": "execute_result",
          "data": {
            "text/plain": [
              "'reflex-0.2.1 --target c0994e8fbe7627fcfdaf1f232cabd74606cf672e '"
            ],
            "application/vnd.google.colaboratory.intrinsic+json": {
              "type": "string"
            }
          },
          "metadata": {},
          "execution_count": 43
        }
      ]
    },
    {
      "cell_type": "code",
      "source": [
        "!gh release create {release_options} --generate-notes /content/iNotePal/app/*.zip"
      ],
      "metadata": {
        "colab": {
          "base_uri": "https://localhost:8080/"
        },
        "id": "grCV5pYp4gsd",
        "outputId": "68f21e03-17e4-4378-989b-c6132fa40d55"
      },
      "execution_count": 44,
      "outputs": [
        {
          "output_type": "stream",
          "name": "stdout",
          "text": [
            "\u001b[Khttps://github.com/pal-ette/iNotePal/releases/tag/reflex-0.2.1\n"
          ]
        }
      ]
    },
    {
      "cell_type": "code",
      "source": [],
      "metadata": {
        "id": "JqHVOg49Mxgh"
      },
      "execution_count": 39,
      "outputs": []
    }
  ]
}