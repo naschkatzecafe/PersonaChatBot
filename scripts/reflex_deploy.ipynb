{
  "nbformat": 4,
  "nbformat_minor": 0,
  "metadata": {
    "colab": {
      "provenance": [],
      "mount_file_id": "1lNunTdkRVSVkThlVQWZA41n683dbGIMa",
      "authorship_tag": "ABX9TyNDcegorQDk1sOohNWCe9hE"
    },
    "kernelspec": {
      "name": "python3",
      "display_name": "Python 3"
    },
    "language_info": {
      "name": "python"
    }
  },
  "cells": [
    {
      "cell_type": "code",
      "source": [
        "raw_token = \"\" # @param {type: \"string\"}\n",
        "version = \"reflex-0.2.3\" # @param {type: \"string\"}\n",
        "is_prerelease = False # @param {type: \"boolean\"}"
      ],
      "metadata": {
        "id": "x_B8pHL84N8L"
      },
      "execution_count": 22,
      "outputs": []
    },
    {
      "cell_type": "code",
      "source": [
        "from google.colab import userdata\n",
        "\n",
        "if not raw_token:\n",
        "    raw_token = userdata.get('GITHUB_PAT')"
      ],
      "metadata": {
        "id": "Wo1kaFoAkkkk"
      },
      "execution_count": 23,
      "outputs": []
    },
    {
      "cell_type": "code",
      "source": [
        "!apt install python3.10-venv"
      ],
      "metadata": {
        "id": "p47eY9vONjaO",
        "outputId": "d1eba128-46fa-43fd-f180-97e6b8d4c8a5",
        "colab": {
          "base_uri": "https://localhost:8080/"
        }
      },
      "execution_count": 24,
      "outputs": [
        {
          "output_type": "stream",
          "name": "stdout",
          "text": [
            "Reading package lists... Done\n",
            "Building dependency tree... Done\n",
            "Reading state information... Done\n",
            "The following additional packages will be installed:\n",
            "  libpython3.10 libpython3.10-dev libpython3.10-minimal libpython3.10-stdlib python3.10\n",
            "  python3.10-dev python3.10-minimal\n",
            "Suggested packages:\n",
            "  python3.10-doc binfmt-support\n",
            "The following packages will be upgraded:\n",
            "  libpython3.10 libpython3.10-dev libpython3.10-minimal libpython3.10-stdlib python3.10\n",
            "  python3.10-dev python3.10-minimal python3.10-venv\n",
            "8 upgraded, 0 newly installed, 0 to remove and 61 not upgraded.\n",
            "Need to get 12.7 MB of archives.\n",
            "After this operation, 23.6 kB of additional disk space will be used.\n",
            "Get:1 http://archive.ubuntu.com/ubuntu jammy-updates/main amd64 python3.10-dev amd64 3.10.12-1~22.04.6 [508 kB]\n",
            "Get:2 http://archive.ubuntu.com/ubuntu jammy-updates/main amd64 libpython3.10-dev amd64 3.10.12-1~22.04.6 [4,764 kB]\n",
            "Get:3 http://archive.ubuntu.com/ubuntu jammy-updates/main amd64 libpython3.10 amd64 3.10.12-1~22.04.6 [1,949 kB]\n",
            "Get:4 http://archive.ubuntu.com/ubuntu jammy-updates/universe amd64 python3.10-venv amd64 3.10.12-1~22.04.6 [5,722 B]\n",
            "Get:5 http://archive.ubuntu.com/ubuntu jammy-updates/main amd64 python3.10 amd64 3.10.12-1~22.04.6 [509 kB]\n",
            "Get:6 http://archive.ubuntu.com/ubuntu jammy-updates/main amd64 libpython3.10-stdlib amd64 3.10.12-1~22.04.6 [1,850 kB]\n",
            "Get:7 http://archive.ubuntu.com/ubuntu jammy-updates/main amd64 python3.10-minimal amd64 3.10.12-1~22.04.6 [2,258 kB]\n",
            "Get:8 http://archive.ubuntu.com/ubuntu jammy-updates/main amd64 libpython3.10-minimal amd64 3.10.12-1~22.04.6 [814 kB]\n",
            "Fetched 12.7 MB in 0s (29.2 MB/s)\n",
            "(Reading database ... 123813 files and directories currently installed.)\n",
            "Preparing to unpack .../0-python3.10-dev_3.10.12-1~22.04.6_amd64.deb ...\n",
            "Unpacking python3.10-dev (3.10.12-1~22.04.6) over (3.10.12-1~22.04.5) ...\n",
            "Preparing to unpack .../1-libpython3.10-dev_3.10.12-1~22.04.6_amd64.deb ...\n",
            "Unpacking libpython3.10-dev:amd64 (3.10.12-1~22.04.6) over (3.10.12-1~22.04.5) ...\n",
            "Preparing to unpack .../2-libpython3.10_3.10.12-1~22.04.6_amd64.deb ...\n",
            "Unpacking libpython3.10:amd64 (3.10.12-1~22.04.6) over (3.10.12-1~22.04.5) ...\n",
            "Preparing to unpack .../3-python3.10-venv_3.10.12-1~22.04.6_amd64.deb ...\n",
            "Unpacking python3.10-venv (3.10.12-1~22.04.6) over (3.10.12-1~22.04.5) ...\n",
            "Preparing to unpack .../4-python3.10_3.10.12-1~22.04.6_amd64.deb ...\n",
            "Unpacking python3.10 (3.10.12-1~22.04.6) over (3.10.12-1~22.04.5) ...\n",
            "Preparing to unpack .../5-libpython3.10-stdlib_3.10.12-1~22.04.6_amd64.deb ...\n",
            "Unpacking libpython3.10-stdlib:amd64 (3.10.12-1~22.04.6) over (3.10.12-1~22.04.5) ...\n",
            "Preparing to unpack .../6-python3.10-minimal_3.10.12-1~22.04.6_amd64.deb ...\n",
            "Unpacking python3.10-minimal (3.10.12-1~22.04.6) over (3.10.12-1~22.04.5) ...\n",
            "Preparing to unpack .../7-libpython3.10-minimal_3.10.12-1~22.04.6_amd64.deb ...\n",
            "Unpacking libpython3.10-minimal:amd64 (3.10.12-1~22.04.6) over (3.10.12-1~22.04.5) ...\n",
            "Setting up libpython3.10-minimal:amd64 (3.10.12-1~22.04.6) ...\n",
            "Setting up python3.10-minimal (3.10.12-1~22.04.6) ...\n",
            "Setting up libpython3.10-stdlib:amd64 (3.10.12-1~22.04.6) ...\n",
            "Setting up libpython3.10:amd64 (3.10.12-1~22.04.6) ...\n",
            "Setting up python3.10 (3.10.12-1~22.04.6) ...\n",
            "Setting up libpython3.10-dev:amd64 (3.10.12-1~22.04.6) ...\n",
            "Setting up python3.10-dev (3.10.12-1~22.04.6) ...\n",
            "Setting up python3.10-venv (3.10.12-1~22.04.6) ...\n",
            "Processing triggers for man-db (2.10.2-1) ...\n",
            "Processing triggers for libc-bin (2.35-0ubuntu3.4) ...\n",
            "/sbin/ldconfig.real: /usr/local/lib/libtbb.so.12 is not a symbolic link\n",
            "\n",
            "/sbin/ldconfig.real: /usr/local/lib/libur_loader.so.0 is not a symbolic link\n",
            "\n",
            "/sbin/ldconfig.real: /usr/local/lib/libur_adapter_opencl.so.0 is not a symbolic link\n",
            "\n",
            "/sbin/ldconfig.real: /usr/local/lib/libtbbbind_2_0.so.3 is not a symbolic link\n",
            "\n",
            "/sbin/ldconfig.real: /usr/local/lib/libur_adapter_level_zero.so.0 is not a symbolic link\n",
            "\n",
            "/sbin/ldconfig.real: /usr/local/lib/libtbbbind.so.3 is not a symbolic link\n",
            "\n",
            "/sbin/ldconfig.real: /usr/local/lib/libtbbbind_2_5.so.3 is not a symbolic link\n",
            "\n",
            "/sbin/ldconfig.real: /usr/local/lib/libtbbmalloc_proxy.so.2 is not a symbolic link\n",
            "\n",
            "/sbin/ldconfig.real: /usr/local/lib/libtbbmalloc.so.2 is not a symbolic link\n",
            "\n"
          ]
        }
      ]
    },
    {
      "cell_type": "code",
      "execution_count": 25,
      "metadata": {
        "colab": {
          "base_uri": "https://localhost:8080/"
        },
        "id": "37u2e1Vq2_xK",
        "outputId": "630792b2-7bab-4a28-f627-c45945632708"
      },
      "outputs": [
        {
          "output_type": "stream",
          "name": "stdout",
          "text": [
            "\u001b[33m\r0% [Working]\u001b[0m\r            \rHit:1 http://security.ubuntu.com/ubuntu jammy-security InRelease\n",
            "\u001b[33m\r0% [Connecting to archive.ubuntu.com (185.125.190.81)] [Connected to cloud.r-pr\u001b[0m\r                                                                               \rHit:2 https://cli.github.com/packages stable InRelease\n",
            "Hit:3 https://cloud.r-project.org/bin/linux/ubuntu jammy-cran40/ InRelease\n",
            "Hit:4 https://developer.download.nvidia.com/compute/cuda/repos/ubuntu2204/x86_64  InRelease\n",
            "Ign:5 https://r2u.stat.illinois.edu/ubuntu jammy InRelease\n",
            "Hit:6 http://archive.ubuntu.com/ubuntu jammy InRelease\n",
            "Hit:7 https://r2u.stat.illinois.edu/ubuntu jammy Release\n",
            "Hit:8 http://archive.ubuntu.com/ubuntu jammy-updates InRelease\n",
            "Hit:9 http://archive.ubuntu.com/ubuntu jammy-backports InRelease\n",
            "Hit:10 https://ppa.launchpadcontent.net/deadsnakes/ppa/ubuntu jammy InRelease\n",
            "Hit:11 https://ppa.launchpadcontent.net/graphics-drivers/ppa/ubuntu jammy InRelease\n",
            "Hit:12 https://ppa.launchpadcontent.net/ubuntugis/ppa/ubuntu jammy InRelease\n",
            "Reading package lists... Done\n",
            "Building dependency tree... Done\n",
            "Reading state information... Done\n",
            "61 packages can be upgraded. Run 'apt list --upgradable' to see them.\n",
            "\u001b[1;33mW: \u001b[0mSkipping acquire of configured file 'main/source/Sources' as repository 'https://r2u.stat.illinois.edu/ubuntu jammy InRelease' does not seem to provide it (sources.list entry misspelt?)\u001b[0m\n",
            "Reading package lists... Done\n",
            "Building dependency tree... Done\n",
            "Reading state information... Done\n",
            "gh is already the newest version (2.57.0).\n",
            "0 upgraded, 0 newly installed, 0 to remove and 61 not upgraded.\n",
            "gh version 2.57.0 (2024-09-16)\n",
            "https://github.com/cli/cli/releases/tag/v2.57.0\n"
          ]
        }
      ],
      "source": [
        "!sudo mkdir -p -m 755 /etc/apt/keyrings && wget -qO- https://cli.github.com/packages/githubcli-archive-keyring.gpg | sudo tee /etc/apt/keyrings/githubcli-archive-keyring.gpg > /dev/null \\\n",
        "&& sudo chmod go+r /etc/apt/keyrings/githubcli-archive-keyring.gpg \\\n",
        "&& echo \"deb [arch=$(dpkg --print-architecture) signed-by=/etc/apt/keyrings/githubcli-archive-keyring.gpg] https://cli.github.com/packages stable main\" | sudo tee /etc/apt/sources.list.d/github-cli.list > /dev/null \\\n",
        "&& sudo apt update \\\n",
        "&& sudo apt install gh -y\n",
        "!gh version"
      ]
    },
    {
      "cell_type": "code",
      "source": [
        "!echo {raw_token} > /content/pat.txt"
      ],
      "metadata": {
        "id": "_M784miV5Yqj"
      },
      "execution_count": 26,
      "outputs": []
    },
    {
      "cell_type": "code",
      "source": [
        "!gh auth login --hostname github.com -p https --with-token  < /content/pat.txt"
      ],
      "metadata": {
        "id": "0t3WxtPa4Kha"
      },
      "execution_count": 27,
      "outputs": []
    },
    {
      "cell_type": "code",
      "source": [
        "!gh auth status"
      ],
      "metadata": {
        "colab": {
          "base_uri": "https://localhost:8080/"
        },
        "id": "LGYLb57p4TfT",
        "outputId": "5eb20b15-bd50-4b3e-9019-fbc32eddaf42"
      },
      "execution_count": 28,
      "outputs": [
        {
          "output_type": "stream",
          "name": "stdout",
          "text": [
            "\u001b[0;1;39mgithub.com\u001b[0m\n",
            "  \u001b[0;32m✓\u001b[0m Logged in to github.com account \u001b[0;1;39mryugibo\u001b[0m (/root/.config/gh/hosts.yml)\n",
            "  - Active account: \u001b[0;1;39mtrue\u001b[0m\n",
            "  - Git operations protocol: \u001b[0;1;39mhttps\u001b[0m\n",
            "  - Token: \u001b[0;1;39mgithub_pat_11AB4PWOA0pSA0vdtCAYiM_***********************************************************\u001b[0m\n"
          ]
        }
      ]
    },
    {
      "cell_type": "code",
      "source": [
        "!rm /content/pat.txt"
      ],
      "metadata": {
        "id": "Fcss-5W-q4Mh"
      },
      "execution_count": 29,
      "outputs": []
    },
    {
      "cell_type": "code",
      "source": [
        "%cd /content"
      ],
      "metadata": {
        "id": "lb7IrV_aw7tR",
        "outputId": "b5161a43-e17a-404b-b012-171c8fd97ab0",
        "colab": {
          "base_uri": "https://localhost:8080/"
        }
      },
      "execution_count": 30,
      "outputs": [
        {
          "output_type": "stream",
          "name": "stdout",
          "text": [
            "/content\n"
          ]
        }
      ]
    },
    {
      "cell_type": "code",
      "source": [
        "!rm -rf iNotePal"
      ],
      "metadata": {
        "id": "g1PDdOGhw9wQ"
      },
      "execution_count": 31,
      "outputs": []
    },
    {
      "cell_type": "code",
      "source": [
        "!gh repo clone pal-ette/iNotePal"
      ],
      "metadata": {
        "colab": {
          "base_uri": "https://localhost:8080/"
        },
        "id": "zKOftMdt4WJb",
        "outputId": "12a313cc-1b20-413a-8830-a2a39ee92e4f"
      },
      "execution_count": 32,
      "outputs": [
        {
          "output_type": "stream",
          "name": "stdout",
          "text": [
            "Cloning into 'iNotePal'...\n",
            "remote: Enumerating objects: 2820, done.\u001b[K\n",
            "remote: Counting objects: 100% (279/279), done.\u001b[K\n",
            "remote: Compressing objects: 100% (122/122), done.\u001b[K\n",
            "remote: Total 2820 (delta 179), reused 189 (delta 149), pack-reused 2541 (from 1)\u001b[K\n",
            "Receiving objects: 100% (2820/2820), 17.45 MiB | 21.12 MiB/s, done.\n",
            "Resolving deltas: 100% (1769/1769), done.\n"
          ]
        }
      ]
    },
    {
      "cell_type": "code",
      "source": [
        "%cd iNotePal/app"
      ],
      "metadata": {
        "colab": {
          "base_uri": "https://localhost:8080/"
        },
        "id": "bJzufFgt4cVr",
        "outputId": "dd4e6d2b-b8b8-470c-f3b5-6a13fdfe5c78"
      },
      "execution_count": 33,
      "outputs": [
        {
          "output_type": "stream",
          "name": "stdout",
          "text": [
            "/content/iNotePal/app\n"
          ]
        }
      ]
    },
    {
      "cell_type": "code",
      "source": [
        "!./deploy/init_ubuntu.sh"
      ],
      "metadata": {
        "id": "hrHjOcq6NHKl",
        "outputId": "0599bfd3-3cbc-474c-a303-ecdbaf0ba6b9",
        "colab": {
          "base_uri": "https://localhost:8080/"
        }
      },
      "execution_count": 34,
      "outputs": [
        {
          "output_type": "stream",
          "name": "stdout",
          "text": [
            "./deploy/init_ubuntu.sh: 3: asdf: not found\n",
            "Collecting absl-py==2.1.0\n",
            "  Using cached absl_py-2.1.0-py3-none-any.whl (133 kB)\n",
            "Collecting alembic==1.13.1\n",
            "  Using cached alembic-1.13.1-py3-none-any.whl (233 kB)\n",
            "Collecting annotated-types==0.6.0\n",
            "  Using cached annotated_types-0.6.0-py3-none-any.whl (12 kB)\n",
            "Collecting anyio==4.3.0\n",
            "  Using cached anyio-4.3.0-py3-none-any.whl (85 kB)\n",
            "Collecting astunparse==1.6.3\n",
            "  Using cached astunparse-1.6.3-py2.py3-none-any.whl (12 kB)\n",
            "Collecting async-timeout==4.0.3\n",
            "  Using cached async_timeout-4.0.3-py3-none-any.whl (5.7 kB)\n",
            "Collecting backports.tarfile==1.1.1\n",
            "  Using cached backports.tarfile-1.1.1-py3-none-any.whl (29 kB)\n",
            "Collecting bcrypt==4.1.2\n",
            "  Using cached bcrypt-4.1.2-cp39-abi3-manylinux_2_28_x86_64.whl (698 kB)\n",
            "Collecting bidict==0.23.1\n",
            "  Using cached bidict-0.23.1-py3-none-any.whl (32 kB)\n",
            "Collecting build==1.2.1\n",
            "  Using cached build-1.2.1-py3-none-any.whl (21 kB)\n",
            "Collecting cachetools==5.3.3\n",
            "  Using cached cachetools-5.3.3-py3-none-any.whl (9.3 kB)\n",
            "Collecting certifi==2024.2.2\n",
            "  Using cached certifi-2024.2.2-py3-none-any.whl (163 kB)\n",
            "Collecting cffi==1.16.0\n",
            "  Using cached cffi-1.16.0-cp310-cp310-manylinux_2_17_x86_64.manylinux2014_x86_64.whl (443 kB)\n",
            "Collecting charset-normalizer==3.3.2\n",
            "  Using cached charset_normalizer-3.3.2-cp310-cp310-manylinux_2_17_x86_64.manylinux2014_x86_64.whl (142 kB)\n",
            "Collecting click==8.1.7\n",
            "  Using cached click-8.1.7-py3-none-any.whl (97 kB)\n",
            "Collecting cryptography==42.0.6\n",
            "  Using cached cryptography-42.0.6-cp39-abi3-manylinux_2_28_x86_64.whl (3.8 MB)\n",
            "Collecting deprecation==2.1.0\n",
            "  Using cached deprecation-2.1.0-py2.py3-none-any.whl (11 kB)\n",
            "Collecting dill==0.3.8\n",
            "  Using cached dill-0.3.8-py3-none-any.whl (116 kB)\n",
            "Collecting distro==1.9.0\n",
            "  Using cached distro-1.9.0-py3-none-any.whl (20 kB)\n",
            "Collecting docutils==0.21.2\n",
            "  Using cached docutils-0.21.2-py3-none-any.whl (587 kB)\n",
            "Collecting exceptiongroup==1.2.1\n",
            "  Using cached exceptiongroup-1.2.1-py3-none-any.whl (16 kB)\n",
            "Collecting fastapi==0.110.3\n",
            "  Using cached fastapi-0.110.3-py3-none-any.whl (91 kB)\n",
            "Collecting filelock==3.14.0\n",
            "  Using cached filelock-3.14.0-py3-none-any.whl (12 kB)\n",
            "Collecting flatbuffers==24.3.25\n",
            "  Using cached flatbuffers-24.3.25-py2.py3-none-any.whl (26 kB)\n",
            "Collecting fsspec==2024.3.1\n",
            "  Using cached fsspec-2024.3.1-py3-none-any.whl (171 kB)\n",
            "Collecting gast==0.5.4\n",
            "  Using cached gast-0.5.4-py3-none-any.whl (19 kB)\n",
            "Collecting google-auth==2.29.0\n",
            "  Using cached google_auth-2.29.0-py2.py3-none-any.whl (189 kB)\n",
            "Collecting google-auth-oauthlib==1.2.0\n",
            "  Using cached google_auth_oauthlib-1.2.0-py2.py3-none-any.whl (24 kB)\n",
            "Collecting google-pasta==0.2.0\n",
            "  Using cached google_pasta-0.2.0-py3-none-any.whl (57 kB)\n",
            "Collecting gotrue==2.4.2\n",
            "  Using cached gotrue-2.4.2-py3-none-any.whl (44 kB)\n",
            "Collecting greenlet==3.0.3\n",
            "  Using cached greenlet-3.0.3-cp310-cp310-manylinux_2_24_x86_64.manylinux_2_28_x86_64.whl (616 kB)\n",
            "Collecting grpcio==1.63.0\n",
            "  Using cached grpcio-1.63.0-cp310-cp310-manylinux_2_17_x86_64.manylinux2014_x86_64.whl (5.6 MB)\n",
            "Collecting gunicorn==21.2.0\n",
            "  Using cached gunicorn-21.2.0-py3-none-any.whl (80 kB)\n",
            "Collecting h11==0.14.0\n",
            "  Using cached h11-0.14.0-py3-none-any.whl (58 kB)\n",
            "Collecting h5py==3.11.0\n",
            "  Using cached h5py-3.11.0-cp310-cp310-manylinux_2_17_x86_64.manylinux2014_x86_64.whl (5.3 MB)\n",
            "Collecting httpcore==1.0.5\n",
            "  Using cached httpcore-1.0.5-py3-none-any.whl (77 kB)\n",
            "Collecting httpx==0.27.0\n",
            "  Using cached httpx-0.27.0-py3-none-any.whl (75 kB)\n",
            "Collecting huggingface-hub==0.23.0\n",
            "  Using cached huggingface_hub-0.23.0-py3-none-any.whl (401 kB)\n",
            "Collecting idna==3.7\n",
            "  Using cached idna-3.7-py3-none-any.whl (66 kB)\n",
            "Collecting importlib_metadata==7.1.0\n",
            "  Using cached importlib_metadata-7.1.0-py3-none-any.whl (24 kB)\n",
            "Collecting install-jdk==1.1.0\n",
            "  Using cached install_jdk-1.1.0-py3-none-any.whl (15 kB)\n",
            "Collecting jaraco.classes==3.4.0\n",
            "  Using cached jaraco.classes-3.4.0-py3-none-any.whl (6.8 kB)\n",
            "Collecting jaraco.context==5.3.0\n",
            "  Using cached jaraco.context-5.3.0-py3-none-any.whl (6.5 kB)\n",
            "Collecting jaraco.functools==4.0.1\n",
            "  Using cached jaraco.functools-4.0.1-py3-none-any.whl (9.8 kB)\n",
            "Collecting jeepney==0.8.0\n",
            "  Using cached jeepney-0.8.0-py3-none-any.whl (48 kB)\n",
            "Collecting Jinja2==3.1.4\n",
            "  Using cached jinja2-3.1.4-py3-none-any.whl (133 kB)\n",
            "Collecting joblib==1.4.2\n",
            "  Using cached joblib-1.4.2-py3-none-any.whl (301 kB)\n",
            "Collecting JPype1==1.5.0\n",
            "  Using cached JPype1-1.5.0-cp310-cp310-manylinux_2_17_x86_64.manylinux2014_x86_64.whl (488 kB)\n",
            "Collecting keras==2.15.0\n",
            "  Using cached keras-2.15.0-py3-none-any.whl (1.7 MB)\n",
            "Collecting keyring==25.2.0\n",
            "  Using cached keyring-25.2.0-py3-none-any.whl (38 kB)\n",
            "Collecting konlpy==0.6.0\n",
            "  Using cached konlpy-0.6.0-py2.py3-none-any.whl (19.4 MB)\n",
            "Collecting lazy_loader==0.4\n",
            "  Using cached lazy_loader-0.4-py3-none-any.whl (12 kB)\n",
            "Collecting libclang==18.1.1\n",
            "  Using cached libclang-18.1.1-py2.py3-none-manylinux2010_x86_64.whl (24.5 MB)\n",
            "Collecting lxml==5.2.1\n",
            "  Using cached lxml-5.2.1-cp310-cp310-manylinux_2_28_x86_64.whl (5.0 MB)\n",
            "Collecting Mako==1.3.3\n",
            "  Using cached Mako-1.3.3-py3-none-any.whl (78 kB)\n",
            "Collecting Markdown==3.6\n",
            "  Using cached Markdown-3.6-py3-none-any.whl (105 kB)\n",
            "Collecting markdown-it-py==3.0.0\n",
            "  Using cached markdown_it_py-3.0.0-py3-none-any.whl (87 kB)\n",
            "Collecting MarkupSafe==2.1.5\n",
            "  Using cached MarkupSafe-2.1.5-cp310-cp310-manylinux_2_17_x86_64.manylinux2014_x86_64.whl (25 kB)\n",
            "Collecting mdurl==0.1.2\n",
            "  Using cached mdurl-0.1.2-py3-none-any.whl (10.0 kB)\n",
            "Collecting ml-dtypes==0.2.0\n",
            "  Using cached ml_dtypes-0.2.0-cp310-cp310-manylinux_2_17_x86_64.manylinux2014_x86_64.whl (1.0 MB)\n",
            "Collecting more-itertools==10.2.0\n",
            "  Using cached more_itertools-10.2.0-py3-none-any.whl (57 kB)\n",
            "Collecting mpmath==1.3.0\n",
            "  Using cached mpmath-1.3.0-py3-none-any.whl (536 kB)\n",
            "Collecting networkx==3.3\n",
            "  Using cached networkx-3.3-py3-none-any.whl (1.7 MB)\n",
            "Collecting nh3==0.2.17\n",
            "  Using cached nh3-0.2.17-cp37-abi3-manylinux_2_17_x86_64.manylinux2014_x86_64.whl (777 kB)\n",
            "Collecting numpy==1.26.4\n",
            "  Using cached numpy-1.26.4-cp310-cp310-manylinux_2_17_x86_64.manylinux2014_x86_64.whl (18.2 MB)\n",
            "Collecting nvidia-cublas-cu12==12.1.3.1\n",
            "  Using cached nvidia_cublas_cu12-12.1.3.1-py3-none-manylinux1_x86_64.whl (410.6 MB)\n",
            "Collecting nvidia-cuda-cupti-cu12==12.1.105\n",
            "  Using cached nvidia_cuda_cupti_cu12-12.1.105-py3-none-manylinux1_x86_64.whl (14.1 MB)\n",
            "Collecting nvidia-cuda-nvrtc-cu12==12.1.105\n",
            "  Using cached nvidia_cuda_nvrtc_cu12-12.1.105-py3-none-manylinux1_x86_64.whl (23.7 MB)\n",
            "Collecting nvidia-cuda-runtime-cu12==12.1.105\n",
            "  Using cached nvidia_cuda_runtime_cu12-12.1.105-py3-none-manylinux1_x86_64.whl (823 kB)\n",
            "Collecting nvidia-cudnn-cu12==8.9.2.26\n",
            "  Using cached nvidia_cudnn_cu12-8.9.2.26-py3-none-manylinux1_x86_64.whl (731.7 MB)\n",
            "Collecting nvidia-cufft-cu12==11.0.2.54\n",
            "  Using cached nvidia_cufft_cu12-11.0.2.54-py3-none-manylinux1_x86_64.whl (121.6 MB)\n",
            "Collecting nvidia-curand-cu12==10.3.2.106\n",
            "  Using cached nvidia_curand_cu12-10.3.2.106-py3-none-manylinux1_x86_64.whl (56.5 MB)\n",
            "Collecting nvidia-cusolver-cu12==11.4.5.107\n",
            "  Using cached nvidia_cusolver_cu12-11.4.5.107-py3-none-manylinux1_x86_64.whl (124.2 MB)\n",
            "Collecting nvidia-cusparse-cu12==12.1.0.106\n",
            "  Using cached nvidia_cusparse_cu12-12.1.0.106-py3-none-manylinux1_x86_64.whl (196.0 MB)\n",
            "Collecting nvidia-nccl-cu12==2.19.3\n",
            "  Using cached nvidia_nccl_cu12-2.19.3-py3-none-manylinux1_x86_64.whl (166.0 MB)\n",
            "Collecting nvidia-nvjitlink-cu12==12.4.127\n",
            "  Using cached nvidia_nvjitlink_cu12-12.4.127-py3-none-manylinux2014_x86_64.whl (21.1 MB)\n",
            "Collecting nvidia-nvtx-cu12==12.1.105\n",
            "  Using cached nvidia_nvtx_cu12-12.1.105-py3-none-manylinux1_x86_64.whl (99 kB)\n",
            "Collecting oauthlib==3.2.2\n",
            "  Using cached oauthlib-3.2.2-py3-none-any.whl (151 kB)\n",
            "Collecting openai==1.20.0\n",
            "  Using cached openai-1.20.0-py3-none-any.whl (292 kB)\n",
            "Collecting opt-einsum==3.3.0\n",
            "  Using cached opt_einsum-3.3.0-py3-none-any.whl (65 kB)\n",
            "Collecting packaging==24.0\n",
            "  Using cached packaging-24.0-py3-none-any.whl (53 kB)\n",
            "Collecting pillow==10.3.0\n",
            "  Using cached pillow-10.3.0-cp310-cp310-manylinux_2_28_x86_64.whl (4.5 MB)\n",
            "Collecting pipdeptree==2.16.2\n",
            "  Using cached pipdeptree-2.16.2-py3-none-any.whl (27 kB)\n",
            "Collecting pkginfo==1.10.0\n",
            "  Using cached pkginfo-1.10.0-py3-none-any.whl (30 kB)\n",
            "Collecting platformdirs==4.2.1\n",
            "  Using cached platformdirs-4.2.1-py3-none-any.whl (17 kB)\n",
            "Collecting postgrest==0.16.4\n",
            "  Using cached postgrest-0.16.4-py3-none-any.whl (20 kB)\n",
            "Collecting protobuf==4.25.3\n",
            "  Using cached protobuf-4.25.3-cp37-abi3-manylinux2014_x86_64.whl (294 kB)\n",
            "Collecting psutil==5.9.8\n",
            "  Using cached psutil-5.9.8-cp36-abi3-manylinux_2_12_x86_64.manylinux2010_x86_64.manylinux_2_17_x86_64.manylinux2014_x86_64.whl (288 kB)\n",
            "Collecting pyasn1==0.6.0\n",
            "  Using cached pyasn1-0.6.0-py2.py3-none-any.whl (85 kB)\n",
            "Collecting pyasn1_modules==0.4.0\n",
            "  Using cached pyasn1_modules-0.4.0-py3-none-any.whl (181 kB)\n",
            "Collecting pycparser==2.22\n",
            "  Using cached pycparser-2.22-py3-none-any.whl (117 kB)\n",
            "Collecting pydantic==2.7.1\n",
            "  Using cached pydantic-2.7.1-py3-none-any.whl (409 kB)\n",
            "Collecting pydantic_core==2.18.2\n",
            "  Using cached pydantic_core-2.18.2-cp310-cp310-manylinux_2_17_x86_64.manylinux2014_x86_64.whl (2.1 MB)\n",
            "Collecting Pygments==2.18.0\n",
            "  Using cached pygments-2.18.0-py3-none-any.whl (1.2 MB)\n",
            "Collecting PyJWT==2.8.0\n",
            "  Using cached PyJWT-2.8.0-py3-none-any.whl (22 kB)\n",
            "Collecting pyproject_hooks==1.1.0\n",
            "  Using cached pyproject_hooks-1.1.0-py3-none-any.whl (9.2 kB)\n",
            "Collecting python-dateutil==2.9.0.post0\n",
            "  Using cached python_dateutil-2.9.0.post0-py2.py3-none-any.whl (229 kB)\n",
            "Collecting python-dotenv==1.0.1\n",
            "  Using cached python_dotenv-1.0.1-py3-none-any.whl (19 kB)\n",
            "Collecting python-engineio==4.9.0\n",
            "  Using cached python_engineio-4.9.0-py3-none-any.whl (57 kB)\n",
            "Collecting python-multipart==0.0.9\n",
            "  Using cached python_multipart-0.0.9-py3-none-any.whl (22 kB)\n",
            "Collecting python-socketio==5.11.2\n",
            "  Using cached python_socketio-5.11.2-py3-none-any.whl (75 kB)\n",
            "Collecting PyYAML==6.0.1\n",
            "  Using cached PyYAML-6.0.1-cp310-cp310-manylinux_2_17_x86_64.manylinux2014_x86_64.whl (705 kB)\n",
            "Collecting readme_renderer==43.0\n",
            "  Using cached readme_renderer-43.0-py3-none-any.whl (13 kB)\n",
            "Collecting realtime==1.0.4\n",
            "  Using cached realtime-1.0.4-py3-none-any.whl (8.9 kB)\n",
            "Collecting redis==5.0.4\n",
            "  Using cached redis-5.0.4-py3-none-any.whl (251 kB)\n",
            "Collecting reflex==0.5.10\n",
            "  Using cached reflex-0.5.10-py3-none-any.whl (728 kB)\n",
            "Collecting reflex-calendar==0.0.4\n",
            "  Using cached reflex_calendar-0.0.4-py3-none-any.whl (5.8 kB)\n",
            "Collecting reflex-chakra==0.5.10\n",
            "  Using cached reflex_chakra-0.5.10-py3-none-any.whl (173 kB)\n",
            "Collecting reflex-hosting-cli==0.1.13\n",
            "  Using cached reflex_hosting_cli-0.1.13-py3-none-any.whl (32 kB)\n",
            "Collecting reflex-wordcloud==0.0.2\n",
            "  Using cached reflex_wordcloud-0.0.2-py3-none-any.whl (2.0 kB)\n",
            "Collecting regex==2024.4.28\n",
            "  Using cached regex-2024.4.28-cp310-cp310-manylinux_2_17_x86_64.manylinux2014_x86_64.whl (774 kB)\n",
            "Collecting requests==2.31.0\n",
            "  Using cached requests-2.31.0-py3-none-any.whl (62 kB)\n",
            "Collecting requests-oauthlib==2.0.0\n",
            "  Using cached requests_oauthlib-2.0.0-py2.py3-none-any.whl (24 kB)\n",
            "Collecting requests-toolbelt==1.0.0\n",
            "  Using cached requests_toolbelt-1.0.0-py2.py3-none-any.whl (54 kB)\n",
            "Collecting rfc3986==2.0.0\n",
            "  Using cached rfc3986-2.0.0-py2.py3-none-any.whl (31 kB)\n",
            "Collecting rich==13.7.1\n",
            "  Using cached rich-13.7.1-py3-none-any.whl (240 kB)\n",
            "Collecting rsa==4.9\n",
            "  Using cached rsa-4.9-py3-none-any.whl (34 kB)\n",
            "Collecting safetensors==0.4.3\n",
            "  Using cached safetensors-0.4.3-cp310-cp310-manylinux_2_17_x86_64.manylinux2014_x86_64.whl (1.2 MB)\n",
            "Collecting scikit-learn==1.2.2\n",
            "  Using cached scikit_learn-1.2.2-cp310-cp310-manylinux_2_17_x86_64.manylinux2014_x86_64.whl (9.6 MB)\n",
            "Collecting scipy==1.13.0\n",
            "  Using cached scipy-1.13.0-cp310-cp310-manylinux_2_17_x86_64.manylinux2014_x86_64.whl (38.6 MB)\n",
            "Collecting SecretStorage==3.3.3\n",
            "  Using cached SecretStorage-3.3.3-py3-none-any.whl (15 kB)\n",
            "Collecting sentence-transformers==2.7.0\n",
            "  Using cached sentence_transformers-2.7.0-py3-none-any.whl (171 kB)\n",
            "Collecting shellingham==1.5.4\n",
            "  Using cached shellingham-1.5.4-py2.py3-none-any.whl (9.8 kB)\n",
            "Collecting simple-websocket==1.0.0\n",
            "  Using cached simple_websocket-1.0.0-py3-none-any.whl (13 kB)\n",
            "Collecting six==1.16.0\n",
            "  Using cached six-1.16.0-py2.py3-none-any.whl (11 kB)\n",
            "Collecting sniffio==1.3.1\n",
            "  Using cached sniffio-1.3.1-py3-none-any.whl (10 kB)\n",
            "Collecting SQLAlchemy==2.0.30\n",
            "  Using cached SQLAlchemy-2.0.30-cp310-cp310-manylinux_2_17_x86_64.manylinux2014_x86_64.whl (3.1 MB)\n",
            "Collecting sqlmodel==0.0.18\n",
            "  Using cached sqlmodel-0.0.18-py3-none-any.whl (26 kB)\n",
            "Collecting starlette==0.37.2\n",
            "  Using cached starlette-0.37.2-py3-none-any.whl (71 kB)\n",
            "Collecting starlette-admin==0.13.2\n",
            "  Using cached starlette_admin-0.13.2-py3-none-any.whl (2.2 MB)\n",
            "Collecting storage3==0.7.4\n",
            "  Using cached storage3-0.7.4-py3-none-any.whl (15 kB)\n",
            "Collecting StrEnum==0.4.15\n",
            "  Using cached StrEnum-0.4.15-py3-none-any.whl (8.9 kB)\n",
            "Collecting supabase==2.4.3\n",
            "  Using cached supabase-2.4.3-py3-none-any.whl (15 kB)\n",
            "Collecting supafunc==0.4.5\n",
            "  Using cached supafunc-0.4.5-py3-none-any.whl (6.1 kB)\n",
            "Collecting sympy==1.12\n",
            "  Using cached sympy-1.12-py3-none-any.whl (5.7 MB)\n",
            "Collecting tabulate==0.9.0\n",
            "  Using cached tabulate-0.9.0-py3-none-any.whl (35 kB)\n",
            "Collecting tensorboard==2.15.2\n",
            "  Using cached tensorboard-2.15.2-py3-none-any.whl (5.5 MB)\n",
            "Collecting tensorboard-data-server==0.7.2\n",
            "  Using cached tensorboard_data_server-0.7.2-py3-none-manylinux_2_31_x86_64.whl (6.6 MB)\n",
            "Collecting tensorflow==2.15.0\n",
            "  Using cached tensorflow-2.15.0-cp310-cp310-manylinux_2_17_x86_64.manylinux2014_x86_64.whl (475.2 MB)\n",
            "Collecting tensorflow-estimator==2.15.0\n",
            "  Using cached tensorflow_estimator-2.15.0-py2.py3-none-any.whl (441 kB)\n",
            "Collecting tensorflow-io-gcs-filesystem==0.37.0\n",
            "  Using cached tensorflow_io_gcs_filesystem-0.37.0-cp310-cp310-manylinux_2_17_x86_64.manylinux2014_x86_64.whl (5.1 MB)\n",
            "Collecting termcolor==2.4.0\n",
            "  Using cached termcolor-2.4.0-py3-none-any.whl (7.7 kB)\n",
            "Collecting threadpoolctl==3.5.0\n",
            "  Using cached threadpoolctl-3.5.0-py3-none-any.whl (18 kB)\n",
            "Collecting tokenizers==0.19.1\n",
            "  Using cached tokenizers-0.19.1-cp310-cp310-manylinux_2_17_x86_64.manylinux2014_x86_64.whl (3.6 MB)\n",
            "Collecting tomli==2.0.1\n",
            "  Using cached tomli-2.0.1-py3-none-any.whl (12 kB)\n",
            "Collecting tomlkit==0.12.4\n",
            "  Using cached tomlkit-0.12.4-py3-none-any.whl (37 kB)\n",
            "Collecting torch==2.2.2\n",
            "  Using cached torch-2.2.2-cp310-cp310-manylinux1_x86_64.whl (755.5 MB)\n",
            "Collecting torchaudio==2.2.2\n",
            "  Using cached torchaudio-2.2.2-cp310-cp310-manylinux1_x86_64.whl (3.3 MB)\n",
            "Collecting torchvision==0.17.2\n",
            "  Using cached torchvision-0.17.2-cp310-cp310-manylinux1_x86_64.whl (6.9 MB)\n",
            "Collecting tqdm==4.66.4\n",
            "  Using cached tqdm-4.66.4-py3-none-any.whl (78 kB)\n",
            "Collecting transformers==4.40.1\n",
            "  Using cached transformers-4.40.1-py3-none-any.whl (9.0 MB)\n",
            "Collecting triton==2.2.0\n",
            "  Using cached triton-2.2.0-cp310-cp310-manylinux_2_17_x86_64.manylinux2014_x86_64.whl (167.9 MB)\n",
            "Collecting twine==5.0.0\n",
            "  Using cached twine-5.0.0-py3-none-any.whl (37 kB)\n",
            "Collecting typer==0.12.3\n",
            "  Using cached typer-0.12.3-py3-none-any.whl (47 kB)\n",
            "Collecting typing_extensions==4.11.0\n",
            "  Using cached typing_extensions-4.11.0-py3-none-any.whl (34 kB)\n",
            "Collecting urllib3==2.2.1\n",
            "  Using cached urllib3-2.2.1-py3-none-any.whl (121 kB)\n",
            "Collecting uvicorn==0.20.0\n",
            "  Using cached uvicorn-0.20.0-py3-none-any.whl (56 kB)\n",
            "Collecting watchdog==4.0.0\n",
            "  Using cached watchdog-4.0.0-py3-none-manylinux2014_x86_64.whl (82 kB)\n",
            "Collecting watchfiles==0.21.0\n",
            "  Using cached watchfiles-0.21.0-cp310-cp310-manylinux_2_17_x86_64.manylinux2014_x86_64.whl (1.3 MB)\n",
            "Collecting websockets==12.0\n",
            "  Using cached websockets-12.0-cp310-cp310-manylinux_2_5_x86_64.manylinux1_x86_64.manylinux_2_17_x86_64.manylinux2014_x86_64.whl (130 kB)\n",
            "Collecting Werkzeug==3.0.3\n",
            "  Using cached werkzeug-3.0.3-py3-none-any.whl (227 kB)\n",
            "Collecting wrapt==1.14.1\n",
            "  Using cached wrapt-1.14.1-cp310-cp310-manylinux_2_5_x86_64.manylinux1_x86_64.manylinux_2_17_x86_64.manylinux2014_x86_64.whl (77 kB)\n",
            "Collecting wsproto==1.2.0\n",
            "  Using cached wsproto-1.2.0-py3-none-any.whl (24 kB)\n",
            "Collecting zipp==3.18.1\n",
            "  Using cached zipp-3.18.1-py3-none-any.whl (8.2 kB)\n",
            "Collecting wheel<1.0,>=0.23.0\n",
            "  Using cached wheel-0.44.0-py3-none-any.whl (67 kB)\n",
            "Collecting pip>=23.1.2\n",
            "  Using cached pip-24.2-py3-none-any.whl (1.8 MB)\n",
            "Collecting setuptools<70.2,>=69.1.1\n",
            "  Using cached setuptools-70.1.1-py3-none-any.whl (883 kB)\n",
            "Installing collected packages: StrEnum, nh3, mpmath, libclang, flatbuffers, zipp, wrapt, wheel, websockets, watchdog, urllib3, typing_extensions, tqdm, tomlkit, tomli, threadpoolctl, termcolor, tensorflow-io-gcs-filesystem, tensorflow-estimator, tensorboard-data-server, tabulate, sympy, sniffio, six, shellingham, setuptools, safetensors, rfc3986, regex, PyYAML, python-multipart, python-dotenv, pyproject_hooks, PyJWT, Pygments, pycparser, pyasn1, psutil, protobuf, platformdirs, pkginfo, pip, pillow, packaging, oauthlib, nvidia-nvtx-cu12, nvidia-nvjitlink-cu12, nvidia-nccl-cu12, nvidia-curand-cu12, nvidia-cufft-cu12, nvidia-cuda-runtime-cu12, nvidia-cuda-nvrtc-cu12, nvidia-cuda-cupti-cu12, nvidia-cublas-cu12, numpy, networkx, more-itertools, mdurl, MarkupSafe, Markdown, lxml, keras, joblib, jeepney, install-jdk, idna, h11, grpcio, greenlet, gast, fsspec, filelock, exceptiongroup, docutils, distro, dill, click, charset-normalizer, certifi, cachetools, bidict, bcrypt, backports.tarfile, async-timeout, annotated-types, absl-py, wsproto, Werkzeug, uvicorn, triton, SQLAlchemy, scipy, rsa, requests, redis, readme_renderer, python-dateutil, pydantic_core, pyasn1_modules, pipdeptree, opt-einsum, nvidia-cusparse-cu12, nvidia-cudnn-cu12, ml-dtypes, markdown-it-py, Mako, lazy_loader, JPype1, Jinja2, jaraco.functools, jaraco.context, jaraco.classes, importlib_metadata, httpcore, h5py, gunicorn, google-pasta, deprecation, cffi, build, astunparse, anyio, watchfiles, starlette, simple-websocket, scikit-learn, rich, requests-toolbelt, requests-oauthlib, realtime, pydantic, nvidia-cusolver-cu12, konlpy, huggingface-hub, httpx, google-auth, cryptography, alembic, typer, torch, tokenizers, supafunc, storage3, starlette-admin, sqlmodel, SecretStorage, python-engineio, postgrest, openai, gotrue, google-auth-oauthlib, fastapi, transformers, torchvision, torchaudio, tensorboard, supabase, reflex-hosting-cli, python-socketio, keyring, twine, tensorflow, sentence-transformers, reflex-chakra, reflex, reflex-wordcloud, reflex-calendar\n",
            "  Attempting uninstall: setuptools\n",
            "    Found existing installation: setuptools 59.6.0\n",
            "    Uninstalling setuptools-59.6.0:\n",
            "      Successfully uninstalled setuptools-59.6.0\n",
            "  Attempting uninstall: pip\n",
            "    Found existing installation: pip 22.0.2\n",
            "    Uninstalling pip-22.0.2:\n",
            "      Successfully uninstalled pip-22.0.2\n",
            "Successfully installed JPype1-1.5.0 Jinja2-3.1.4 Mako-1.3.3 Markdown-3.6 MarkupSafe-2.1.5 PyJWT-2.8.0 PyYAML-6.0.1 Pygments-2.18.0 SQLAlchemy-2.0.30 SecretStorage-3.3.3 StrEnum-0.4.15 Werkzeug-3.0.3 absl-py-2.1.0 alembic-1.13.1 annotated-types-0.6.0 anyio-4.3.0 astunparse-1.6.3 async-timeout-4.0.3 backports.tarfile-1.1.1 bcrypt-4.1.2 bidict-0.23.1 build-1.2.1 cachetools-5.3.3 certifi-2024.2.2 cffi-1.16.0 charset-normalizer-3.3.2 click-8.1.7 cryptography-42.0.6 deprecation-2.1.0 dill-0.3.8 distro-1.9.0 docutils-0.21.2 exceptiongroup-1.2.1 fastapi-0.110.3 filelock-3.14.0 flatbuffers-24.3.25 fsspec-2024.3.1 gast-0.5.4 google-auth-2.29.0 google-auth-oauthlib-1.2.0 google-pasta-0.2.0 gotrue-2.4.2 greenlet-3.0.3 grpcio-1.63.0 gunicorn-21.2.0 h11-0.14.0 h5py-3.11.0 httpcore-1.0.5 httpx-0.27.0 huggingface-hub-0.23.0 idna-3.7 importlib_metadata-7.1.0 install-jdk-1.1.0 jaraco.classes-3.4.0 jaraco.context-5.3.0 jaraco.functools-4.0.1 jeepney-0.8.0 joblib-1.4.2 keras-2.15.0 keyring-25.2.0 konlpy-0.6.0 lazy_loader-0.4 libclang-18.1.1 lxml-5.2.1 markdown-it-py-3.0.0 mdurl-0.1.2 ml-dtypes-0.2.0 more-itertools-10.2.0 mpmath-1.3.0 networkx-3.3 nh3-0.2.17 numpy-1.26.4 nvidia-cublas-cu12-12.1.3.1 nvidia-cuda-cupti-cu12-12.1.105 nvidia-cuda-nvrtc-cu12-12.1.105 nvidia-cuda-runtime-cu12-12.1.105 nvidia-cudnn-cu12-8.9.2.26 nvidia-cufft-cu12-11.0.2.54 nvidia-curand-cu12-10.3.2.106 nvidia-cusolver-cu12-11.4.5.107 nvidia-cusparse-cu12-12.1.0.106 nvidia-nccl-cu12-2.19.3 nvidia-nvjitlink-cu12-12.4.127 nvidia-nvtx-cu12-12.1.105 oauthlib-3.2.2 openai-1.20.0 opt-einsum-3.3.0 packaging-24.0 pillow-10.3.0 pip-24.2 pipdeptree-2.16.2 pkginfo-1.10.0 platformdirs-4.2.1 postgrest-0.16.4 protobuf-4.25.3 psutil-5.9.8 pyasn1-0.6.0 pyasn1_modules-0.4.0 pycparser-2.22 pydantic-2.7.1 pydantic_core-2.18.2 pyproject_hooks-1.1.0 python-dateutil-2.9.0.post0 python-dotenv-1.0.1 python-engineio-4.9.0 python-multipart-0.0.9 python-socketio-5.11.2 readme_renderer-43.0 realtime-1.0.4 redis-5.0.4 reflex-0.5.10 reflex-calendar-0.0.4 reflex-chakra-0.5.10 reflex-hosting-cli-0.1.13 reflex-wordcloud-0.0.2 regex-2024.4.28 requests-2.31.0 requests-oauthlib-2.0.0 requests-toolbelt-1.0.0 rfc3986-2.0.0 rich-13.7.1 rsa-4.9 safetensors-0.4.3 scikit-learn-1.2.2 scipy-1.13.0 sentence-transformers-2.7.0 setuptools-70.1.1 shellingham-1.5.4 simple-websocket-1.0.0 six-1.16.0 sniffio-1.3.1 sqlmodel-0.0.18 starlette-0.37.2 starlette-admin-0.13.2 storage3-0.7.4 supabase-2.4.3 supafunc-0.4.5 sympy-1.12 tabulate-0.9.0 tensorboard-2.15.2 tensorboard-data-server-0.7.2 tensorflow-2.15.0 tensorflow-estimator-2.15.0 tensorflow-io-gcs-filesystem-0.37.0 termcolor-2.4.0 threadpoolctl-3.5.0 tokenizers-0.19.1 tomli-2.0.1 tomlkit-0.12.4 torch-2.2.2 torchaudio-2.2.2 torchvision-0.17.2 tqdm-4.66.4 transformers-4.40.1 triton-2.2.0 twine-5.0.0 typer-0.12.3 typing_extensions-4.11.0 urllib3-2.2.1 uvicorn-0.20.0 watchdog-4.0.0 watchfiles-0.21.0 websockets-12.0 wheel-0.44.0 wrapt-1.14.1 wsproto-1.2.0 zipp-3.18.1\n"
          ]
        }
      ]
    },
    {
      "cell_type": "code",
      "source": [
        "!./deploy/build.sh"
      ],
      "metadata": {
        "id": "EVQtTeDw_wfM",
        "outputId": "9804a8d0-d085-4fbe-f6fa-cbef1d333f15",
        "colab": {
          "base_uri": "https://localhost:8080/"
        }
      },
      "execution_count": 35,
      "outputs": [
        {
          "output_type": "stream",
          "name": "stdout",
          "text": [
            "\u001b[92m───────────────────────────────────────── \u001b[0m\u001b[1mInitializing app\u001b[0m\u001b[92m ─────────────────────────────────────────\u001b[0m\n",
            "\u001b[2;36m[13:55:55]\u001b[0m\u001b[2;36m \u001b[0mInitializing the web directory.                                            \u001b]8;id=827415;file:///content/iNotePal/app/.venv/lib/python3.10/site-packages/reflex/utils/console.py\u001b\\\u001b[2mconsole.py\u001b[0m\u001b]8;;\u001b\\\u001b[2m:\u001b[0m\u001b]8;id=880980;file:///content/iNotePal/app/.venv/lib/python3.10/site-packages/reflex/utils/console.py#104\u001b\\\u001b[2m104\u001b[0m\u001b]8;;\u001b\\\n",
            "\u001b[32mSuccess: Initialized app\u001b[0m\n",
            "\u001b[92m──────────────────────── \u001b[0m\u001b[1mCompiling production app and preparing for export.\u001b[0m\u001b[92m ────────────────────────\u001b[0m\n",
            "JAVA INSTALLED: /content/iNotePal/app/.cache/jdk/jdk-22.0.2+9\n",
            "\u001b[2K[13:56:18] Compiling: \u001b[90m━━━━━━━━━━━━━━━━━━━━━━━━━━━━━━━━━━━━━━━━\u001b[0m \u001b[35m100%\u001b[0m \u001b[32m19/19\u001b[0m \u001b[33m0:00:04\u001b[0m\n",
            "\u001b[?25h\u001b[?25l\u001b[32m⠋\u001b[0m Installing base frontend packages bun install v1.1.10 (5102a944)\n",
            "\u001b[2K\u001b[1A\u001b[2K\u001b[32m⠙\u001b[0m Installing base frontend packages bun install v1.1.10 (5102a944)\n",
            "\u001b[2K\u001b[1A\u001b[2K\u001b[32m⠹\u001b[0m Installing base frontend packages Resolving dependencies\n",
            "\u001b[2K\u001b[1A\u001b[2K\u001b[32m⠸\u001b[0m Installing base frontend packages Resolving dependencies\n",
            "\u001b[2K\u001b[1A\u001b[2K\u001b[32m⠼\u001b[0m Installing base frontend packages Resolving dependencies\n",
            "\u001b[2K\u001b[1A\u001b[2K\u001b[32m⠴\u001b[0m Installing base frontend packages Resolving dependencies\n",
            "\u001b[2K\u001b[1A\u001b[2K\u001b[32m⠦\u001b[0m Installing base frontend packages Resolving dependencies\n",
            "\u001b[2K\u001b[1A\u001b[2K\u001b[32m⠧\u001b[0m Installing base frontend packages Resolved, downloaded and extracted [127]\n",
            "\u001b[2K\u001b[1A\u001b[2K\u001b[32m⠇\u001b[0m Installing base frontend packages Resolved, downloaded and extracted [127]\n",
            "\u001b[2K\u001b[1A\u001b[2K\u001b[32m⠏\u001b[0m Installing base frontend packages 155 packages installed [805.00ms]\n",
            "\n",
            "\u001b[1A\u001b[2K\u001b[1A\u001b[2K\u001b[?25l\u001b[32m⠋\u001b[0m Installing tailwind Resolving dependencies\n",
            "\u001b[2K\u001b[1A\u001b[2K\u001b[32m⠙\u001b[0m Installing tailwind Resolving dependencies\n",
            "\u001b[2K\u001b[1A\u001b[2K\u001b[32m⠹\u001b[0m Installing tailwind Resolving dependencies\n",
            "\u001b[2K\u001b[1A\u001b[2K\u001b[32m⠸\u001b[0m Installing tailwind Resolving dependencies\n",
            "\u001b[2K\u001b[1A\u001b[2K\u001b[32m⠼\u001b[0m Installing tailwind Resolved, downloaded and extracted [58]\n",
            "\u001b[2K\u001b[1A\u001b[2K\u001b[32m⠼\u001b[0m Installing tailwind 73 packages installed [442.00ms]\n",
            "\n",
            "\u001b[1A\u001b[2K\u001b[1A\u001b[2K\u001b[?25l\u001b[32m⠋\u001b[0m Installing frontend packages from config and components bun add v1.1.10 (5102a944)\n",
            "\u001b[2K\u001b[1A\u001b[2K\u001b[32m⠙\u001b[0m Installing frontend packages from config and components bun add v1.1.10 (5102a944)\n",
            "\u001b[2K\u001b[1A\u001b[2K\u001b[32m⠹\u001b[0m Installing frontend packages from config and components bun add v1.1.10 (5102a944)\n",
            "\u001b[2K\u001b[1A\u001b[2K\u001b[32m⠸\u001b[0m Installing frontend packages from config and components Resolving dependencies\n",
            "\u001b[2K\u001b[1A\u001b[2K\u001b[32m⠼\u001b[0m Installing frontend packages from config and components Resolving dependencies\n",
            "\u001b[2K\u001b[1A\u001b[2K\u001b[32m⠴\u001b[0m Installing frontend packages from config and components Resolving dependencies\n",
            "\u001b[2K\u001b[1A\u001b[2K\u001b[32m⠦\u001b[0m Installing frontend packages from config and components Resolving dependencies\n",
            "\u001b[2K\u001b[1A\u001b[2K\u001b[32m⠧\u001b[0m Installing frontend packages from config and components Resolving dependencies\n",
            "\u001b[2K\u001b[1A\u001b[2K\u001b[32m⠇\u001b[0m Installing frontend packages from config and components Resolving dependencies\n",
            "\u001b[2K\u001b[1A\u001b[2K\u001b[32m⠏\u001b[0m Installing frontend packages from config and components Resolving dependencies\n",
            "\u001b[2K\u001b[1A\u001b[2K\u001b[32m⠋\u001b[0m Installing frontend packages from config and components Resolving dependencies\n",
            "\u001b[2K\u001b[1A\u001b[2K\u001b[32m⠙\u001b[0m Installing frontend packages from config and components Resolving dependencies\n",
            "\u001b[2K\u001b[1A\u001b[2K\u001b[32m⠹\u001b[0m Installing frontend packages from config and components warn: incorrect peer dependency \n",
            "\"react@18.2.0\"\n",
            "\u001b[2K\u001b[1A\u001b[2K\u001b[1A\u001b[2K\u001b[32m⠸\u001b[0m Installing frontend packages from config and components warn: incorrect peer dependency \n",
            "\"react@18.2.0\"\n",
            "\u001b[2K\u001b[1A\u001b[2K\u001b[1A\u001b[2K\u001b[32m⠼\u001b[0m Installing frontend packages from config and components warn: incorrect peer dependency \n",
            "\"react@18.2.0\"\n",
            "\u001b[2K\u001b[1A\u001b[2K\u001b[1A\u001b[2K\u001b[32m⠴\u001b[0m Installing frontend packages from config and components warn: incorrect peer dependency \n",
            "\"react@18.2.0\"\n",
            "\u001b[2K\u001b[1A\u001b[2K\u001b[1A\u001b[2K\u001b[32m⠴\u001b[0m Installing frontend packages from config and components 230 packages installed [1323.00ms]\n",
            "\n",
            "\u001b[2KCreating Production Build:  \u001b[90m━━━━━━━━━━━━━━━━━━━━━━━━━━━━━━━━━━━━━━━━\u001b[0m \u001b[35m100%\u001b[0m \u001b[32m9/9\u001b[0m \u001b[33m0:01:35\u001b[0m\n",
            "\u001b[2KZipping Frontend: \u001b[90m━━━━━━━━━━━━━━━━━━━━━━━━━━━━━━━━━━━━━━━━\u001b[0m \u001b[35m100%\u001b[0m \u001b[32m38/38\u001b[0m \u001b[33m0:00:00\u001b[0m\n",
            "\u001b[2KZipping Backend: \u001b[90m━━━━━━━━━━━━━━━━━━━━━━━━━━━━━━━━━━━━━━━━\u001b[0m \u001b[35m100%\u001b[0m \u001b[32m38/38\u001b[0m \u001b[33m0:00:00\u001b[0m\n",
            "\u001b[?25h"
          ]
        }
      ]
    },
    {
      "cell_type": "code",
      "source": [
        "!ls -al | grep .zip"
      ],
      "metadata": {
        "id": "jbPdps9YAiFd",
        "outputId": "62b23e20-0a2b-467b-8481-974ccbf736b7",
        "colab": {
          "base_uri": "https://localhost:8080/"
        }
      },
      "execution_count": 36,
      "outputs": [
        {
          "output_type": "stream",
          "name": "stdout",
          "text": [
            "-rw-r--r--  1 root root  33319 Sep 17 13:58 backend.zip\n",
            "-rw-r--r--  1 root root 748210 Sep 17 13:58 frontend.zip\n"
          ]
        }
      ]
    },
    {
      "cell_type": "code",
      "source": [
        "commit_hash = !git log -1 --pretty=format:'%H'\n",
        "release_options = \" \".join([\n",
        "    version,\n",
        "    f\"--target {commit_hash[0]}\",\n",
        "    \"--prerelease\" if is_prerelease else \"\",\n",
        "])\n",
        "release_options"
      ],
      "metadata": {
        "id": "QbKD_7HjIuNV",
        "outputId": "085a7046-3c09-45cb-b9a3-e3e1b2164bbf",
        "colab": {
          "base_uri": "https://localhost:8080/",
          "height": 36
        }
      },
      "execution_count": 37,
      "outputs": [
        {
          "output_type": "execute_result",
          "data": {
            "text/plain": [
              "'reflex-0.2.3 --target 8515361d7f5b66ac2e80ed91e9e54daf6af731bf '"
            ],
            "application/vnd.google.colaboratory.intrinsic+json": {
              "type": "string"
            }
          },
          "metadata": {},
          "execution_count": 37
        }
      ]
    },
    {
      "cell_type": "code",
      "source": [
        "!gh release create {release_options} --generate-notes /content/iNotePal/app/*.zip"
      ],
      "metadata": {
        "colab": {
          "base_uri": "https://localhost:8080/"
        },
        "id": "grCV5pYp4gsd",
        "outputId": "e3e863c7-f5c1-4332-f5f6-b8e9f6afb5d7"
      },
      "execution_count": 38,
      "outputs": [
        {
          "output_type": "stream",
          "name": "stdout",
          "text": [
            "\u001b[Khttps://github.com/pal-ette/iNotePal/releases/tag/reflex-0.2.3\n"
          ]
        }
      ]
    },
    {
      "cell_type": "code",
      "source": [],
      "metadata": {
        "id": "JqHVOg49Mxgh"
      },
      "execution_count": 38,
      "outputs": []
    }
  ]
}