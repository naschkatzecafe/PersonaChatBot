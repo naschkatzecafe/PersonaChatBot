{
  "nbformat": 4,
  "nbformat_minor": 0,
  "metadata": {
    "colab": {
      "provenance": []
    },
    "kernelspec": {
      "name": "python3",
      "display_name": "Python 3"
    },
    "language_info": {
      "name": "python"
    }
  },
  "cells": [
    {
      "cell_type": "code",
      "source": [
        "raw_token = \"\" # @param {type: \"string\"}\n",
        "version = \"iNotePal-0.0.2\" # @param {type: \"string\"}\n",
        "is_prerelease = False # @param {type:\"boolean\"}\n",
        "dry_run = False # @param {type: \"boolean\" }\n",
        "deploy_model = False # @param {type: \"boolean\"}\n",
        "deploy_app = True # @param {type: \"boolean\"}\n"
      ],
      "metadata": {
        "id": "x_B8pHL84N8L"
      },
      "execution_count": null,
      "outputs": []
    },
    {
      "cell_type": "code",
      "source": [
        "from google.colab import userdata\n",
        "\n",
        "if not raw_token:\n",
        "    raw_token = userdata.get('GITHUB_PAT')"
      ],
      "metadata": {
        "id": "urGVlvfEp00G"
      },
      "execution_count": null,
      "outputs": []
    },
    {
      "cell_type": "code",
      "source": [
        "from google.colab import drive\n",
        "drive.mount('/content/drive')"
      ],
      "metadata": {
        "id": "6QwpAAlEm_IR",
        "outputId": "22096584-182e-4cb2-b1b5-4ac50da3bee0",
        "colab": {
          "base_uri": "https://localhost:8080/"
        }
      },
      "execution_count": null,
      "outputs": [
        {
          "output_type": "stream",
          "name": "stdout",
          "text": [
            "Mounted at /content/drive\n"
          ]
        }
      ]
    },
    {
      "cell_type": "markdown",
      "source": [
        "## Setup Github Cli"
      ],
      "metadata": {
        "id": "ZNLbm3jlrX1F"
      }
    },
    {
      "cell_type": "code",
      "execution_count": null,
      "metadata": {
        "colab": {
          "base_uri": "https://localhost:8080/"
        },
        "id": "37u2e1Vq2_xK",
        "outputId": "fed0f138-bc3e-42f3-b795-9d113178bd8c"
      },
      "outputs": [
        {
          "output_type": "stream",
          "name": "stdout",
          "text": [
            "\u001b[33m\r0% [Working]\u001b[0m\r            \rGet:1 https://developer.download.nvidia.com/compute/cuda/repos/ubuntu2204/x86_64  InRelease [1,581 B]\n",
            "Get:2 https://cli.github.com/packages stable InRelease [3,917 B]\n",
            "Get:3 https://developer.download.nvidia.com/compute/cuda/repos/ubuntu2204/x86_64  Packages [1,234 kB]\n",
            "Hit:4 http://archive.ubuntu.com/ubuntu jammy InRelease\n",
            "Get:5 http://security.ubuntu.com/ubuntu jammy-security InRelease [129 kB]\n",
            "Get:6 https://cloud.r-project.org/bin/linux/ubuntu jammy-cran40/ InRelease [3,626 B]\n",
            "Get:7 http://archive.ubuntu.com/ubuntu jammy-updates InRelease [128 kB]\n",
            "Get:8 https://cli.github.com/packages stable/main amd64 Packages [345 B]\n",
            "Get:9 https://cloud.r-project.org/bin/linux/ubuntu jammy-cran40/ Packages [62.5 kB]\n",
            "Get:10 https://r2u.stat.illinois.edu/ubuntu jammy InRelease [6,555 B]\n",
            "Hit:11 https://ppa.launchpadcontent.net/deadsnakes/ppa/ubuntu jammy InRelease\n",
            "Get:12 https://r2u.stat.illinois.edu/ubuntu jammy/main amd64 Packages [2,641 kB]\n",
            "Hit:13 https://ppa.launchpadcontent.net/graphics-drivers/ppa/ubuntu jammy InRelease\n",
            "Get:14 http://archive.ubuntu.com/ubuntu jammy-backports InRelease [127 kB]\n",
            "Hit:15 https://ppa.launchpadcontent.net/ubuntugis/ppa/ubuntu jammy InRelease\n",
            "Get:16 http://security.ubuntu.com/ubuntu jammy-security/universe amd64 Packages [1,228 kB]\n",
            "Get:17 http://archive.ubuntu.com/ubuntu jammy-updates/universe amd64 Packages [1,519 kB]\n",
            "Get:18 http://security.ubuntu.com/ubuntu jammy-security/main amd64 Packages [2,560 kB]\n",
            "Get:19 http://archive.ubuntu.com/ubuntu jammy-updates/main amd64 Packages [2,859 kB]\n",
            "Get:20 https://r2u.stat.illinois.edu/ubuntu jammy/main all Packages [8,602 kB]\n",
            "Fetched 21.1 MB in 4s (5,033 kB/s)\n",
            "Reading package lists... Done\n",
            "Building dependency tree... Done\n",
            "Reading state information... Done\n",
            "56 packages can be upgraded. Run 'apt list --upgradable' to see them.\n",
            "\u001b[1;33mW: \u001b[0mSkipping acquire of configured file 'main/source/Sources' as repository 'https://r2u.stat.illinois.edu/ubuntu jammy InRelease' does not seem to provide it (sources.list entry misspelt?)\u001b[0m\n",
            "Reading package lists... Done\n",
            "Building dependency tree... Done\n",
            "Reading state information... Done\n",
            "The following NEW packages will be installed:\n",
            "  gh\n",
            "0 upgraded, 1 newly installed, 0 to remove and 56 not upgraded.\n",
            "Need to get 13.8 MB of archives.\n",
            "After this operation, 50.4 MB of additional disk space will be used.\n",
            "Get:1 https://cli.github.com/packages stable/main amd64 gh amd64 2.65.0 [13.8 MB]\n",
            "Fetched 13.8 MB in 1s (17.8 MB/s)\n",
            "debconf: unable to initialize frontend: Dialog\n",
            "debconf: (No usable dialog-like program is installed, so the dialog based frontend cannot be used. at /usr/share/perl5/Debconf/FrontEnd/Dialog.pm line 78, <> line 1.)\n",
            "debconf: falling back to frontend: Readline\n",
            "debconf: unable to initialize frontend: Readline\n",
            "debconf: (This frontend requires a controlling tty.)\n",
            "debconf: falling back to frontend: Teletype\n",
            "dpkg-preconfigure: unable to re-open stdin: \n",
            "Selecting previously unselected package gh.\n",
            "(Reading database ... 124565 files and directories currently installed.)\n",
            "Preparing to unpack .../archives/gh_2.65.0_amd64.deb ...\n",
            "Unpacking gh (2.65.0) ...\n",
            "Setting up gh (2.65.0) ...\n",
            "Processing triggers for man-db (2.10.2-1) ...\n",
            "gh version 2.65.0 (2025-01-06)\n",
            "https://github.com/cli/cli/releases/tag/v2.65.0\n"
          ]
        }
      ],
      "source": [
        "!sudo mkdir -p -m 755 /etc/apt/keyrings && wget -qO- https://cli.github.com/packages/githubcli-archive-keyring.gpg | sudo tee /etc/apt/keyrings/githubcli-archive-keyring.gpg > /dev/null \\\n",
        "&& sudo chmod go+r /etc/apt/keyrings/githubcli-archive-keyring.gpg \\\n",
        "&& echo \"deb [arch=$(dpkg --print-architecture) signed-by=/etc/apt/keyrings/githubcli-archive-keyring.gpg] https://cli.github.com/packages stable main\" | sudo tee /etc/apt/sources.list.d/github-cli.list > /dev/null \\\n",
        "&& sudo apt update \\\n",
        "&& sudo apt install gh -y\n",
        "!gh version"
      ]
    },
    {
      "cell_type": "code",
      "source": [
        "!echo {raw_token} > /content/pat.txt"
      ],
      "metadata": {
        "id": "_M784miV5Yqj"
      },
      "execution_count": null,
      "outputs": []
    },
    {
      "cell_type": "code",
      "source": [
        "!gh auth login --hostname github.com -p https --with-token  < /content/pat.txt"
      ],
      "metadata": {
        "id": "0t3WxtPa4Kha"
      },
      "execution_count": null,
      "outputs": []
    },
    {
      "cell_type": "code",
      "source": [
        "!gh auth status"
      ],
      "metadata": {
        "colab": {
          "base_uri": "https://localhost:8080/"
        },
        "id": "LGYLb57p4TfT",
        "outputId": "4707cc95-3c2a-4a85-cf73-e85755ef2be1"
      },
      "execution_count": null,
      "outputs": [
        {
          "output_type": "stream",
          "name": "stdout",
          "text": [
            "\u001b[0;1;39mgithub.com\u001b[0m\n",
            "  \u001b[0;32m✓\u001b[0m Logged in to github.com account \u001b[0;1;39mryugibo\u001b[0m (/root/.config/gh/hosts.yml)\n",
            "  - Active account: \u001b[0;1;39mtrue\u001b[0m\n",
            "  - Git operations protocol: \u001b[0;1;39mhttps\u001b[0m\n",
            "  - Token: \u001b[0;1;39mgithub_pat_11AB4PWOA0Kz0Sll2dWAjX_***********************************************************\u001b[0m\n"
          ]
        }
      ]
    },
    {
      "cell_type": "code",
      "source": [
        "!rm /content/pat.txt"
      ],
      "metadata": {
        "id": "Fcss-5W-q4Mh"
      },
      "execution_count": null,
      "outputs": []
    },
    {
      "cell_type": "code",
      "source": [
        "# 이미 있는경우 지우고\n",
        "!rm -rf iNotePal"
      ],
      "metadata": {
        "id": "3oy_gA5ar4ii"
      },
      "execution_count": null,
      "outputs": []
    },
    {
      "cell_type": "code",
      "source": [
        "!gh repo clone pal-ette/iNotePal"
      ],
      "metadata": {
        "id": "ntfFE4HCr3S8",
        "outputId": "72857412-d8e7-4735-a720-e36ba5a20cde",
        "colab": {
          "base_uri": "https://localhost:8080/"
        }
      },
      "execution_count": null,
      "outputs": [
        {
          "output_type": "stream",
          "name": "stdout",
          "text": [
            "Cloning into 'iNotePal'...\n",
            "remote: Enumerating objects: 4354, done.\u001b[K\n",
            "remote: Counting objects: 100% (178/178), done.\u001b[K\n",
            "remote: Compressing objects: 100% (72/72), done.\u001b[K\n",
            "remote: Total 4354 (delta 126), reused 107 (delta 106), pack-reused 4176 (from 1)\u001b[K\n",
            "Receiving objects: 100% (4354/4354), 17.43 MiB | 20.30 MiB/s, done.\n",
            "Resolving deltas: 100% (2919/2919), done.\n"
          ]
        }
      ]
    },
    {
      "cell_type": "code",
      "source": [
        "%cd /content/iNotePal"
      ],
      "metadata": {
        "id": "d7nz4OMrr_tb",
        "outputId": "e8b44ae5-2a15-4c2b-9183-af05c85a0be0",
        "colab": {
          "base_uri": "https://localhost:8080/"
        }
      },
      "execution_count": null,
      "outputs": [
        {
          "output_type": "stream",
          "name": "stdout",
          "text": [
            "/content/iNotePal\n"
          ]
        }
      ]
    },
    {
      "cell_type": "markdown",
      "source": [
        "## Deploy App"
      ],
      "metadata": {
        "id": "koKlJnVGrRLF"
      }
    },
    {
      "cell_type": "code",
      "source": [
        "if deploy_app:\n",
        "    !apt install python3.10-venv\n",
        "else:\n",
        "    \"App deploy skipped.\""
      ],
      "metadata": {
        "colab": {
          "base_uri": "https://localhost:8080/"
        },
        "id": "zKOftMdt4WJb",
        "outputId": "f37e63fa-b670-44f3-b4fa-89662577ec11"
      },
      "execution_count": null,
      "outputs": [
        {
          "output_type": "stream",
          "name": "stdout",
          "text": [
            "Reading package lists... Done\n",
            "Building dependency tree... Done\n",
            "Reading state information... Done\n",
            "python3.10-venv is already the newest version (3.10.12-1~22.04.7).\n",
            "0 upgraded, 0 newly installed, 0 to remove and 56 not upgraded.\n"
          ]
        }
      ]
    },
    {
      "cell_type": "code",
      "source": [
        "if deploy_app:\n",
        "    %cd /content/iNotePal/app\n",
        "else:\n",
        "    \"App deploy skipped.\""
      ],
      "metadata": {
        "colab": {
          "base_uri": "https://localhost:8080/"
        },
        "id": "bJzufFgt4cVr",
        "outputId": "276a893b-8169-4664-bcf6-a999c1fb8cb7"
      },
      "execution_count": null,
      "outputs": [
        {
          "output_type": "stream",
          "name": "stdout",
          "text": [
            "/content/iNotePal/app\n"
          ]
        }
      ]
    },
    {
      "cell_type": "code",
      "source": [
        "if deploy_app:\n",
        "    !pwd\n",
        "else:\n",
        "    \"App deploy skipped.\""
      ],
      "metadata": {
        "colab": {
          "base_uri": "https://localhost:8080/"
        },
        "id": "Bv66V7RZ4emj",
        "outputId": "f779f8de-67ce-4f6f-9a13-35c6f1159ec7"
      },
      "execution_count": null,
      "outputs": [
        {
          "output_type": "stream",
          "name": "stdout",
          "text": [
            "/content/iNotePal/app\n"
          ]
        }
      ]
    },
    {
      "cell_type": "code",
      "source": [
        "if deploy_app:\n",
        "    !./deploy/init_ubuntu.sh\n",
        "else:\n",
        "    \"App deploy skipped.\""
      ],
      "metadata": {
        "id": "r1lZsqVfrQQZ",
        "outputId": "ffc4af65-d880-44e7-eadc-1cfe72011f76",
        "colab": {
          "base_uri": "https://localhost:8080/"
        }
      },
      "execution_count": null,
      "outputs": [
        {
          "output_type": "stream",
          "name": "stdout",
          "text": [
            "./deploy/init_ubuntu.sh: 3: asdf: not found\n",
            "Collecting absl-py==2.1.0\n",
            "  Using cached absl_py-2.1.0-py3-none-any.whl (133 kB)\n",
            "Collecting alembic==1.13.3\n",
            "  Using cached alembic-1.13.3-py3-none-any.whl (233 kB)\n",
            "Collecting annotated-types==0.7.0\n",
            "  Using cached annotated_types-0.7.0-py3-none-any.whl (13 kB)\n",
            "Collecting anyio==4.6.0\n",
            "  Using cached anyio-4.6.0-py3-none-any.whl (89 kB)\n",
            "Collecting astunparse==1.6.3\n",
            "  Using cached astunparse-1.6.3-py2.py3-none-any.whl (12 kB)\n",
            "Collecting async-timeout==4.0.3\n",
            "  Using cached async_timeout-4.0.3-py3-none-any.whl (5.7 kB)\n",
            "Collecting backports.tarfile==1.2.0\n",
            "  Using cached backports.tarfile-1.2.0-py3-none-any.whl (30 kB)\n",
            "Collecting bcrypt==4.1.2\n",
            "  Using cached bcrypt-4.1.2-cp39-abi3-manylinux_2_28_x86_64.whl (698 kB)\n",
            "Collecting bidict==0.23.1\n",
            "  Using cached bidict-0.23.1-py3-none-any.whl (32 kB)\n",
            "Collecting build==1.2.2\n",
            "  Using cached build-1.2.2-py3-none-any.whl (22 kB)\n",
            "Collecting cachetools==5.5.0\n",
            "  Using cached cachetools-5.5.0-py3-none-any.whl (9.5 kB)\n",
            "Collecting certifi==2024.8.30\n",
            "  Using cached certifi-2024.8.30-py3-none-any.whl (167 kB)\n",
            "Collecting cffi==1.17.1\n",
            "  Using cached cffi-1.17.1-cp310-cp310-manylinux_2_17_x86_64.manylinux2014_x86_64.whl (446 kB)\n",
            "Collecting charset-normalizer==3.3.2\n",
            "  Using cached charset_normalizer-3.3.2-cp310-cp310-manylinux_2_17_x86_64.manylinux2014_x86_64.whl (142 kB)\n",
            "Collecting click==8.1.7\n",
            "  Using cached click-8.1.7-py3-none-any.whl (97 kB)\n",
            "Collecting cryptography==43.0.1\n",
            "  Using cached cryptography-43.0.1-cp39-abi3-manylinux_2_28_x86_64.whl (4.0 MB)\n",
            "Collecting deprecation==2.1.0\n",
            "  Using cached deprecation-2.1.0-py2.py3-none-any.whl (11 kB)\n",
            "Collecting dill==0.3.9\n",
            "  Using cached dill-0.3.9-py3-none-any.whl (119 kB)\n",
            "Collecting distro==1.9.0\n",
            "  Using cached distro-1.9.0-py3-none-any.whl (20 kB)\n",
            "Collecting docutils==0.21.2\n",
            "  Using cached docutils-0.21.2-py3-none-any.whl (587 kB)\n",
            "Collecting exceptiongroup==1.2.2\n",
            "  Using cached exceptiongroup-1.2.2-py3-none-any.whl (16 kB)\n",
            "Collecting faiss-cpu==1.9.0.post1\n",
            "  Using cached faiss_cpu-1.9.0.post1-cp310-cp310-manylinux_2_17_x86_64.manylinux2014_x86_64.whl (27.5 MB)\n",
            "Collecting fastapi==0.115.4\n",
            "  Using cached fastapi-0.115.4-py3-none-any.whl (94 kB)\n",
            "Collecting filelock==3.16.1\n",
            "  Using cached filelock-3.16.1-py3-none-any.whl (16 kB)\n",
            "Collecting flatbuffers==24.3.25\n",
            "  Using cached flatbuffers-24.3.25-py2.py3-none-any.whl (26 kB)\n",
            "Collecting fsspec==2024.9.0\n",
            "  Using cached fsspec-2024.9.0-py3-none-any.whl (179 kB)\n",
            "Collecting gast==0.6.0\n",
            "  Using cached gast-0.6.0-py3-none-any.whl (21 kB)\n",
            "Collecting google-auth==2.35.0\n",
            "  Using cached google_auth-2.35.0-py2.py3-none-any.whl (208 kB)\n",
            "Collecting google-auth-oauthlib==1.2.1\n",
            "  Using cached google_auth_oauthlib-1.2.1-py2.py3-none-any.whl (24 kB)\n",
            "Collecting google-pasta==0.2.0\n",
            "  Using cached google_pasta-0.2.0-py3-none-any.whl (57 kB)\n",
            "Collecting gotrue==2.9.1\n",
            "  Using cached gotrue-2.9.1-py3-none-any.whl (48 kB)\n",
            "Collecting greenlet==3.1.1\n",
            "  Using cached greenlet-3.1.1-cp310-cp310-manylinux_2_24_x86_64.manylinux_2_28_x86_64.whl (599 kB)\n",
            "Collecting grpcio==1.66.2\n",
            "  Using cached grpcio-1.66.2-cp310-cp310-manylinux_2_17_x86_64.manylinux2014_x86_64.whl (5.8 MB)\n",
            "Collecting gunicorn==23.0.0\n",
            "  Using cached gunicorn-23.0.0-py3-none-any.whl (85 kB)\n",
            "Collecting h11==0.14.0\n",
            "  Using cached h11-0.14.0-py3-none-any.whl (58 kB)\n",
            "Collecting h2==4.1.0\n",
            "  Using cached h2-4.1.0-py3-none-any.whl (57 kB)\n",
            "Collecting h5py==3.12.1\n",
            "  Using cached h5py-3.12.1-cp310-cp310-manylinux_2_17_x86_64.manylinux2014_x86_64.whl (5.3 MB)\n",
            "Collecting hpack==4.0.0\n",
            "  Using cached hpack-4.0.0-py3-none-any.whl (32 kB)\n",
            "Collecting httpcore==1.0.6\n",
            "  Using cached httpcore-1.0.6-py3-none-any.whl (78 kB)\n",
            "Collecting httpx==0.27.2\n",
            "  Using cached httpx-0.27.2-py3-none-any.whl (76 kB)\n",
            "Collecting huggingface-hub==0.25.1\n",
            "  Using cached huggingface_hub-0.25.1-py3-none-any.whl (436 kB)\n",
            "Collecting hyperframe==6.0.1\n",
            "  Using cached hyperframe-6.0.1-py3-none-any.whl (12 kB)\n",
            "Collecting idna==3.10\n",
            "  Using cached idna-3.10-py3-none-any.whl (70 kB)\n",
            "Collecting importlib_metadata==8.5.0\n",
            "  Using cached importlib_metadata-8.5.0-py3-none-any.whl (26 kB)\n",
            "Collecting install-jdk==1.1.0\n",
            "  Using cached install_jdk-1.1.0-py3-none-any.whl (15 kB)\n",
            "Collecting jaraco.classes==3.4.0\n",
            "  Using cached jaraco.classes-3.4.0-py3-none-any.whl (6.8 kB)\n",
            "Collecting jaraco.context==6.0.1\n",
            "  Using cached jaraco.context-6.0.1-py3-none-any.whl (6.8 kB)\n",
            "Collecting jaraco.functools==4.1.0\n",
            "  Using cached jaraco.functools-4.1.0-py3-none-any.whl (10 kB)\n",
            "Collecting jeepney==0.8.0\n",
            "  Using cached jeepney-0.8.0-py3-none-any.whl (48 kB)\n",
            "Collecting Jinja2==3.1.4\n",
            "  Using cached jinja2-3.1.4-py3-none-any.whl (133 kB)\n",
            "Collecting joblib==1.4.2\n",
            "  Using cached joblib-1.4.2-py3-none-any.whl (301 kB)\n",
            "Collecting JPype1==1.5.0\n",
            "  Using cached JPype1-1.5.0-cp310-cp310-manylinux_2_17_x86_64.manylinux2014_x86_64.whl (488 kB)\n",
            "Collecting keras==2.15.0\n",
            "  Using cached keras-2.15.0-py3-none-any.whl (1.7 MB)\n",
            "Collecting keyring==25.4.1\n",
            "  Using cached keyring-25.4.1-py3-none-any.whl (38 kB)\n",
            "Collecting konlpy==0.6.0\n",
            "  Using cached konlpy-0.6.0-py2.py3-none-any.whl (19.4 MB)\n",
            "Collecting lazy_loader==0.4\n",
            "  Using cached lazy_loader-0.4-py3-none-any.whl (12 kB)\n",
            "Collecting libclang==18.1.1\n",
            "  Using cached libclang-18.1.1-py2.py3-none-manylinux2010_x86_64.whl (24.5 MB)\n",
            "Collecting lxml==5.3.0\n",
            "  Using cached lxml-5.3.0-cp310-cp310-manylinux_2_28_x86_64.whl (5.0 MB)\n",
            "Collecting Mako==1.3.5\n",
            "  Using cached Mako-1.3.5-py3-none-any.whl (78 kB)\n",
            "Collecting Markdown==3.7\n",
            "  Using cached Markdown-3.7-py3-none-any.whl (106 kB)\n",
            "Collecting markdown-it-py==3.0.0\n",
            "  Using cached markdown_it_py-3.0.0-py3-none-any.whl (87 kB)\n",
            "Collecting MarkupSafe==2.1.5\n",
            "  Using cached MarkupSafe-2.1.5-cp310-cp310-manylinux_2_17_x86_64.manylinux2014_x86_64.whl (25 kB)\n",
            "Collecting mdurl==0.1.2\n",
            "  Using cached mdurl-0.1.2-py3-none-any.whl (10.0 kB)\n",
            "Collecting ml-dtypes==0.2.0\n",
            "  Using cached ml_dtypes-0.2.0-cp310-cp310-manylinux_2_17_x86_64.manylinux2014_x86_64.whl (1.0 MB)\n",
            "Collecting more-itertools==10.5.0\n",
            "  Using cached more_itertools-10.5.0-py3-none-any.whl (60 kB)\n",
            "Collecting mpmath==1.3.0\n",
            "  Using cached mpmath-1.3.0-py3-none-any.whl (536 kB)\n",
            "Collecting networkx==3.3\n",
            "  Using cached networkx-3.3-py3-none-any.whl (1.7 MB)\n",
            "Collecting nh3==0.2.18\n",
            "  Using cached nh3-0.2.18-cp37-abi3-manylinux_2_17_x86_64.manylinux2014_x86_64.whl (769 kB)\n",
            "Collecting numpy==1.26.4\n",
            "  Using cached numpy-1.26.4-cp310-cp310-manylinux_2_17_x86_64.manylinux2014_x86_64.whl (18.2 MB)\n",
            "Collecting nvidia-cublas-cu12==12.1.3.1\n",
            "  Using cached nvidia_cublas_cu12-12.1.3.1-py3-none-manylinux1_x86_64.whl (410.6 MB)\n",
            "Collecting nvidia-cuda-cupti-cu12==12.1.105\n",
            "  Using cached nvidia_cuda_cupti_cu12-12.1.105-py3-none-manylinux1_x86_64.whl (14.1 MB)\n",
            "Collecting nvidia-cuda-nvrtc-cu12==12.1.105\n",
            "  Using cached nvidia_cuda_nvrtc_cu12-12.1.105-py3-none-manylinux1_x86_64.whl (23.7 MB)\n",
            "Collecting nvidia-cuda-runtime-cu12==12.1.105\n",
            "  Using cached nvidia_cuda_runtime_cu12-12.1.105-py3-none-manylinux1_x86_64.whl (823 kB)\n",
            "Collecting nvidia-cudnn-cu12==8.9.2.26\n",
            "  Using cached nvidia_cudnn_cu12-8.9.2.26-py3-none-manylinux1_x86_64.whl (731.7 MB)\n",
            "Collecting nvidia-cufft-cu12==11.0.2.54\n",
            "  Using cached nvidia_cufft_cu12-11.0.2.54-py3-none-manylinux1_x86_64.whl (121.6 MB)\n",
            "Collecting nvidia-curand-cu12==10.3.2.106\n",
            "  Using cached nvidia_curand_cu12-10.3.2.106-py3-none-manylinux1_x86_64.whl (56.5 MB)\n",
            "Collecting nvidia-cusolver-cu12==11.4.5.107\n",
            "  Using cached nvidia_cusolver_cu12-11.4.5.107-py3-none-manylinux1_x86_64.whl (124.2 MB)\n",
            "Collecting nvidia-cusparse-cu12==12.1.0.106\n",
            "  Using cached nvidia_cusparse_cu12-12.1.0.106-py3-none-manylinux1_x86_64.whl (196.0 MB)\n",
            "Collecting nvidia-nccl-cu12==2.19.3\n",
            "  Using cached nvidia_nccl_cu12-2.19.3-py3-none-manylinux1_x86_64.whl (166.0 MB)\n",
            "Collecting nvidia-nvjitlink-cu12==12.6.77\n",
            "  Using cached nvidia_nvjitlink_cu12-12.6.77-py3-none-manylinux2014_x86_64.whl (19.7 MB)\n",
            "Collecting nvidia-nvtx-cu12==12.1.105\n",
            "  Using cached nvidia_nvtx_cu12-12.1.105-py3-none-manylinux1_x86_64.whl (99 kB)\n",
            "Collecting oauthlib==3.2.2\n",
            "  Using cached oauthlib-3.2.2-py3-none-any.whl (151 kB)\n",
            "Collecting openai==1.20.0\n",
            "  Using cached openai-1.20.0-py3-none-any.whl (292 kB)\n",
            "Collecting opt_einsum==3.4.0\n",
            "  Using cached opt_einsum-3.4.0-py3-none-any.whl (71 kB)\n",
            "Collecting packaging==24.1\n",
            "  Using cached packaging-24.1-py3-none-any.whl (53 kB)\n",
            "Collecting pandas==2.2.3\n",
            "  Using cached pandas-2.2.3-cp310-cp310-manylinux_2_17_x86_64.manylinux2014_x86_64.whl (13.1 MB)\n",
            "Collecting pillow==10.4.0\n",
            "  Using cached pillow-10.4.0-cp310-cp310-manylinux_2_28_x86_64.whl (4.5 MB)\n",
            "Collecting pipdeptree==2.16.2\n",
            "  Using cached pipdeptree-2.16.2-py3-none-any.whl (27 kB)\n",
            "Collecting pkginfo==1.10.0\n",
            "  Using cached pkginfo-1.10.0-py3-none-any.whl (30 kB)\n",
            "Collecting platformdirs==4.3.6\n",
            "  Using cached platformdirs-4.3.6-py3-none-any.whl (18 kB)\n",
            "Collecting postgrest==0.16.11\n",
            "  Using cached postgrest-0.16.11-py3-none-any.whl (21 kB)\n",
            "Collecting protobuf==4.25.5\n",
            "  Using cached protobuf-4.25.5-cp37-abi3-manylinux2014_x86_64.whl (294 kB)\n",
            "Collecting psutil==6.0.0\n",
            "  Using cached psutil-6.0.0-cp36-abi3-manylinux_2_12_x86_64.manylinux2010_x86_64.manylinux_2_17_x86_64.manylinux2014_x86_64.whl (290 kB)\n",
            "Collecting psycopg2-binary==2.9.9\n",
            "  Using cached psycopg2_binary-2.9.9-cp310-cp310-manylinux_2_17_x86_64.manylinux2014_x86_64.whl (3.0 MB)\n",
            "Collecting pyasn1==0.6.1\n",
            "  Using cached pyasn1-0.6.1-py3-none-any.whl (83 kB)\n",
            "Collecting pyasn1_modules==0.4.1\n",
            "  Using cached pyasn1_modules-0.4.1-py3-none-any.whl (181 kB)\n",
            "Collecting pycparser==2.22\n",
            "  Using cached pycparser-2.22-py3-none-any.whl (117 kB)\n",
            "Collecting pydantic==2.9.2\n",
            "  Using cached pydantic-2.9.2-py3-none-any.whl (434 kB)\n",
            "Collecting pydantic_core==2.23.4\n",
            "  Using cached pydantic_core-2.23.4-cp310-cp310-manylinux_2_17_x86_64.manylinux2014_x86_64.whl (2.1 MB)\n",
            "Collecting Pygments==2.18.0\n",
            "  Using cached pygments-2.18.0-py3-none-any.whl (1.2 MB)\n",
            "Collecting PyJWT==2.8.0\n",
            "  Using cached PyJWT-2.8.0-py3-none-any.whl (22 kB)\n",
            "Collecting pyproject_hooks==1.2.0\n",
            "  Using cached pyproject_hooks-1.2.0-py3-none-any.whl (10 kB)\n",
            "Collecting python-dateutil==2.9.0.post0\n",
            "  Using cached python_dateutil-2.9.0.post0-py2.py3-none-any.whl (229 kB)\n",
            "Collecting python-dotenv==1.0.1\n",
            "  Using cached python_dotenv-1.0.1-py3-none-any.whl (19 kB)\n",
            "Collecting python-engineio==4.9.1\n",
            "  Using cached python_engineio-4.9.1-py3-none-any.whl (57 kB)\n",
            "Collecting python-multipart==0.0.18\n",
            "  Using cached python_multipart-0.0.18-py3-none-any.whl (24 kB)\n",
            "Collecting python-socketio==5.11.4\n",
            "  Using cached python_socketio-5.11.4-py3-none-any.whl (76 kB)\n",
            "Collecting pytz==2024.2\n",
            "  Using cached pytz-2024.2-py2.py3-none-any.whl (508 kB)\n",
            "Collecting PyYAML==6.0.2\n",
            "  Using cached PyYAML-6.0.2-cp310-cp310-manylinux_2_17_x86_64.manylinux2014_x86_64.whl (751 kB)\n",
            "Collecting readme_renderer==44.0\n",
            "  Using cached readme_renderer-44.0-py3-none-any.whl (13 kB)\n",
            "Collecting realtime==1.0.6\n",
            "  Using cached realtime-1.0.6-py3-none-any.whl (9.0 kB)\n",
            "Collecting redis==5.1.0\n",
            "  Using cached redis-5.1.0-py3-none-any.whl (261 kB)\n",
            "Collecting reflex==0.6.8\n",
            "  Using cached reflex-0.6.8-py3-none-any.whl (767 kB)\n",
            "Collecting reflex-chakra==0.6.1\n",
            "  Using cached reflex_chakra-0.6.1-py3-none-any.whl (174 kB)\n",
            "Collecting reflex-hosting-cli==0.1.29\n",
            "  Using cached reflex_hosting_cli-0.1.29-py3-none-any.whl (31 kB)\n",
            "Collecting reflex-wordcloud==0.0.4\n",
            "  Using cached reflex_wordcloud-0.0.4-py3-none-any.whl (2.0 kB)\n",
            "Collecting regex==2024.9.11\n",
            "  Using cached regex-2024.9.11-cp310-cp310-manylinux_2_17_x86_64.manylinux2014_x86_64.whl (782 kB)\n",
            "Collecting requests==2.32.3\n",
            "  Using cached requests-2.32.3-py3-none-any.whl (64 kB)\n",
            "Collecting requests-oauthlib==2.0.0\n",
            "  Using cached requests_oauthlib-2.0.0-py2.py3-none-any.whl (24 kB)\n",
            "Collecting requests-toolbelt==1.0.0\n",
            "  Using cached requests_toolbelt-1.0.0-py2.py3-none-any.whl (54 kB)\n",
            "Collecting rfc3986==2.0.0\n",
            "  Using cached rfc3986-2.0.0-py2.py3-none-any.whl (31 kB)\n",
            "Collecting rich==13.9.1\n",
            "  Using cached rich-13.9.1-py3-none-any.whl (242 kB)\n",
            "Collecting rsa==4.9\n",
            "  Using cached rsa-4.9-py3-none-any.whl (34 kB)\n",
            "Collecting safetensors==0.4.5\n",
            "  Using cached safetensors-0.4.5-cp310-cp310-manylinux_2_17_x86_64.manylinux2014_x86_64.whl (435 kB)\n",
            "Collecting scikit-learn==1.5.0\n",
            "  Using cached scikit_learn-1.5.0-cp310-cp310-manylinux_2_17_x86_64.manylinux2014_x86_64.whl (13.3 MB)\n",
            "Collecting scipy==1.14.1\n",
            "  Using cached scipy-1.14.1-cp310-cp310-manylinux_2_17_x86_64.manylinux2014_x86_64.whl (41.2 MB)\n",
            "Collecting SecretStorage==3.3.3\n",
            "  Using cached SecretStorage-3.3.3-py3-none-any.whl (15 kB)\n",
            "Collecting sentence-transformers==2.7.0\n",
            "  Using cached sentence_transformers-2.7.0-py3-none-any.whl (171 kB)\n",
            "Collecting shellingham==1.5.4\n",
            "  Using cached shellingham-1.5.4-py2.py3-none-any.whl (9.8 kB)\n",
            "Collecting simple-websocket==1.0.0\n",
            "  Using cached simple_websocket-1.0.0-py3-none-any.whl (13 kB)\n",
            "Collecting six==1.16.0\n",
            "  Using cached six-1.16.0-py2.py3-none-any.whl (11 kB)\n",
            "Collecting sniffio==1.3.1\n",
            "  Using cached sniffio-1.3.1-py3-none-any.whl (10 kB)\n",
            "Collecting SQLAlchemy==2.0.35\n",
            "  Using cached SQLAlchemy-2.0.35-cp310-cp310-manylinux_2_17_x86_64.manylinux2014_x86_64.whl (3.1 MB)\n",
            "Collecting sqlmodel==0.0.22\n",
            "  Using cached sqlmodel-0.0.22-py3-none-any.whl (28 kB)\n",
            "Collecting starlette==0.40.0\n",
            "  Using cached starlette-0.40.0-py3-none-any.whl (73 kB)\n",
            "Collecting starlette-admin==0.14.1\n",
            "  Using cached starlette_admin-0.14.1-py3-none-any.whl (2.2 MB)\n",
            "Collecting storage3==0.7.7\n",
            "  Using cached storage3-0.7.7-py3-none-any.whl (16 kB)\n",
            "Collecting StrEnum==0.4.15\n",
            "  Using cached StrEnum-0.4.15-py3-none-any.whl (8.9 kB)\n",
            "Collecting supabase==2.4.3\n",
            "  Using cached supabase-2.4.3-py3-none-any.whl (15 kB)\n",
            "Collecting supafunc==0.4.7\n",
            "  Using cached supafunc-0.4.7-py3-none-any.whl (6.2 kB)\n",
            "Collecting sympy==1.13.3\n",
            "  Using cached sympy-1.13.3-py3-none-any.whl (6.2 MB)\n",
            "Collecting tabulate==0.9.0\n",
            "  Using cached tabulate-0.9.0-py3-none-any.whl (35 kB)\n",
            "Collecting tensorboard==2.15.2\n",
            "  Using cached tensorboard-2.15.2-py3-none-any.whl (5.5 MB)\n",
            "Collecting tensorboard-data-server==0.7.2\n",
            "  Using cached tensorboard_data_server-0.7.2-py3-none-manylinux_2_31_x86_64.whl (6.6 MB)\n",
            "Collecting tensorflow==2.15.0\n",
            "  Using cached tensorflow-2.15.0-cp310-cp310-manylinux_2_17_x86_64.manylinux2014_x86_64.whl (475.2 MB)\n",
            "Collecting tensorflow-estimator==2.15.0\n",
            "  Using cached tensorflow_estimator-2.15.0-py2.py3-none-any.whl (441 kB)\n",
            "Collecting tensorflow-io-gcs-filesystem==0.37.1\n",
            "  Using cached tensorflow_io_gcs_filesystem-0.37.1-cp310-cp310-manylinux_2_17_x86_64.manylinux2014_x86_64.whl (5.1 MB)\n",
            "Collecting termcolor==2.4.0\n",
            "  Using cached termcolor-2.4.0-py3-none-any.whl (7.7 kB)\n",
            "Collecting threadpoolctl==3.5.0\n",
            "  Using cached threadpoolctl-3.5.0-py3-none-any.whl (18 kB)\n",
            "Collecting tokenizers==0.21.0\n",
            "  Using cached tokenizers-0.21.0-cp39-abi3-manylinux_2_17_x86_64.manylinux2014_x86_64.whl (3.0 MB)\n",
            "Collecting tomli==2.0.2\n",
            "  Using cached tomli-2.0.2-py3-none-any.whl (13 kB)\n",
            "Collecting tomlkit==0.13.2\n",
            "  Using cached tomlkit-0.13.2-py3-none-any.whl (37 kB)\n",
            "Collecting torch==2.2.2\n",
            "  Using cached torch-2.2.2-cp310-cp310-manylinux1_x86_64.whl (755.5 MB)\n",
            "Collecting torchaudio==2.2.2\n",
            "  Using cached torchaudio-2.2.2-cp310-cp310-manylinux1_x86_64.whl (3.3 MB)\n",
            "Collecting torchvision==0.17.2\n",
            "  Using cached torchvision-0.17.2-cp310-cp310-manylinux1_x86_64.whl (6.9 MB)\n",
            "Collecting tqdm==4.66.5\n",
            "  Using cached tqdm-4.66.5-py3-none-any.whl (78 kB)\n",
            "Collecting transformers==4.48.0\n",
            "  Using cached transformers-4.48.0-py3-none-any.whl (9.7 MB)\n",
            "Collecting triton==2.2.0\n",
            "  Using cached triton-2.2.0-cp310-cp310-manylinux_2_17_x86_64.manylinux2014_x86_64.whl (167.9 MB)\n",
            "Collecting twine==5.1.1\n",
            "  Using cached twine-5.1.1-py3-none-any.whl (38 kB)\n",
            "Collecting typer==0.15.1\n",
            "  Using cached typer-0.15.1-py3-none-any.whl (44 kB)\n",
            "Collecting typing_extensions==4.12.2\n",
            "  Using cached typing_extensions-4.12.2-py3-none-any.whl (37 kB)\n",
            "Collecting tzdata==2024.2\n",
            "  Using cached tzdata-2024.2-py2.py3-none-any.whl (346 kB)\n",
            "Collecting urllib3==2.2.3\n",
            "  Using cached urllib3-2.2.3-py3-none-any.whl (126 kB)\n",
            "Collecting uvicorn==0.31.0\n",
            "  Using cached uvicorn-0.31.0-py3-none-any.whl (63 kB)\n",
            "Collecting websockets==12.0\n",
            "  Using cached websockets-12.0-cp310-cp310-manylinux_2_5_x86_64.manylinux1_x86_64.manylinux_2_17_x86_64.manylinux2014_x86_64.whl (130 kB)\n",
            "Collecting Werkzeug==3.0.6\n",
            "  Using cached werkzeug-3.0.6-py3-none-any.whl (227 kB)\n",
            "Collecting wrapt==1.14.1\n",
            "  Using cached wrapt-1.14.1-cp310-cp310-manylinux_2_5_x86_64.manylinux1_x86_64.manylinux_2_17_x86_64.manylinux2014_x86_64.whl (77 kB)\n",
            "Collecting wsproto==1.2.0\n",
            "  Using cached wsproto-1.2.0-py3-none-any.whl (24 kB)\n",
            "Collecting zipp==3.20.2\n",
            "  Using cached zipp-3.20.2-py3-none-any.whl (9.2 kB)\n",
            "Collecting wheel<1.0,>=0.23.0\n",
            "  Using cached wheel-0.45.1-py3-none-any.whl (72 kB)\n",
            "Collecting pip>=23.1.2\n",
            "  Using cached pip-24.3.1-py3-none-any.whl (1.8 MB)\n",
            "Collecting setuptools>=75.0\n",
            "  Using cached setuptools-75.8.0-py3-none-any.whl (1.2 MB)\n",
            "Installing collected packages: StrEnum, pytz, nh3, mpmath, libclang, flatbuffers, zipp, wrapt, wheel, websockets, urllib3, tzdata, typing_extensions, tqdm, tomlkit, tomli, threadpoolctl, termcolor, tensorflow-io-gcs-filesystem, tensorflow-estimator, tensorboard-data-server, tabulate, sympy, sniffio, six, shellingham, setuptools, safetensors, rfc3986, regex, PyYAML, python-multipart, python-dotenv, pyproject_hooks, PyJWT, Pygments, pycparser, pyasn1, psycopg2-binary, psutil, protobuf, platformdirs, pkginfo, pip, pillow, packaging, opt_einsum, oauthlib, nvidia-nvtx-cu12, nvidia-nvjitlink-cu12, nvidia-nccl-cu12, nvidia-curand-cu12, nvidia-cufft-cu12, nvidia-cuda-runtime-cu12, nvidia-cuda-nvrtc-cu12, nvidia-cuda-cupti-cu12, nvidia-cublas-cu12, numpy, networkx, more-itertools, mdurl, MarkupSafe, Markdown, lxml, keras, joblib, jeepney, install-jdk, idna, hyperframe, hpack, h11, grpcio, greenlet, gast, fsspec, filelock, exceptiongroup, docutils, distro, dill, click, charset-normalizer, certifi, cachetools, bidict, bcrypt, backports.tarfile, async-timeout, annotated-types, absl-py, wsproto, Werkzeug, uvicorn, triton, SQLAlchemy, scipy, rsa, requests, redis, readme_renderer, python-dateutil, pydantic_core, pyasn1_modules, pipdeptree, nvidia-cusparse-cu12, nvidia-cudnn-cu12, ml-dtypes, markdown-it-py, Mako, lazy_loader, JPype1, Jinja2, jaraco.functools, jaraco.context, jaraco.classes, importlib_metadata, httpcore, h5py, h2, gunicorn, google-pasta, faiss-cpu, deprecation, cffi, build, astunparse, anyio, starlette, simple-websocket, scikit-learn, rich, requests-toolbelt, requests-oauthlib, realtime, pydantic, pandas, nvidia-cusolver-cu12, konlpy, huggingface-hub, httpx, google-auth, cryptography, alembic, typer, torch, tokenizers, starlette-admin, sqlmodel, SecretStorage, python-engineio, openai, google-auth-oauthlib, fastapi, transformers, torchvision, torchaudio, tensorboard, supafunc, storage3, reflex-hosting-cli, python-socketio, postgrest, keyring, gotrue, twine, tensorflow, supabase, sentence-transformers, reflex-chakra, reflex, reflex-wordcloud\n",
            "  Attempting uninstall: setuptools\n",
            "    Found existing installation: setuptools 59.6.0\n",
            "    Uninstalling setuptools-59.6.0:\n",
            "      Successfully uninstalled setuptools-59.6.0\n",
            "  Attempting uninstall: pip\n",
            "    Found existing installation: pip 22.0.2\n",
            "    Uninstalling pip-22.0.2:\n",
            "      Successfully uninstalled pip-22.0.2\n",
            "Successfully installed JPype1-1.5.0 Jinja2-3.1.4 Mako-1.3.5 Markdown-3.7 MarkupSafe-2.1.5 PyJWT-2.8.0 PyYAML-6.0.2 Pygments-2.18.0 SQLAlchemy-2.0.35 SecretStorage-3.3.3 StrEnum-0.4.15 Werkzeug-3.0.6 absl-py-2.1.0 alembic-1.13.3 annotated-types-0.7.0 anyio-4.6.0 astunparse-1.6.3 async-timeout-4.0.3 backports.tarfile-1.2.0 bcrypt-4.1.2 bidict-0.23.1 build-1.2.2 cachetools-5.5.0 certifi-2024.8.30 cffi-1.17.1 charset-normalizer-3.3.2 click-8.1.7 cryptography-43.0.1 deprecation-2.1.0 dill-0.3.9 distro-1.9.0 docutils-0.21.2 exceptiongroup-1.2.2 faiss-cpu-1.9.0.post1 fastapi-0.115.4 filelock-3.16.1 flatbuffers-24.3.25 fsspec-2024.9.0 gast-0.6.0 google-auth-2.35.0 google-auth-oauthlib-1.2.1 google-pasta-0.2.0 gotrue-2.9.1 greenlet-3.1.1 grpcio-1.66.2 gunicorn-23.0.0 h11-0.14.0 h2-4.1.0 h5py-3.12.1 hpack-4.0.0 httpcore-1.0.6 httpx-0.27.2 huggingface-hub-0.25.1 hyperframe-6.0.1 idna-3.10 importlib_metadata-8.5.0 install-jdk-1.1.0 jaraco.classes-3.4.0 jaraco.context-6.0.1 jaraco.functools-4.1.0 jeepney-0.8.0 joblib-1.4.2 keras-2.15.0 keyring-25.4.1 konlpy-0.6.0 lazy_loader-0.4 libclang-18.1.1 lxml-5.3.0 markdown-it-py-3.0.0 mdurl-0.1.2 ml-dtypes-0.2.0 more-itertools-10.5.0 mpmath-1.3.0 networkx-3.3 nh3-0.2.18 numpy-1.26.4 nvidia-cublas-cu12-12.1.3.1 nvidia-cuda-cupti-cu12-12.1.105 nvidia-cuda-nvrtc-cu12-12.1.105 nvidia-cuda-runtime-cu12-12.1.105 nvidia-cudnn-cu12-8.9.2.26 nvidia-cufft-cu12-11.0.2.54 nvidia-curand-cu12-10.3.2.106 nvidia-cusolver-cu12-11.4.5.107 nvidia-cusparse-cu12-12.1.0.106 nvidia-nccl-cu12-2.19.3 nvidia-nvjitlink-cu12-12.6.77 nvidia-nvtx-cu12-12.1.105 oauthlib-3.2.2 openai-1.20.0 opt_einsum-3.4.0 packaging-24.1 pandas-2.2.3 pillow-10.4.0 pip-24.3.1 pipdeptree-2.16.2 pkginfo-1.10.0 platformdirs-4.3.6 postgrest-0.16.11 protobuf-4.25.5 psutil-6.0.0 psycopg2-binary-2.9.9 pyasn1-0.6.1 pyasn1_modules-0.4.1 pycparser-2.22 pydantic-2.9.2 pydantic_core-2.23.4 pyproject_hooks-1.2.0 python-dateutil-2.9.0.post0 python-dotenv-1.0.1 python-engineio-4.9.1 python-multipart-0.0.18 python-socketio-5.11.4 pytz-2024.2 readme_renderer-44.0 realtime-1.0.6 redis-5.1.0 reflex-0.6.8 reflex-chakra-0.6.1 reflex-hosting-cli-0.1.29 reflex-wordcloud-0.0.4 regex-2024.9.11 requests-2.32.3 requests-oauthlib-2.0.0 requests-toolbelt-1.0.0 rfc3986-2.0.0 rich-13.9.1 rsa-4.9 safetensors-0.4.5 scikit-learn-1.5.0 scipy-1.14.1 sentence-transformers-2.7.0 setuptools-75.8.0 shellingham-1.5.4 simple-websocket-1.0.0 six-1.16.0 sniffio-1.3.1 sqlmodel-0.0.22 starlette-0.40.0 starlette-admin-0.14.1 storage3-0.7.7 supabase-2.4.3 supafunc-0.4.7 sympy-1.13.3 tabulate-0.9.0 tensorboard-2.15.2 tensorboard-data-server-0.7.2 tensorflow-2.15.0 tensorflow-estimator-2.15.0 tensorflow-io-gcs-filesystem-0.37.1 termcolor-2.4.0 threadpoolctl-3.5.0 tokenizers-0.21.0 tomli-2.0.2 tomlkit-0.13.2 torch-2.2.2 torchaudio-2.2.2 torchvision-0.17.2 tqdm-4.66.5 transformers-4.48.0 triton-2.2.0 twine-5.1.1 typer-0.15.1 typing_extensions-4.12.2 tzdata-2024.2 urllib3-2.2.3 uvicorn-0.31.0 websockets-12.0 wheel-0.45.1 wrapt-1.14.1 wsproto-1.2.0 zipp-3.20.2\n"
          ]
        }
      ]
    },
    {
      "cell_type": "code",
      "source": [
        "if deploy_app:\n",
        "    !./deploy/build.sh\n",
        "else:\n",
        "    \"App deploy skipped.\""
      ],
      "metadata": {
        "id": "m2JFnVeasMXp",
        "outputId": "ccbca2d2-8657-4277-e7fd-49c5a64b1025",
        "colab": {
          "base_uri": "https://localhost:8080/"
        }
      },
      "execution_count": null,
      "outputs": [
        {
          "output_type": "stream",
          "name": "stdout",
          "text": [
            "\u001b[92m───────────────────────────────────────── \u001b[0m\u001b[1mInitializing app\u001b[0m\u001b[92m ─────────────────────────────────────────\u001b[0m\n",
            "\u001b[2;36m[10:05:31]\u001b[0m\u001b[2;36m \u001b[0mInitializing the web directory.                                            \u001b]8;id=714381;file:///content/iNotePal/app/.venv/lib/python3.10/site-packages/reflex/utils/console.py\u001b\\\u001b[2mconsole.py\u001b[0m\u001b]8;;\u001b\\\u001b[2m:\u001b[0m\u001b]8;id=548671;file:///content/iNotePal/app/.venv/lib/python3.10/site-packages/reflex/utils/console.py#161\u001b\\\u001b[2m161\u001b[0m\u001b]8;;\u001b\\\n",
            "\u001b[32mSuccess: Initialized app\u001b[0m\n",
            "\u001b[92m──────────────────────── \u001b[0m\u001b[1mCompiling production app and preparing for export.\u001b[0m\u001b[92m ────────────────────────\u001b[0m\n",
            "2025-01-18 10:05:44.360220: E external/local_xla/xla/stream_executor/cuda/cuda_dnn.cc:9261] Unable to register cuDNN factory: Attempting to register factory for plugin cuDNN when one has already been registered\n",
            "2025-01-18 10:05:44.360293: E external/local_xla/xla/stream_executor/cuda/cuda_fft.cc:607] Unable to register cuFFT factory: Attempting to register factory for plugin cuFFT when one has already been registered\n",
            "2025-01-18 10:05:44.362263: E external/local_xla/xla/stream_executor/cuda/cuda_blas.cc:1515] Unable to register cuBLAS factory: Attempting to register factory for plugin cuBLAS when one has already been registered\n",
            "2025-01-18 10:05:44.371426: I tensorflow/core/platform/cpu_feature_guard.cc:182] This TensorFlow binary is optimized to use available CPU instructions in performance-critical operations.\n",
            "To enable the following instructions: AVX2 FMA, in other operations, rebuild TensorFlow with the appropriate compiler flags.\n",
            "2025-01-18 10:05:45.607741: W tensorflow/compiler/tf2tensorrt/utils/py_utils.cc:38] TF-TRT Warning: Could not find TensorRT\n",
            "JAVA INSTALLED: /content/iNotePal/app/.cache/jdk/jdk-22.0.2+9\n",
            "\u001b[2K[10:07:19] Compiling: \u001b[91m━━━━━━━━━━━━━━━━━━━━━━━━━━━━━━━━━\u001b[0m\u001b[90m╺\u001b[0m\u001b[90m━━━━━━\u001b[0m \u001b[35m 83%\u001b[0m \u001b[32m15/18\u001b[0m \u001b[33m0:00:01\u001b[0m\u001b[93mWarning: Failed to compile initial state with computed vars, excluding them: \u001b[0m\n",
            "\u001b[1;93m(\u001b[0m\u001b[93msqlite3.OperationalError\u001b[0m\u001b[1;93m)\u001b[0m\u001b[93m no such table: chat\u001b[0m\n",
            "\u001b[1;93m[\u001b[0m\u001b[93mSQL: SELECT chat.id, chat.date, chat.user_id, chat.is_closed, chat.created_at, chat.emotion \u001b[0m\n",
            "\u001b[93mFROM chat \u001b[0m\n",
            "\u001b[93mWHERE chat.user_id = ? AND chat.is_closed = \u001b[0m\u001b[1;93m1\u001b[0m\u001b[1;93m]\u001b[0m\n",
            "\n",
            "\u001b[1;93m(\u001b[0m\u001b[93mBackground on this error at: \u001b[0m\u001b[4;93mhttps://sqlalche.me/e/20/e3q8\u001b[0m\u001b[4;93m)\u001b[0m\n",
            "\u001b[2K[10:07:19] Compiling: \u001b[90m━━━━━━━━━━━━━━━━━━━━━━━━━━━━━━━━━━━━━━━━\u001b[0m \u001b[35m100%\u001b[0m \u001b[32m18/18\u001b[0m \u001b[33m0:00:01\u001b[0m\n",
            "\u001b[?25h\u001b[?25l\u001b[32m⠋\u001b[0m Installing base frontend packages bun install v1.1.29 (6d43b366)\n",
            "\u001b[2K\u001b[1A\u001b[2K\u001b[32m⠙\u001b[0m Installing base frontend packages bun install v1.1.29 (6d43b366)\n",
            "\u001b[2K\u001b[1A\u001b[2K\u001b[32m⠹\u001b[0m Installing base frontend packages Resolving dependencies\n",
            "\u001b[2K\u001b[1A\u001b[2K\u001b[32m⠸\u001b[0m Installing base frontend packages Resolving dependencies\n",
            "\u001b[2K\u001b[1A\u001b[2K\u001b[32m⠼\u001b[0m Installing base frontend packages Resolving dependencies\n",
            "\u001b[2K\u001b[1A\u001b[2K\u001b[32m⠴\u001b[0m Installing base frontend packages Resolving dependencies\n",
            "\u001b[2K\u001b[1A\u001b[2K\u001b[32m⠦\u001b[0m Installing base frontend packages Resolving dependencies\n",
            "\u001b[2K\u001b[1A\u001b[2K\u001b[32m⠧\u001b[0m Installing base frontend packages Resolving dependencies\n",
            "\u001b[2K\u001b[1A\u001b[2K\u001b[32m⠇\u001b[0m Installing base frontend packages Resolving dependencies\n",
            "\u001b[2K\u001b[1A\u001b[2K\u001b[32m⠏\u001b[0m Installing base frontend packages Resolving dependencies\n",
            "\u001b[2K\u001b[1A\u001b[2K\u001b[32m⠋\u001b[0m Installing base frontend packages Resolving dependencies\n",
            "\u001b[2K\u001b[1A\u001b[2K\u001b[32m⠙\u001b[0m Installing base frontend packages Resolving dependencies\n",
            "\u001b[2K\u001b[1A\u001b[2K\u001b[32m⠹\u001b[0m Installing base frontend packages Resolving dependencies\n",
            "\u001b[2K\u001b[1A\u001b[2K\u001b[32m⠸\u001b[0m Installing base frontend packages Resolving dependencies\n",
            "\u001b[2K\u001b[1A\u001b[2K\u001b[32m⠼\u001b[0m Installing base frontend packages Resolving dependencies\n",
            "\u001b[2K\u001b[1A\u001b[2K\u001b[32m⠴\u001b[0m Installing base frontend packages Resolving dependencies\n",
            "\u001b[2K\u001b[1A\u001b[2K\u001b[32m⠦\u001b[0m Installing base frontend packages Resolving dependencies\n",
            "\u001b[2K\u001b[1A\u001b[2K\u001b[32m⠧\u001b[0m Installing base frontend packages Resolving dependencies\n",
            "\u001b[2K\u001b[1A\u001b[2K\u001b[32m⠇\u001b[0m Installing base frontend packages Resolving dependencies\n",
            "\u001b[2K\u001b[1A\u001b[2K\u001b[32m⠏\u001b[0m Installing base frontend packages Resolving dependencies\n",
            "\u001b[2K\u001b[1A\u001b[2K\u001b[32m⠋\u001b[0m Installing base frontend packages Resolved, downloaded and extracted [240]\n",
            "\u001b[2K\u001b[1A\u001b[2K\u001b[32m⠙\u001b[0m Installing base frontend packages Resolved, downloaded and extracted [240]\n",
            "\u001b[2K\u001b[1A\u001b[2K\u001b[32m⠹\u001b[0m Installing base frontend packages Resolved, downloaded and extracted [240]\n",
            "\u001b[2K\u001b[1A\u001b[2K\u001b[32m⠸\u001b[0m Installing base frontend packages 146 packages installed [1.94s]\n",
            "\n",
            "\u001b[1A\u001b[2K\u001b[1A\u001b[2K\u001b[?25l\u001b[32m⠋\u001b[0m Installing tailwind Resolving dependencies\n",
            "\u001b[2K\u001b[1A\u001b[2K\u001b[32m⠙\u001b[0m Installing tailwind Resolving dependencies\n",
            "\u001b[2K\u001b[1A\u001b[2K\u001b[32m⠹\u001b[0m Installing tailwind Resolving dependencies\n",
            "\u001b[2K\u001b[1A\u001b[2K\u001b[32m⠸\u001b[0m Installing tailwind Resolving dependencies\n",
            "\u001b[2K\u001b[1A\u001b[2K\u001b[32m⠼\u001b[0m Installing tailwind Resolving dependencies\n",
            "\u001b[2K\u001b[1A\u001b[2K\u001b[32m⠴\u001b[0m Installing tailwind Resolving dependencies\n",
            "\u001b[2K\u001b[1A\u001b[2K\u001b[32m⠦\u001b[0m Installing tailwind Resolving dependencies\n",
            "\u001b[2K\u001b[1A\u001b[2K\u001b[32m⠧\u001b[0m Installing tailwind Resolving dependencies\n",
            "\u001b[2K\u001b[1A\u001b[2K\u001b[32m⠇\u001b[0m Installing tailwind Resolving dependencies\n",
            "\u001b[2K\u001b[1A\u001b[2K\u001b[32m⠏\u001b[0m Installing tailwind Resolving dependencies\n",
            "\u001b[2K\u001b[1A\u001b[2K\u001b[32m⠋\u001b[0m Installing tailwind Resolving dependencies\n",
            "\u001b[2K\u001b[1A\u001b[2K\u001b[32m⠙\u001b[0m Installing tailwind Resolving dependencies\n",
            "\u001b[2K\u001b[1A\u001b[2K\u001b[32m⠙\u001b[0m Installing tailwind 75 packages installed [1025.00ms]\n",
            "\n",
            "\u001b[1A\u001b[2K\u001b[1A\u001b[2K\u001b[?25l\u001b[32m⠋\u001b[0m Installing frontend packages from config and components Resolving dependencies\n",
            "\u001b[2K\u001b[1A\u001b[2K\u001b[32m⠙\u001b[0m Installing frontend packages from config and components Resolving dependencies\n",
            "\u001b[2K\u001b[1A\u001b[2K\u001b[32m⠹\u001b[0m Installing frontend packages from config and components Resolving dependencies\n",
            "\u001b[2K\u001b[1A\u001b[2K\u001b[32m⠸\u001b[0m Installing frontend packages from config and components Resolving dependencies\n",
            "\u001b[2K\u001b[1A\u001b[2K\u001b[32m⠼\u001b[0m Installing frontend packages from config and components Resolving dependencies\n",
            "\u001b[2K\u001b[1A\u001b[2K\u001b[32m⠴\u001b[0m Installing frontend packages from config and components Resolving dependencies\n",
            "\u001b[2K\u001b[1A\u001b[2K\u001b[32m⠦\u001b[0m Installing frontend packages from config and components Resolving dependencies\n",
            "\u001b[2K\u001b[1A\u001b[2K\u001b[32m⠧\u001b[0m Installing frontend packages from config and components Resolving dependencies\n",
            "\u001b[2K\u001b[1A\u001b[2K\u001b[32m⠇\u001b[0m Installing frontend packages from config and components Resolving dependencies\n",
            "\u001b[2K\u001b[1A\u001b[2K\u001b[32m⠏\u001b[0m Installing frontend packages from config and components Resolving dependencies\n",
            "\u001b[2K\u001b[1A\u001b[2K\u001b[32m⠋\u001b[0m Installing frontend packages from config and components Resolving dependencies\n",
            "\u001b[2K\u001b[1A\u001b[2K\u001b[32m⠙\u001b[0m Installing frontend packages from config and components Resolving dependencies\n",
            "\u001b[2K\u001b[1A\u001b[2K\u001b[32m⠹\u001b[0m Installing frontend packages from config and components Resolving dependencies\n",
            "\u001b[2K\u001b[1A\u001b[2K\u001b[32m⠸\u001b[0m Installing frontend packages from config and components Resolving dependencies\n",
            "\u001b[2K\u001b[1A\u001b[2K\u001b[32m⠼\u001b[0m Installing frontend packages from config and components Resolving dependencies\n",
            "\u001b[2K\u001b[1A\u001b[2K\u001b[32m⠴\u001b[0m Installing frontend packages from config and components Resolving dependencies\n",
            "\u001b[2K\u001b[1A\u001b[2K\u001b[32m⠦\u001b[0m Installing frontend packages from config and components Resolving dependencies\n",
            "\u001b[2K\u001b[1A\u001b[2K\u001b[32m⠧\u001b[0m Installing frontend packages from config and components Resolving dependencies\n",
            "\u001b[2K\u001b[1A\u001b[2K\u001b[32m⠇\u001b[0m Installing frontend packages from config and components Resolving dependencies\n",
            "\u001b[2K\u001b[1A\u001b[2K\u001b[32m⠏\u001b[0m Installing frontend packages from config and components Resolving dependencies\n",
            "\u001b[2K\u001b[1A\u001b[2K\u001b[32m⠋\u001b[0m Installing frontend packages from config and components warn: incorrect peer dependency \n",
            "\"react@18.3.1\"\n",
            "\u001b[2K\u001b[1A\u001b[2K\u001b[1A\u001b[2K\u001b[32m⠙\u001b[0m Installing frontend packages from config and components warn: incorrect peer dependency \n",
            "\"react@18.3.1\"\n",
            "\u001b[2K\u001b[1A\u001b[2K\u001b[1A\u001b[2K\u001b[32m⠹\u001b[0m Installing frontend packages from config and components warn: incorrect peer dependency \n",
            "\"react@18.3.1\"\n",
            "\u001b[2K\u001b[1A\u001b[2K\u001b[1A\u001b[2K\u001b[32m⠸\u001b[0m Installing frontend packages from config and components warn: incorrect peer dependency \n",
            "\"react@18.3.1\"\n",
            "\u001b[2K\u001b[1A\u001b[2K\u001b[1A\u001b[2K\u001b[32m⠼\u001b[0m Installing frontend packages from config and components warn: incorrect peer dependency \n",
            "\"react@18.3.1\"\n",
            "\u001b[2K\u001b[1A\u001b[2K\u001b[1A\u001b[2K\u001b[32m⠴\u001b[0m Installing frontend packages from config and components 142 packages installed [2.08s]\n",
            "\n",
            "\u001b[2KCreating Production Build:  \u001b[90m━━━━━━━━━━━━━━━━━━━━━━━━━━━━━━━━━━━━━━━━\u001b[0m \u001b[35m100%\u001b[0m \u001b[32m9/9\u001b[0m \u001b[33m0:01:26\u001b[0m\n",
            "\u001b[2KZipping Frontend: \u001b[90m━━━━━━━━━━━━━━━━━━━━━━━━━━━━━━━━━━━━━━━━\u001b[0m \u001b[35m100%\u001b[0m \u001b[32m36/36\u001b[0m \u001b[33m0:00:00\u001b[0m\n",
            "\u001b[2KZipping Backend: \u001b[90m━━━━━━━━━━━━━━━━━━━━━━━━━━━━━━━━━━━━━━━━\u001b[0m \u001b[35m100%\u001b[0m \u001b[32m50/50\u001b[0m \u001b[33m0:00:00\u001b[0m\n",
            "\u001b[?25h"
          ]
        }
      ]
    },
    {
      "cell_type": "code",
      "source": [
        "!ls -al | grep .zip"
      ],
      "metadata": {
        "id": "xHMBoSq_sQjM",
        "outputId": "83201229-3960-4cd5-a5dd-12fce9497272",
        "colab": {
          "base_uri": "https://localhost:8080/"
        }
      },
      "execution_count": null,
      "outputs": [
        {
          "output_type": "stream",
          "name": "stdout",
          "text": [
            "-rw-r--r--  1 root root  39165 Jan 18 10:08 backend.zip\n",
            "-rw-r--r--  1 root root 624959 Jan 18 10:08 frontend.zip\n"
          ]
        }
      ]
    },
    {
      "cell_type": "code",
      "source": [
        "%cd /content/iNotePal"
      ],
      "metadata": {
        "id": "u0eLlzP-rfuc",
        "outputId": "c1692f27-baa0-4465-b79a-38631880cfc4",
        "colab": {
          "base_uri": "https://localhost:8080/"
        }
      },
      "execution_count": null,
      "outputs": [
        {
          "output_type": "stream",
          "name": "stdout",
          "text": [
            "/content/iNotePal\n"
          ]
        }
      ]
    },
    {
      "cell_type": "code",
      "source": [
        "!pwd"
      ],
      "metadata": {
        "id": "EfS4rBDaruEj",
        "outputId": "de585ede-99c5-4b5e-ea1f-d87af966503b",
        "colab": {
          "base_uri": "https://localhost:8080/"
        }
      },
      "execution_count": null,
      "outputs": [
        {
          "output_type": "stream",
          "name": "stdout",
          "text": [
            "/content/iNotePal\n"
          ]
        }
      ]
    },
    {
      "cell_type": "markdown",
      "source": [
        "## Release"
      ],
      "metadata": {
        "id": "H9-bKmSSrT32"
      }
    },
    {
      "cell_type": "code",
      "source": [
        "commit_hash = !git log -1 --pretty=format:'%H'\n",
        "\n",
        "release_options = \" \".join([\n",
        "    version,\n",
        "    f\"--target {commit_hash[0]}\",\n",
        "    \"--prerelease\" if is_prerelease else \"\",\n",
        "])\n",
        "release_options"
      ],
      "metadata": {
        "colab": {
          "base_uri": "https://localhost:8080/",
          "height": 36
        },
        "id": "AioKfz3DoMTC",
        "outputId": "b91b8b20-2e82-4472-ad8e-2335a736180b"
      },
      "execution_count": null,
      "outputs": [
        {
          "output_type": "execute_result",
          "data": {
            "text/plain": [
              "'iNotePal-0.0.2 --target 20bfb8ac7a1cb8bd86ab3f25a34ad079c5eeebcc '"
            ],
            "application/vnd.google.colaboratory.intrinsic+json": {
              "type": "string"
            }
          },
          "metadata": {},
          "execution_count": 79
        }
      ]
    },
    {
      "cell_type": "code",
      "source": [
        "release_files = \" \".join([\n",
        "    \"/content/drive/MyDrive/Pal-ette/trained_models/*.*\" if deploy_model else \"\",\n",
        "    \"/content/iNotePal/app/*.zip\" if deploy_app else \"\",\n",
        "])\n",
        "release_files"
      ],
      "metadata": {
        "id": "ObNTkf8Tqte6",
        "outputId": "0c3611b2-099e-4b82-f44e-7dfcf89a26ad",
        "colab": {
          "base_uri": "https://localhost:8080/",
          "height": 36
        }
      },
      "execution_count": null,
      "outputs": [
        {
          "output_type": "execute_result",
          "data": {
            "text/plain": [
              "' /content/iNotePal/app/*.zip'"
            ],
            "application/vnd.google.colaboratory.intrinsic+json": {
              "type": "string"
            }
          },
          "metadata": {},
          "execution_count": 80
        }
      ]
    },
    {
      "cell_type": "code",
      "source": [
        "if not dry_run:\n",
        "    !gh release create {release_options} --generate-notes {release_files}"
      ],
      "metadata": {
        "colab": {
          "base_uri": "https://localhost:8080/"
        },
        "id": "grCV5pYp4gsd",
        "outputId": "e7bf488b-5670-4aa3-d59a-c7cb8ee9784b"
      },
      "execution_count": null,
      "outputs": [
        {
          "output_type": "stream",
          "name": "stdout",
          "text": [
            "\u001b[Khttps://github.com/pal-ette/iNotePal/releases/tag/iNotePal-0.0.2\n"
          ]
        }
      ]
    }
  ]
}