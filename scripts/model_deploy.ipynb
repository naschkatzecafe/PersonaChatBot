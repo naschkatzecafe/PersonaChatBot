{
  "nbformat": 4,
  "nbformat_minor": 0,
  "metadata": {
    "colab": {
      "provenance": [],
      "mount_file_id": "1lNunTdkRVSVkThlVQWZA41n683dbGIMa",
      "authorship_tag": "ABX9TyPOBUpsG3C+2u4MWzJOLKvw"
    },
    "kernelspec": {
      "name": "python3",
      "display_name": "Python 3"
    },
    "language_info": {
      "name": "python"
    }
  },
  "cells": [
    {
      "cell_type": "code",
      "source": [
        "raw_token = \"\" # @param {type: \"string\"}\n",
        "version = \"dummy-0.0.0\" # @param {type: \"string\"}\n",
        "is_prerelease = True # @param {type:\"boolean\"}\n",
        "\n"
      ],
      "metadata": {
        "id": "x_B8pHL84N8L"
      },
      "execution_count": 1,
      "outputs": []
    },
    {
      "cell_type": "code",
      "source": [
        "from google.colab import drive\n",
        "drive.mount('/content/drive')"
      ],
      "metadata": {
        "id": "6QwpAAlEm_IR",
        "outputId": "a02bcc4c-146d-48d0-e481-c8a4517e2ba6",
        "colab": {
          "base_uri": "https://localhost:8080/"
        }
      },
      "execution_count": 2,
      "outputs": [
        {
          "output_type": "stream",
          "name": "stdout",
          "text": [
            "Mounted at /content/drive\n"
          ]
        }
      ]
    },
    {
      "cell_type": "code",
      "execution_count": 3,
      "metadata": {
        "colab": {
          "base_uri": "https://localhost:8080/"
        },
        "id": "37u2e1Vq2_xK",
        "outputId": "53fe61d3-1118-4d89-e2cb-67e76af4cbd4"
      },
      "outputs": [
        {
          "output_type": "stream",
          "name": "stdout",
          "text": [
            "\u001b[33m\r0% [Working]\u001b[0m\r            \rGet:1 https://cloud.r-project.org/bin/linux/ubuntu jammy-cran40/ InRelease [3,626 B]\n",
            "\u001b[33m\r0% [Connecting to archive.ubuntu.com (185.125.190.39)] [Connecting to security.\u001b[0m\u001b[33m\r0% [Connecting to archive.ubuntu.com (185.125.190.39)] [Connecting to security.\u001b[0m\r                                                                               \rGet:2 https://developer.download.nvidia.com/compute/cuda/repos/ubuntu2204/x86_64  InRelease [1,581 B]\n",
            "Get:3 https://cli.github.com/packages stable InRelease [3,917 B]\n",
            "Get:4 http://security.ubuntu.com/ubuntu jammy-security InRelease [110 kB]\n",
            "Hit:5 http://archive.ubuntu.com/ubuntu jammy InRelease\n",
            "Get:6 https://developer.download.nvidia.com/compute/cuda/repos/ubuntu2204/x86_64  Packages [808 kB]\n",
            "Get:7 http://archive.ubuntu.com/ubuntu jammy-updates InRelease [119 kB]\n",
            "Get:8 https://cli.github.com/packages stable/main amd64 Packages [346 B]\n",
            "Hit:9 https://ppa.launchpadcontent.net/c2d4u.team/c2d4u4.0+/ubuntu jammy InRelease\n",
            "Get:10 http://security.ubuntu.com/ubuntu jammy-security/main amd64 Packages [1,691 kB]\n",
            "Hit:11 http://archive.ubuntu.com/ubuntu jammy-backports InRelease\n",
            "Get:12 https://ppa.launchpadcontent.net/deadsnakes/ppa/ubuntu jammy InRelease [18.1 kB]\n",
            "Hit:13 https://ppa.launchpadcontent.net/graphics-drivers/ppa/ubuntu jammy InRelease\n",
            "Get:14 http://archive.ubuntu.com/ubuntu jammy-updates/universe amd64 Packages [1,375 kB]\n",
            "Hit:15 https://ppa.launchpadcontent.net/ubuntugis/ppa/ubuntu jammy InRelease\n",
            "Get:16 https://ppa.launchpadcontent.net/deadsnakes/ppa/ubuntu jammy/main amd64 Packages [27.8 kB]\n",
            "Get:17 http://security.ubuntu.com/ubuntu jammy-security/universe amd64 Packages [1,082 kB]\n",
            "Get:18 http://archive.ubuntu.com/ubuntu jammy-updates/main amd64 Packages [1,974 kB]\n",
            "Fetched 7,214 kB in 3s (2,235 kB/s)\n",
            "Reading package lists... Done\n",
            "Building dependency tree... Done\n",
            "Reading state information... Done\n",
            "45 packages can be upgraded. Run 'apt list --upgradable' to see them.\n",
            "Reading package lists... Done\n",
            "Building dependency tree... Done\n",
            "Reading state information... Done\n",
            "The following NEW packages will be installed:\n",
            "  gh\n",
            "0 upgraded, 1 newly installed, 0 to remove and 45 not upgraded.\n",
            "Need to get 13.5 MB of archives.\n",
            "After this operation, 49.4 MB of additional disk space will be used.\n",
            "Get:1 https://cli.github.com/packages stable/main amd64 gh amd64 2.47.0 [13.5 MB]\n",
            "Fetched 13.5 MB in 1s (22.6 MB/s)\n",
            "debconf: unable to initialize frontend: Dialog\n",
            "debconf: (No usable dialog-like program is installed, so the dialog based frontend cannot be used. at /usr/share/perl5/Debconf/FrontEnd/Dialog.pm line 78, <> line 1.)\n",
            "debconf: falling back to frontend: Readline\n",
            "debconf: unable to initialize frontend: Readline\n",
            "debconf: (This frontend requires a controlling tty.)\n",
            "debconf: falling back to frontend: Teletype\n",
            "dpkg-preconfigure: unable to re-open stdin: \n",
            "Selecting previously unselected package gh.\n",
            "(Reading database ... 121752 files and directories currently installed.)\n",
            "Preparing to unpack .../archives/gh_2.47.0_amd64.deb ...\n",
            "Unpacking gh (2.47.0) ...\n",
            "Setting up gh (2.47.0) ...\n",
            "Processing triggers for man-db (2.10.2-1) ...\n"
          ]
        }
      ],
      "source": [
        "!sudo mkdir -p -m 755 /etc/apt/keyrings && wget -qO- https://cli.github.com/packages/githubcli-archive-keyring.gpg | sudo tee /etc/apt/keyrings/githubcli-archive-keyring.gpg > /dev/null \\\n",
        "&& sudo chmod go+r /etc/apt/keyrings/githubcli-archive-keyring.gpg \\\n",
        "&& echo \"deb [arch=$(dpkg --print-architecture) signed-by=/etc/apt/keyrings/githubcli-archive-keyring.gpg] https://cli.github.com/packages stable main\" | sudo tee /etc/apt/sources.list.d/github-cli.list > /dev/null \\\n",
        "&& sudo apt update \\\n",
        "&& sudo apt install gh -y"
      ]
    },
    {
      "cell_type": "code",
      "source": [
        "!gh version"
      ],
      "metadata": {
        "colab": {
          "base_uri": "https://localhost:8080/"
        },
        "id": "maeMKlFA4Hm8",
        "outputId": "02445dbb-fa38-4ad7-b4b1-4dd03b7519e8"
      },
      "execution_count": 4,
      "outputs": [
        {
          "output_type": "stream",
          "name": "stdout",
          "text": [
            "gh version 2.47.0 (2024-04-03)\n",
            "https://github.com/cli/cli/releases/tag/v2.47.0\n"
          ]
        }
      ]
    },
    {
      "cell_type": "code",
      "source": [
        "!gh auth"
      ],
      "metadata": {
        "colab": {
          "base_uri": "https://localhost:8080/"
        },
        "id": "9OVXjhzQ4IuC",
        "outputId": "be965529-dcc4-4d3d-abe4-05688ea1da4d"
      },
      "execution_count": 5,
      "outputs": [
        {
          "output_type": "stream",
          "name": "stdout",
          "text": [
            "Authenticate gh and git with GitHub\n",
            "\n",
            "\u001b[0;1;39mUSAGE\u001b[0m\n",
            "  gh auth <command> [flags]\n",
            "\n",
            "\u001b[0;1;39mAVAILABLE COMMANDS\u001b[0m\n",
            "  login:       Log in to a GitHub account\n",
            "  logout:      Log out of a GitHub account\n",
            "  refresh:     Refresh stored authentication credentials\n",
            "  setup-git:   Setup git with GitHub CLI\n",
            "  status:      View all accounts and authentication status\n",
            "  switch:      Switch active GitHub account\n",
            "  token:       Print the authentication token gh uses for a hostname and account\n",
            "\n",
            "\u001b[0;1;39mINHERITED FLAGS\u001b[0m\n",
            "  --help   Show help for command\n",
            "\n",
            "\u001b[0;1;39mLEARN MORE\u001b[0m\n",
            "  Use `gh <command> <subcommand> --help` for more information about a command.\n",
            "  Read the manual at https://cli.github.com/manual\n",
            "\n"
          ]
        }
      ]
    },
    {
      "cell_type": "code",
      "source": [
        "!echo {raw_token} > /content/pat.txt"
      ],
      "metadata": {
        "id": "_M784miV5Yqj"
      },
      "execution_count": 6,
      "outputs": []
    },
    {
      "cell_type": "code",
      "source": [
        "!gh auth login --hostname github.com -p https --with-token  < /content/pat.txt"
      ],
      "metadata": {
        "id": "0t3WxtPa4Kha"
      },
      "execution_count": 7,
      "outputs": []
    },
    {
      "cell_type": "code",
      "source": [
        "!gh auth status"
      ],
      "metadata": {
        "colab": {
          "base_uri": "https://localhost:8080/"
        },
        "id": "LGYLb57p4TfT",
        "outputId": "b28a585f-13c4-4dcc-854c-daf93d76dce2"
      },
      "execution_count": 8,
      "outputs": [
        {
          "output_type": "stream",
          "name": "stdout",
          "text": [
            "\u001b[0;1;39mgithub.com\u001b[0m\n",
            "  \u001b[0;32m✓\u001b[0m Logged in to github.com account \u001b[0;1;39mryugibo\u001b[0m (/root/.config/gh/hosts.yml)\n",
            "  - Active account: \u001b[0;1;39mtrue\u001b[0m\n",
            "  - Git operations protocol: \u001b[0;1;39mhttps\u001b[0m\n",
            "  - Token: \u001b[0;1;39mgithub_pat_11AB4PWOA0PAnGv8KeyapE_***********************************************************\u001b[0m\n"
          ]
        }
      ]
    },
    {
      "cell_type": "code",
      "source": [
        "!rm /content/pat.txt"
      ],
      "metadata": {
        "id": "Fcss-5W-q4Mh"
      },
      "execution_count": 9,
      "outputs": []
    },
    {
      "cell_type": "code",
      "source": [
        "!gh repo clone pal-ette/iNotePal"
      ],
      "metadata": {
        "colab": {
          "base_uri": "https://localhost:8080/"
        },
        "id": "zKOftMdt4WJb",
        "outputId": "e7288aa6-25d1-478e-f13f-00d0245fb86f"
      },
      "execution_count": 10,
      "outputs": [
        {
          "output_type": "stream",
          "name": "stdout",
          "text": [
            "Cloning into 'iNotePal'...\n",
            "remote: Enumerating objects: 108, done.\u001b[K\n",
            "remote: Counting objects: 100% (35/35), done.\u001b[K\n",
            "remote: Compressing objects: 100% (20/20), done.\u001b[K\n",
            "remote: Total 108 (delta 22), reused 15 (delta 14), pack-reused 73\u001b[K\n",
            "Receiving objects: 100% (108/108), 812.74 KiB | 2.37 MiB/s, done.\n",
            "Resolving deltas: 100% (38/38), done.\n"
          ]
        }
      ]
    },
    {
      "cell_type": "code",
      "source": [
        "%cd iNotePal"
      ],
      "metadata": {
        "colab": {
          "base_uri": "https://localhost:8080/"
        },
        "id": "bJzufFgt4cVr",
        "outputId": "9181a932-544a-4c86-ecfd-16011054133f"
      },
      "execution_count": 11,
      "outputs": [
        {
          "output_type": "stream",
          "name": "stdout",
          "text": [
            "/content/iNotePal\n"
          ]
        }
      ]
    },
    {
      "cell_type": "code",
      "source": [
        "!pwd"
      ],
      "metadata": {
        "colab": {
          "base_uri": "https://localhost:8080/"
        },
        "id": "Bv66V7RZ4emj",
        "outputId": "5ac3f078-4d7d-431d-ad6b-4ff5b80e4018"
      },
      "execution_count": 12,
      "outputs": [
        {
          "output_type": "stream",
          "name": "stdout",
          "text": [
            "/content/iNotePal\n"
          ]
        }
      ]
    },
    {
      "cell_type": "code",
      "source": [
        "!gh release create --help"
      ],
      "metadata": {
        "colab": {
          "base_uri": "https://localhost:8080/"
        },
        "id": "f37rfPL5nU1l",
        "outputId": "b7b8d9ae-0246-4b68-90be-4965e8e2ad8e"
      },
      "execution_count": 13,
      "outputs": [
        {
          "output_type": "stream",
          "name": "stdout",
          "text": [
            "Create a new GitHub Release for a repository.\n",
            "\n",
            "A list of asset files may be given to upload to the new release. To define a\n",
            "display label for an asset, append text starting with `#` after the file name.\n",
            "\n",
            "If a matching git tag does not yet exist, one will automatically get created\n",
            "from the latest state of the default branch.\n",
            "Use `--target` to point to a different branch or commit for the automatic tag creation.\n",
            "Use `--verify-tag` to abort the release if the tag doesn't already exist.\n",
            "To fetch the new tag locally after the release, do `git fetch --tags origin`.\n",
            "\n",
            "To create a release from an annotated git tag, first create one locally with\n",
            "git, push the tag to GitHub, then run this command.\n",
            "Use `--notes-from-tag` to automatically generate the release notes\n",
            "from the annotated git tag.\n",
            "\n",
            "When using automatically generated release notes, a release title will also be automatically\n",
            "generated unless a title was explicitly passed. Additional release notes can be prepended to\n",
            "automatically generated notes by using the `--notes` flag.\n",
            "\n",
            "\n",
            "\u001b[0;1;39mUSAGE\u001b[0m\n",
            "  gh release create [<tag>] [<files>...]\n",
            "\n",
            "\u001b[0;1;39mALIASES\u001b[0m\n",
            "  new\n",
            "\n",
            "\u001b[0;1;39mFLAGS\u001b[0m\n",
            "      --discussion-category string   Start a discussion in the specified category\n",
            "  -d, --draft                        Save the release as a draft instead of publishing it\n",
            "      --generate-notes               Automatically generate title and notes for the release\n",
            "      --latest                       Mark this release as \"Latest\" (default [automatic based on date and version])\n",
            "  -n, --notes string                 Release notes\n",
            "  -F, --notes-file file              Read release notes from file (use \"-\" to read from standard input)\n",
            "      --notes-from-tag               Automatically generate notes from annotated tag\n",
            "      --notes-start-tag string       Tag to use as the starting point for generating release notes\n",
            "  -p, --prerelease                   Mark the release as a prerelease\n",
            "      --target branch                Target branch or full commit SHA (default [main branch])\n",
            "  -t, --title string                 Release title\n",
            "      --verify-tag                   Abort in case the git tag doesn't already exist in the remote repository\n",
            "\n",
            "\u001b[0;1;39mINHERITED FLAGS\u001b[0m\n",
            "      --help                     Show help for command\n",
            "  -R, --repo [HOST/]OWNER/REPO   Select another repository using the [HOST/]OWNER/REPO format\n",
            "\n",
            "\u001b[0;1;39mEXAMPLES\u001b[0m\n",
            "  Interactively create a release\n",
            "  $ gh release create\n",
            "  \n",
            "  Interactively create a release from specific tag\n",
            "  $ gh release create v1.2.3\n",
            "  \n",
            "  Non-interactively create a release\n",
            "  $ gh release create v1.2.3 --notes \"bugfix release\"\n",
            "  \n",
            "  Use automatically generated release notes\n",
            "  $ gh release create v1.2.3 --generate-notes\n",
            "  \n",
            "  Use release notes from a file\n",
            "  $ gh release create v1.2.3 -F changelog.md\n",
            "  \n",
            "  Upload all tarballs in a directory as release assets\n",
            "  $ gh release create v1.2.3 ./dist/*.tgz\n",
            "  \n",
            "  Upload a release asset with a display label\n",
            "  $ gh release create v1.2.3 '/path/to/asset.zip#My display label'\n",
            "  \n",
            "  Create a release and start a discussion\n",
            "  $ gh release create v1.2.3 --discussion-category \"General\"\n",
            "\n",
            "\u001b[0;1;39mLEARN MORE\u001b[0m\n",
            "  Use `gh <command> <subcommand> --help` for more information about a command.\n",
            "  Read the manual at https://cli.github.com/manual\n",
            "\n"
          ]
        }
      ]
    },
    {
      "cell_type": "code",
      "source": [
        "release_options = \" \".join([\n",
        "    version,\n",
        "    \"--prerelease\" if is_prerelease else \"\",\n",
        "])\n",
        "release_options"
      ],
      "metadata": {
        "colab": {
          "base_uri": "https://localhost:8080/",
          "height": 35
        },
        "id": "AioKfz3DoMTC",
        "outputId": "7d57b630-6d55-4e56-bb36-9b7e64f8c5c5"
      },
      "execution_count": 14,
      "outputs": [
        {
          "output_type": "execute_result",
          "data": {
            "text/plain": [
              "'dummy-0.0.0 --prerelease'"
            ],
            "application/vnd.google.colaboratory.intrinsic+json": {
              "type": "string"
            }
          },
          "metadata": {},
          "execution_count": 14
        }
      ]
    },
    {
      "cell_type": "code",
      "source": [
        "!gh release create {release_options} --generate-notes /content/drive/MyDrive/Pal-ette/trained_models/*"
      ],
      "metadata": {
        "colab": {
          "base_uri": "https://localhost:8080/"
        },
        "id": "grCV5pYp4gsd",
        "outputId": "835af1a3-459e-4f1e-ab15-6f3ccc5a10ff"
      },
      "execution_count": 15,
      "outputs": [
        {
          "output_type": "stream",
          "name": "stdout",
          "text": [
            "\u001b[Khttps://github.com/pal-ette/iNotePal/releases/tag/dummy-0.0.0\n"
          ]
        }
      ]
    },
    {
      "cell_type": "code",
      "source": [],
      "metadata": {
        "id": "eXto2-R85Ro2"
      },
      "execution_count": 15,
      "outputs": []
    }
  ]
}