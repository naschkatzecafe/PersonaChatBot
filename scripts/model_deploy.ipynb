{
  "nbformat": 4,
  "nbformat_minor": 0,
  "metadata": {
    "colab": {
      "provenance": [],
      "mount_file_id": "1lNunTdkRVSVkThlVQWZA41n683dbGIMa",
      "authorship_tag": "ABX9TyN7VGK2vPCOa+XSn4xmTqhm",
      "include_colab_link": true
    },
    "kernelspec": {
      "name": "python3",
      "display_name": "Python 3"
    },
    "language_info": {
      "name": "python"
    }
  },
  "cells": [
    {
      "cell_type": "markdown",
      "metadata": {
        "id": "view-in-github",
        "colab_type": "text"
      },
      "source": [
        "<a href=\"https://colab.research.google.com/github/pal-ette/iNotePal/blob/20-deploy-model/scripts/model_deploy.ipynb\" target=\"_parent\"><img src=\"https://colab.research.google.com/assets/colab-badge.svg\" alt=\"Open In Colab\"/></a>"
      ]
    },
    {
      "cell_type": "code",
      "source": [
        "raw_token = \"\" # @param {type: \"string\"}\n",
        "version = \"dummy-0.0.0\" # @param {type: \"string\"}\n",
        "is_prerelease = True # @param {type:\"boolean\"}\n",
        "\n"
      ],
      "metadata": {
        "id": "x_B8pHL84N8L"
      },
      "execution_count": null,
      "outputs": []
    },
    {
      "cell_type": "code",
      "execution_count": null,
      "metadata": {
        "colab": {
          "base_uri": "https://localhost:8080/"
        },
        "id": "37u2e1Vq2_xK",
        "outputId": "a2b73929-58fd-42d9-cc98-b9423422898c"
      },
      "outputs": [
        {
          "output_type": "stream",
          "name": "stdout",
          "text": [
            "\u001b[33m\r0% [Working]\u001b[0m\r            \rHit:1 https://cli.github.com/packages stable InRelease\n",
            "\u001b[33m\r0% [Waiting for headers] [Waiting for headers] [Waiting for headers] [Waiting f\u001b[0m\r                                                                               \rHit:2 https://cloud.r-project.org/bin/linux/ubuntu jammy-cran40/ InRelease\n",
            "\u001b[33m\r0% [Waiting for headers] [Waiting for headers] [Waiting for headers] [Waiting f\u001b[0m\r                                                                               \rHit:3 https://ppa.launchpadcontent.net/c2d4u.team/c2d4u4.0+/ubuntu jammy InRelease\n",
            "\u001b[33m\r                                                                               \r0% [Waiting for headers] [Waiting for headers] [Waiting for headers]\u001b[0m\r                                                                    \rHit:4 https://developer.download.nvidia.com/compute/cuda/repos/ubuntu2204/x86_64  InRelease\n",
            "\u001b[33m\r0% [Waiting for headers] [Waiting for headers] [Waiting for headers]\u001b[0m\r                                                                    \rHit:5 https://ppa.launchpadcontent.net/deadsnakes/ppa/ubuntu jammy InRelease\n",
            "\u001b[33m\r0% [Waiting for headers] [Waiting for headers] [Waiting for headers]\u001b[0m\r                                                                    \rHit:6 http://security.ubuntu.com/ubuntu jammy-security InRelease\n",
            "\u001b[33m\r                                                                    \r0% [Waiting for headers] [Waiting for headers]\u001b[0m\r                                              \rHit:7 http://archive.ubuntu.com/ubuntu jammy InRelease\n",
            "\u001b[33m\r0% [Waiting for headers] [Waiting for headers]\u001b[0m\r                                              \rHit:8 https://ppa.launchpadcontent.net/graphics-drivers/ppa/ubuntu jammy InRelease\n",
            "Hit:9 https://ppa.launchpadcontent.net/ubuntugis/ppa/ubuntu jammy InRelease\n",
            "Hit:10 http://archive.ubuntu.com/ubuntu jammy-updates InRelease\n",
            "Hit:11 http://archive.ubuntu.com/ubuntu jammy-backports InRelease\n",
            "Reading package lists... Done\n",
            "Building dependency tree... Done\n",
            "Reading state information... Done\n",
            "46 packages can be upgraded. Run 'apt list --upgradable' to see them.\n",
            "Reading package lists... Done\n",
            "Building dependency tree... Done\n",
            "Reading state information... Done\n",
            "gh is already the newest version (2.47.0).\n",
            "0 upgraded, 0 newly installed, 0 to remove and 46 not upgraded.\n"
          ]
        }
      ],
      "source": [
        "!sudo mkdir -p -m 755 /etc/apt/keyrings && wget -qO- https://cli.github.com/packages/githubcli-archive-keyring.gpg | sudo tee /etc/apt/keyrings/githubcli-archive-keyring.gpg > /dev/null \\\n",
        "&& sudo chmod go+r /etc/apt/keyrings/githubcli-archive-keyring.gpg \\\n",
        "&& echo \"deb [arch=$(dpkg --print-architecture) signed-by=/etc/apt/keyrings/githubcli-archive-keyring.gpg] https://cli.github.com/packages stable main\" | sudo tee /etc/apt/sources.list.d/github-cli.list > /dev/null \\\n",
        "&& sudo apt update \\\n",
        "&& sudo apt install gh -y"
      ]
    },
    {
      "cell_type": "code",
      "source": [
        "!gh version"
      ],
      "metadata": {
        "colab": {
          "base_uri": "https://localhost:8080/"
        },
        "id": "maeMKlFA4Hm8",
        "outputId": "4582b80e-1186-4635-9019-eedd51c6d75e"
      },
      "execution_count": null,
      "outputs": [
        {
          "output_type": "stream",
          "name": "stdout",
          "text": [
            "gh version 2.47.0 (2024-04-03)\n",
            "https://github.com/cli/cli/releases/tag/v2.47.0\n"
          ]
        }
      ]
    },
    {
      "cell_type": "code",
      "source": [
        "!gh auth"
      ],
      "metadata": {
        "colab": {
          "base_uri": "https://localhost:8080/"
        },
        "id": "9OVXjhzQ4IuC",
        "outputId": "af249ab1-478f-4c14-ad54-465bd63ed6a3"
      },
      "execution_count": null,
      "outputs": [
        {
          "output_type": "stream",
          "name": "stdout",
          "text": [
            "Authenticate gh and git with GitHub\n",
            "\n",
            "\u001b[0;1;39mUSAGE\u001b[0m\n",
            "  gh auth <command> [flags]\n",
            "\n",
            "\u001b[0;1;39mAVAILABLE COMMANDS\u001b[0m\n",
            "  login:       Log in to a GitHub account\n",
            "  logout:      Log out of a GitHub account\n",
            "  refresh:     Refresh stored authentication credentials\n",
            "  setup-git:   Setup git with GitHub CLI\n",
            "  status:      View all accounts and authentication status\n",
            "  switch:      Switch active GitHub account\n",
            "  token:       Print the authentication token gh uses for a hostname and account\n",
            "\n",
            "\u001b[0;1;39mINHERITED FLAGS\u001b[0m\n",
            "  --help   Show help for command\n",
            "\n",
            "\u001b[0;1;39mLEARN MORE\u001b[0m\n",
            "  Use `gh <command> <subcommand> --help` for more information about a command.\n",
            "  Read the manual at https://cli.github.com/manual\n",
            "\n"
          ]
        }
      ]
    },
    {
      "cell_type": "code",
      "source": [
        "!echo {raw_token} > /content/pat.txt"
      ],
      "metadata": {
        "id": "_M784miV5Yqj"
      },
      "execution_count": null,
      "outputs": []
    },
    {
      "cell_type": "code",
      "source": [
        "!gh auth login --hostname github.com -p https --with-token  < /content/pat.txt"
      ],
      "metadata": {
        "id": "0t3WxtPa4Kha"
      },
      "execution_count": null,
      "outputs": []
    },
    {
      "cell_type": "code",
      "source": [
        "!gh auth status"
      ],
      "metadata": {
        "colab": {
          "base_uri": "https://localhost:8080/"
        },
        "id": "LGYLb57p4TfT",
        "outputId": "769ff379-637b-49fc-df3c-3572a55a0b10"
      },
      "execution_count": null,
      "outputs": [
        {
          "output_type": "stream",
          "name": "stdout",
          "text": [
            "\u001b[0;1;39mgithub.com\u001b[0m\n",
            "  \u001b[0;32m✓\u001b[0m Logged in to github.com account \u001b[0;1;39mryugibo\u001b[0m (/root/.config/gh/hosts.yml)\n",
            "  - Active account: \u001b[0;1;39mtrue\u001b[0m\n",
            "  - Git operations protocol: \u001b[0;1;39mhttps\u001b[0m\n",
            "  - Token: \u001b[0;1;39mgithub_pat_11AB4PWOA0gLfwEVT8OBwA_***********************************************************\u001b[0m\n"
          ]
        }
      ]
    },
    {
      "cell_type": "code",
      "source": [
        "!gh repo clone pal-ette/iNotePal"
      ],
      "metadata": {
        "colab": {
          "base_uri": "https://localhost:8080/"
        },
        "id": "zKOftMdt4WJb",
        "outputId": "43fa11c9-f318-432a-c4ec-2e9394973d08"
      },
      "execution_count": null,
      "outputs": [
        {
          "output_type": "stream",
          "name": "stdout",
          "text": [
            "Cloning into 'iNotePal'...\n",
            "remote: Enumerating objects: 91, done.\u001b[K\n",
            "remote: Counting objects: 100% (4/4), done.\u001b[K\n",
            "remote: Compressing objects: 100% (4/4), done.\u001b[K\n",
            "remote: Total 91 (delta 0), reused 0 (delta 0), pack-reused 87\u001b[K\n",
            "Receiving objects: 100% (91/91), 783.19 KiB | 12.84 MiB/s, done.\n",
            "Resolving deltas: 100% (28/28), done.\n"
          ]
        }
      ]
    },
    {
      "cell_type": "code",
      "source": [
        "%cd iNotePal"
      ],
      "metadata": {
        "colab": {
          "base_uri": "https://localhost:8080/"
        },
        "id": "bJzufFgt4cVr",
        "outputId": "f889b8c0-7ddb-4cb2-d639-4fd18e8c8244"
      },
      "execution_count": null,
      "outputs": [
        {
          "output_type": "stream",
          "name": "stdout",
          "text": [
            "/content/iNotePal\n"
          ]
        }
      ]
    },
    {
      "cell_type": "code",
      "source": [
        "!pwd"
      ],
      "metadata": {
        "colab": {
          "base_uri": "https://localhost:8080/"
        },
        "id": "Bv66V7RZ4emj",
        "outputId": "c0be5c45-9f16-4626-da04-14ce352ff363"
      },
      "execution_count": null,
      "outputs": [
        {
          "output_type": "stream",
          "name": "stdout",
          "text": [
            "/content/iNotePal\n"
          ]
        }
      ]
    },
    {
      "cell_type": "code",
      "source": [
        "!gh release create --help"
      ],
      "metadata": {
        "colab": {
          "base_uri": "https://localhost:8080/"
        },
        "id": "f37rfPL5nU1l",
        "outputId": "78a88def-88f3-4843-a948-b965a8da5d74"
      },
      "execution_count": null,
      "outputs": [
        {
          "output_type": "stream",
          "name": "stdout",
          "text": [
            "Create a new GitHub Release for a repository.\n",
            "\n",
            "A list of asset files may be given to upload to the new release. To define a\n",
            "display label for an asset, append text starting with `#` after the file name.\n",
            "\n",
            "If a matching git tag does not yet exist, one will automatically get created\n",
            "from the latest state of the default branch.\n",
            "Use `--target` to point to a different branch or commit for the automatic tag creation.\n",
            "Use `--verify-tag` to abort the release if the tag doesn't already exist.\n",
            "To fetch the new tag locally after the release, do `git fetch --tags origin`.\n",
            "\n",
            "To create a release from an annotated git tag, first create one locally with\n",
            "git, push the tag to GitHub, then run this command.\n",
            "Use `--notes-from-tag` to automatically generate the release notes\n",
            "from the annotated git tag.\n",
            "\n",
            "When using automatically generated release notes, a release title will also be automatically\n",
            "generated unless a title was explicitly passed. Additional release notes can be prepended to\n",
            "automatically generated notes by using the `--notes` flag.\n",
            "\n",
            "\n",
            "\u001b[0;1;39mUSAGE\u001b[0m\n",
            "  gh release create [<tag>] [<files>...]\n",
            "\n",
            "\u001b[0;1;39mALIASES\u001b[0m\n",
            "  new\n",
            "\n",
            "\u001b[0;1;39mFLAGS\u001b[0m\n",
            "      --discussion-category string   Start a discussion in the specified category\n",
            "  -d, --draft                        Save the release as a draft instead of publishing it\n",
            "      --generate-notes               Automatically generate title and notes for the release\n",
            "      --latest                       Mark this release as \"Latest\" (default [automatic based on date and version])\n",
            "  -n, --notes string                 Release notes\n",
            "  -F, --notes-file file              Read release notes from file (use \"-\" to read from standard input)\n",
            "      --notes-from-tag               Automatically generate notes from annotated tag\n",
            "      --notes-start-tag string       Tag to use as the starting point for generating release notes\n",
            "  -p, --prerelease                   Mark the release as a prerelease\n",
            "      --target branch                Target branch or full commit SHA (default [main branch])\n",
            "  -t, --title string                 Release title\n",
            "      --verify-tag                   Abort in case the git tag doesn't already exist in the remote repository\n",
            "\n",
            "\u001b[0;1;39mINHERITED FLAGS\u001b[0m\n",
            "      --help                     Show help for command\n",
            "  -R, --repo [HOST/]OWNER/REPO   Select another repository using the [HOST/]OWNER/REPO format\n",
            "\n",
            "\u001b[0;1;39mEXAMPLES\u001b[0m\n",
            "  Interactively create a release\n",
            "  $ gh release create\n",
            "  \n",
            "  Interactively create a release from specific tag\n",
            "  $ gh release create v1.2.3\n",
            "  \n",
            "  Non-interactively create a release\n",
            "  $ gh release create v1.2.3 --notes \"bugfix release\"\n",
            "  \n",
            "  Use automatically generated release notes\n",
            "  $ gh release create v1.2.3 --generate-notes\n",
            "  \n",
            "  Use release notes from a file\n",
            "  $ gh release create v1.2.3 -F changelog.md\n",
            "  \n",
            "  Upload all tarballs in a directory as release assets\n",
            "  $ gh release create v1.2.3 ./dist/*.tgz\n",
            "  \n",
            "  Upload a release asset with a display label\n",
            "  $ gh release create v1.2.3 '/path/to/asset.zip#My display label'\n",
            "  \n",
            "  Create a release and start a discussion\n",
            "  $ gh release create v1.2.3 --discussion-category \"General\"\n",
            "\n",
            "\u001b[0;1;39mLEARN MORE\u001b[0m\n",
            "  Use `gh <command> <subcommand> --help` for more information about a command.\n",
            "  Read the manual at https://cli.github.com/manual\n",
            "\n"
          ]
        }
      ]
    },
    {
      "cell_type": "code",
      "source": [
        "release_options = \" \".join([\n",
        "    version,\n",
        "    \"--prerelease\" if is_prerelease else \"\",\n",
        "])\n",
        "release_options"
      ],
      "metadata": {
        "colab": {
          "base_uri": "https://localhost:8080/",
          "height": 35
        },
        "id": "AioKfz3DoMTC",
        "outputId": "146c6cd1-d9d2-4db8-85fa-a660a6687382"
      },
      "execution_count": null,
      "outputs": [
        {
          "output_type": "execute_result",
          "data": {
            "text/plain": [
              "'dummy-0.0.0 --prerelease'"
            ],
            "application/vnd.google.colaboratory.intrinsic+json": {
              "type": "string"
            }
          },
          "metadata": {},
          "execution_count": 26
        }
      ]
    },
    {
      "cell_type": "code",
      "source": [
        "!gh release create {release_options} --generate-notes /content/drive/MyDrive/Pal-ette/trained_models/*"
      ],
      "metadata": {
        "colab": {
          "base_uri": "https://localhost:8080/"
        },
        "id": "grCV5pYp4gsd",
        "outputId": "1e5ad4ac-1b0d-453b-98fa-7f28192b6399"
      },
      "execution_count": null,
      "outputs": [
        {
          "output_type": "stream",
          "name": "stdout",
          "text": [
            "\u001b[Khttps://github.com/pal-ette/iNotePal/releases/tag/dummy-0.0.0\n"
          ]
        }
      ]
    },
    {
      "cell_type": "code",
      "source": [],
      "metadata": {
        "id": "eXto2-R85Ro2"
      },
      "execution_count": null,
      "outputs": []
    }
  ]
}