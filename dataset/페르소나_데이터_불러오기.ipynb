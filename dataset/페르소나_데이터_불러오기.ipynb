{
  "cells": [
    {
      "cell_type": "markdown",
      "metadata": {
        "colab_type": "text",
        "id": "view-in-github"
      },
      "source": [
        "<a href=\"https://colab.research.google.com/github/pal-ette/iNotePal/blob/4-persona/dataset/%ED%8E%98%EB%A5%B4%EC%86%8C%EB%82%98_%EB%8D%B0%EC%9D%B4%ED%84%B0_%EB%B6%88%EB%9F%AC%EC%98%A4%EA%B8%B0.ipynb\" target=\"_parent\"><img src=\"https://colab.research.google.com/assets/colab-badge.svg\" alt=\"Open In Colab\"/></a>"
      ]
    },
    {
      "cell_type": "markdown",
      "metadata": {
        "id": "5gvQD0v4GIoH"
      },
      "source": [
        "https://www.aihub.or.kr/aihubdata/data/view.do?currMenu=&topMenu=&aihubDataSe=data&dataSetSn=71302"
      ]
    },
    {
      "cell_type": "code",
      "execution_count": 1,
      "metadata": {
        "id": "V-PVDr_I0hJb"
      },
      "outputs": [],
      "source": [
        "import pandas as pd\n",
        "import numpy as np\n"
      ]
    },
    {
      "cell_type": "markdown",
      "metadata": {
        "id": "ZNze9e2hGNbY"
      },
      "source": [
        "aihub apishell"
      ]
    },
    {
      "cell_type": "code",
      "execution_count": 2,
      "metadata": {
        "id": "LDONe46nIG0_"
      },
      "outputs": [],
      "source": [
        "AIHUB_ID = \"\" # @param {type:\"string\"}\n",
        "AIHUB_PW = \"\" # @param {type:\"string\"}\n"
      ]
    },
    {
      "cell_type": "code",
      "execution_count": 3,
      "metadata": {
        "colab": {
          "base_uri": "https://localhost:8080/"
        },
        "id": "fwFmI7JdF5QO",
        "outputId": "79792f0c-402c-44b2-a285-2896ffd75ecd"
      },
      "outputs": [
        {
          "name": "stdout",
          "output_type": "stream",
          "text": [
            "  % Total    % Received % Xferd  Average Speed   Time    Time     Time  Current\n",
            "                                 Dload  Upload   Total   Spent    Left  Speed\n",
            "100  6634  100  6634    0     0  11240      0 --:--:-- --:--:-- --:--:-- 11244\n"
          ]
        }
      ],
      "source": [
        "!curl -o \"aihubshell\" https://api.aihub.or.kr/api/aihubshell.do"
      ]
    },
    {
      "cell_type": "code",
      "execution_count": 4,
      "metadata": {
        "colab": {
          "base_uri": "https://localhost:8080/"
        },
        "id": "WzvBoNb6GG_A",
        "outputId": "892dcffc-378d-4fa9-d5fa-ca1996e50dae"
      },
      "outputs": [
        {
          "name": "stdout",
          "output_type": "stream",
          "text": [
            "total 24\n",
            "drwxr-xr-x 1 root root 4096 Apr 12 02:38 .\n",
            "drwxr-xr-x 1 root root 4096 Apr 12 02:25 ..\n",
            "-rw-r--r-- 1 root root 6634 Apr 12 02:38 aihubshell\n",
            "drwxr-xr-x 4 root root 4096 Mar 29 13:19 .config\n",
            "drwxr-xr-x 1 root root 4096 Mar 29 13:20 sample_data\n"
          ]
        }
      ],
      "source": [
        "!ls -al\n"
      ]
    },
    {
      "cell_type": "markdown",
      "metadata": {
        "id": "YoPPfJVqHRLu"
      },
      "source": [
        "실행권한 부여"
      ]
    },
    {
      "cell_type": "code",
      "execution_count": 5,
      "metadata": {
        "id": "z50cqyUOGUux"
      },
      "outputs": [],
      "source": [
        "!chmod +x ./aihubshell"
      ]
    },
    {
      "cell_type": "markdown",
      "metadata": {
        "id": "dsNFTmtzHdf4"
      },
      "source": [
        "데이터셋 정보 조회"
      ]
    },
    {
      "cell_type": "code",
      "execution_count": 6,
      "metadata": {
        "colab": {
          "base_uri": "https://localhost:8080/"
        },
        "id": "J8GbRl5dGaME",
        "outputId": "56e9e645-41ed-487e-90d7-d51fd2dd02af"
      },
      "outputs": [
        {
          "name": "stdout",
          "output_type": "stream",
          "text": [
            "==========================================\n",
            "aihubshell version 24.01.29 v0.3\n",
            "==========================================\n",
            "Invalid mode. Please use 'd', 'l' for dataset list, 'l [datasetkey]' for file tree\n"
          ]
        }
      ],
      "source": [
        "!./aihubshell -mode I"
      ]
    },
    {
      "cell_type": "code",
      "execution_count": 7,
      "metadata": {
        "colab": {
          "base_uri": "https://localhost:8080/"
        },
        "id": "rfTHAPUpGe5z",
        "outputId": "292545a5-ad05-40f8-c101-cfe5b1bc47be"
      },
      "outputs": [
        {
          "name": "stdout",
          "output_type": "stream",
          "text": [
            "==========================================\n",
            "aihubshell version 24.01.29 v0.3\n",
            "==========================================\n",
            "Fetching file tree structure...\n",
            "The contents are encoded in UTF-8 including Korean characters. \n",
            "If the following contents are not output normally, \n",
            "Please modify the character information of the OS. \n",
            "=================공지사항=================== \n",
            "========================================== \n",
            "\n",
            "    └─044.페르소나 대화\n",
            "        ├─01-1.정식개방데이터\n",
            "        │  ├─Training\n",
            "        │  │  ├─01.원천데이터\n",
            "        │  │  │  ├─TS_가족.zip | 2 MB | 481131\n",
            "        │  │  │  ├─TS_건강,의학.zip | 2 MB | 481132\n",
            "        │  │  │  ├─TS_경제,금융,산업.zip | 2 MB | 481133\n",
            "        │  │  │  ├─TS_과학,기술,IT.zip | 1 MB | 481134\n",
            "        │  │  │  ├─TS_미디어,콘텐츠.zip | 2 MB | 481135\n",
            "        │  │  │  ├─TS_미용,외모.zip | 2 MB | 481136\n",
            "        │  │  │  ├─TS_반려동물.zip | 2 MB | 481137\n",
            "        │  │  │  ├─TS_쇼핑,상품.zip | 2 MB | 481138\n",
            "        │  │  │  ├─TS_스포츠.zip | 2 MB | 481139\n",
            "        │  │  │  ├─TS_시사,사회,인문.zip | 2 MB | 481140\n",
            "        │  │  │  ├─TS_식음료.zip | 2 MB | 481141\n",
            "        │  │  │  ├─TS_아티스트,공연.zip | 1 MB | 481142\n",
            "        │  │  │  ├─TS_여가,오락.zip | 3 MB | 481143\n",
            "        │  │  │  ├─TS_여행,레저.zip | 2 MB | 481144\n",
            "        │  │  │  ├─TS_연애,결혼.zip | 3 MB | 481145\n",
            "        │  │  │  ├─TS_예술,문학.zip | 1 MB | 481146\n",
            "        │  │  │  ├─TS_일,직장.zip | 3 MB | 481147\n",
            "        │  │  │  ├─TS_자연,환경.zip | 2 MB | 481148\n",
            "        │  │  │  ├─TS_주거,생활.zip | 2 MB | 481149\n",
            "        │  │  │  └─TS_학교,학업.zip | 2 MB | 481150\n",
            "        │  │  └─02.라벨링데이터\n",
            "        │  │      ├─TL_가족.zip | 3 MB | 481151\n",
            "        │  │      ├─TL_건강,의학.zip | 3 MB | 481152\n",
            "        │  │      ├─TL_경제,금융,산업.zip | 2 MB | 481153\n",
            "        │  │      ├─TL_과학,기술,IT.zip | 2 MB | 481154\n",
            "        │  │      ├─TL_미디어,콘텐츠.zip | 2 MB | 481155\n",
            "        │  │      ├─TL_미용,외모.zip | 3 MB | 481156\n",
            "        │  │      ├─TL_반려동물.zip | 2 MB | 481157\n",
            "        │  │      ├─TL_쇼핑,상품.zip | 3 MB | 481158\n",
            "        │  │      ├─TL_스포츠.zip | 3 MB | 481159\n",
            "        │  │      ├─TL_시사,사회,인문.zip | 2 MB | 481160\n",
            "        │  │      ├─TL_식음료.zip | 3 MB | 481161\n",
            "        │  │      ├─TL_아티스트,공연.zip | 2 MB | 481162\n",
            "        │  │      ├─TL_여가,오락.zip | 4 MB | 481163\n",
            "        │  │      ├─TL_여행,레저.zip | 3 MB | 481164\n",
            "        │  │      ├─TL_연애,결혼.zip | 4 MB | 481165\n",
            "        │  │      ├─TL_예술,문학.zip | 2 MB | 481166\n",
            "        │  │      ├─TL_일,직장.zip | 4 MB | 481167\n",
            "        │  │      ├─TL_자연,환경.zip | 2 MB | 481168\n",
            "        │  │      ├─TL_주거,생활.zip | 3 MB | 481169\n",
            "        │  │      └─TL_학교,학업.zip | 3 MB | 481170\n",
            "        │  └─Validation\n",
            "        │      ├─01.원천데이터\n",
            "        │      │  ├─VS_가족.zip | 310 KB | 481171\n",
            "        │      │  ├─VS_건강,의학.zip | 293 KB | 481172\n",
            "        │      │  ├─VS_경제,금융,산업.zip | 213 KB | 481173\n",
            "        │      │  ├─VS_과학,기술,IT.zip | 178 KB | 481174\n",
            "        │      │  ├─VS_미디어,콘텐츠.zip | 211 KB | 481175\n",
            "        │      │  ├─VS_미용,외모.zip | 223 KB | 481176\n",
            "        │      │  ├─VS_반려동물.zip | 223 KB | 481177\n",
            "        │      │  ├─VS_쇼핑,상품.zip | 233 KB | 481178\n",
            "        │      │  ├─VS_스포츠.zip | 235 KB | 481179\n",
            "        │      │  ├─VS_시사,사회,인문.zip | 217 KB | 481180\n",
            "        │      │  ├─VS_식음료.zip | 299 KB | 481181\n",
            "        │      │  ├─VS_아티스트,공연.zip | 185 KB | 481182\n",
            "        │      │  ├─VS_여가,오락.zip | 380 KB | 481183\n",
            "        │      │  ├─VS_여행,레저.zip | 259 KB | 481184\n",
            "        │      │  ├─VS_연애,결혼.zip | 405 KB | 481185\n",
            "        │      │  ├─VS_예술,문학.zip | 188 KB | 481186\n",
            "        │      │  ├─VS_일,직장.zip | 378 KB | 481187\n",
            "        │      │  ├─VS_자연,환경.zip | 193 KB | 481188\n",
            "        │      │  ├─VS_주거,생활.zip | 305 KB | 481189\n",
            "        │      │  └─VS_학교,학업.zip | 240 KB | 481190\n",
            "        │      └─02.라벨링데이터\n",
            "        │          ├─VL_가족.zip | 426 KB | 481191\n",
            "        │          ├─VL_건강,의학.zip | 404 KB | 481192\n",
            "        │          ├─VL_경제,금융,산업.zip | 297 KB | 481193\n",
            "        │          ├─VL_과학,기술,IT.zip | 249 KB | 481194\n",
            "        │          ├─VL_미디어,콘텐츠.zip | 292 KB | 481195\n",
            "        │          ├─VL_미용,외모.zip | 313 KB | 481196\n",
            "        │          ├─VL_반려동물.zip | 308 KB | 481197\n",
            "        │          ├─VL_쇼핑,상품.zip | 346 KB | 481198\n",
            "        │          ├─VL_스포츠.zip | 328 KB | 481199\n",
            "        │          ├─VL_시사,사회,인문.zip | 294 KB | 481200\n",
            "        │          ├─VL_식음료.zip | 414 KB | 481201\n",
            "        │          ├─VL_아티스트,공연.zip | 255 KB | 481202\n",
            "        │          ├─VL_여가,오락.zip | 530 KB | 481203\n",
            "        │          ├─VL_여행,레저.zip | 361 KB | 481204\n",
            "        │          ├─VL_연애,결혼.zip | 558 KB | 481205\n",
            "        │          ├─VL_예술,문학.zip | 259 KB | 481206\n",
            "        │          ├─VL_일,직장.zip | 522 KB | 481207\n",
            "        │          ├─VL_자연,환경.zip | 269 KB | 481208\n",
            "        │          ├─VL_주거,생활.zip | 421 KB | 481209\n",
            "        │          └─VL_학교,학업.zip | 331 KB | 481210\n",
            "        └─08.최종산출물\n",
            "            └─02. 최종 문서\n",
            "                ├─06.저작도구_Viewer\n",
            "                │  └─1-014-044_저작도구 소스코드(페르소나대화).zip | 15 MB | 507484\n",
            "                └─05.저작도구(Viewer)사용설명서\n",
            "                    └─1-014-044_워크벤치설명서(페르소나).hwp | 549 KB | 507485\n"
          ]
        }
      ],
      "source": [
        "!./aihubshell -mode l -datasetkey 71302"
      ]
    },
    {
      "cell_type": "code",
      "execution_count": 8,
      "metadata": {
        "colab": {
          "base_uri": "https://localhost:8080/"
        },
        "id": "pnQdBeaCG69u",
        "outputId": "a44bc793-d765-436c-c137-81ca9c1d4134"
      },
      "outputs": [
        {
          "name": "stdout",
          "output_type": "stream",
          "text": [
            "==========================================\n",
            "aihubshell version 24.01.29 v0.3\n",
            "==========================================\n",
            "Authentication successful.\n",
            "  % Total    % Received % Xferd  Average Speed   Time    Time     Time  Current\n",
            "                                 Dload  Upload   Total   Spent    Left  Speed\n",
            "  0     0    0     0    0     0      0      0 --:--:-- --:--:-- --:--:--     0\n",
            "100  110M    0  110M    0     0  9977k      0 --:--:--  0:00:11 --:--:-- 12.4M\n",
            "Request successful with HTTP status 200.\n",
            "Download successful.\n",
            "044.페르소나_대화/01-1.정식개방데이터/Validation/02.라벨링데이터/VL_학교,학업.zip.part0\n",
            "044.페르소나_대화/01-1.정식개방데이터/Validation/02.라벨링데이터/VL_주거,생활.zip.part0\n",
            "044.페르소나_대화/01-1.정식개방데이터/Validation/02.라벨링데이터/VL_자연,환경.zip.part0\n",
            "044.페르소나_대화/01-1.정식개방데이터/Validation/02.라벨링데이터/VL_일,직장.zip.part0\n",
            "044.페르소나_대화/01-1.정식개방데이터/Validation/02.라벨링데이터/VL_예술,문학.zip.part0\n",
            "044.페르소나_대화/01-1.정식개방데이터/Validation/02.라벨링데이터/VL_연애,결혼.zip.part0\n",
            "044.페르소나_대화/01-1.정식개방데이터/Validation/02.라벨링데이터/VL_여행,레저.zip.part0\n",
            "044.페르소나_대화/01-1.정식개방데이터/Validation/02.라벨링데이터/VL_여가,오락.zip.part0\n",
            "044.페르소나_대화/01-1.정식개방데이터/Validation/02.라벨링데이터/VL_아티스트,공연.zip.part0\n",
            "044.페르소나_대화/01-1.정식개방데이터/Validation/02.라벨링데이터/VL_식음료.zip.part0\n",
            "044.페르소나_대화/01-1.정식개방데이터/Validation/02.라벨링데이터/VL_시사,사회,인문.zip.part0\n",
            "044.페르소나_대화/01-1.정식개방데이터/Validation/02.라벨링데이터/VL_스포츠.zip.part0\n",
            "044.페르소나_대화/01-1.정식개방데이터/Validation/02.라벨링데이터/VL_쇼핑,상품.zip.part0\n",
            "044.페르소나_대화/01-1.정식개방데이터/Validation/02.라벨링데이터/VL_반려동물.zip.part0\n",
            "044.페르소나_대화/01-1.정식개방데이터/Validation/02.라벨링데이터/VL_미용,외모.zip.part0\n",
            "044.페르소나_대화/01-1.정식개방데이터/Validation/02.라벨링데이터/VL_미디어,콘텐츠.zip.part0\n",
            "044.페르소나_대화/01-1.정식개방데이터/Validation/02.라벨링데이터/VL_과학,기술,IT.zip.part0\n",
            "044.페르소나_대화/01-1.정식개방데이터/Validation/02.라벨링데이터/VL_경제,금융,산업.zip.part0\n",
            "044.페르소나_대화/01-1.정식개방데이터/Validation/02.라벨링데이터/VL_건강,의학.zip.part0\n",
            "044.페르소나_대화/01-1.정식개방데이터/Validation/02.라벨링데이터/VL_가족.zip.part0\n",
            "044.페르소나_대화/01-1.정식개방데이터/Validation/01.원천데이터/VS_학교,학업.zip.part0\n",
            "044.페르소나_대화/01-1.정식개방데이터/Validation/01.원천데이터/VS_주거,생활.zip.part0\n",
            "044.페르소나_대화/01-1.정식개방데이터/Validation/01.원천데이터/VS_자연,환경.zip.part0\n",
            "044.페르소나_대화/01-1.정식개방데이터/Validation/01.원천데이터/VS_일,직장.zip.part0\n",
            "044.페르소나_대화/01-1.정식개방데이터/Validation/01.원천데이터/VS_예술,문학.zip.part0\n",
            "044.페르소나_대화/01-1.정식개방데이터/Validation/01.원천데이터/VS_연애,결혼.zip.part0\n",
            "044.페르소나_대화/01-1.정식개방데이터/Validation/01.원천데이터/VS_여행,레저.zip.part0\n",
            "044.페르소나_대화/01-1.정식개방데이터/Validation/01.원천데이터/VS_여가,오락.zip.part0\n",
            "044.페르소나_대화/01-1.정식개방데이터/Validation/01.원천데이터/VS_아티스트,공연.zip.part0\n",
            "044.페르소나_대화/01-1.정식개방데이터/Validation/01.원천데이터/VS_식음료.zip.part0\n",
            "044.페르소나_대화/01-1.정식개방데이터/Validation/01.원천데이터/VS_시사,사회,인문.zip.part0\n",
            "044.페르소나_대화/01-1.정식개방데이터/Validation/01.원천데이터/VS_스포츠.zip.part0\n",
            "044.페르소나_대화/01-1.정식개방데이터/Validation/01.원천데이터/VS_쇼핑,상품.zip.part0\n",
            "044.페르소나_대화/01-1.정식개방데이터/Validation/01.원천데이터/VS_반려동물.zip.part0\n",
            "044.페르소나_대화/01-1.정식개방데이터/Validation/01.원천데이터/VS_미용,외모.zip.part0\n",
            "044.페르소나_대화/01-1.정식개방데이터/Validation/01.원천데이터/VS_미디어,콘텐츠.zip.part0\n",
            "044.페르소나_대화/01-1.정식개방데이터/Validation/01.원천데이터/VS_과학,기술,IT.zip.part0\n",
            "044.페르소나_대화/01-1.정식개방데이터/Validation/01.원천데이터/VS_경제,금융,산업.zip.part0\n",
            "044.페르소나_대화/01-1.정식개방데이터/Validation/01.원천데이터/VS_건강,의학.zip.part0\n",
            "044.페르소나_대화/01-1.정식개방데이터/Validation/01.원천데이터/VS_가족.zip.part0\n",
            "044.페르소나_대화/01-1.정식개방데이터/Training/02.라벨링데이터/TL_학교,학업.zip.part0\n",
            "044.페르소나_대화/01-1.정식개방데이터/Training/02.라벨링데이터/TL_주거,생활.zip.part0\n",
            "044.페르소나_대화/01-1.정식개방데이터/Training/02.라벨링데이터/TL_자연,환경.zip.part0\n",
            "044.페르소나_대화/01-1.정식개방데이터/Training/02.라벨링데이터/TL_일,직장.zip.part0\n",
            "044.페르소나_대화/01-1.정식개방데이터/Training/02.라벨링데이터/TL_예술,문학.zip.part0\n",
            "044.페르소나_대화/01-1.정식개방데이터/Training/02.라벨링데이터/TL_연애,결혼.zip.part0\n",
            "044.페르소나_대화/01-1.정식개방데이터/Training/02.라벨링데이터/TL_여행,레저.zip.part0\n",
            "044.페르소나_대화/01-1.정식개방데이터/Training/02.라벨링데이터/TL_여가,오락.zip.part0\n",
            "044.페르소나_대화/01-1.정식개방데이터/Training/02.라벨링데이터/TL_아티스트,공연.zip.part0\n",
            "044.페르소나_대화/01-1.정식개방데이터/Training/02.라벨링데이터/TL_식음료.zip.part0\n",
            "044.페르소나_대화/01-1.정식개방데이터/Training/02.라벨링데이터/TL_시사,사회,인문.zip.part0\n",
            "044.페르소나_대화/01-1.정식개방데이터/Training/02.라벨링데이터/TL_스포츠.zip.part0\n",
            "044.페르소나_대화/01-1.정식개방데이터/Training/02.라벨링데이터/TL_쇼핑,상품.zip.part0\n",
            "044.페르소나_대화/01-1.정식개방데이터/Training/02.라벨링데이터/TL_반려동물.zip.part0\n",
            "044.페르소나_대화/01-1.정식개방데이터/Training/02.라벨링데이터/TL_미용,외모.zip.part0\n",
            "044.페르소나_대화/01-1.정식개방데이터/Training/02.라벨링데이터/TL_미디어,콘텐츠.zip.part0\n",
            "044.페르소나_대화/01-1.정식개방데이터/Training/02.라벨링데이터/TL_과학,기술,IT.zip.part0\n",
            "044.페르소나_대화/01-1.정식개방데이터/Training/02.라벨링데이터/TL_경제,금융,산업.zip.part0\n",
            "044.페르소나_대화/01-1.정식개방데이터/Training/02.라벨링데이터/TL_건강,의학.zip.part0\n",
            "044.페르소나_대화/01-1.정식개방데이터/Training/02.라벨링데이터/TL_가족.zip.part0\n",
            "044.페르소나_대화/01-1.정식개방데이터/Training/01.원천데이터/TS_학교,학업.zip.part0\n",
            "044.페르소나_대화/01-1.정식개방데이터/Training/01.원천데이터/TS_주거,생활.zip.part0\n",
            "044.페르소나_대화/01-1.정식개방데이터/Training/01.원천데이터/TS_자연,환경.zip.part0\n",
            "044.페르소나_대화/01-1.정식개방데이터/Training/01.원천데이터/TS_일,직장.zip.part0\n",
            "044.페르소나_대화/01-1.정식개방데이터/Training/01.원천데이터/TS_예술,문학.zip.part0\n",
            "044.페르소나_대화/01-1.정식개방데이터/Training/01.원천데이터/TS_연애,결혼.zip.part0\n",
            "044.페르소나_대화/01-1.정식개방데이터/Training/01.원천데이터/TS_여행,레저.zip.part0\n",
            "044.페르소나_대화/01-1.정식개방데이터/Training/01.원천데이터/TS_여가,오락.zip.part0\n",
            "044.페르소나_대화/01-1.정식개방데이터/Training/01.원천데이터/TS_아티스트,공연.zip.part0\n",
            "044.페르소나_대화/01-1.정식개방데이터/Training/01.원천데이터/TS_식음료.zip.part0\n",
            "044.페르소나_대화/01-1.정식개방데이터/Training/01.원천데이터/TS_시사,사회,인문.zip.part0\n",
            "044.페르소나_대화/01-1.정식개방데이터/Training/01.원천데이터/TS_스포츠.zip.part0\n",
            "044.페르소나_대화/01-1.정식개방데이터/Training/01.원천데이터/TS_쇼핑,상품.zip.part0\n",
            "044.페르소나_대화/01-1.정식개방데이터/Training/01.원천데이터/TS_반려동물.zip.part0\n",
            "044.페르소나_대화/01-1.정식개방데이터/Training/01.원천데이터/TS_미용,외모.zip.part0\n",
            "044.페르소나_대화/01-1.정식개방데이터/Training/01.원천데이터/TS_미디어,콘텐츠.zip.part0\n",
            "044.페르소나_대화/01-1.정식개방데이터/Training/01.원천데이터/TS_과학,기술,IT.zip.part0\n",
            "044.페르소나_대화/01-1.정식개방데이터/Training/01.원천데이터/TS_경제,금융,산업.zip.part0\n",
            "044.페르소나_대화/01-1.정식개방데이터/Training/01.원천데이터/TS_건강,의학.zip.part0\n",
            "044.페르소나_대화/01-1.정식개방데이터/Training/01.원천데이터/TS_가족.zip.part0\n",
            "잠시 기다려 주세요 병합중 입니다. \n",
            "Merging TL_과학,기술,IT.zip in ./044.페르소나_대화/01-1.정식개방데이터/Training/02.라벨링데이터\n",
            "Merging TL_아티스트,공연.zip in ./044.페르소나_대화/01-1.정식개방데이터/Training/02.라벨링데이터\n",
            "Merging TL_반려동물.zip in ./044.페르소나_대화/01-1.정식개방데이터/Training/02.라벨링데이터\n",
            "Merging TL_미디어,콘텐츠.zip in ./044.페르소나_대화/01-1.정식개방데이터/Training/02.라벨링데이터\n",
            "Merging TL_스포츠.zip in ./044.페르소나_대화/01-1.정식개방데이터/Training/02.라벨링데이터\n",
            "Merging TL_경제,금융,산업.zip in ./044.페르소나_대화/01-1.정식개방데이터/Training/02.라벨링데이터\n",
            "Merging TL_학교,학업.zip in ./044.페르소나_대화/01-1.정식개방데이터/Training/02.라벨링데이터\n",
            "Merging TL_가족.zip in ./044.페르소나_대화/01-1.정식개방데이터/Training/02.라벨링데이터\n",
            "Merging TL_일,직장.zip in ./044.페르소나_대화/01-1.정식개방데이터/Training/02.라벨링데이터\n",
            "Merging TS_과학,기술,IT.zip in ./044.페르소나_대화/01-1.정식개방데이터/Training/01.원천데이터\n",
            "Merging TS_아티스트,공연.zip in ./044.페르소나_대화/01-1.정식개방데이터/Training/01.원천데이터\n",
            "Merging TS_반려동물.zip in ./044.페르소나_대화/01-1.정식개방데이터/Training/01.원천데이터\n",
            "Merging TS_미디어,콘텐츠.zip in ./044.페르소나_대화/01-1.정식개방데이터/Training/01.원천데이터\n",
            "Merging TS_스포츠.zip in ./044.페르소나_대화/01-1.정식개방데이터/Training/01.원천데이터\n",
            "Merging TS_시사,사회,인문.zip in ./044.페르소나_대화/01-1.정식개방데이터/Training/01.원천데이터\n",
            "Merging TS_미용,외모.zip in ./044.페르소나_대화/01-1.정식개방데이터/Training/01.원천데이터\n",
            "Merging TS_가족.zip in ./044.페르소나_대화/01-1.정식개방데이터/Training/01.원천데이터\n",
            "Merging TS_일,직장.zip in ./044.페르소나_대화/01-1.정식개방데이터/Training/01.원천데이터\n",
            "Merging VL_과학,기술,IT.zip in ./044.페르소나_대화/01-1.정식개방데이터/Validation/02.라벨링데이터\n",
            "Merging VL_아티스트,공연.zip in ./044.페르소나_대화/01-1.정식개방데이터/Validation/02.라벨링데이터\n",
            "Merging VL_반려동물.zip in ./044.페르소나_대화/01-1.정식개방데이터/Validation/02.라벨링데이터\n",
            "Merging VL_미디어,콘텐츠.zip in ./044.페르소나_대화/01-1.정식개방데이터/Validation/02.라벨링데이터\n",
            "Merging VL_식음료.zip in ./044.페르소나_대화/01-1.정식개방데이터/Validation/02.라벨링데이터\n",
            "Merging VL_경제,금융,산업.zip in ./044.페르소나_대화/01-1.정식개방데이터/Validation/02.라벨링데이터\n",
            "Merging VL_학교,학업.zip in ./044.페르소나_대화/01-1.정식개방데이터/Validation/02.라벨링데이터\n",
            "Merging VL_가족.zip in ./044.페르소나_대화/01-1.정식개방데이터/Validation/02.라벨링데이터\n",
            "Merging VL_일,직장.zip in ./044.페르소나_대화/01-1.정식개방데이터/Validation/02.라벨링데이터\n",
            "Merging VS_과학,기술,IT.zip in ./044.페르소나_대화/01-1.정식개방데이터/Validation/01.원천데이터\n",
            "Merging VS_아티스트,공연.zip in ./044.페르소나_대화/01-1.정식개방데이터/Validation/01.원천데이터\n",
            "Merging VS_반려동물.zip in ./044.페르소나_대화/01-1.정식개방데이터/Validation/01.원천데이터\n",
            "Merging VS_미디어,콘텐츠.zip in ./044.페르소나_대화/01-1.정식개방데이터/Validation/01.원천데이터\n",
            "Merging VS_스포츠.zip in ./044.페르소나_대화/01-1.정식개방데이터/Validation/01.원천데이터\n",
            "Merging VS_경제,금융,산업.zip in ./044.페르소나_대화/01-1.정식개방데이터/Validation/01.원천데이터\n",
            "Merging VS_예술,문학.zip in ./044.페르소나_대화/01-1.정식개방데이터/Validation/01.원천데이터\n",
            "Merging VS_가족.zip in ./044.페르소나_대화/01-1.정식개방데이터/Validation/01.원천데이터\n",
            "Merging VS_일,직장.zip in ./044.페르소나_대화/01-1.정식개방데이터/Validation/01.원천데이터\n",
            "병합이 완료 되었습니다. \n"
          ]
        }
      ],
      "source": [
        "!./aihubshell -mode d -datasetkey 71302 -aihubpw {AIHUB_PW} -aihubid {AIHUB_ID}\n",
        "\n"
      ]
    },
    {
      "cell_type": "code",
      "execution_count": 8,
      "metadata": {
        "id": "VJZnwtlGICv1"
      },
      "outputs": [],
      "source": [
        "!unzip '/content/044.페르소나_대화/01-1.정식개방데이터/Training/02.라벨링데이터'"
      ]
    },
    {
      "cell_type": "code",
      "execution_count": 9,
      "metadata": {
        "id": "jAfU9OPWLTTg"
      },
      "outputs": [],
      "source": [
        "import os\n",
        "import zipfile\n",
        "\n",
        "# 압축 파일이 있는 경로로 이동\n",
        "os.chdir('/content/044.페르소나_대화/01-1.정식개방데이터/Training/02.라벨링데이터')\n",
        "\n",
        "# 현재 디렉토리에서 .zip 파일 찾기\n",
        "zip_files = [f for f in os.listdir() if f.endswith('.zip')]\n",
        "\n",
        "# 각 압축 파일 해제\n",
        "for zip_file in zip_files:\n",
        "    with zipfile.ZipFile(zip_file, 'r') as zip_ref:\n",
        "        zip_ref.extractall()"
      ]
    },
    {
      "cell_type": "code",
      "execution_count": 10,
      "metadata": {
        "id": "g_yAVCBWLUL9"
      },
      "outputs": [],
      "source": [
        "import os\n",
        "import zipfile\n",
        "\n",
        "# 압축 파일이 있는 경로로 이동\n",
        "os.chdir('/content/044.페르소나_대화/01-1.정식개방데이터/Validation/02.라벨링데이터')\n",
        "\n",
        "# 현재 디렉토리에서 .zip 파일 찾기\n",
        "zip_files = [f for f in os.listdir() if f.endswith('.zip')]\n",
        "\n",
        "# 각 압축 파일 해제\n",
        "for zip_file in zip_files:\n",
        "    with zipfile.ZipFile(zip_file, 'r') as zip_ref:\n",
        "        zip_ref.extractall()"
      ]
    },
    {
      "cell_type": "code",
      "execution_count": 11,
      "metadata": {
        "colab": {
          "base_uri": "https://localhost:8080/"
        },
        "id": "kC1FEEYVLiT4",
        "outputId": "c9b14755-6a68-4cec-9b6a-3350c8ed6ea1"
      },
      "outputs": [
        {
          "name": "stdout",
          "output_type": "stream",
          "text": [
            "VL_일,직장.zip\n"
          ]
        }
      ],
      "source": [
        "print(zip_file)"
      ]
    },
    {
      "cell_type": "code",
      "execution_count": 17,
      "metadata": {
        "id": "b_5z4ScGLm9A"
      },
      "outputs": [],
      "source": [
        "import pandas as pd\n",
        "fa = '/content/044.페르소나_대화/01-1.정식개방데이터/Training/02.라벨링데이터/Personas_가족_1.json'\n",
        "# Pandas를 사용하여 데이터 불러오기\n",
        "# p = pd.read_json('fa')\n"
      ]
    },
    {
      "cell_type": "markdown",
      "metadata": {
        "id": "tpsi-qXcXYV7"
      },
      "source": [
        "### 오류\n",
        "**Mixing dicts with non-Series may lead to ambiguous ordering.**\n",
        "\n",
        "딕셔너리와 시리즈가 결합되었다는 오류"
      ]
    },
    {
      "cell_type": "code",
      "execution_count": 26,
      "metadata": {
        "colab": {
          "base_uri": "https://localhost:8080/"
        },
        "id": "dSDbgkl2ZIjR",
        "outputId": "57d3da50-0e8f-4989-f9a4-4e728dd64802"
      },
      "outputs": [
        {
          "data": {
            "text/plain": [
              "{'info': {'category': '페르소나 대화',\n",
              "  'evaluation': {'avg_rating': 5.0, 'grade': '우수'},\n",
              "  'id': 'BP22000048',\n",
              "  'name': '2022 한국어 블렌더봇 데이터 BP22000048',\n",
              "  'personas': [{'evaluation': {'avg_rating': 4.4,\n",
              "     'grade': '우수',\n",
              "     'votes': [{'rating': 5.0, 'voter_id': 'e001'},\n",
              "      {'rating': 4.0, 'voter_id': 'e003'},\n",
              "      {'rating': 4.0, 'voter_id': 'e005'},\n",
              "      {'rating': 4.0, 'voter_id': 'e006'},\n",
              "      {'rating': 5.0, 'voter_id': 'e009'}]},\n",
              "    'persona': [{'profile': '나는 남자다.',\n",
              "      'profile_id': 571,\n",
              "      'profile_major': '성별',\n",
              "      'profile_minor': '남'},\n",
              "     {'profile': '나는 20대 중반이다.',\n",
              "      'profile_id': 572,\n",
              "      'profile_major': '연령대',\n",
              "      'profile_minor': '20대'},\n",
              "     {'profile': '나는 왓챠를 즐겨 본다.',\n",
              "      'profile_id': 573,\n",
              "      'profile_major': '취미/관심사',\n",
              "      'profile_minor': None},\n",
              "     {'profile': '나는 친화력이 좋다.',\n",
              "      'profile_id': 574,\n",
              "      'profile_major': '성격/가치관',\n",
              "      'profile_minor': None},\n",
              "     {'profile': '나는 최근에 유기견 센터에 방문했다.',\n",
              "      'profile_id': 575,\n",
              "      'profile_major': '현황',\n",
              "      'profile_minor': None}],\n",
              "    'persona_id': 115},\n",
              "   {'evaluation': {'avg_rating': 4.4,\n",
              "     'grade': '우수',\n",
              "     'votes': [{'rating': 5.0, 'voter_id': 'e002'},\n",
              "      {'rating': 4.0, 'voter_id': 'e003'},\n",
              "      {'rating': 4.0, 'voter_id': 'e005'},\n",
              "      {'rating': 5.0, 'voter_id': 'e008'},\n",
              "      {'rating': 4.0, 'voter_id': 'e011'}]},\n",
              "    'persona': [{'profile': '나는 여자다.',\n",
              "      'profile_id': 721,\n",
              "      'profile_major': '성별',\n",
              "      'profile_minor': '여'},\n",
              "     {'profile': '나는 30대 초반이다.',\n",
              "      'profile_id': 722,\n",
              "      'profile_major': '연령대',\n",
              "      'profile_minor': '30대'},\n",
              "     {'profile': '나는 병원 코디네이터로 일하고 있다.',\n",
              "      'profile_id': 723,\n",
              "      'profile_major': '직업군',\n",
              "      'profile_minor': '사무 종사자'},\n",
              "     {'profile': '나는 다크 초콜릿을 좋아한다.',\n",
              "      'profile_id': 724,\n",
              "      'profile_major': '취향',\n",
              "      'profile_minor': None},\n",
              "     {'profile': '나는 의심이 없다.',\n",
              "      'profile_id': 725,\n",
              "      'profile_major': '성격/가치관',\n",
              "      'profile_minor': None}],\n",
              "    'persona_id': 145}],\n",
              "  'topic': '가족',\n",
              "  'votes': [{'rating': 5.0, 'voter_id': 'bp_voter1'},\n",
              "   {'rating': 5.0, 'voter_id': 'bp_voter2'},\n",
              "   {'rating': 5.0, 'voter_id': 'bp_voter3'},\n",
              "   {'rating': 5.0, 'voter_id': 'bp_voter4'},\n",
              "   {'rating': 5.0, 'voter_id': 'bp_voter5'}]},\n",
              " 'utterances': [{'persona_id': 115,\n",
              "   'terminate': False,\n",
              "   'text': '아내와 함께 데이트를 가려고 하는데 어디로 가야 할지 모르겠어요.',\n",
              "   'utterance_id': 'BP22000048.1'},\n",
              "  {'persona_id': 145,\n",
              "   'terminate': False,\n",
              "   'text': '요즘 영화관 데이트가 인기던데 어떠신가요? 저도 남자친구와 지난주에 다녀왔어요.',\n",
              "   'utterance_id': 'BP22000048.2'},\n",
              "  {'persona_id': 115,\n",
              "   'terminate': False,\n",
              "   'text': '집에서 왓챠를 자주 보는데 그래도 영화관 데이트가 재미있을까요?',\n",
              "   'utterance_id': 'BP22000048.3'},\n",
              "  {'persona_id': 145,\n",
              "   'terminate': False,\n",
              "   'text': '그래도 다르더라고요. 그리고 아내분이시라면 연애하던 시절 생각도 나고 그렇지 않을까요?',\n",
              "   'utterance_id': 'BP22000048.4'},\n",
              "  {'persona_id': 115,\n",
              "   'terminate': False,\n",
              "   'text': '그렇다면 영화관 데이트를 한번 고려해 봐야겠어요.',\n",
              "   'utterance_id': 'BP22000048.5'},\n",
              "  {'persona_id': 145,\n",
              "   'terminate': False,\n",
              "   'text': '아니면 애견카페는 어떤가요? 제가 병원에서 코디네이터로 근무중인데, 입원 환자분이 재미있다며 알려주셨어요.',\n",
              "   'utterance_id': 'BP22000048.6'},\n",
              "  {'persona_id': 115,\n",
              "   'terminate': False,\n",
              "   'text': '엊그제 아내와 유기견 센터에 다녀와서 애견카페는 별로일 거 같아요. 아내가 기운이 없는 거 같아서 깜짝 데이트를 하고 싶은데 너무 어렵네요.',\n",
              "   'utterance_id': 'BP22000048.7'},\n",
              "  {'persona_id': 145,\n",
              "   'terminate': False,\n",
              "   'text': '데이트 말고 근사한 선물은 어떠세요? 좋아하시는 게 따로 있나요?',\n",
              "   'utterance_id': 'BP22000048.8'},\n",
              "  {'persona_id': 115,\n",
              "   'terminate': False,\n",
              "   'text': '좋은 생각인 거 같아요. 제가 스물다섯인데 아내가 5살 연상이에요. 5살 차이가 은근 세대가 갈리던데 선물은 어떤 걸 하는 게 좋을까요?',\n",
              "   'utterance_id': 'BP22000048.9'},\n",
              "  {'persona_id': 145,\n",
              "   'terminate': False,\n",
              "   'text': '제가 32살이니 아내분 또래네요. 가볍게 들 만한 가방은 어떤가요?',\n",
              "   'utterance_id': 'BP22000048.10'},\n",
              "  {'persona_id': 115,\n",
              "   'terminate': False,\n",
              "   'text': '가방은 집에 충분히 많은 거 같아요. 다른 물건은 없을까요?',\n",
              "   'utterance_id': 'BP22000048.11'},\n",
              "  {'persona_id': 145,\n",
              "   'terminate': False,\n",
              "   'text': '혹시 물건을 못 고르시겠다면 편지를 써 보시는 건 어떤가요? 제가 얼마 전에 남자친구한테 좋아하는 다크초콜릿이랑 편지를 받았는데 감동이었어요.',\n",
              "   'utterance_id': 'BP22000048.12'},\n",
              "  {'persona_id': 115,\n",
              "   'terminate': False,\n",
              "   'text': '그러고 보니 요즘 편지를 많이 못 썼어요. 저도 작은 선물 하나에다가 편지를 써 봐야겠어요.',\n",
              "   'utterance_id': 'BP22000048.13'},\n",
              "  {'persona_id': 145,\n",
              "   'terminate': False,\n",
              "   'text': '아내분이 정말로 좋아하셨으면 좋겠어요.',\n",
              "   'utterance_id': 'BP22000048.14'},\n",
              "  {'persona_id': 115,\n",
              "   'terminate': False,\n",
              "   'text': '아내가 요즘 기운이 없으니 저까지 힘드네요. 꼭 힘을 내게 해 주고 싶어요.',\n",
              "   'utterance_id': 'BP22000048.15'},\n",
              "  {'persona_id': 145,\n",
              "   'terminate': True,\n",
              "   'text': '그런 마음이 있으시다면 아내분도 빨리 기운 차리실 거예요. 손편지와 선물 이벤트 응원해요.',\n",
              "   'utterance_id': 'BP22000048.16'}]}"
            ]
          },
          "execution_count": 26,
          "metadata": {},
          "output_type": "execute_result"
        }
      ],
      "source": [
        "import json\n",
        "\n",
        "with open('/content/044.페르소나_대화/01-1.정식개방데이터/Training/02.라벨링데이터/Personas_가족_1.json', 'r') as project_file:\n",
        "    data = json.load(project_file)\n",
        "\n",
        "data\n",
        "# df = pd.json_normalize(data)"
      ]
    },
    {
      "cell_type": "code",
      "execution_count": 27,
      "metadata": {
        "colab": {
          "base_uri": "https://localhost:8080/"
        },
        "id": "XPRBXljTZb5-",
        "outputId": "62a1eb31-b6d1-483c-f64a-c41ae4aaa54c"
      },
      "outputs": [
        {
          "data": {
            "text/plain": [
              "{'info': {'category': '페르소나 대화',\n",
              "  'evaluation': {'avg_rating': 4.8, 'grade': '우수'},\n",
              "  'id': 'BP22024181',\n",
              "  'name': '2022 한국어 블렌더봇 데이터 BP22024181',\n",
              "  'personas': [{'evaluation': {'avg_rating': 4.4,\n",
              "     'grade': '우수',\n",
              "     'votes': [{'rating': 4.0, 'voter_id': 'e004'},\n",
              "      {'rating': 4.0, 'voter_id': 'e006'},\n",
              "      {'rating': 5.0, 'voter_id': 'e009'},\n",
              "      {'rating': 5.0, 'voter_id': 'e010'},\n",
              "      {'rating': 4.0, 'voter_id': 'e012'}]},\n",
              "    'persona': [{'profile': '나는 남자다.',\n",
              "      'profile_id': 2436,\n",
              "      'profile_major': '성별',\n",
              "      'profile_minor': '남'},\n",
              "     {'profile': '내 취미는 라디오 사연 응모하기다.',\n",
              "      'profile_id': 2437,\n",
              "      'profile_major': '취미/관심사',\n",
              "      'profile_minor': None},\n",
              "     {'profile': '나는 빠릿빠릿한 성격이다.',\n",
              "      'profile_id': 2438,\n",
              "      'profile_major': '성격/가치관',\n",
              "      'profile_minor': None},\n",
              "     {'profile': '나는 이번 주에 동창을 만날 예정이다.',\n",
              "      'profile_id': 2439,\n",
              "      'profile_major': '현황',\n",
              "      'profile_minor': None},\n",
              "     {'profile': '나는 강남에 살고 있다.',\n",
              "      'profile_id': 2440,\n",
              "      'profile_major': '환경',\n",
              "      'profile_minor': None}],\n",
              "    'persona_id': 488},\n",
              "   {'evaluation': {'avg_rating': 4.6,\n",
              "     'grade': '우수',\n",
              "     'votes': [{'rating': 5.0, 'voter_id': 'e002'},\n",
              "      {'rating': 4.0, 'voter_id': 'e003'},\n",
              "      {'rating': 4.0, 'voter_id': 'e005'},\n",
              "      {'rating': 5.0, 'voter_id': 'e007'},\n",
              "      {'rating': 5.0, 'voter_id': 'e008'}]},\n",
              "    'persona': [{'profile': '나는 남자다.',\n",
              "      'profile_id': 2546,\n",
              "      'profile_major': '성별',\n",
              "      'profile_minor': '남'},\n",
              "     {'profile': '나는 보험 계리사다.',\n",
              "      'profile_id': 2547,\n",
              "      'profile_major': '직업군',\n",
              "      'profile_minor': '전문가 및 관련 종사자'},\n",
              "     {'profile': '나는 아이스 아메리카노를 좋아한다.',\n",
              "      'profile_id': 2548,\n",
              "      'profile_major': '취향',\n",
              "      'profile_minor': None},\n",
              "     {'profile': '내 취미는 만화를 그리는 것이다.',\n",
              "      'profile_id': 2549,\n",
              "      'profile_major': '취미/관심사',\n",
              "      'profile_minor': None},\n",
              "     {'profile': '나는 최근 부부 싸움을 했다.',\n",
              "      'profile_id': 2550,\n",
              "      'profile_major': '현황',\n",
              "      'profile_minor': None}],\n",
              "    'persona_id': 510}],\n",
              "  'topic': '가족',\n",
              "  'votes': [{'rating': 5.0, 'voter_id': 'bp_voter5'},\n",
              "   {'rating': 5.0, 'voter_id': 'bp_insvoter4'},\n",
              "   {'rating': 4.0, 'voter_id': 'bp_insvoter5'},\n",
              "   {'rating': 5.0, 'voter_id': 'bp_voter4'},\n",
              "   {'rating': 5.0, 'voter_id': 'bp_voter4'}]},\n",
              " 'utterances': [{'persona_id': 488,\n",
              "   'terminate': False,\n",
              "   'text': '혹시 라디오 듣는 거 좋아하세요?',\n",
              "   'utterance_id': 'BP22024181.1'},\n",
              "  {'persona_id': 510,\n",
              "   'terminate': False,\n",
              "   'text': '자동차로 출퇴근하면서 많이 듣는 편이에요. 라디오 좋아하시나봐요.',\n",
              "   'utterance_id': 'BP22024181.2'},\n",
              "  {'persona_id': 488,\n",
              "   'terminate': False,\n",
              "   'text': '제가 라디오에 사연 응모를 자주 하거든요. 그래서 제 사연이 나올까 싶어서 매번 챙겨 들어요.',\n",
              "   'utterance_id': 'BP22024181.3'},\n",
              "  {'persona_id': 510,\n",
              "   'terminate': False,\n",
              "   'text': '사연 듣는 거 재밌죠. 오늘도 출근길에 들었는데, 부부 싸움 관련 사연이 나오더라구요. 저도 엊그제 부부 싸움을 해서 공감이 되었어요.',\n",
              "   'utterance_id': 'BP22024181.4'},\n",
              "  {'persona_id': 488,\n",
              "   'terminate': False,\n",
              "   'text': '무슨 일 때문에 싸우셨는지 물어봐도 될까요?',\n",
              "   'utterance_id': 'BP22024181.5'},\n",
              "  {'persona_id': 510,\n",
              "   'terminate': False,\n",
              "   'text': '제가 웹툰을 좋아해요. 그 영향을 받아서 요즘 만화 그리는 것에 푹 빠졌거든요. 그 때문에 가족들에게 소홀해져서 서운해 하더라구요.',\n",
              "   'utterance_id': 'BP22024181.6'},\n",
              "  {'persona_id': 488,\n",
              "   'terminate': False,\n",
              "   'text': '저도 비슷한 이유 때문에 아내와 싸워서 공감이 되네요.',\n",
              "   'utterance_id': 'BP22024181.7'},\n",
              "  {'persona_id': 510,\n",
              "   'terminate': False,\n",
              "   'text': '저처럼 취미 생활 때문에 다투신 건가요?',\n",
              "   'utterance_id': 'BP22024181.8'},\n",
              "  {'persona_id': 488,\n",
              "   'terminate': False,\n",
              "   'text': '취미 때문은 아니고, 이번주 토요일에 동창회에 참석하기로 했거든요. 주말인데 가족들과 시간을 보내지 않는다고 한 소리 들었어요.',\n",
              "   'utterance_id': 'BP22024181.9'},\n",
              "  {'persona_id': 510,\n",
              "   'terminate': False,\n",
              "   'text': '둘 다 가족들에게 소홀하다는 이유로 다툰 게 똑같군요. 저도 가끔은 제 시간이 필요한데, 그걸로 서운해 하니 저도 서운하더라구요.',\n",
              "   'utterance_id': 'BP22024181.10'},\n",
              "  {'persona_id': 488,\n",
              "   'terminate': False,\n",
              "   'text': '공감해요. 가족들이 아쉬워하는 마음도 이해가 되죠. 하지만 저도 이해 받고 싶은 마음 때문에 다투게 된 것 같아요.',\n",
              "   'utterance_id': 'BP22024181.11'},\n",
              "  {'persona_id': 510,\n",
              "   'terminate': False,\n",
              "   'text': '사실 지금도 냉전 상태인데, 아내와 어떻게 화해하면 좋을지 고민이 돼요.',\n",
              "   'utterance_id': 'BP22024181.12'},\n",
              "  {'persona_id': 488,\n",
              "   'terminate': False,\n",
              "   'text': '그래서 저는 가족들에게 오늘 외식하자고 제안해볼 생각이에요. 집이 압구정 쪽이라 맛집이 많거든요.',\n",
              "   'utterance_id': 'BP22024181.13'},\n",
              "  {'persona_id': 510,\n",
              "   'terminate': False,\n",
              "   'text': '그거 괜찮은 방법이네요. 그럼 저는 아내가 커피를 좋아하니까 카페를 같이 가자고 제안해 봐야겠어요.',\n",
              "   'utterance_id': 'BP22024181.14'},\n",
              "  {'persona_id': 488,\n",
              "   'terminate': False,\n",
              "   'text': '카페도 좋죠. 저희 가족은 커피를 별로 안 좋아해서 잘 안 가지만요.',\n",
              "   'utterance_id': 'BP22024181.15'},\n",
              "  {'persona_id': 510,\n",
              "   'terminate': False,\n",
              "   'text': '저랑 아내는 커피, 특히 아이스 아메리카노를 좋아해요. 집에 커피 머신이 있을 정도랍니다. 아이들은 케이크를 좋아하구요.',\n",
              "   'utterance_id': 'BP22024181.16'},\n",
              "  {'persona_id': 488,\n",
              "   'terminate': False,\n",
              "   'text': '그러면 카페가 완벽한 장소네요.',\n",
              "   'utterance_id': 'BP22024181.17'},\n",
              "  {'persona_id': 510,\n",
              "   'terminate': False,\n",
              "   'text': '맞아요. 오늘 대화하면서 덕분에 고민이 해결되었습니다. 감사해요.',\n",
              "   'utterance_id': 'BP22024181.18'},\n",
              "  {'persona_id': 488,\n",
              "   'terminate': True,\n",
              "   'text': '저도 즐거웠습니다. 그러면 가족분들과 즐거운 시간 보내세요.',\n",
              "   'utterance_id': 'BP22024181.19'}]}"
            ]
          },
          "execution_count": 27,
          "metadata": {},
          "output_type": "execute_result"
        }
      ],
      "source": [
        "with open('/content/044.페르소나_대화/01-1.정식개방데이터/Validation/02.라벨링데이터/Personas_가족_104.json', 'r') as project_file:\n",
        "    data = json.load(project_file)\n",
        "\n",
        "data"
      ]
    },
    {
      "cell_type": "code",
      "execution_count": null,
      "metadata": {
        "id": "N8Lfnv982vhM"
      },
      "outputs": [],
      "source": []
    }
  ],
  "metadata": {
    "colab": {
      "authorship_tag": "ABX9TyNhwnHh7lP2Sn0PjvhDDxqP",
      "include_colab_link": true,
      "provenance": []
    },
    "kernelspec": {
      "display_name": "Python 3",
      "name": "python3"
    },
    "language_info": {
      "name": "python"
    }
  },
  "nbformat": 4,
  "nbformat_minor": 0
}
