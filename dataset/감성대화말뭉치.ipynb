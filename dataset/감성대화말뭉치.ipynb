{
  "nbformat": 4,
  "nbformat_minor": 0,
  "metadata": {
    "colab": {
      "provenance": [],
      "mount_file_id": "1yU3bygICjbZpO15ekW_L5haHBmlfMM8d",
      "authorship_tag": "ABX9TyPHb8shDtXh3tD+uu7mL0f3",
      "include_colab_link": true
    },
    "kernelspec": {
      "name": "python3",
      "display_name": "Python 3"
    },
    "language_info": {
      "name": "python"
    }
  },
  "cells": [
    {
      "cell_type": "markdown",
      "metadata": {
        "id": "view-in-github",
        "colab_type": "text"
      },
      "source": [
        "<a href=\"https://colab.research.google.com/github/pal-ette/iNotePal/blob/6-corpus/%EA%B0%90%EC%84%B1%EB%8C%80%ED%99%94%EB%A7%90%EB%AD%89%EC%B9%98.ipynb\" target=\"_parent\"><img src=\"https://colab.research.google.com/assets/colab-badge.svg\" alt=\"Open In Colab\"/></a>"
      ]
    },
    {
      "cell_type": "code",
      "source": [
        "!sudo apt-get install -y fonts-nanum\n",
        "!sudo fc-cache -fv\n",
        "!rm ~/.cache/matplotlib -rf"
      ],
      "metadata": {
        "id": "7jmMCrYBI6Hb"
      },
      "execution_count": null,
      "outputs": []
    },
    {
      "cell_type": "code",
      "execution_count": 93,
      "metadata": {
        "id": "9FkVnzah3Cje"
      },
      "outputs": [],
      "source": [
        "import os\n",
        "import pandas as pd\n",
        "import numpy as np\n",
        "import json\n",
        "import matplotlib.pyplot as plt\n",
        "import seaborn as sns"
      ]
    },
    {
      "cell_type": "markdown",
      "source": [
        "# Load Data"
      ],
      "metadata": {
        "id": "DC0qodn55aKI"
      }
    },
    {
      "cell_type": "code",
      "source": [
        "!curl -o \"aihubshell\" https://api.aihub.or.kr/api/aihubshell.do"
      ],
      "metadata": {
        "colab": {
          "base_uri": "https://localhost:8080/"
        },
        "id": "UsrpopVX3ch-",
        "outputId": "88a1e14d-d833-4467-cf32-f4796f715742"
      },
      "execution_count": 94,
      "outputs": [
        {
          "output_type": "stream",
          "name": "stdout",
          "text": [
            "  % Total    % Received % Xferd  Average Speed   Time    Time     Time  Current\n",
            "                                 Dload  Upload   Total   Spent    Left  Speed\n",
            "100  6634  100  6634    0     0   6464      0  0:00:01  0:00:01 --:--:--  6465\n"
          ]
        }
      ]
    },
    {
      "cell_type": "code",
      "source": [
        "!chmod +x aihubshell\n",
        "!sudo cp aihubshell /usr/bin/\n",
        "!cd /usr/bin/"
      ],
      "metadata": {
        "id": "7_7evscr33SU"
      },
      "execution_count": 96,
      "outputs": []
    },
    {
      "cell_type": "code",
      "source": [
        "!ls -al | grep aihubshell"
      ],
      "metadata": {
        "colab": {
          "base_uri": "https://localhost:8080/"
        },
        "id": "ARefI8TI34nb",
        "outputId": "111457ff-20de-4ddb-f5b9-28e2c7e5e77d"
      },
      "execution_count": 102,
      "outputs": [
        {
          "output_type": "stream",
          "name": "stdout",
          "text": [
            "-rwxr-xr-x 1 root root 6634 Apr 12 05:54 aihubshell\n"
          ]
        }
      ]
    },
    {
      "cell_type": "code",
      "source": [
        "!aihubshell -mode l | grep 감성"
      ],
      "metadata": {
        "colab": {
          "base_uri": "https://localhost:8080/"
        },
        "id": "gva-Us3Z3hXG",
        "outputId": "b10ced70-3aeb-4995-f9ea-578028b4b327"
      },
      "execution_count": 103,
      "outputs": [
        {
          "output_type": "stream",
          "name": "stdout",
          "text": [
            "86, 감성 대화 말뭉치\n",
            "466, 감성 및 발화 스타일별 음성합성 데이터\n",
            "71349, 감성 및 발화스타일 동시 고려 음성합성 데이터\n",
            "71518, 서울 지역 중학생들의 국어, 수학 교과용 감성 AI 튜터 데이터\n"
          ]
        }
      ]
    },
    {
      "cell_type": "code",
      "source": [
        "os.makedirs('sentiment_corpus')\n",
        "os.chdir('sentiment_corpus')\n",
        "print(os.getcwd())"
      ],
      "metadata": {
        "colab": {
          "base_uri": "https://localhost:8080/"
        },
        "id": "aYcN_kyX3jqk",
        "outputId": "399b25cd-5b95-498d-b4db-cf7009795118"
      },
      "execution_count": 104,
      "outputs": [
        {
          "output_type": "stream",
          "name": "stdout",
          "text": [
            "/content/sentiment_corpus\n"
          ]
        }
      ]
    },
    {
      "cell_type": "code",
      "source": [
        "os.environ['AIHUB_ID'] = 'miniejung@naver.com'\n",
        "os.environ['AIHUB_PW'] = ''"
      ],
      "metadata": {
        "id": "ZjWdDaEv3sgc"
      },
      "execution_count": 105,
      "outputs": []
    },
    {
      "cell_type": "code",
      "source": [
        "!aihubshell -mode d -datasetkey 86"
      ],
      "metadata": {
        "colab": {
          "base_uri": "https://localhost:8080/"
        },
        "id": "WSOHXnn83uMM",
        "outputId": "f963c9e3-0c98-4cec-c3b8-efa4fac34277"
      },
      "execution_count": 106,
      "outputs": [
        {
          "output_type": "stream",
          "name": "stdout",
          "text": [
            "==========================================\n",
            "aihubshell version 24.01.29 v0.3\n",
            "==========================================\n",
            "Authentication successful.\n",
            "  % Total    % Received % Xferd  Average Speed   Time    Time     Time  Current\n",
            "                                 Dload  Upload   Total   Spent    Left  Speed\n",
            "  0     0    0     0    0     0      0      0 --:--:-- --:--:-- --:--:--     0\n",
            "100 20.3M    0 20.3M    0     0  6458k      0 --:--:--  0:00:03 --:--:-- 9667k\n",
            "Request successful with HTTP status 200.\n",
            "Download successful.\n",
            "018.감성대화/Validation_221115_add/원천데이터/감성대화말뭉치(최종데이터)_Validation.zip.part0\n",
            "018.감성대화/Validation_221115_add/라벨링데이터/감성대화말뭉치(최종데이터)_Validation.zip.part0\n",
            "018.감성대화/Training_221115_add/라벨링데이터/감성대화말뭉치(최종데이터)_Training.zip.part0\n",
            "018.감성대화/Training_221115_add/원천데이터/감성대화말뭉치(최종데이터)_Training.zip.part0\n",
            "잠시 기다려 주세요 병합중 입니다. \n",
            "Merging 감성대화말뭉치(최종데이터)_Validation.zip in ./018.감성대화/Validation_221115_add/원천데이터\n",
            "Merging 감성대화말뭉치(최종데이터)_Validation.zip in ./018.감성대화/Validation_221115_add/라벨링데이터\n",
            "Merging 감성대화말뭉치(최종데이터)_Training.zip in ./018.감성대화/Training_221115_add/원천데이터\n",
            "Merging 감성대화말뭉치(최종데이터)_Training.zip in ./018.감성대화/Training_221115_add/라벨링데이터\n",
            "병합이 완료 되었습니다. \n"
          ]
        }
      ]
    },
    {
      "cell_type": "code",
      "source": [
        "os.chdir('..')\n",
        "os.makedirs('data6')\n",
        "os.chdir('data6')\n",
        "print(os.getcwd())"
      ],
      "metadata": {
        "colab": {
          "base_uri": "https://localhost:8080/"
        },
        "id": "6WJilkFM4b5G",
        "outputId": "30bf9683-10b2-4c82-906f-d5ddae3f8b57"
      },
      "execution_count": 112,
      "outputs": [
        {
          "output_type": "stream",
          "name": "stdout",
          "text": [
            "/content/data6\n"
          ]
        }
      ]
    },
    {
      "cell_type": "code",
      "source": [
        "!unzip -qq \"/content/sentiment_corpus/018.감성대화/Training_221115_add/원천데이터/감성대화말뭉치(최종데이터)_Training.zip\"\n",
        "!unzip -qq \"/content/sentiment_corpus/018.감성대화/Validation_221115_add/원천데이터/감성대화말뭉치(최종데이터)_Validation.zip\""
      ],
      "metadata": {
        "id": "2ARcQgvG3wyb"
      },
      "execution_count": 113,
      "outputs": []
    },
    {
      "cell_type": "code",
      "source": [
        "df_train = pd.read_excel('/content/data6/감성대화말뭉치(최종데이터)_Training.xlsx', index_col=0)\n",
        "df_valid = pd.read_excel('/content/data6/감성대화말뭉치(최종데이터)_Validation.xlsx', index_col=0)\n",
        "print(\"TRAIN\", len(df_train), \", VALID\", len(df_valid))"
      ],
      "metadata": {
        "colab": {
          "base_uri": "https://localhost:8080/"
        },
        "id": "l-kovic75FOp",
        "outputId": "36f3e931-bb83-4f3e-8dc8-6018e064ee1a"
      },
      "execution_count": 116,
      "outputs": [
        {
          "output_type": "stream",
          "name": "stdout",
          "text": [
            "TRAIN 51630 , VALID 6641\n"
          ]
        }
      ]
    },
    {
      "cell_type": "code",
      "source": [
        "df = pd.concat([df_train, df_valid], ignore_index=True)\n",
        "df.head()"
      ],
      "metadata": {
        "colab": {
          "base_uri": "https://localhost:8080/",
          "height": 623
        },
        "id": "3aqtmD2wTCk4",
        "outputId": "8c8256dd-e369-4d6f-8cca-1cd87da0aa81"
      },
      "execution_count": 117,
      "outputs": [
        {
          "output_type": "execute_result",
          "data": {
            "text/plain": [
              "   연령  성별     상황키워드  신체질환 감정_대분류 감정_소분류  \\\n",
              "0  청년  여성  진로,취업,직장  해당없음     분노  노여워하는   \n",
              "1  청년  여성  진로,취업,직장  해당없음     분노  노여워하는   \n",
              "2  청년  여성  진로,취업,직장  해당없음     분노  노여워하는   \n",
              "3  청년  여성  진로,취업,직장  해당없음     분노  노여워하는   \n",
              "4  청년  여성  진로,취업,직장  해당없음     분노  노여워하는   \n",
              "\n",
              "                                               사람문장1  \\\n",
              "0                          일은 왜 해도 해도 끝이 없을까? 화가 난다.   \n",
              "1     이번 달에 또 급여가 깎였어! 물가는 오르는데 월급만 자꾸 깎이니까 너무 화가 나.   \n",
              "2  회사에 신입이 들어왔는데 말투가 거슬려. 그런 애를 매일 봐야 한다고 생각하니까 스...   \n",
              "3  직장에서 막내라는 이유로 나에게만 온갖 심부름을 시켜. 일도 많은 데 정말 분하고 ...   \n",
              "4              얼마 전 입사한 신입사원이 나를 무시하는 것 같아서 너무 화가 나.   \n",
              "\n",
              "                                              시스템문장1  \\\n",
              "0                        많이 힘드시겠어요. 주위에 의논할 상대가 있나요?   \n",
              "1           급여가 줄어 속상하시겠어요. 월급이 줄어든 것을 어떻게 보완하실 건가요?   \n",
              "2  회사 동료 때문에 스트레스를 많이 받는 것 같아요. 문제 해결을 위해 어떤 노력을 ...   \n",
              "3  관련 없는 심부름을 모두 하게 되어서 노여우시군요. 어떤 것이 상황을 나아질 수 있...   \n",
              "4  무시하는 것 같은 태도에 화가 나셨군요. 상대방의 어떤 행동이 그런 감정을 유발하는...   \n",
              "\n",
              "                                               사람문장2  \\\n",
              "0                그냥 내가 해결하는 게 나아. 남들한테 부담 주고 싶지도 않고.   \n",
              "1   최대한 지출을 억제해야겠어. 월급이 줄어들었으니 고정지출을 줄일 수밖에 없을 것 같아.   \n",
              "2  잘 안 맞는 사람이랑 억지로 잘 지내는 것보단 조금은 거리를 두고 예의를 갖춰서 대...   \n",
              "3              직장 사람들과 솔직하게 이야기해보고 싶어. 일하는 데에 방해된다고.   \n",
              "4                상사인 나에게 먼저 인사하지 않아서 매일 내가 먼저 인사한다고!   \n",
              "\n",
              "                                              시스템문장2 사람문장3 시스템문장3  \n",
              "0     혼자 해결하기로 했군요. 혼자서 해결하기 힘들면 주위에 의논할 사람을 찾아보세요.    NaN    NaN  \n",
              "1                           월급이 줄어든 만큼 소비를 줄일 계획이군요.   NaN    NaN  \n",
              "2          스트레스받지 않기 위해선 인간관계에 있어 약간의 거리를 두는 게 좋겠군요.   NaN    NaN  \n",
              "3                        직장 사람들과 이야기를 해 보겠다고 결심하셨군요.   NaN    NaN  \n",
              "4  항상 먼저 인사하게 되어 화가 나셨군요. 어떻게 하면 신입사원에게 화났음을 표현할 ...   NaN    NaN  "
            ],
            "text/html": [
              "\n",
              "  <div id=\"df-ea82d52a-e2ce-4fdb-ae13-25a83729d889\" class=\"colab-df-container\">\n",
              "    <div>\n",
              "<style scoped>\n",
              "    .dataframe tbody tr th:only-of-type {\n",
              "        vertical-align: middle;\n",
              "    }\n",
              "\n",
              "    .dataframe tbody tr th {\n",
              "        vertical-align: top;\n",
              "    }\n",
              "\n",
              "    .dataframe thead th {\n",
              "        text-align: right;\n",
              "    }\n",
              "</style>\n",
              "<table border=\"1\" class=\"dataframe\">\n",
              "  <thead>\n",
              "    <tr style=\"text-align: right;\">\n",
              "      <th></th>\n",
              "      <th>연령</th>\n",
              "      <th>성별</th>\n",
              "      <th>상황키워드</th>\n",
              "      <th>신체질환</th>\n",
              "      <th>감정_대분류</th>\n",
              "      <th>감정_소분류</th>\n",
              "      <th>사람문장1</th>\n",
              "      <th>시스템문장1</th>\n",
              "      <th>사람문장2</th>\n",
              "      <th>시스템문장2</th>\n",
              "      <th>사람문장3</th>\n",
              "      <th>시스템문장3</th>\n",
              "    </tr>\n",
              "  </thead>\n",
              "  <tbody>\n",
              "    <tr>\n",
              "      <th>0</th>\n",
              "      <td>청년</td>\n",
              "      <td>여성</td>\n",
              "      <td>진로,취업,직장</td>\n",
              "      <td>해당없음</td>\n",
              "      <td>분노</td>\n",
              "      <td>노여워하는</td>\n",
              "      <td>일은 왜 해도 해도 끝이 없을까? 화가 난다.</td>\n",
              "      <td>많이 힘드시겠어요. 주위에 의논할 상대가 있나요?</td>\n",
              "      <td>그냥 내가 해결하는 게 나아. 남들한테 부담 주고 싶지도 않고.</td>\n",
              "      <td>혼자 해결하기로 했군요. 혼자서 해결하기 힘들면 주위에 의논할 사람을 찾아보세요.</td>\n",
              "      <td>NaN</td>\n",
              "      <td>NaN</td>\n",
              "    </tr>\n",
              "    <tr>\n",
              "      <th>1</th>\n",
              "      <td>청년</td>\n",
              "      <td>여성</td>\n",
              "      <td>진로,취업,직장</td>\n",
              "      <td>해당없음</td>\n",
              "      <td>분노</td>\n",
              "      <td>노여워하는</td>\n",
              "      <td>이번 달에 또 급여가 깎였어! 물가는 오르는데 월급만 자꾸 깎이니까 너무 화가 나.</td>\n",
              "      <td>급여가 줄어 속상하시겠어요. 월급이 줄어든 것을 어떻게 보완하실 건가요?</td>\n",
              "      <td>최대한 지출을 억제해야겠어. 월급이 줄어들었으니 고정지출을 줄일 수밖에 없을 것 같아.</td>\n",
              "      <td>월급이 줄어든 만큼 소비를 줄일 계획이군요.</td>\n",
              "      <td>NaN</td>\n",
              "      <td>NaN</td>\n",
              "    </tr>\n",
              "    <tr>\n",
              "      <th>2</th>\n",
              "      <td>청년</td>\n",
              "      <td>여성</td>\n",
              "      <td>진로,취업,직장</td>\n",
              "      <td>해당없음</td>\n",
              "      <td>분노</td>\n",
              "      <td>노여워하는</td>\n",
              "      <td>회사에 신입이 들어왔는데 말투가 거슬려. 그런 애를 매일 봐야 한다고 생각하니까 스...</td>\n",
              "      <td>회사 동료 때문에 스트레스를 많이 받는 것 같아요. 문제 해결을 위해 어떤 노력을 ...</td>\n",
              "      <td>잘 안 맞는 사람이랑 억지로 잘 지내는 것보단 조금은 거리를 두고 예의를 갖춰서 대...</td>\n",
              "      <td>스트레스받지 않기 위해선 인간관계에 있어 약간의 거리를 두는 게 좋겠군요.</td>\n",
              "      <td>NaN</td>\n",
              "      <td>NaN</td>\n",
              "    </tr>\n",
              "    <tr>\n",
              "      <th>3</th>\n",
              "      <td>청년</td>\n",
              "      <td>여성</td>\n",
              "      <td>진로,취업,직장</td>\n",
              "      <td>해당없음</td>\n",
              "      <td>분노</td>\n",
              "      <td>노여워하는</td>\n",
              "      <td>직장에서 막내라는 이유로 나에게만 온갖 심부름을 시켜. 일도 많은 데 정말 분하고 ...</td>\n",
              "      <td>관련 없는 심부름을 모두 하게 되어서 노여우시군요. 어떤 것이 상황을 나아질 수 있...</td>\n",
              "      <td>직장 사람들과 솔직하게 이야기해보고 싶어. 일하는 데에 방해된다고.</td>\n",
              "      <td>직장 사람들과 이야기를 해 보겠다고 결심하셨군요.</td>\n",
              "      <td>NaN</td>\n",
              "      <td>NaN</td>\n",
              "    </tr>\n",
              "    <tr>\n",
              "      <th>4</th>\n",
              "      <td>청년</td>\n",
              "      <td>여성</td>\n",
              "      <td>진로,취업,직장</td>\n",
              "      <td>해당없음</td>\n",
              "      <td>분노</td>\n",
              "      <td>노여워하는</td>\n",
              "      <td>얼마 전 입사한 신입사원이 나를 무시하는 것 같아서 너무 화가 나.</td>\n",
              "      <td>무시하는 것 같은 태도에 화가 나셨군요. 상대방의 어떤 행동이 그런 감정을 유발하는...</td>\n",
              "      <td>상사인 나에게 먼저 인사하지 않아서 매일 내가 먼저 인사한다고!</td>\n",
              "      <td>항상 먼저 인사하게 되어 화가 나셨군요. 어떻게 하면 신입사원에게 화났음을 표현할 ...</td>\n",
              "      <td>NaN</td>\n",
              "      <td>NaN</td>\n",
              "    </tr>\n",
              "  </tbody>\n",
              "</table>\n",
              "</div>\n",
              "    <div class=\"colab-df-buttons\">\n",
              "\n",
              "  <div class=\"colab-df-container\">\n",
              "    <button class=\"colab-df-convert\" onclick=\"convertToInteractive('df-ea82d52a-e2ce-4fdb-ae13-25a83729d889')\"\n",
              "            title=\"Convert this dataframe to an interactive table.\"\n",
              "            style=\"display:none;\">\n",
              "\n",
              "  <svg xmlns=\"http://www.w3.org/2000/svg\" height=\"24px\" viewBox=\"0 -960 960 960\">\n",
              "    <path d=\"M120-120v-720h720v720H120Zm60-500h600v-160H180v160Zm220 220h160v-160H400v160Zm0 220h160v-160H400v160ZM180-400h160v-160H180v160Zm440 0h160v-160H620v160ZM180-180h160v-160H180v160Zm440 0h160v-160H620v160Z\"/>\n",
              "  </svg>\n",
              "    </button>\n",
              "\n",
              "  <style>\n",
              "    .colab-df-container {\n",
              "      display:flex;\n",
              "      gap: 12px;\n",
              "    }\n",
              "\n",
              "    .colab-df-convert {\n",
              "      background-color: #E8F0FE;\n",
              "      border: none;\n",
              "      border-radius: 50%;\n",
              "      cursor: pointer;\n",
              "      display: none;\n",
              "      fill: #1967D2;\n",
              "      height: 32px;\n",
              "      padding: 0 0 0 0;\n",
              "      width: 32px;\n",
              "    }\n",
              "\n",
              "    .colab-df-convert:hover {\n",
              "      background-color: #E2EBFA;\n",
              "      box-shadow: 0px 1px 2px rgba(60, 64, 67, 0.3), 0px 1px 3px 1px rgba(60, 64, 67, 0.15);\n",
              "      fill: #174EA6;\n",
              "    }\n",
              "\n",
              "    .colab-df-buttons div {\n",
              "      margin-bottom: 4px;\n",
              "    }\n",
              "\n",
              "    [theme=dark] .colab-df-convert {\n",
              "      background-color: #3B4455;\n",
              "      fill: #D2E3FC;\n",
              "    }\n",
              "\n",
              "    [theme=dark] .colab-df-convert:hover {\n",
              "      background-color: #434B5C;\n",
              "      box-shadow: 0px 1px 3px 1px rgba(0, 0, 0, 0.15);\n",
              "      filter: drop-shadow(0px 1px 2px rgba(0, 0, 0, 0.3));\n",
              "      fill: #FFFFFF;\n",
              "    }\n",
              "  </style>\n",
              "\n",
              "    <script>\n",
              "      const buttonEl =\n",
              "        document.querySelector('#df-ea82d52a-e2ce-4fdb-ae13-25a83729d889 button.colab-df-convert');\n",
              "      buttonEl.style.display =\n",
              "        google.colab.kernel.accessAllowed ? 'block' : 'none';\n",
              "\n",
              "      async function convertToInteractive(key) {\n",
              "        const element = document.querySelector('#df-ea82d52a-e2ce-4fdb-ae13-25a83729d889');\n",
              "        const dataTable =\n",
              "          await google.colab.kernel.invokeFunction('convertToInteractive',\n",
              "                                                    [key], {});\n",
              "        if (!dataTable) return;\n",
              "\n",
              "        const docLinkHtml = 'Like what you see? Visit the ' +\n",
              "          '<a target=\"_blank\" href=https://colab.research.google.com/notebooks/data_table.ipynb>data table notebook</a>'\n",
              "          + ' to learn more about interactive tables.';\n",
              "        element.innerHTML = '';\n",
              "        dataTable['output_type'] = 'display_data';\n",
              "        await google.colab.output.renderOutput(dataTable, element);\n",
              "        const docLink = document.createElement('div');\n",
              "        docLink.innerHTML = docLinkHtml;\n",
              "        element.appendChild(docLink);\n",
              "      }\n",
              "    </script>\n",
              "  </div>\n",
              "\n",
              "\n",
              "<div id=\"df-32b4f913-5a9b-4b99-b383-747cd07f9152\">\n",
              "  <button class=\"colab-df-quickchart\" onclick=\"quickchart('df-32b4f913-5a9b-4b99-b383-747cd07f9152')\"\n",
              "            title=\"Suggest charts\"\n",
              "            style=\"display:none;\">\n",
              "\n",
              "<svg xmlns=\"http://www.w3.org/2000/svg\" height=\"24px\"viewBox=\"0 0 24 24\"\n",
              "     width=\"24px\">\n",
              "    <g>\n",
              "        <path d=\"M19 3H5c-1.1 0-2 .9-2 2v14c0 1.1.9 2 2 2h14c1.1 0 2-.9 2-2V5c0-1.1-.9-2-2-2zM9 17H7v-7h2v7zm4 0h-2V7h2v10zm4 0h-2v-4h2v4z\"/>\n",
              "    </g>\n",
              "</svg>\n",
              "  </button>\n",
              "\n",
              "<style>\n",
              "  .colab-df-quickchart {\n",
              "      --bg-color: #E8F0FE;\n",
              "      --fill-color: #1967D2;\n",
              "      --hover-bg-color: #E2EBFA;\n",
              "      --hover-fill-color: #174EA6;\n",
              "      --disabled-fill-color: #AAA;\n",
              "      --disabled-bg-color: #DDD;\n",
              "  }\n",
              "\n",
              "  [theme=dark] .colab-df-quickchart {\n",
              "      --bg-color: #3B4455;\n",
              "      --fill-color: #D2E3FC;\n",
              "      --hover-bg-color: #434B5C;\n",
              "      --hover-fill-color: #FFFFFF;\n",
              "      --disabled-bg-color: #3B4455;\n",
              "      --disabled-fill-color: #666;\n",
              "  }\n",
              "\n",
              "  .colab-df-quickchart {\n",
              "    background-color: var(--bg-color);\n",
              "    border: none;\n",
              "    border-radius: 50%;\n",
              "    cursor: pointer;\n",
              "    display: none;\n",
              "    fill: var(--fill-color);\n",
              "    height: 32px;\n",
              "    padding: 0;\n",
              "    width: 32px;\n",
              "  }\n",
              "\n",
              "  .colab-df-quickchart:hover {\n",
              "    background-color: var(--hover-bg-color);\n",
              "    box-shadow: 0 1px 2px rgba(60, 64, 67, 0.3), 0 1px 3px 1px rgba(60, 64, 67, 0.15);\n",
              "    fill: var(--button-hover-fill-color);\n",
              "  }\n",
              "\n",
              "  .colab-df-quickchart-complete:disabled,\n",
              "  .colab-df-quickchart-complete:disabled:hover {\n",
              "    background-color: var(--disabled-bg-color);\n",
              "    fill: var(--disabled-fill-color);\n",
              "    box-shadow: none;\n",
              "  }\n",
              "\n",
              "  .colab-df-spinner {\n",
              "    border: 2px solid var(--fill-color);\n",
              "    border-color: transparent;\n",
              "    border-bottom-color: var(--fill-color);\n",
              "    animation:\n",
              "      spin 1s steps(1) infinite;\n",
              "  }\n",
              "\n",
              "  @keyframes spin {\n",
              "    0% {\n",
              "      border-color: transparent;\n",
              "      border-bottom-color: var(--fill-color);\n",
              "      border-left-color: var(--fill-color);\n",
              "    }\n",
              "    20% {\n",
              "      border-color: transparent;\n",
              "      border-left-color: var(--fill-color);\n",
              "      border-top-color: var(--fill-color);\n",
              "    }\n",
              "    30% {\n",
              "      border-color: transparent;\n",
              "      border-left-color: var(--fill-color);\n",
              "      border-top-color: var(--fill-color);\n",
              "      border-right-color: var(--fill-color);\n",
              "    }\n",
              "    40% {\n",
              "      border-color: transparent;\n",
              "      border-right-color: var(--fill-color);\n",
              "      border-top-color: var(--fill-color);\n",
              "    }\n",
              "    60% {\n",
              "      border-color: transparent;\n",
              "      border-right-color: var(--fill-color);\n",
              "    }\n",
              "    80% {\n",
              "      border-color: transparent;\n",
              "      border-right-color: var(--fill-color);\n",
              "      border-bottom-color: var(--fill-color);\n",
              "    }\n",
              "    90% {\n",
              "      border-color: transparent;\n",
              "      border-bottom-color: var(--fill-color);\n",
              "    }\n",
              "  }\n",
              "</style>\n",
              "\n",
              "  <script>\n",
              "    async function quickchart(key) {\n",
              "      const quickchartButtonEl =\n",
              "        document.querySelector('#' + key + ' button');\n",
              "      quickchartButtonEl.disabled = true;  // To prevent multiple clicks.\n",
              "      quickchartButtonEl.classList.add('colab-df-spinner');\n",
              "      try {\n",
              "        const charts = await google.colab.kernel.invokeFunction(\n",
              "            'suggestCharts', [key], {});\n",
              "      } catch (error) {\n",
              "        console.error('Error during call to suggestCharts:', error);\n",
              "      }\n",
              "      quickchartButtonEl.classList.remove('colab-df-spinner');\n",
              "      quickchartButtonEl.classList.add('colab-df-quickchart-complete');\n",
              "    }\n",
              "    (() => {\n",
              "      let quickchartButtonEl =\n",
              "        document.querySelector('#df-32b4f913-5a9b-4b99-b383-747cd07f9152 button');\n",
              "      quickchartButtonEl.style.display =\n",
              "        google.colab.kernel.accessAllowed ? 'block' : 'none';\n",
              "    })();\n",
              "  </script>\n",
              "</div>\n",
              "\n",
              "    </div>\n",
              "  </div>\n"
            ],
            "application/vnd.google.colaboratory.intrinsic+json": {
              "type": "dataframe",
              "variable_name": "df",
              "summary": "{\n  \"name\": \"df\",\n  \"rows\": 58271,\n  \"fields\": [\n    {\n      \"column\": \"\\uc5f0\\ub839\",\n      \"properties\": {\n        \"dtype\": \"category\",\n        \"num_unique_values\": 4,\n        \"samples\": [\n          \"\\uc911\\ub144\",\n          \"\\uccad\\uc18c\\ub144\",\n          \"\\uccad\\ub144\"\n        ],\n        \"semantic_type\": \"\",\n        \"description\": \"\"\n      }\n    },\n    {\n      \"column\": \"\\uc131\\ubcc4\",\n      \"properties\": {\n        \"dtype\": \"category\",\n        \"num_unique_values\": 2,\n        \"samples\": [\n          \"\\ub0a8\\uc131\",\n          \"\\uc5ec\\uc131\"\n        ],\n        \"semantic_type\": \"\",\n        \"description\": \"\"\n      }\n    },\n    {\n      \"column\": \"\\uc0c1\\ud669\\ud0a4\\uc6cc\\ub4dc\",\n      \"properties\": {\n        \"dtype\": \"category\",\n        \"num_unique_values\": 12,\n        \"samples\": [\n          \"\\uac00\\uc871\\uad00\\uacc4\",\n          \"\\ub300\\uc778\\uad00\\uacc4(\\ubd80\\ubd80, \\uc790\\ub140)\"\n        ],\n        \"semantic_type\": \"\",\n        \"description\": \"\"\n      }\n    },\n    {\n      \"column\": \"\\uc2e0\\uccb4\\uc9c8\\ud658\",\n      \"properties\": {\n        \"dtype\": \"category\",\n        \"num_unique_values\": 3,\n        \"samples\": [\n          \"\\ud574\\ub2f9\\uc5c6\\uc74c\",\n          \"\\ub9cc\\uc131\\uc9c8\\ud658 \\uc720\"\n        ],\n        \"semantic_type\": \"\",\n        \"description\": \"\"\n      }\n    },\n    {\n      \"column\": \"\\uac10\\uc815_\\ub300\\ubd84\\ub958\",\n      \"properties\": {\n        \"dtype\": \"category\",\n        \"num_unique_values\": 6,\n        \"samples\": [\n          \"\\ubd84\\ub178\",\n          \"\\uae30\\uc068\"\n        ],\n        \"semantic_type\": \"\",\n        \"description\": \"\"\n      }\n    },\n    {\n      \"column\": \"\\uac10\\uc815_\\uc18c\\ubd84\\ub958\",\n      \"properties\": {\n        \"dtype\": \"category\",\n        \"num_unique_values\": 58,\n        \"samples\": [\n          \"\\ub178\\uc5ec\\uc6cc\\ud558\\ub294\",\n          \"\\ub9c8\\ube44\\ub41c\"\n        ],\n        \"semantic_type\": \"\",\n        \"description\": \"\"\n      }\n    },\n    {\n      \"column\": \"\\uc0ac\\ub78c\\ubb38\\uc7a51\",\n      \"properties\": {\n        \"dtype\": \"string\",\n        \"num_unique_values\": 58240,\n        \"samples\": [\n          \"\\ubbf8\\ud22c \\uc6b4\\ub3d9\\uc73c\\ub85c \\uc778\\ud574\\uc11c \\ud68c\\uc0ac\\uc5d0\\uc11c \\ud68c\\uc2dd\\ubb38\\ud654\\uac00 \\ub9ce\\uc774 \\ub2ec\\ub77c\\uc84c\\uc5b4.\",\n          \"\\ub9c9\\ub0b4\\uc544\\ub4e4\\uc774 \\uc0ac\\ucd98\\uae30\\ub77c\\uc11c \\uadf8\\ub7f0\\uc9c0 \\uc694\\uc998 \\uc5c4\\ub9c8 \\ub9d0\\uc744 \\ubb34\\uc2dc\\ud558\\uace0 \\uc81c\\uba4b\\ub300\\ub85c\\ub9cc \\ud558\\ub824\\uace0 \\ud574.\"\n        ],\n        \"semantic_type\": \"\",\n        \"description\": \"\"\n      }\n    },\n    {\n      \"column\": \"\\uc2dc\\uc2a4\\ud15c\\ubb38\\uc7a51\",\n      \"properties\": {\n        \"dtype\": \"string\",\n        \"num_unique_values\": 55308,\n        \"samples\": [\n          \"\\uc624\\ub7ab\\ub3d9\\uc548 \\uc77c\\ud574 \\uc624\\uc168\\ub294\\ub370 \\uc6b0\\uc6b8\\uc99d\\uc774 \\uc0dd\\uae30\\uc154\\uc11c \\ud798\\ub4dc\\uc2dc\\uaca0\\uc5b4\\uc694.\",\n          \"\\uc5bc\\ub9c8\\ub098 \\ud798\\ub4dc\\uc168\\uc73c\\uba74 \\ubab8\\uc774 \\uadf8\\ub807\\uac8c \\ub9ce\\uc774 \\uc544\\ud50c\\uae4c\\uc694.\"\n        ],\n        \"semantic_type\": \"\",\n        \"description\": \"\"\n      }\n    },\n    {\n      \"column\": \"\\uc0ac\\ub78c\\ubb38\\uc7a52\",\n      \"properties\": {\n        \"dtype\": \"string\",\n        \"num_unique_values\": 55513,\n        \"samples\": [\n          \"\\ucef4\\ud4e8\\ud130 \\uac8c\\uc784\\uc744 \\ud558\\uac70\\ub098 \\ud63c\\uc790 \\ub208\\ubb3c\\uc744 \\ud758\\ub824. \\ub108\\ubb34 \\uc6b0\\uc6b8\\ud574.\",\n          \"\\uc0ac\\uc2e4 \\ub354 \\uc77c\\ud560 \\uc218 \\uc788\\ub294\\ub370 \\ud68c\\uc0ac\\uc5d0\\uc11c \\ub0b4\\ucad3\\uae30\\ub294 \\uae30\\ubd84\\ub3c4 \\ub4e4\\uc5b4\\uc11c \\uc548\\ud0c0\\uae4c\\uc6cc.\"\n        ],\n        \"semantic_type\": \"\",\n        \"description\": \"\"\n      }\n    },\n    {\n      \"column\": \"\\uc2dc\\uc2a4\\ud15c\\ubb38\\uc7a52\",\n      \"properties\": {\n        \"dtype\": \"string\",\n        \"num_unique_values\": 52786,\n        \"samples\": [\n          \"\\uac71\\uc815\\uc774 \\ub9ce\\uc73c\\uc2dc\\uaca0\\uc5b4\\uc694. \\uadf8\\ub7fc \\uce5c\\uad6c\\uc5d0\\uac8c \\uc5b4\\ub5bb\\uac8c \\ub9d0\\ud574\\uc57c \\ud560\\uae4c\\uc694?\",\n          \"\\uc55e\\uc73c\\ub85c \\uc5b4\\ub5bb\\uac8c \\ud558\\uba74 \\uc0c1\\ud669\\uc744 \\ud574\\uacb0\\ud560 \\uc218 \\uc788\\uc744\\uae4c\\uc694?\"\n        ],\n        \"semantic_type\": \"\",\n        \"description\": \"\"\n      }\n    },\n    {\n      \"column\": \"\\uc0ac\\ub78c\\ubb38\\uc7a53\",\n      \"properties\": {\n        \"dtype\": \"string\",\n        \"num_unique_values\": 45148,\n        \"samples\": [\n          \"\\ub0b4\\uac00 \\uc5f4\\uc2ec\\ud788 \\ubcd1\\uac04\\ud638 \\ud558\\uace0 \\uc606\\uc5d0\\uc11c \\uc5c4\\ub9c8\\ub97c \\uc9c0\\ucf1c\\uc918\\uc57c\\uaca0\\uc5b4.\",\n          \"\\ucc44\\uc2dd\\uc8fc\\uc758\\ub97c \\uba48\\ucd94\\uace0 \\uc74c\\uc2dd\\uc744 \\uace8\\uace0\\ub8e8 \\uba39\\uc5b4\\uc57c \\ud560 \\uac83 \\uac19\\uc544.\"\n        ],\n        \"semantic_type\": \"\",\n        \"description\": \"\"\n      }\n    },\n    {\n      \"column\": \"\\uc2dc\\uc2a4\\ud15c\\ubb38\\uc7a53\",\n      \"properties\": {\n        \"dtype\": \"string\",\n        \"num_unique_values\": 45555,\n        \"samples\": [\n          \"\\ub2f9\\ubd84\\uac04 \\ud63c\\uc790 \\uc788\\uace0 \\uc2f6\\uc73c\\uc2dc\\uad70\\uc694.\",\n          \"\\uc5b4\\ub5bb\\uac8c \\ud558\\uba74 \\uc81c\\ub300\\ub85c \\ub41c \\uacf5\\uace0\\ub97c \\ucc3e\\uc744 \\uc218 \\uc788\\uc744\\uae4c\\uc694?\"\n        ],\n        \"semantic_type\": \"\",\n        \"description\": \"\"\n      }\n    }\n  ]\n}"
            }
          },
          "metadata": {},
          "execution_count": 117
        }
      ]
    },
    {
      "cell_type": "code",
      "source": [
        "df['연령'].value_counts()"
      ],
      "metadata": {
        "colab": {
          "base_uri": "https://localhost:8080/"
        },
        "id": "5sQZdzfO63C_",
        "outputId": "6c84db2a-bb8e-43d5-bbb9-eebaabf5d8c3"
      },
      "execution_count": 78,
      "outputs": [
        {
          "output_type": "execute_result",
          "data": {
            "text/plain": [
              "연령\n",
              "노년     16640\n",
              "청년     16405\n",
              "중년     13207\n",
              "청소년    12019\n",
              "Name: count, dtype: int64"
            ]
          },
          "metadata": {},
          "execution_count": 78
        }
      ]
    },
    {
      "cell_type": "code",
      "source": [
        "df['성별'].value_counts().keys()"
      ],
      "metadata": {
        "colab": {
          "base_uri": "https://localhost:8080/"
        },
        "id": "TCVl1FTN647W",
        "outputId": "3240c09a-66f4-4e37-854e-d3f050274ea7"
      },
      "execution_count": 79,
      "outputs": [
        {
          "output_type": "execute_result",
          "data": {
            "text/plain": [
              "Index(['여성', '남성'], dtype='object', name='성별')"
            ]
          },
          "metadata": {},
          "execution_count": 79
        }
      ]
    },
    {
      "cell_type": "code",
      "source": [
        "df['신체질환'].unique()"
      ],
      "metadata": {
        "colab": {
          "base_uri": "https://localhost:8080/"
        },
        "id": "1Fewal1R-KNe",
        "outputId": "d47191d2-c916-4dd0-e547-a0ccf8325883"
      },
      "execution_count": 80,
      "outputs": [
        {
          "output_type": "execute_result",
          "data": {
            "text/plain": [
              "array(['해당없음', '만성질환 유', '만성질환 무'], dtype=object)"
            ]
          },
          "metadata": {},
          "execution_count": 80
        }
      ]
    },
    {
      "cell_type": "code",
      "source": [
        "plt.rc('font', family='NanumBarunGothic')\n",
        "\n",
        "columns = ['연령', '성별', '신체질환']\n",
        "\n",
        "plt.figure(figsize=(10, 30))\n",
        "\n",
        "for i, c in enumerate(columns):\n",
        "  values = df[c].value_counts()\n",
        "  ax = plt.subplot(1, 3, i+1)\n",
        "  plt.pie(values, startangle=90, counterclock=False, textprops={'fontsize': 10},\n",
        "          autopct=lambda p : '{:.2f}%'.format(p), wedgeprops={\"alpha\": 0.5, \"width\":0.5}, pctdistance=0.75,\n",
        "          labels=values.keys(), labeldistance=1.05)"
      ],
      "metadata": {
        "colab": {
          "base_uri": "https://localhost:8080/",
          "height": 264
        },
        "id": "fExrtGlXHFcS",
        "outputId": "00347892-24e1-4e53-9291-18bf13387715"
      },
      "execution_count": 81,
      "outputs": [
        {
          "output_type": "display_data",
          "data": {
            "text/plain": [
              "<Figure size 1000x3000 with 3 Axes>"
            ],
            "image/png": "[encoded data removed]"
          },
          "metadata": {}
        }
      ]
    },
    {
      "cell_type": "code",
      "source": [
        "df['감정_대분류'].unique()"
      ],
      "metadata": {
        "colab": {
          "base_uri": "https://localhost:8080/"
        },
        "id": "HdCZ8Myc6tW_",
        "outputId": "3670ab53-7e0e-4acf-d1aa-344911217e93"
      },
      "execution_count": 92,
      "outputs": [
        {
          "output_type": "execute_result",
          "data": {
            "text/plain": [
              "array(['분노', '기쁨', '불안', '당황', '슬픔', '상처'], dtype=object)"
            ]
          },
          "metadata": {},
          "execution_count": 92
        }
      ]
    },
    {
      "cell_type": "code",
      "source": [
        "df['감정_소분류'].unique()"
      ],
      "metadata": {
        "colab": {
          "base_uri": "https://localhost:8080/"
        },
        "id": "f6ZcuZH9Bsnd",
        "outputId": "be584654-0f26-4e5a-b0ad-e4d499839696"
      },
      "execution_count": 83,
      "outputs": [
        {
          "output_type": "execute_result",
          "data": {
            "text/plain": [
              "array(['노여워하는', '느긋', '걱정스러운', '당혹스러운', '당황', '마비된', '만족스러운', '배신당한',\n",
              "       '버려진', '부끄러운', '분노', '불안', '비통한', '상처', '성가신', '스트레스 받는', '슬픔',\n",
              "       '신뢰하는', '신이 난', '실망한', '악의적인', '안달하는', '안도', '억울한', '열등감', '염세적인',\n",
              "       '외로운', '우울한', '고립된', '좌절한', '후회되는', '혐오스러운', '한심한', '자신하는', '기쁨',\n",
              "       '툴툴대는', '남의 시선을 의식하는', '회의적인', '죄책감의', '혼란스러운', '초조한', '흥분',\n",
              "       '충격 받은', '취약한', '편안한', '방어적인', '질투하는', '두려운', '눈물이 나는', '짜증내는',\n",
              "       '조심스러운', '낙담한', '환멸을 느끼는', '희생된', '감사하는', '구역질 나는', '괴로워하는',\n",
              "       '가난한, 불우한'], dtype=object)"
            ]
          },
          "metadata": {},
          "execution_count": 83
        }
      ]
    },
    {
      "cell_type": "code",
      "source": [
        "cnt = len(df['감정_소분류'].unique())\n",
        "emotion_list = list(df['감정_소분류'].unique())\n",
        "print(f'{cnt} 감정 \\n항목 : {emotion_list}')"
      ],
      "metadata": {
        "colab": {
          "base_uri": "https://localhost:8080/"
        },
        "id": "9Epbnz_2Bt9V",
        "outputId": "0977c2a4-5ac2-4aa3-dc64-43170800649e"
      },
      "execution_count": 84,
      "outputs": [
        {
          "output_type": "stream",
          "name": "stdout",
          "text": [
            "58 감정 \n",
            "항목 : ['노여워하는', '느긋', '걱정스러운', '당혹스러운', '당황', '마비된', '만족스러운', '배신당한', '버려진', '부끄러운', '분노', '불안', '비통한', '상처', '성가신', '스트레스 받는', '슬픔', '신뢰하는', '신이 난', '실망한', '악의적인', '안달하는', '안도', '억울한', '열등감', '염세적인', '외로운', '우울한', '고립된', '좌절한', '후회되는', '혐오스러운', '한심한', '자신하는', '기쁨', '툴툴대는', '남의 시선을 의식하는', '회의적인', '죄책감의', '혼란스러운', '초조한', '흥분', '충격 받은', '취약한', '편안한', '방어적인', '질투하는', '두려운', '눈물이 나는', '짜증내는', '조심스러운', '낙담한', '환멸을 느끼는', '희생된', '감사하는', '구역질 나는', '괴로워하는', '가난한, 불우한']\n"
          ]
        }
      ]
    },
    {
      "cell_type": "code",
      "source": [
        "emotion_count = df.groupby(['감정_대분류', '감정_소분류'])['성별'].count()"
      ],
      "metadata": {
        "id": "TNZsat3P6ybP"
      },
      "execution_count": 85,
      "outputs": []
    },
    {
      "cell_type": "code",
      "source": [
        "first_emotions = np.sort(df['감정_대분류'].unique())\n",
        "base_colors = ['lightcoral', 'orange', 'gold', 'forestgreen', 'cornflowerblue', 'rebeccapurple']\n",
        "cmap = {}\n",
        "\n",
        "for i in range(len(first_emotions)):\n",
        "  cmap[first_emotions[i]] = base_colors[i]\n",
        "\n",
        "cmap"
      ],
      "metadata": {
        "colab": {
          "base_uri": "https://localhost:8080/"
        },
        "id": "ovD0F-N9NTZp",
        "outputId": "d60a9e1a-aac8-4a7d-d00f-810c3a79cc8c"
      },
      "execution_count": 86,
      "outputs": [
        {
          "output_type": "execute_result",
          "data": {
            "text/plain": [
              "{'기쁨': 'lightcoral',\n",
              " '당황': 'orange',\n",
              " '분노': 'gold',\n",
              " '불안': 'forestgreen',\n",
              " '상처': 'cornflowerblue',\n",
              " '슬픔': 'rebeccapurple'}"
            ]
          },
          "metadata": {},
          "execution_count": 86
        }
      ]
    },
    {
      "cell_type": "code",
      "source": [
        "base_colors = ['lightcoral', 'orange', 'gold', 'forestgreen', 'cornflowerblue', 'rebeccapurple']\n",
        "\n",
        "cnt_dict = {\"first\":[], \"second\":[], \"cnt\":[], \"color\":[]}\n",
        "\n",
        "for k, v in emotion_count.items():\n",
        "  cnt_dict['first'].append(k[0])\n",
        "  if k[1] in cnt_dict['second']:\n",
        "    print(k[1])\n",
        "    cnt_dict['second'].append('*'+k[1])\n",
        "  else:\n",
        "    cnt_dict['second'].append(k[1])\n",
        "  cnt_dict['cnt'].append(v)\n",
        "  cnt_dict['color'].append(cmap[k[0]])"
      ],
      "metadata": {
        "id": "I19ZDLxuAC78",
        "colab": {
          "base_uri": "https://localhost:8080/"
        },
        "outputId": "aa1878c6-08fa-4564-9d5c-9164bd4e50e8"
      },
      "execution_count": 87,
      "outputs": [
        {
          "output_type": "stream",
          "name": "stdout",
          "text": [
            "혼란스러운\n",
            "고립된\n"
          ]
        }
      ]
    },
    {
      "cell_type": "code",
      "source": [
        "df_cnt = pd.DataFrame(cnt_dict)\n",
        "df_cnt.head()"
      ],
      "metadata": {
        "colab": {
          "base_uri": "https://localhost:8080/",
          "height": 206
        },
        "id": "gYTeM84tOnmQ",
        "outputId": "885f19b4-df9e-40a1-e2fa-46c9b4893af5"
      },
      "execution_count": 88,
      "outputs": [
        {
          "output_type": "execute_result",
          "data": {
            "text/plain": [
              "  first second  cnt       color\n",
              "0    기쁨   감사하는  761  lightcoral\n",
              "1    기쁨     기쁨  763  lightcoral\n",
              "2    기쁨     느긋  670  lightcoral\n",
              "3    기쁨  만족스러운  779  lightcoral\n",
              "4    기쁨   신뢰하는  765  lightcoral"
            ],
            "text/html": [
              "\n",
              "  <div id=\"df-fa9ba571-db03-482c-8c6f-9ef4af7cea96\" class=\"colab-df-container\">\n",
              "    <div>\n",
              "<style scoped>\n",
              "    .dataframe tbody tr th:only-of-type {\n",
              "        vertical-align: middle;\n",
              "    }\n",
              "\n",
              "    .dataframe tbody tr th {\n",
              "        vertical-align: top;\n",
              "    }\n",
              "\n",
              "    .dataframe thead th {\n",
              "        text-align: right;\n",
              "    }\n",
              "</style>\n",
              "<table border=\"1\" class=\"dataframe\">\n",
              "  <thead>\n",
              "    <tr style=\"text-align: right;\">\n",
              "      <th></th>\n",
              "      <th>first</th>\n",
              "      <th>second</th>\n",
              "      <th>cnt</th>\n",
              "      <th>color</th>\n",
              "    </tr>\n",
              "  </thead>\n",
              "  <tbody>\n",
              "    <tr>\n",
              "      <th>0</th>\n",
              "      <td>기쁨</td>\n",
              "      <td>감사하는</td>\n",
              "      <td>761</td>\n",
              "      <td>lightcoral</td>\n",
              "    </tr>\n",
              "    <tr>\n",
              "      <th>1</th>\n",
              "      <td>기쁨</td>\n",
              "      <td>기쁨</td>\n",
              "      <td>763</td>\n",
              "      <td>lightcoral</td>\n",
              "    </tr>\n",
              "    <tr>\n",
              "      <th>2</th>\n",
              "      <td>기쁨</td>\n",
              "      <td>느긋</td>\n",
              "      <td>670</td>\n",
              "      <td>lightcoral</td>\n",
              "    </tr>\n",
              "    <tr>\n",
              "      <th>3</th>\n",
              "      <td>기쁨</td>\n",
              "      <td>만족스러운</td>\n",
              "      <td>779</td>\n",
              "      <td>lightcoral</td>\n",
              "    </tr>\n",
              "    <tr>\n",
              "      <th>4</th>\n",
              "      <td>기쁨</td>\n",
              "      <td>신뢰하는</td>\n",
              "      <td>765</td>\n",
              "      <td>lightcoral</td>\n",
              "    </tr>\n",
              "  </tbody>\n",
              "</table>\n",
              "</div>\n",
              "    <div class=\"colab-df-buttons\">\n",
              "\n",
              "  <div class=\"colab-df-container\">\n",
              "    <button class=\"colab-df-convert\" onclick=\"convertToInteractive('df-fa9ba571-db03-482c-8c6f-9ef4af7cea96')\"\n",
              "            title=\"Convert this dataframe to an interactive table.\"\n",
              "            style=\"display:none;\">\n",
              "\n",
              "  <svg xmlns=\"http://www.w3.org/2000/svg\" height=\"24px\" viewBox=\"0 -960 960 960\">\n",
              "    <path d=\"M120-120v-720h720v720H120Zm60-500h600v-160H180v160Zm220 220h160v-160H400v160Zm0 220h160v-160H400v160ZM180-400h160v-160H180v160Zm440 0h160v-160H620v160ZM180-180h160v-160H180v160Zm440 0h160v-160H620v160Z\"/>\n",
              "  </svg>\n",
              "    </button>\n",
              "\n",
              "  <style>\n",
              "    .colab-df-container {\n",
              "      display:flex;\n",
              "      gap: 12px;\n",
              "    }\n",
              "\n",
              "    .colab-df-convert {\n",
              "      background-color: #E8F0FE;\n",
              "      border: none;\n",
              "      border-radius: 50%;\n",
              "      cursor: pointer;\n",
              "      display: none;\n",
              "      fill: #1967D2;\n",
              "      height: 32px;\n",
              "      padding: 0 0 0 0;\n",
              "      width: 32px;\n",
              "    }\n",
              "\n",
              "    .colab-df-convert:hover {\n",
              "      background-color: #E2EBFA;\n",
              "      box-shadow: 0px 1px 2px rgba(60, 64, 67, 0.3), 0px 1px 3px 1px rgba(60, 64, 67, 0.15);\n",
              "      fill: #174EA6;\n",
              "    }\n",
              "\n",
              "    .colab-df-buttons div {\n",
              "      margin-bottom: 4px;\n",
              "    }\n",
              "\n",
              "    [theme=dark] .colab-df-convert {\n",
              "      background-color: #3B4455;\n",
              "      fill: #D2E3FC;\n",
              "    }\n",
              "\n",
              "    [theme=dark] .colab-df-convert:hover {\n",
              "      background-color: #434B5C;\n",
              "      box-shadow: 0px 1px 3px 1px rgba(0, 0, 0, 0.15);\n",
              "      filter: drop-shadow(0px 1px 2px rgba(0, 0, 0, 0.3));\n",
              "      fill: #FFFFFF;\n",
              "    }\n",
              "  </style>\n",
              "\n",
              "    <script>\n",
              "      const buttonEl =\n",
              "        document.querySelector('#df-fa9ba571-db03-482c-8c6f-9ef4af7cea96 button.colab-df-convert');\n",
              "      buttonEl.style.display =\n",
              "        google.colab.kernel.accessAllowed ? 'block' : 'none';\n",
              "\n",
              "      async function convertToInteractive(key) {\n",
              "        const element = document.querySelector('#df-fa9ba571-db03-482c-8c6f-9ef4af7cea96');\n",
              "        const dataTable =\n",
              "          await google.colab.kernel.invokeFunction('convertToInteractive',\n",
              "                                                    [key], {});\n",
              "        if (!dataTable) return;\n",
              "\n",
              "        const docLinkHtml = 'Like what you see? Visit the ' +\n",
              "          '<a target=\"_blank\" href=https://colab.research.google.com/notebooks/data_table.ipynb>data table notebook</a>'\n",
              "          + ' to learn more about interactive tables.';\n",
              "        element.innerHTML = '';\n",
              "        dataTable['output_type'] = 'display_data';\n",
              "        await google.colab.output.renderOutput(dataTable, element);\n",
              "        const docLink = document.createElement('div');\n",
              "        docLink.innerHTML = docLinkHtml;\n",
              "        element.appendChild(docLink);\n",
              "      }\n",
              "    </script>\n",
              "  </div>\n",
              "\n",
              "\n",
              "<div id=\"df-573afe2d-b500-4a4c-bd56-43a750e426ba\">\n",
              "  <button class=\"colab-df-quickchart\" onclick=\"quickchart('df-573afe2d-b500-4a4c-bd56-43a750e426ba')\"\n",
              "            title=\"Suggest charts\"\n",
              "            style=\"display:none;\">\n",
              "\n",
              "<svg xmlns=\"http://www.w3.org/2000/svg\" height=\"24px\"viewBox=\"0 0 24 24\"\n",
              "     width=\"24px\">\n",
              "    <g>\n",
              "        <path d=\"M19 3H5c-1.1 0-2 .9-2 2v14c0 1.1.9 2 2 2h14c1.1 0 2-.9 2-2V5c0-1.1-.9-2-2-2zM9 17H7v-7h2v7zm4 0h-2V7h2v10zm4 0h-2v-4h2v4z\"/>\n",
              "    </g>\n",
              "</svg>\n",
              "  </button>\n",
              "\n",
              "<style>\n",
              "  .colab-df-quickchart {\n",
              "      --bg-color: #E8F0FE;\n",
              "      --fill-color: #1967D2;\n",
              "      --hover-bg-color: #E2EBFA;\n",
              "      --hover-fill-color: #174EA6;\n",
              "      --disabled-fill-color: #AAA;\n",
              "      --disabled-bg-color: #DDD;\n",
              "  }\n",
              "\n",
              "  [theme=dark] .colab-df-quickchart {\n",
              "      --bg-color: #3B4455;\n",
              "      --fill-color: #D2E3FC;\n",
              "      --hover-bg-color: #434B5C;\n",
              "      --hover-fill-color: #FFFFFF;\n",
              "      --disabled-bg-color: #3B4455;\n",
              "      --disabled-fill-color: #666;\n",
              "  }\n",
              "\n",
              "  .colab-df-quickchart {\n",
              "    background-color: var(--bg-color);\n",
              "    border: none;\n",
              "    border-radius: 50%;\n",
              "    cursor: pointer;\n",
              "    display: none;\n",
              "    fill: var(--fill-color);\n",
              "    height: 32px;\n",
              "    padding: 0;\n",
              "    width: 32px;\n",
              "  }\n",
              "\n",
              "  .colab-df-quickchart:hover {\n",
              "    background-color: var(--hover-bg-color);\n",
              "    box-shadow: 0 1px 2px rgba(60, 64, 67, 0.3), 0 1px 3px 1px rgba(60, 64, 67, 0.15);\n",
              "    fill: var(--button-hover-fill-color);\n",
              "  }\n",
              "\n",
              "  .colab-df-quickchart-complete:disabled,\n",
              "  .colab-df-quickchart-complete:disabled:hover {\n",
              "    background-color: var(--disabled-bg-color);\n",
              "    fill: var(--disabled-fill-color);\n",
              "    box-shadow: none;\n",
              "  }\n",
              "\n",
              "  .colab-df-spinner {\n",
              "    border: 2px solid var(--fill-color);\n",
              "    border-color: transparent;\n",
              "    border-bottom-color: var(--fill-color);\n",
              "    animation:\n",
              "      spin 1s steps(1) infinite;\n",
              "  }\n",
              "\n",
              "  @keyframes spin {\n",
              "    0% {\n",
              "      border-color: transparent;\n",
              "      border-bottom-color: var(--fill-color);\n",
              "      border-left-color: var(--fill-color);\n",
              "    }\n",
              "    20% {\n",
              "      border-color: transparent;\n",
              "      border-left-color: var(--fill-color);\n",
              "      border-top-color: var(--fill-color);\n",
              "    }\n",
              "    30% {\n",
              "      border-color: transparent;\n",
              "      border-left-color: var(--fill-color);\n",
              "      border-top-color: var(--fill-color);\n",
              "      border-right-color: var(--fill-color);\n",
              "    }\n",
              "    40% {\n",
              "      border-color: transparent;\n",
              "      border-right-color: var(--fill-color);\n",
              "      border-top-color: var(--fill-color);\n",
              "    }\n",
              "    60% {\n",
              "      border-color: transparent;\n",
              "      border-right-color: var(--fill-color);\n",
              "    }\n",
              "    80% {\n",
              "      border-color: transparent;\n",
              "      border-right-color: var(--fill-color);\n",
              "      border-bottom-color: var(--fill-color);\n",
              "    }\n",
              "    90% {\n",
              "      border-color: transparent;\n",
              "      border-bottom-color: var(--fill-color);\n",
              "    }\n",
              "  }\n",
              "</style>\n",
              "\n",
              "  <script>\n",
              "    async function quickchart(key) {\n",
              "      const quickchartButtonEl =\n",
              "        document.querySelector('#' + key + ' button');\n",
              "      quickchartButtonEl.disabled = true;  // To prevent multiple clicks.\n",
              "      quickchartButtonEl.classList.add('colab-df-spinner');\n",
              "      try {\n",
              "        const charts = await google.colab.kernel.invokeFunction(\n",
              "            'suggestCharts', [key], {});\n",
              "      } catch (error) {\n",
              "        console.error('Error during call to suggestCharts:', error);\n",
              "      }\n",
              "      quickchartButtonEl.classList.remove('colab-df-spinner');\n",
              "      quickchartButtonEl.classList.add('colab-df-quickchart-complete');\n",
              "    }\n",
              "    (() => {\n",
              "      let quickchartButtonEl =\n",
              "        document.querySelector('#df-573afe2d-b500-4a4c-bd56-43a750e426ba button');\n",
              "      quickchartButtonEl.style.display =\n",
              "        google.colab.kernel.accessAllowed ? 'block' : 'none';\n",
              "    })();\n",
              "  </script>\n",
              "</div>\n",
              "\n",
              "    </div>\n",
              "  </div>\n"
            ],
            "application/vnd.google.colaboratory.intrinsic+json": {
              "type": "dataframe",
              "variable_name": "df_cnt",
              "summary": "{\n  \"name\": \"df_cnt\",\n  \"rows\": 60,\n  \"fields\": [\n    {\n      \"column\": \"first\",\n      \"properties\": {\n        \"dtype\": \"category\",\n        \"num_unique_values\": 6,\n        \"samples\": [\n          \"\\uae30\\uc068\",\n          \"\\ub2f9\\ud669\",\n          \"\\uc2ac\\ud514\"\n        ],\n        \"semantic_type\": \"\",\n        \"description\": \"\"\n      }\n    },\n    {\n      \"column\": \"second\",\n      \"properties\": {\n        \"dtype\": \"string\",\n        \"num_unique_values\": 60,\n        \"samples\": [\n          \"\\uac10\\uc0ac\\ud558\\ub294\",\n          \"\\uc2e0\\uc774 \\ub09c\",\n          \"\\ucd08\\uc870\\ud55c\"\n        ],\n        \"semantic_type\": \"\",\n        \"description\": \"\"\n      }\n    },\n    {\n      \"column\": \"cnt\",\n      \"properties\": {\n        \"dtype\": \"number\",\n        \"std\": 129,\n        \"min\": 625,\n        \"max\": 1336,\n        \"num_unique_values\": 52,\n        \"samples\": [\n          1099,\n          1028,\n          1022\n        ],\n        \"semantic_type\": \"\",\n        \"description\": \"\"\n      }\n    },\n    {\n      \"column\": \"color\",\n      \"properties\": {\n        \"dtype\": \"category\",\n        \"num_unique_values\": 6,\n        \"samples\": [\n          \"lightcoral\",\n          \"orange\",\n          \"rebeccapurple\"\n        ],\n        \"semantic_type\": \"\",\n        \"description\": \"\"\n      }\n    }\n  ]\n}"
            }
          },
          "metadata": {},
          "execution_count": 88
        }
      ]
    },
    {
      "cell_type": "code",
      "source": [
        "plt.figure(figsize=(20, 10))\n",
        "plt.bar(df_cnt['second'], df_cnt['cnt'], color=df_cnt['color'])\n",
        "plt.xticks(rotation=45, ha='right')\n",
        "# plt.legend(cmap)\n",
        "\n",
        "plt.show()"
      ],
      "metadata": {
        "id": "PQqv872-D4Dc",
        "colab": {
          "base_uri": "https://localhost:8080/",
          "height": 552
        },
        "outputId": "b82ce917-4fb6-4f2c-ebb1-7acc22a7a1cd"
      },
      "execution_count": 89,
      "outputs": [
        {
          "output_type": "display_data",
          "data": {
            "text/plain": [
              "<Figure size 2000x1000 with 1 Axes>"
            ],
            "image/png": "[encoded data removed]"
          },
          "metadata": {}
        }
      ]
    },
    {
      "cell_type": "markdown",
      "source": [
        "# Data Preprocessing"
      ],
      "metadata": {
        "id": "NqTYjLKvTsYQ"
      }
    },
    {
      "cell_type": "code",
      "source": [
        "df.head()"
      ],
      "metadata": {
        "id": "bzEYLVbxDXQ8",
        "colab": {
          "base_uri": "https://localhost:8080/",
          "height": 623
        },
        "outputId": "3c9d66cc-de0b-407d-d993-a5dbc43d3d2e"
      },
      "execution_count": 90,
      "outputs": [
        {
          "output_type": "execute_result",
          "data": {
            "text/plain": [
              "   연령  성별     상황키워드  신체질환 감정_대분류 감정_소분류  \\\n",
              "0  청년  여성  진로,취업,직장  해당없음     분노  노여워하는   \n",
              "1  청년  여성  진로,취업,직장  해당없음     분노  노여워하는   \n",
              "2  청년  여성  진로,취업,직장  해당없음     분노  노여워하는   \n",
              "3  청년  여성  진로,취업,직장  해당없음     분노  노여워하는   \n",
              "4  청년  여성  진로,취업,직장  해당없음     분노  노여워하는   \n",
              "\n",
              "                                               사람문장1  \\\n",
              "0                          일은 왜 해도 해도 끝이 없을까? 화가 난다.   \n",
              "1     이번 달에 또 급여가 깎였어! 물가는 오르는데 월급만 자꾸 깎이니까 너무 화가 나.   \n",
              "2  회사에 신입이 들어왔는데 말투가 거슬려. 그런 애를 매일 봐야 한다고 생각하니까 스...   \n",
              "3  직장에서 막내라는 이유로 나에게만 온갖 심부름을 시켜. 일도 많은 데 정말 분하고 ...   \n",
              "4              얼마 전 입사한 신입사원이 나를 무시하는 것 같아서 너무 화가 나.   \n",
              "\n",
              "                                              시스템문장1  \\\n",
              "0                        많이 힘드시겠어요. 주위에 의논할 상대가 있나요?   \n",
              "1           급여가 줄어 속상하시겠어요. 월급이 줄어든 것을 어떻게 보완하실 건가요?   \n",
              "2  회사 동료 때문에 스트레스를 많이 받는 것 같아요. 문제 해결을 위해 어떤 노력을 ...   \n",
              "3  관련 없는 심부름을 모두 하게 되어서 노여우시군요. 어떤 것이 상황을 나아질 수 있...   \n",
              "4  무시하는 것 같은 태도에 화가 나셨군요. 상대방의 어떤 행동이 그런 감정을 유발하는...   \n",
              "\n",
              "                                               사람문장2  \\\n",
              "0                그냥 내가 해결하는 게 나아. 남들한테 부담 주고 싶지도 않고.   \n",
              "1   최대한 지출을 억제해야겠어. 월급이 줄어들었으니 고정지출을 줄일 수밖에 없을 것 같아.   \n",
              "2  잘 안 맞는 사람이랑 억지로 잘 지내는 것보단 조금은 거리를 두고 예의를 갖춰서 대...   \n",
              "3              직장 사람들과 솔직하게 이야기해보고 싶어. 일하는 데에 방해된다고.   \n",
              "4                상사인 나에게 먼저 인사하지 않아서 매일 내가 먼저 인사한다고!   \n",
              "\n",
              "                                              시스템문장2 사람문장3 시스템문장3  \n",
              "0     혼자 해결하기로 했군요. 혼자서 해결하기 힘들면 주위에 의논할 사람을 찾아보세요.    NaN    NaN  \n",
              "1                           월급이 줄어든 만큼 소비를 줄일 계획이군요.   NaN    NaN  \n",
              "2          스트레스받지 않기 위해선 인간관계에 있어 약간의 거리를 두는 게 좋겠군요.   NaN    NaN  \n",
              "3                        직장 사람들과 이야기를 해 보겠다고 결심하셨군요.   NaN    NaN  \n",
              "4  항상 먼저 인사하게 되어 화가 나셨군요. 어떻게 하면 신입사원에게 화났음을 표현할 ...   NaN    NaN  "
            ],
            "text/html": [
              "\n",
              "  <div id=\"df-6b154810-48f4-4485-aa60-553afa13d092\" class=\"colab-df-container\">\n",
              "    <div>\n",
              "<style scoped>\n",
              "    .dataframe tbody tr th:only-of-type {\n",
              "        vertical-align: middle;\n",
              "    }\n",
              "\n",
              "    .dataframe tbody tr th {\n",
              "        vertical-align: top;\n",
              "    }\n",
              "\n",
              "    .dataframe thead th {\n",
              "        text-align: right;\n",
              "    }\n",
              "</style>\n",
              "<table border=\"1\" class=\"dataframe\">\n",
              "  <thead>\n",
              "    <tr style=\"text-align: right;\">\n",
              "      <th></th>\n",
              "      <th>연령</th>\n",
              "      <th>성별</th>\n",
              "      <th>상황키워드</th>\n",
              "      <th>신체질환</th>\n",
              "      <th>감정_대분류</th>\n",
              "      <th>감정_소분류</th>\n",
              "      <th>사람문장1</th>\n",
              "      <th>시스템문장1</th>\n",
              "      <th>사람문장2</th>\n",
              "      <th>시스템문장2</th>\n",
              "      <th>사람문장3</th>\n",
              "      <th>시스템문장3</th>\n",
              "    </tr>\n",
              "  </thead>\n",
              "  <tbody>\n",
              "    <tr>\n",
              "      <th>0</th>\n",
              "      <td>청년</td>\n",
              "      <td>여성</td>\n",
              "      <td>진로,취업,직장</td>\n",
              "      <td>해당없음</td>\n",
              "      <td>분노</td>\n",
              "      <td>노여워하는</td>\n",
              "      <td>일은 왜 해도 해도 끝이 없을까? 화가 난다.</td>\n",
              "      <td>많이 힘드시겠어요. 주위에 의논할 상대가 있나요?</td>\n",
              "      <td>그냥 내가 해결하는 게 나아. 남들한테 부담 주고 싶지도 않고.</td>\n",
              "      <td>혼자 해결하기로 했군요. 혼자서 해결하기 힘들면 주위에 의논할 사람을 찾아보세요.</td>\n",
              "      <td>NaN</td>\n",
              "      <td>NaN</td>\n",
              "    </tr>\n",
              "    <tr>\n",
              "      <th>1</th>\n",
              "      <td>청년</td>\n",
              "      <td>여성</td>\n",
              "      <td>진로,취업,직장</td>\n",
              "      <td>해당없음</td>\n",
              "      <td>분노</td>\n",
              "      <td>노여워하는</td>\n",
              "      <td>이번 달에 또 급여가 깎였어! 물가는 오르는데 월급만 자꾸 깎이니까 너무 화가 나.</td>\n",
              "      <td>급여가 줄어 속상하시겠어요. 월급이 줄어든 것을 어떻게 보완하실 건가요?</td>\n",
              "      <td>최대한 지출을 억제해야겠어. 월급이 줄어들었으니 고정지출을 줄일 수밖에 없을 것 같아.</td>\n",
              "      <td>월급이 줄어든 만큼 소비를 줄일 계획이군요.</td>\n",
              "      <td>NaN</td>\n",
              "      <td>NaN</td>\n",
              "    </tr>\n",
              "    <tr>\n",
              "      <th>2</th>\n",
              "      <td>청년</td>\n",
              "      <td>여성</td>\n",
              "      <td>진로,취업,직장</td>\n",
              "      <td>해당없음</td>\n",
              "      <td>분노</td>\n",
              "      <td>노여워하는</td>\n",
              "      <td>회사에 신입이 들어왔는데 말투가 거슬려. 그런 애를 매일 봐야 한다고 생각하니까 스...</td>\n",
              "      <td>회사 동료 때문에 스트레스를 많이 받는 것 같아요. 문제 해결을 위해 어떤 노력을 ...</td>\n",
              "      <td>잘 안 맞는 사람이랑 억지로 잘 지내는 것보단 조금은 거리를 두고 예의를 갖춰서 대...</td>\n",
              "      <td>스트레스받지 않기 위해선 인간관계에 있어 약간의 거리를 두는 게 좋겠군요.</td>\n",
              "      <td>NaN</td>\n",
              "      <td>NaN</td>\n",
              "    </tr>\n",
              "    <tr>\n",
              "      <th>3</th>\n",
              "      <td>청년</td>\n",
              "      <td>여성</td>\n",
              "      <td>진로,취업,직장</td>\n",
              "      <td>해당없음</td>\n",
              "      <td>분노</td>\n",
              "      <td>노여워하는</td>\n",
              "      <td>직장에서 막내라는 이유로 나에게만 온갖 심부름을 시켜. 일도 많은 데 정말 분하고 ...</td>\n",
              "      <td>관련 없는 심부름을 모두 하게 되어서 노여우시군요. 어떤 것이 상황을 나아질 수 있...</td>\n",
              "      <td>직장 사람들과 솔직하게 이야기해보고 싶어. 일하는 데에 방해된다고.</td>\n",
              "      <td>직장 사람들과 이야기를 해 보겠다고 결심하셨군요.</td>\n",
              "      <td>NaN</td>\n",
              "      <td>NaN</td>\n",
              "    </tr>\n",
              "    <tr>\n",
              "      <th>4</th>\n",
              "      <td>청년</td>\n",
              "      <td>여성</td>\n",
              "      <td>진로,취업,직장</td>\n",
              "      <td>해당없음</td>\n",
              "      <td>분노</td>\n",
              "      <td>노여워하는</td>\n",
              "      <td>얼마 전 입사한 신입사원이 나를 무시하는 것 같아서 너무 화가 나.</td>\n",
              "      <td>무시하는 것 같은 태도에 화가 나셨군요. 상대방의 어떤 행동이 그런 감정을 유발하는...</td>\n",
              "      <td>상사인 나에게 먼저 인사하지 않아서 매일 내가 먼저 인사한다고!</td>\n",
              "      <td>항상 먼저 인사하게 되어 화가 나셨군요. 어떻게 하면 신입사원에게 화났음을 표현할 ...</td>\n",
              "      <td>NaN</td>\n",
              "      <td>NaN</td>\n",
              "    </tr>\n",
              "  </tbody>\n",
              "</table>\n",
              "</div>\n",
              "    <div class=\"colab-df-buttons\">\n",
              "\n",
              "  <div class=\"colab-df-container\">\n",
              "    <button class=\"colab-df-convert\" onclick=\"convertToInteractive('df-6b154810-48f4-4485-aa60-553afa13d092')\"\n",
              "            title=\"Convert this dataframe to an interactive table.\"\n",
              "            style=\"display:none;\">\n",
              "\n",
              "  <svg xmlns=\"http://www.w3.org/2000/svg\" height=\"24px\" viewBox=\"0 -960 960 960\">\n",
              "    <path d=\"M120-120v-720h720v720H120Zm60-500h600v-160H180v160Zm220 220h160v-160H400v160Zm0 220h160v-160H400v160ZM180-400h160v-160H180v160Zm440 0h160v-160H620v160ZM180-180h160v-160H180v160Zm440 0h160v-160H620v160Z\"/>\n",
              "  </svg>\n",
              "    </button>\n",
              "\n",
              "  <style>\n",
              "    .colab-df-container {\n",
              "      display:flex;\n",
              "      gap: 12px;\n",
              "    }\n",
              "\n",
              "    .colab-df-convert {\n",
              "      background-color: #E8F0FE;\n",
              "      border: none;\n",
              "      border-radius: 50%;\n",
              "      cursor: pointer;\n",
              "      display: none;\n",
              "      fill: #1967D2;\n",
              "      height: 32px;\n",
              "      padding: 0 0 0 0;\n",
              "      width: 32px;\n",
              "    }\n",
              "\n",
              "    .colab-df-convert:hover {\n",
              "      background-color: #E2EBFA;\n",
              "      box-shadow: 0px 1px 2px rgba(60, 64, 67, 0.3), 0px 1px 3px 1px rgba(60, 64, 67, 0.15);\n",
              "      fill: #174EA6;\n",
              "    }\n",
              "\n",
              "    .colab-df-buttons div {\n",
              "      margin-bottom: 4px;\n",
              "    }\n",
              "\n",
              "    [theme=dark] .colab-df-convert {\n",
              "      background-color: #3B4455;\n",
              "      fill: #D2E3FC;\n",
              "    }\n",
              "\n",
              "    [theme=dark] .colab-df-convert:hover {\n",
              "      background-color: #434B5C;\n",
              "      box-shadow: 0px 1px 3px 1px rgba(0, 0, 0, 0.15);\n",
              "      filter: drop-shadow(0px 1px 2px rgba(0, 0, 0, 0.3));\n",
              "      fill: #FFFFFF;\n",
              "    }\n",
              "  </style>\n",
              "\n",
              "    <script>\n",
              "      const buttonEl =\n",
              "        document.querySelector('#df-6b154810-48f4-4485-aa60-553afa13d092 button.colab-df-convert');\n",
              "      buttonEl.style.display =\n",
              "        google.colab.kernel.accessAllowed ? 'block' : 'none';\n",
              "\n",
              "      async function convertToInteractive(key) {\n",
              "        const element = document.querySelector('#df-6b154810-48f4-4485-aa60-553afa13d092');\n",
              "        const dataTable =\n",
              "          await google.colab.kernel.invokeFunction('convertToInteractive',\n",
              "                                                    [key], {});\n",
              "        if (!dataTable) return;\n",
              "\n",
              "        const docLinkHtml = 'Like what you see? Visit the ' +\n",
              "          '<a target=\"_blank\" href=https://colab.research.google.com/notebooks/data_table.ipynb>data table notebook</a>'\n",
              "          + ' to learn more about interactive tables.';\n",
              "        element.innerHTML = '';\n",
              "        dataTable['output_type'] = 'display_data';\n",
              "        await google.colab.output.renderOutput(dataTable, element);\n",
              "        const docLink = document.createElement('div');\n",
              "        docLink.innerHTML = docLinkHtml;\n",
              "        element.appendChild(docLink);\n",
              "      }\n",
              "    </script>\n",
              "  </div>\n",
              "\n",
              "\n",
              "<div id=\"df-0abc032e-43b9-40eb-a2e8-5205cd67543b\">\n",
              "  <button class=\"colab-df-quickchart\" onclick=\"quickchart('df-0abc032e-43b9-40eb-a2e8-5205cd67543b')\"\n",
              "            title=\"Suggest charts\"\n",
              "            style=\"display:none;\">\n",
              "\n",
              "<svg xmlns=\"http://www.w3.org/2000/svg\" height=\"24px\"viewBox=\"0 0 24 24\"\n",
              "     width=\"24px\">\n",
              "    <g>\n",
              "        <path d=\"M19 3H5c-1.1 0-2 .9-2 2v14c0 1.1.9 2 2 2h14c1.1 0 2-.9 2-2V5c0-1.1-.9-2-2-2zM9 17H7v-7h2v7zm4 0h-2V7h2v10zm4 0h-2v-4h2v4z\"/>\n",
              "    </g>\n",
              "</svg>\n",
              "  </button>\n",
              "\n",
              "<style>\n",
              "  .colab-df-quickchart {\n",
              "      --bg-color: #E8F0FE;\n",
              "      --fill-color: #1967D2;\n",
              "      --hover-bg-color: #E2EBFA;\n",
              "      --hover-fill-color: #174EA6;\n",
              "      --disabled-fill-color: #AAA;\n",
              "      --disabled-bg-color: #DDD;\n",
              "  }\n",
              "\n",
              "  [theme=dark] .colab-df-quickchart {\n",
              "      --bg-color: #3B4455;\n",
              "      --fill-color: #D2E3FC;\n",
              "      --hover-bg-color: #434B5C;\n",
              "      --hover-fill-color: #FFFFFF;\n",
              "      --disabled-bg-color: #3B4455;\n",
              "      --disabled-fill-color: #666;\n",
              "  }\n",
              "\n",
              "  .colab-df-quickchart {\n",
              "    background-color: var(--bg-color);\n",
              "    border: none;\n",
              "    border-radius: 50%;\n",
              "    cursor: pointer;\n",
              "    display: none;\n",
              "    fill: var(--fill-color);\n",
              "    height: 32px;\n",
              "    padding: 0;\n",
              "    width: 32px;\n",
              "  }\n",
              "\n",
              "  .colab-df-quickchart:hover {\n",
              "    background-color: var(--hover-bg-color);\n",
              "    box-shadow: 0 1px 2px rgba(60, 64, 67, 0.3), 0 1px 3px 1px rgba(60, 64, 67, 0.15);\n",
              "    fill: var(--button-hover-fill-color);\n",
              "  }\n",
              "\n",
              "  .colab-df-quickchart-complete:disabled,\n",
              "  .colab-df-quickchart-complete:disabled:hover {\n",
              "    background-color: var(--disabled-bg-color);\n",
              "    fill: var(--disabled-fill-color);\n",
              "    box-shadow: none;\n",
              "  }\n",
              "\n",
              "  .colab-df-spinner {\n",
              "    border: 2px solid var(--fill-color);\n",
              "    border-color: transparent;\n",
              "    border-bottom-color: var(--fill-color);\n",
              "    animation:\n",
              "      spin 1s steps(1) infinite;\n",
              "  }\n",
              "\n",
              "  @keyframes spin {\n",
              "    0% {\n",
              "      border-color: transparent;\n",
              "      border-bottom-color: var(--fill-color);\n",
              "      border-left-color: var(--fill-color);\n",
              "    }\n",
              "    20% {\n",
              "      border-color: transparent;\n",
              "      border-left-color: var(--fill-color);\n",
              "      border-top-color: var(--fill-color);\n",
              "    }\n",
              "    30% {\n",
              "      border-color: transparent;\n",
              "      border-left-color: var(--fill-color);\n",
              "      border-top-color: var(--fill-color);\n",
              "      border-right-color: var(--fill-color);\n",
              "    }\n",
              "    40% {\n",
              "      border-color: transparent;\n",
              "      border-right-color: var(--fill-color);\n",
              "      border-top-color: var(--fill-color);\n",
              "    }\n",
              "    60% {\n",
              "      border-color: transparent;\n",
              "      border-right-color: var(--fill-color);\n",
              "    }\n",
              "    80% {\n",
              "      border-color: transparent;\n",
              "      border-right-color: var(--fill-color);\n",
              "      border-bottom-color: var(--fill-color);\n",
              "    }\n",
              "    90% {\n",
              "      border-color: transparent;\n",
              "      border-bottom-color: var(--fill-color);\n",
              "    }\n",
              "  }\n",
              "</style>\n",
              "\n",
              "  <script>\n",
              "    async function quickchart(key) {\n",
              "      const quickchartButtonEl =\n",
              "        document.querySelector('#' + key + ' button');\n",
              "      quickchartButtonEl.disabled = true;  // To prevent multiple clicks.\n",
              "      quickchartButtonEl.classList.add('colab-df-spinner');\n",
              "      try {\n",
              "        const charts = await google.colab.kernel.invokeFunction(\n",
              "            'suggestCharts', [key], {});\n",
              "      } catch (error) {\n",
              "        console.error('Error during call to suggestCharts:', error);\n",
              "      }\n",
              "      quickchartButtonEl.classList.remove('colab-df-spinner');\n",
              "      quickchartButtonEl.classList.add('colab-df-quickchart-complete');\n",
              "    }\n",
              "    (() => {\n",
              "      let quickchartButtonEl =\n",
              "        document.querySelector('#df-0abc032e-43b9-40eb-a2e8-5205cd67543b button');\n",
              "      quickchartButtonEl.style.display =\n",
              "        google.colab.kernel.accessAllowed ? 'block' : 'none';\n",
              "    })();\n",
              "  </script>\n",
              "</div>\n",
              "\n",
              "    </div>\n",
              "  </div>\n"
            ],
            "application/vnd.google.colaboratory.intrinsic+json": {
              "type": "dataframe",
              "variable_name": "df",
              "summary": "{\n  \"name\": \"df\",\n  \"rows\": 58271,\n  \"fields\": [\n    {\n      \"column\": \"\\uc5f0\\ub839\",\n      \"properties\": {\n        \"dtype\": \"category\",\n        \"num_unique_values\": 4,\n        \"samples\": [\n          \"\\uc911\\ub144\",\n          \"\\uccad\\uc18c\\ub144\",\n          \"\\uccad\\ub144\"\n        ],\n        \"semantic_type\": \"\",\n        \"description\": \"\"\n      }\n    },\n    {\n      \"column\": \"\\uc131\\ubcc4\",\n      \"properties\": {\n        \"dtype\": \"category\",\n        \"num_unique_values\": 2,\n        \"samples\": [\n          \"\\ub0a8\\uc131\",\n          \"\\uc5ec\\uc131\"\n        ],\n        \"semantic_type\": \"\",\n        \"description\": \"\"\n      }\n    },\n    {\n      \"column\": \"\\uc0c1\\ud669\\ud0a4\\uc6cc\\ub4dc\",\n      \"properties\": {\n        \"dtype\": \"category\",\n        \"num_unique_values\": 12,\n        \"samples\": [\n          \"\\uac00\\uc871\\uad00\\uacc4\",\n          \"\\ub300\\uc778\\uad00\\uacc4(\\ubd80\\ubd80, \\uc790\\ub140)\"\n        ],\n        \"semantic_type\": \"\",\n        \"description\": \"\"\n      }\n    },\n    {\n      \"column\": \"\\uc2e0\\uccb4\\uc9c8\\ud658\",\n      \"properties\": {\n        \"dtype\": \"category\",\n        \"num_unique_values\": 3,\n        \"samples\": [\n          \"\\ud574\\ub2f9\\uc5c6\\uc74c\",\n          \"\\ub9cc\\uc131\\uc9c8\\ud658 \\uc720\"\n        ],\n        \"semantic_type\": \"\",\n        \"description\": \"\"\n      }\n    },\n    {\n      \"column\": \"\\uac10\\uc815_\\ub300\\ubd84\\ub958\",\n      \"properties\": {\n        \"dtype\": \"category\",\n        \"num_unique_values\": 6,\n        \"samples\": [\n          \"\\ubd84\\ub178\",\n          \"\\uae30\\uc068\"\n        ],\n        \"semantic_type\": \"\",\n        \"description\": \"\"\n      }\n    },\n    {\n      \"column\": \"\\uac10\\uc815_\\uc18c\\ubd84\\ub958\",\n      \"properties\": {\n        \"dtype\": \"category\",\n        \"num_unique_values\": 58,\n        \"samples\": [\n          \"\\ub178\\uc5ec\\uc6cc\\ud558\\ub294\",\n          \"\\ub9c8\\ube44\\ub41c\"\n        ],\n        \"semantic_type\": \"\",\n        \"description\": \"\"\n      }\n    },\n    {\n      \"column\": \"\\uc0ac\\ub78c\\ubb38\\uc7a51\",\n      \"properties\": {\n        \"dtype\": \"string\",\n        \"num_unique_values\": 58240,\n        \"samples\": [\n          \"\\ubbf8\\ud22c \\uc6b4\\ub3d9\\uc73c\\ub85c \\uc778\\ud574\\uc11c \\ud68c\\uc0ac\\uc5d0\\uc11c \\ud68c\\uc2dd\\ubb38\\ud654\\uac00 \\ub9ce\\uc774 \\ub2ec\\ub77c\\uc84c\\uc5b4.\",\n          \"\\ub9c9\\ub0b4\\uc544\\ub4e4\\uc774 \\uc0ac\\ucd98\\uae30\\ub77c\\uc11c \\uadf8\\ub7f0\\uc9c0 \\uc694\\uc998 \\uc5c4\\ub9c8 \\ub9d0\\uc744 \\ubb34\\uc2dc\\ud558\\uace0 \\uc81c\\uba4b\\ub300\\ub85c\\ub9cc \\ud558\\ub824\\uace0 \\ud574.\"\n        ],\n        \"semantic_type\": \"\",\n        \"description\": \"\"\n      }\n    },\n    {\n      \"column\": \"\\uc2dc\\uc2a4\\ud15c\\ubb38\\uc7a51\",\n      \"properties\": {\n        \"dtype\": \"string\",\n        \"num_unique_values\": 55308,\n        \"samples\": [\n          \"\\uc624\\ub7ab\\ub3d9\\uc548 \\uc77c\\ud574 \\uc624\\uc168\\ub294\\ub370 \\uc6b0\\uc6b8\\uc99d\\uc774 \\uc0dd\\uae30\\uc154\\uc11c \\ud798\\ub4dc\\uc2dc\\uaca0\\uc5b4\\uc694.\",\n          \"\\uc5bc\\ub9c8\\ub098 \\ud798\\ub4dc\\uc168\\uc73c\\uba74 \\ubab8\\uc774 \\uadf8\\ub807\\uac8c \\ub9ce\\uc774 \\uc544\\ud50c\\uae4c\\uc694.\"\n        ],\n        \"semantic_type\": \"\",\n        \"description\": \"\"\n      }\n    },\n    {\n      \"column\": \"\\uc0ac\\ub78c\\ubb38\\uc7a52\",\n      \"properties\": {\n        \"dtype\": \"string\",\n        \"num_unique_values\": 55513,\n        \"samples\": [\n          \"\\ucef4\\ud4e8\\ud130 \\uac8c\\uc784\\uc744 \\ud558\\uac70\\ub098 \\ud63c\\uc790 \\ub208\\ubb3c\\uc744 \\ud758\\ub824. \\ub108\\ubb34 \\uc6b0\\uc6b8\\ud574.\",\n          \"\\uc0ac\\uc2e4 \\ub354 \\uc77c\\ud560 \\uc218 \\uc788\\ub294\\ub370 \\ud68c\\uc0ac\\uc5d0\\uc11c \\ub0b4\\ucad3\\uae30\\ub294 \\uae30\\ubd84\\ub3c4 \\ub4e4\\uc5b4\\uc11c \\uc548\\ud0c0\\uae4c\\uc6cc.\"\n        ],\n        \"semantic_type\": \"\",\n        \"description\": \"\"\n      }\n    },\n    {\n      \"column\": \"\\uc2dc\\uc2a4\\ud15c\\ubb38\\uc7a52\",\n      \"properties\": {\n        \"dtype\": \"string\",\n        \"num_unique_values\": 52786,\n        \"samples\": [\n          \"\\uac71\\uc815\\uc774 \\ub9ce\\uc73c\\uc2dc\\uaca0\\uc5b4\\uc694. \\uadf8\\ub7fc \\uce5c\\uad6c\\uc5d0\\uac8c \\uc5b4\\ub5bb\\uac8c \\ub9d0\\ud574\\uc57c \\ud560\\uae4c\\uc694?\",\n          \"\\uc55e\\uc73c\\ub85c \\uc5b4\\ub5bb\\uac8c \\ud558\\uba74 \\uc0c1\\ud669\\uc744 \\ud574\\uacb0\\ud560 \\uc218 \\uc788\\uc744\\uae4c\\uc694?\"\n        ],\n        \"semantic_type\": \"\",\n        \"description\": \"\"\n      }\n    },\n    {\n      \"column\": \"\\uc0ac\\ub78c\\ubb38\\uc7a53\",\n      \"properties\": {\n        \"dtype\": \"string\",\n        \"num_unique_values\": 45148,\n        \"samples\": [\n          \"\\ub0b4\\uac00 \\uc5f4\\uc2ec\\ud788 \\ubcd1\\uac04\\ud638 \\ud558\\uace0 \\uc606\\uc5d0\\uc11c \\uc5c4\\ub9c8\\ub97c \\uc9c0\\ucf1c\\uc918\\uc57c\\uaca0\\uc5b4.\",\n          \"\\ucc44\\uc2dd\\uc8fc\\uc758\\ub97c \\uba48\\ucd94\\uace0 \\uc74c\\uc2dd\\uc744 \\uace8\\uace0\\ub8e8 \\uba39\\uc5b4\\uc57c \\ud560 \\uac83 \\uac19\\uc544.\"\n        ],\n        \"semantic_type\": \"\",\n        \"description\": \"\"\n      }\n    },\n    {\n      \"column\": \"\\uc2dc\\uc2a4\\ud15c\\ubb38\\uc7a53\",\n      \"properties\": {\n        \"dtype\": \"string\",\n        \"num_unique_values\": 45555,\n        \"samples\": [\n          \"\\ub2f9\\ubd84\\uac04 \\ud63c\\uc790 \\uc788\\uace0 \\uc2f6\\uc73c\\uc2dc\\uad70\\uc694.\",\n          \"\\uc5b4\\ub5bb\\uac8c \\ud558\\uba74 \\uc81c\\ub300\\ub85c \\ub41c \\uacf5\\uace0\\ub97c \\ucc3e\\uc744 \\uc218 \\uc788\\uc744\\uae4c\\uc694?\"\n        ],\n        \"semantic_type\": \"\",\n        \"description\": \"\"\n      }\n    }\n  ]\n}"
            }
          },
          "metadata": {},
          "execution_count": 90
        }
      ]
    },
    {
      "cell_type": "code",
      "source": [
        "df.isna().sum()"
      ],
      "metadata": {
        "colab": {
          "base_uri": "https://localhost:8080/"
        },
        "id": "n4--gHWvTvfm",
        "outputId": "5779d9ab-95f7-4d05-87e8-4cd08800cdd6"
      },
      "execution_count": 91,
      "outputs": [
        {
          "output_type": "execute_result",
          "data": {
            "text/plain": [
              "연령            0\n",
              "성별            0\n",
              "상황키워드         0\n",
              "신체질환          0\n",
              "감정_대분류        0\n",
              "감정_소분류        0\n",
              "사람문장1         0\n",
              "시스템문장1        0\n",
              "사람문장2         0\n",
              "시스템문장2        0\n",
              "사람문장3     10890\n",
              "시스템문장3    10890\n",
              "dtype: int64"
            ]
          },
          "metadata": {},
          "execution_count": 91
        }
      ]
    },
    {
      "cell_type": "markdown",
      "source": [
        "### 감성대화말뭉치\n",
        "`'분노', '기쁨', '불안', '당황', '슬픔', '상처'`\n",
        "\n",
        "### 단발성대화데이터셋\n",
        "`'공포', '놀람', '분노', '슬픔', '중립', '행복', '혐오'`"
      ],
      "metadata": {
        "id": "RiCtkW9IUO6m"
      }
    },
    {
      "cell_type": "code",
      "source": [],
      "metadata": {
        "id": "VOjkmkgGTyTX"
      },
      "execution_count": null,
      "outputs": []
    }
  ]
}
