{
  "nbformat": 4,
  "nbformat_minor": 0,
  "metadata": {
    "colab": {
      "provenance": [],
      "gpuType": "V100",
      "machine_shape": "hm"
    },
    "kernelspec": {
      "name": "python3",
      "display_name": "Python 3"
    },
    "language_info": {
      "name": "python"
    },
    "accelerator": "GPU"
  },
  "cells": [
    {
      "cell_type": "code",
      "source": [
        "# [설치 후 런타임재시작]\n",
        "!sudo apt-get install -y fonts-nanum\n",
        "!sudo fc-cache -fv\n",
        "!rm ~/.cache/matplotlib -rf"
      ],
      "metadata": {
        "id": "X5PmYv9HRtDj"
      },
      "execution_count": null,
      "outputs": []
    },
    {
      "cell_type": "code",
      "source": [
        "from google.colab import drive\n",
        "drive.mount('/content/drive')"
      ],
      "metadata": {
        "colab": {
          "base_uri": "https://localhost:8080/"
        },
        "id": "5AVkWrkv21cf",
        "outputId": "1283197f-458c-4104-aef6-c19f9e792193"
      },
      "execution_count": 2,
      "outputs": [
        {
          "output_type": "stream",
          "name": "stdout",
          "text": [
            "Mounted at /content/drive\n"
          ]
        }
      ]
    },
    {
      "cell_type": "code",
      "execution_count": 3,
      "metadata": {
        "id": "4rny3hQNWnRp"
      },
      "outputs": [],
      "source": [
        "import pandas as pd\n",
        "import numpy as np\n"
      ]
    },
    {
      "cell_type": "code",
      "source": [
        "import os\n",
        "import re\n",
        "import math\n",
        "import numpy as np\n",
        "import pandas as pd\n",
        "from random import *\n",
        "from tqdm import tqdm\n",
        "from itertools import chain\n",
        "from collections import Counter\n",
        "\n",
        "import warnings\n",
        "warnings.filterwarnings(action='ignore')\n",
        "\n",
        "import seaborn as sns\n",
        "import matplotlib.pyplot as plt\n",
        "\n",
        "import nltk\n",
        "import pdb\n",
        "import torch\n",
        "import torch.nn as nn\n",
        "import torch.optim as optim\n",
        "from torch.utils.data import TensorDataset, random_split, DataLoader, RandomSampler, SequentialSampler\n",
        "from sklearn.model_selection import train_test_split\n",
        "from sklearn.metrics import accuracy_score\n",
        "\n",
        "import pickle"
      ],
      "metadata": {
        "id": "5aYDP_4WSSYA",
        "is_executing": true
      },
      "execution_count": 4,
      "outputs": []
    },
    {
      "cell_type": "code",
      "source": [
        "device = torch.device(\"cuda\" if torch.cuda.is_available() else \"cpu\")\n",
        "print(device)"
      ],
      "metadata": {
        "colab": {
          "base_uri": "https://localhost:8080/"
        },
        "id": "keYAqOLxSXB3",
        "outputId": "1b699e96-9905-4201-cac6-46389033914c"
      },
      "execution_count": 5,
      "outputs": [
        {
          "output_type": "stream",
          "name": "stdout",
          "text": [
            "cuda\n"
          ]
        }
      ]
    },
    {
      "cell_type": "code",
      "source": [
        "df = pd.read_csv('/content/drive/MyDrive/Pal-ette/preprocessed_data/전처리_감성분류.csv')\n",
        "df"
      ],
      "metadata": {
        "colab": {
          "base_uri": "https://localhost:8080/",
          "height": 788
        },
        "id": "B4HAq5pCQJNu",
        "outputId": "947f0c9f-e02b-4b82-9b20-fd94ca6e5514"
      },
      "execution_count": 7,
      "outputs": [
        {
          "output_type": "execute_result",
          "data": {
            "text/plain": [
              "       Unnamed: 0                                           original  \\\n",
              "0               0          일은왜해도해도끝이없을까?화가난다그냥내가해결하는게나아남들한테부담주고싶지도않고   \n",
              "1               1  이번달에또급여가깎였어!물가는오르는데월급만자꾸깎이니까너무화가나최대한지출을억제해야겠어월...   \n",
              "2               2  회사에신입이들어왔는데말투가거슬려그런애를매일봐야한다고생각하니까스트레스받아잘안맞는사람이...   \n",
              "3               3  직장에서막내라는이유로나에게만온갖심부름을시켜일도많은데정말분하고섭섭해직장사람들과솔직하게...   \n",
              "4               4  얼마전입사한신입사원이나를무시하는것같아서너무화가나상사인나에게먼저인사하지않아서매일내가먼...   \n",
              "...           ...                                                ...   \n",
              "58266       58266  나랑비슷한시기에결혼하는친구는시댁에서집을해줘서너무부러워우리는대출로시작해우리만뒤처지는것...   \n",
              "58267       58267  친구한명이결혼해서아이를가졌는데너무행복해보이더라기분이좋지만은않아나도결혼했지만아이도생기...   \n",
              "58268       58268    남들은결혼전에일억을모았다는데난뭐를한것인지모르겠어자괴감만드네요새집값이너무올라서한숨만나와   \n",
              "58269       58269  나보다결혼을먼저한친구가부러워그친구남편은직장도내남편보다좋고키와외모도저보다훤칠해맞아그친...   \n",
              "58270       58270         친구들모두결혼하고나만혼자남아서쓸쓸하네맞아하지만그렇다고아무나하고결혼할수도없잖아   \n",
              "\n",
              "                                                 checked  \\\n",
              "0      일은 왜 해도 해도 끝이 없을까? 화가 난다 그냥 내가 해결하는 게 나아 남들한테 ...   \n",
              "1      이번 달에 또 급여가 깎였어! 물가는 오르는데 월급만 자꾸 깎이니까 너무 화가 나 ...   \n",
              "2      회사에 신입이 들어왔는데 말투가 거슬려 그런 애를 매일 봐야 한다고 생각하니까 스트...   \n",
              "3      직장에서 막내라는 이유로 나에게만 온갖 심부름을 시켜 일도 많은데 정말 분하고 섭섭...   \n",
              "4      얼마 전 입사한 신입사원이 나를 무시하는 것 같아서 너무 화가 나 상사 일어나에 게...   \n",
              "...                                                  ...   \n",
              "58266  나랑 비슷한 시기에 결혼하는 친구는 시댁에서 집을 해줘서 너무 부러워 우리는 대출로...   \n",
              "58267  친구 한 명이 결혼해서 아이를 가졌는데 너무 행복해 보이더라 기분이 좋지만은 않아 ...   \n",
              "58268  남들은 결혼 전에 일억을 모았다는데 난 뭐를 한 것인지 모르겠어 자괴감만 드네 요새...   \n",
              "58269  나보다 결혼을 먼저 한 친구가 부러워 그 친구 남편은 직장도 내 남편보다 좋고 키와...   \n",
              "58270  친구들 모두 결혼하고 나만 혼자 남아서 쓸쓸하네 맞아하지만 그렇다고 아무나 하고 결...   \n",
              "\n",
              "                                                   words emotion  \n",
              "0      OrderedDict([('일은', 2), ('왜', 2), ('해도', 2), (...      분노  \n",
              "1      OrderedDict([('이번', 4), ('달에', 4), ('또', 4), (...      분노  \n",
              "2      OrderedDict([('회사에', 2), ('신입이', 2), ('들어왔는데',...      분노  \n",
              "3      OrderedDict([('직장에서', 2), ('막내라는', 2), ('이유로',...      분노  \n",
              "4      OrderedDict([('얼마', 1), ('전', 1), ('입사한', 1), ...      분노  \n",
              "...                                                  ...     ...  \n",
              "58266  OrderedDict([('나랑', 2), ('비슷한', 2), ('시기에', 2)...      당황  \n",
              "58267  OrderedDict([('친구', 2), ('한', 2), ('명이', 2), (...      당황  \n",
              "58268  OrderedDict([('남들은', 2), ('결혼', 2), ('전에', 2),...      당황  \n",
              "58269  OrderedDict([('나보다', 2), ('결혼을', 2), ('먼저', 2)...      당황  \n",
              "58270  OrderedDict([('친구들', 2), ('모두', 2), ('결혼하고', 2...      당황  \n",
              "\n",
              "[58271 rows x 5 columns]"
            ],
            "text/html": [
              "\n",
              "  <div id=\"df-9203f218-0edf-4e47-9d80-ea115126172e\" class=\"colab-df-container\">\n",
              "    <div>\n",
              "<style scoped>\n",
              "    .dataframe tbody tr th:only-of-type {\n",
              "        vertical-align: middle;\n",
              "    }\n",
              "\n",
              "    .dataframe tbody tr th {\n",
              "        vertical-align: top;\n",
              "    }\n",
              "\n",
              "    .dataframe thead th {\n",
              "        text-align: right;\n",
              "    }\n",
              "</style>\n",
              "<table border=\"1\" class=\"dataframe\">\n",
              "  <thead>\n",
              "    <tr style=\"text-align: right;\">\n",
              "      <th></th>\n",
              "      <th>Unnamed: 0</th>\n",
              "      <th>original</th>\n",
              "      <th>checked</th>\n",
              "      <th>words</th>\n",
              "      <th>emotion</th>\n",
              "    </tr>\n",
              "  </thead>\n",
              "  <tbody>\n",
              "    <tr>\n",
              "      <th>0</th>\n",
              "      <td>0</td>\n",
              "      <td>일은왜해도해도끝이없을까?화가난다그냥내가해결하는게나아남들한테부담주고싶지도않고</td>\n",
              "      <td>일은 왜 해도 해도 끝이 없을까? 화가 난다 그냥 내가 해결하는 게 나아 남들한테 ...</td>\n",
              "      <td>OrderedDict([('일은', 2), ('왜', 2), ('해도', 2), (...</td>\n",
              "      <td>분노</td>\n",
              "    </tr>\n",
              "    <tr>\n",
              "      <th>1</th>\n",
              "      <td>1</td>\n",
              "      <td>이번달에또급여가깎였어!물가는오르는데월급만자꾸깎이니까너무화가나최대한지출을억제해야겠어월...</td>\n",
              "      <td>이번 달에 또 급여가 깎였어! 물가는 오르는데 월급만 자꾸 깎이니까 너무 화가 나 ...</td>\n",
              "      <td>OrderedDict([('이번', 4), ('달에', 4), ('또', 4), (...</td>\n",
              "      <td>분노</td>\n",
              "    </tr>\n",
              "    <tr>\n",
              "      <th>2</th>\n",
              "      <td>2</td>\n",
              "      <td>회사에신입이들어왔는데말투가거슬려그런애를매일봐야한다고생각하니까스트레스받아잘안맞는사람이...</td>\n",
              "      <td>회사에 신입이 들어왔는데 말투가 거슬려 그런 애를 매일 봐야 한다고 생각하니까 스트...</td>\n",
              "      <td>OrderedDict([('회사에', 2), ('신입이', 2), ('들어왔는데',...</td>\n",
              "      <td>분노</td>\n",
              "    </tr>\n",
              "    <tr>\n",
              "      <th>3</th>\n",
              "      <td>3</td>\n",
              "      <td>직장에서막내라는이유로나에게만온갖심부름을시켜일도많은데정말분하고섭섭해직장사람들과솔직하게...</td>\n",
              "      <td>직장에서 막내라는 이유로 나에게만 온갖 심부름을 시켜 일도 많은데 정말 분하고 섭섭...</td>\n",
              "      <td>OrderedDict([('직장에서', 2), ('막내라는', 2), ('이유로',...</td>\n",
              "      <td>분노</td>\n",
              "    </tr>\n",
              "    <tr>\n",
              "      <th>4</th>\n",
              "      <td>4</td>\n",
              "      <td>얼마전입사한신입사원이나를무시하는것같아서너무화가나상사인나에게먼저인사하지않아서매일내가먼...</td>\n",
              "      <td>얼마 전 입사한 신입사원이 나를 무시하는 것 같아서 너무 화가 나 상사 일어나에 게...</td>\n",
              "      <td>OrderedDict([('얼마', 1), ('전', 1), ('입사한', 1), ...</td>\n",
              "      <td>분노</td>\n",
              "    </tr>\n",
              "    <tr>\n",
              "      <th>...</th>\n",
              "      <td>...</td>\n",
              "      <td>...</td>\n",
              "      <td>...</td>\n",
              "      <td>...</td>\n",
              "      <td>...</td>\n",
              "    </tr>\n",
              "    <tr>\n",
              "      <th>58266</th>\n",
              "      <td>58266</td>\n",
              "      <td>나랑비슷한시기에결혼하는친구는시댁에서집을해줘서너무부러워우리는대출로시작해우리만뒤처지는것...</td>\n",
              "      <td>나랑 비슷한 시기에 결혼하는 친구는 시댁에서 집을 해줘서 너무 부러워 우리는 대출로...</td>\n",
              "      <td>OrderedDict([('나랑', 2), ('비슷한', 2), ('시기에', 2)...</td>\n",
              "      <td>당황</td>\n",
              "    </tr>\n",
              "    <tr>\n",
              "      <th>58267</th>\n",
              "      <td>58267</td>\n",
              "      <td>친구한명이결혼해서아이를가졌는데너무행복해보이더라기분이좋지만은않아나도결혼했지만아이도생기...</td>\n",
              "      <td>친구 한 명이 결혼해서 아이를 가졌는데 너무 행복해 보이더라 기분이 좋지만은 않아 ...</td>\n",
              "      <td>OrderedDict([('친구', 2), ('한', 2), ('명이', 2), (...</td>\n",
              "      <td>당황</td>\n",
              "    </tr>\n",
              "    <tr>\n",
              "      <th>58268</th>\n",
              "      <td>58268</td>\n",
              "      <td>남들은결혼전에일억을모았다는데난뭐를한것인지모르겠어자괴감만드네요새집값이너무올라서한숨만나와</td>\n",
              "      <td>남들은 결혼 전에 일억을 모았다는데 난 뭐를 한 것인지 모르겠어 자괴감만 드네 요새...</td>\n",
              "      <td>OrderedDict([('남들은', 2), ('결혼', 2), ('전에', 2),...</td>\n",
              "      <td>당황</td>\n",
              "    </tr>\n",
              "    <tr>\n",
              "      <th>58269</th>\n",
              "      <td>58269</td>\n",
              "      <td>나보다결혼을먼저한친구가부러워그친구남편은직장도내남편보다좋고키와외모도저보다훤칠해맞아그친...</td>\n",
              "      <td>나보다 결혼을 먼저 한 친구가 부러워 그 친구 남편은 직장도 내 남편보다 좋고 키와...</td>\n",
              "      <td>OrderedDict([('나보다', 2), ('결혼을', 2), ('먼저', 2)...</td>\n",
              "      <td>당황</td>\n",
              "    </tr>\n",
              "    <tr>\n",
              "      <th>58270</th>\n",
              "      <td>58270</td>\n",
              "      <td>친구들모두결혼하고나만혼자남아서쓸쓸하네맞아하지만그렇다고아무나하고결혼할수도없잖아</td>\n",
              "      <td>친구들 모두 결혼하고 나만 혼자 남아서 쓸쓸하네 맞아하지만 그렇다고 아무나 하고 결...</td>\n",
              "      <td>OrderedDict([('친구들', 2), ('모두', 2), ('결혼하고', 2...</td>\n",
              "      <td>당황</td>\n",
              "    </tr>\n",
              "  </tbody>\n",
              "</table>\n",
              "<p>58271 rows × 5 columns</p>\n",
              "</div>\n",
              "    <div class=\"colab-df-buttons\">\n",
              "\n",
              "  <div class=\"colab-df-container\">\n",
              "    <button class=\"colab-df-convert\" onclick=\"convertToInteractive('df-9203f218-0edf-4e47-9d80-ea115126172e')\"\n",
              "            title=\"Convert this dataframe to an interactive table.\"\n",
              "            style=\"display:none;\">\n",
              "\n",
              "  <svg xmlns=\"http://www.w3.org/2000/svg\" height=\"24px\" viewBox=\"0 -960 960 960\">\n",
              "    <path d=\"M120-120v-720h720v720H120Zm60-500h600v-160H180v160Zm220 220h160v-160H400v160Zm0 220h160v-160H400v160ZM180-400h160v-160H180v160Zm440 0h160v-160H620v160ZM180-180h160v-160H180v160Zm440 0h160v-160H620v160Z\"/>\n",
              "  </svg>\n",
              "    </button>\n",
              "\n",
              "  <style>\n",
              "    .colab-df-container {\n",
              "      display:flex;\n",
              "      gap: 12px;\n",
              "    }\n",
              "\n",
              "    .colab-df-convert {\n",
              "      background-color: #E8F0FE;\n",
              "      border: none;\n",
              "      border-radius: 50%;\n",
              "      cursor: pointer;\n",
              "      display: none;\n",
              "      fill: #1967D2;\n",
              "      height: 32px;\n",
              "      padding: 0 0 0 0;\n",
              "      width: 32px;\n",
              "    }\n",
              "\n",
              "    .colab-df-convert:hover {\n",
              "      background-color: #E2EBFA;\n",
              "      box-shadow: 0px 1px 2px rgba(60, 64, 67, 0.3), 0px 1px 3px 1px rgba(60, 64, 67, 0.15);\n",
              "      fill: #174EA6;\n",
              "    }\n",
              "\n",
              "    .colab-df-buttons div {\n",
              "      margin-bottom: 4px;\n",
              "    }\n",
              "\n",
              "    [theme=dark] .colab-df-convert {\n",
              "      background-color: #3B4455;\n",
              "      fill: #D2E3FC;\n",
              "    }\n",
              "\n",
              "    [theme=dark] .colab-df-convert:hover {\n",
              "      background-color: #434B5C;\n",
              "      box-shadow: 0px 1px 3px 1px rgba(0, 0, 0, 0.15);\n",
              "      filter: drop-shadow(0px 1px 2px rgba(0, 0, 0, 0.3));\n",
              "      fill: #FFFFFF;\n",
              "    }\n",
              "  </style>\n",
              "\n",
              "    <script>\n",
              "      const buttonEl =\n",
              "        document.querySelector('#df-9203f218-0edf-4e47-9d80-ea115126172e button.colab-df-convert');\n",
              "      buttonEl.style.display =\n",
              "        google.colab.kernel.accessAllowed ? 'block' : 'none';\n",
              "\n",
              "      async function convertToInteractive(key) {\n",
              "        const element = document.querySelector('#df-9203f218-0edf-4e47-9d80-ea115126172e');\n",
              "        const dataTable =\n",
              "          await google.colab.kernel.invokeFunction('convertToInteractive',\n",
              "                                                    [key], {});\n",
              "        if (!dataTable) return;\n",
              "\n",
              "        const docLinkHtml = 'Like what you see? Visit the ' +\n",
              "          '<a target=\"_blank\" href=https://colab.research.google.com/notebooks/data_table.ipynb>data table notebook</a>'\n",
              "          + ' to learn more about interactive tables.';\n",
              "        element.innerHTML = '';\n",
              "        dataTable['output_type'] = 'display_data';\n",
              "        await google.colab.output.renderOutput(dataTable, element);\n",
              "        const docLink = document.createElement('div');\n",
              "        docLink.innerHTML = docLinkHtml;\n",
              "        element.appendChild(docLink);\n",
              "      }\n",
              "    </script>\n",
              "  </div>\n",
              "\n",
              "\n",
              "<div id=\"df-1bcae75e-009e-42db-8bf5-6be9b0ace548\">\n",
              "  <button class=\"colab-df-quickchart\" onclick=\"quickchart('df-1bcae75e-009e-42db-8bf5-6be9b0ace548')\"\n",
              "            title=\"Suggest charts\"\n",
              "            style=\"display:none;\">\n",
              "\n",
              "<svg xmlns=\"http://www.w3.org/2000/svg\" height=\"24px\"viewBox=\"0 0 24 24\"\n",
              "     width=\"24px\">\n",
              "    <g>\n",
              "        <path d=\"M19 3H5c-1.1 0-2 .9-2 2v14c0 1.1.9 2 2 2h14c1.1 0 2-.9 2-2V5c0-1.1-.9-2-2-2zM9 17H7v-7h2v7zm4 0h-2V7h2v10zm4 0h-2v-4h2v4z\"/>\n",
              "    </g>\n",
              "</svg>\n",
              "  </button>\n",
              "\n",
              "<style>\n",
              "  .colab-df-quickchart {\n",
              "      --bg-color: #E8F0FE;\n",
              "      --fill-color: #1967D2;\n",
              "      --hover-bg-color: #E2EBFA;\n",
              "      --hover-fill-color: #174EA6;\n",
              "      --disabled-fill-color: #AAA;\n",
              "      --disabled-bg-color: #DDD;\n",
              "  }\n",
              "\n",
              "  [theme=dark] .colab-df-quickchart {\n",
              "      --bg-color: #3B4455;\n",
              "      --fill-color: #D2E3FC;\n",
              "      --hover-bg-color: #434B5C;\n",
              "      --hover-fill-color: #FFFFFF;\n",
              "      --disabled-bg-color: #3B4455;\n",
              "      --disabled-fill-color: #666;\n",
              "  }\n",
              "\n",
              "  .colab-df-quickchart {\n",
              "    background-color: var(--bg-color);\n",
              "    border: none;\n",
              "    border-radius: 50%;\n",
              "    cursor: pointer;\n",
              "    display: none;\n",
              "    fill: var(--fill-color);\n",
              "    height: 32px;\n",
              "    padding: 0;\n",
              "    width: 32px;\n",
              "  }\n",
              "\n",
              "  .colab-df-quickchart:hover {\n",
              "    background-color: var(--hover-bg-color);\n",
              "    box-shadow: 0 1px 2px rgba(60, 64, 67, 0.3), 0 1px 3px 1px rgba(60, 64, 67, 0.15);\n",
              "    fill: var(--button-hover-fill-color);\n",
              "  }\n",
              "\n",
              "  .colab-df-quickchart-complete:disabled,\n",
              "  .colab-df-quickchart-complete:disabled:hover {\n",
              "    background-color: var(--disabled-bg-color);\n",
              "    fill: var(--disabled-fill-color);\n",
              "    box-shadow: none;\n",
              "  }\n",
              "\n",
              "  .colab-df-spinner {\n",
              "    border: 2px solid var(--fill-color);\n",
              "    border-color: transparent;\n",
              "    border-bottom-color: var(--fill-color);\n",
              "    animation:\n",
              "      spin 1s steps(1) infinite;\n",
              "  }\n",
              "\n",
              "  @keyframes spin {\n",
              "    0% {\n",
              "      border-color: transparent;\n",
              "      border-bottom-color: var(--fill-color);\n",
              "      border-left-color: var(--fill-color);\n",
              "    }\n",
              "    20% {\n",
              "      border-color: transparent;\n",
              "      border-left-color: var(--fill-color);\n",
              "      border-top-color: var(--fill-color);\n",
              "    }\n",
              "    30% {\n",
              "      border-color: transparent;\n",
              "      border-left-color: var(--fill-color);\n",
              "      border-top-color: var(--fill-color);\n",
              "      border-right-color: var(--fill-color);\n",
              "    }\n",
              "    40% {\n",
              "      border-color: transparent;\n",
              "      border-right-color: var(--fill-color);\n",
              "      border-top-color: var(--fill-color);\n",
              "    }\n",
              "    60% {\n",
              "      border-color: transparent;\n",
              "      border-right-color: var(--fill-color);\n",
              "    }\n",
              "    80% {\n",
              "      border-color: transparent;\n",
              "      border-right-color: var(--fill-color);\n",
              "      border-bottom-color: var(--fill-color);\n",
              "    }\n",
              "    90% {\n",
              "      border-color: transparent;\n",
              "      border-bottom-color: var(--fill-color);\n",
              "    }\n",
              "  }\n",
              "</style>\n",
              "\n",
              "  <script>\n",
              "    async function quickchart(key) {\n",
              "      const quickchartButtonEl =\n",
              "        document.querySelector('#' + key + ' button');\n",
              "      quickchartButtonEl.disabled = true;  // To prevent multiple clicks.\n",
              "      quickchartButtonEl.classList.add('colab-df-spinner');\n",
              "      try {\n",
              "        const charts = await google.colab.kernel.invokeFunction(\n",
              "            'suggestCharts', [key], {});\n",
              "      } catch (error) {\n",
              "        console.error('Error during call to suggestCharts:', error);\n",
              "      }\n",
              "      quickchartButtonEl.classList.remove('colab-df-spinner');\n",
              "      quickchartButtonEl.classList.add('colab-df-quickchart-complete');\n",
              "    }\n",
              "    (() => {\n",
              "      let quickchartButtonEl =\n",
              "        document.querySelector('#df-1bcae75e-009e-42db-8bf5-6be9b0ace548 button');\n",
              "      quickchartButtonEl.style.display =\n",
              "        google.colab.kernel.accessAllowed ? 'block' : 'none';\n",
              "    })();\n",
              "  </script>\n",
              "</div>\n",
              "\n",
              "  <div id=\"id_baa50ff2-4bb5-4c87-82ba-5b87721ce245\">\n",
              "    <style>\n",
              "      .colab-df-generate {\n",
              "        background-color: #E8F0FE;\n",
              "        border: none;\n",
              "        border-radius: 50%;\n",
              "        cursor: pointer;\n",
              "        display: none;\n",
              "        fill: #1967D2;\n",
              "        height: 32px;\n",
              "        padding: 0 0 0 0;\n",
              "        width: 32px;\n",
              "      }\n",
              "\n",
              "      .colab-df-generate:hover {\n",
              "        background-color: #E2EBFA;\n",
              "        box-shadow: 0px 1px 2px rgba(60, 64, 67, 0.3), 0px 1px 3px 1px rgba(60, 64, 67, 0.15);\n",
              "        fill: #174EA6;\n",
              "      }\n",
              "\n",
              "      [theme=dark] .colab-df-generate {\n",
              "        background-color: #3B4455;\n",
              "        fill: #D2E3FC;\n",
              "      }\n",
              "\n",
              "      [theme=dark] .colab-df-generate:hover {\n",
              "        background-color: #434B5C;\n",
              "        box-shadow: 0px 1px 3px 1px rgba(0, 0, 0, 0.15);\n",
              "        filter: drop-shadow(0px 1px 2px rgba(0, 0, 0, 0.3));\n",
              "        fill: #FFFFFF;\n",
              "      }\n",
              "    </style>\n",
              "    <button class=\"colab-df-generate\" onclick=\"generateWithVariable('df')\"\n",
              "            title=\"Generate code using this dataframe.\"\n",
              "            style=\"display:none;\">\n",
              "\n",
              "  <svg xmlns=\"http://www.w3.org/2000/svg\" height=\"24px\"viewBox=\"0 0 24 24\"\n",
              "       width=\"24px\">\n",
              "    <path d=\"M7,19H8.4L18.45,9,17,7.55,7,17.6ZM5,21V16.75L18.45,3.32a2,2,0,0,1,2.83,0l1.4,1.43a1.91,1.91,0,0,1,.58,1.4,1.91,1.91,0,0,1-.58,1.4L9.25,21ZM18.45,9,17,7.55Zm-12,3A5.31,5.31,0,0,0,4.9,8.1,5.31,5.31,0,0,0,1,6.5,5.31,5.31,0,0,0,4.9,4.9,5.31,5.31,0,0,0,6.5,1,5.31,5.31,0,0,0,8.1,4.9,5.31,5.31,0,0,0,12,6.5,5.46,5.46,0,0,0,6.5,12Z\"/>\n",
              "  </svg>\n",
              "    </button>\n",
              "    <script>\n",
              "      (() => {\n",
              "      const buttonEl =\n",
              "        document.querySelector('#id_baa50ff2-4bb5-4c87-82ba-5b87721ce245 button.colab-df-generate');\n",
              "      buttonEl.style.display =\n",
              "        google.colab.kernel.accessAllowed ? 'block' : 'none';\n",
              "\n",
              "      buttonEl.onclick = () => {\n",
              "        google.colab.notebook.generateWithVariable('df');\n",
              "      }\n",
              "      })();\n",
              "    </script>\n",
              "  </div>\n",
              "\n",
              "    </div>\n",
              "  </div>\n"
            ],
            "application/vnd.google.colaboratory.intrinsic+json": {
              "type": "dataframe",
              "variable_name": "df",
              "summary": "{\n  \"name\": \"df\",\n  \"rows\": 58271,\n  \"fields\": [\n    {\n      \"column\": \"Unnamed: 0\",\n      \"properties\": {\n        \"dtype\": \"number\",\n        \"std\": 16821,\n        \"min\": 0,\n        \"max\": 58270,\n        \"num_unique_values\": 58271,\n        \"samples\": [\n          12486,\n          28447,\n          26095\n        ],\n        \"semantic_type\": \"\",\n        \"description\": \"\"\n      }\n    },\n    {\n      \"column\": \"original\",\n      \"properties\": {\n        \"dtype\": \"string\",\n        \"num_unique_values\": 57771,\n        \"samples\": [\n          \"\\uac1c\\ud559\\ud558\\uae30\\uc804\\uc5d0\\ubc29\\ud559\\uc219\\uc81c\\ub97c\\ubaa8\\ub450\\ub05d\\ub0b4\\ub193\\uc544\\uc11c\\ub9c8\\uc74c\\uc774\\uc5ec\\uc720\\ub85c\\uc6cc\\ubc29\\ud559\\uc219\\uc81c\\ub97c\\ubbf8\\ub9ac\\ub2e4\\ud574\\ub1a8\\uc73c\\ub2c8\\uc5ec\\ub7ec\\uac00\\uc9c0\\uc77c\\ub4e4\\uc744\\ud574\\ubcf4\\ub824\\uace0\",\n          \"\\uc774\\ubc88\\uc5d0\\ub3c4\\ub610\\uba74\\uc811\\uc5d0\\uc11c\\ub5a8\\uc5b4\\uc84c\\ub124\\ub0b4\\uac00\\ub108\\ubb34\\ub6b1\\ub6b1\\ud574\\uc11c\\uc774\\ub300\\ub85c\\ub77c\\uba74\\uac00\\ub9dd\\uc774\\uc5c6\\uaca0\\uc5b4\\ub610\\ub2e4\\ub978\\uba74\\uc811\\uc744\\ubcfc\\uc790\\uc2e0\\uc774\\uc5c6\\uc5b4\\ub098\\ub294\\uc798\\uc548\\ub420\\uac70\\uc57c\",\n          \"\\ud734\\uc5c4\\ub9c8\\uac00\\ub610\\uacb0\\ud63c\\uc5b8\\uc81c\\ud558\\ub0d0\\uace0\\uc131\\ud654\\uc57c\\ud558\\uae34\\ud560\\uac74\\ub370\\uc9c0\\uae08\\ub2f9\\uc7a5\\uc740\\ud558\\uace0\\uc2f6\\uc9c0\\uc54a\\uc544\\ub0b4\\ucee4\\ub9ac\\uc5b4\\ub3c4\\uc911\\uc694\\ud558\\ub2e8\\ub9d0\\uc774\\uc57c\"\n        ],\n        \"semantic_type\": \"\",\n        \"description\": \"\"\n      }\n    },\n    {\n      \"column\": \"checked\",\n      \"properties\": {\n        \"dtype\": \"string\",\n        \"num_unique_values\": 57746,\n        \"samples\": [\n          \"\\ud559\\uad50 \\uac00\\uae30\\uac00 \\ub108\\ubb34 \\uc2eb\\uc5b4\\uc11c \\uc624\\ub298 \\uc120\\uc0dd\\ub2d8\\uaed8 \\uc544\\ud504\\ub2e4\\uace0 \\uac70\\uc9d3\\ub9d0\\ud558\\uace0 \\ud559\\uad50\\ub97c \\uc548 \\uac14\\uc5b4 \\ucc98\\uc74c\\uc5d0\\ub294 \\ud559\\uad50\\ub97c \\uc548 \\uac00\\ub3c4 \\ub3fc\\uc11c \\uc88b\\uc558\\ub294\\ub370 \\uc9c0\\uae08\\uc740 \\uac70\\uc9d3\\ub9d0\\ud55c \\uac83 \\ub54c\\ubb38\\uc5d0 \\ub9c8\\uc74c\\uc774 \\ubd88\\ud3b8\\ud574\",\n          \"\\ubcd1\\uc0c1\\uc5d0 \\uc788\\uc744 \\ub54c \\uac00\\uc871\\ub4e4\\uc5d0\\uac8c \\ud654\\ub0b4\\uace0 \\ud22c\\uc815 \\ubd80\\ub838\\ub358 \\uac83\\uc774 \\ubbf8\\uc548\\ud558\\uace0 \\ub9c8\\uc74c\\uc5d0 \\ub0a8\\ub124 \\ub098\\ub9cc \\ud798\\ub4e0 \\uac8c \\uc544\\ub2c8\\ub77c \\uac00\\uc871\\ub4e4\\ub3c4 \\ub2e4 \\uac19\\uc774 \\ud798\\ub4e4\\uace0 \\ud56d\\uc0c1 \\ub0b4 \\uac71\\uc815\\uc744 \\ud588\\uc5c8\\uc744 \\ud150\\ub370 \\ub9d0\\uc774\\uc57c\",\n          \"\\uc624\\ub298 \\uc6b0\\ub9ac \\ub0a8\\ud3b8\\uc774\\ub791 \\uc544\\uc774\\ub4e4\\uc774\\ub791 \\uc678\\uc2dd\\ud558\\ub7ec \\uc2dd\\ub2f9\\uc5d0 \\uac14\\uc5c8\\uc5b4 \\uc751 \\ub9de\\uc544 \\uc6b0\\ub9ac \\uc9d1\\ucc98\\ub7fc \\uc774\\ub807\\uac8c \\uac00\\uc871\\ubaa8\\uc784\\uc744 \\uc18c\\uc911\\ud788 \\uc5ec\\uae30\\ub294 \\uc0ac\\ub78c\\ub4e4\\uc774 \\ub9ce\\uc774 \\uc5c6\\uc744 \\uac83 \\uac19\\uc544\"\n        ],\n        \"semantic_type\": \"\",\n        \"description\": \"\"\n      }\n    },\n    {\n      \"column\": \"words\",\n      \"properties\": {\n        \"dtype\": \"string\",\n        \"num_unique_values\": 57767,\n        \"samples\": [\n          \"OrderedDict([('\\uc55e\\uc9d1', 2), ('\\uc601\\uac10\\uc774', 2), ('\\uac11\\uc790\\uae30', 2), ('\\uc4f0\\ub7ec\\uc838\\uc11c', 2), ('\\ubcd1\\uc6d0\\uc5d0', 2), ('\\uc785\\uc6d0\\ud588\\ub2e4\\ub354\\uad70', 2), ('\\ud3c9\\uc18c\\uc5d0', 2), ('\\ub9c8\\uc74c\\uc744', 2), ('\\uacf1\\uac8c', 2), ('\\uc4f0\\uc9c0', 2), ('\\uc54a\\uc73c\\ub2c8', 2), ('\\uadf8\\ub807\\uac8c', 2), ('\\ub420', 2), ('\\uc904', 2), ('\\uc54c\\uc558\\uc5b4', 2)])\",\n          \"OrderedDict([('\\ub09c', 2), ('\\ub9d0\\uc744', 2), ('\\ubabb', 2), ('\\ud558\\ub294', 2), ('\\ubc99\\uc5b4\\ub9ac\\uc57c', 2), ('\\uadfc\\ub370', 2), ('\\uc694\\uc998', 2), ('\\ubc29\\uce58\\ub41c', 2), ('\\uae30\\ubd84\\uc774', 2), ('\\ub4e4\\uc5b4', 2), ('\\uc2ac\\ud37c', 2), ('\\uac00\\uc871\\ub4e4', 2), ('\\ub300\\ud654\\uc5d0', 2), ('\\ub07c\\uace0', 2), ('\\uc2f6\\uc740\\ub370', 2), ('\\uc18c\\ud1b5\\uc774', 2), ('\\uc548\\ub418\\uace0', 2), ('\\uac00\\uc871\\ub4e4\\uc740', 2), ('\\ubb34\\uc870\\uac74', 2), ('\\uad1c\\ucc2e\\ub2e4\\uace0\\ub9cc', 2), ('\\ud574', 2)])\",\n          \"OrderedDict([('\\ud6c4', 4), ('\\uc5c4\\ub9c8\\uac00', 4), ('\\ub610', 4), ('\\uacb0\\ud63c', 4), ('\\uc5b8\\uc81c', 4), ('\\ud558\\ub0d0\\uace0', 4), ('\\uc131\\ud654\\uc57c', 4), ('\\ud558\\uae34', 4), ('\\ud560', 4), ('\\uac74\\ub370', 4), ('\\uc9c0\\uae08', 4), ('\\ub2f9\\uc7a5\\uc740', 4), ('\\ud558\\uace0', 4), ('\\uc2f6\\uc9c0', 4), ('\\uc54a\\uc544\\ub0b4', 4), ('\\ucee4\\ub9ac\\uc5b4\\ub3c4', 4), ('\\uc911\\uc694\\ud558\\ub2e8', 4), ('\\ub9d0\\uc774\\uc57c', 4)])\"\n        ],\n        \"semantic_type\": \"\",\n        \"description\": \"\"\n      }\n    },\n    {\n      \"column\": \"emotion\",\n      \"properties\": {\n        \"dtype\": \"category\",\n        \"num_unique_values\": 6,\n        \"samples\": [\n          \"\\ubd84\\ub178\",\n          \"\\uae30\\uc068\",\n          \"\\uc0c1\\ucc98\"\n        ],\n        \"semantic_type\": \"\",\n        \"description\": \"\"\n      }\n    }\n  ]\n}"
            }
          },
          "metadata": {},
          "execution_count": 7
        }
      ]
    },
    {
      "cell_type": "code",
      "source": [
        "df = df.drop(['Unnamed: 0','original', 'words'], axis=1)\n",
        "df.head()"
      ],
      "metadata": {
        "colab": {
          "base_uri": "https://localhost:8080/",
          "height": 206
        },
        "id": "hRdE2bNcQcox",
        "outputId": "c685b8ee-f061-48ca-b7d8-95c33b82b6e4"
      },
      "execution_count": 8,
      "outputs": [
        {
          "output_type": "execute_result",
          "data": {
            "text/plain": [
              "   Unnamed: 0                                            checked emotion\n",
              "0           0  일은 왜 해도 해도 끝이 없을까? 화가 난다 그냥 내가 해결하는 게 나아 남들한테 ...      분노\n",
              "1           1  이번 달에 또 급여가 깎였어! 물가는 오르는데 월급만 자꾸 깎이니까 너무 화가 나 ...      분노\n",
              "2           2  회사에 신입이 들어왔는데 말투가 거슬려 그런 애를 매일 봐야 한다고 생각하니까 스트...      분노\n",
              "3           3  직장에서 막내라는 이유로 나에게만 온갖 심부름을 시켜 일도 많은데 정말 분하고 섭섭...      분노\n",
              "4           4  얼마 전 입사한 신입사원이 나를 무시하는 것 같아서 너무 화가 나 상사 일어나에 게...      분노"
            ],
            "text/html": [
              "\n",
              "  <div id=\"df-a56687e4-281d-4cde-985c-49cc667034a4\" class=\"colab-df-container\">\n",
              "    <div>\n",
              "<style scoped>\n",
              "    .dataframe tbody tr th:only-of-type {\n",
              "        vertical-align: middle;\n",
              "    }\n",
              "\n",
              "    .dataframe tbody tr th {\n",
              "        vertical-align: top;\n",
              "    }\n",
              "\n",
              "    .dataframe thead th {\n",
              "        text-align: right;\n",
              "    }\n",
              "</style>\n",
              "<table border=\"1\" class=\"dataframe\">\n",
              "  <thead>\n",
              "    <tr style=\"text-align: right;\">\n",
              "      <th></th>\n",
              "      <th>Unnamed: 0</th>\n",
              "      <th>checked</th>\n",
              "      <th>emotion</th>\n",
              "    </tr>\n",
              "  </thead>\n",
              "  <tbody>\n",
              "    <tr>\n",
              "      <th>0</th>\n",
              "      <td>0</td>\n",
              "      <td>일은 왜 해도 해도 끝이 없을까? 화가 난다 그냥 내가 해결하는 게 나아 남들한테 ...</td>\n",
              "      <td>분노</td>\n",
              "    </tr>\n",
              "    <tr>\n",
              "      <th>1</th>\n",
              "      <td>1</td>\n",
              "      <td>이번 달에 또 급여가 깎였어! 물가는 오르는데 월급만 자꾸 깎이니까 너무 화가 나 ...</td>\n",
              "      <td>분노</td>\n",
              "    </tr>\n",
              "    <tr>\n",
              "      <th>2</th>\n",
              "      <td>2</td>\n",
              "      <td>회사에 신입이 들어왔는데 말투가 거슬려 그런 애를 매일 봐야 한다고 생각하니까 스트...</td>\n",
              "      <td>분노</td>\n",
              "    </tr>\n",
              "    <tr>\n",
              "      <th>3</th>\n",
              "      <td>3</td>\n",
              "      <td>직장에서 막내라는 이유로 나에게만 온갖 심부름을 시켜 일도 많은데 정말 분하고 섭섭...</td>\n",
              "      <td>분노</td>\n",
              "    </tr>\n",
              "    <tr>\n",
              "      <th>4</th>\n",
              "      <td>4</td>\n",
              "      <td>얼마 전 입사한 신입사원이 나를 무시하는 것 같아서 너무 화가 나 상사 일어나에 게...</td>\n",
              "      <td>분노</td>\n",
              "    </tr>\n",
              "  </tbody>\n",
              "</table>\n",
              "</div>\n",
              "    <div class=\"colab-df-buttons\">\n",
              "\n",
              "  <div class=\"colab-df-container\">\n",
              "    <button class=\"colab-df-convert\" onclick=\"convertToInteractive('df-a56687e4-281d-4cde-985c-49cc667034a4')\"\n",
              "            title=\"Convert this dataframe to an interactive table.\"\n",
              "            style=\"display:none;\">\n",
              "\n",
              "  <svg xmlns=\"http://www.w3.org/2000/svg\" height=\"24px\" viewBox=\"0 -960 960 960\">\n",
              "    <path d=\"M120-120v-720h720v720H120Zm60-500h600v-160H180v160Zm220 220h160v-160H400v160Zm0 220h160v-160H400v160ZM180-400h160v-160H180v160Zm440 0h160v-160H620v160ZM180-180h160v-160H180v160Zm440 0h160v-160H620v160Z\"/>\n",
              "  </svg>\n",
              "    </button>\n",
              "\n",
              "  <style>\n",
              "    .colab-df-container {\n",
              "      display:flex;\n",
              "      gap: 12px;\n",
              "    }\n",
              "\n",
              "    .colab-df-convert {\n",
              "      background-color: #E8F0FE;\n",
              "      border: none;\n",
              "      border-radius: 50%;\n",
              "      cursor: pointer;\n",
              "      display: none;\n",
              "      fill: #1967D2;\n",
              "      height: 32px;\n",
              "      padding: 0 0 0 0;\n",
              "      width: 32px;\n",
              "    }\n",
              "\n",
              "    .colab-df-convert:hover {\n",
              "      background-color: #E2EBFA;\n",
              "      box-shadow: 0px 1px 2px rgba(60, 64, 67, 0.3), 0px 1px 3px 1px rgba(60, 64, 67, 0.15);\n",
              "      fill: #174EA6;\n",
              "    }\n",
              "\n",
              "    .colab-df-buttons div {\n",
              "      margin-bottom: 4px;\n",
              "    }\n",
              "\n",
              "    [theme=dark] .colab-df-convert {\n",
              "      background-color: #3B4455;\n",
              "      fill: #D2E3FC;\n",
              "    }\n",
              "\n",
              "    [theme=dark] .colab-df-convert:hover {\n",
              "      background-color: #434B5C;\n",
              "      box-shadow: 0px 1px 3px 1px rgba(0, 0, 0, 0.15);\n",
              "      filter: drop-shadow(0px 1px 2px rgba(0, 0, 0, 0.3));\n",
              "      fill: #FFFFFF;\n",
              "    }\n",
              "  </style>\n",
              "\n",
              "    <script>\n",
              "      const buttonEl =\n",
              "        document.querySelector('#df-a56687e4-281d-4cde-985c-49cc667034a4 button.colab-df-convert');\n",
              "      buttonEl.style.display =\n",
              "        google.colab.kernel.accessAllowed ? 'block' : 'none';\n",
              "\n",
              "      async function convertToInteractive(key) {\n",
              "        const element = document.querySelector('#df-a56687e4-281d-4cde-985c-49cc667034a4');\n",
              "        const dataTable =\n",
              "          await google.colab.kernel.invokeFunction('convertToInteractive',\n",
              "                                                    [key], {});\n",
              "        if (!dataTable) return;\n",
              "\n",
              "        const docLinkHtml = 'Like what you see? Visit the ' +\n",
              "          '<a target=\"_blank\" href=https://colab.research.google.com/notebooks/data_table.ipynb>data table notebook</a>'\n",
              "          + ' to learn more about interactive tables.';\n",
              "        element.innerHTML = '';\n",
              "        dataTable['output_type'] = 'display_data';\n",
              "        await google.colab.output.renderOutput(dataTable, element);\n",
              "        const docLink = document.createElement('div');\n",
              "        docLink.innerHTML = docLinkHtml;\n",
              "        element.appendChild(docLink);\n",
              "      }\n",
              "    </script>\n",
              "  </div>\n",
              "\n",
              "\n",
              "<div id=\"df-3d8cfa2c-dc11-4f49-bad5-ee627f5e21f9\">\n",
              "  <button class=\"colab-df-quickchart\" onclick=\"quickchart('df-3d8cfa2c-dc11-4f49-bad5-ee627f5e21f9')\"\n",
              "            title=\"Suggest charts\"\n",
              "            style=\"display:none;\">\n",
              "\n",
              "<svg xmlns=\"http://www.w3.org/2000/svg\" height=\"24px\"viewBox=\"0 0 24 24\"\n",
              "     width=\"24px\">\n",
              "    <g>\n",
              "        <path d=\"M19 3H5c-1.1 0-2 .9-2 2v14c0 1.1.9 2 2 2h14c1.1 0 2-.9 2-2V5c0-1.1-.9-2-2-2zM9 17H7v-7h2v7zm4 0h-2V7h2v10zm4 0h-2v-4h2v4z\"/>\n",
              "    </g>\n",
              "</svg>\n",
              "  </button>\n",
              "\n",
              "<style>\n",
              "  .colab-df-quickchart {\n",
              "      --bg-color: #E8F0FE;\n",
              "      --fill-color: #1967D2;\n",
              "      --hover-bg-color: #E2EBFA;\n",
              "      --hover-fill-color: #174EA6;\n",
              "      --disabled-fill-color: #AAA;\n",
              "      --disabled-bg-color: #DDD;\n",
              "  }\n",
              "\n",
              "  [theme=dark] .colab-df-quickchart {\n",
              "      --bg-color: #3B4455;\n",
              "      --fill-color: #D2E3FC;\n",
              "      --hover-bg-color: #434B5C;\n",
              "      --hover-fill-color: #FFFFFF;\n",
              "      --disabled-bg-color: #3B4455;\n",
              "      --disabled-fill-color: #666;\n",
              "  }\n",
              "\n",
              "  .colab-df-quickchart {\n",
              "    background-color: var(--bg-color);\n",
              "    border: none;\n",
              "    border-radius: 50%;\n",
              "    cursor: pointer;\n",
              "    display: none;\n",
              "    fill: var(--fill-color);\n",
              "    height: 32px;\n",
              "    padding: 0;\n",
              "    width: 32px;\n",
              "  }\n",
              "\n",
              "  .colab-df-quickchart:hover {\n",
              "    background-color: var(--hover-bg-color);\n",
              "    box-shadow: 0 1px 2px rgba(60, 64, 67, 0.3), 0 1px 3px 1px rgba(60, 64, 67, 0.15);\n",
              "    fill: var(--button-hover-fill-color);\n",
              "  }\n",
              "\n",
              "  .colab-df-quickchart-complete:disabled,\n",
              "  .colab-df-quickchart-complete:disabled:hover {\n",
              "    background-color: var(--disabled-bg-color);\n",
              "    fill: var(--disabled-fill-color);\n",
              "    box-shadow: none;\n",
              "  }\n",
              "\n",
              "  .colab-df-spinner {\n",
              "    border: 2px solid var(--fill-color);\n",
              "    border-color: transparent;\n",
              "    border-bottom-color: var(--fill-color);\n",
              "    animation:\n",
              "      spin 1s steps(1) infinite;\n",
              "  }\n",
              "\n",
              "  @keyframes spin {\n",
              "    0% {\n",
              "      border-color: transparent;\n",
              "      border-bottom-color: var(--fill-color);\n",
              "      border-left-color: var(--fill-color);\n",
              "    }\n",
              "    20% {\n",
              "      border-color: transparent;\n",
              "      border-left-color: var(--fill-color);\n",
              "      border-top-color: var(--fill-color);\n",
              "    }\n",
              "    30% {\n",
              "      border-color: transparent;\n",
              "      border-left-color: var(--fill-color);\n",
              "      border-top-color: var(--fill-color);\n",
              "      border-right-color: var(--fill-color);\n",
              "    }\n",
              "    40% {\n",
              "      border-color: transparent;\n",
              "      border-right-color: var(--fill-color);\n",
              "      border-top-color: var(--fill-color);\n",
              "    }\n",
              "    60% {\n",
              "      border-color: transparent;\n",
              "      border-right-color: var(--fill-color);\n",
              "    }\n",
              "    80% {\n",
              "      border-color: transparent;\n",
              "      border-right-color: var(--fill-color);\n",
              "      border-bottom-color: var(--fill-color);\n",
              "    }\n",
              "    90% {\n",
              "      border-color: transparent;\n",
              "      border-bottom-color: var(--fill-color);\n",
              "    }\n",
              "  }\n",
              "</style>\n",
              "\n",
              "  <script>\n",
              "    async function quickchart(key) {\n",
              "      const quickchartButtonEl =\n",
              "        document.querySelector('#' + key + ' button');\n",
              "      quickchartButtonEl.disabled = true;  // To prevent multiple clicks.\n",
              "      quickchartButtonEl.classList.add('colab-df-spinner');\n",
              "      try {\n",
              "        const charts = await google.colab.kernel.invokeFunction(\n",
              "            'suggestCharts', [key], {});\n",
              "      } catch (error) {\n",
              "        console.error('Error during call to suggestCharts:', error);\n",
              "      }\n",
              "      quickchartButtonEl.classList.remove('colab-df-spinner');\n",
              "      quickchartButtonEl.classList.add('colab-df-quickchart-complete');\n",
              "    }\n",
              "    (() => {\n",
              "      let quickchartButtonEl =\n",
              "        document.querySelector('#df-3d8cfa2c-dc11-4f49-bad5-ee627f5e21f9 button');\n",
              "      quickchartButtonEl.style.display =\n",
              "        google.colab.kernel.accessAllowed ? 'block' : 'none';\n",
              "    })();\n",
              "  </script>\n",
              "</div>\n",
              "\n",
              "    </div>\n",
              "  </div>\n"
            ],
            "application/vnd.google.colaboratory.intrinsic+json": {
              "type": "dataframe",
              "variable_name": "df",
              "summary": "{\n  \"name\": \"df\",\n  \"rows\": 58271,\n  \"fields\": [\n    {\n      \"column\": \"Unnamed: 0\",\n      \"properties\": {\n        \"dtype\": \"number\",\n        \"std\": 16821,\n        \"min\": 0,\n        \"max\": 58270,\n        \"num_unique_values\": 58271,\n        \"samples\": [\n          12486,\n          28447,\n          26095\n        ],\n        \"semantic_type\": \"\",\n        \"description\": \"\"\n      }\n    },\n    {\n      \"column\": \"checked\",\n      \"properties\": {\n        \"dtype\": \"string\",\n        \"num_unique_values\": 57746,\n        \"samples\": [\n          \"\\ud559\\uad50 \\uac00\\uae30\\uac00 \\ub108\\ubb34 \\uc2eb\\uc5b4\\uc11c \\uc624\\ub298 \\uc120\\uc0dd\\ub2d8\\uaed8 \\uc544\\ud504\\ub2e4\\uace0 \\uac70\\uc9d3\\ub9d0\\ud558\\uace0 \\ud559\\uad50\\ub97c \\uc548 \\uac14\\uc5b4 \\ucc98\\uc74c\\uc5d0\\ub294 \\ud559\\uad50\\ub97c \\uc548 \\uac00\\ub3c4 \\ub3fc\\uc11c \\uc88b\\uc558\\ub294\\ub370 \\uc9c0\\uae08\\uc740 \\uac70\\uc9d3\\ub9d0\\ud55c \\uac83 \\ub54c\\ubb38\\uc5d0 \\ub9c8\\uc74c\\uc774 \\ubd88\\ud3b8\\ud574\",\n          \"\\ubcd1\\uc0c1\\uc5d0 \\uc788\\uc744 \\ub54c \\uac00\\uc871\\ub4e4\\uc5d0\\uac8c \\ud654\\ub0b4\\uace0 \\ud22c\\uc815 \\ubd80\\ub838\\ub358 \\uac83\\uc774 \\ubbf8\\uc548\\ud558\\uace0 \\ub9c8\\uc74c\\uc5d0 \\ub0a8\\ub124 \\ub098\\ub9cc \\ud798\\ub4e0 \\uac8c \\uc544\\ub2c8\\ub77c \\uac00\\uc871\\ub4e4\\ub3c4 \\ub2e4 \\uac19\\uc774 \\ud798\\ub4e4\\uace0 \\ud56d\\uc0c1 \\ub0b4 \\uac71\\uc815\\uc744 \\ud588\\uc5c8\\uc744 \\ud150\\ub370 \\ub9d0\\uc774\\uc57c\",\n          \"\\uc624\\ub298 \\uc6b0\\ub9ac \\ub0a8\\ud3b8\\uc774\\ub791 \\uc544\\uc774\\ub4e4\\uc774\\ub791 \\uc678\\uc2dd\\ud558\\ub7ec \\uc2dd\\ub2f9\\uc5d0 \\uac14\\uc5c8\\uc5b4 \\uc751 \\ub9de\\uc544 \\uc6b0\\ub9ac \\uc9d1\\ucc98\\ub7fc \\uc774\\ub807\\uac8c \\uac00\\uc871\\ubaa8\\uc784\\uc744 \\uc18c\\uc911\\ud788 \\uc5ec\\uae30\\ub294 \\uc0ac\\ub78c\\ub4e4\\uc774 \\ub9ce\\uc774 \\uc5c6\\uc744 \\uac83 \\uac19\\uc544\"\n        ],\n        \"semantic_type\": \"\",\n        \"description\": \"\"\n      }\n    },\n    {\n      \"column\": \"emotion\",\n      \"properties\": {\n        \"dtype\": \"category\",\n        \"num_unique_values\": 6,\n        \"samples\": [\n          \"\\ubd84\\ub178\",\n          \"\\uae30\\uc068\",\n          \"\\uc0c1\\ucc98\"\n        ],\n        \"semantic_type\": \"\",\n        \"description\": \"\"\n      }\n    }\n  ]\n}"
            }
          },
          "metadata": {},
          "execution_count": 8
        }
      ]
    },
    {
      "cell_type": "code",
      "source": [
        "df = df.drop(['Unnamed: 0'], axis=1)\n",
        "df.head()"
      ],
      "metadata": {
        "colab": {
          "base_uri": "https://localhost:8080/",
          "height": 206
        },
        "id": "bnnvIlNf3zlE",
        "outputId": "667efba3-3fea-4d42-d7e8-6c494eb70672"
      },
      "execution_count": 9,
      "outputs": [
        {
          "output_type": "execute_result",
          "data": {
            "text/plain": [
              "                                             checked emotion\n",
              "0  일은 왜 해도 해도 끝이 없을까? 화가 난다 그냥 내가 해결하는 게 나아 남들한테 ...      분노\n",
              "1  이번 달에 또 급여가 깎였어! 물가는 오르는데 월급만 자꾸 깎이니까 너무 화가 나 ...      분노\n",
              "2  회사에 신입이 들어왔는데 말투가 거슬려 그런 애를 매일 봐야 한다고 생각하니까 스트...      분노\n",
              "3  직장에서 막내라는 이유로 나에게만 온갖 심부름을 시켜 일도 많은데 정말 분하고 섭섭...      분노\n",
              "4  얼마 전 입사한 신입사원이 나를 무시하는 것 같아서 너무 화가 나 상사 일어나에 게...      분노"
            ],
            "text/html": [
              "\n",
              "  <div id=\"df-fae9afbc-27ad-407d-a726-90b39e895f51\" class=\"colab-df-container\">\n",
              "    <div>\n",
              "<style scoped>\n",
              "    .dataframe tbody tr th:only-of-type {\n",
              "        vertical-align: middle;\n",
              "    }\n",
              "\n",
              "    .dataframe tbody tr th {\n",
              "        vertical-align: top;\n",
              "    }\n",
              "\n",
              "    .dataframe thead th {\n",
              "        text-align: right;\n",
              "    }\n",
              "</style>\n",
              "<table border=\"1\" class=\"dataframe\">\n",
              "  <thead>\n",
              "    <tr style=\"text-align: right;\">\n",
              "      <th></th>\n",
              "      <th>checked</th>\n",
              "      <th>emotion</th>\n",
              "    </tr>\n",
              "  </thead>\n",
              "  <tbody>\n",
              "    <tr>\n",
              "      <th>0</th>\n",
              "      <td>일은 왜 해도 해도 끝이 없을까? 화가 난다 그냥 내가 해결하는 게 나아 남들한테 ...</td>\n",
              "      <td>분노</td>\n",
              "    </tr>\n",
              "    <tr>\n",
              "      <th>1</th>\n",
              "      <td>이번 달에 또 급여가 깎였어! 물가는 오르는데 월급만 자꾸 깎이니까 너무 화가 나 ...</td>\n",
              "      <td>분노</td>\n",
              "    </tr>\n",
              "    <tr>\n",
              "      <th>2</th>\n",
              "      <td>회사에 신입이 들어왔는데 말투가 거슬려 그런 애를 매일 봐야 한다고 생각하니까 스트...</td>\n",
              "      <td>분노</td>\n",
              "    </tr>\n",
              "    <tr>\n",
              "      <th>3</th>\n",
              "      <td>직장에서 막내라는 이유로 나에게만 온갖 심부름을 시켜 일도 많은데 정말 분하고 섭섭...</td>\n",
              "      <td>분노</td>\n",
              "    </tr>\n",
              "    <tr>\n",
              "      <th>4</th>\n",
              "      <td>얼마 전 입사한 신입사원이 나를 무시하는 것 같아서 너무 화가 나 상사 일어나에 게...</td>\n",
              "      <td>분노</td>\n",
              "    </tr>\n",
              "  </tbody>\n",
              "</table>\n",
              "</div>\n",
              "    <div class=\"colab-df-buttons\">\n",
              "\n",
              "  <div class=\"colab-df-container\">\n",
              "    <button class=\"colab-df-convert\" onclick=\"convertToInteractive('df-fae9afbc-27ad-407d-a726-90b39e895f51')\"\n",
              "            title=\"Convert this dataframe to an interactive table.\"\n",
              "            style=\"display:none;\">\n",
              "\n",
              "  <svg xmlns=\"http://www.w3.org/2000/svg\" height=\"24px\" viewBox=\"0 -960 960 960\">\n",
              "    <path d=\"M120-120v-720h720v720H120Zm60-500h600v-160H180v160Zm220 220h160v-160H400v160Zm0 220h160v-160H400v160ZM180-400h160v-160H180v160Zm440 0h160v-160H620v160ZM180-180h160v-160H180v160Zm440 0h160v-160H620v160Z\"/>\n",
              "  </svg>\n",
              "    </button>\n",
              "\n",
              "  <style>\n",
              "    .colab-df-container {\n",
              "      display:flex;\n",
              "      gap: 12px;\n",
              "    }\n",
              "\n",
              "    .colab-df-convert {\n",
              "      background-color: #E8F0FE;\n",
              "      border: none;\n",
              "      border-radius: 50%;\n",
              "      cursor: pointer;\n",
              "      display: none;\n",
              "      fill: #1967D2;\n",
              "      height: 32px;\n",
              "      padding: 0 0 0 0;\n",
              "      width: 32px;\n",
              "    }\n",
              "\n",
              "    .colab-df-convert:hover {\n",
              "      background-color: #E2EBFA;\n",
              "      box-shadow: 0px 1px 2px rgba(60, 64, 67, 0.3), 0px 1px 3px 1px rgba(60, 64, 67, 0.15);\n",
              "      fill: #174EA6;\n",
              "    }\n",
              "\n",
              "    .colab-df-buttons div {\n",
              "      margin-bottom: 4px;\n",
              "    }\n",
              "\n",
              "    [theme=dark] .colab-df-convert {\n",
              "      background-color: #3B4455;\n",
              "      fill: #D2E3FC;\n",
              "    }\n",
              "\n",
              "    [theme=dark] .colab-df-convert:hover {\n",
              "      background-color: #434B5C;\n",
              "      box-shadow: 0px 1px 3px 1px rgba(0, 0, 0, 0.15);\n",
              "      filter: drop-shadow(0px 1px 2px rgba(0, 0, 0, 0.3));\n",
              "      fill: #FFFFFF;\n",
              "    }\n",
              "  </style>\n",
              "\n",
              "    <script>\n",
              "      const buttonEl =\n",
              "        document.querySelector('#df-fae9afbc-27ad-407d-a726-90b39e895f51 button.colab-df-convert');\n",
              "      buttonEl.style.display =\n",
              "        google.colab.kernel.accessAllowed ? 'block' : 'none';\n",
              "\n",
              "      async function convertToInteractive(key) {\n",
              "        const element = document.querySelector('#df-fae9afbc-27ad-407d-a726-90b39e895f51');\n",
              "        const dataTable =\n",
              "          await google.colab.kernel.invokeFunction('convertToInteractive',\n",
              "                                                    [key], {});\n",
              "        if (!dataTable) return;\n",
              "\n",
              "        const docLinkHtml = 'Like what you see? Visit the ' +\n",
              "          '<a target=\"_blank\" href=https://colab.research.google.com/notebooks/data_table.ipynb>data table notebook</a>'\n",
              "          + ' to learn more about interactive tables.';\n",
              "        element.innerHTML = '';\n",
              "        dataTable['output_type'] = 'display_data';\n",
              "        await google.colab.output.renderOutput(dataTable, element);\n",
              "        const docLink = document.createElement('div');\n",
              "        docLink.innerHTML = docLinkHtml;\n",
              "        element.appendChild(docLink);\n",
              "      }\n",
              "    </script>\n",
              "  </div>\n",
              "\n",
              "\n",
              "<div id=\"df-5bad5bc8-4ea3-46bb-9363-c16cf0bdec73\">\n",
              "  <button class=\"colab-df-quickchart\" onclick=\"quickchart('df-5bad5bc8-4ea3-46bb-9363-c16cf0bdec73')\"\n",
              "            title=\"Suggest charts\"\n",
              "            style=\"display:none;\">\n",
              "\n",
              "<svg xmlns=\"http://www.w3.org/2000/svg\" height=\"24px\"viewBox=\"0 0 24 24\"\n",
              "     width=\"24px\">\n",
              "    <g>\n",
              "        <path d=\"M19 3H5c-1.1 0-2 .9-2 2v14c0 1.1.9 2 2 2h14c1.1 0 2-.9 2-2V5c0-1.1-.9-2-2-2zM9 17H7v-7h2v7zm4 0h-2V7h2v10zm4 0h-2v-4h2v4z\"/>\n",
              "    </g>\n",
              "</svg>\n",
              "  </button>\n",
              "\n",
              "<style>\n",
              "  .colab-df-quickchart {\n",
              "      --bg-color: #E8F0FE;\n",
              "      --fill-color: #1967D2;\n",
              "      --hover-bg-color: #E2EBFA;\n",
              "      --hover-fill-color: #174EA6;\n",
              "      --disabled-fill-color: #AAA;\n",
              "      --disabled-bg-color: #DDD;\n",
              "  }\n",
              "\n",
              "  [theme=dark] .colab-df-quickchart {\n",
              "      --bg-color: #3B4455;\n",
              "      --fill-color: #D2E3FC;\n",
              "      --hover-bg-color: #434B5C;\n",
              "      --hover-fill-color: #FFFFFF;\n",
              "      --disabled-bg-color: #3B4455;\n",
              "      --disabled-fill-color: #666;\n",
              "  }\n",
              "\n",
              "  .colab-df-quickchart {\n",
              "    background-color: var(--bg-color);\n",
              "    border: none;\n",
              "    border-radius: 50%;\n",
              "    cursor: pointer;\n",
              "    display: none;\n",
              "    fill: var(--fill-color);\n",
              "    height: 32px;\n",
              "    padding: 0;\n",
              "    width: 32px;\n",
              "  }\n",
              "\n",
              "  .colab-df-quickchart:hover {\n",
              "    background-color: var(--hover-bg-color);\n",
              "    box-shadow: 0 1px 2px rgba(60, 64, 67, 0.3), 0 1px 3px 1px rgba(60, 64, 67, 0.15);\n",
              "    fill: var(--button-hover-fill-color);\n",
              "  }\n",
              "\n",
              "  .colab-df-quickchart-complete:disabled,\n",
              "  .colab-df-quickchart-complete:disabled:hover {\n",
              "    background-color: var(--disabled-bg-color);\n",
              "    fill: var(--disabled-fill-color);\n",
              "    box-shadow: none;\n",
              "  }\n",
              "\n",
              "  .colab-df-spinner {\n",
              "    border: 2px solid var(--fill-color);\n",
              "    border-color: transparent;\n",
              "    border-bottom-color: var(--fill-color);\n",
              "    animation:\n",
              "      spin 1s steps(1) infinite;\n",
              "  }\n",
              "\n",
              "  @keyframes spin {\n",
              "    0% {\n",
              "      border-color: transparent;\n",
              "      border-bottom-color: var(--fill-color);\n",
              "      border-left-color: var(--fill-color);\n",
              "    }\n",
              "    20% {\n",
              "      border-color: transparent;\n",
              "      border-left-color: var(--fill-color);\n",
              "      border-top-color: var(--fill-color);\n",
              "    }\n",
              "    30% {\n",
              "      border-color: transparent;\n",
              "      border-left-color: var(--fill-color);\n",
              "      border-top-color: var(--fill-color);\n",
              "      border-right-color: var(--fill-color);\n",
              "    }\n",
              "    40% {\n",
              "      border-color: transparent;\n",
              "      border-right-color: var(--fill-color);\n",
              "      border-top-color: var(--fill-color);\n",
              "    }\n",
              "    60% {\n",
              "      border-color: transparent;\n",
              "      border-right-color: var(--fill-color);\n",
              "    }\n",
              "    80% {\n",
              "      border-color: transparent;\n",
              "      border-right-color: var(--fill-color);\n",
              "      border-bottom-color: var(--fill-color);\n",
              "    }\n",
              "    90% {\n",
              "      border-color: transparent;\n",
              "      border-bottom-color: var(--fill-color);\n",
              "    }\n",
              "  }\n",
              "</style>\n",
              "\n",
              "  <script>\n",
              "    async function quickchart(key) {\n",
              "      const quickchartButtonEl =\n",
              "        document.querySelector('#' + key + ' button');\n",
              "      quickchartButtonEl.disabled = true;  // To prevent multiple clicks.\n",
              "      quickchartButtonEl.classList.add('colab-df-spinner');\n",
              "      try {\n",
              "        const charts = await google.colab.kernel.invokeFunction(\n",
              "            'suggestCharts', [key], {});\n",
              "      } catch (error) {\n",
              "        console.error('Error during call to suggestCharts:', error);\n",
              "      }\n",
              "      quickchartButtonEl.classList.remove('colab-df-spinner');\n",
              "      quickchartButtonEl.classList.add('colab-df-quickchart-complete');\n",
              "    }\n",
              "    (() => {\n",
              "      let quickchartButtonEl =\n",
              "        document.querySelector('#df-5bad5bc8-4ea3-46bb-9363-c16cf0bdec73 button');\n",
              "      quickchartButtonEl.style.display =\n",
              "        google.colab.kernel.accessAllowed ? 'block' : 'none';\n",
              "    })();\n",
              "  </script>\n",
              "</div>\n",
              "\n",
              "    </div>\n",
              "  </div>\n"
            ],
            "application/vnd.google.colaboratory.intrinsic+json": {
              "type": "dataframe",
              "variable_name": "df",
              "summary": "{\n  \"name\": \"df\",\n  \"rows\": 58271,\n  \"fields\": [\n    {\n      \"column\": \"checked\",\n      \"properties\": {\n        \"dtype\": \"string\",\n        \"num_unique_values\": 57746,\n        \"samples\": [\n          \"\\ud559\\uad50 \\uac00\\uae30\\uac00 \\ub108\\ubb34 \\uc2eb\\uc5b4\\uc11c \\uc624\\ub298 \\uc120\\uc0dd\\ub2d8\\uaed8 \\uc544\\ud504\\ub2e4\\uace0 \\uac70\\uc9d3\\ub9d0\\ud558\\uace0 \\ud559\\uad50\\ub97c \\uc548 \\uac14\\uc5b4 \\ucc98\\uc74c\\uc5d0\\ub294 \\ud559\\uad50\\ub97c \\uc548 \\uac00\\ub3c4 \\ub3fc\\uc11c \\uc88b\\uc558\\ub294\\ub370 \\uc9c0\\uae08\\uc740 \\uac70\\uc9d3\\ub9d0\\ud55c \\uac83 \\ub54c\\ubb38\\uc5d0 \\ub9c8\\uc74c\\uc774 \\ubd88\\ud3b8\\ud574\",\n          \"\\ubcd1\\uc0c1\\uc5d0 \\uc788\\uc744 \\ub54c \\uac00\\uc871\\ub4e4\\uc5d0\\uac8c \\ud654\\ub0b4\\uace0 \\ud22c\\uc815 \\ubd80\\ub838\\ub358 \\uac83\\uc774 \\ubbf8\\uc548\\ud558\\uace0 \\ub9c8\\uc74c\\uc5d0 \\ub0a8\\ub124 \\ub098\\ub9cc \\ud798\\ub4e0 \\uac8c \\uc544\\ub2c8\\ub77c \\uac00\\uc871\\ub4e4\\ub3c4 \\ub2e4 \\uac19\\uc774 \\ud798\\ub4e4\\uace0 \\ud56d\\uc0c1 \\ub0b4 \\uac71\\uc815\\uc744 \\ud588\\uc5c8\\uc744 \\ud150\\ub370 \\ub9d0\\uc774\\uc57c\",\n          \"\\uc624\\ub298 \\uc6b0\\ub9ac \\ub0a8\\ud3b8\\uc774\\ub791 \\uc544\\uc774\\ub4e4\\uc774\\ub791 \\uc678\\uc2dd\\ud558\\ub7ec \\uc2dd\\ub2f9\\uc5d0 \\uac14\\uc5c8\\uc5b4 \\uc751 \\ub9de\\uc544 \\uc6b0\\ub9ac \\uc9d1\\ucc98\\ub7fc \\uc774\\ub807\\uac8c \\uac00\\uc871\\ubaa8\\uc784\\uc744 \\uc18c\\uc911\\ud788 \\uc5ec\\uae30\\ub294 \\uc0ac\\ub78c\\ub4e4\\uc774 \\ub9ce\\uc774 \\uc5c6\\uc744 \\uac83 \\uac19\\uc544\"\n        ],\n        \"semantic_type\": \"\",\n        \"description\": \"\"\n      }\n    },\n    {\n      \"column\": \"emotion\",\n      \"properties\": {\n        \"dtype\": \"category\",\n        \"num_unique_values\": 6,\n        \"samples\": [\n          \"\\ubd84\\ub178\",\n          \"\\uae30\\uc068\",\n          \"\\uc0c1\\ucc98\"\n        ],\n        \"semantic_type\": \"\",\n        \"description\": \"\"\n      }\n    }\n  ]\n}"
            }
          },
          "metadata": {},
          "execution_count": 9
        }
      ]
    },
    {
      "cell_type": "code",
      "source": [
        "from sklearn.preprocessing import LabelEncoder\n",
        "\n",
        "y = df[\"emotion\"]\n",
        "\n",
        "# LabelEncoder 객체 생성\n",
        "encoder = LabelEncoder()\n",
        "encoder.fit(y)\n",
        "labels = encoder.transform(y)\n",
        "\n",
        "print(\"labels:\", labels)\n",
        "\n",
        "#인코딩 클래스\n",
        "print(\"encoder:\", encoder.classes_)\n",
        "#디코딩원본값\n",
        "print(encoder.inverse_transform(labels))\n",
        "\n"
      ],
      "metadata": {
        "colab": {
          "base_uri": "https://localhost:8080/"
        },
        "id": "xbEKdkV4QktT",
        "outputId": "06f5018f-36ef-424b-9d88-6e3a682cd84b"
      },
      "execution_count": 10,
      "outputs": [
        {
          "output_type": "stream",
          "name": "stdout",
          "text": [
            "labels: [2 2 2 ... 1 1 1]\n",
            "encoder: ['기쁨' '당황' '분노' '불안' '상처' '슬픔']\n",
            "['분노' '분노' '분노' ... '당황' '당황' '당황']\n"
          ]
        }
      ]
    },
    {
      "cell_type": "code",
      "source": [
        "df['labels'] = labels\n",
        "df.tail()"
      ],
      "metadata": {
        "colab": {
          "base_uri": "https://localhost:8080/",
          "height": 206
        },
        "id": "74t7j8vlScrW",
        "outputId": "4fc0f9b6-11ea-4e74-f593-44067e45a79e"
      },
      "execution_count": 11,
      "outputs": [
        {
          "output_type": "execute_result",
          "data": {
            "text/plain": [
              "                                                 checked emotion  labels\n",
              "58266  나랑 비슷한 시기에 결혼하는 친구는 시댁에서 집을 해줘서 너무 부러워 우리는 대출로...      당황       1\n",
              "58267  친구 한 명이 결혼해서 아이를 가졌는데 너무 행복해 보이더라 기분이 좋지만은 않아 ...      당황       1\n",
              "58268  남들은 결혼 전에 일억을 모았다는데 난 뭐를 한 것인지 모르겠어 자괴감만 드네 요새...      당황       1\n",
              "58269  나보다 결혼을 먼저 한 친구가 부러워 그 친구 남편은 직장도 내 남편보다 좋고 키와...      당황       1\n",
              "58270  친구들 모두 결혼하고 나만 혼자 남아서 쓸쓸하네 맞아하지만 그렇다고 아무나 하고 결...      당황       1"
            ],
            "text/html": [
              "\n",
              "  <div id=\"df-95c74f30-c950-4b2c-be10-cdbb7dab2a6e\" class=\"colab-df-container\">\n",
              "    <div>\n",
              "<style scoped>\n",
              "    .dataframe tbody tr th:only-of-type {\n",
              "        vertical-align: middle;\n",
              "    }\n",
              "\n",
              "    .dataframe tbody tr th {\n",
              "        vertical-align: top;\n",
              "    }\n",
              "\n",
              "    .dataframe thead th {\n",
              "        text-align: right;\n",
              "    }\n",
              "</style>\n",
              "<table border=\"1\" class=\"dataframe\">\n",
              "  <thead>\n",
              "    <tr style=\"text-align: right;\">\n",
              "      <th></th>\n",
              "      <th>checked</th>\n",
              "      <th>emotion</th>\n",
              "      <th>labels</th>\n",
              "    </tr>\n",
              "  </thead>\n",
              "  <tbody>\n",
              "    <tr>\n",
              "      <th>58266</th>\n",
              "      <td>나랑 비슷한 시기에 결혼하는 친구는 시댁에서 집을 해줘서 너무 부러워 우리는 대출로...</td>\n",
              "      <td>당황</td>\n",
              "      <td>1</td>\n",
              "    </tr>\n",
              "    <tr>\n",
              "      <th>58267</th>\n",
              "      <td>친구 한 명이 결혼해서 아이를 가졌는데 너무 행복해 보이더라 기분이 좋지만은 않아 ...</td>\n",
              "      <td>당황</td>\n",
              "      <td>1</td>\n",
              "    </tr>\n",
              "    <tr>\n",
              "      <th>58268</th>\n",
              "      <td>남들은 결혼 전에 일억을 모았다는데 난 뭐를 한 것인지 모르겠어 자괴감만 드네 요새...</td>\n",
              "      <td>당황</td>\n",
              "      <td>1</td>\n",
              "    </tr>\n",
              "    <tr>\n",
              "      <th>58269</th>\n",
              "      <td>나보다 결혼을 먼저 한 친구가 부러워 그 친구 남편은 직장도 내 남편보다 좋고 키와...</td>\n",
              "      <td>당황</td>\n",
              "      <td>1</td>\n",
              "    </tr>\n",
              "    <tr>\n",
              "      <th>58270</th>\n",
              "      <td>친구들 모두 결혼하고 나만 혼자 남아서 쓸쓸하네 맞아하지만 그렇다고 아무나 하고 결...</td>\n",
              "      <td>당황</td>\n",
              "      <td>1</td>\n",
              "    </tr>\n",
              "  </tbody>\n",
              "</table>\n",
              "</div>\n",
              "    <div class=\"colab-df-buttons\">\n",
              "\n",
              "  <div class=\"colab-df-container\">\n",
              "    <button class=\"colab-df-convert\" onclick=\"convertToInteractive('df-95c74f30-c950-4b2c-be10-cdbb7dab2a6e')\"\n",
              "            title=\"Convert this dataframe to an interactive table.\"\n",
              "            style=\"display:none;\">\n",
              "\n",
              "  <svg xmlns=\"http://www.w3.org/2000/svg\" height=\"24px\" viewBox=\"0 -960 960 960\">\n",
              "    <path d=\"M120-120v-720h720v720H120Zm60-500h600v-160H180v160Zm220 220h160v-160H400v160Zm0 220h160v-160H400v160ZM180-400h160v-160H180v160Zm440 0h160v-160H620v160ZM180-180h160v-160H180v160Zm440 0h160v-160H620v160Z\"/>\n",
              "  </svg>\n",
              "    </button>\n",
              "\n",
              "  <style>\n",
              "    .colab-df-container {\n",
              "      display:flex;\n",
              "      gap: 12px;\n",
              "    }\n",
              "\n",
              "    .colab-df-convert {\n",
              "      background-color: #E8F0FE;\n",
              "      border: none;\n",
              "      border-radius: 50%;\n",
              "      cursor: pointer;\n",
              "      display: none;\n",
              "      fill: #1967D2;\n",
              "      height: 32px;\n",
              "      padding: 0 0 0 0;\n",
              "      width: 32px;\n",
              "    }\n",
              "\n",
              "    .colab-df-convert:hover {\n",
              "      background-color: #E2EBFA;\n",
              "      box-shadow: 0px 1px 2px rgba(60, 64, 67, 0.3), 0px 1px 3px 1px rgba(60, 64, 67, 0.15);\n",
              "      fill: #174EA6;\n",
              "    }\n",
              "\n",
              "    .colab-df-buttons div {\n",
              "      margin-bottom: 4px;\n",
              "    }\n",
              "\n",
              "    [theme=dark] .colab-df-convert {\n",
              "      background-color: #3B4455;\n",
              "      fill: #D2E3FC;\n",
              "    }\n",
              "\n",
              "    [theme=dark] .colab-df-convert:hover {\n",
              "      background-color: #434B5C;\n",
              "      box-shadow: 0px 1px 3px 1px rgba(0, 0, 0, 0.15);\n",
              "      filter: drop-shadow(0px 1px 2px rgba(0, 0, 0, 0.3));\n",
              "      fill: #FFFFFF;\n",
              "    }\n",
              "  </style>\n",
              "\n",
              "    <script>\n",
              "      const buttonEl =\n",
              "        document.querySelector('#df-95c74f30-c950-4b2c-be10-cdbb7dab2a6e button.colab-df-convert');\n",
              "      buttonEl.style.display =\n",
              "        google.colab.kernel.accessAllowed ? 'block' : 'none';\n",
              "\n",
              "      async function convertToInteractive(key) {\n",
              "        const element = document.querySelector('#df-95c74f30-c950-4b2c-be10-cdbb7dab2a6e');\n",
              "        const dataTable =\n",
              "          await google.colab.kernel.invokeFunction('convertToInteractive',\n",
              "                                                    [key], {});\n",
              "        if (!dataTable) return;\n",
              "\n",
              "        const docLinkHtml = 'Like what you see? Visit the ' +\n",
              "          '<a target=\"_blank\" href=https://colab.research.google.com/notebooks/data_table.ipynb>data table notebook</a>'\n",
              "          + ' to learn more about interactive tables.';\n",
              "        element.innerHTML = '';\n",
              "        dataTable['output_type'] = 'display_data';\n",
              "        await google.colab.output.renderOutput(dataTable, element);\n",
              "        const docLink = document.createElement('div');\n",
              "        docLink.innerHTML = docLinkHtml;\n",
              "        element.appendChild(docLink);\n",
              "      }\n",
              "    </script>\n",
              "  </div>\n",
              "\n",
              "\n",
              "<div id=\"df-0f02af56-cbd6-4d00-8139-125ad5d053a4\">\n",
              "  <button class=\"colab-df-quickchart\" onclick=\"quickchart('df-0f02af56-cbd6-4d00-8139-125ad5d053a4')\"\n",
              "            title=\"Suggest charts\"\n",
              "            style=\"display:none;\">\n",
              "\n",
              "<svg xmlns=\"http://www.w3.org/2000/svg\" height=\"24px\"viewBox=\"0 0 24 24\"\n",
              "     width=\"24px\">\n",
              "    <g>\n",
              "        <path d=\"M19 3H5c-1.1 0-2 .9-2 2v14c0 1.1.9 2 2 2h14c1.1 0 2-.9 2-2V5c0-1.1-.9-2-2-2zM9 17H7v-7h2v7zm4 0h-2V7h2v10zm4 0h-2v-4h2v4z\"/>\n",
              "    </g>\n",
              "</svg>\n",
              "  </button>\n",
              "\n",
              "<style>\n",
              "  .colab-df-quickchart {\n",
              "      --bg-color: #E8F0FE;\n",
              "      --fill-color: #1967D2;\n",
              "      --hover-bg-color: #E2EBFA;\n",
              "      --hover-fill-color: #174EA6;\n",
              "      --disabled-fill-color: #AAA;\n",
              "      --disabled-bg-color: #DDD;\n",
              "  }\n",
              "\n",
              "  [theme=dark] .colab-df-quickchart {\n",
              "      --bg-color: #3B4455;\n",
              "      --fill-color: #D2E3FC;\n",
              "      --hover-bg-color: #434B5C;\n",
              "      --hover-fill-color: #FFFFFF;\n",
              "      --disabled-bg-color: #3B4455;\n",
              "      --disabled-fill-color: #666;\n",
              "  }\n",
              "\n",
              "  .colab-df-quickchart {\n",
              "    background-color: var(--bg-color);\n",
              "    border: none;\n",
              "    border-radius: 50%;\n",
              "    cursor: pointer;\n",
              "    display: none;\n",
              "    fill: var(--fill-color);\n",
              "    height: 32px;\n",
              "    padding: 0;\n",
              "    width: 32px;\n",
              "  }\n",
              "\n",
              "  .colab-df-quickchart:hover {\n",
              "    background-color: var(--hover-bg-color);\n",
              "    box-shadow: 0 1px 2px rgba(60, 64, 67, 0.3), 0 1px 3px 1px rgba(60, 64, 67, 0.15);\n",
              "    fill: var(--button-hover-fill-color);\n",
              "  }\n",
              "\n",
              "  .colab-df-quickchart-complete:disabled,\n",
              "  .colab-df-quickchart-complete:disabled:hover {\n",
              "    background-color: var(--disabled-bg-color);\n",
              "    fill: var(--disabled-fill-color);\n",
              "    box-shadow: none;\n",
              "  }\n",
              "\n",
              "  .colab-df-spinner {\n",
              "    border: 2px solid var(--fill-color);\n",
              "    border-color: transparent;\n",
              "    border-bottom-color: var(--fill-color);\n",
              "    animation:\n",
              "      spin 1s steps(1) infinite;\n",
              "  }\n",
              "\n",
              "  @keyframes spin {\n",
              "    0% {\n",
              "      border-color: transparent;\n",
              "      border-bottom-color: var(--fill-color);\n",
              "      border-left-color: var(--fill-color);\n",
              "    }\n",
              "    20% {\n",
              "      border-color: transparent;\n",
              "      border-left-color: var(--fill-color);\n",
              "      border-top-color: var(--fill-color);\n",
              "    }\n",
              "    30% {\n",
              "      border-color: transparent;\n",
              "      border-left-color: var(--fill-color);\n",
              "      border-top-color: var(--fill-color);\n",
              "      border-right-color: var(--fill-color);\n",
              "    }\n",
              "    40% {\n",
              "      border-color: transparent;\n",
              "      border-right-color: var(--fill-color);\n",
              "      border-top-color: var(--fill-color);\n",
              "    }\n",
              "    60% {\n",
              "      border-color: transparent;\n",
              "      border-right-color: var(--fill-color);\n",
              "    }\n",
              "    80% {\n",
              "      border-color: transparent;\n",
              "      border-right-color: var(--fill-color);\n",
              "      border-bottom-color: var(--fill-color);\n",
              "    }\n",
              "    90% {\n",
              "      border-color: transparent;\n",
              "      border-bottom-color: var(--fill-color);\n",
              "    }\n",
              "  }\n",
              "</style>\n",
              "\n",
              "  <script>\n",
              "    async function quickchart(key) {\n",
              "      const quickchartButtonEl =\n",
              "        document.querySelector('#' + key + ' button');\n",
              "      quickchartButtonEl.disabled = true;  // To prevent multiple clicks.\n",
              "      quickchartButtonEl.classList.add('colab-df-spinner');\n",
              "      try {\n",
              "        const charts = await google.colab.kernel.invokeFunction(\n",
              "            'suggestCharts', [key], {});\n",
              "      } catch (error) {\n",
              "        console.error('Error during call to suggestCharts:', error);\n",
              "      }\n",
              "      quickchartButtonEl.classList.remove('colab-df-spinner');\n",
              "      quickchartButtonEl.classList.add('colab-df-quickchart-complete');\n",
              "    }\n",
              "    (() => {\n",
              "      let quickchartButtonEl =\n",
              "        document.querySelector('#df-0f02af56-cbd6-4d00-8139-125ad5d053a4 button');\n",
              "      quickchartButtonEl.style.display =\n",
              "        google.colab.kernel.accessAllowed ? 'block' : 'none';\n",
              "    })();\n",
              "  </script>\n",
              "</div>\n",
              "\n",
              "    </div>\n",
              "  </div>\n"
            ],
            "application/vnd.google.colaboratory.intrinsic+json": {
              "type": "dataframe",
              "summary": "{\n  \"name\": \"df\",\n  \"rows\": 5,\n  \"fields\": [\n    {\n      \"column\": \"checked\",\n      \"properties\": {\n        \"dtype\": \"string\",\n        \"num_unique_values\": 5,\n        \"samples\": [\n          \"\\uce5c\\uad6c \\ud55c \\uba85\\uc774 \\uacb0\\ud63c\\ud574\\uc11c \\uc544\\uc774\\ub97c \\uac00\\uc84c\\ub294\\ub370 \\ub108\\ubb34 \\ud589\\ubcf5\\ud574 \\ubcf4\\uc774\\ub354\\ub77c \\uae30\\ubd84\\uc774 \\uc88b\\uc9c0\\ub9cc\\uc740 \\uc54a\\uc544 \\ub098\\ub3c4 \\uacb0\\ud63c\\ud588\\uc9c0\\ub9cc \\uc544\\uc774\\ub3c4 \\uc0dd\\uae30\\uc9c0 \\uc54a\\uace0 \\uadf8 \\uc815\\ub3c4\\ub85c \\ud589\\ubcf5\\ud558\\uc9c0 \\uc54a\\uac70\\ub4e0 \\uce5c\\uad6c\\ubcf4\\ub2e4 \\ubabb \\uc0ac\\ub294 \\uac83 \\uac19\\uc544\\uc11c \\ubd88\\ud589\\ud574\",\n          \"\\uce5c\\uad6c\\ub4e4 \\ubaa8\\ub450 \\uacb0\\ud63c\\ud558\\uace0 \\ub098\\ub9cc \\ud63c\\uc790 \\ub0a8\\uc544\\uc11c \\uc4f8\\uc4f8\\ud558\\ub124 \\ub9de\\uc544\\ud558\\uc9c0\\ub9cc \\uadf8\\ub807\\ub2e4\\uace0 \\uc544\\ubb34\\ub098 \\ud558\\uace0 \\uacb0\\ud63c\\ud560 \\uc218\\ub3c4 \\uc5c6\\uc796\\uc544\",\n          \"\\ub0a8\\ub4e4\\uc740 \\uacb0\\ud63c \\uc804\\uc5d0 \\uc77c\\uc5b5\\uc744 \\ubaa8\\uc558\\ub2e4\\ub294\\ub370 \\ub09c \\ubb50\\ub97c \\ud55c \\uac83\\uc778\\uc9c0 \\ubaa8\\ub974\\uaca0\\uc5b4 \\uc790\\uad34\\uac10\\ub9cc \\ub4dc\\ub124 \\uc694\\uc0c8 \\uc9d1\\uac12\\uc774 \\ub108\\ubb34 \\uc62c\\ub77c\\uc11c \\ud55c\\uc228\\ub9cc \\ub098\\uc640\"\n        ],\n        \"semantic_type\": \"\",\n        \"description\": \"\"\n      }\n    },\n    {\n      \"column\": \"emotion\",\n      \"properties\": {\n        \"dtype\": \"category\",\n        \"num_unique_values\": 1,\n        \"samples\": [\n          \"\\ub2f9\\ud669\"\n        ],\n        \"semantic_type\": \"\",\n        \"description\": \"\"\n      }\n    },\n    {\n      \"column\": \"labels\",\n      \"properties\": {\n        \"dtype\": \"number\",\n        \"std\": 0,\n        \"min\": 1,\n        \"max\": 1,\n        \"num_unique_values\": 1,\n        \"samples\": [\n          1\n        ],\n        \"semantic_type\": \"\",\n        \"description\": \"\"\n      }\n    }\n  ]\n}"
            }
          },
          "metadata": {},
          "execution_count": 11
        }
      ]
    },
    {
      "cell_type": "code",
      "source": [
        "df.rename(columns={'checked':'text'}, inplace=True)"
      ],
      "metadata": {
        "id": "w-IMNinzSvjF"
      },
      "execution_count": 12,
      "outputs": []
    },
    {
      "cell_type": "code",
      "source": [
        "df['text']"
      ],
      "metadata": {
        "colab": {
          "base_uri": "https://localhost:8080/"
        },
        "id": "btMhnfVyS_KC",
        "outputId": "97a85381-7d2c-4629-de76-7f011702c5fb"
      },
      "execution_count": 13,
      "outputs": [
        {
          "output_type": "execute_result",
          "data": {
            "text/plain": [
              "0        일은 왜 해도 해도 끝이 없을까? 화가 난다 그냥 내가 해결하는 게 나아 남들한테 ...\n",
              "1        이번 달에 또 급여가 깎였어! 물가는 오르는데 월급만 자꾸 깎이니까 너무 화가 나 ...\n",
              "2        회사에 신입이 들어왔는데 말투가 거슬려 그런 애를 매일 봐야 한다고 생각하니까 스트...\n",
              "3        직장에서 막내라는 이유로 나에게만 온갖 심부름을 시켜 일도 많은데 정말 분하고 섭섭...\n",
              "4        얼마 전 입사한 신입사원이 나를 무시하는 것 같아서 너무 화가 나 상사 일어나에 게...\n",
              "                               ...                        \n",
              "58266    나랑 비슷한 시기에 결혼하는 친구는 시댁에서 집을 해줘서 너무 부러워 우리는 대출로...\n",
              "58267    친구 한 명이 결혼해서 아이를 가졌는데 너무 행복해 보이더라 기분이 좋지만은 않아 ...\n",
              "58268    남들은 결혼 전에 일억을 모았다는데 난 뭐를 한 것인지 모르겠어 자괴감만 드네 요새...\n",
              "58269    나보다 결혼을 먼저 한 친구가 부러워 그 친구 남편은 직장도 내 남편보다 좋고 키와...\n",
              "58270    친구들 모두 결혼하고 나만 혼자 남아서 쓸쓸하네 맞아하지만 그렇다고 아무나 하고 결...\n",
              "Name: text, Length: 58271, dtype: object"
            ]
          },
          "metadata": {},
          "execution_count": 13
        }
      ]
    },
    {
      "cell_type": "code",
      "source": [
        "df.isnull().sum()"
      ],
      "metadata": {
        "colab": {
          "base_uri": "https://localhost:8080/"
        },
        "id": "VHyPILY0TGBM",
        "outputId": "fb5ee4ed-4729-41b4-dba6-ae5e6052ce8d"
      },
      "execution_count": 15,
      "outputs": [
        {
          "output_type": "execute_result",
          "data": {
            "text/plain": [
              "text       0\n",
              "emotion    0\n",
              "labels     0\n",
              "dtype: int64"
            ]
          },
          "metadata": {},
          "execution_count": 15
        }
      ]
    },
    {
      "cell_type": "code",
      "source": [
        "#중복코드 제거\n",
        "print(df.duplicated().sum())\n",
        "duplicated_df = df.duplicated()\n"
      ],
      "metadata": {
        "colab": {
          "base_uri": "https://localhost:8080/"
        },
        "id": "c8w6BOUGTN33",
        "outputId": "5d7db905-1f3a-4679-c85c-a65f947650d0"
      },
      "execution_count": 16,
      "outputs": [
        {
          "output_type": "stream",
          "name": "stdout",
          "text": [
            "516\n"
          ]
        }
      ]
    },
    {
      "cell_type": "code",
      "source": [
        "#불용어 사전\n",
        "stopwords = \"\"\"\n",
        "거야 아 휴 아이구 너무 것 정말 수 그 것 아이쿠 아이고 어 나 우리 저희 따라 의해 을 를 에 의 가 으로 로 에게 뿐이다 의거하여 근거하여 입각하여 기준으로 예하면 예를 들면 예를 들자면 저 소인 소생 저희 지말고 하지마 하지마라 다른 물론 또한 그리고 비길수 없다해서는 안된다 뿐만 아니라 만이 아니다 만은 아니다 막론하고 관계없이 그치지 않다 그러나 그런데 하지만 든간에 논하지 않다 따지지 않다 설사 비록 더라도 아니면 만 못하다 하는 편이 낫다 불문하고 향하여 향해서 향하다 쪽으로 틈타 이용하여 타다 오르다 제외하고 이 외에 이 밖에 하여야 비로소 하다면 몰라도 외에도 이곳 여기 부터 기점으로 따라서 할 생각이다 하려고하다 이리하여 그리하여 그렇게 함으로써 다만 일때 할때 앞에서 중에서 보는데서 으로써 로써 까지 해야한다 일것이다 반드시 할줄알다 할수있다 할수있어 임에 틀림없다 한다면 제 겨우 단지 다만 할뿐 딩동 댕그 대해서 대하여 대하면 훨씬 얼마나 얼마만큼 얼마큼 남짓 여 얼마간 약간 다소 좀 조금 다수 몇 얼마 지만 하물며 또한 그러나 그렇지만 하지만 이외에도 대해 말하자면 뿐이다 다음에 반대로 반대로 말하자면 이와 반대로 바꾸어서 말하면 바꾸어서 한다면 만약 그렇지않으면 까악 툭 딱 삐걱거리다 보드득 비걱거리다 꽈당 응당 해야한다 에 가서 각 각각 여러분 각종 각자 제각기 하도록하다 와 과 그러므로 그래서 고로 한 까닭에 하기 때문에 거니와 이지만 대하여 관하여 관한 과연 실로 아니나다를가 생각한대로 진짜로 한적이있다 하곤하였다 하 하하 허허 아하 거바 와 오 왜 어째서 무엇때문에 어찌 하겠는가 무슨 어디 어느곳 더군다나 하물며 더욱이는 어느때 언제 야 이봐 어이 여보시오 흐흐 흥 휴 헉헉 헐떡헐떡 영차 여차 어기여차 끙끙 아야 앗 아야 콸콸 졸졸 좍좍 뚝뚝 주룩주룩 솨 우르르 그래도 또 그리고 바꾸어말하면 바꾸어말하자면 혹은 혹시 답다 및 그에 따르는 때가 되어 즉 지든지 설령 가령 하더라도 할지라도 일지라도 지든지 몇 거의 하마터면 인젠 이젠 된바에야된이상 만큼 어찌됏든 그위에 게다가 점에서 보아 비추어 보아 고려하면 하게될것이다 일것이다 비교적 좀 보다더 비하면 시키다 하게하다 할만하다 의해서 연이서 이어서 잇따라 뒤따라 뒤이어 결국의지하여 기대여 통하여 자마자 더욱더 불구하고 얼마든지 마음대로 주저하지 않고 곧 즉시 바로 당장 하자마자 바깥에 안된다 하면된다 그래 그렇지 요컨대 다시 말하자면 바꿔 말하면 즉 구체적으로 말하자면 시작하여 시초에 이상 허 헉 허걱 바와같이 해도좋다 해도된다 게다가 더구나 하마터면 와르르 팍 퍽 펄렁 동안 이래 하고있었다 이었다 에서 로부터 까지 예하면 했어요 해요 함께 같이 더불어 마저 마저도 양자 모두 습니다 가까스로 하려고하다 즈음하여 다른 다른 방면으로 해봐요 습니까 했어요 말할것도 없고 무릎쓰고 개의치않고 하는것만 못하다 하는것이 낫다 매 매번 들 모 어느것 어느 로써 갖고말하자면 어디 어느쪽 어느것 어느해 어느 년도 라 해도 언젠가 어떤것 어느것 저기 저쪽\n",
        "\n",
        "\"\"\"\n",
        "# 불용어들을 공백을 기준으로 분리하여 리스트로 변환\n",
        "stopwords_list = stopwords.split()\n",
        "\n",
        "# 리스트의 각 단어들을 작은따옴표로 둘러싸서 새로운 리스트 생성\n",
        "processed_stopwords = [\"'{}'\".format(word) for word in stopwords_list]\n",
        "\n",
        "# 작은따옴표로 둘러싸인 불용어 리스트를 다시 공백으로 연결하여 문자열로 변환\n",
        "processed_stopwords = ' '.join(processed_stopwords)\n",
        "print(processed_stopwords)"
      ],
      "metadata": {
        "colab": {
          "base_uri": "https://localhost:8080/"
        },
        "id": "2l3O3y5STU-g",
        "outputId": "1b4338e6-a6fc-452a-c788-4a5615e47f63"
      },
      "execution_count": 17,
      "outputs": [
        {
          "output_type": "stream",
          "name": "stdout",
          "text": [
            "'거야' '아' '휴' '아이구' '너무' '것' '정말' '수' '그' '것' '아이쿠' '아이고' '어' '나' '우리' '저희' '따라' '의해' '을' '를' '에' '의' '가' '으로' '로' '에게' '뿐이다' '의거하여' '근거하여' '입각하여' '기준으로' '예하면' '예를' '들면' '예를' '들자면' '저' '소인' '소생' '저희' '지말고' '하지마' '하지마라' '다른' '물론' '또한' '그리고' '비길수' '없다해서는' '안된다' '뿐만' '아니라' '만이' '아니다' '만은' '아니다' '막론하고' '관계없이' '그치지' '않다' '그러나' '그런데' '하지만' '든간에' '논하지' '않다' '따지지' '않다' '설사' '비록' '더라도' '아니면' '만' '못하다' '하는' '편이' '낫다' '불문하고' '향하여' '향해서' '향하다' '쪽으로' '틈타' '이용하여' '타다' '오르다' '제외하고' '이' '외에' '이' '밖에' '하여야' '비로소' '하다면' '몰라도' '외에도' '이곳' '여기' '부터' '기점으로' '따라서' '할' '생각이다' '하려고하다' '이리하여' '그리하여' '그렇게' '함으로써' '다만' '일때' '할때' '앞에서' '중에서' '보는데서' '으로써' '로써' '까지' '해야한다' '일것이다' '반드시' '할줄알다' '할수있다' '할수있어' '임에' '틀림없다' '한다면' '제' '겨우' '단지' '다만' '할뿐' '딩동' '댕그' '대해서' '대하여' '대하면' '훨씬' '얼마나' '얼마만큼' '얼마큼' '남짓' '여' '얼마간' '약간' '다소' '좀' '조금' '다수' '몇' '얼마' '지만' '하물며' '또한' '그러나' '그렇지만' '하지만' '이외에도' '대해' '말하자면' '뿐이다' '다음에' '반대로' '반대로' '말하자면' '이와' '반대로' '바꾸어서' '말하면' '바꾸어서' '한다면' '만약' '그렇지않으면' '까악' '툭' '딱' '삐걱거리다' '보드득' '비걱거리다' '꽈당' '응당' '해야한다' '에' '가서' '각' '각각' '여러분' '각종' '각자' '제각기' '하도록하다' '와' '과' '그러므로' '그래서' '고로' '한' '까닭에' '하기' '때문에' '거니와' '이지만' '대하여' '관하여' '관한' '과연' '실로' '아니나다를가' '생각한대로' '진짜로' '한적이있다' '하곤하였다' '하' '하하' '허허' '아하' '거바' '와' '오' '왜' '어째서' '무엇때문에' '어찌' '하겠는가' '무슨' '어디' '어느곳' '더군다나' '하물며' '더욱이는' '어느때' '언제' '야' '이봐' '어이' '여보시오' '흐흐' '흥' '휴' '헉헉' '헐떡헐떡' '영차' '여차' '어기여차' '끙끙' '아야' '앗' '아야' '콸콸' '졸졸' '좍좍' '뚝뚝' '주룩주룩' '솨' '우르르' '그래도' '또' '그리고' '바꾸어말하면' '바꾸어말하자면' '혹은' '혹시' '답다' '및' '그에' '따르는' '때가' '되어' '즉' '지든지' '설령' '가령' '하더라도' '할지라도' '일지라도' '지든지' '몇' '거의' '하마터면' '인젠' '이젠' '된바에야된이상' '만큼' '어찌됏든' '그위에' '게다가' '점에서' '보아' '비추어' '보아' '고려하면' '하게될것이다' '일것이다' '비교적' '좀' '보다더' '비하면' '시키다' '하게하다' '할만하다' '의해서' '연이서' '이어서' '잇따라' '뒤따라' '뒤이어' '결국의지하여' '기대여' '통하여' '자마자' '더욱더' '불구하고' '얼마든지' '마음대로' '주저하지' '않고' '곧' '즉시' '바로' '당장' '하자마자' '바깥에' '안된다' '하면된다' '그래' '그렇지' '요컨대' '다시' '말하자면' '바꿔' '말하면' '즉' '구체적으로' '말하자면' '시작하여' '시초에' '이상' '허' '헉' '허걱' '바와같이' '해도좋다' '해도된다' '게다가' '더구나' '하마터면' '와르르' '팍' '퍽' '펄렁' '동안' '이래' '하고있었다' '이었다' '에서' '로부터' '까지' '예하면' '했어요' '해요' '함께' '같이' '더불어' '마저' '마저도' '양자' '모두' '습니다' '가까스로' '하려고하다' '즈음하여' '다른' '다른' '방면으로' '해봐요' '습니까' '했어요' '말할것도' '없고' '무릎쓰고' '개의치않고' '하는것만' '못하다' '하는것이' '낫다' '매' '매번' '들' '모' '어느것' '어느' '로써' '갖고말하자면' '어디' '어느쪽' '어느것' '어느해' '어느' '년도' '라' '해도' '언젠가' '어떤것' '어느것' '저기' '저쪽'\n"
          ]
        }
      ]
    },
    {
      "cell_type": "code",
      "source": [
        "def text_preprocessing(text):\n",
        "    # 기호 제거\n",
        "    text = re.sub('[^가-힣]', ' ', text)\n",
        "    # 불용어 처리\n",
        "    text = [word for word in text.split() if word not in processed_stopwords]\n",
        "    text = ' '.join(text)\n",
        "    return text"
      ],
      "metadata": {
        "id": "u1jpOJYGTiic"
      },
      "execution_count": 18,
      "outputs": []
    },
    {
      "cell_type": "code",
      "source": [
        "df['cleaned_text'] = df['text'].apply(text_preprocessing)\n",
        "df.head()"
      ],
      "metadata": {
        "colab": {
          "base_uri": "https://localhost:8080/",
          "height": 293
        },
        "id": "QznOl028Tk5h",
        "outputId": "a76f19b5-60a2-4ebc-b095-7980519a49a4"
      },
      "execution_count": 19,
      "outputs": [
        {
          "output_type": "execute_result",
          "data": {
            "text/plain": [
              "                                                text emotion  labels  \\\n",
              "0  일은 왜 해도 해도 끝이 없을까? 화가 난다 그냥 내가 해결하는 게 나아 남들한테 ...      분노       2   \n",
              "1  이번 달에 또 급여가 깎였어! 물가는 오르는데 월급만 자꾸 깎이니까 너무 화가 나 ...      분노       2   \n",
              "2  회사에 신입이 들어왔는데 말투가 거슬려 그런 애를 매일 봐야 한다고 생각하니까 스트...      분노       2   \n",
              "3  직장에서 막내라는 이유로 나에게만 온갖 심부름을 시켜 일도 많은데 정말 분하고 섭섭...      분노       2   \n",
              "4  얼마 전 입사한 신입사원이 나를 무시하는 것 같아서 너무 화가 나 상사 일어나에 게...      분노       2   \n",
              "\n",
              "                                        cleaned_text  \n",
              "0       일은 끝이 없을까 화가 난다 그냥 내가 해결하는 나아 남들한테 부담 주고 싶지도  \n",
              "1  이번 달에 급여가 깎였어 물가는 오르는데 월급만 자꾸 깎이니까 화가 최대한 지출을 ...  \n",
              "2  회사에 신입이 들어왔는데 말투가 거슬려 애를 매일 봐야 한다고 생각하니까 스트레스받...  \n",
              "3  직장에서 막내라는 이유로 나에게만 온갖 심부름을 시켜 일도 많은데 분하고 섭섭해 직...  \n",
              "4  전 입사한 신입사원이 나를 무시하는 같아서 화가 상사 일어나에 먼저 인사하지 않아서...  "
            ],
            "text/html": [
              "\n",
              "  <div id=\"df-a78b0e44-ab87-44a5-ba57-c7f8bc789c0b\" class=\"colab-df-container\">\n",
              "    <div>\n",
              "<style scoped>\n",
              "    .dataframe tbody tr th:only-of-type {\n",
              "        vertical-align: middle;\n",
              "    }\n",
              "\n",
              "    .dataframe tbody tr th {\n",
              "        vertical-align: top;\n",
              "    }\n",
              "\n",
              "    .dataframe thead th {\n",
              "        text-align: right;\n",
              "    }\n",
              "</style>\n",
              "<table border=\"1\" class=\"dataframe\">\n",
              "  <thead>\n",
              "    <tr style=\"text-align: right;\">\n",
              "      <th></th>\n",
              "      <th>text</th>\n",
              "      <th>emotion</th>\n",
              "      <th>labels</th>\n",
              "      <th>cleaned_text</th>\n",
              "    </tr>\n",
              "  </thead>\n",
              "  <tbody>\n",
              "    <tr>\n",
              "      <th>0</th>\n",
              "      <td>일은 왜 해도 해도 끝이 없을까? 화가 난다 그냥 내가 해결하는 게 나아 남들한테 ...</td>\n",
              "      <td>분노</td>\n",
              "      <td>2</td>\n",
              "      <td>일은 끝이 없을까 화가 난다 그냥 내가 해결하는 나아 남들한테 부담 주고 싶지도</td>\n",
              "    </tr>\n",
              "    <tr>\n",
              "      <th>1</th>\n",
              "      <td>이번 달에 또 급여가 깎였어! 물가는 오르는데 월급만 자꾸 깎이니까 너무 화가 나 ...</td>\n",
              "      <td>분노</td>\n",
              "      <td>2</td>\n",
              "      <td>이번 달에 급여가 깎였어 물가는 오르는데 월급만 자꾸 깎이니까 화가 최대한 지출을 ...</td>\n",
              "    </tr>\n",
              "    <tr>\n",
              "      <th>2</th>\n",
              "      <td>회사에 신입이 들어왔는데 말투가 거슬려 그런 애를 매일 봐야 한다고 생각하니까 스트...</td>\n",
              "      <td>분노</td>\n",
              "      <td>2</td>\n",
              "      <td>회사에 신입이 들어왔는데 말투가 거슬려 애를 매일 봐야 한다고 생각하니까 스트레스받...</td>\n",
              "    </tr>\n",
              "    <tr>\n",
              "      <th>3</th>\n",
              "      <td>직장에서 막내라는 이유로 나에게만 온갖 심부름을 시켜 일도 많은데 정말 분하고 섭섭...</td>\n",
              "      <td>분노</td>\n",
              "      <td>2</td>\n",
              "      <td>직장에서 막내라는 이유로 나에게만 온갖 심부름을 시켜 일도 많은데 분하고 섭섭해 직...</td>\n",
              "    </tr>\n",
              "    <tr>\n",
              "      <th>4</th>\n",
              "      <td>얼마 전 입사한 신입사원이 나를 무시하는 것 같아서 너무 화가 나 상사 일어나에 게...</td>\n",
              "      <td>분노</td>\n",
              "      <td>2</td>\n",
              "      <td>전 입사한 신입사원이 나를 무시하는 같아서 화가 상사 일어나에 먼저 인사하지 않아서...</td>\n",
              "    </tr>\n",
              "  </tbody>\n",
              "</table>\n",
              "</div>\n",
              "    <div class=\"colab-df-buttons\">\n",
              "\n",
              "  <div class=\"colab-df-container\">\n",
              "    <button class=\"colab-df-convert\" onclick=\"convertToInteractive('df-a78b0e44-ab87-44a5-ba57-c7f8bc789c0b')\"\n",
              "            title=\"Convert this dataframe to an interactive table.\"\n",
              "            style=\"display:none;\">\n",
              "\n",
              "  <svg xmlns=\"http://www.w3.org/2000/svg\" height=\"24px\" viewBox=\"0 -960 960 960\">\n",
              "    <path d=\"M120-120v-720h720v720H120Zm60-500h600v-160H180v160Zm220 220h160v-160H400v160Zm0 220h160v-160H400v160ZM180-400h160v-160H180v160Zm440 0h160v-160H620v160ZM180-180h160v-160H180v160Zm440 0h160v-160H620v160Z\"/>\n",
              "  </svg>\n",
              "    </button>\n",
              "\n",
              "  <style>\n",
              "    .colab-df-container {\n",
              "      display:flex;\n",
              "      gap: 12px;\n",
              "    }\n",
              "\n",
              "    .colab-df-convert {\n",
              "      background-color: #E8F0FE;\n",
              "      border: none;\n",
              "      border-radius: 50%;\n",
              "      cursor: pointer;\n",
              "      display: none;\n",
              "      fill: #1967D2;\n",
              "      height: 32px;\n",
              "      padding: 0 0 0 0;\n",
              "      width: 32px;\n",
              "    }\n",
              "\n",
              "    .colab-df-convert:hover {\n",
              "      background-color: #E2EBFA;\n",
              "      box-shadow: 0px 1px 2px rgba(60, 64, 67, 0.3), 0px 1px 3px 1px rgba(60, 64, 67, 0.15);\n",
              "      fill: #174EA6;\n",
              "    }\n",
              "\n",
              "    .colab-df-buttons div {\n",
              "      margin-bottom: 4px;\n",
              "    }\n",
              "\n",
              "    [theme=dark] .colab-df-convert {\n",
              "      background-color: #3B4455;\n",
              "      fill: #D2E3FC;\n",
              "    }\n",
              "\n",
              "    [theme=dark] .colab-df-convert:hover {\n",
              "      background-color: #434B5C;\n",
              "      box-shadow: 0px 1px 3px 1px rgba(0, 0, 0, 0.15);\n",
              "      filter: drop-shadow(0px 1px 2px rgba(0, 0, 0, 0.3));\n",
              "      fill: #FFFFFF;\n",
              "    }\n",
              "  </style>\n",
              "\n",
              "    <script>\n",
              "      const buttonEl =\n",
              "        document.querySelector('#df-a78b0e44-ab87-44a5-ba57-c7f8bc789c0b button.colab-df-convert');\n",
              "      buttonEl.style.display =\n",
              "        google.colab.kernel.accessAllowed ? 'block' : 'none';\n",
              "\n",
              "      async function convertToInteractive(key) {\n",
              "        const element = document.querySelector('#df-a78b0e44-ab87-44a5-ba57-c7f8bc789c0b');\n",
              "        const dataTable =\n",
              "          await google.colab.kernel.invokeFunction('convertToInteractive',\n",
              "                                                    [key], {});\n",
              "        if (!dataTable) return;\n",
              "\n",
              "        const docLinkHtml = 'Like what you see? Visit the ' +\n",
              "          '<a target=\"_blank\" href=https://colab.research.google.com/notebooks/data_table.ipynb>data table notebook</a>'\n",
              "          + ' to learn more about interactive tables.';\n",
              "        element.innerHTML = '';\n",
              "        dataTable['output_type'] = 'display_data';\n",
              "        await google.colab.output.renderOutput(dataTable, element);\n",
              "        const docLink = document.createElement('div');\n",
              "        docLink.innerHTML = docLinkHtml;\n",
              "        element.appendChild(docLink);\n",
              "      }\n",
              "    </script>\n",
              "  </div>\n",
              "\n",
              "\n",
              "<div id=\"df-02d8a057-556d-4753-b9a5-573c5523072a\">\n",
              "  <button class=\"colab-df-quickchart\" onclick=\"quickchart('df-02d8a057-556d-4753-b9a5-573c5523072a')\"\n",
              "            title=\"Suggest charts\"\n",
              "            style=\"display:none;\">\n",
              "\n",
              "<svg xmlns=\"http://www.w3.org/2000/svg\" height=\"24px\"viewBox=\"0 0 24 24\"\n",
              "     width=\"24px\">\n",
              "    <g>\n",
              "        <path d=\"M19 3H5c-1.1 0-2 .9-2 2v14c0 1.1.9 2 2 2h14c1.1 0 2-.9 2-2V5c0-1.1-.9-2-2-2zM9 17H7v-7h2v7zm4 0h-2V7h2v10zm4 0h-2v-4h2v4z\"/>\n",
              "    </g>\n",
              "</svg>\n",
              "  </button>\n",
              "\n",
              "<style>\n",
              "  .colab-df-quickchart {\n",
              "      --bg-color: #E8F0FE;\n",
              "      --fill-color: #1967D2;\n",
              "      --hover-bg-color: #E2EBFA;\n",
              "      --hover-fill-color: #174EA6;\n",
              "      --disabled-fill-color: #AAA;\n",
              "      --disabled-bg-color: #DDD;\n",
              "  }\n",
              "\n",
              "  [theme=dark] .colab-df-quickchart {\n",
              "      --bg-color: #3B4455;\n",
              "      --fill-color: #D2E3FC;\n",
              "      --hover-bg-color: #434B5C;\n",
              "      --hover-fill-color: #FFFFFF;\n",
              "      --disabled-bg-color: #3B4455;\n",
              "      --disabled-fill-color: #666;\n",
              "  }\n",
              "\n",
              "  .colab-df-quickchart {\n",
              "    background-color: var(--bg-color);\n",
              "    border: none;\n",
              "    border-radius: 50%;\n",
              "    cursor: pointer;\n",
              "    display: none;\n",
              "    fill: var(--fill-color);\n",
              "    height: 32px;\n",
              "    padding: 0;\n",
              "    width: 32px;\n",
              "  }\n",
              "\n",
              "  .colab-df-quickchart:hover {\n",
              "    background-color: var(--hover-bg-color);\n",
              "    box-shadow: 0 1px 2px rgba(60, 64, 67, 0.3), 0 1px 3px 1px rgba(60, 64, 67, 0.15);\n",
              "    fill: var(--button-hover-fill-color);\n",
              "  }\n",
              "\n",
              "  .colab-df-quickchart-complete:disabled,\n",
              "  .colab-df-quickchart-complete:disabled:hover {\n",
              "    background-color: var(--disabled-bg-color);\n",
              "    fill: var(--disabled-fill-color);\n",
              "    box-shadow: none;\n",
              "  }\n",
              "\n",
              "  .colab-df-spinner {\n",
              "    border: 2px solid var(--fill-color);\n",
              "    border-color: transparent;\n",
              "    border-bottom-color: var(--fill-color);\n",
              "    animation:\n",
              "      spin 1s steps(1) infinite;\n",
              "  }\n",
              "\n",
              "  @keyframes spin {\n",
              "    0% {\n",
              "      border-color: transparent;\n",
              "      border-bottom-color: var(--fill-color);\n",
              "      border-left-color: var(--fill-color);\n",
              "    }\n",
              "    20% {\n",
              "      border-color: transparent;\n",
              "      border-left-color: var(--fill-color);\n",
              "      border-top-color: var(--fill-color);\n",
              "    }\n",
              "    30% {\n",
              "      border-color: transparent;\n",
              "      border-left-color: var(--fill-color);\n",
              "      border-top-color: var(--fill-color);\n",
              "      border-right-color: var(--fill-color);\n",
              "    }\n",
              "    40% {\n",
              "      border-color: transparent;\n",
              "      border-right-color: var(--fill-color);\n",
              "      border-top-color: var(--fill-color);\n",
              "    }\n",
              "    60% {\n",
              "      border-color: transparent;\n",
              "      border-right-color: var(--fill-color);\n",
              "    }\n",
              "    80% {\n",
              "      border-color: transparent;\n",
              "      border-right-color: var(--fill-color);\n",
              "      border-bottom-color: var(--fill-color);\n",
              "    }\n",
              "    90% {\n",
              "      border-color: transparent;\n",
              "      border-bottom-color: var(--fill-color);\n",
              "    }\n",
              "  }\n",
              "</style>\n",
              "\n",
              "  <script>\n",
              "    async function quickchart(key) {\n",
              "      const quickchartButtonEl =\n",
              "        document.querySelector('#' + key + ' button');\n",
              "      quickchartButtonEl.disabled = true;  // To prevent multiple clicks.\n",
              "      quickchartButtonEl.classList.add('colab-df-spinner');\n",
              "      try {\n",
              "        const charts = await google.colab.kernel.invokeFunction(\n",
              "            'suggestCharts', [key], {});\n",
              "      } catch (error) {\n",
              "        console.error('Error during call to suggestCharts:', error);\n",
              "      }\n",
              "      quickchartButtonEl.classList.remove('colab-df-spinner');\n",
              "      quickchartButtonEl.classList.add('colab-df-quickchart-complete');\n",
              "    }\n",
              "    (() => {\n",
              "      let quickchartButtonEl =\n",
              "        document.querySelector('#df-02d8a057-556d-4753-b9a5-573c5523072a button');\n",
              "      quickchartButtonEl.style.display =\n",
              "        google.colab.kernel.accessAllowed ? 'block' : 'none';\n",
              "    })();\n",
              "  </script>\n",
              "</div>\n",
              "\n",
              "    </div>\n",
              "  </div>\n"
            ],
            "application/vnd.google.colaboratory.intrinsic+json": {
              "type": "dataframe",
              "variable_name": "df",
              "summary": "{\n  \"name\": \"df\",\n  \"rows\": 58271,\n  \"fields\": [\n    {\n      \"column\": \"text\",\n      \"properties\": {\n        \"dtype\": \"string\",\n        \"num_unique_values\": 57746,\n        \"samples\": [\n          \"\\ud559\\uad50 \\uac00\\uae30\\uac00 \\ub108\\ubb34 \\uc2eb\\uc5b4\\uc11c \\uc624\\ub298 \\uc120\\uc0dd\\ub2d8\\uaed8 \\uc544\\ud504\\ub2e4\\uace0 \\uac70\\uc9d3\\ub9d0\\ud558\\uace0 \\ud559\\uad50\\ub97c \\uc548 \\uac14\\uc5b4 \\ucc98\\uc74c\\uc5d0\\ub294 \\ud559\\uad50\\ub97c \\uc548 \\uac00\\ub3c4 \\ub3fc\\uc11c \\uc88b\\uc558\\ub294\\ub370 \\uc9c0\\uae08\\uc740 \\uac70\\uc9d3\\ub9d0\\ud55c \\uac83 \\ub54c\\ubb38\\uc5d0 \\ub9c8\\uc74c\\uc774 \\ubd88\\ud3b8\\ud574\",\n          \"\\ubcd1\\uc0c1\\uc5d0 \\uc788\\uc744 \\ub54c \\uac00\\uc871\\ub4e4\\uc5d0\\uac8c \\ud654\\ub0b4\\uace0 \\ud22c\\uc815 \\ubd80\\ub838\\ub358 \\uac83\\uc774 \\ubbf8\\uc548\\ud558\\uace0 \\ub9c8\\uc74c\\uc5d0 \\ub0a8\\ub124 \\ub098\\ub9cc \\ud798\\ub4e0 \\uac8c \\uc544\\ub2c8\\ub77c \\uac00\\uc871\\ub4e4\\ub3c4 \\ub2e4 \\uac19\\uc774 \\ud798\\ub4e4\\uace0 \\ud56d\\uc0c1 \\ub0b4 \\uac71\\uc815\\uc744 \\ud588\\uc5c8\\uc744 \\ud150\\ub370 \\ub9d0\\uc774\\uc57c\",\n          \"\\uc624\\ub298 \\uc6b0\\ub9ac \\ub0a8\\ud3b8\\uc774\\ub791 \\uc544\\uc774\\ub4e4\\uc774\\ub791 \\uc678\\uc2dd\\ud558\\ub7ec \\uc2dd\\ub2f9\\uc5d0 \\uac14\\uc5c8\\uc5b4 \\uc751 \\ub9de\\uc544 \\uc6b0\\ub9ac \\uc9d1\\ucc98\\ub7fc \\uc774\\ub807\\uac8c \\uac00\\uc871\\ubaa8\\uc784\\uc744 \\uc18c\\uc911\\ud788 \\uc5ec\\uae30\\ub294 \\uc0ac\\ub78c\\ub4e4\\uc774 \\ub9ce\\uc774 \\uc5c6\\uc744 \\uac83 \\uac19\\uc544\"\n        ],\n        \"semantic_type\": \"\",\n        \"description\": \"\"\n      }\n    },\n    {\n      \"column\": \"emotion\",\n      \"properties\": {\n        \"dtype\": \"category\",\n        \"num_unique_values\": 6,\n        \"samples\": [\n          \"\\ubd84\\ub178\",\n          \"\\uae30\\uc068\",\n          \"\\uc0c1\\ucc98\"\n        ],\n        \"semantic_type\": \"\",\n        \"description\": \"\"\n      }\n    },\n    {\n      \"column\": \"labels\",\n      \"properties\": {\n        \"dtype\": \"number\",\n        \"std\": 1,\n        \"min\": 0,\n        \"max\": 5,\n        \"num_unique_values\": 6,\n        \"samples\": [\n          2,\n          0,\n          4\n        ],\n        \"semantic_type\": \"\",\n        \"description\": \"\"\n      }\n    },\n    {\n      \"column\": \"cleaned_text\",\n      \"properties\": {\n        \"dtype\": \"string\",\n        \"num_unique_values\": 57680,\n        \"samples\": [\n          \"\\ub09c \\ud56d\\uc0c1 \\uc815\\uae30\\uc801\\uc73c\\ub85c \\uac80\\uc9c4\\uc744 \\ubc1b\\ub294\\ub370 \\uc774\\uac8c \\ube44\\uc2f8\\uae34 \\uc774\\ubc88\\uc5d0 \\ud070 \\ub3c4\\uc6c0\\uc774 \\ub410\\uc5b4 \\uc0dd\\uae34 \\uc791\\uc740 \\uc885\\uc591\\uc774 \\uc788\\ub294\\ub370 \\ub2e4\\ud589\\ud788 \\ucd08\\uae30\\uc5d0 \\ubc1c\\uacac\\ub3fc\\uc11c \\uae08\\ubc29 \\uc5c6\\uc568 \\uc788\\ub300\",\n          \"\\uc544\\ube60\\ub294 \\ub0b4 \\ubc29\\uc5d0 \\ub178\\ud06c\\ub3c4 \\ubc29\\uc5d0 \\ub4e4\\uc5b4\\uc640\\uc11c \\uac00\\ub054 \\ub180\\ub77c\\uac8c \\uc637\\uc744 \\uac08\\uc544\\uc785\\uc744 \\ub54c\\ub3c4 \\uac11\\uc790\\uae30 \\ub4e4\\uc5b4\\uc624\\uc2dc\\ub2c8\\uae4c \\uc2a4\\ud2b8\\ub808\\uc2a4\\ubc1b\\uc544\",\n          \"\\uc694\\uc998 \\ud3b8\\uc758\\uc810\\uc774 \\uc798 \\uc548\\ub418\\uc5b4\\uc11c \\uc9c0\\uae08 \\uc4f0\\ub294 \\uc544\\ub974\\ubc14\\uc774\\ud2b8\\uc0dd\\ubcf4\\ub2e4 \\uc21c\\uc218\\uc775\\uc774 \\uc801\\uc5b4 \\uc606\\uc9d1 \\uc0ac\\uc7a5\\uc774 \\uadf8\\ub9cc\\ub450\\uace0 \\uce58\\ud0a8\\uc9d1\\uc744 \\ud574\\ubcf4\\ub77c\\ub294\\ub370 \\uacbd\\uae30\\ub3c4 \\uc88b\\uace0 \\ubbff\\uc9c0 \\ubabb\\ud558\\uaca0\\uc5b4\"\n        ],\n        \"semantic_type\": \"\",\n        \"description\": \"\"\n      }\n    }\n  ]\n}"
            }
          },
          "metadata": {},
          "execution_count": 19
        }
      ]
    },
    {
      "cell_type": "code",
      "source": [
        "def create_vocab_and_tokenize(reviews, min_freq=0, max_length=64):\n",
        "    # 리뷰를 토큰화합니다.\n",
        "    def tokenize_text(text):\n",
        "        return text.split()\n",
        "\n",
        "    tokenized_reviews = [tokenize_text(review) for review in reviews]\n",
        "\n",
        "    # 각 토큰의 발생 횟수를 세어봅니다.\n",
        "    token_counts = Counter(chain(*tokenized_reviews))\n",
        "\n",
        "    # min_freq 이상 출현한 토큰만으로 어휘를 만듭니다.\n",
        "    vocab = {token: i for i, (token, count) in enumerate(token_counts.items()) if count >= min_freq}\n",
        "\n",
        "    #어휘에 특수 토큰을 추가합니다\n",
        "    vocab = {**{'[PAD]': 0, '[UNK]': 1, '[CLS]': 2, '[SEP]': 3}, **vocab}\n",
        "\n",
        "    # 리뷰를 입력 ID와 attention masks로 변환합니다.\n",
        "    input_ids = []\n",
        "    attention_masks = []\n",
        "\n",
        "    for review in reviews:\n",
        "        # 리뷰를 토큰화하고 최대 길이에 맞게 잘라냅니다.\n",
        "        tokens = tokenize_text(review)[:max_length-2]\n",
        "        input_id = [2] + [vocab.get(token, 1) for token in tokens] + [3]\n",
        "\n",
        "        attention_mask = [1] * len(input_id) + [0] * (max_length - len(input_id))\n",
        "        input_id += [0] * (max_length - len(input_id))\n",
        "        input_ids.append(input_id)\n",
        "        attention_masks.append(attention_mask)\n",
        "\n",
        "    return vocab, torch.tensor(input_ids), torch.tensor(attention_masks)"
      ],
      "metadata": {
        "id": "sH_9wTTSTsS7"
      },
      "execution_count": 20,
      "outputs": []
    },
    {
      "cell_type": "code",
      "source": [
        "text = df['cleaned_text'].tolist()\n",
        "emotions = df['labels'].tolist()"
      ],
      "metadata": {
        "id": "5IFB-KmkT0jS"
      },
      "execution_count": 21,
      "outputs": []
    },
    {
      "cell_type": "code",
      "source": [
        "vocab, input_ids, attention_masks = create_vocab_and_tokenize(text)\n",
        "\n",
        "# # a temporary list\n",
        "# temp_list = y\n",
        "\n",
        "# # dictionary that maps integer to its string value\n",
        "# label_dict = {}\n",
        "\n",
        "# # list to store integer labels\n",
        "# emotions_int_labels = []\n",
        "\n",
        "# for i in range(len(temp_list)):\n",
        "#     label_dict[i] = temp_list[i]\n",
        "#     emotions_int_labels.append(i)\n",
        "\n",
        "\n",
        "emotions = torch.tensor(emotions)\n",
        "\n",
        "input_ids = input_ids.type(torch.LongTensor)\n",
        "input_ids = input_ids.to(device)\n",
        "attention_masks = attention_masks.to(device)\n",
        "\n",
        "emotions = emotions.type(torch.LongTensor)\n",
        "emotions = emotions.to(device)\n",
        "\n",
        "# labels = labels.type(torch.LongTensor) # <---- Here (casting)\n",
        "# labels = labels.to(device)"
      ],
      "metadata": {
        "id": "X38CE_hnUKBg"
      },
      "execution_count": 22,
      "outputs": []
    },
    {
      "cell_type": "code",
      "source": [
        "#데이터셋 생성\n",
        "dataset = TensorDataset(input_ids, attention_masks, emotions)\n",
        "\n",
        "# 90%를 train 10%는 validation 사용\n",
        "train_size = int(0.9 * len(dataset))\n",
        "val_size = len(dataset) - train_size\n",
        "#random_split 데이터셋 무작위 분할\n",
        "train_dataset, val_dataset = random_split(dataset, [train_size, val_size])"
      ],
      "metadata": {
        "id": "3hiz_-yoUQ9n"
      },
      "execution_count": 23,
      "outputs": []
    },
    {
      "cell_type": "code",
      "source": [
        "batch_size = 64\n",
        "#훈련데이터를 위한 데이터 로더\n",
        "train_dataloader = DataLoader(\n",
        "    train_dataset,\n",
        "    sampler = RandomSampler(train_dataset),  # 무작위 샘플링\n",
        "    batch_size = batch_size\n",
        ")\n",
        "#검증 데이터를 위한 데이터 로더\n",
        "validation_dataloader = DataLoader(\n",
        "    val_dataset,\n",
        "    sampler = SequentialSampler(val_dataset),  # 순차적 샘플링\n",
        "    batch_size = batch_size\n",
        ")"
      ],
      "metadata": {
        "id": "6okAqOloUT5s"
      },
      "execution_count": 24,
      "outputs": []
    },
    {
      "cell_type": "code",
      "source": [
        "maxlen = 512\n",
        "vocab_size = len(vocab)\n",
        "max_pred = 20\n",
        "\n",
        "n_layers = 12\n",
        "n_heads = 8\n",
        "d_model = 768\n",
        "d_ff = 768*4\n",
        "d_k = d_v = 64\n",
        "\n",
        "n_segments = 2\n",
        "lr = 0.0001\n",
        "epochs = 150\n",
        "\n",
        "dropout = 0.1"
      ],
      "metadata": {
        "id": "8mdWG_vqUVTi"
      },
      "execution_count": 25,
      "outputs": []
    },
    {
      "cell_type": "code",
      "source": [
        "def gelu(x):\n",
        "  return x *0.5 * (1.0 + torch.erf(x / math.sqrt(2.0)))"
      ],
      "metadata": {
        "id": "jdTsW4H4UXie"
      },
      "execution_count": 26,
      "outputs": []
    },
    {
      "cell_type": "code",
      "source": [
        "class Embedding(nn.Module):\n",
        "    def __init__(self, vocab_size):\n",
        "        super().__init__()\n",
        "\n",
        "        self.tok_embedding = nn.Embedding(vocab_size, d_model) # 토큰임베딩 : 주어진 단어나 토큰을 d_model 차원의 벡터로 변환\n",
        "        self.pos_embedding = nn.Embedding(maxlen, d_model) # 위치 임베딩 :  각 토큰의 위치를  d_model 차원의 벡터로 변환\n",
        "        self.norm = nn.LayerNorm(d_model) # LayerNorm : 임베딩 벡터를 정규화\n",
        "        self.dropout = nn.Dropout(dropout) #모델 과적합 방지\n",
        "\n",
        "    def forward(self, x):\n",
        "        seq_len = x.size(1) #입력 시퀀스의 길이를 가져옴\n",
        "        #입력 x의 각 토큰에 대한 위치 정보를 생성\n",
        "        pos = torch.arange(seq_len,dtype = torch.long, device = x.device)\n",
        "        pos = pos.unsqueeze(0).repeat(x.size(0), 1)\n",
        "\n",
        "        #토큰임베딩과 위치임베팅을 합침\n",
        "        embedding = self.tok_embedding(x) + self.pos_embedding(pos)\n",
        "\n",
        "        return self.dropout(self.norm(embedding))"
      ],
      "metadata": {
        "id": "VAJQDIjEUaEz"
      },
      "execution_count": 27,
      "outputs": []
    },
    {
      "cell_type": "code",
      "source": [
        "class MultiHeadAttention(nn.Module):\n",
        "    def __init__(self):\n",
        "        super().__init__()\n",
        "\n",
        "        self.w_q = nn.Linear(d_model, d_model)\n",
        "        self.w_k = nn.Linear(d_model, d_model)\n",
        "        self.w_v = nn.Linear(d_model, d_model)\n",
        "\n",
        "        self.dropout = nn.Dropout(dropout)\n",
        "\n",
        "        self.fc = nn.Linear(d_model, d_model)\n",
        "\n",
        "        self.scale = torch.sqrt(torch.FloatTensor([d_model//n_heads])).to(device)\n",
        "\n",
        "        self.softmax = nn.Softmax(dim=-1)\n",
        "\n",
        "    def forward(self, query, key, value, mask=None):\n",
        "        batch_size = query.shape[0]\n",
        "\n",
        "        Q = self.w_q(query)\n",
        "        K = self.w_k(key)\n",
        "        V = self.w_v(value)\n",
        "\n",
        "        Q = Q.view(batch_size, -1, n_heads, d_model//n_heads).permute(0, 2, 1, 3)\n",
        "        K = K.view(batch_size, -1, n_heads, d_model//n_heads).permute(0, 2, 1, 3)\n",
        "        V = V.view(batch_size, -1, n_heads, d_model//n_heads).permute(0, 2, 1, 3)\n",
        "\n",
        "        energy = torch.matmul(Q, K.permute(0, 1, 3, 2)) / self.scale\n",
        "\n",
        "        if mask is not None:\n",
        "            energy = energy.masked_fill(mask == 0, -1e10)\n",
        "\n",
        "        attention = self.dropout(self.softmax(energy))\n",
        "\n",
        "        X = torch.matmul(attention, V)\n",
        "        X = X.permute(0, 2, 1, 3).contiguous()\n",
        "        X = X.view(batch_size, -1, d_model)\n",
        "\n",
        "        X = self.fc(X)\n",
        "\n",
        "        return X\n"
      ],
      "metadata": {
        "id": "C64OYMQ7Ub8U"
      },
      "execution_count": 28,
      "outputs": []
    },
    {
      "cell_type": "code",
      "source": [
        "class PositionwiseFeedforward(nn.Module):\n",
        "    def __init__(self):\n",
        "        super().__init__()\n",
        "\n",
        "        self.conv1 = nn.Conv1d(d_model, d_ff, 1)\n",
        "        self.conv2 = nn.Conv1d(d_ff, d_model, 1)\n",
        "\n",
        "        self.dropout = nn.Dropout(dropout)\n",
        "\n",
        "    def forward(self, x):\n",
        "        # x => [batch_size, seq_len, d_model]\n",
        "        x = x.permute(0, 2, 1)\n",
        "        x = self.dropout(gelu(self.conv1(x)))\n",
        "\n",
        "        x = self.conv2(x)\n",
        "\n",
        "        x = x.permute(0, 2, 1)\n",
        "\n",
        "        return x\n",
        "      #fc1, fc2대신."
      ],
      "metadata": {
        "id": "z44zq-3PUd7Q"
      },
      "execution_count": 29,
      "outputs": []
    },
    {
      "cell_type": "code",
      "source": [
        "class EncoderLayer(nn.Module):\n",
        "    def __init__(self):\n",
        "        super().__init__()\n",
        "\n",
        "        self.encoder_self_attn = MultiHeadAttention()\n",
        "        self.encoder_feed_fwd = PositionwiseFeedforward()\n",
        "        self.layer_norm = nn.LayerNorm(d_model)\n",
        "        self.dropout = nn.Dropout(dropout)\n",
        "\n",
        "    def forward(self, input, input_mask=None):\n",
        "    # input => [batch_size, seq_len, d_model]\n",
        "\n",
        "      encoder_outputs = self.layer_norm(input + self.dropout(self.encoder_self_attn(input, input, input, input_mask)))\n",
        "      encoder_outputs = self.layer_norm(encoder_outputs + self.dropout(self.encoder_feed_fwd(encoder_outputs)))\n",
        "      return encoder_outputs"
      ],
      "metadata": {
        "id": "zySbUZuVUfiB"
      },
      "execution_count": 30,
      "outputs": []
    },
    {
      "cell_type": "code",
      "source": [
        "class Bert(nn.Module):\n",
        "    def __init__(self, vocab_size):\n",
        "        super().__init__()\n",
        "\n",
        "        self.embedding = Embedding(vocab_size)\n",
        "        self.layers = nn.ModuleList([EncoderLayer() for _ in range(n_layers)])\n",
        "\n",
        "        self.linear = nn.Linear(d_model, d_model)\n",
        "        self.activn = gelu\n",
        "        self.norm = nn.LayerNorm(d_model)\n",
        "\n",
        "        # outfeature 개수 조정\n",
        "        # merged_dataset: '분노', '슬픔', '기쁨', '당황', '불안', '상처'\n",
        "        self.classifier = nn.Linear(d_model, 8)\n",
        "\n",
        "    def forward(self, input_ids, attention_mask):\n",
        "        # 임베딩 레이어를 통과\n",
        "        embedding_output = self.embedding(input_ids)\n",
        "        # 각 인코더 레이어를 순차적으로 통과\n",
        "        for layer in self.layers:\n",
        "            encoder_output = layer(embedding_output)\n",
        "        pooled_output = encoder_output[:, 0]\n",
        "        # 분류를 위해 선형 레이어를 통과\n",
        "        output = self.classifier(pooled_output)\n",
        "\n",
        "        return output"
      ],
      "metadata": {
        "id": "aoE29Tc5Uhe-"
      },
      "execution_count": 31,
      "outputs": []
    },
    {
      "cell_type": "code",
      "source": [
        "model = Bert(vocab_size)\n",
        "model = model.to(device)\n",
        "# criterion = nn.NLLLoss()\n",
        "criterion = nn.CrossEntropyLoss()\n",
        "# criterion = nn.BCEWithLogitsLoss()\n",
        "optimizer = optim.Adam(model.parameters(), lr=lr)\n",
        "\n",
        "print(model)"
      ],
      "metadata": {
        "colab": {
          "base_uri": "https://localhost:8080/"
        },
        "id": "u3vVY0QpUjWr",
        "outputId": "ed71c10b-688f-4735-fbbb-37a1b1b11eed"
      },
      "execution_count": 32,
      "outputs": [
        {
          "output_type": "stream",
          "name": "stdout",
          "text": [
            "Bert(\n",
            "  (embedding): Embedding(\n",
            "    (tok_embedding): Embedding(95317, 768)\n",
            "    (pos_embedding): Embedding(512, 768)\n",
            "    (norm): LayerNorm((768,), eps=1e-05, elementwise_affine=True)\n",
            "    (dropout): Dropout(p=0.1, inplace=False)\n",
            "  )\n",
            "  (layers): ModuleList(\n",
            "    (0-11): 12 x EncoderLayer(\n",
            "      (encoder_self_attn): MultiHeadAttention(\n",
            "        (w_q): Linear(in_features=768, out_features=768, bias=True)\n",
            "        (w_k): Linear(in_features=768, out_features=768, bias=True)\n",
            "        (w_v): Linear(in_features=768, out_features=768, bias=True)\n",
            "        (dropout): Dropout(p=0.1, inplace=False)\n",
            "        (fc): Linear(in_features=768, out_features=768, bias=True)\n",
            "        (softmax): Softmax(dim=-1)\n",
            "      )\n",
            "      (encoder_feed_fwd): PositionwiseFeedforward(\n",
            "        (conv1): Conv1d(768, 3072, kernel_size=(1,), stride=(1,))\n",
            "        (conv2): Conv1d(3072, 768, kernel_size=(1,), stride=(1,))\n",
            "        (dropout): Dropout(p=0.1, inplace=False)\n",
            "      )\n",
            "      (layer_norm): LayerNorm((768,), eps=1e-05, elementwise_affine=True)\n",
            "      (dropout): Dropout(p=0.1, inplace=False)\n",
            "    )\n",
            "  )\n",
            "  (linear): Linear(in_features=768, out_features=768, bias=True)\n",
            "  (norm): LayerNorm((768,), eps=1e-05, elementwise_affine=True)\n",
            "  (classifier): Linear(in_features=768, out_features=8, bias=True)\n",
            ")\n"
          ]
        }
      ]
    },
    {
      "cell_type": "code",
      "source": [
        "def train_and_validate(model, train_dataloader, validation_dataloader, epochs, optimizer, criterion):\n",
        "\n",
        "    best_val_accuracy = 0.0\n",
        "    train_losses = []\n",
        "    val_losses = []\n",
        "    train_accuracies = []\n",
        "    val_accuracies = []\n",
        "\n",
        "    for epoch in range(epochs):\n",
        "        print(f\"Epoch {epoch + 1}/{epochs}\")\n",
        "        print(\"-\" * 10)\n",
        "\n",
        "        model.train()\n",
        "        total_loss = 0\n",
        "        train_preds, train_labels = [], []\n",
        "\n",
        "\n",
        "        progress_bar = tqdm(train_dataloader, desc=\"Training\", position = 0 , leave=True)\n",
        "        for step, batch in enumerate(progress_bar):\n",
        "            b_input_ids = batch[0].to(device)\n",
        "            b_input_mask = batch[1].to(device)\n",
        "            b_labels = batch[2].long().to(device)\n",
        "\n",
        "            #그래디언트 초기화\n",
        "            model.zero_grad()\n",
        "\n",
        "            outputs = model(b_input_ids, b_input_mask)\n",
        "\n",
        "            #손실계산\n",
        "            loss = criterion(outputs.squeeze(), b_labels.long())\n",
        "            # loss = criterion(outputs.squeeze(), b_labels.float())\n",
        "            total_loss += loss.item()\n",
        "\n",
        "            #그래디언트 역전파\n",
        "            loss.backward()\n",
        "\n",
        "            #그래디언트 클리핑 - 폭발방지\n",
        "            torch.nn.utils.clip_grad_norm_(model.parameters(), 1.0)\n",
        "\n",
        "            #모델 파라미터 업데이트\n",
        "            optimizer.step()\n",
        "\n",
        "            #예측값 레이블 저장\n",
        "            softmax_probs = torch.nn.functional.softmax(outputs, dim=1)\n",
        "            train_preds.extend(softmax_probs.squeeze().detach().cpu().numpy().tolist())\n",
        "            # train_preds.extend(torch.sigmoid(outputs).squeeze().detach().cpu().numpy().tolist())\n",
        "            train_labels.extend(b_labels.squeeze().detach().cpu().numpy().tolist())\n",
        "\n",
        "            #진행바 업데이트\n",
        "            progress_bar.set_postfix({\"training_loss\": \"{:.3f}\".format(loss.item() / len(train_dataloader))})\n",
        "\n",
        "        #평균학습손실\n",
        "        avg_train_loss = total_loss / len(train_dataloader)\n",
        "        print(f\"Average training loss: {avg_train_loss:.4f}\")\n",
        "\n",
        "        # (바이너리) 학습 정확도 측정\n",
        "        # train_preds = [1 if pred > 0.5 else 0 for pred in train_preds]\n",
        "        # train_acc = accuracy_score(train_labels, train_preds)\n",
        "        # print(f\"Train Accuracy: {train_acc:.4f}\")\n",
        "\n",
        "\n",
        "        # train_preds를 텐서로 변환\n",
        "        # train_preds에서 각 샘플에 대한 최대값을 가지는 클래스 찾기\n",
        "        predicted_classes = torch.argmax(torch.tensor(train_preds), axis=1)\n",
        "\n",
        "        # 실제 레이블과 비교하여 정확도 계산\n",
        "        train_labels_numpy = np.array([label for label in train_labels])\n",
        "        train_preds_numpy = predicted_classes.numpy()  # 예측된 클래스를 넘파이 배열로 변환\n",
        "\n",
        "        # 정확도 계산\n",
        "        train_acc = accuracy_score(train_labels_numpy, train_preds_numpy)\n",
        "        print(f\"Train Accuracy: {train_acc:.4f}\")\n",
        "\n",
        "        train_losses.append(avg_train_loss)\n",
        "        train_accuracies.append(train_acc)\n",
        "\n",
        "\n",
        "        #검증모드 설정\n",
        "        model.eval()\n",
        "        total_eval_loss = 0\n",
        "        val_preds, val_labels = [], []\n",
        "\n",
        "        #검증데이터로 검증 진행\n",
        "        progress_bar = tqdm(validation_dataloader, desc=\"Validation\", position =0, leave=True)\n",
        "        for step, batch in enumerate(progress_bar):\n",
        "            b_input_ids = batch[0].to(device)\n",
        "            b_input_mask = batch[1].to(device)\n",
        "            b_labels = batch[2].long().to(device)\n",
        "\n",
        "            #그래디언트 계산 비활성화\n",
        "            with torch.no_grad():\n",
        "                outputs = model(b_input_ids, b_input_mask)\n",
        "\n",
        "                #손실계산\n",
        "                loss = criterion(outputs.squeeze(), b_labels.long())\n",
        "                total_eval_loss += loss.item()\n",
        "\n",
        "                #예측값 및 레이블 저장\n",
        "\n",
        "                softmax_probs = torch.nn.functional.softmax(outputs, dim=1)\n",
        "\n",
        "                val_preds.extend(softmax_probs.squeeze().detach().cpu().numpy().tolist())\n",
        "                val_labels.extend(b_labels.squeeze().detach().cpu().numpy().tolist())\n",
        "\n",
        "                #진행바 업데이트\n",
        "                progress_bar.set_postfix({\"validation_loss\": \"{:.3f}\".format(loss.item() / len(batch))})\n",
        "\n",
        "        #평균검증손실\n",
        "\n",
        "        avg_val_loss = total_eval_loss / len(validation_dataloader)\n",
        "\n",
        "        # train_preds에서 각 샘플에 대한 최대값을 가지는 클래스 찾기\n",
        "        val_predicted_classes = torch.argmax(torch.tensor(val_preds), axis=1)\n",
        "\n",
        "        # 실제 레이블과 비교하여 정확도 계산\n",
        "        val_labels_numpy = np.array([label for label in val_labels])\n",
        "        val_preds_numpy = val_predicted_classes.numpy()  # 예측된 클래스를 넘파이 배열로 변환\n",
        "\n",
        "        #검증 정확도 측정 val_preds = [1 if pred > 0.5 else 0 for pred in val_preds]\n",
        "        val_acc = accuracy_score(val_labels_numpy, val_preds_numpy)\n",
        "        print(f\"Validation Accuracy: {val_acc:.4f}\")\n",
        "\n",
        "        val_losses.append(avg_val_loss)\n",
        "        val_accuracies.append(val_acc)\n",
        "\n",
        "\n",
        "        if val_acc > best_val_accuracy:\n",
        "            best_val_accuracy = val_acc\n",
        "            # Save the model if the current validation accuracy is the best\n",
        "            if not os.path.exists(\"/content/datamerged_model.pth\"):\n",
        "              print(\"File does not exist.\")\n",
        "              with open(\"/content/datamerged_model.pth\", \"w\") as f:\n",
        "                pass\n",
        "            torch.save(model.state_dict(),  \"/content/datamerged_model.pth\")\n",
        "\n",
        "            print(f\"Model saved: Improved validation accuracy to {val_acc:.4f}\")\n",
        "\n",
        "    return train_losses, val_losses, train_accuracies, val_accuracies\n"
      ],
      "metadata": {
        "id": "6BunYSjMUlEb"
      },
      "execution_count": 33,
      "outputs": []
    },
    {
      "cell_type": "code",
      "source": [
        "import tensorflow as tf\n",
        "\n",
        "\n",
        "check_point_path = '/content/drive/MyDrive/1조_감성대화/BERT_checkpoint'\n",
        "mc = tf.keras.callbacks.ModelCheckpoint(check_point_path,\n",
        "                                        monitor='val_loss',\n",
        "                                        save_best_only=True)\n",
        "es = tf.keras.callbacks.EarlyStopping(monitor='val_loss', patience=4)\n"
      ],
      "metadata": {
        "id": "lLFWCUMS518V"
      },
      "execution_count": 37,
      "outputs": []
    },
    {
      "cell_type": "code",
      "source": [
        "train_losses, val_losses, train_accuracies, val_accuracies = train_and_validate(model, train_dataloader, validation_dataloader, epochs, optimizer, criterion)"
      ],
      "metadata": {
        "id": "BQXv6LdYUzj5",
        "colab": {
          "base_uri": "https://localhost:8080/"
        },
        "outputId": "8df2b9b3-6692-4b93-a5f3-fec9bc5d2b70"
      },
      "execution_count": null,
      "outputs": [
        {
          "output_type": "stream",
          "name": "stdout",
          "text": [
            "Epoch 1/150\n",
            "----------\n"
          ]
        },
        {
          "output_type": "stream",
          "name": "stderr",
          "text": [
            "Training: 100%|██████████| 820/820 [01:24<00:00,  9.67it/s, training_loss=0.001]\n"
          ]
        },
        {
          "output_type": "stream",
          "name": "stdout",
          "text": [
            "Average training loss: 1.3378\n",
            "Train Accuracy: 0.4816\n"
          ]
        },
        {
          "output_type": "stream",
          "name": "stderr",
          "text": [
            "Validation: 100%|██████████| 92/92 [00:06<00:00, 13.33it/s, validation_loss=0.432]\n"
          ]
        },
        {
          "output_type": "stream",
          "name": "stdout",
          "text": [
            "Validation Accuracy: 0.5012\n",
            "Model saved: Improved validation accuracy to 0.5012\n",
            "Epoch 2/150\n",
            "----------\n"
          ]
        },
        {
          "output_type": "stream",
          "name": "stderr",
          "text": [
            "Training: 100%|██████████| 820/820 [01:24<00:00,  9.69it/s, training_loss=0.001]\n"
          ]
        },
        {
          "output_type": "stream",
          "name": "stdout",
          "text": [
            "Average training loss: 1.2560\n",
            "Train Accuracy: 0.5192\n"
          ]
        },
        {
          "output_type": "stream",
          "name": "stderr",
          "text": [
            "Validation: 100%|██████████| 92/92 [00:06<00:00, 13.36it/s, validation_loss=0.434]\n"
          ]
        },
        {
          "output_type": "stream",
          "name": "stdout",
          "text": [
            "Validation Accuracy: 0.5165\n",
            "Model saved: Improved validation accuracy to 0.5165\n",
            "Epoch 3/150\n",
            "----------\n"
          ]
        },
        {
          "output_type": "stream",
          "name": "stderr",
          "text": [
            "Training: 100%|██████████| 820/820 [01:24<00:00,  9.68it/s, training_loss=0.002]\n"
          ]
        },
        {
          "output_type": "stream",
          "name": "stdout",
          "text": [
            "Average training loss: 1.2004\n",
            "Train Accuracy: 0.5465\n"
          ]
        },
        {
          "output_type": "stream",
          "name": "stderr",
          "text": [
            "Validation: 100%|██████████| 92/92 [00:06<00:00, 13.34it/s, validation_loss=0.458]\n"
          ]
        },
        {
          "output_type": "stream",
          "name": "stdout",
          "text": [
            "Validation Accuracy: 0.5269\n",
            "Model saved: Improved validation accuracy to 0.5269\n",
            "Epoch 4/150\n",
            "----------\n"
          ]
        },
        {
          "output_type": "stream",
          "name": "stderr",
          "text": [
            "Training: 100%|██████████| 820/820 [01:25<00:00,  9.62it/s, training_loss=0.001]\n"
          ]
        },
        {
          "output_type": "stream",
          "name": "stdout",
          "text": [
            "Average training loss: 1.1465\n",
            "Train Accuracy: 0.5692\n"
          ]
        },
        {
          "output_type": "stream",
          "name": "stderr",
          "text": [
            "Validation: 100%|██████████| 92/92 [00:06<00:00, 13.27it/s, validation_loss=0.426]\n"
          ]
        },
        {
          "output_type": "stream",
          "name": "stdout",
          "text": [
            "Validation Accuracy: 0.5357\n",
            "Model saved: Improved validation accuracy to 0.5357\n",
            "Epoch 5/150\n",
            "----------\n"
          ]
        },
        {
          "output_type": "stream",
          "name": "stderr",
          "text": [
            "Training: 100%|██████████| 820/820 [01:24<00:00,  9.69it/s, training_loss=0.001]\n"
          ]
        },
        {
          "output_type": "stream",
          "name": "stdout",
          "text": [
            "Average training loss: 1.1119\n",
            "Train Accuracy: 0.5849\n"
          ]
        },
        {
          "output_type": "stream",
          "name": "stderr",
          "text": [
            "Validation: 100%|██████████| 92/92 [00:06<00:00, 13.21it/s, validation_loss=0.368]\n"
          ]
        },
        {
          "output_type": "stream",
          "name": "stdout",
          "text": [
            "Validation Accuracy: 0.5377\n",
            "Model saved: Improved validation accuracy to 0.5377\n",
            "Epoch 6/150\n",
            "----------\n"
          ]
        },
        {
          "output_type": "stream",
          "name": "stderr",
          "text": [
            "Training: 100%|██████████| 820/820 [01:24<00:00,  9.67it/s, training_loss=0.001]\n"
          ]
        },
        {
          "output_type": "stream",
          "name": "stdout",
          "text": [
            "Average training loss: 1.0700\n",
            "Train Accuracy: 0.6034\n"
          ]
        },
        {
          "output_type": "stream",
          "name": "stderr",
          "text": [
            "Validation: 100%|██████████| 92/92 [00:06<00:00, 13.27it/s, validation_loss=0.480]\n"
          ]
        },
        {
          "output_type": "stream",
          "name": "stdout",
          "text": [
            "Validation Accuracy: 0.5455\n",
            "Model saved: Improved validation accuracy to 0.5455\n",
            "Epoch 7/150\n",
            "----------\n"
          ]
        },
        {
          "output_type": "stream",
          "name": "stderr",
          "text": [
            "Training: 100%|██████████| 820/820 [01:24<00:00,  9.66it/s, training_loss=0.002]\n"
          ]
        },
        {
          "output_type": "stream",
          "name": "stdout",
          "text": [
            "Average training loss: 1.0378\n",
            "Train Accuracy: 0.6159\n"
          ]
        },
        {
          "output_type": "stream",
          "name": "stderr",
          "text": [
            "Validation: 100%|██████████| 92/92 [00:06<00:00, 13.33it/s, validation_loss=0.384]\n"
          ]
        },
        {
          "output_type": "stream",
          "name": "stdout",
          "text": [
            "Validation Accuracy: 0.5484\n",
            "Model saved: Improved validation accuracy to 0.5484\n",
            "Epoch 8/150\n",
            "----------\n"
          ]
        },
        {
          "output_type": "stream",
          "name": "stderr",
          "text": [
            "Training: 100%|██████████| 820/820 [01:24<00:00,  9.66it/s, training_loss=0.002]\n"
          ]
        },
        {
          "output_type": "stream",
          "name": "stdout",
          "text": [
            "Average training loss: 1.0069\n",
            "Train Accuracy: 0.6291\n"
          ]
        },
        {
          "output_type": "stream",
          "name": "stderr",
          "text": [
            "Validation: 100%|██████████| 92/92 [00:06<00:00, 13.24it/s, validation_loss=0.366]\n"
          ]
        },
        {
          "output_type": "stream",
          "name": "stdout",
          "text": [
            "Validation Accuracy: 0.5441\n",
            "Epoch 9/150\n",
            "----------\n"
          ]
        },
        {
          "output_type": "stream",
          "name": "stderr",
          "text": [
            "Training: 100%|██████████| 820/820 [01:25<00:00,  9.64it/s, training_loss=0.001]\n"
          ]
        },
        {
          "output_type": "stream",
          "name": "stdout",
          "text": [
            "Average training loss: 0.9699\n",
            "Train Accuracy: 0.6425\n"
          ]
        },
        {
          "output_type": "stream",
          "name": "stderr",
          "text": [
            "Validation: 100%|██████████| 92/92 [00:06<00:00, 13.24it/s, validation_loss=0.426]\n"
          ]
        },
        {
          "output_type": "stream",
          "name": "stdout",
          "text": [
            "Validation Accuracy: 0.5570\n",
            "Model saved: Improved validation accuracy to 0.5570\n",
            "Epoch 10/150\n",
            "----------\n"
          ]
        },
        {
          "output_type": "stream",
          "name": "stderr",
          "text": [
            "Training: 100%|██████████| 820/820 [01:25<00:00,  9.62it/s, training_loss=0.001]\n"
          ]
        },
        {
          "output_type": "stream",
          "name": "stdout",
          "text": [
            "Average training loss: 0.9478\n",
            "Train Accuracy: 0.6519\n"
          ]
        },
        {
          "output_type": "stream",
          "name": "stderr",
          "text": [
            "Validation: 100%|██████████| 92/92 [00:06<00:00, 13.23it/s, validation_loss=0.426]\n"
          ]
        },
        {
          "output_type": "stream",
          "name": "stdout",
          "text": [
            "Validation Accuracy: 0.5554\n",
            "Epoch 11/150\n",
            "----------\n"
          ]
        },
        {
          "output_type": "stream",
          "name": "stderr",
          "text": [
            "Training: 100%|██████████| 820/820 [01:24<00:00,  9.65it/s, training_loss=0.001]\n"
          ]
        },
        {
          "output_type": "stream",
          "name": "stdout",
          "text": [
            "Average training loss: 0.9182\n",
            "Train Accuracy: 0.6639\n"
          ]
        },
        {
          "output_type": "stream",
          "name": "stderr",
          "text": [
            "Validation: 100%|██████████| 92/92 [00:06<00:00, 13.29it/s, validation_loss=0.439]\n"
          ]
        },
        {
          "output_type": "stream",
          "name": "stdout",
          "text": [
            "Validation Accuracy: 0.5592\n",
            "Model saved: Improved validation accuracy to 0.5592\n",
            "Epoch 12/150\n",
            "----------\n"
          ]
        },
        {
          "output_type": "stream",
          "name": "stderr",
          "text": [
            "Training: 100%|██████████| 820/820 [01:24<00:00,  9.67it/s, training_loss=0.001]\n"
          ]
        },
        {
          "output_type": "stream",
          "name": "stdout",
          "text": [
            "Average training loss: 0.8847\n",
            "Train Accuracy: 0.6801\n"
          ]
        },
        {
          "output_type": "stream",
          "name": "stderr",
          "text": [
            "Validation: 100%|██████████| 92/92 [00:06<00:00, 13.34it/s, validation_loss=0.475]\n"
          ]
        },
        {
          "output_type": "stream",
          "name": "stdout",
          "text": [
            "Validation Accuracy: 0.5597\n",
            "Model saved: Improved validation accuracy to 0.5597\n",
            "Epoch 13/150\n",
            "----------\n"
          ]
        },
        {
          "output_type": "stream",
          "name": "stderr",
          "text": [
            "Training: 100%|██████████| 820/820 [01:24<00:00,  9.65it/s, training_loss=0.001]\n"
          ]
        },
        {
          "output_type": "stream",
          "name": "stdout",
          "text": [
            "Average training loss: 0.8594\n",
            "Train Accuracy: 0.6864\n"
          ]
        },
        {
          "output_type": "stream",
          "name": "stderr",
          "text": [
            "Validation: 100%|██████████| 92/92 [00:06<00:00, 13.26it/s, validation_loss=0.450]\n"
          ]
        },
        {
          "output_type": "stream",
          "name": "stdout",
          "text": [
            "Validation Accuracy: 0.5609\n",
            "Model saved: Improved validation accuracy to 0.5609\n",
            "Epoch 14/150\n",
            "----------\n"
          ]
        },
        {
          "output_type": "stream",
          "name": "stderr",
          "text": [
            "Training: 100%|██████████| 820/820 [01:24<00:00,  9.68it/s, training_loss=0.001]\n"
          ]
        },
        {
          "output_type": "stream",
          "name": "stdout",
          "text": [
            "Average training loss: 0.8331\n",
            "Train Accuracy: 0.6967\n"
          ]
        },
        {
          "output_type": "stream",
          "name": "stderr",
          "text": [
            "Validation: 100%|██████████| 92/92 [00:06<00:00, 13.28it/s, validation_loss=0.373]\n"
          ]
        },
        {
          "output_type": "stream",
          "name": "stdout",
          "text": [
            "Validation Accuracy: 0.5546\n",
            "Epoch 15/150\n",
            "----------\n"
          ]
        },
        {
          "output_type": "stream",
          "name": "stderr",
          "text": [
            "Training: 100%|██████████| 820/820 [01:24<00:00,  9.65it/s, training_loss=0.001]\n"
          ]
        },
        {
          "output_type": "stream",
          "name": "stdout",
          "text": [
            "Average training loss: 0.8098\n",
            "Train Accuracy: 0.7085\n"
          ]
        },
        {
          "output_type": "stream",
          "name": "stderr",
          "text": [
            "Validation: 100%|██████████| 92/92 [00:06<00:00, 13.28it/s, validation_loss=0.465]\n"
          ]
        },
        {
          "output_type": "stream",
          "name": "stdout",
          "text": [
            "Validation Accuracy: 0.5631\n",
            "Model saved: Improved validation accuracy to 0.5631\n",
            "Epoch 16/150\n",
            "----------\n"
          ]
        },
        {
          "output_type": "stream",
          "name": "stderr",
          "text": [
            "Training: 100%|██████████| 820/820 [01:25<00:00,  9.64it/s, training_loss=0.001]\n"
          ]
        },
        {
          "output_type": "stream",
          "name": "stdout",
          "text": [
            "Average training loss: 0.7799\n",
            "Train Accuracy: 0.7174\n"
          ]
        },
        {
          "output_type": "stream",
          "name": "stderr",
          "text": [
            "Validation: 100%|██████████| 92/92 [00:06<00:00, 13.33it/s, validation_loss=0.455]\n"
          ]
        },
        {
          "output_type": "stream",
          "name": "stdout",
          "text": [
            "Validation Accuracy: 0.5577\n",
            "Epoch 17/150\n",
            "----------\n"
          ]
        },
        {
          "output_type": "stream",
          "name": "stderr",
          "text": [
            "Training: 100%|██████████| 820/820 [01:24<00:00,  9.67it/s, training_loss=0.001]\n"
          ]
        },
        {
          "output_type": "stream",
          "name": "stdout",
          "text": [
            "Average training loss: 0.7623\n",
            "Train Accuracy: 0.7280\n"
          ]
        },
        {
          "output_type": "stream",
          "name": "stderr",
          "text": [
            "Validation: 100%|██████████| 92/92 [00:06<00:00, 13.30it/s, validation_loss=0.434]\n"
          ]
        },
        {
          "output_type": "stream",
          "name": "stdout",
          "text": [
            "Validation Accuracy: 0.5643\n",
            "Model saved: Improved validation accuracy to 0.5643\n",
            "Epoch 18/150\n",
            "----------\n"
          ]
        },
        {
          "output_type": "stream",
          "name": "stderr",
          "text": [
            "Training: 100%|██████████| 820/820 [01:24<00:00,  9.67it/s, training_loss=0.001]\n"
          ]
        },
        {
          "output_type": "stream",
          "name": "stdout",
          "text": [
            "Average training loss: 0.7334\n",
            "Train Accuracy: 0.7360\n"
          ]
        },
        {
          "output_type": "stream",
          "name": "stderr",
          "text": [
            "Validation: 100%|██████████| 92/92 [00:07<00:00, 12.69it/s, validation_loss=0.406]\n"
          ]
        },
        {
          "output_type": "stream",
          "name": "stdout",
          "text": [
            "Validation Accuracy: 0.5654\n",
            "Model saved: Improved validation accuracy to 0.5654\n",
            "Epoch 19/150\n",
            "----------\n"
          ]
        },
        {
          "output_type": "stream",
          "name": "stderr",
          "text": [
            "Training: 100%|██████████| 820/820 [01:24<00:00,  9.67it/s, training_loss=0.000]\n"
          ]
        },
        {
          "output_type": "stream",
          "name": "stdout",
          "text": [
            "Average training loss: 0.7118\n",
            "Train Accuracy: 0.7456\n"
          ]
        },
        {
          "output_type": "stream",
          "name": "stderr",
          "text": [
            "Validation: 100%|██████████| 92/92 [00:06<00:00, 13.36it/s, validation_loss=0.529]\n"
          ]
        },
        {
          "output_type": "stream",
          "name": "stdout",
          "text": [
            "Validation Accuracy: 0.5578\n",
            "Epoch 20/150\n",
            "----------\n"
          ]
        },
        {
          "output_type": "stream",
          "name": "stderr",
          "text": [
            "Training: 100%|██████████| 820/820 [01:24<00:00,  9.66it/s, training_loss=0.000]\n"
          ]
        },
        {
          "output_type": "stream",
          "name": "stdout",
          "text": [
            "Average training loss: 0.6906\n",
            "Train Accuracy: 0.7523\n"
          ]
        },
        {
          "output_type": "stream",
          "name": "stderr",
          "text": [
            "Validation: 100%|██████████| 92/92 [00:06<00:00, 13.17it/s, validation_loss=0.616]\n"
          ]
        },
        {
          "output_type": "stream",
          "name": "stdout",
          "text": [
            "Validation Accuracy: 0.5637\n",
            "Epoch 21/150\n",
            "----------\n"
          ]
        },
        {
          "output_type": "stream",
          "name": "stderr",
          "text": [
            "Training: 100%|██████████| 820/820 [01:24<00:00,  9.65it/s, training_loss=0.001]\n"
          ]
        },
        {
          "output_type": "stream",
          "name": "stdout",
          "text": [
            "Average training loss: 0.6707\n",
            "Train Accuracy: 0.7584\n"
          ]
        },
        {
          "output_type": "stream",
          "name": "stderr",
          "text": [
            "Validation: 100%|██████████| 92/92 [00:07<00:00, 13.13it/s, validation_loss=0.449]\n"
          ]
        },
        {
          "output_type": "stream",
          "name": "stdout",
          "text": [
            "Validation Accuracy: 0.5621\n",
            "Epoch 22/150\n",
            "----------\n"
          ]
        },
        {
          "output_type": "stream",
          "name": "stderr",
          "text": [
            "Training: 100%|██████████| 820/820 [01:25<00:00,  9.62it/s, training_loss=0.001]\n"
          ]
        },
        {
          "output_type": "stream",
          "name": "stdout",
          "text": [
            "Average training loss: 0.6446\n",
            "Train Accuracy: 0.7685\n"
          ]
        },
        {
          "output_type": "stream",
          "name": "stderr",
          "text": [
            "Validation: 100%|██████████| 92/92 [00:06<00:00, 13.26it/s, validation_loss=0.459]\n"
          ]
        },
        {
          "output_type": "stream",
          "name": "stdout",
          "text": [
            "Validation Accuracy: 0.5650\n",
            "Epoch 23/150\n",
            "----------\n"
          ]
        },
        {
          "output_type": "stream",
          "name": "stderr",
          "text": [
            "Training: 100%|██████████| 820/820 [01:24<00:00,  9.65it/s, training_loss=0.000]\n"
          ]
        },
        {
          "output_type": "stream",
          "name": "stdout",
          "text": [
            "Average training loss: 0.6241\n",
            "Train Accuracy: 0.7772\n"
          ]
        },
        {
          "output_type": "stream",
          "name": "stderr",
          "text": [
            "Validation: 100%|██████████| 92/92 [00:06<00:00, 13.21it/s, validation_loss=0.592]\n"
          ]
        },
        {
          "output_type": "stream",
          "name": "stdout",
          "text": [
            "Validation Accuracy: 0.5667\n",
            "Model saved: Improved validation accuracy to 0.5667\n",
            "Epoch 24/150\n",
            "----------\n"
          ]
        },
        {
          "output_type": "stream",
          "name": "stderr",
          "text": [
            "Training: 100%|██████████| 820/820 [01:25<00:00,  9.65it/s, training_loss=0.001]\n"
          ]
        },
        {
          "output_type": "stream",
          "name": "stdout",
          "text": [
            "Average training loss: 0.6034\n",
            "Train Accuracy: 0.7841\n"
          ]
        },
        {
          "output_type": "stream",
          "name": "stderr",
          "text": [
            "Validation: 100%|██████████| 92/92 [00:06<00:00, 13.26it/s, validation_loss=0.505]\n"
          ]
        },
        {
          "output_type": "stream",
          "name": "stdout",
          "text": [
            "Validation Accuracy: 0.5645\n",
            "Epoch 25/150\n",
            "----------\n"
          ]
        },
        {
          "output_type": "stream",
          "name": "stderr",
          "text": [
            "Training: 100%|██████████| 820/820 [01:25<00:00,  9.61it/s, training_loss=0.001]\n"
          ]
        },
        {
          "output_type": "stream",
          "name": "stdout",
          "text": [
            "Average training loss: 0.5826\n",
            "Train Accuracy: 0.7910\n"
          ]
        },
        {
          "output_type": "stream",
          "name": "stderr",
          "text": [
            "Validation: 100%|██████████| 92/92 [00:06<00:00, 13.29it/s, validation_loss=0.630]\n"
          ]
        },
        {
          "output_type": "stream",
          "name": "stdout",
          "text": [
            "Validation Accuracy: 0.5700\n",
            "Model saved: Improved validation accuracy to 0.5700\n",
            "Epoch 26/150\n",
            "----------\n"
          ]
        },
        {
          "output_type": "stream",
          "name": "stderr",
          "text": [
            "Training: 100%|██████████| 820/820 [01:24<00:00,  9.65it/s, training_loss=0.001]\n"
          ]
        },
        {
          "output_type": "stream",
          "name": "stdout",
          "text": [
            "Average training loss: 0.5566\n",
            "Train Accuracy: 0.7998\n"
          ]
        },
        {
          "output_type": "stream",
          "name": "stderr",
          "text": [
            "Validation: 100%|██████████| 92/92 [00:06<00:00, 13.23it/s, validation_loss=0.629]\n"
          ]
        },
        {
          "output_type": "stream",
          "name": "stdout",
          "text": [
            "Validation Accuracy: 0.5673\n",
            "Epoch 27/150\n",
            "----------\n"
          ]
        },
        {
          "output_type": "stream",
          "name": "stderr",
          "text": [
            "Training: 100%|██████████| 820/820 [01:25<00:00,  9.64it/s, training_loss=0.000]\n"
          ]
        },
        {
          "output_type": "stream",
          "name": "stdout",
          "text": [
            "Average training loss: 0.5462\n",
            "Train Accuracy: 0.8054\n"
          ]
        },
        {
          "output_type": "stream",
          "name": "stderr",
          "text": [
            "Validation: 100%|██████████| 92/92 [00:06<00:00, 13.23it/s, validation_loss=0.652]\n"
          ]
        },
        {
          "output_type": "stream",
          "name": "stdout",
          "text": [
            "Validation Accuracy: 0.5602\n",
            "Epoch 28/150\n",
            "----------\n"
          ]
        },
        {
          "output_type": "stream",
          "name": "stderr",
          "text": [
            "Training: 100%|██████████| 820/820 [01:25<00:00,  9.60it/s, training_loss=0.001]\n"
          ]
        },
        {
          "output_type": "stream",
          "name": "stdout",
          "text": [
            "Average training loss: 0.5189\n",
            "Train Accuracy: 0.8152\n"
          ]
        },
        {
          "output_type": "stream",
          "name": "stderr",
          "text": [
            "Validation: 100%|██████████| 92/92 [00:06<00:00, 13.20it/s, validation_loss=0.462]\n"
          ]
        },
        {
          "output_type": "stream",
          "name": "stdout",
          "text": [
            "Validation Accuracy: 0.5559\n",
            "Epoch 29/150\n",
            "----------\n"
          ]
        },
        {
          "output_type": "stream",
          "name": "stderr",
          "text": [
            "Training: 100%|██████████| 820/820 [01:24<00:00,  9.65it/s, training_loss=0.000]\n"
          ]
        },
        {
          "output_type": "stream",
          "name": "stdout",
          "text": [
            "Average training loss: 0.5115\n",
            "Train Accuracy: 0.8159\n"
          ]
        },
        {
          "output_type": "stream",
          "name": "stderr",
          "text": [
            "Validation: 100%|██████████| 92/92 [00:06<00:00, 13.30it/s, validation_loss=0.496]\n"
          ]
        },
        {
          "output_type": "stream",
          "name": "stdout",
          "text": [
            "Validation Accuracy: 0.5667\n",
            "Epoch 30/150\n",
            "----------\n"
          ]
        },
        {
          "output_type": "stream",
          "name": "stderr",
          "text": [
            "Training: 100%|██████████| 820/820 [01:24<00:00,  9.67it/s, training_loss=0.001]\n"
          ]
        },
        {
          "output_type": "stream",
          "name": "stdout",
          "text": [
            "Average training loss: 0.4961\n",
            "Train Accuracy: 0.8231\n"
          ]
        },
        {
          "output_type": "stream",
          "name": "stderr",
          "text": [
            "Validation: 100%|██████████| 92/92 [00:06<00:00, 13.28it/s, validation_loss=0.484]\n"
          ]
        },
        {
          "output_type": "stream",
          "name": "stdout",
          "text": [
            "Validation Accuracy: 0.5630\n",
            "Epoch 31/150\n",
            "----------\n"
          ]
        },
        {
          "output_type": "stream",
          "name": "stderr",
          "text": [
            "Training: 100%|██████████| 820/820 [01:25<00:00,  9.64it/s, training_loss=0.001]\n"
          ]
        },
        {
          "output_type": "stream",
          "name": "stdout",
          "text": [
            "Average training loss: 0.4699\n",
            "Train Accuracy: 0.8337\n"
          ]
        },
        {
          "output_type": "stream",
          "name": "stderr",
          "text": [
            "Validation: 100%|██████████| 92/92 [00:06<00:00, 13.30it/s, validation_loss=0.493]\n"
          ]
        },
        {
          "output_type": "stream",
          "name": "stdout",
          "text": [
            "Validation Accuracy: 0.5645\n",
            "Epoch 32/150\n",
            "----------\n"
          ]
        },
        {
          "output_type": "stream",
          "name": "stderr",
          "text": [
            "Training: 100%|██████████| 820/820 [01:24<00:00,  9.67it/s, training_loss=0.001]\n"
          ]
        },
        {
          "output_type": "stream",
          "name": "stdout",
          "text": [
            "Average training loss: 0.4559\n",
            "Train Accuracy: 0.8369\n"
          ]
        },
        {
          "output_type": "stream",
          "name": "stderr",
          "text": [
            "Validation: 100%|██████████| 92/92 [00:06<00:00, 13.33it/s, validation_loss=0.477]\n"
          ]
        },
        {
          "output_type": "stream",
          "name": "stdout",
          "text": [
            "Validation Accuracy: 0.5614\n",
            "Epoch 33/150\n",
            "----------\n"
          ]
        },
        {
          "output_type": "stream",
          "name": "stderr",
          "text": [
            "Training: 100%|██████████| 820/820 [01:24<00:00,  9.67it/s, training_loss=0.000]\n"
          ]
        },
        {
          "output_type": "stream",
          "name": "stdout",
          "text": [
            "Average training loss: 0.4436\n",
            "Train Accuracy: 0.8420\n"
          ]
        },
        {
          "output_type": "stream",
          "name": "stderr",
          "text": [
            "Validation: 100%|██████████| 92/92 [00:06<00:00, 13.27it/s, validation_loss=0.562]\n"
          ]
        },
        {
          "output_type": "stream",
          "name": "stdout",
          "text": [
            "Validation Accuracy: 0.5662\n",
            "Epoch 34/150\n",
            "----------\n"
          ]
        },
        {
          "output_type": "stream",
          "name": "stderr",
          "text": [
            "Training: 100%|██████████| 820/820 [01:25<00:00,  9.62it/s, training_loss=0.001]\n"
          ]
        },
        {
          "output_type": "stream",
          "name": "stdout",
          "text": [
            "Average training loss: 0.4196\n",
            "Train Accuracy: 0.8491\n"
          ]
        },
        {
          "output_type": "stream",
          "name": "stderr",
          "text": [
            "Validation: 100%|██████████| 92/92 [00:06<00:00, 13.33it/s, validation_loss=0.640]\n"
          ]
        },
        {
          "output_type": "stream",
          "name": "stdout",
          "text": [
            "Validation Accuracy: 0.5642\n",
            "Epoch 35/150\n",
            "----------\n"
          ]
        },
        {
          "output_type": "stream",
          "name": "stderr",
          "text": [
            "Training: 100%|██████████| 820/820 [01:24<00:00,  9.67it/s, training_loss=0.001]\n"
          ]
        },
        {
          "output_type": "stream",
          "name": "stdout",
          "text": [
            "Average training loss: 0.4113\n",
            "Train Accuracy: 0.8523\n"
          ]
        },
        {
          "output_type": "stream",
          "name": "stderr",
          "text": [
            "Validation: 100%|██████████| 92/92 [00:06<00:00, 13.30it/s, validation_loss=0.421]\n"
          ]
        },
        {
          "output_type": "stream",
          "name": "stdout",
          "text": [
            "Validation Accuracy: 0.5595\n",
            "Epoch 36/150\n",
            "----------\n"
          ]
        },
        {
          "output_type": "stream",
          "name": "stderr",
          "text": [
            "Training: 100%|██████████| 820/820 [01:24<00:00,  9.67it/s, training_loss=0.001]\n"
          ]
        },
        {
          "output_type": "stream",
          "name": "stdout",
          "text": [
            "Average training loss: 0.3992\n",
            "Train Accuracy: 0.8567\n"
          ]
        },
        {
          "output_type": "stream",
          "name": "stderr",
          "text": [
            "Validation: 100%|██████████| 92/92 [00:06<00:00, 13.29it/s, validation_loss=0.809]\n"
          ]
        },
        {
          "output_type": "stream",
          "name": "stdout",
          "text": [
            "Validation Accuracy: 0.5640\n",
            "Epoch 37/150\n",
            "----------\n"
          ]
        },
        {
          "output_type": "stream",
          "name": "stderr",
          "text": [
            "Training: 100%|██████████| 820/820 [01:25<00:00,  9.64it/s, training_loss=0.000]\n"
          ]
        },
        {
          "output_type": "stream",
          "name": "stdout",
          "text": [
            "Average training loss: 0.3832\n",
            "Train Accuracy: 0.8621\n"
          ]
        },
        {
          "output_type": "stream",
          "name": "stderr",
          "text": [
            "Validation: 100%|██████████| 92/92 [00:06<00:00, 13.26it/s, validation_loss=0.638]\n"
          ]
        },
        {
          "output_type": "stream",
          "name": "stdout",
          "text": [
            "Validation Accuracy: 0.5626\n",
            "Epoch 38/150\n",
            "----------\n"
          ]
        },
        {
          "output_type": "stream",
          "name": "stderr",
          "text": [
            "Training: 100%|██████████| 820/820 [01:24<00:00,  9.68it/s, training_loss=0.000]\n"
          ]
        },
        {
          "output_type": "stream",
          "name": "stdout",
          "text": [
            "Average training loss: 0.3685\n",
            "Train Accuracy: 0.8691\n"
          ]
        },
        {
          "output_type": "stream",
          "name": "stderr",
          "text": [
            "Validation: 100%|██████████| 92/92 [00:06<00:00, 13.29it/s, validation_loss=0.464]\n"
          ]
        },
        {
          "output_type": "stream",
          "name": "stdout",
          "text": [
            "Validation Accuracy: 0.5631\n",
            "Epoch 39/150\n",
            "----------\n"
          ]
        },
        {
          "output_type": "stream",
          "name": "stderr",
          "text": [
            "Training: 100%|██████████| 820/820 [01:24<00:00,  9.66it/s, training_loss=0.000]\n"
          ]
        },
        {
          "output_type": "stream",
          "name": "stdout",
          "text": [
            "Average training loss: 0.3576\n",
            "Train Accuracy: 0.8735\n"
          ]
        },
        {
          "output_type": "stream",
          "name": "stderr",
          "text": [
            "Validation: 100%|██████████| 92/92 [00:06<00:00, 13.22it/s, validation_loss=0.523]\n"
          ]
        },
        {
          "output_type": "stream",
          "name": "stdout",
          "text": [
            "Validation Accuracy: 0.5664\n",
            "Epoch 40/150\n",
            "----------\n"
          ]
        },
        {
          "output_type": "stream",
          "name": "stderr",
          "text": [
            "Training: 100%|██████████| 820/820 [01:25<00:00,  9.64it/s, training_loss=0.000]\n"
          ]
        },
        {
          "output_type": "stream",
          "name": "stdout",
          "text": [
            "Average training loss: 0.3421\n",
            "Train Accuracy: 0.8778\n"
          ]
        },
        {
          "output_type": "stream",
          "name": "stderr",
          "text": [
            "Validation: 100%|██████████| 92/92 [00:06<00:00, 13.25it/s, validation_loss=0.684]\n"
          ]
        },
        {
          "output_type": "stream",
          "name": "stdout",
          "text": [
            "Validation Accuracy: 0.5607\n",
            "Epoch 41/150\n",
            "----------\n"
          ]
        },
        {
          "output_type": "stream",
          "name": "stderr",
          "text": [
            "Training: 100%|██████████| 820/820 [01:25<00:00,  9.64it/s, training_loss=0.000]\n"
          ]
        },
        {
          "output_type": "stream",
          "name": "stdout",
          "text": [
            "Average training loss: 0.3291\n",
            "Train Accuracy: 0.8828\n"
          ]
        },
        {
          "output_type": "stream",
          "name": "stderr",
          "text": [
            "Validation: 100%|██████████| 92/92 [00:06<00:00, 13.25it/s, validation_loss=0.696]\n"
          ]
        },
        {
          "output_type": "stream",
          "name": "stdout",
          "text": [
            "Validation Accuracy: 0.5575\n",
            "Epoch 42/150\n",
            "----------\n"
          ]
        },
        {
          "output_type": "stream",
          "name": "stderr",
          "text": [
            "Training: 100%|██████████| 820/820 [01:24<00:00,  9.66it/s, training_loss=0.000]\n"
          ]
        },
        {
          "output_type": "stream",
          "name": "stdout",
          "text": [
            "Average training loss: 0.3214\n",
            "Train Accuracy: 0.8849\n"
          ]
        },
        {
          "output_type": "stream",
          "name": "stderr",
          "text": [
            "Validation: 100%|██████████| 92/92 [00:06<00:00, 13.30it/s, validation_loss=0.671]\n"
          ]
        },
        {
          "output_type": "stream",
          "name": "stdout",
          "text": [
            "Validation Accuracy: 0.5642\n",
            "Epoch 43/150\n",
            "----------\n"
          ]
        },
        {
          "output_type": "stream",
          "name": "stderr",
          "text": [
            "Training: 100%|██████████| 820/820 [01:25<00:00,  9.63it/s, training_loss=0.001]\n"
          ]
        },
        {
          "output_type": "stream",
          "name": "stdout",
          "text": [
            "Average training loss: 0.3107\n",
            "Train Accuracy: 0.8904\n"
          ]
        },
        {
          "output_type": "stream",
          "name": "stderr",
          "text": [
            "Validation: 100%|██████████| 92/92 [00:06<00:00, 13.30it/s, validation_loss=0.526]\n"
          ]
        },
        {
          "output_type": "stream",
          "name": "stdout",
          "text": [
            "Validation Accuracy: 0.5674\n",
            "Epoch 44/150\n",
            "----------\n"
          ]
        },
        {
          "output_type": "stream",
          "name": "stderr",
          "text": [
            "Training: 100%|██████████| 820/820 [01:25<00:00,  9.64it/s, training_loss=0.000]\n"
          ]
        },
        {
          "output_type": "stream",
          "name": "stdout",
          "text": [
            "Average training loss: 0.2979\n",
            "Train Accuracy: 0.8944\n"
          ]
        },
        {
          "output_type": "stream",
          "name": "stderr",
          "text": [
            "Validation: 100%|██████████| 92/92 [00:06<00:00, 13.29it/s, validation_loss=0.526]\n"
          ]
        },
        {
          "output_type": "stream",
          "name": "stdout",
          "text": [
            "Validation Accuracy: 0.5631\n",
            "Epoch 45/150\n",
            "----------\n"
          ]
        },
        {
          "output_type": "stream",
          "name": "stderr",
          "text": [
            "Training: 100%|██████████| 820/820 [01:24<00:00,  9.65it/s, training_loss=0.000]\n"
          ]
        },
        {
          "output_type": "stream",
          "name": "stdout",
          "text": [
            "Average training loss: 0.2913\n",
            "Train Accuracy: 0.8969\n"
          ]
        },
        {
          "output_type": "stream",
          "name": "stderr",
          "text": [
            "Validation: 100%|██████████| 92/92 [00:06<00:00, 13.24it/s, validation_loss=0.520]\n"
          ]
        },
        {
          "output_type": "stream",
          "name": "stdout",
          "text": [
            "Validation Accuracy: 0.5587\n",
            "Epoch 46/150\n",
            "----------\n"
          ]
        },
        {
          "output_type": "stream",
          "name": "stderr",
          "text": [
            "Training: 100%|██████████| 820/820 [01:25<00:00,  9.60it/s, training_loss=0.000]\n"
          ]
        },
        {
          "output_type": "stream",
          "name": "stdout",
          "text": [
            "Average training loss: 0.2762\n",
            "Train Accuracy: 0.9024\n"
          ]
        },
        {
          "output_type": "stream",
          "name": "stderr",
          "text": [
            "Validation: 100%|██████████| 92/92 [00:06<00:00, 13.31it/s, validation_loss=0.610]\n"
          ]
        },
        {
          "output_type": "stream",
          "name": "stdout",
          "text": [
            "Validation Accuracy: 0.5594\n",
            "Epoch 47/150\n",
            "----------\n"
          ]
        },
        {
          "output_type": "stream",
          "name": "stderr",
          "text": [
            "Training: 100%|██████████| 820/820 [01:24<00:00,  9.68it/s, training_loss=0.000]\n"
          ]
        },
        {
          "output_type": "stream",
          "name": "stdout",
          "text": [
            "Average training loss: 0.2638\n",
            "Train Accuracy: 0.9052\n"
          ]
        },
        {
          "output_type": "stream",
          "name": "stderr",
          "text": [
            "Validation: 100%|██████████| 92/92 [00:06<00:00, 13.31it/s, validation_loss=0.683]\n"
          ]
        },
        {
          "output_type": "stream",
          "name": "stdout",
          "text": [
            "Validation Accuracy: 0.5594\n",
            "Epoch 48/150\n",
            "----------\n"
          ]
        },
        {
          "output_type": "stream",
          "name": "stderr",
          "text": [
            "Training: 100%|██████████| 820/820 [01:24<00:00,  9.66it/s, training_loss=0.001]\n"
          ]
        },
        {
          "output_type": "stream",
          "name": "stdout",
          "text": [
            "Average training loss: 0.2621\n",
            "Train Accuracy: 0.9059\n"
          ]
        },
        {
          "output_type": "stream",
          "name": "stderr",
          "text": [
            "Validation: 100%|██████████| 92/92 [00:06<00:00, 13.26it/s, validation_loss=0.551]\n"
          ]
        },
        {
          "output_type": "stream",
          "name": "stdout",
          "text": [
            "Validation Accuracy: 0.5609\n",
            "Epoch 49/150\n",
            "----------\n"
          ]
        },
        {
          "output_type": "stream",
          "name": "stderr",
          "text": [
            "Training: 100%|██████████| 820/820 [01:25<00:00,  9.65it/s, training_loss=0.000]\n"
          ]
        },
        {
          "output_type": "stream",
          "name": "stdout",
          "text": [
            "Average training loss: 0.2489\n",
            "Train Accuracy: 0.9127\n"
          ]
        },
        {
          "output_type": "stream",
          "name": "stderr",
          "text": [
            "Validation: 100%|██████████| 92/92 [00:06<00:00, 13.28it/s, validation_loss=0.692]\n"
          ]
        },
        {
          "output_type": "stream",
          "name": "stdout",
          "text": [
            "Validation Accuracy: 0.5575\n",
            "Epoch 50/150\n",
            "----------\n"
          ]
        },
        {
          "output_type": "stream",
          "name": "stderr",
          "text": [
            "Training: 100%|██████████| 820/820 [01:24<00:00,  9.67it/s, training_loss=0.000]\n"
          ]
        },
        {
          "output_type": "stream",
          "name": "stdout",
          "text": [
            "Average training loss: 0.2365\n",
            "Train Accuracy: 0.9155\n"
          ]
        },
        {
          "output_type": "stream",
          "name": "stderr",
          "text": [
            "Validation: 100%|██████████| 92/92 [00:06<00:00, 13.30it/s, validation_loss=1.093]\n"
          ]
        },
        {
          "output_type": "stream",
          "name": "stdout",
          "text": [
            "Validation Accuracy: 0.5650\n",
            "Epoch 51/150\n",
            "----------\n"
          ]
        },
        {
          "output_type": "stream",
          "name": "stderr",
          "text": [
            "Training: 100%|██████████| 820/820 [01:24<00:00,  9.67it/s, training_loss=0.000]\n"
          ]
        },
        {
          "output_type": "stream",
          "name": "stdout",
          "text": [
            "Average training loss: 0.2351\n",
            "Train Accuracy: 0.9161\n"
          ]
        },
        {
          "output_type": "stream",
          "name": "stderr",
          "text": [
            "Validation: 100%|██████████| 92/92 [00:06<00:00, 13.36it/s, validation_loss=0.959]\n"
          ]
        },
        {
          "output_type": "stream",
          "name": "stdout",
          "text": [
            "Validation Accuracy: 0.5606\n",
            "Epoch 52/150\n",
            "----------\n"
          ]
        },
        {
          "output_type": "stream",
          "name": "stderr",
          "text": [
            "Training: 100%|██████████| 820/820 [01:25<00:00,  9.64it/s, training_loss=0.000]\n"
          ]
        },
        {
          "output_type": "stream",
          "name": "stdout",
          "text": [
            "Average training loss: 0.2333\n",
            "Train Accuracy: 0.9178\n"
          ]
        },
        {
          "output_type": "stream",
          "name": "stderr",
          "text": [
            "Validation: 100%|██████████| 92/92 [00:06<00:00, 13.31it/s, validation_loss=0.737]\n"
          ]
        },
        {
          "output_type": "stream",
          "name": "stdout",
          "text": [
            "Validation Accuracy: 0.5602\n",
            "Epoch 53/150\n",
            "----------\n"
          ]
        },
        {
          "output_type": "stream",
          "name": "stderr",
          "text": [
            "Training: 100%|██████████| 820/820 [01:24<00:00,  9.68it/s, training_loss=0.001]\n"
          ]
        },
        {
          "output_type": "stream",
          "name": "stdout",
          "text": [
            "Average training loss: 0.2208\n",
            "Train Accuracy: 0.9222\n"
          ]
        },
        {
          "output_type": "stream",
          "name": "stderr",
          "text": [
            "Validation: 100%|██████████| 92/92 [00:06<00:00, 13.32it/s, validation_loss=0.810]\n"
          ]
        },
        {
          "output_type": "stream",
          "name": "stdout",
          "text": [
            "Validation Accuracy: 0.5616\n",
            "Epoch 54/150\n",
            "----------\n"
          ]
        },
        {
          "output_type": "stream",
          "name": "stderr",
          "text": [
            "Training: 100%|██████████| 820/820 [01:24<00:00,  9.67it/s, training_loss=0.000]\n"
          ]
        },
        {
          "output_type": "stream",
          "name": "stdout",
          "text": [
            "Average training loss: 0.2142\n",
            "Train Accuracy: 0.9254\n"
          ]
        },
        {
          "output_type": "stream",
          "name": "stderr",
          "text": [
            "Validation: 100%|██████████| 92/92 [00:06<00:00, 13.34it/s, validation_loss=0.811]\n"
          ]
        },
        {
          "output_type": "stream",
          "name": "stdout",
          "text": [
            "Validation Accuracy: 0.5645\n",
            "Epoch 55/150\n",
            "----------\n"
          ]
        },
        {
          "output_type": "stream",
          "name": "stderr",
          "text": [
            "Training: 100%|██████████| 820/820 [01:25<00:00,  9.63it/s, training_loss=0.000]\n"
          ]
        },
        {
          "output_type": "stream",
          "name": "stdout",
          "text": [
            "Average training loss: 0.2095\n",
            "Train Accuracy: 0.9258\n"
          ]
        },
        {
          "output_type": "stream",
          "name": "stderr",
          "text": [
            "Validation: 100%|██████████| 92/92 [00:06<00:00, 13.34it/s, validation_loss=0.995]\n"
          ]
        },
        {
          "output_type": "stream",
          "name": "stdout",
          "text": [
            "Validation Accuracy: 0.5618\n",
            "Epoch 56/150\n",
            "----------\n"
          ]
        },
        {
          "output_type": "stream",
          "name": "stderr",
          "text": [
            "Training: 100%|██████████| 820/820 [01:24<00:00,  9.68it/s, training_loss=0.000]\n"
          ]
        },
        {
          "output_type": "stream",
          "name": "stdout",
          "text": [
            "Average training loss: 0.2004\n",
            "Train Accuracy: 0.9302\n"
          ]
        },
        {
          "output_type": "stream",
          "name": "stderr",
          "text": [
            "Validation: 100%|██████████| 92/92 [00:06<00:00, 13.27it/s, validation_loss=1.012]\n"
          ]
        },
        {
          "output_type": "stream",
          "name": "stdout",
          "text": [
            "Validation Accuracy: 0.5561\n",
            "Epoch 57/150\n",
            "----------\n"
          ]
        },
        {
          "output_type": "stream",
          "name": "stderr",
          "text": [
            "Training: 100%|██████████| 820/820 [01:24<00:00,  9.66it/s, training_loss=0.000]\n"
          ]
        },
        {
          "output_type": "stream",
          "name": "stdout",
          "text": [
            "Average training loss: 0.1950\n",
            "Train Accuracy: 0.9324\n"
          ]
        },
        {
          "output_type": "stream",
          "name": "stderr",
          "text": [
            "Validation: 100%|██████████| 92/92 [00:06<00:00, 13.22it/s, validation_loss=0.986]\n"
          ]
        },
        {
          "output_type": "stream",
          "name": "stdout",
          "text": [
            "Validation Accuracy: 0.5513\n",
            "Epoch 58/150\n",
            "----------\n"
          ]
        },
        {
          "output_type": "stream",
          "name": "stderr",
          "text": [
            "Training: 100%|██████████| 820/820 [01:25<00:00,  9.63it/s, training_loss=0.000]\n"
          ]
        },
        {
          "output_type": "stream",
          "name": "stdout",
          "text": [
            "Average training loss: 0.1872\n",
            "Train Accuracy: 0.9348\n"
          ]
        },
        {
          "output_type": "stream",
          "name": "stderr",
          "text": [
            "Validation: 100%|██████████| 92/92 [00:06<00:00, 13.29it/s, validation_loss=0.820]\n"
          ]
        },
        {
          "output_type": "stream",
          "name": "stdout",
          "text": [
            "Validation Accuracy: 0.5571\n",
            "Epoch 59/150\n",
            "----------\n"
          ]
        },
        {
          "output_type": "stream",
          "name": "stderr",
          "text": [
            "Training: 100%|██████████| 820/820 [01:24<00:00,  9.67it/s, training_loss=0.000]\n"
          ]
        },
        {
          "output_type": "stream",
          "name": "stdout",
          "text": [
            "Average training loss: 0.1806\n",
            "Train Accuracy: 0.9381\n"
          ]
        },
        {
          "output_type": "stream",
          "name": "stderr",
          "text": [
            "Validation: 100%|██████████| 92/92 [00:06<00:00, 13.29it/s, validation_loss=1.039]\n"
          ]
        },
        {
          "output_type": "stream",
          "name": "stdout",
          "text": [
            "Validation Accuracy: 0.5554\n",
            "Epoch 60/150\n",
            "----------\n"
          ]
        },
        {
          "output_type": "stream",
          "name": "stderr",
          "text": [
            "Training: 100%|██████████| 820/820 [01:24<00:00,  9.66it/s, training_loss=0.000]\n"
          ]
        },
        {
          "output_type": "stream",
          "name": "stdout",
          "text": [
            "Average training loss: 0.1774\n",
            "Train Accuracy: 0.9389\n"
          ]
        },
        {
          "output_type": "stream",
          "name": "stderr",
          "text": [
            "Validation: 100%|██████████| 92/92 [00:06<00:00, 13.26it/s, validation_loss=0.811]\n"
          ]
        },
        {
          "output_type": "stream",
          "name": "stdout",
          "text": [
            "Validation Accuracy: 0.5580\n",
            "Epoch 61/150\n",
            "----------\n"
          ]
        },
        {
          "output_type": "stream",
          "name": "stderr",
          "text": [
            "Training: 100%|██████████| 820/820 [01:25<00:00,  9.63it/s, training_loss=0.000]\n"
          ]
        },
        {
          "output_type": "stream",
          "name": "stdout",
          "text": [
            "Average training loss: 0.1724\n",
            "Train Accuracy: 0.9402\n"
          ]
        },
        {
          "output_type": "stream",
          "name": "stderr",
          "text": [
            "Validation: 100%|██████████| 92/92 [00:06<00:00, 13.26it/s, validation_loss=0.757]\n"
          ]
        },
        {
          "output_type": "stream",
          "name": "stdout",
          "text": [
            "Validation Accuracy: 0.5640\n",
            "Epoch 62/150\n",
            "----------\n"
          ]
        },
        {
          "output_type": "stream",
          "name": "stderr",
          "text": [
            "Training: 100%|██████████| 820/820 [01:24<00:00,  9.67it/s, training_loss=0.000]\n"
          ]
        },
        {
          "output_type": "stream",
          "name": "stdout",
          "text": [
            "Average training loss: 0.1711\n",
            "Train Accuracy: 0.9404\n"
          ]
        },
        {
          "output_type": "stream",
          "name": "stderr",
          "text": [
            "Validation: 100%|██████████| 92/92 [00:06<00:00, 13.33it/s, validation_loss=0.724]\n"
          ]
        },
        {
          "output_type": "stream",
          "name": "stdout",
          "text": [
            "Validation Accuracy: 0.5561\n",
            "Epoch 63/150\n",
            "----------\n"
          ]
        },
        {
          "output_type": "stream",
          "name": "stderr",
          "text": [
            "Training: 100%|██████████| 820/820 [01:24<00:00,  9.67it/s, training_loss=0.001]\n"
          ]
        },
        {
          "output_type": "stream",
          "name": "stdout",
          "text": [
            "Average training loss: 0.1595\n",
            "Train Accuracy: 0.9449\n"
          ]
        },
        {
          "output_type": "stream",
          "name": "stderr",
          "text": [
            "Validation: 100%|██████████| 92/92 [00:06<00:00, 13.30it/s, validation_loss=0.791]\n"
          ]
        },
        {
          "output_type": "stream",
          "name": "stdout",
          "text": [
            "Validation Accuracy: 0.5568\n",
            "Epoch 64/150\n",
            "----------\n"
          ]
        },
        {
          "output_type": "stream",
          "name": "stderr",
          "text": [
            "Training: 100%|██████████| 820/820 [01:25<00:00,  9.63it/s, training_loss=0.000]\n"
          ]
        },
        {
          "output_type": "stream",
          "name": "stdout",
          "text": [
            "Average training loss: 0.1599\n",
            "Train Accuracy: 0.9441\n"
          ]
        },
        {
          "output_type": "stream",
          "name": "stderr",
          "text": [
            "Validation: 100%|██████████| 92/92 [00:06<00:00, 13.30it/s, validation_loss=0.682]\n"
          ]
        },
        {
          "output_type": "stream",
          "name": "stdout",
          "text": [
            "Validation Accuracy: 0.5575\n",
            "Epoch 65/150\n",
            "----------\n"
          ]
        },
        {
          "output_type": "stream",
          "name": "stderr",
          "text": [
            "Training: 100%|██████████| 820/820 [01:24<00:00,  9.66it/s, training_loss=0.000]\n"
          ]
        },
        {
          "output_type": "stream",
          "name": "stdout",
          "text": [
            "Average training loss: 0.1574\n",
            "Train Accuracy: 0.9459\n"
          ]
        },
        {
          "output_type": "stream",
          "name": "stderr",
          "text": [
            "Validation: 100%|██████████| 92/92 [00:06<00:00, 13.30it/s, validation_loss=0.812]\n"
          ]
        },
        {
          "output_type": "stream",
          "name": "stdout",
          "text": [
            "Validation Accuracy: 0.5619\n",
            "Epoch 66/150\n",
            "----------\n"
          ]
        },
        {
          "output_type": "stream",
          "name": "stderr",
          "text": [
            "Training: 100%|██████████| 820/820 [01:24<00:00,  9.67it/s, training_loss=0.000]\n"
          ]
        },
        {
          "output_type": "stream",
          "name": "stdout",
          "text": [
            "Average training loss: 0.1479\n",
            "Train Accuracy: 0.9488\n"
          ]
        },
        {
          "output_type": "stream",
          "name": "stderr",
          "text": [
            "Validation: 100%|██████████| 92/92 [00:06<00:00, 13.31it/s, validation_loss=0.787]\n"
          ]
        },
        {
          "output_type": "stream",
          "name": "stdout",
          "text": [
            "Validation Accuracy: 0.5652\n",
            "Epoch 67/150\n",
            "----------\n"
          ]
        },
        {
          "output_type": "stream",
          "name": "stderr",
          "text": [
            "Training: 100%|██████████| 820/820 [01:25<00:00,  9.64it/s, training_loss=0.000]\n"
          ]
        },
        {
          "output_type": "stream",
          "name": "stdout",
          "text": [
            "Average training loss: 0.1477\n",
            "Train Accuracy: 0.9488\n"
          ]
        },
        {
          "output_type": "stream",
          "name": "stderr",
          "text": [
            "Validation: 100%|██████████| 92/92 [00:06<00:00, 13.29it/s, validation_loss=0.700]\n"
          ]
        },
        {
          "output_type": "stream",
          "name": "stdout",
          "text": [
            "Validation Accuracy: 0.5595\n",
            "Epoch 68/150\n",
            "----------\n"
          ]
        },
        {
          "output_type": "stream",
          "name": "stderr",
          "text": [
            "Training: 100%|██████████| 820/820 [01:24<00:00,  9.67it/s, training_loss=0.000]\n"
          ]
        },
        {
          "output_type": "stream",
          "name": "stdout",
          "text": [
            "Average training loss: 0.1464\n",
            "Train Accuracy: 0.9488\n"
          ]
        },
        {
          "output_type": "stream",
          "name": "stderr",
          "text": [
            "Validation: 100%|██████████| 92/92 [00:06<00:00, 13.31it/s, validation_loss=0.789]\n"
          ]
        },
        {
          "output_type": "stream",
          "name": "stdout",
          "text": [
            "Validation Accuracy: 0.5685\n",
            "Epoch 69/150\n",
            "----------\n"
          ]
        },
        {
          "output_type": "stream",
          "name": "stderr",
          "text": [
            "Training: 100%|██████████| 820/820 [01:24<00:00,  9.68it/s, training_loss=0.000]\n"
          ]
        },
        {
          "output_type": "stream",
          "name": "stdout",
          "text": [
            "Average training loss: 0.1416\n",
            "Train Accuracy: 0.9510\n"
          ]
        },
        {
          "output_type": "stream",
          "name": "stderr",
          "text": [
            "Validation: 100%|██████████| 92/92 [00:06<00:00, 13.35it/s, validation_loss=0.996]\n"
          ]
        },
        {
          "output_type": "stream",
          "name": "stdout",
          "text": [
            "Validation Accuracy: 0.5597\n",
            "Epoch 70/150\n",
            "----------\n"
          ]
        },
        {
          "output_type": "stream",
          "name": "stderr",
          "text": [
            "Training: 100%|██████████| 820/820 [01:25<00:00,  9.64it/s, training_loss=0.000]\n"
          ]
        },
        {
          "output_type": "stream",
          "name": "stdout",
          "text": [
            "Average training loss: 0.1374\n",
            "Train Accuracy: 0.9528\n"
          ]
        },
        {
          "output_type": "stream",
          "name": "stderr",
          "text": [
            "Validation: 100%|██████████| 92/92 [00:06<00:00, 13.29it/s, validation_loss=1.177]\n"
          ]
        },
        {
          "output_type": "stream",
          "name": "stdout",
          "text": [
            "Validation Accuracy: 0.5587\n",
            "Epoch 71/150\n",
            "----------\n"
          ]
        },
        {
          "output_type": "stream",
          "name": "stderr",
          "text": [
            "Training: 100%|██████████| 820/820 [01:24<00:00,  9.67it/s, training_loss=0.000]\n"
          ]
        },
        {
          "output_type": "stream",
          "name": "stdout",
          "text": [
            "Average training loss: 0.1323\n",
            "Train Accuracy: 0.9541\n"
          ]
        },
        {
          "output_type": "stream",
          "name": "stderr",
          "text": [
            "Validation: 100%|██████████| 92/92 [00:06<00:00, 13.27it/s, validation_loss=1.195]\n"
          ]
        },
        {
          "output_type": "stream",
          "name": "stdout",
          "text": [
            "Validation Accuracy: 0.5587\n",
            "Epoch 72/150\n",
            "----------\n"
          ]
        },
        {
          "output_type": "stream",
          "name": "stderr",
          "text": [
            "Training: 100%|██████████| 820/820 [01:24<00:00,  9.67it/s, training_loss=0.000]\n"
          ]
        },
        {
          "output_type": "stream",
          "name": "stdout",
          "text": [
            "Average training loss: 0.1312\n",
            "Train Accuracy: 0.9549\n"
          ]
        },
        {
          "output_type": "stream",
          "name": "stderr",
          "text": [
            "Validation: 100%|██████████| 92/92 [00:06<00:00, 13.31it/s, validation_loss=1.548]\n"
          ]
        },
        {
          "output_type": "stream",
          "name": "stdout",
          "text": [
            "Validation Accuracy: 0.5595\n",
            "Epoch 73/150\n",
            "----------\n"
          ]
        },
        {
          "output_type": "stream",
          "name": "stderr",
          "text": [
            "Training: 100%|██████████| 820/820 [01:25<00:00,  9.62it/s, training_loss=0.000]\n"
          ]
        },
        {
          "output_type": "stream",
          "name": "stdout",
          "text": [
            "Average training loss: 0.1268\n",
            "Train Accuracy: 0.9562\n"
          ]
        },
        {
          "output_type": "stream",
          "name": "stderr",
          "text": [
            "Validation: 100%|██████████| 92/92 [00:06<00:00, 13.32it/s, validation_loss=1.104]\n"
          ]
        },
        {
          "output_type": "stream",
          "name": "stdout",
          "text": [
            "Validation Accuracy: 0.5566\n",
            "Epoch 74/150\n",
            "----------\n"
          ]
        },
        {
          "output_type": "stream",
          "name": "stderr",
          "text": [
            "Training: 100%|██████████| 820/820 [01:24<00:00,  9.68it/s, training_loss=0.000]\n"
          ]
        },
        {
          "output_type": "stream",
          "name": "stdout",
          "text": [
            "Average training loss: 0.1250\n",
            "Train Accuracy: 0.9575\n"
          ]
        },
        {
          "output_type": "stream",
          "name": "stderr",
          "text": [
            "Validation: 100%|██████████| 92/92 [00:06<00:00, 13.31it/s, validation_loss=0.879]\n"
          ]
        },
        {
          "output_type": "stream",
          "name": "stdout",
          "text": [
            "Validation Accuracy: 0.5522\n",
            "Epoch 75/150\n",
            "----------\n"
          ]
        },
        {
          "output_type": "stream",
          "name": "stderr",
          "text": [
            "Training: 100%|██████████| 820/820 [01:24<00:00,  9.65it/s, training_loss=0.000]\n"
          ]
        },
        {
          "output_type": "stream",
          "name": "stdout",
          "text": [
            "Average training loss: 0.1238\n",
            "Train Accuracy: 0.9572\n"
          ]
        },
        {
          "output_type": "stream",
          "name": "stderr",
          "text": [
            "Validation: 100%|██████████| 92/92 [00:06<00:00, 13.21it/s, validation_loss=1.051]\n"
          ]
        },
        {
          "output_type": "stream",
          "name": "stdout",
          "text": [
            "Validation Accuracy: 0.5613\n",
            "Epoch 76/150\n",
            "----------\n"
          ]
        },
        {
          "output_type": "stream",
          "name": "stderr",
          "text": [
            "Training: 100%|██████████| 820/820 [01:25<00:00,  9.60it/s, training_loss=0.000]\n"
          ]
        },
        {
          "output_type": "stream",
          "name": "stdout",
          "text": [
            "Average training loss: 0.1175\n",
            "Train Accuracy: 0.9596\n"
          ]
        },
        {
          "output_type": "stream",
          "name": "stderr",
          "text": [
            "Validation: 100%|██████████| 92/92 [00:06<00:00, 13.31it/s, validation_loss=1.133]\n"
          ]
        },
        {
          "output_type": "stream",
          "name": "stdout",
          "text": [
            "Validation Accuracy: 0.5575\n",
            "Epoch 77/150\n",
            "----------\n"
          ]
        },
        {
          "output_type": "stream",
          "name": "stderr",
          "text": [
            "Training: 100%|██████████| 820/820 [01:25<00:00,  9.64it/s, training_loss=0.000]\n"
          ]
        },
        {
          "output_type": "stream",
          "name": "stdout",
          "text": [
            "Average training loss: 0.1169\n",
            "Train Accuracy: 0.9589\n"
          ]
        },
        {
          "output_type": "stream",
          "name": "stderr",
          "text": [
            "Validation: 100%|██████████| 92/92 [00:06<00:00, 13.25it/s, validation_loss=0.984]\n"
          ]
        },
        {
          "output_type": "stream",
          "name": "stdout",
          "text": [
            "Validation Accuracy: 0.5607\n",
            "Epoch 78/150\n",
            "----------\n"
          ]
        },
        {
          "output_type": "stream",
          "name": "stderr",
          "text": [
            "Training: 100%|██████████| 820/820 [01:25<00:00,  9.63it/s, training_loss=0.000]\n"
          ]
        },
        {
          "output_type": "stream",
          "name": "stdout",
          "text": [
            "Average training loss: 0.1150\n",
            "Train Accuracy: 0.9612\n"
          ]
        },
        {
          "output_type": "stream",
          "name": "stderr",
          "text": [
            "Validation: 100%|██████████| 92/92 [00:06<00:00, 13.22it/s, validation_loss=1.130]\n"
          ]
        },
        {
          "output_type": "stream",
          "name": "stdout",
          "text": [
            "Validation Accuracy: 0.5597\n",
            "Epoch 79/150\n",
            "----------\n"
          ]
        },
        {
          "output_type": "stream",
          "name": "stderr",
          "text": [
            "Training: 100%|██████████| 820/820 [01:25<00:00,  9.60it/s, training_loss=0.000]\n"
          ]
        },
        {
          "output_type": "stream",
          "name": "stdout",
          "text": [
            "Average training loss: 0.1121\n",
            "Train Accuracy: 0.9623\n"
          ]
        },
        {
          "output_type": "stream",
          "name": "stderr",
          "text": [
            "Validation: 100%|██████████| 92/92 [00:06<00:00, 13.26it/s, validation_loss=0.944]\n"
          ]
        },
        {
          "output_type": "stream",
          "name": "stdout",
          "text": [
            "Validation Accuracy: 0.5649\n",
            "Epoch 80/150\n",
            "----------\n"
          ]
        },
        {
          "output_type": "stream",
          "name": "stderr",
          "text": [
            "Training: 100%|██████████| 820/820 [01:25<00:00,  9.63it/s, training_loss=0.000]\n"
          ]
        },
        {
          "output_type": "stream",
          "name": "stdout",
          "text": [
            "Average training loss: 0.1105\n",
            "Train Accuracy: 0.9622\n"
          ]
        },
        {
          "output_type": "stream",
          "name": "stderr",
          "text": [
            "Validation: 100%|██████████| 92/92 [00:06<00:00, 13.25it/s, validation_loss=0.977]\n"
          ]
        },
        {
          "output_type": "stream",
          "name": "stdout",
          "text": [
            "Validation Accuracy: 0.5645\n",
            "Epoch 81/150\n",
            "----------\n"
          ]
        },
        {
          "output_type": "stream",
          "name": "stderr",
          "text": [
            "Training: 100%|██████████| 820/820 [01:24<00:00,  9.67it/s, training_loss=0.000]\n"
          ]
        },
        {
          "output_type": "stream",
          "name": "stdout",
          "text": [
            "Average training loss: 0.1041\n",
            "Train Accuracy: 0.9644\n"
          ]
        },
        {
          "output_type": "stream",
          "name": "stderr",
          "text": [
            "Validation: 100%|██████████| 92/92 [00:06<00:00, 13.26it/s, validation_loss=0.895]\n"
          ]
        },
        {
          "output_type": "stream",
          "name": "stdout",
          "text": [
            "Validation Accuracy: 0.5582\n",
            "Epoch 82/150\n",
            "----------\n"
          ]
        },
        {
          "output_type": "stream",
          "name": "stderr",
          "text": [
            "Training: 100%|██████████| 820/820 [01:25<00:00,  9.64it/s, training_loss=0.000]\n"
          ]
        },
        {
          "output_type": "stream",
          "name": "stdout",
          "text": [
            "Average training loss: 0.1072\n",
            "Train Accuracy: 0.9642\n"
          ]
        },
        {
          "output_type": "stream",
          "name": "stderr",
          "text": [
            "Validation: 100%|██████████| 92/92 [00:06<00:00, 13.32it/s, validation_loss=0.898]\n"
          ]
        },
        {
          "output_type": "stream",
          "name": "stdout",
          "text": [
            "Validation Accuracy: 0.5606\n",
            "Epoch 83/150\n",
            "----------\n"
          ]
        },
        {
          "output_type": "stream",
          "name": "stderr",
          "text": [
            "Training: 100%|██████████| 820/820 [01:24<00:00,  9.68it/s, training_loss=0.000]\n"
          ]
        },
        {
          "output_type": "stream",
          "name": "stdout",
          "text": [
            "Average training loss: 0.1063\n",
            "Train Accuracy: 0.9634\n"
          ]
        },
        {
          "output_type": "stream",
          "name": "stderr",
          "text": [
            "Validation: 100%|██████████| 92/92 [00:06<00:00, 13.30it/s, validation_loss=0.925]\n"
          ]
        },
        {
          "output_type": "stream",
          "name": "stdout",
          "text": [
            "Validation Accuracy: 0.5578\n",
            "Epoch 84/150\n",
            "----------\n"
          ]
        },
        {
          "output_type": "stream",
          "name": "stderr",
          "text": [
            "Training: 100%|██████████| 820/820 [01:24<00:00,  9.66it/s, training_loss=0.000]\n"
          ]
        },
        {
          "output_type": "stream",
          "name": "stdout",
          "text": [
            "Average training loss: 0.1011\n",
            "Train Accuracy: 0.9658\n"
          ]
        },
        {
          "output_type": "stream",
          "name": "stderr",
          "text": [
            "Validation: 100%|██████████| 92/92 [00:06<00:00, 13.27it/s, validation_loss=0.789]\n"
          ]
        },
        {
          "output_type": "stream",
          "name": "stdout",
          "text": [
            "Validation Accuracy: 0.5582\n",
            "Epoch 85/150\n",
            "----------\n"
          ]
        },
        {
          "output_type": "stream",
          "name": "stderr",
          "text": [
            "Training: 100%|██████████| 820/820 [01:25<00:00,  9.63it/s, training_loss=0.000]\n"
          ]
        },
        {
          "output_type": "stream",
          "name": "stdout",
          "text": [
            "Average training loss: 0.1003\n",
            "Train Accuracy: 0.9663\n"
          ]
        },
        {
          "output_type": "stream",
          "name": "stderr",
          "text": [
            "Validation: 100%|██████████| 92/92 [00:06<00:00, 13.31it/s, validation_loss=1.145]\n"
          ]
        },
        {
          "output_type": "stream",
          "name": "stdout",
          "text": [
            "Validation Accuracy: 0.5607\n",
            "Epoch 86/150\n",
            "----------\n"
          ]
        },
        {
          "output_type": "stream",
          "name": "stderr",
          "text": [
            "Training: 100%|██████████| 820/820 [01:24<00:00,  9.67it/s, training_loss=0.000]\n"
          ]
        },
        {
          "output_type": "stream",
          "name": "stdout",
          "text": [
            "Average training loss: 0.0960\n",
            "Train Accuracy: 0.9668\n"
          ]
        },
        {
          "output_type": "stream",
          "name": "stderr",
          "text": [
            "Validation: 100%|██████████| 92/92 [00:06<00:00, 13.30it/s, validation_loss=1.250]\n"
          ]
        },
        {
          "output_type": "stream",
          "name": "stdout",
          "text": [
            "Validation Accuracy: 0.5580\n",
            "Epoch 87/150\n",
            "----------\n"
          ]
        },
        {
          "output_type": "stream",
          "name": "stderr",
          "text": [
            "Training: 100%|██████████| 820/820 [01:24<00:00,  9.67it/s, training_loss=0.000]\n"
          ]
        },
        {
          "output_type": "stream",
          "name": "stdout",
          "text": [
            "Average training loss: 0.0951\n",
            "Train Accuracy: 0.9673\n"
          ]
        },
        {
          "output_type": "stream",
          "name": "stderr",
          "text": [
            "Validation: 100%|██████████| 92/92 [00:06<00:00, 13.32it/s, validation_loss=1.180]\n"
          ]
        },
        {
          "output_type": "stream",
          "name": "stdout",
          "text": [
            "Validation Accuracy: 0.5630\n",
            "Epoch 88/150\n",
            "----------\n"
          ]
        },
        {
          "output_type": "stream",
          "name": "stderr",
          "text": [
            "Training: 100%|██████████| 820/820 [01:25<00:00,  9.64it/s, training_loss=0.000]\n"
          ]
        },
        {
          "output_type": "stream",
          "name": "stdout",
          "text": [
            "Average training loss: 0.0931\n",
            "Train Accuracy: 0.9685\n"
          ]
        },
        {
          "output_type": "stream",
          "name": "stderr",
          "text": [
            "Validation: 100%|██████████| 92/92 [00:06<00:00, 13.26it/s, validation_loss=1.126]\n"
          ]
        },
        {
          "output_type": "stream",
          "name": "stdout",
          "text": [
            "Validation Accuracy: 0.5604\n",
            "Epoch 89/150\n",
            "----------\n"
          ]
        },
        {
          "output_type": "stream",
          "name": "stderr",
          "text": [
            "Training: 100%|██████████| 820/820 [01:24<00:00,  9.67it/s, training_loss=0.000]\n"
          ]
        },
        {
          "output_type": "stream",
          "name": "stdout",
          "text": [
            "Average training loss: 0.0902\n",
            "Train Accuracy: 0.9692\n"
          ]
        },
        {
          "output_type": "stream",
          "name": "stderr",
          "text": [
            "Validation: 100%|██████████| 92/92 [00:06<00:00, 13.30it/s, validation_loss=1.111]\n"
          ]
        },
        {
          "output_type": "stream",
          "name": "stdout",
          "text": [
            "Validation Accuracy: 0.5611\n",
            "Epoch 90/150\n",
            "----------\n"
          ]
        },
        {
          "output_type": "stream",
          "name": "stderr",
          "text": [
            "Training: 100%|██████████| 820/820 [01:24<00:00,  9.68it/s, training_loss=0.000]\n"
          ]
        },
        {
          "output_type": "stream",
          "name": "stdout",
          "text": [
            "Average training loss: 0.0912\n",
            "Train Accuracy: 0.9695\n"
          ]
        },
        {
          "output_type": "stream",
          "name": "stderr",
          "text": [
            "Validation: 100%|██████████| 92/92 [00:06<00:00, 13.30it/s, validation_loss=1.295]\n"
          ]
        },
        {
          "output_type": "stream",
          "name": "stdout",
          "text": [
            "Validation Accuracy: 0.5558\n",
            "Epoch 91/150\n",
            "----------\n"
          ]
        },
        {
          "output_type": "stream",
          "name": "stderr",
          "text": [
            "Training: 100%|██████████| 820/820 [01:24<00:00,  9.65it/s, training_loss=0.000]\n"
          ]
        },
        {
          "output_type": "stream",
          "name": "stdout",
          "text": [
            "Average training loss: 0.0893\n",
            "Train Accuracy: 0.9708\n"
          ]
        },
        {
          "output_type": "stream",
          "name": "stderr",
          "text": [
            "Validation: 100%|██████████| 92/92 [00:06<00:00, 13.29it/s, validation_loss=1.408]\n"
          ]
        },
        {
          "output_type": "stream",
          "name": "stdout",
          "text": [
            "Validation Accuracy: 0.5599\n",
            "Epoch 92/150\n",
            "----------\n"
          ]
        },
        {
          "output_type": "stream",
          "name": "stderr",
          "text": [
            "Training: 100%|██████████| 820/820 [01:24<00:00,  9.69it/s, training_loss=0.000]\n"
          ]
        },
        {
          "output_type": "stream",
          "name": "stdout",
          "text": [
            "Average training loss: 0.0895\n",
            "Train Accuracy: 0.9710\n"
          ]
        },
        {
          "output_type": "stream",
          "name": "stderr",
          "text": [
            "Validation: 100%|██████████| 92/92 [00:06<00:00, 13.32it/s, validation_loss=0.880]\n"
          ]
        },
        {
          "output_type": "stream",
          "name": "stdout",
          "text": [
            "Validation Accuracy: 0.5575\n",
            "Epoch 93/150\n",
            "----------\n"
          ]
        },
        {
          "output_type": "stream",
          "name": "stderr",
          "text": [
            "Training: 100%|██████████| 820/820 [01:24<00:00,  9.68it/s, training_loss=0.000]\n"
          ]
        },
        {
          "output_type": "stream",
          "name": "stdout",
          "text": [
            "Average training loss: 0.0838\n",
            "Train Accuracy: 0.9715\n"
          ]
        },
        {
          "output_type": "stream",
          "name": "stderr",
          "text": [
            "Validation: 100%|██████████| 92/92 [00:06<00:00, 13.27it/s, validation_loss=1.237]\n"
          ]
        },
        {
          "output_type": "stream",
          "name": "stdout",
          "text": [
            "Validation Accuracy: 0.5607\n",
            "Epoch 94/150\n",
            "----------\n"
          ]
        },
        {
          "output_type": "stream",
          "name": "stderr",
          "text": [
            "Training: 100%|██████████| 820/820 [01:25<00:00,  9.65it/s, training_loss=0.000]\n"
          ]
        },
        {
          "output_type": "stream",
          "name": "stdout",
          "text": [
            "Average training loss: 0.0844\n",
            "Train Accuracy: 0.9716\n"
          ]
        },
        {
          "output_type": "stream",
          "name": "stderr",
          "text": [
            "Validation: 100%|██████████| 92/92 [00:06<00:00, 13.34it/s, validation_loss=0.970]\n"
          ]
        },
        {
          "output_type": "stream",
          "name": "stdout",
          "text": [
            "Validation Accuracy: 0.5599\n",
            "Epoch 95/150\n",
            "----------\n"
          ]
        },
        {
          "output_type": "stream",
          "name": "stderr",
          "text": [
            "Training:  64%|██████▍   | 527/820 [00:54<00:30,  9.70it/s, training_loss=0.000]"
          ]
        }
      ]
    },
    {
      "cell_type": "code",
      "source": [
        "plt.figure(figsize=(12, 5))\n",
        "plt.subplot(1, 2, 1)\n",
        "plt.plot(train_losses, label='Train Loss')\n",
        "plt.plot(val_losses, label='Validation Loss')\n",
        "plt.title('Loss over epochs')\n",
        "plt.xlabel('Epochs')\n",
        "plt.ylabel('Loss')\n",
        "plt.legend()\n",
        "\n",
        "plt.subplot(1, 2, 2)\n",
        "plt.plot(train_accuracies, label='Train Accuracy')\n",
        "plt.plot(val_accuracies, label='Validation Accuracy')\n",
        "plt.title('Accuracy over epochs')\n",
        "plt.xlabel('Epochs')\n",
        "plt.ylabel('Accuracy')\n",
        "plt.legend()\n",
        "\n",
        "plt.show()"
      ],
      "metadata": {
        "id": "aZDcNCDMU1Nt"
      },
      "execution_count": null,
      "outputs": []
    },
    {
      "cell_type": "code",
      "source": [
        "PATH = \"/content/drive/MyDrive/Pal-ette/datamerged_model_1.pth\"\n",
        "PATH_empathy = \"/content/drive/MyDrive/Pal-ette/trained_models/empathy_model.pth\""
      ],
      "metadata": {
        "id": "Fvd0qFULVJZd"
      },
      "execution_count": null,
      "outputs": []
    }
  ]
}