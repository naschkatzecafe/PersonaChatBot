{
  "nbformat": 4,
  "nbformat_minor": 0,
  "metadata": {
    "colab": {
      "provenance": [],
      "gpuType": "V100",
      "include_colab_link": true
    },
    "kernelspec": {
      "name": "python3",
      "display_name": "Python 3"
    },
    "language_info": {
      "name": "python"
    },
    "accelerator": "GPU"
  },
  "cells": [
    {
      "cell_type": "markdown",
      "metadata": {
        "id": "view-in-github",
        "colab_type": "text"
      },
      "source": [
        "<a href=\"https://colab.research.google.com/github/pal-ette/iNotePal/blob/dataset_merged_model/1_merged_dataset_BERT.ipynb\" target=\"_parent\"><img src=\"https://colab.research.google.com/assets/colab-badge.svg\" alt=\"Open In Colab\"/></a>"
      ]
    },
    {
      "cell_type": "markdown",
      "source": [
        "BERT 모델 이용"
      ],
      "metadata": {
        "id": "8KcgFjuwhOXA"
      }
    },
    {
      "cell_type": "code",
      "source": [
        "# [설치 후 런타임재시작]\n",
        "!sudo apt-get install -y fonts-nanum\n",
        "!sudo fc-cache -fv\n",
        "!rm ~/.cache/matplotlib -rf"
      ],
      "metadata": {
        "id": "olwwpPTtqrEN",
        "colab": {
          "base_uri": "https://localhost:8080/"
        },
        "outputId": "43407378-e894-4fc0-80aa-29fbdacfc0de"
      },
      "execution_count": null,
      "outputs": [
        {
          "output_type": "stream",
          "name": "stdout",
          "text": [
            "Reading package lists... Done\n",
            "Building dependency tree... Done\n",
            "Reading state information... Done\n",
            "The following NEW packages will be installed:\n",
            "  fonts-nanum\n",
            "0 upgraded, 1 newly installed, 0 to remove and 45 not upgraded.\n",
            "Need to get 10.3 MB of archives.\n",
            "After this operation, 34.1 MB of additional disk space will be used.\n",
            "Get:1 http://archive.ubuntu.com/ubuntu jammy/universe amd64 fonts-nanum all 20200506-1 [10.3 MB]\n",
            "Fetched 10.3 MB in 1s (9,537 kB/s)\n",
            "debconf: unable to initialize frontend: Dialog\n",
            "debconf: (No usable dialog-like program is installed, so the dialog based frontend cannot be used. at /usr/share/perl5/Debconf/FrontEnd/Dialog.pm line 78, <> line 1.)\n",
            "debconf: falling back to frontend: Readline\n",
            "debconf: unable to initialize frontend: Readline\n",
            "debconf: (This frontend requires a controlling tty.)\n",
            "debconf: falling back to frontend: Teletype\n",
            "dpkg-preconfigure: unable to re-open stdin: \n",
            "Selecting previously unselected package fonts-nanum.\n",
            "(Reading database ... 121752 files and directories currently installed.)\n",
            "Preparing to unpack .../fonts-nanum_20200506-1_all.deb ...\n",
            "Unpacking fonts-nanum (20200506-1) ...\n",
            "Setting up fonts-nanum (20200506-1) ...\n",
            "Processing triggers for fontconfig (2.13.1-4.2ubuntu5) ...\n",
            "/usr/share/fonts: caching, new cache contents: 0 fonts, 1 dirs\n",
            "/usr/share/fonts/truetype: caching, new cache contents: 0 fonts, 3 dirs\n",
            "/usr/share/fonts/truetype/humor-sans: caching, new cache contents: 1 fonts, 0 dirs\n",
            "/usr/share/fonts/truetype/liberation: caching, new cache contents: 16 fonts, 0 dirs\n",
            "/usr/share/fonts/truetype/nanum: caching, new cache contents: 12 fonts, 0 dirs\n",
            "/usr/local/share/fonts: caching, new cache contents: 0 fonts, 0 dirs\n",
            "/root/.local/share/fonts: skipping, no such directory\n",
            "/root/.fonts: skipping, no such directory\n",
            "/usr/share/fonts/truetype: skipping, looped directory detected\n",
            "/usr/share/fonts/truetype/humor-sans: skipping, looped directory detected\n",
            "/usr/share/fonts/truetype/liberation: skipping, looped directory detected\n",
            "/usr/share/fonts/truetype/nanum: skipping, looped directory detected\n",
            "/var/cache/fontconfig: cleaning cache directory\n",
            "/root/.cache/fontconfig: not cleaning non-existent cache directory\n",
            "/root/.fontconfig: not cleaning non-existent cache directory\n",
            "fc-cache: succeeded\n"
          ]
        }
      ]
    },
    {
      "cell_type": "code",
      "source": [
        "import os\n",
        "import re\n",
        "import math\n",
        "import numpy as np\n",
        "import pandas as pd\n",
        "from random import *\n",
        "from tqdm import tqdm\n",
        "from itertools import chain\n",
        "from collections import Counter\n",
        "\n",
        "import warnings\n",
        "warnings.filterwarnings(action='ignore')\n",
        "\n",
        "import seaborn as sns\n",
        "import matplotlib.pyplot as plt\n",
        "\n",
        "import nltk\n",
        "import pdb\n",
        "import torch\n",
        "import torch.nn as nn\n",
        "import torch.optim as optim\n",
        "from torch.utils.data import TensorDataset, random_split, DataLoader, RandomSampler, SequentialSampler\n",
        "from sklearn.model_selection import train_test_split\n",
        "from sklearn.metrics import accuracy_score\n",
        "\n",
        "import pickle"
      ],
      "metadata": {
        "id": "lkdWqNg9eEhg"
      },
      "execution_count": null,
      "outputs": []
    },
    {
      "cell_type": "code",
      "source": [
        "device = torch.device(\"cuda\" if torch.cuda.is_available() else \"cpu\")\n",
        "print(device)"
      ],
      "metadata": {
        "colab": {
          "base_uri": "https://localhost:8080/"
        },
        "id": "1NdSp3EghVXY",
        "outputId": "34bcc2f1-af7f-48af-e024-b5ba8519785d"
      },
      "execution_count": null,
      "outputs": [
        {
          "output_type": "stream",
          "name": "stdout",
          "text": [
            "cuda\n"
          ]
        }
      ]
    },
    {
      "cell_type": "code",
      "source": [
        "from google.colab import drive\n",
        "drive.mount('/content/drive')"
      ],
      "metadata": {
        "colab": {
          "base_uri": "https://localhost:8080/"
        },
        "id": "-_BkJU8G2sF3",
        "outputId": "bc65b12a-1a85-4d26-c280-a09f58b43d8e"
      },
      "execution_count": null,
      "outputs": [
        {
          "output_type": "stream",
          "name": "stdout",
          "text": [
            "Drive already mounted at /content/drive; to attempt to forcibly remount, call drive.mount(\"/content/drive\", force_remount=True).\n"
          ]
        }
      ]
    },
    {
      "cell_type": "code",
      "source": [
        "# empathy_df = pd.read_csv(\"/content/drive/MyDrive/empathy_df_total.csv\")\n",
        "# empathy_df = pd.read_csv(\"/content/empathy_df_total.csv\")\n",
        "\n",
        "# 정서 데이터셋 전체 통합본\n",
        "empathy_df = pd.read_csv(\"/content/drive/MyDrive/Pal-ette/preprocessed_data/emotion-6_merged.csv\")\n",
        "empathy_df.head()"
      ],
      "metadata": {
        "colab": {
          "base_uri": "https://localhost:8080/",
          "height": 206
        },
        "id": "-dnpaqirry_6",
        "outputId": "6bf49b3a-c2b8-4f8b-95b9-a491954e16bb"
      },
      "execution_count": null,
      "outputs": [
        {
          "output_type": "execute_result",
          "data": {
            "text/plain": [
              "                                        preprocessed emotion\n",
              "0  자기야 나 너무 화가나. 지금 퇴근 후 집에 들어왔는데, 키우는 반려견이 휴지통과 ...      분노\n",
              "1  오늘 고생하고 집에왔는데 그 장면을 보고 기분이 참 안좋았겠다. 자기가 화나니까 나...      분노\n",
              "2  내가 출근 전에 집 청소를 다했었거든. 그런데, 집이 다시 더럽게 되었어. 청소를 ...      분노\n",
              "3  나였어도, 아침에 시간 내서 치웠는데, 저녁에 다시 청소를 해야 하면 기분이 안좋을...      분노\n",
              "4  강아지를 데려온지 얼마 안되서 그런지 힘든게 한두개가 아니야. 밤에는 짖어서 잠을 ...      분노"
            ],
            "text/html": [
              "\n",
              "  <div id=\"df-dbc33428-017c-42f0-b0fc-9c5c7087da9c\" class=\"colab-df-container\">\n",
              "    <div>\n",
              "<style scoped>\n",
              "    .dataframe tbody tr th:only-of-type {\n",
              "        vertical-align: middle;\n",
              "    }\n",
              "\n",
              "    .dataframe tbody tr th {\n",
              "        vertical-align: top;\n",
              "    }\n",
              "\n",
              "    .dataframe thead th {\n",
              "        text-align: right;\n",
              "    }\n",
              "</style>\n",
              "<table border=\"1\" class=\"dataframe\">\n",
              "  <thead>\n",
              "    <tr style=\"text-align: right;\">\n",
              "      <th></th>\n",
              "      <th>preprocessed</th>\n",
              "      <th>emotion</th>\n",
              "    </tr>\n",
              "  </thead>\n",
              "  <tbody>\n",
              "    <tr>\n",
              "      <th>0</th>\n",
              "      <td>자기야 나 너무 화가나. 지금 퇴근 후 집에 들어왔는데, 키우는 반려견이 휴지통과 ...</td>\n",
              "      <td>분노</td>\n",
              "    </tr>\n",
              "    <tr>\n",
              "      <th>1</th>\n",
              "      <td>오늘 고생하고 집에왔는데 그 장면을 보고 기분이 참 안좋았겠다. 자기가 화나니까 나...</td>\n",
              "      <td>분노</td>\n",
              "    </tr>\n",
              "    <tr>\n",
              "      <th>2</th>\n",
              "      <td>내가 출근 전에 집 청소를 다했었거든. 그런데, 집이 다시 더럽게 되었어. 청소를 ...</td>\n",
              "      <td>분노</td>\n",
              "    </tr>\n",
              "    <tr>\n",
              "      <th>3</th>\n",
              "      <td>나였어도, 아침에 시간 내서 치웠는데, 저녁에 다시 청소를 해야 하면 기분이 안좋을...</td>\n",
              "      <td>분노</td>\n",
              "    </tr>\n",
              "    <tr>\n",
              "      <th>4</th>\n",
              "      <td>강아지를 데려온지 얼마 안되서 그런지 힘든게 한두개가 아니야. 밤에는 짖어서 잠을 ...</td>\n",
              "      <td>분노</td>\n",
              "    </tr>\n",
              "  </tbody>\n",
              "</table>\n",
              "</div>\n",
              "    <div class=\"colab-df-buttons\">\n",
              "\n",
              "  <div class=\"colab-df-container\">\n",
              "    <button class=\"colab-df-convert\" onclick=\"convertToInteractive('df-dbc33428-017c-42f0-b0fc-9c5c7087da9c')\"\n",
              "            title=\"Convert this dataframe to an interactive table.\"\n",
              "            style=\"display:none;\">\n",
              "\n",
              "  <svg xmlns=\"http://www.w3.org/2000/svg\" height=\"24px\" viewBox=\"0 -960 960 960\">\n",
              "    <path d=\"M120-120v-720h720v720H120Zm60-500h600v-160H180v160Zm220 220h160v-160H400v160Zm0 220h160v-160H400v160ZM180-400h160v-160H180v160Zm440 0h160v-160H620v160ZM180-180h160v-160H180v160Zm440 0h160v-160H620v160Z\"/>\n",
              "  </svg>\n",
              "    </button>\n",
              "\n",
              "  <style>\n",
              "    .colab-df-container {\n",
              "      display:flex;\n",
              "      gap: 12px;\n",
              "    }\n",
              "\n",
              "    .colab-df-convert {\n",
              "      background-color: #E8F0FE;\n",
              "      border: none;\n",
              "      border-radius: 50%;\n",
              "      cursor: pointer;\n",
              "      display: none;\n",
              "      fill: #1967D2;\n",
              "      height: 32px;\n",
              "      padding: 0 0 0 0;\n",
              "      width: 32px;\n",
              "    }\n",
              "\n",
              "    .colab-df-convert:hover {\n",
              "      background-color: #E2EBFA;\n",
              "      box-shadow: 0px 1px 2px rgba(60, 64, 67, 0.3), 0px 1px 3px 1px rgba(60, 64, 67, 0.15);\n",
              "      fill: #174EA6;\n",
              "    }\n",
              "\n",
              "    .colab-df-buttons div {\n",
              "      margin-bottom: 4px;\n",
              "    }\n",
              "\n",
              "    [theme=dark] .colab-df-convert {\n",
              "      background-color: #3B4455;\n",
              "      fill: #D2E3FC;\n",
              "    }\n",
              "\n",
              "    [theme=dark] .colab-df-convert:hover {\n",
              "      background-color: #434B5C;\n",
              "      box-shadow: 0px 1px 3px 1px rgba(0, 0, 0, 0.15);\n",
              "      filter: drop-shadow(0px 1px 2px rgba(0, 0, 0, 0.3));\n",
              "      fill: #FFFFFF;\n",
              "    }\n",
              "  </style>\n",
              "\n",
              "    <script>\n",
              "      const buttonEl =\n",
              "        document.querySelector('#df-dbc33428-017c-42f0-b0fc-9c5c7087da9c button.colab-df-convert');\n",
              "      buttonEl.style.display =\n",
              "        google.colab.kernel.accessAllowed ? 'block' : 'none';\n",
              "\n",
              "      async function convertToInteractive(key) {\n",
              "        const element = document.querySelector('#df-dbc33428-017c-42f0-b0fc-9c5c7087da9c');\n",
              "        const dataTable =\n",
              "          await google.colab.kernel.invokeFunction('convertToInteractive',\n",
              "                                                    [key], {});\n",
              "        if (!dataTable) return;\n",
              "\n",
              "        const docLinkHtml = 'Like what you see? Visit the ' +\n",
              "          '<a target=\"_blank\" href=https://colab.research.google.com/notebooks/data_table.ipynb>data table notebook</a>'\n",
              "          + ' to learn more about interactive tables.';\n",
              "        element.innerHTML = '';\n",
              "        dataTable['output_type'] = 'display_data';\n",
              "        await google.colab.output.renderOutput(dataTable, element);\n",
              "        const docLink = document.createElement('div');\n",
              "        docLink.innerHTML = docLinkHtml;\n",
              "        element.appendChild(docLink);\n",
              "      }\n",
              "    </script>\n",
              "  </div>\n",
              "\n",
              "\n",
              "<div id=\"df-c8739ff8-3975-407d-9df2-44a8ebdcceda\">\n",
              "  <button class=\"colab-df-quickchart\" onclick=\"quickchart('df-c8739ff8-3975-407d-9df2-44a8ebdcceda')\"\n",
              "            title=\"Suggest charts\"\n",
              "            style=\"display:none;\">\n",
              "\n",
              "<svg xmlns=\"http://www.w3.org/2000/svg\" height=\"24px\"viewBox=\"0 0 24 24\"\n",
              "     width=\"24px\">\n",
              "    <g>\n",
              "        <path d=\"M19 3H5c-1.1 0-2 .9-2 2v14c0 1.1.9 2 2 2h14c1.1 0 2-.9 2-2V5c0-1.1-.9-2-2-2zM9 17H7v-7h2v7zm4 0h-2V7h2v10zm4 0h-2v-4h2v4z\"/>\n",
              "    </g>\n",
              "</svg>\n",
              "  </button>\n",
              "\n",
              "<style>\n",
              "  .colab-df-quickchart {\n",
              "      --bg-color: #E8F0FE;\n",
              "      --fill-color: #1967D2;\n",
              "      --hover-bg-color: #E2EBFA;\n",
              "      --hover-fill-color: #174EA6;\n",
              "      --disabled-fill-color: #AAA;\n",
              "      --disabled-bg-color: #DDD;\n",
              "  }\n",
              "\n",
              "  [theme=dark] .colab-df-quickchart {\n",
              "      --bg-color: #3B4455;\n",
              "      --fill-color: #D2E3FC;\n",
              "      --hover-bg-color: #434B5C;\n",
              "      --hover-fill-color: #FFFFFF;\n",
              "      --disabled-bg-color: #3B4455;\n",
              "      --disabled-fill-color: #666;\n",
              "  }\n",
              "\n",
              "  .colab-df-quickchart {\n",
              "    background-color: var(--bg-color);\n",
              "    border: none;\n",
              "    border-radius: 50%;\n",
              "    cursor: pointer;\n",
              "    display: none;\n",
              "    fill: var(--fill-color);\n",
              "    height: 32px;\n",
              "    padding: 0;\n",
              "    width: 32px;\n",
              "  }\n",
              "\n",
              "  .colab-df-quickchart:hover {\n",
              "    background-color: var(--hover-bg-color);\n",
              "    box-shadow: 0 1px 2px rgba(60, 64, 67, 0.3), 0 1px 3px 1px rgba(60, 64, 67, 0.15);\n",
              "    fill: var(--button-hover-fill-color);\n",
              "  }\n",
              "\n",
              "  .colab-df-quickchart-complete:disabled,\n",
              "  .colab-df-quickchart-complete:disabled:hover {\n",
              "    background-color: var(--disabled-bg-color);\n",
              "    fill: var(--disabled-fill-color);\n",
              "    box-shadow: none;\n",
              "  }\n",
              "\n",
              "  .colab-df-spinner {\n",
              "    border: 2px solid var(--fill-color);\n",
              "    border-color: transparent;\n",
              "    border-bottom-color: var(--fill-color);\n",
              "    animation:\n",
              "      spin 1s steps(1) infinite;\n",
              "  }\n",
              "\n",
              "  @keyframes spin {\n",
              "    0% {\n",
              "      border-color: transparent;\n",
              "      border-bottom-color: var(--fill-color);\n",
              "      border-left-color: var(--fill-color);\n",
              "    }\n",
              "    20% {\n",
              "      border-color: transparent;\n",
              "      border-left-color: var(--fill-color);\n",
              "      border-top-color: var(--fill-color);\n",
              "    }\n",
              "    30% {\n",
              "      border-color: transparent;\n",
              "      border-left-color: var(--fill-color);\n",
              "      border-top-color: var(--fill-color);\n",
              "      border-right-color: var(--fill-color);\n",
              "    }\n",
              "    40% {\n",
              "      border-color: transparent;\n",
              "      border-right-color: var(--fill-color);\n",
              "      border-top-color: var(--fill-color);\n",
              "    }\n",
              "    60% {\n",
              "      border-color: transparent;\n",
              "      border-right-color: var(--fill-color);\n",
              "    }\n",
              "    80% {\n",
              "      border-color: transparent;\n",
              "      border-right-color: var(--fill-color);\n",
              "      border-bottom-color: var(--fill-color);\n",
              "    }\n",
              "    90% {\n",
              "      border-color: transparent;\n",
              "      border-bottom-color: var(--fill-color);\n",
              "    }\n",
              "  }\n",
              "</style>\n",
              "\n",
              "  <script>\n",
              "    async function quickchart(key) {\n",
              "      const quickchartButtonEl =\n",
              "        document.querySelector('#' + key + ' button');\n",
              "      quickchartButtonEl.disabled = true;  // To prevent multiple clicks.\n",
              "      quickchartButtonEl.classList.add('colab-df-spinner');\n",
              "      try {\n",
              "        const charts = await google.colab.kernel.invokeFunction(\n",
              "            'suggestCharts', [key], {});\n",
              "      } catch (error) {\n",
              "        console.error('Error during call to suggestCharts:', error);\n",
              "      }\n",
              "      quickchartButtonEl.classList.remove('colab-df-spinner');\n",
              "      quickchartButtonEl.classList.add('colab-df-quickchart-complete');\n",
              "    }\n",
              "    (() => {\n",
              "      let quickchartButtonEl =\n",
              "        document.querySelector('#df-c8739ff8-3975-407d-9df2-44a8ebdcceda button');\n",
              "      quickchartButtonEl.style.display =\n",
              "        google.colab.kernel.accessAllowed ? 'block' : 'none';\n",
              "    })();\n",
              "  </script>\n",
              "</div>\n",
              "\n",
              "    </div>\n",
              "  </div>\n"
            ],
            "application/vnd.google.colaboratory.intrinsic+json": {
              "type": "dataframe",
              "variable_name": "empathy_df"
            }
          },
          "metadata": {},
          "execution_count": 4
        }
      ]
    },
    {
      "cell_type": "code",
      "source": [
        "empathy_df['emotion'].unique()"
      ],
      "metadata": {
        "colab": {
          "base_uri": "https://localhost:8080/"
        },
        "id": "uoU8rlAGywRo",
        "outputId": "9cbe4c3b-aa05-4868-dc75-cd5cabdaded7"
      },
      "execution_count": null,
      "outputs": [
        {
          "output_type": "execute_result",
          "data": {
            "text/plain": [
              "array(['분노', '슬픔', '기쁨', '당황', '불안', '상처'], dtype=object)"
            ]
          },
          "metadata": {},
          "execution_count": 5
        }
      ]
    },
    {
      "cell_type": "markdown",
      "source": [
        "LabelEncoder이용"
      ],
      "metadata": {
        "id": "ifFCZ-yiqTcL"
      }
    },
    {
      "cell_type": "code",
      "source": [
        "from sklearn.preprocessing import LabelEncoder\n",
        "\n",
        "y = empathy_df[\"emotion\"]\n",
        "\n",
        "# LabelEncoder 객체 생성\n",
        "encoder = LabelEncoder()\n",
        "encoder.fit(y)\n",
        "labels = encoder.transform(y)\n",
        "\n",
        "print(\"labels:\", labels)\n",
        "\n",
        "#인코딩 클래스\n",
        "print(\"encoder:\", encoder.classes_)\n",
        "#디코딩원본값\n",
        "print(encoder.inverse_transform(labels))\n",
        "\n"
      ],
      "metadata": {
        "colab": {
          "base_uri": "https://localhost:8080/"
        },
        "id": "hIbaCf0KoBod",
        "outputId": "6423afc7-177d-4826-c292-88c5bd19014a"
      },
      "execution_count": null,
      "outputs": [
        {
          "output_type": "stream",
          "name": "stdout",
          "text": [
            "labels: [2 2 2 ... 0 0 0]\n",
            "encoder: ['기쁨' '당황' '분노' '불안' '상처' '슬픔']\n",
            "['분노' '분노' '분노' ... '기쁨' '기쁨' '기쁨']\n"
          ]
        }
      ]
    },
    {
      "cell_type": "code",
      "source": [
        "empathy_df['labels'] = labels\n",
        "empathy_df.tail()"
      ],
      "metadata": {
        "colab": {
          "base_uri": "https://localhost:8080/",
          "height": 206
        },
        "id": "NCkdQndWqaO5",
        "outputId": "71910d3e-c43c-4d9f-df99-d8bfb67ce51c"
      },
      "execution_count": null,
      "outputs": [
        {
          "output_type": "execute_result",
          "data": {
            "text/plain": [
              "                        preprocessed emotion  labels\n",
              "482365           유느님 내일이면 해피투게더가 하네요      기쁨       0\n",
              "482366        승관 아 너에게 편지를 안 쓸 수가 없네      기쁨       0\n",
              "482367  패떴 개그계 큰 대 모 이 경실 씨 1탄질 봤습니다      기쁨       0\n",
              "482368   유재석 오라버니 해피투게더 해피 파출소 편 봤어요      기쁨       0\n",
              "482369            유재석 오라버니 해피투게더 봤어요      기쁨       0"
            ],
            "text/html": [
              "\n",
              "  <div id=\"df-01ce5a01-8970-44ce-8ed3-d70104d90120\" class=\"colab-df-container\">\n",
              "    <div>\n",
              "<style scoped>\n",
              "    .dataframe tbody tr th:only-of-type {\n",
              "        vertical-align: middle;\n",
              "    }\n",
              "\n",
              "    .dataframe tbody tr th {\n",
              "        vertical-align: top;\n",
              "    }\n",
              "\n",
              "    .dataframe thead th {\n",
              "        text-align: right;\n",
              "    }\n",
              "</style>\n",
              "<table border=\"1\" class=\"dataframe\">\n",
              "  <thead>\n",
              "    <tr style=\"text-align: right;\">\n",
              "      <th></th>\n",
              "      <th>preprocessed</th>\n",
              "      <th>emotion</th>\n",
              "      <th>labels</th>\n",
              "    </tr>\n",
              "  </thead>\n",
              "  <tbody>\n",
              "    <tr>\n",
              "      <th>482365</th>\n",
              "      <td>유느님 내일이면 해피투게더가 하네요</td>\n",
              "      <td>기쁨</td>\n",
              "      <td>0</td>\n",
              "    </tr>\n",
              "    <tr>\n",
              "      <th>482366</th>\n",
              "      <td>승관 아 너에게 편지를 안 쓸 수가 없네</td>\n",
              "      <td>기쁨</td>\n",
              "      <td>0</td>\n",
              "    </tr>\n",
              "    <tr>\n",
              "      <th>482367</th>\n",
              "      <td>패떴 개그계 큰 대 모 이 경실 씨 1탄질 봤습니다</td>\n",
              "      <td>기쁨</td>\n",
              "      <td>0</td>\n",
              "    </tr>\n",
              "    <tr>\n",
              "      <th>482368</th>\n",
              "      <td>유재석 오라버니 해피투게더 해피 파출소 편 봤어요</td>\n",
              "      <td>기쁨</td>\n",
              "      <td>0</td>\n",
              "    </tr>\n",
              "    <tr>\n",
              "      <th>482369</th>\n",
              "      <td>유재석 오라버니 해피투게더 봤어요</td>\n",
              "      <td>기쁨</td>\n",
              "      <td>0</td>\n",
              "    </tr>\n",
              "  </tbody>\n",
              "</table>\n",
              "</div>\n",
              "    <div class=\"colab-df-buttons\">\n",
              "\n",
              "  <div class=\"colab-df-container\">\n",
              "    <button class=\"colab-df-convert\" onclick=\"convertToInteractive('df-01ce5a01-8970-44ce-8ed3-d70104d90120')\"\n",
              "            title=\"Convert this dataframe to an interactive table.\"\n",
              "            style=\"display:none;\">\n",
              "\n",
              "  <svg xmlns=\"http://www.w3.org/2000/svg\" height=\"24px\" viewBox=\"0 -960 960 960\">\n",
              "    <path d=\"M120-120v-720h720v720H120Zm60-500h600v-160H180v160Zm220 220h160v-160H400v160Zm0 220h160v-160H400v160ZM180-400h160v-160H180v160Zm440 0h160v-160H620v160ZM180-180h160v-160H180v160Zm440 0h160v-160H620v160Z\"/>\n",
              "  </svg>\n",
              "    </button>\n",
              "\n",
              "  <style>\n",
              "    .colab-df-container {\n",
              "      display:flex;\n",
              "      gap: 12px;\n",
              "    }\n",
              "\n",
              "    .colab-df-convert {\n",
              "      background-color: #E8F0FE;\n",
              "      border: none;\n",
              "      border-radius: 50%;\n",
              "      cursor: pointer;\n",
              "      display: none;\n",
              "      fill: #1967D2;\n",
              "      height: 32px;\n",
              "      padding: 0 0 0 0;\n",
              "      width: 32px;\n",
              "    }\n",
              "\n",
              "    .colab-df-convert:hover {\n",
              "      background-color: #E2EBFA;\n",
              "      box-shadow: 0px 1px 2px rgba(60, 64, 67, 0.3), 0px 1px 3px 1px rgba(60, 64, 67, 0.15);\n",
              "      fill: #174EA6;\n",
              "    }\n",
              "\n",
              "    .colab-df-buttons div {\n",
              "      margin-bottom: 4px;\n",
              "    }\n",
              "\n",
              "    [theme=dark] .colab-df-convert {\n",
              "      background-color: #3B4455;\n",
              "      fill: #D2E3FC;\n",
              "    }\n",
              "\n",
              "    [theme=dark] .colab-df-convert:hover {\n",
              "      background-color: #434B5C;\n",
              "      box-shadow: 0px 1px 3px 1px rgba(0, 0, 0, 0.15);\n",
              "      filter: drop-shadow(0px 1px 2px rgba(0, 0, 0, 0.3));\n",
              "      fill: #FFFFFF;\n",
              "    }\n",
              "  </style>\n",
              "\n",
              "    <script>\n",
              "      const buttonEl =\n",
              "        document.querySelector('#df-01ce5a01-8970-44ce-8ed3-d70104d90120 button.colab-df-convert');\n",
              "      buttonEl.style.display =\n",
              "        google.colab.kernel.accessAllowed ? 'block' : 'none';\n",
              "\n",
              "      async function convertToInteractive(key) {\n",
              "        const element = document.querySelector('#df-01ce5a01-8970-44ce-8ed3-d70104d90120');\n",
              "        const dataTable =\n",
              "          await google.colab.kernel.invokeFunction('convertToInteractive',\n",
              "                                                    [key], {});\n",
              "        if (!dataTable) return;\n",
              "\n",
              "        const docLinkHtml = 'Like what you see? Visit the ' +\n",
              "          '<a target=\"_blank\" href=https://colab.research.google.com/notebooks/data_table.ipynb>data table notebook</a>'\n",
              "          + ' to learn more about interactive tables.';\n",
              "        element.innerHTML = '';\n",
              "        dataTable['output_type'] = 'display_data';\n",
              "        await google.colab.output.renderOutput(dataTable, element);\n",
              "        const docLink = document.createElement('div');\n",
              "        docLink.innerHTML = docLinkHtml;\n",
              "        element.appendChild(docLink);\n",
              "      }\n",
              "    </script>\n",
              "  </div>\n",
              "\n",
              "\n",
              "<div id=\"df-17bd04ec-f81b-4826-a1d9-494af62fd410\">\n",
              "  <button class=\"colab-df-quickchart\" onclick=\"quickchart('df-17bd04ec-f81b-4826-a1d9-494af62fd410')\"\n",
              "            title=\"Suggest charts\"\n",
              "            style=\"display:none;\">\n",
              "\n",
              "<svg xmlns=\"http://www.w3.org/2000/svg\" height=\"24px\"viewBox=\"0 0 24 24\"\n",
              "     width=\"24px\">\n",
              "    <g>\n",
              "        <path d=\"M19 3H5c-1.1 0-2 .9-2 2v14c0 1.1.9 2 2 2h14c1.1 0 2-.9 2-2V5c0-1.1-.9-2-2-2zM9 17H7v-7h2v7zm4 0h-2V7h2v10zm4 0h-2v-4h2v4z\"/>\n",
              "    </g>\n",
              "</svg>\n",
              "  </button>\n",
              "\n",
              "<style>\n",
              "  .colab-df-quickchart {\n",
              "      --bg-color: #E8F0FE;\n",
              "      --fill-color: #1967D2;\n",
              "      --hover-bg-color: #E2EBFA;\n",
              "      --hover-fill-color: #174EA6;\n",
              "      --disabled-fill-color: #AAA;\n",
              "      --disabled-bg-color: #DDD;\n",
              "  }\n",
              "\n",
              "  [theme=dark] .colab-df-quickchart {\n",
              "      --bg-color: #3B4455;\n",
              "      --fill-color: #D2E3FC;\n",
              "      --hover-bg-color: #434B5C;\n",
              "      --hover-fill-color: #FFFFFF;\n",
              "      --disabled-bg-color: #3B4455;\n",
              "      --disabled-fill-color: #666;\n",
              "  }\n",
              "\n",
              "  .colab-df-quickchart {\n",
              "    background-color: var(--bg-color);\n",
              "    border: none;\n",
              "    border-radius: 50%;\n",
              "    cursor: pointer;\n",
              "    display: none;\n",
              "    fill: var(--fill-color);\n",
              "    height: 32px;\n",
              "    padding: 0;\n",
              "    width: 32px;\n",
              "  }\n",
              "\n",
              "  .colab-df-quickchart:hover {\n",
              "    background-color: var(--hover-bg-color);\n",
              "    box-shadow: 0 1px 2px rgba(60, 64, 67, 0.3), 0 1px 3px 1px rgba(60, 64, 67, 0.15);\n",
              "    fill: var(--button-hover-fill-color);\n",
              "  }\n",
              "\n",
              "  .colab-df-quickchart-complete:disabled,\n",
              "  .colab-df-quickchart-complete:disabled:hover {\n",
              "    background-color: var(--disabled-bg-color);\n",
              "    fill: var(--disabled-fill-color);\n",
              "    box-shadow: none;\n",
              "  }\n",
              "\n",
              "  .colab-df-spinner {\n",
              "    border: 2px solid var(--fill-color);\n",
              "    border-color: transparent;\n",
              "    border-bottom-color: var(--fill-color);\n",
              "    animation:\n",
              "      spin 1s steps(1) infinite;\n",
              "  }\n",
              "\n",
              "  @keyframes spin {\n",
              "    0% {\n",
              "      border-color: transparent;\n",
              "      border-bottom-color: var(--fill-color);\n",
              "      border-left-color: var(--fill-color);\n",
              "    }\n",
              "    20% {\n",
              "      border-color: transparent;\n",
              "      border-left-color: var(--fill-color);\n",
              "      border-top-color: var(--fill-color);\n",
              "    }\n",
              "    30% {\n",
              "      border-color: transparent;\n",
              "      border-left-color: var(--fill-color);\n",
              "      border-top-color: var(--fill-color);\n",
              "      border-right-color: var(--fill-color);\n",
              "    }\n",
              "    40% {\n",
              "      border-color: transparent;\n",
              "      border-right-color: var(--fill-color);\n",
              "      border-top-color: var(--fill-color);\n",
              "    }\n",
              "    60% {\n",
              "      border-color: transparent;\n",
              "      border-right-color: var(--fill-color);\n",
              "    }\n",
              "    80% {\n",
              "      border-color: transparent;\n",
              "      border-right-color: var(--fill-color);\n",
              "      border-bottom-color: var(--fill-color);\n",
              "    }\n",
              "    90% {\n",
              "      border-color: transparent;\n",
              "      border-bottom-color: var(--fill-color);\n",
              "    }\n",
              "  }\n",
              "</style>\n",
              "\n",
              "  <script>\n",
              "    async function quickchart(key) {\n",
              "      const quickchartButtonEl =\n",
              "        document.querySelector('#' + key + ' button');\n",
              "      quickchartButtonEl.disabled = true;  // To prevent multiple clicks.\n",
              "      quickchartButtonEl.classList.add('colab-df-spinner');\n",
              "      try {\n",
              "        const charts = await google.colab.kernel.invokeFunction(\n",
              "            'suggestCharts', [key], {});\n",
              "      } catch (error) {\n",
              "        console.error('Error during call to suggestCharts:', error);\n",
              "      }\n",
              "      quickchartButtonEl.classList.remove('colab-df-spinner');\n",
              "      quickchartButtonEl.classList.add('colab-df-quickchart-complete');\n",
              "    }\n",
              "    (() => {\n",
              "      let quickchartButtonEl =\n",
              "        document.querySelector('#df-17bd04ec-f81b-4826-a1d9-494af62fd410 button');\n",
              "      quickchartButtonEl.style.display =\n",
              "        google.colab.kernel.accessAllowed ? 'block' : 'none';\n",
              "    })();\n",
              "  </script>\n",
              "</div>\n",
              "\n",
              "    </div>\n",
              "  </div>\n"
            ],
            "application/vnd.google.colaboratory.intrinsic+json": {
              "type": "dataframe",
              "summary": "{\n  \"name\": \"empathy_df\",\n  \"rows\": 5,\n  \"fields\": [\n    {\n      \"column\": \"preprocessed\",\n      \"properties\": {\n        \"dtype\": \"string\",\n        \"num_unique_values\": 5,\n        \"samples\": [\n          \"\\uc2b9\\uad00 \\uc544 \\ub108\\uc5d0\\uac8c \\ud3b8\\uc9c0\\ub97c \\uc548 \\uc4f8 \\uc218\\uac00 \\uc5c6\\ub124\",\n          \"\\uc720\\uc7ac\\uc11d \\uc624\\ub77c\\ubc84\\ub2c8 \\ud574\\ud53c\\ud22c\\uac8c\\ub354 \\ubd24\\uc5b4\\uc694\",\n          \"\\ud328\\ub5b4 \\uac1c\\uadf8\\uacc4 \\ud070 \\ub300 \\ubaa8 \\uc774 \\uacbd\\uc2e4 \\uc528 1\\ud0c4\\uc9c8 \\ubd24\\uc2b5\\ub2c8\\ub2e4\"\n        ],\n        \"semantic_type\": \"\",\n        \"description\": \"\"\n      }\n    },\n    {\n      \"column\": \"emotion\",\n      \"properties\": {\n        \"dtype\": \"category\",\n        \"num_unique_values\": 1,\n        \"samples\": [\n          \"\\uae30\\uc068\"\n        ],\n        \"semantic_type\": \"\",\n        \"description\": \"\"\n      }\n    },\n    {\n      \"column\": \"labels\",\n      \"properties\": {\n        \"dtype\": \"number\",\n        \"std\": 0,\n        \"min\": 0,\n        \"max\": 0,\n        \"num_unique_values\": 1,\n        \"samples\": [\n          0\n        ],\n        \"semantic_type\": \"\",\n        \"description\": \"\"\n      }\n    }\n  ]\n}"
            }
          },
          "metadata": {},
          "execution_count": 7
        }
      ]
    },
    {
      "cell_type": "markdown",
      "source": [
        "라벨 인코딩 이후 전처리"
      ],
      "metadata": {
        "id": "QaH1Ws24q2Nv"
      }
    },
    {
      "cell_type": "code",
      "source": [
        "empathy_df.info() #결측치 없음"
      ],
      "metadata": {
        "colab": {
          "base_uri": "https://localhost:8080/"
        },
        "id": "TvmIB0AqhoGn",
        "outputId": "297b3640-9140-495b-8d56-6d7b69e95a04"
      },
      "execution_count": null,
      "outputs": [
        {
          "output_type": "stream",
          "name": "stdout",
          "text": [
            "<class 'pandas.core.frame.DataFrame'>\n",
            "RangeIndex: 482370 entries, 0 to 482369\n",
            "Data columns (total 3 columns):\n",
            " #   Column        Non-Null Count   Dtype \n",
            "---  ------        --------------   ----- \n",
            " 0   preprocessed  482370 non-null  object\n",
            " 1   emotion       482370 non-null  object\n",
            " 2   labels        482370 non-null  int64 \n",
            "dtypes: int64(1), object(2)\n",
            "memory usage: 11.0+ MB\n"
          ]
        }
      ]
    },
    {
      "cell_type": "code",
      "source": [
        "empathy_df.columns"
      ],
      "metadata": {
        "colab": {
          "base_uri": "https://localhost:8080/"
        },
        "id": "cFRDE3RszuEH",
        "outputId": "4060f24e-f9c5-4c97-f061-16b09844ca1d"
      },
      "execution_count": null,
      "outputs": [
        {
          "output_type": "execute_result",
          "data": {
            "text/plain": [
              "Index(['preprocessed', 'emotion', 'labels'], dtype='object')"
            ]
          },
          "metadata": {},
          "execution_count": 9
        }
      ]
    },
    {
      "cell_type": "code",
      "source": [
        "empathy_df.rename(columns={'preprocessed':'text'}, inplace=True)"
      ],
      "metadata": {
        "id": "FBO-y6AXzg67"
      },
      "execution_count": null,
      "outputs": []
    },
    {
      "cell_type": "code",
      "source": [
        "empathy_df['text']"
      ],
      "metadata": {
        "colab": {
          "base_uri": "https://localhost:8080/"
        },
        "id": "Y1gfnWSFiAd3",
        "outputId": "357f64d2-fa22-4a2e-c6ec-8ba4d5b8fd58"
      },
      "execution_count": null,
      "outputs": [
        {
          "output_type": "execute_result",
          "data": {
            "text/plain": [
              "0         자기야 나 너무 화가나. 지금 퇴근 후 집에 들어왔는데, 키우는 반려견이 휴지통과 ...\n",
              "1         오늘 고생하고 집에왔는데 그 장면을 보고 기분이 참 안좋았겠다. 자기가 화나니까 나...\n",
              "2         내가 출근 전에 집 청소를 다했었거든. 그런데, 집이 다시 더럽게 되었어. 청소를 ...\n",
              "3         나였어도, 아침에 시간 내서 치웠는데, 저녁에 다시 청소를 해야 하면 기분이 안좋을...\n",
              "4         강아지를 데려온지 얼마 안되서 그런지 힘든게 한두개가 아니야. 밤에는 짖어서 잠을 ...\n",
              "                                ...                        \n",
              "482365                                  유느님 내일이면 해피투게더가 하네요\n",
              "482366                               승관 아 너에게 편지를 안 쓸 수가 없네\n",
              "482367                         패떴 개그계 큰 대 모 이 경실 씨 1탄질 봤습니다\n",
              "482368                          유재석 오라버니 해피투게더 해피 파출소 편 봤어요\n",
              "482369                                   유재석 오라버니 해피투게더 봤어요\n",
              "Name: text, Length: 482370, dtype: object"
            ]
          },
          "metadata": {},
          "execution_count": 11
        }
      ]
    },
    {
      "cell_type": "code",
      "source": [
        "plt.figure(figsize=(10, 10))\n",
        "sns.heatmap(empathy_df.isnull(), cmap='viridis')\n",
        "plt.show()"
      ],
      "metadata": {
        "colab": {
          "base_uri": "https://localhost:8080/",
          "height": 837
        },
        "id": "qGNM4ok3iFMn",
        "outputId": "187da190-dbec-4156-ebbb-0325a38dd280"
      },
      "execution_count": null,
      "outputs": [
        {
          "output_type": "display_data",
          "data": {
            "text/plain": [
              "<Figure size 1000x1000 with 2 Axes>"
            ],
            "image/png": "[encoded data removed]"
          },
          "metadata": {}
        }
      ]
    },
    {
      "cell_type": "code",
      "source": [
        "empathy_df.isnull().sum()"
      ],
      "metadata": {
        "colab": {
          "base_uri": "https://localhost:8080/"
        },
        "id": "BTFPFBs-i5aI",
        "outputId": "9fba5670-1528-4cae-b130-49de753db345"
      },
      "execution_count": null,
      "outputs": [
        {
          "output_type": "execute_result",
          "data": {
            "text/plain": [
              "text       0\n",
              "emotion    0\n",
              "labels     0\n",
              "dtype: int64"
            ]
          },
          "metadata": {},
          "execution_count": 13
        }
      ]
    },
    {
      "cell_type": "code",
      "source": [
        "#중복코드 제거\n",
        "print(empathy_df.duplicated().sum())\n",
        "duplicated_df = empathy_df.duplicated()"
      ],
      "metadata": {
        "colab": {
          "base_uri": "https://localhost:8080/"
        },
        "id": "CBzje-MHjAzI",
        "outputId": "75efb78a-0109-47fb-da1c-a2598db8e809"
      },
      "execution_count": null,
      "outputs": [
        {
          "output_type": "stream",
          "name": "stdout",
          "text": [
            "22992\n"
          ]
        }
      ]
    },
    {
      "cell_type": "code",
      "source": [
        "print(empathy_df[duplicated_df])"
      ],
      "metadata": {
        "colab": {
          "base_uri": "https://localhost:8080/"
        },
        "id": "j7wwc4gCjmor",
        "outputId": "2c9359be-9912-4ff0-8949-3a8b8feab2a4"
      },
      "execution_count": null,
      "outputs": [
        {
          "output_type": "stream",
          "name": "stdout",
          "text": [
            "                                                     text emotion  labels\n",
            "12536   남편, 오늘 나한테 무척 기쁜 일이 있었어. 생각할수록 신이 나고 들떠서 정말 행복...      기쁨       0\n",
            "12547   내가 우리 아내에게 조금이라도 도움이 되어서 다행이야. 앞으로도 언제든 혼자서 감당...      기쁨       0\n",
            "12548   그렇게 말해 주는 걸 듣기만 했는데도 마음이 든든해지는 기분이야. 덕분에 기쁨이 배...      기쁨       0\n",
            "21328   그렇다면 난 언제든지 자기의 말을 들을 수 있어. 언제든 나에게 털어놓고 내게 기대...      분노       2\n",
            "21329   자기가 있어서 정말 든든하고 마음이 따듯해진다. 말이라도 정말 고마워. 난 항상 자...      분노       2\n",
            "...                                                   ...     ...     ...\n",
            "482365                                유느님 내일이면 해피투게더가 하네요      기쁨       0\n",
            "482366                             승관 아 너에게 편지를 안 쓸 수가 없네      기쁨       0\n",
            "482367                       패떴 개그계 큰 대 모 이 경실 씨 1탄질 봤습니다      기쁨       0\n",
            "482368                        유재석 오라버니 해피투게더 해피 파출소 편 봤어요      기쁨       0\n",
            "482369                                 유재석 오라버니 해피투게더 봤어요      기쁨       0\n",
            "\n",
            "[22992 rows x 3 columns]\n"
          ]
        }
      ]
    },
    {
      "cell_type": "code",
      "source": [
        "empathy_df = empathy_df.drop_duplicates()\n",
        "empathy_df.duplicated().sum()"
      ],
      "metadata": {
        "colab": {
          "base_uri": "https://localhost:8080/"
        },
        "id": "chztAVaWjFd5",
        "outputId": "90119575-e9b9-4033-d76b-2366d18d0840"
      },
      "execution_count": null,
      "outputs": [
        {
          "output_type": "execute_result",
          "data": {
            "text/plain": [
              "0"
            ]
          },
          "metadata": {},
          "execution_count": 16
        }
      ]
    },
    {
      "cell_type": "code",
      "source": [
        "#불용어 사전\n",
        "stopwords = \"\"\"\n",
        "거야 아 휴 아이구 너무 것 정말 수 그 것 아이쿠 아이고 어 나 우리 저희 따라 의해 을 를 에 의 가 으로 로 에게 뿐이다 의거하여 근거하여 입각하여 기준으로 예하면 예를 들면 예를 들자면 저 소인 소생 저희 지말고 하지마 하지마라 다른 물론 또한 그리고 비길수 없다해서는 안된다 뿐만 아니라 만이 아니다 만은 아니다 막론하고 관계없이 그치지 않다 그러나 그런데 하지만 든간에 논하지 않다 따지지 않다 설사 비록 더라도 아니면 만 못하다 하는 편이 낫다 불문하고 향하여 향해서 향하다 쪽으로 틈타 이용하여 타다 오르다 제외하고 이 외에 이 밖에 하여야 비로소 하다면 몰라도 외에도 이곳 여기 부터 기점으로 따라서 할 생각이다 하려고하다 이리하여 그리하여 그렇게 함으로써 다만 일때 할때 앞에서 중에서 보는데서 으로써 로써 까지 해야한다 일것이다 반드시 할줄알다 할수있다 할수있어 임에 틀림없다 한다면 제 겨우 단지 다만 할뿐 딩동 댕그 대해서 대하여 대하면 훨씬 얼마나 얼마만큼 얼마큼 남짓 여 얼마간 약간 다소 좀 조금 다수 몇 얼마 지만 하물며 또한 그러나 그렇지만 하지만 이외에도 대해 말하자면 뿐이다 다음에 반대로 반대로 말하자면 이와 반대로 바꾸어서 말하면 바꾸어서 한다면 만약 그렇지않으면 까악 툭 딱 삐걱거리다 보드득 비걱거리다 꽈당 응당 해야한다 에 가서 각 각각 여러분 각종 각자 제각기 하도록하다 와 과 그러므로 그래서 고로 한 까닭에 하기 때문에 거니와 이지만 대하여 관하여 관한 과연 실로 아니나다를가 생각한대로 진짜로 한적이있다 하곤하였다 하 하하 허허 아하 거바 와 오 왜 어째서 무엇때문에 어찌 하겠는가 무슨 어디 어느곳 더군다나 하물며 더욱이는 어느때 언제 야 이봐 어이 여보시오 흐흐 흥 휴 헉헉 헐떡헐떡 영차 여차 어기여차 끙끙 아야 앗 아야 콸콸 졸졸 좍좍 뚝뚝 주룩주룩 솨 우르르 그래도 또 그리고 바꾸어말하면 바꾸어말하자면 혹은 혹시 답다 및 그에 따르는 때가 되어 즉 지든지 설령 가령 하더라도 할지라도 일지라도 지든지 몇 거의 하마터면 인젠 이젠 된바에야된이상 만큼 어찌됏든 그위에 게다가 점에서 보아 비추어 보아 고려하면 하게될것이다 일것이다 비교적 좀 보다더 비하면 시키다 하게하다 할만하다 의해서 연이서 이어서 잇따라 뒤따라 뒤이어 결국의지하여 기대여 통하여 자마자 더욱더 불구하고 얼마든지 마음대로 주저하지 않고 곧 즉시 바로 당장 하자마자 바깥에 안된다 하면된다 그래 그렇지 요컨대 다시 말하자면 바꿔 말하면 즉 구체적으로 말하자면 시작하여 시초에 이상 허 헉 허걱 바와같이 해도좋다 해도된다 게다가 더구나 하마터면 와르르 팍 퍽 펄렁 동안 이래 하고있었다 이었다 에서 로부터 까지 예하면 했어요 해요 함께 같이 더불어 마저 마저도 양자 모두 습니다 가까스로 하려고하다 즈음하여 다른 다른 방면으로 해봐요 습니까 했어요 말할것도 없고 무릎쓰고 개의치않고 하는것만 못하다 하는것이 낫다 매 매번 들 모 어느것 어느 로써 갖고말하자면 어디 어느쪽 어느것 어느해 어느 년도 라 해도 언젠가 어떤것 어느것 저기 저쪽\n",
        "\n",
        "\"\"\"\n",
        "# 불용어들을 공백을 기준으로 분리하여 리스트로 변환\n",
        "stopwords_list = stopwords.split()\n",
        "\n",
        "# 리스트의 각 단어들을 작은따옴표로 둘러싸서 새로운 리스트 생성\n",
        "processed_stopwords = [\"'{}'\".format(word) for word in stopwords_list]\n",
        "\n",
        "# 작은따옴표로 둘러싸인 불용어 리스트를 다시 공백으로 연결하여 문자열로 변환\n",
        "processed_stopwords = ' '.join(processed_stopwords)\n",
        "print(processed_stopwords)"
      ],
      "metadata": {
        "colab": {
          "base_uri": "https://localhost:8080/"
        },
        "id": "f8KCpqe-tVwN",
        "outputId": "65e9799a-45f7-4481-cb46-514540fe0df2"
      },
      "execution_count": null,
      "outputs": [
        {
          "output_type": "stream",
          "name": "stdout",
          "text": [
            "'거야' '아' '휴' '아이구' '너무' '것' '정말' '수' '그' '것' '아이쿠' '아이고' '어' '나' '우리' '저희' '따라' '의해' '을' '를' '에' '의' '가' '으로' '로' '에게' '뿐이다' '의거하여' '근거하여' '입각하여' '기준으로' '예하면' '예를' '들면' '예를' '들자면' '저' '소인' '소생' '저희' '지말고' '하지마' '하지마라' '다른' '물론' '또한' '그리고' '비길수' '없다해서는' '안된다' '뿐만' '아니라' '만이' '아니다' '만은' '아니다' '막론하고' '관계없이' '그치지' '않다' '그러나' '그런데' '하지만' '든간에' '논하지' '않다' '따지지' '않다' '설사' '비록' '더라도' '아니면' '만' '못하다' '하는' '편이' '낫다' '불문하고' '향하여' '향해서' '향하다' '쪽으로' '틈타' '이용하여' '타다' '오르다' '제외하고' '이' '외에' '이' '밖에' '하여야' '비로소' '하다면' '몰라도' '외에도' '이곳' '여기' '부터' '기점으로' '따라서' '할' '생각이다' '하려고하다' '이리하여' '그리하여' '그렇게' '함으로써' '다만' '일때' '할때' '앞에서' '중에서' '보는데서' '으로써' '로써' '까지' '해야한다' '일것이다' '반드시' '할줄알다' '할수있다' '할수있어' '임에' '틀림없다' '한다면' '제' '겨우' '단지' '다만' '할뿐' '딩동' '댕그' '대해서' '대하여' '대하면' '훨씬' '얼마나' '얼마만큼' '얼마큼' '남짓' '여' '얼마간' '약간' '다소' '좀' '조금' '다수' '몇' '얼마' '지만' '하물며' '또한' '그러나' '그렇지만' '하지만' '이외에도' '대해' '말하자면' '뿐이다' '다음에' '반대로' '반대로' '말하자면' '이와' '반대로' '바꾸어서' '말하면' '바꾸어서' '한다면' '만약' '그렇지않으면' '까악' '툭' '딱' '삐걱거리다' '보드득' '비걱거리다' '꽈당' '응당' '해야한다' '에' '가서' '각' '각각' '여러분' '각종' '각자' '제각기' '하도록하다' '와' '과' '그러므로' '그래서' '고로' '한' '까닭에' '하기' '때문에' '거니와' '이지만' '대하여' '관하여' '관한' '과연' '실로' '아니나다를가' '생각한대로' '진짜로' '한적이있다' '하곤하였다' '하' '하하' '허허' '아하' '거바' '와' '오' '왜' '어째서' '무엇때문에' '어찌' '하겠는가' '무슨' '어디' '어느곳' '더군다나' '하물며' '더욱이는' '어느때' '언제' '야' '이봐' '어이' '여보시오' '흐흐' '흥' '휴' '헉헉' '헐떡헐떡' '영차' '여차' '어기여차' '끙끙' '아야' '앗' '아야' '콸콸' '졸졸' '좍좍' '뚝뚝' '주룩주룩' '솨' '우르르' '그래도' '또' '그리고' '바꾸어말하면' '바꾸어말하자면' '혹은' '혹시' '답다' '및' '그에' '따르는' '때가' '되어' '즉' '지든지' '설령' '가령' '하더라도' '할지라도' '일지라도' '지든지' '몇' '거의' '하마터면' '인젠' '이젠' '된바에야된이상' '만큼' '어찌됏든' '그위에' '게다가' '점에서' '보아' '비추어' '보아' '고려하면' '하게될것이다' '일것이다' '비교적' '좀' '보다더' '비하면' '시키다' '하게하다' '할만하다' '의해서' '연이서' '이어서' '잇따라' '뒤따라' '뒤이어' '결국의지하여' '기대여' '통하여' '자마자' '더욱더' '불구하고' '얼마든지' '마음대로' '주저하지' '않고' '곧' '즉시' '바로' '당장' '하자마자' '바깥에' '안된다' '하면된다' '그래' '그렇지' '요컨대' '다시' '말하자면' '바꿔' '말하면' '즉' '구체적으로' '말하자면' '시작하여' '시초에' '이상' '허' '헉' '허걱' '바와같이' '해도좋다' '해도된다' '게다가' '더구나' '하마터면' '와르르' '팍' '퍽' '펄렁' '동안' '이래' '하고있었다' '이었다' '에서' '로부터' '까지' '예하면' '했어요' '해요' '함께' '같이' '더불어' '마저' '마저도' '양자' '모두' '습니다' '가까스로' '하려고하다' '즈음하여' '다른' '다른' '방면으로' '해봐요' '습니까' '했어요' '말할것도' '없고' '무릎쓰고' '개의치않고' '하는것만' '못하다' '하는것이' '낫다' '매' '매번' '들' '모' '어느것' '어느' '로써' '갖고말하자면' '어디' '어느쪽' '어느것' '어느해' '어느' '년도' '라' '해도' '언젠가' '어떤것' '어느것' '저기' '저쪽'\n"
          ]
        }
      ]
    },
    {
      "cell_type": "code",
      "source": [
        "def text_preprocessing(text):\n",
        "    # 기호 제거\n",
        "    text = re.sub('[^가-힣]', ' ', text)\n",
        "    # 불용어 처리\n",
        "    text = [word for word in text.split() if word not in processed_stopwords]\n",
        "    text = ' '.join(text)\n",
        "    return text"
      ],
      "metadata": {
        "id": "JLz7R9v7nRHL"
      },
      "execution_count": null,
      "outputs": []
    },
    {
      "cell_type": "code",
      "source": [
        "sample = empathy_df['text'][2]\n",
        "print(sample)\n",
        "print('='*20)\n",
        "print(text_preprocessing(sample))"
      ],
      "metadata": {
        "colab": {
          "base_uri": "https://localhost:8080/"
        },
        "id": "8IeBUxgMnehj",
        "outputId": "47a2117a-4f56-4418-b558-6541f214cd58"
      },
      "execution_count": null,
      "outputs": [
        {
          "output_type": "stream",
          "name": "stdout",
          "text": [
            "내가 출근 전에 집 청소를 다했었거든. 그런데, 집이 다시 더럽게 되었어. 청소를 다시 할 생각하니 너무 기분이 안좋고 화가나네. 나였어도, 아침에 시간 내서 치웠는데, 저녁에 다시 청소를 해야 하면 기분이 안좋을 것 같아. 나도 키우는 강아지로 인해 청소를 여러 번 하고 있거든. 번거롭기도 하고 귀찮기도 해서 더 기분이 안좋다는 거 잘 알고 있어.\n",
            "====================\n",
            "내가 출근 전에 집 청소를 다했었거든 집이 더럽게 되었어 청소를 생각하니 기분이 안좋고 화가나네 나였어도 아침에 시간 내서 치웠는데 저녁에 청소를 기분이 안좋을 같아 나도 키우는 강아지로 인해 청소를 있거든 번거롭기도 귀찮기도 기분이 안좋다는 잘 알고\n"
          ]
        }
      ]
    },
    {
      "cell_type": "code",
      "source": [
        "empathy_df['cleaned_text'] = empathy_df['text'].apply(text_preprocessing)\n",
        "empathy_df.head()"
      ],
      "metadata": {
        "colab": {
          "base_uri": "https://localhost:8080/",
          "height": 293
        },
        "id": "LVEUnNn9njkZ",
        "outputId": "5ee64f38-7d27-4a37-a210-0dd1a8dd8f3f"
      },
      "execution_count": null,
      "outputs": [
        {
          "output_type": "execute_result",
          "data": {
            "text/plain": [
              "                                                text emotion  labels  \\\n",
              "0  자기야 나 너무 화가나. 지금 퇴근 후 집에 들어왔는데, 키우는 반려견이 휴지통과 ...      분노       2   \n",
              "1  오늘 고생하고 집에왔는데 그 장면을 보고 기분이 참 안좋았겠다. 자기가 화나니까 나...      분노       2   \n",
              "2  내가 출근 전에 집 청소를 다했었거든. 그런데, 집이 다시 더럽게 되었어. 청소를 ...      분노       2   \n",
              "3  나였어도, 아침에 시간 내서 치웠는데, 저녁에 다시 청소를 해야 하면 기분이 안좋을...      분노       2   \n",
              "4  강아지를 데려온지 얼마 안되서 그런지 힘든게 한두개가 아니야. 밤에는 짖어서 잠을 ...      분노       2   \n",
              "\n",
              "                                        cleaned_text  \n",
              "0  자기야 화가나 지금 퇴근 후 집에 들어왔는데 키우는 반려견이 휴지통과 봉투를 파헤쳐...  \n",
              "1  오늘 고생하고 집에왔는데 장면을 보고 기분이 참 안좋았겠다 자기가 화나니까 나도 속...  \n",
              "2  내가 출근 전에 집 청소를 다했었거든 집이 더럽게 되었어 청소를 생각하니 기분이 안...  \n",
              "3  나였어도 아침에 시간 내서 치웠는데 저녁에 청소를 기분이 안좋을 같아 나도 키우는 ...  \n",
              "4  강아지를 데려온지 안되서 그런지 힘든게 한두개가 아니야 밤에는 짖어서 잠을 설치기도...  "
            ],
            "text/html": [
              "\n",
              "  <div id=\"df-14e99cb9-23ef-4c20-94a1-a21e65777576\" class=\"colab-df-container\">\n",
              "    <div>\n",
              "<style scoped>\n",
              "    .dataframe tbody tr th:only-of-type {\n",
              "        vertical-align: middle;\n",
              "    }\n",
              "\n",
              "    .dataframe tbody tr th {\n",
              "        vertical-align: top;\n",
              "    }\n",
              "\n",
              "    .dataframe thead th {\n",
              "        text-align: right;\n",
              "    }\n",
              "</style>\n",
              "<table border=\"1\" class=\"dataframe\">\n",
              "  <thead>\n",
              "    <tr style=\"text-align: right;\">\n",
              "      <th></th>\n",
              "      <th>text</th>\n",
              "      <th>emotion</th>\n",
              "      <th>labels</th>\n",
              "      <th>cleaned_text</th>\n",
              "    </tr>\n",
              "  </thead>\n",
              "  <tbody>\n",
              "    <tr>\n",
              "      <th>0</th>\n",
              "      <td>자기야 나 너무 화가나. 지금 퇴근 후 집에 들어왔는데, 키우는 반려견이 휴지통과 ...</td>\n",
              "      <td>분노</td>\n",
              "      <td>2</td>\n",
              "      <td>자기야 화가나 지금 퇴근 후 집에 들어왔는데 키우는 반려견이 휴지통과 봉투를 파헤쳐...</td>\n",
              "    </tr>\n",
              "    <tr>\n",
              "      <th>1</th>\n",
              "      <td>오늘 고생하고 집에왔는데 그 장면을 보고 기분이 참 안좋았겠다. 자기가 화나니까 나...</td>\n",
              "      <td>분노</td>\n",
              "      <td>2</td>\n",
              "      <td>오늘 고생하고 집에왔는데 장면을 보고 기분이 참 안좋았겠다 자기가 화나니까 나도 속...</td>\n",
              "    </tr>\n",
              "    <tr>\n",
              "      <th>2</th>\n",
              "      <td>내가 출근 전에 집 청소를 다했었거든. 그런데, 집이 다시 더럽게 되었어. 청소를 ...</td>\n",
              "      <td>분노</td>\n",
              "      <td>2</td>\n",
              "      <td>내가 출근 전에 집 청소를 다했었거든 집이 더럽게 되었어 청소를 생각하니 기분이 안...</td>\n",
              "    </tr>\n",
              "    <tr>\n",
              "      <th>3</th>\n",
              "      <td>나였어도, 아침에 시간 내서 치웠는데, 저녁에 다시 청소를 해야 하면 기분이 안좋을...</td>\n",
              "      <td>분노</td>\n",
              "      <td>2</td>\n",
              "      <td>나였어도 아침에 시간 내서 치웠는데 저녁에 청소를 기분이 안좋을 같아 나도 키우는 ...</td>\n",
              "    </tr>\n",
              "    <tr>\n",
              "      <th>4</th>\n",
              "      <td>강아지를 데려온지 얼마 안되서 그런지 힘든게 한두개가 아니야. 밤에는 짖어서 잠을 ...</td>\n",
              "      <td>분노</td>\n",
              "      <td>2</td>\n",
              "      <td>강아지를 데려온지 안되서 그런지 힘든게 한두개가 아니야 밤에는 짖어서 잠을 설치기도...</td>\n",
              "    </tr>\n",
              "  </tbody>\n",
              "</table>\n",
              "</div>\n",
              "    <div class=\"colab-df-buttons\">\n",
              "\n",
              "  <div class=\"colab-df-container\">\n",
              "    <button class=\"colab-df-convert\" onclick=\"convertToInteractive('df-14e99cb9-23ef-4c20-94a1-a21e65777576')\"\n",
              "            title=\"Convert this dataframe to an interactive table.\"\n",
              "            style=\"display:none;\">\n",
              "\n",
              "  <svg xmlns=\"http://www.w3.org/2000/svg\" height=\"24px\" viewBox=\"0 -960 960 960\">\n",
              "    <path d=\"M120-120v-720h720v720H120Zm60-500h600v-160H180v160Zm220 220h160v-160H400v160Zm0 220h160v-160H400v160ZM180-400h160v-160H180v160Zm440 0h160v-160H620v160ZM180-180h160v-160H180v160Zm440 0h160v-160H620v160Z\"/>\n",
              "  </svg>\n",
              "    </button>\n",
              "\n",
              "  <style>\n",
              "    .colab-df-container {\n",
              "      display:flex;\n",
              "      gap: 12px;\n",
              "    }\n",
              "\n",
              "    .colab-df-convert {\n",
              "      background-color: #E8F0FE;\n",
              "      border: none;\n",
              "      border-radius: 50%;\n",
              "      cursor: pointer;\n",
              "      display: none;\n",
              "      fill: #1967D2;\n",
              "      height: 32px;\n",
              "      padding: 0 0 0 0;\n",
              "      width: 32px;\n",
              "    }\n",
              "\n",
              "    .colab-df-convert:hover {\n",
              "      background-color: #E2EBFA;\n",
              "      box-shadow: 0px 1px 2px rgba(60, 64, 67, 0.3), 0px 1px 3px 1px rgba(60, 64, 67, 0.15);\n",
              "      fill: #174EA6;\n",
              "    }\n",
              "\n",
              "    .colab-df-buttons div {\n",
              "      margin-bottom: 4px;\n",
              "    }\n",
              "\n",
              "    [theme=dark] .colab-df-convert {\n",
              "      background-color: #3B4455;\n",
              "      fill: #D2E3FC;\n",
              "    }\n",
              "\n",
              "    [theme=dark] .colab-df-convert:hover {\n",
              "      background-color: #434B5C;\n",
              "      box-shadow: 0px 1px 3px 1px rgba(0, 0, 0, 0.15);\n",
              "      filter: drop-shadow(0px 1px 2px rgba(0, 0, 0, 0.3));\n",
              "      fill: #FFFFFF;\n",
              "    }\n",
              "  </style>\n",
              "\n",
              "    <script>\n",
              "      const buttonEl =\n",
              "        document.querySelector('#df-14e99cb9-23ef-4c20-94a1-a21e65777576 button.colab-df-convert');\n",
              "      buttonEl.style.display =\n",
              "        google.colab.kernel.accessAllowed ? 'block' : 'none';\n",
              "\n",
              "      async function convertToInteractive(key) {\n",
              "        const element = document.querySelector('#df-14e99cb9-23ef-4c20-94a1-a21e65777576');\n",
              "        const dataTable =\n",
              "          await google.colab.kernel.invokeFunction('convertToInteractive',\n",
              "                                                    [key], {});\n",
              "        if (!dataTable) return;\n",
              "\n",
              "        const docLinkHtml = 'Like what you see? Visit the ' +\n",
              "          '<a target=\"_blank\" href=https://colab.research.google.com/notebooks/data_table.ipynb>data table notebook</a>'\n",
              "          + ' to learn more about interactive tables.';\n",
              "        element.innerHTML = '';\n",
              "        dataTable['output_type'] = 'display_data';\n",
              "        await google.colab.output.renderOutput(dataTable, element);\n",
              "        const docLink = document.createElement('div');\n",
              "        docLink.innerHTML = docLinkHtml;\n",
              "        element.appendChild(docLink);\n",
              "      }\n",
              "    </script>\n",
              "  </div>\n",
              "\n",
              "\n",
              "<div id=\"df-66030c18-1713-4554-a20c-bd9e4747008a\">\n",
              "  <button class=\"colab-df-quickchart\" onclick=\"quickchart('df-66030c18-1713-4554-a20c-bd9e4747008a')\"\n",
              "            title=\"Suggest charts\"\n",
              "            style=\"display:none;\">\n",
              "\n",
              "<svg xmlns=\"http://www.w3.org/2000/svg\" height=\"24px\"viewBox=\"0 0 24 24\"\n",
              "     width=\"24px\">\n",
              "    <g>\n",
              "        <path d=\"M19 3H5c-1.1 0-2 .9-2 2v14c0 1.1.9 2 2 2h14c1.1 0 2-.9 2-2V5c0-1.1-.9-2-2-2zM9 17H7v-7h2v7zm4 0h-2V7h2v10zm4 0h-2v-4h2v4z\"/>\n",
              "    </g>\n",
              "</svg>\n",
              "  </button>\n",
              "\n",
              "<style>\n",
              "  .colab-df-quickchart {\n",
              "      --bg-color: #E8F0FE;\n",
              "      --fill-color: #1967D2;\n",
              "      --hover-bg-color: #E2EBFA;\n",
              "      --hover-fill-color: #174EA6;\n",
              "      --disabled-fill-color: #AAA;\n",
              "      --disabled-bg-color: #DDD;\n",
              "  }\n",
              "\n",
              "  [theme=dark] .colab-df-quickchart {\n",
              "      --bg-color: #3B4455;\n",
              "      --fill-color: #D2E3FC;\n",
              "      --hover-bg-color: #434B5C;\n",
              "      --hover-fill-color: #FFFFFF;\n",
              "      --disabled-bg-color: #3B4455;\n",
              "      --disabled-fill-color: #666;\n",
              "  }\n",
              "\n",
              "  .colab-df-quickchart {\n",
              "    background-color: var(--bg-color);\n",
              "    border: none;\n",
              "    border-radius: 50%;\n",
              "    cursor: pointer;\n",
              "    display: none;\n",
              "    fill: var(--fill-color);\n",
              "    height: 32px;\n",
              "    padding: 0;\n",
              "    width: 32px;\n",
              "  }\n",
              "\n",
              "  .colab-df-quickchart:hover {\n",
              "    background-color: var(--hover-bg-color);\n",
              "    box-shadow: 0 1px 2px rgba(60, 64, 67, 0.3), 0 1px 3px 1px rgba(60, 64, 67, 0.15);\n",
              "    fill: var(--button-hover-fill-color);\n",
              "  }\n",
              "\n",
              "  .colab-df-quickchart-complete:disabled,\n",
              "  .colab-df-quickchart-complete:disabled:hover {\n",
              "    background-color: var(--disabled-bg-color);\n",
              "    fill: var(--disabled-fill-color);\n",
              "    box-shadow: none;\n",
              "  }\n",
              "\n",
              "  .colab-df-spinner {\n",
              "    border: 2px solid var(--fill-color);\n",
              "    border-color: transparent;\n",
              "    border-bottom-color: var(--fill-color);\n",
              "    animation:\n",
              "      spin 1s steps(1) infinite;\n",
              "  }\n",
              "\n",
              "  @keyframes spin {\n",
              "    0% {\n",
              "      border-color: transparent;\n",
              "      border-bottom-color: var(--fill-color);\n",
              "      border-left-color: var(--fill-color);\n",
              "    }\n",
              "    20% {\n",
              "      border-color: transparent;\n",
              "      border-left-color: var(--fill-color);\n",
              "      border-top-color: var(--fill-color);\n",
              "    }\n",
              "    30% {\n",
              "      border-color: transparent;\n",
              "      border-left-color: var(--fill-color);\n",
              "      border-top-color: var(--fill-color);\n",
              "      border-right-color: var(--fill-color);\n",
              "    }\n",
              "    40% {\n",
              "      border-color: transparent;\n",
              "      border-right-color: var(--fill-color);\n",
              "      border-top-color: var(--fill-color);\n",
              "    }\n",
              "    60% {\n",
              "      border-color: transparent;\n",
              "      border-right-color: var(--fill-color);\n",
              "    }\n",
              "    80% {\n",
              "      border-color: transparent;\n",
              "      border-right-color: var(--fill-color);\n",
              "      border-bottom-color: var(--fill-color);\n",
              "    }\n",
              "    90% {\n",
              "      border-color: transparent;\n",
              "      border-bottom-color: var(--fill-color);\n",
              "    }\n",
              "  }\n",
              "</style>\n",
              "\n",
              "  <script>\n",
              "    async function quickchart(key) {\n",
              "      const quickchartButtonEl =\n",
              "        document.querySelector('#' + key + ' button');\n",
              "      quickchartButtonEl.disabled = true;  // To prevent multiple clicks.\n",
              "      quickchartButtonEl.classList.add('colab-df-spinner');\n",
              "      try {\n",
              "        const charts = await google.colab.kernel.invokeFunction(\n",
              "            'suggestCharts', [key], {});\n",
              "      } catch (error) {\n",
              "        console.error('Error during call to suggestCharts:', error);\n",
              "      }\n",
              "      quickchartButtonEl.classList.remove('colab-df-spinner');\n",
              "      quickchartButtonEl.classList.add('colab-df-quickchart-complete');\n",
              "    }\n",
              "    (() => {\n",
              "      let quickchartButtonEl =\n",
              "        document.querySelector('#df-66030c18-1713-4554-a20c-bd9e4747008a button');\n",
              "      quickchartButtonEl.style.display =\n",
              "        google.colab.kernel.accessAllowed ? 'block' : 'none';\n",
              "    })();\n",
              "  </script>\n",
              "</div>\n",
              "\n",
              "    </div>\n",
              "  </div>\n"
            ],
            "application/vnd.google.colaboratory.intrinsic+json": {
              "type": "dataframe",
              "variable_name": "empathy_df"
            }
          },
          "metadata": {},
          "execution_count": 32
        }
      ]
    },
    {
      "cell_type": "code",
      "source": [
        "plt.rc('font', family='NanumGothic')"
      ],
      "metadata": {
        "id": "123i6obqq0Uv"
      },
      "execution_count": null,
      "outputs": []
    },
    {
      "cell_type": "code",
      "source": [
        "sns.countplot(x=empathy_df['emotion'])"
      ],
      "metadata": {
        "id": "8pc6rMJeodH4",
        "colab": {
          "base_uri": "https://localhost:8080/",
          "height": 465
        },
        "outputId": "d4e90b8e-c995-4ecc-9315-b2cf16a25605"
      },
      "execution_count": null,
      "outputs": [
        {
          "output_type": "execute_result",
          "data": {
            "text/plain": [
              "<Axes: xlabel='emotion', ylabel='count'>"
            ]
          },
          "metadata": {},
          "execution_count": 34
        },
        {
          "output_type": "display_data",
          "data": {
            "text/plain": [
              "<Figure size 640x480 with 1 Axes>"
            ],
            "image/png": "[encoded data removed]"
          },
          "metadata": {}
        }
      ]
    },
    {
      "cell_type": "code",
      "source": [
        "corpus = [word for text in empathy_df['cleaned_text'] for word in text.split()]\n",
        "\n",
        "count_words = Counter(corpus)\n",
        "\n",
        "sorted_words = count_words.most_common(20)\n",
        "sorted_words"
      ],
      "metadata": {
        "colab": {
          "base_uri": "https://localhost:8080/"
        },
        "id": "IVs1JaYxokHZ",
        "outputId": "055f4c75-26b4-403e-ed03-731818d2da2e"
      },
      "execution_count": null,
      "outputs": [
        {
          "output_type": "execute_result",
          "data": {
            "text/plain": [
              "[('내가', 113503),\n",
              " ('같아', 105272),\n",
              " ('마음이', 93835),\n",
              " ('잘', 90761),\n",
              " ('많이', 75347),\n",
              " ('내', 70710),\n",
              " ('네가', 70677),\n",
              " ('나도', 62678),\n",
              " ('네', 55719),\n",
              " ('이렇게', 53268),\n",
              " ('좋은', 49896),\n",
              " ('있는', 48485),\n",
              " ('건', 46752),\n",
              " ('일이', 41754),\n",
              " ('걸', 39986),\n",
              " ('화가', 37525),\n",
              " ('같아요', 36065),\n",
              " ('나는', 36060),\n",
              " ('마음을', 34561),\n",
              " ('있을', 34242)]"
            ]
          },
          "metadata": {},
          "execution_count": 35
        }
      ]
    },
    {
      "cell_type": "code",
      "source": [
        "keys = []\n",
        "values = []\n",
        "\n",
        "for key, value in sorted_words[:20]:\n",
        "\n",
        "    keys.append(key)\n",
        "    values.append(value)\n",
        "\n",
        "plt.figure(figsize=(12, 5))\n",
        "plt.bar(keys, values)\n",
        "plt.title('Top 20 words')\n",
        "plt.show()"
      ],
      "metadata": {
        "colab": {
          "base_uri": "https://localhost:8080/",
          "height": 429
        },
        "id": "ZXluI4MkskXi",
        "outputId": "0cf15690-268b-4f8d-8390-8079961dccad"
      },
      "execution_count": null,
      "outputs": [
        {
          "output_type": "display_data",
          "data": {
            "text/plain": [
              "<Figure size 1200x500 with 1 Axes>"
            ],
            "image/png": "[encoded data removed]"
          },
          "metadata": {}
        }
      ]
    },
    {
      "cell_type": "code",
      "source": [
        "def create_vocab_and_tokenize(reviews, min_freq=0, max_length=64):\n",
        "    # 리뷰를 토큰화합니다.\n",
        "    def tokenize_text(text):\n",
        "        return text.split()\n",
        "\n",
        "    tokenized_reviews = [tokenize_text(review) for review in reviews]\n",
        "\n",
        "    # 각 토큰의 발생 횟수를 세어봅니다.\n",
        "    token_counts = Counter(chain(*tokenized_reviews))\n",
        "\n",
        "    # min_freq 이상 출현한 토큰만으로 어휘를 만듭니다.\n",
        "    vocab = {token: i for i, (token, count) in enumerate(token_counts.items()) if count >= min_freq}\n",
        "\n",
        "    #어휘에 특수 토큰을 추가합니다\n",
        "    vocab = {**{'[PAD]': 0, '[UNK]': 1, '[CLS]': 2, '[SEP]': 3}, **vocab}\n",
        "\n",
        "    # 리뷰를 입력 ID와 attention masks로 변환합니다.\n",
        "    input_ids = []\n",
        "    attention_masks = []\n",
        "\n",
        "    for review in reviews:\n",
        "        # 리뷰를 토큰화하고 최대 길이에 맞게 잘라냅니다.\n",
        "        tokens = tokenize_text(review)[:max_length-2]\n",
        "        input_id = [2] + [vocab.get(token, 1) for token in tokens] + [3]\n",
        "\n",
        "        attention_mask = [1] * len(input_id) + [0] * (max_length - len(input_id))\n",
        "        input_id += [0] * (max_length - len(input_id))\n",
        "        input_ids.append(input_id)\n",
        "        attention_masks.append(attention_mask)\n",
        "\n",
        "    return vocab, torch.tensor(input_ids), torch.tensor(attention_masks)"
      ],
      "metadata": {
        "id": "2MfOsqv7wJD6"
      },
      "execution_count": null,
      "outputs": []
    },
    {
      "cell_type": "code",
      "source": [
        "text = empathy_df['cleaned_text'].tolist()\n",
        "emotions = empathy_df['labels'].tolist()"
      ],
      "metadata": {
        "id": "_QOSxLJEu5O6"
      },
      "execution_count": null,
      "outputs": []
    },
    {
      "cell_type": "code",
      "source": [
        "vocab, input_ids, attention_masks = create_vocab_and_tokenize(text)\n",
        "\n",
        "# # a temporary list\n",
        "# temp_list = y\n",
        "\n",
        "# # dictionary that maps integer to its string value\n",
        "# label_dict = {}\n",
        "\n",
        "# # list to store integer labels\n",
        "# emotions_int_labels = []\n",
        "\n",
        "# for i in range(len(temp_list)):\n",
        "#     label_dict[i] = temp_list[i]\n",
        "#     emotions_int_labels.append(i)\n",
        "\n",
        "\n",
        "emotions = torch.tensor(emotions)\n",
        "\n",
        "input_ids = input_ids.type(torch.LongTensor)\n",
        "input_ids = input_ids.to(device)\n",
        "attention_masks = attention_masks.to(device)\n",
        "\n",
        "emotions = emotions.type(torch.LongTensor)\n",
        "emotions = emotions.to(device)\n",
        "\n",
        "# labels = labels.type(torch.LongTensor) # <---- Here (casting)\n",
        "# labels = labels.to(device)"
      ],
      "metadata": {
        "id": "hfDa7EOpwLD7"
      },
      "execution_count": null,
      "outputs": []
    },
    {
      "cell_type": "code",
      "source": [
        "#데이터셋 생성\n",
        "dataset = TensorDataset(input_ids, attention_masks, emotions)\n",
        "\n",
        "# 90%를 train 10%는 validation 사용\n",
        "train_size = int(0.9 * len(dataset))\n",
        "val_size = len(dataset) - train_size\n",
        "#random_split 데이터셋 무작위 분할\n",
        "train_dataset, val_dataset = random_split(dataset, [train_size, val_size])"
      ],
      "metadata": {
        "id": "NoFY4TfXwnjL"
      },
      "execution_count": null,
      "outputs": []
    },
    {
      "cell_type": "code",
      "source": [
        "batch_size = 64\n",
        "#훈련데이터를 위한 데이터 로더\n",
        "train_dataloader = DataLoader(\n",
        "    train_dataset,\n",
        "    sampler = RandomSampler(train_dataset),  # 무작위 샘플링\n",
        "    batch_size = batch_size\n",
        ")\n",
        "#검증 데이터를 위한 데이터 로더\n",
        "validation_dataloader = DataLoader(\n",
        "    val_dataset,\n",
        "    sampler = SequentialSampler(val_dataset),  # 순차적 샘플링\n",
        "    batch_size = batch_size\n",
        ")"
      ],
      "metadata": {
        "id": "jLW9xp282iU8"
      },
      "execution_count": null,
      "outputs": []
    },
    {
      "cell_type": "code",
      "source": [
        "maxlen = 512\n",
        "vocab_size = len(vocab)\n",
        "max_pred = 20\n",
        "\n",
        "n_layers = 12\n",
        "n_heads = 8\n",
        "d_model = 768\n",
        "d_ff = 768*4\n",
        "d_k = d_v = 64\n",
        "\n",
        "n_segments = 2\n",
        "lr = 0.0001\n",
        "epochs = 300\n",
        "\n",
        "dropout = 0.1"
      ],
      "metadata": {
        "id": "wtLOwng04bCd"
      },
      "execution_count": null,
      "outputs": []
    },
    {
      "cell_type": "code",
      "source": [
        "def gelu(x):\n",
        "  return x *0.5 * (1.0 + torch.erf(x / math.sqrt(2.0)))"
      ],
      "metadata": {
        "id": "0qE7A0E_4dNM"
      },
      "execution_count": null,
      "outputs": []
    },
    {
      "cell_type": "code",
      "source": [
        "class Embedding(nn.Module):\n",
        "    def __init__(self, vocab_size):\n",
        "        super().__init__()\n",
        "\n",
        "        self.tok_embedding = nn.Embedding(vocab_size, d_model) # 토큰임베딩 : 주어진 단어나 토큰을 d_model 차원의 벡터로 변환\n",
        "        self.pos_embedding = nn.Embedding(maxlen, d_model) # 위치 임베딩 :  각 토큰의 위치를  d_model 차원의 벡터로 변환\n",
        "        self.norm = nn.LayerNorm(d_model) # LayerNorm : 임베딩 벡터를 정규화\n",
        "        self.dropout = nn.Dropout(dropout) #모델 과적합 방지\n",
        "\n",
        "    def forward(self, x):\n",
        "        seq_len = x.size(1) #입력 시퀀스의 길이를 가져옴\n",
        "        #입력 x의 각 토큰에 대한 위치 정보를 생성\n",
        "        pos = torch.arange(seq_len,dtype = torch.long, device = x.device)\n",
        "        pos = pos.unsqueeze(0).repeat(x.size(0), 1)\n",
        "\n",
        "        #토큰임베딩과 위치임베팅을 합침\n",
        "        embedding = self.tok_embedding(x) + self.pos_embedding(pos)\n",
        "\n",
        "        return self.dropout(self.norm(embedding))"
      ],
      "metadata": {
        "id": "wthvoSzz4ekc"
      },
      "execution_count": null,
      "outputs": []
    },
    {
      "cell_type": "code",
      "source": [
        "class MultiHeadAttention(nn.Module):\n",
        "    def __init__(self):\n",
        "        super().__init__()\n",
        "\n",
        "        self.w_q = nn.Linear(d_model, d_model)\n",
        "        self.w_k = nn.Linear(d_model, d_model)\n",
        "        self.w_v = nn.Linear(d_model, d_model)\n",
        "\n",
        "        self.dropout = nn.Dropout(dropout)\n",
        "\n",
        "        self.fc = nn.Linear(d_model, d_model)\n",
        "\n",
        "        self.scale = torch.sqrt(torch.FloatTensor([d_model//n_heads])).to(device)\n",
        "\n",
        "        self.softmax = nn.Softmax(dim=-1)\n",
        "\n",
        "    def forward(self, query, key, value, mask=None):\n",
        "        batch_size = query.shape[0]\n",
        "\n",
        "        Q = self.w_q(query)\n",
        "        K = self.w_k(key)\n",
        "        V = self.w_v(value)\n",
        "\n",
        "        Q = Q.view(batch_size, -1, n_heads, d_model//n_heads).permute(0, 2, 1, 3)\n",
        "        K = K.view(batch_size, -1, n_heads, d_model//n_heads).permute(0, 2, 1, 3)\n",
        "        V = V.view(batch_size, -1, n_heads, d_model//n_heads).permute(0, 2, 1, 3)\n",
        "\n",
        "        energy = torch.matmul(Q, K.permute(0, 1, 3, 2)) / self.scale\n",
        "\n",
        "        if mask is not None:\n",
        "            energy = energy.masked_fill(mask == 0, -1e10)\n",
        "\n",
        "        attention = self.dropout(self.softmax(energy))\n",
        "\n",
        "        X = torch.matmul(attention, V)\n",
        "        X = X.permute(0, 2, 1, 3).contiguous()\n",
        "        X = X.view(batch_size, -1, d_model)\n",
        "\n",
        "        X = self.fc(X)\n",
        "\n",
        "        return X\n"
      ],
      "metadata": {
        "id": "6pyDjEPu4gVt"
      },
      "execution_count": null,
      "outputs": []
    },
    {
      "cell_type": "code",
      "source": [
        "class PositionwiseFeedforward(nn.Module):\n",
        "    def __init__(self):\n",
        "        super().__init__()\n",
        "\n",
        "        self.conv1 = nn.Conv1d(d_model, d_ff, 1)\n",
        "        self.conv2 = nn.Conv1d(d_ff, d_model, 1)\n",
        "\n",
        "        self.dropout = nn.Dropout(dropout)\n",
        "\n",
        "    def forward(self, x):\n",
        "        # x => [batch_size, seq_len, d_model]\n",
        "        x = x.permute(0, 2, 1)\n",
        "        x = self.dropout(gelu(self.conv1(x)))\n",
        "\n",
        "        x = self.conv2(x)\n",
        "\n",
        "        x = x.permute(0, 2, 1)\n",
        "\n",
        "        return x\n",
        "      #fc1, fc2대신."
      ],
      "metadata": {
        "id": "jsWCK6bI4lUc"
      },
      "execution_count": null,
      "outputs": []
    },
    {
      "cell_type": "code",
      "source": [
        "class EncoderLayer(nn.Module):\n",
        "    def __init__(self):\n",
        "        super().__init__()\n",
        "\n",
        "        self.encoder_self_attn = MultiHeadAttention()\n",
        "        self.encoder_feed_fwd = PositionwiseFeedforward()\n",
        "        self.layer_norm = nn.LayerNorm(d_model)\n",
        "        self.dropout = nn.Dropout(dropout)\n",
        "\n",
        "    def forward(self, input, input_mask=None):\n",
        "    # input => [batch_size, seq_len, d_model]\n",
        "\n",
        "      encoder_outputs = self.layer_norm(input + self.dropout(self.encoder_self_attn(input, input, input, input_mask)))\n",
        "      encoder_outputs = self.layer_norm(encoder_outputs + self.dropout(self.encoder_feed_fwd(encoder_outputs)))\n",
        "      return encoder_outputs"
      ],
      "metadata": {
        "id": "1CNDGKer4oUc"
      },
      "execution_count": null,
      "outputs": []
    },
    {
      "cell_type": "code",
      "source": [
        "class Bert(nn.Module):\n",
        "    def __init__(self, vocab_size):\n",
        "        super().__init__()\n",
        "\n",
        "        self.embedding = Embedding(vocab_size)\n",
        "        self.layers = nn.ModuleList([EncoderLayer() for _ in range(n_layers)])\n",
        "\n",
        "        self.linear = nn.Linear(d_model, d_model)\n",
        "        self.activn = gelu\n",
        "        self.norm = nn.LayerNorm(d_model)\n",
        "\n",
        "        # outfeature 개수 조정\n",
        "        # merged_dataset: '분노', '슬픔', '기쁨', '당황', '불안', '상처'\n",
        "        self.classifier = nn.Linear(d_model, 6)\n",
        "\n",
        "    def forward(self, input_ids, attention_mask):\n",
        "        # 임베딩 레이어를 통과\n",
        "        embedding_output = self.embedding(input_ids)\n",
        "        # 각 인코더 레이어를 순차적으로 통과\n",
        "        for layer in self.layers:\n",
        "            encoder_output = layer(embedding_output)\n",
        "        pooled_output = encoder_output[:, 0]\n",
        "        # 분류를 위해 선형 레이어를 통과\n",
        "        output = self.classifier(pooled_output)\n",
        "        return output"
      ],
      "metadata": {
        "id": "wjH-xjPC4r2s"
      },
      "execution_count": null,
      "outputs": []
    },
    {
      "cell_type": "code",
      "source": [
        "model = Bert(vocab_size)\n",
        "model = model.to(device)\n",
        "# criterion = nn.NLLLoss()\n",
        "criterion = nn.CrossEntropyLoss()\n",
        "# criterion = nn.BCEWithLogitsLoss()\n",
        "optimizer = optim.Adam(model.parameters(), lr=lr)\n",
        "\n",
        "print(model)"
      ],
      "metadata": {
        "colab": {
          "base_uri": "https://localhost:8080/"
        },
        "id": "VDzWoYuK4txt",
        "outputId": "1f3a3359-2da0-4bb1-e9d3-274fb26ba4c7"
      },
      "execution_count": null,
      "outputs": [
        {
          "output_type": "stream",
          "name": "stdout",
          "text": [
            "Bert(\n",
            "  (embedding): Embedding(\n",
            "    (tok_embedding): Embedding(404526, 768)\n",
            "    (pos_embedding): Embedding(512, 768)\n",
            "    (norm): LayerNorm((768,), eps=1e-05, elementwise_affine=True)\n",
            "    (dropout): Dropout(p=0.1, inplace=False)\n",
            "  )\n",
            "  (layers): ModuleList(\n",
            "    (0-11): 12 x EncoderLayer(\n",
            "      (encoder_self_attn): MultiHeadAttention(\n",
            "        (w_q): Linear(in_features=768, out_features=768, bias=True)\n",
            "        (w_k): Linear(in_features=768, out_features=768, bias=True)\n",
            "        (w_v): Linear(in_features=768, out_features=768, bias=True)\n",
            "        (dropout): Dropout(p=0.1, inplace=False)\n",
            "        (fc): Linear(in_features=768, out_features=768, bias=True)\n",
            "        (softmax): Softmax(dim=-1)\n",
            "      )\n",
            "      (encoder_feed_fwd): PositionwiseFeedforward(\n",
            "        (conv1): Conv1d(768, 3072, kernel_size=(1,), stride=(1,))\n",
            "        (conv2): Conv1d(3072, 768, kernel_size=(1,), stride=(1,))\n",
            "        (dropout): Dropout(p=0.1, inplace=False)\n",
            "      )\n",
            "      (layer_norm): LayerNorm((768,), eps=1e-05, elementwise_affine=True)\n",
            "      (dropout): Dropout(p=0.1, inplace=False)\n",
            "    )\n",
            "  )\n",
            "  (linear): Linear(in_features=768, out_features=768, bias=True)\n",
            "  (norm): LayerNorm((768,), eps=1e-05, elementwise_affine=True)\n",
            "  (classifier): Linear(in_features=768, out_features=6, bias=True)\n",
            ")\n"
          ]
        }
      ]
    },
    {
      "cell_type": "code",
      "source": [
        "def train_and_validate(model, train_dataloader, validation_dataloader, epochs, optimizer, criterion):\n",
        "\n",
        "    best_val_accuracy = 0.0\n",
        "    train_losses = []\n",
        "    val_losses = []\n",
        "    train_accuracies = []\n",
        "    val_accuracies = []\n",
        "\n",
        "    for epoch in range(epochs):\n",
        "        print(f\"Epoch {epoch + 1}/{epochs}\")\n",
        "        print(\"-\" * 10)\n",
        "\n",
        "        model.train()\n",
        "        total_loss = 0\n",
        "        train_preds, train_labels = [], []\n",
        "\n",
        "\n",
        "        progress_bar = tqdm(train_dataloader, desc=\"Training\", position = 0 , leave=True)\n",
        "        for step, batch in enumerate(progress_bar):\n",
        "            b_input_ids = batch[0].to(device)\n",
        "            b_input_mask = batch[1].to(device)\n",
        "            b_labels = batch[2].long().to(device)\n",
        "\n",
        "            #그래디언트 초기화\n",
        "            model.zero_grad()\n",
        "\n",
        "            outputs = model(b_input_ids, b_input_mask)\n",
        "\n",
        "            #손실계산\n",
        "            loss = criterion(outputs.squeeze(), b_labels.long())\n",
        "            # loss = criterion(outputs.squeeze(), b_labels.float())\n",
        "            total_loss += loss.item()\n",
        "\n",
        "            #그래디언트 역전파\n",
        "            loss.backward()\n",
        "\n",
        "            #그래디언트 클리핑 - 폭발방지\n",
        "            torch.nn.utils.clip_grad_norm_(model.parameters(), 1.0)\n",
        "\n",
        "            #모델 파라미터 업데이트\n",
        "            optimizer.step()\n",
        "\n",
        "            #예측값 레이블 저장\n",
        "            softmax_probs = torch.nn.functional.softmax(outputs, dim=1)\n",
        "            train_preds.extend(softmax_probs.squeeze().detach().cpu().numpy().tolist())\n",
        "            # train_preds.extend(torch.sigmoid(outputs).squeeze().detach().cpu().numpy().tolist())\n",
        "            train_labels.extend(b_labels.squeeze().detach().cpu().numpy().tolist())\n",
        "\n",
        "            #진행바 업데이트\n",
        "            progress_bar.set_postfix({\"training_loss\": \"{:.3f}\".format(loss.item() / len(train_dataloader))})\n",
        "\n",
        "        #평균학습손실\n",
        "        avg_train_loss = total_loss / len(train_dataloader)\n",
        "        print(f\"Average training loss: {avg_train_loss:.4f}\")\n",
        "\n",
        "        # (바이너리) 학습 정확도 측정\n",
        "        # train_preds = [1 if pred > 0.5 else 0 for pred in train_preds]\n",
        "        # train_acc = accuracy_score(train_labels, train_preds)\n",
        "        # print(f\"Train Accuracy: {train_acc:.4f}\")\n",
        "\n",
        "\n",
        "        # train_preds를 텐서로 변환\n",
        "        # train_preds에서 각 샘플에 대한 최대값을 가지는 클래스 찾기\n",
        "        predicted_classes = torch.argmax(torch.tensor(train_preds), axis=1)\n",
        "\n",
        "        # 실제 레이블과 비교하여 정확도 계산\n",
        "        train_labels_numpy = np.array([label for label in train_labels])\n",
        "        train_preds_numpy = predicted_classes.numpy()  # 예측된 클래스를 넘파이 배열로 변환\n",
        "\n",
        "        # 정확도 계산\n",
        "        train_acc = accuracy_score(train_labels_numpy, train_preds_numpy)\n",
        "        print(f\"Train Accuracy: {train_acc:.4f}\")\n",
        "\n",
        "        train_losses.append(avg_train_loss)\n",
        "        train_accuracies.append(train_acc)\n",
        "\n",
        "\n",
        "        #검증모드 설정\n",
        "        model.eval()\n",
        "        total_eval_loss = 0\n",
        "        val_preds, val_labels = [], []\n",
        "\n",
        "        #검증데이터로 검증 진행\n",
        "        progress_bar = tqdm(validation_dataloader, desc=\"Validation\", position =0, leave=True)\n",
        "        for step, batch in enumerate(progress_bar):\n",
        "            b_input_ids = batch[0].to(device)\n",
        "            b_input_mask = batch[1].to(device)\n",
        "            b_labels = batch[2].long().to(device)\n",
        "\n",
        "            #그래디언트 계산 비활성화\n",
        "            with torch.no_grad():\n",
        "                outputs = model(b_input_ids, b_input_mask)\n",
        "\n",
        "                #손실계산\n",
        "                loss = criterion(outputs.squeeze(), b_labels.long())\n",
        "                total_eval_loss += loss.item()\n",
        "\n",
        "                #예측값 및 레이블 저장\n",
        "\n",
        "                softmax_probs = torch.nn.functional.softmax(outputs, dim=1)\n",
        "\n",
        "                val_preds.extend(softmax_probs.squeeze().detach().cpu().numpy().tolist())\n",
        "                val_labels.extend(b_labels.squeeze().detach().cpu().numpy().tolist())\n",
        "\n",
        "                #진행바 업데이트\n",
        "                progress_bar.set_postfix({\"validation_loss\": \"{:.3f}\".format(loss.item() / len(batch))})\n",
        "\n",
        "        #평균검증손실\n",
        "\n",
        "        avg_val_loss = total_eval_loss / len(validation_dataloader)\n",
        "\n",
        "        # train_preds에서 각 샘플에 대한 최대값을 가지는 클래스 찾기\n",
        "        val_predicted_classes = torch.argmax(torch.tensor(val_preds), axis=1)\n",
        "\n",
        "        # 실제 레이블과 비교하여 정확도 계산\n",
        "        val_labels_numpy = np.array([label for label in val_labels])\n",
        "        val_preds_numpy = val_predicted_classes.numpy()  # 예측된 클래스를 넘파이 배열로 변환\n",
        "\n",
        "        #검증 정확도 측정 val_preds = [1 if pred > 0.5 else 0 for pred in val_preds]\n",
        "        val_acc = accuracy_score(val_labels_numpy, val_preds_numpy)\n",
        "        print(f\"Validation Accuracy: {val_acc:.4f}\")\n",
        "\n",
        "        val_losses.append(avg_val_loss)\n",
        "        val_accuracies.append(val_acc)\n",
        "\n",
        "\n",
        "        if val_acc > best_val_accuracy:\n",
        "            best_val_accuracy = val_acc\n",
        "            # Save the model if the current validation accuracy is the best\n",
        "            if not os.path.exists(\"/content/datamerged_model.pth\"):\n",
        "              print(\"File does not exist.\")\n",
        "              with open(\"/content/datamerged_model.pth\", \"w\") as f:\n",
        "                pass\n",
        "            torch.save(model.state_dict(),  \"/content/datamerged_model.pth\")\n",
        "\n",
        "            print(f\"Model saved: Improved validation accuracy to {val_acc:.4f}\")\n",
        "\n",
        "    return train_losses, val_losses, train_accuracies, val_accuracies\n"
      ],
      "metadata": {
        "id": "wSOcEQEJ4yiu"
      },
      "execution_count": null,
      "outputs": []
    },
    {
      "cell_type": "code",
      "source": [
        "train_losses, val_losses, train_accuracies, val_accuracies = train_and_validate(model, train_dataloader, validation_dataloader, epochs, optimizer, criterion)"
      ],
      "metadata": {
        "colab": {
          "base_uri": "https://localhost:8080/"
        },
        "id": "-SWrDbId46Kv",
        "outputId": "d8e32dc8-0288-4f68-c154-4a095e9fe787"
      },
      "execution_count": null,
      "outputs": [
        {
          "output_type": "stream",
          "name": "stdout",
          "text": [
            "Epoch 1/300\n",
            "----------\n"
          ]
        },
        {
          "output_type": "stream",
          "name": "stderr",
          "text": [
            "Training:  41%|████      | 2629/6460 [05:53<08:28,  7.53it/s, training_loss=0.000]"
          ]
        }
      ]
    },
    {
      "cell_type": "code",
      "source": [
        "plt.figure(figsize=(12, 5))\n",
        "plt.subplot(1, 2, 1)\n",
        "plt.plot(train_losses, label='Train Loss')\n",
        "plt.plot(val_losses, label='Validation Loss')\n",
        "plt.title('Loss over epochs')\n",
        "plt.xlabel('Epochs')\n",
        "plt.ylabel('Loss')\n",
        "plt.legend()\n",
        "\n",
        "plt.subplot(1, 2, 2)\n",
        "plt.plot(train_accuracies, label='Train Accuracy')\n",
        "plt.plot(val_accuracies, label='Validation Accuracy')\n",
        "plt.title('Accuracy over epochs')\n",
        "plt.xlabel('Epochs')\n",
        "plt.ylabel('Accuracy')\n",
        "plt.legend()\n",
        "\n",
        "plt.show()"
      ],
      "metadata": {
        "id": "aWLPtF72sEfn",
        "colab": {
          "base_uri": "https://localhost:8080/",
          "height": 1000
        },
        "outputId": "8dce3b70-bbf6-4673-b848-4bb5b1dc8040"
      },
      "execution_count": null,
      "outputs": [
        {
          "output_type": "stream",
          "name": "stderr",
          "text": [
            "WARNING:matplotlib.font_manager:findfont: Font family 'NanumGothic' not found.\n",
            "WARNING:matplotlib.font_manager:findfont: Font family 'NanumGothic' not found.\n",
            "WARNING:matplotlib.font_manager:findfont: Font family 'NanumGothic' not found.\n",
            "WARNING:matplotlib.font_manager:findfont: Font family 'NanumGothic' not found.\n",
            "WARNING:matplotlib.font_manager:findfont: Font family 'NanumGothic' not found.\n",
            "WARNING:matplotlib.font_manager:findfont: Font family 'NanumGothic' not found.\n",
            "WARNING:matplotlib.font_manager:findfont: Font family 'NanumGothic' not found.\n",
            "WARNING:matplotlib.font_manager:findfont: Font family 'NanumGothic' not found.\n",
            "WARNING:matplotlib.font_manager:findfont: Font family 'NanumGothic' not found.\n",
            "WARNING:matplotlib.font_manager:findfont: Font family 'NanumGothic' not found.\n",
            "WARNING:matplotlib.font_manager:findfont: Font family 'NanumGothic' not found.\n",
            "WARNING:matplotlib.font_manager:findfont: Font family 'NanumGothic' not found.\n",
            "WARNING:matplotlib.font_manager:findfont: Font family 'NanumGothic' not found.\n",
            "WARNING:matplotlib.font_manager:findfont: Font family 'NanumGothic' not found.\n",
            "WARNING:matplotlib.font_manager:findfont: Font family 'NanumGothic' not found.\n",
            "WARNING:matplotlib.font_manager:findfont: Font family 'NanumGothic' not found.\n",
            "WARNING:matplotlib.font_manager:findfont: Font family 'NanumGothic' not found.\n",
            "WARNING:matplotlib.font_manager:findfont: Font family 'NanumGothic' not found.\n",
            "WARNING:matplotlib.font_manager:findfont: Font family 'NanumGothic' not found.\n",
            "WARNING:matplotlib.font_manager:findfont: Font family 'NanumGothic' not found.\n",
            "WARNING:matplotlib.font_manager:findfont: Font family 'NanumGothic' not found.\n",
            "WARNING:matplotlib.font_manager:findfont: Font family 'NanumGothic' not found.\n",
            "WARNING:matplotlib.font_manager:findfont: Font family 'NanumGothic' not found.\n",
            "WARNING:matplotlib.font_manager:findfont: Font family 'NanumGothic' not found.\n",
            "WARNING:matplotlib.font_manager:findfont: Font family 'NanumGothic' not found.\n",
            "WARNING:matplotlib.font_manager:findfont: Font family 'NanumGothic' not found.\n",
            "WARNING:matplotlib.font_manager:findfont: Font family 'NanumGothic' not found.\n",
            "WARNING:matplotlib.font_manager:findfont: Font family 'NanumGothic' not found.\n",
            "WARNING:matplotlib.font_manager:findfont: Font family 'NanumGothic' not found.\n",
            "WARNING:matplotlib.font_manager:findfont: Font family 'NanumGothic' not found.\n",
            "WARNING:matplotlib.font_manager:findfont: Font family 'NanumGothic' not found.\n",
            "WARNING:matplotlib.font_manager:findfont: Font family 'NanumGothic' not found.\n",
            "WARNING:matplotlib.font_manager:findfont: Font family 'NanumGothic' not found.\n",
            "WARNING:matplotlib.font_manager:findfont: Font family 'NanumGothic' not found.\n",
            "WARNING:matplotlib.font_manager:findfont: Font family 'NanumGothic' not found.\n",
            "WARNING:matplotlib.font_manager:findfont: Font family 'NanumGothic' not found.\n",
            "WARNING:matplotlib.font_manager:findfont: Font family 'NanumGothic' not found.\n",
            "WARNING:matplotlib.font_manager:findfont: Font family 'NanumGothic' not found.\n",
            "WARNING:matplotlib.font_manager:findfont: Font family 'NanumGothic' not found.\n",
            "WARNING:matplotlib.font_manager:findfont: Font family 'NanumGothic' not found.\n",
            "WARNING:matplotlib.font_manager:findfont: Font family 'NanumGothic' not found.\n",
            "WARNING:matplotlib.font_manager:findfont: Font family 'NanumGothic' not found.\n",
            "WARNING:matplotlib.font_manager:findfont: Font family 'NanumGothic' not found.\n",
            "WARNING:matplotlib.font_manager:findfont: Font family 'NanumGothic' not found.\n",
            "WARNING:matplotlib.font_manager:findfont: Font family 'NanumGothic' not found.\n",
            "WARNING:matplotlib.font_manager:findfont: Font family 'NanumGothic' not found.\n",
            "WARNING:matplotlib.font_manager:findfont: Font family 'NanumGothic' not found.\n",
            "WARNING:matplotlib.font_manager:findfont: Font family 'NanumGothic' not found.\n",
            "WARNING:matplotlib.font_manager:findfont: Font family 'NanumGothic' not found.\n",
            "WARNING:matplotlib.font_manager:findfont: Font family 'NanumGothic' not found.\n",
            "WARNING:matplotlib.font_manager:findfont: Font family 'NanumGothic' not found.\n",
            "WARNING:matplotlib.font_manager:findfont: Font family 'NanumGothic' not found.\n",
            "WARNING:matplotlib.font_manager:findfont: Font family 'NanumGothic' not found.\n",
            "WARNING:matplotlib.font_manager:findfont: Font family 'NanumGothic' not found.\n",
            "WARNING:matplotlib.font_manager:findfont: Font family 'NanumGothic' not found.\n",
            "WARNING:matplotlib.font_manager:findfont: Font family 'NanumGothic' not found.\n",
            "WARNING:matplotlib.font_manager:findfont: Font family 'NanumGothic' not found.\n",
            "WARNING:matplotlib.font_manager:findfont: Font family 'NanumGothic' not found.\n",
            "WARNING:matplotlib.font_manager:findfont: Font family 'NanumGothic' not found.\n",
            "WARNING:matplotlib.font_manager:findfont: Font family 'NanumGothic' not found.\n",
            "WARNING:matplotlib.font_manager:findfont: Font family 'NanumGothic' not found.\n",
            "WARNING:matplotlib.font_manager:findfont: Font family 'NanumGothic' not found.\n",
            "WARNING:matplotlib.font_manager:findfont: Font family 'NanumGothic' not found.\n",
            "WARNING:matplotlib.font_manager:findfont: Font family 'NanumGothic' not found.\n",
            "WARNING:matplotlib.font_manager:findfont: Font family 'NanumGothic' not found.\n",
            "WARNING:matplotlib.font_manager:findfont: Font family 'NanumGothic' not found.\n",
            "WARNING:matplotlib.font_manager:findfont: Font family 'NanumGothic' not found.\n",
            "WARNING:matplotlib.font_manager:findfont: Font family 'NanumGothic' not found.\n",
            "WARNING:matplotlib.font_manager:findfont: Font family 'NanumGothic' not found.\n",
            "WARNING:matplotlib.font_manager:findfont: Font family 'NanumGothic' not found.\n",
            "WARNING:matplotlib.font_manager:findfont: Font family 'NanumGothic' not found.\n",
            "WARNING:matplotlib.font_manager:findfont: Font family 'NanumGothic' not found.\n",
            "WARNING:matplotlib.font_manager:findfont: Font family 'NanumGothic' not found.\n",
            "WARNING:matplotlib.font_manager:findfont: Font family 'NanumGothic' not found.\n",
            "WARNING:matplotlib.font_manager:findfont: Font family 'NanumGothic' not found.\n",
            "WARNING:matplotlib.font_manager:findfont: Font family 'NanumGothic' not found.\n",
            "WARNING:matplotlib.font_manager:findfont: Font family 'NanumGothic' not found.\n",
            "WARNING:matplotlib.font_manager:findfont: Font family 'NanumGothic' not found.\n",
            "WARNING:matplotlib.font_manager:findfont: Font family 'NanumGothic' not found.\n",
            "WARNING:matplotlib.font_manager:findfont: Font family 'NanumGothic' not found.\n",
            "WARNING:matplotlib.font_manager:findfont: Font family 'NanumGothic' not found.\n",
            "WARNING:matplotlib.font_manager:findfont: Font family 'NanumGothic' not found.\n",
            "WARNING:matplotlib.font_manager:findfont: Font family 'NanumGothic' not found.\n",
            "WARNING:matplotlib.font_manager:findfont: Font family 'NanumGothic' not found.\n",
            "WARNING:matplotlib.font_manager:findfont: Font family 'NanumGothic' not found.\n",
            "WARNING:matplotlib.font_manager:findfont: Font family 'NanumGothic' not found.\n",
            "WARNING:matplotlib.font_manager:findfont: Font family 'NanumGothic' not found.\n",
            "WARNING:matplotlib.font_manager:findfont: Font family 'NanumGothic' not found.\n",
            "WARNING:matplotlib.font_manager:findfont: Font family 'NanumGothic' not found.\n",
            "WARNING:matplotlib.font_manager:findfont: Font family 'NanumGothic' not found.\n",
            "WARNING:matplotlib.font_manager:findfont: Font family 'NanumGothic' not found.\n",
            "WARNING:matplotlib.font_manager:findfont: Font family 'NanumGothic' not found.\n",
            "WARNING:matplotlib.font_manager:findfont: Font family 'NanumGothic' not found.\n",
            "WARNING:matplotlib.font_manager:findfont: Font family 'NanumGothic' not found.\n",
            "WARNING:matplotlib.font_manager:findfont: Font family 'NanumGothic' not found.\n",
            "WARNING:matplotlib.font_manager:findfont: Font family 'NanumGothic' not found.\n",
            "WARNING:matplotlib.font_manager:findfont: Font family 'NanumGothic' not found.\n",
            "WARNING:matplotlib.font_manager:findfont: Font family 'NanumGothic' not found.\n",
            "WARNING:matplotlib.font_manager:findfont: Font family 'NanumGothic' not found.\n",
            "WARNING:matplotlib.font_manager:findfont: Font family 'NanumGothic' not found.\n",
            "WARNING:matplotlib.font_manager:findfont: Font family 'NanumGothic' not found.\n",
            "WARNING:matplotlib.font_manager:findfont: Font family 'NanumGothic' not found.\n",
            "WARNING:matplotlib.font_manager:findfont: Font family 'NanumGothic' not found.\n",
            "WARNING:matplotlib.font_manager:findfont: Font family 'NanumGothic' not found.\n",
            "WARNING:matplotlib.font_manager:findfont: Font family 'NanumGothic' not found.\n",
            "WARNING:matplotlib.font_manager:findfont: Font family 'NanumGothic' not found.\n",
            "WARNING:matplotlib.font_manager:findfont: Font family 'NanumGothic' not found.\n",
            "WARNING:matplotlib.font_manager:findfont: Font family 'NanumGothic' not found.\n",
            "WARNING:matplotlib.font_manager:findfont: Font family 'NanumGothic' not found.\n",
            "WARNING:matplotlib.font_manager:findfont: Font family 'NanumGothic' not found.\n",
            "WARNING:matplotlib.font_manager:findfont: Font family 'NanumGothic' not found.\n",
            "WARNING:matplotlib.font_manager:findfont: Font family 'NanumGothic' not found.\n",
            "WARNING:matplotlib.font_manager:findfont: Font family 'NanumGothic' not found.\n",
            "WARNING:matplotlib.font_manager:findfont: Font family 'NanumGothic' not found.\n",
            "WARNING:matplotlib.font_manager:findfont: Font family 'NanumGothic' not found.\n",
            "WARNING:matplotlib.font_manager:findfont: Font family 'NanumGothic' not found.\n",
            "WARNING:matplotlib.font_manager:findfont: Font family 'NanumGothic' not found.\n",
            "WARNING:matplotlib.font_manager:findfont: Font family 'NanumGothic' not found.\n",
            "WARNING:matplotlib.font_manager:findfont: Font family 'NanumGothic' not found.\n",
            "WARNING:matplotlib.font_manager:findfont: Font family 'NanumGothic' not found.\n",
            "WARNING:matplotlib.font_manager:findfont: Font family 'NanumGothic' not found.\n",
            "WARNING:matplotlib.font_manager:findfont: Font family 'NanumGothic' not found.\n",
            "WARNING:matplotlib.font_manager:findfont: Font family 'NanumGothic' not found.\n",
            "WARNING:matplotlib.font_manager:findfont: Font family 'NanumGothic' not found.\n",
            "WARNING:matplotlib.font_manager:findfont: Font family 'NanumGothic' not found.\n",
            "WARNING:matplotlib.font_manager:findfont: Font family 'NanumGothic' not found.\n",
            "WARNING:matplotlib.font_manager:findfont: Font family 'NanumGothic' not found.\n",
            "WARNING:matplotlib.font_manager:findfont: Font family 'NanumGothic' not found.\n",
            "WARNING:matplotlib.font_manager:findfont: Font family 'NanumGothic' not found.\n",
            "WARNING:matplotlib.font_manager:findfont: Font family 'NanumGothic' not found.\n",
            "WARNING:matplotlib.font_manager:findfont: Font family 'NanumGothic' not found.\n",
            "WARNING:matplotlib.font_manager:findfont: Font family 'NanumGothic' not found.\n",
            "WARNING:matplotlib.font_manager:findfont: Font family 'NanumGothic' not found.\n",
            "WARNING:matplotlib.font_manager:findfont: Font family 'NanumGothic' not found.\n",
            "WARNING:matplotlib.font_manager:findfont: Font family 'NanumGothic' not found.\n",
            "WARNING:matplotlib.font_manager:findfont: Font family 'NanumGothic' not found.\n",
            "WARNING:matplotlib.font_manager:findfont: Font family 'NanumGothic' not found.\n",
            "WARNING:matplotlib.font_manager:findfont: Font family 'NanumGothic' not found.\n",
            "WARNING:matplotlib.font_manager:findfont: Font family 'NanumGothic' not found.\n",
            "WARNING:matplotlib.font_manager:findfont: Font family 'NanumGothic' not found.\n",
            "WARNING:matplotlib.font_manager:findfont: Font family 'NanumGothic' not found.\n",
            "WARNING:matplotlib.font_manager:findfont: Font family 'NanumGothic' not found.\n",
            "WARNING:matplotlib.font_manager:findfont: Font family 'NanumGothic' not found.\n",
            "WARNING:matplotlib.font_manager:findfont: Font family 'NanumGothic' not found.\n",
            "WARNING:matplotlib.font_manager:findfont: Font family 'NanumGothic' not found.\n",
            "WARNING:matplotlib.font_manager:findfont: Font family 'NanumGothic' not found.\n",
            "WARNING:matplotlib.font_manager:findfont: Font family 'NanumGothic' not found.\n",
            "WARNING:matplotlib.font_manager:findfont: Font family 'NanumGothic' not found.\n",
            "WARNING:matplotlib.font_manager:findfont: Font family 'NanumGothic' not found.\n",
            "WARNING:matplotlib.font_manager:findfont: Font family 'NanumGothic' not found.\n",
            "WARNING:matplotlib.font_manager:findfont: Font family 'NanumGothic' not found.\n",
            "WARNING:matplotlib.font_manager:findfont: Font family 'NanumGothic' not found.\n",
            "WARNING:matplotlib.font_manager:findfont: Font family 'NanumGothic' not found.\n",
            "WARNING:matplotlib.font_manager:findfont: Font family 'NanumGothic' not found.\n",
            "WARNING:matplotlib.font_manager:findfont: Font family 'NanumGothic' not found.\n",
            "WARNING:matplotlib.font_manager:findfont: Font family 'NanumGothic' not found.\n",
            "WARNING:matplotlib.font_manager:findfont: Font family 'NanumGothic' not found.\n",
            "WARNING:matplotlib.font_manager:findfont: Font family 'NanumGothic' not found.\n",
            "WARNING:matplotlib.font_manager:findfont: Font family 'NanumGothic' not found.\n"
          ]
        },
        {
          "output_type": "display_data",
          "data": {
            "text/plain": [
              "<Figure size 1200x500 with 2 Axes>"
            ],
            "image/png": "[encoded data removed]"
          },
          "metadata": {}
        }
      ]
    },
    {
      "cell_type": "code",
      "source": [],
      "metadata": {
        "id": "gi04tjdtssg2"
      },
      "execution_count": null,
      "outputs": []
    }
  ]
}
