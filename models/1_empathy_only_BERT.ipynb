{
  "nbformat": 4,
  "nbformat_minor": 0,
  "metadata": {
    "colab": {
      "provenance": [],
      "gpuType": "V100",
      "machine_shape": "hm"
    },
    "kernelspec": {
      "name": "python3",
      "display_name": "Python 3"
    },
    "language_info": {
      "name": "python"
    },
    "accelerator": "GPU"
  },
  "cells": [
    {
      "cell_type": "markdown",
      "source": [
        "BERT 모델 이용"
      ],
      "metadata": {
        "id": "8KcgFjuwhOXA"
      }
    },
    {
      "cell_type": "code",
      "source": [
        "import os\n",
        "import re\n",
        "import math\n",
        "import numpy as np\n",
        "import pandas as pd\n",
        "from random import *\n",
        "from tqdm import tqdm\n",
        "from itertools import chain\n",
        "from collections import Counter\n",
        "\n",
        "import warnings\n",
        "warnings.filterwarnings(action='ignore')\n",
        "\n",
        "import seaborn as sns\n",
        "import matplotlib.pyplot as plt\n",
        "\n",
        "import nltk\n",
        "import pdb\n",
        "import torch\n",
        "import torch.nn as nn\n",
        "import torch.optim as optim\n",
        "from torch.utils.data import TensorDataset, random_split, DataLoader, RandomSampler, SequentialSampler\n",
        "from sklearn.model_selection import train_test_split\n",
        "from sklearn.metrics import accuracy_score\n",
        "\n",
        "import pickle"
      ],
      "metadata": {
        "id": "lkdWqNg9eEhg"
      },
      "execution_count": null,
      "outputs": []
    },
    {
      "cell_type": "code",
      "source": [
        "device = torch.device(\"cuda\" if torch.cuda.is_available() else \"cpu\")\n",
        "print(device)"
      ],
      "metadata": {
        "colab": {
          "base_uri": "https://localhost:8080/"
        },
        "id": "1NdSp3EghVXY",
        "outputId": "bc9312f2-2151-4a9d-b560-145bc501668d"
      },
      "execution_count": null,
      "outputs": [
        {
          "output_type": "stream",
          "name": "stdout",
          "text": [
            "cuda\n"
          ]
        }
      ]
    },
    {
      "cell_type": "code",
      "source": [
        "from google.colab import drive\n",
        "drive.mount('/content/drive')"
      ],
      "metadata": {
        "colab": {
          "base_uri": "https://localhost:8080/"
        },
        "id": "-_BkJU8G2sF3",
        "outputId": "767206db-e3a9-4c2b-f27e-da766dbfe4b7"
      },
      "execution_count": null,
      "outputs": [
        {
          "output_type": "stream",
          "name": "stdout",
          "text": [
            "Drive already mounted at /content/drive; to attempt to forcibly remount, call drive.mount(\"/content/drive\", force_remount=True).\n"
          ]
        }
      ]
    },
    {
      "cell_type": "code",
      "source": [
        "import matplotlib.font_manager as font_manager\n",
        "import matplotlib.pyplot as plt\n",
        "\n",
        "font_files = font_manager.findSystemFonts(fontpaths='/content/drive/MyDrive/Pal-ette/D2Coding')\n",
        "for font_file in font_files:\n",
        "    font_manager.fontManager.addfont(font_file)\n",
        "\n",
        "plt.rc('font', family='D2Coding')"
      ],
      "metadata": {
        "id": "qILwHxBs9awb"
      },
      "execution_count": null,
      "outputs": []
    },
    {
      "cell_type": "code",
      "source": [
        "empathy_df = pd.read_csv(\"/content/drive/MyDrive/Pal-ette/preprocessed_data/empathy_df_total.csv\")\n",
        "# empathy_df = pd.read_csv(\"/content/empathy_df_total.csv\")\n",
        "\n",
        "# 정서 데이터셋 전체 통합본\n",
        "# empathy_df = pd.read_csv(\"/content/drive/MyDrive/Pal-ette/preprocessed_data/emotion-6_merged.csv\")\n",
        "empathy_df.head()"
      ],
      "metadata": {
        "colab": {
          "base_uri": "https://localhost:8080/",
          "height": 206
        },
        "id": "-dnpaqirry_6",
        "outputId": "403cc8da-b509-4bec-be44-a38217c6450c"
      },
      "execution_count": null,
      "outputs": [
        {
          "output_type": "execute_result",
          "data": {
            "text/plain": [
              "                                                text emotion\n",
              "0  자기야 나 너무 화가나. 지금 퇴근 후 집에 들어왔는데, 키우는 반려견이 휴지통과 ...      분노\n",
              "1  오늘 고생하고 집에왔는데 그 장면을 보고 기분이 참 안좋았겠다. 자기가 화나니까 나...      분노\n",
              "2  내가 출근 전에 집 청소를 다했었거든. 그런데, 집이 다시 더럽게 되었어. 청소를 ...      분노\n",
              "3  나였어도, 아침에 시간 내서 치웠는데, 저녁에 다시 청소를 해야 하면 기분이 안좋을...      분노\n",
              "4  강아지를 데려온지 얼마 안되서 그런지 힘든게 한두개가 아니야. 밤에는 짖어서 잠을 ...      분노"
            ],
            "text/html": [
              "\n",
              "  <div id=\"df-4f309d5a-c749-48f4-8faf-c4cbdb338ac3\" class=\"colab-df-container\">\n",
              "    <div>\n",
              "<style scoped>\n",
              "    .dataframe tbody tr th:only-of-type {\n",
              "        vertical-align: middle;\n",
              "    }\n",
              "\n",
              "    .dataframe tbody tr th {\n",
              "        vertical-align: top;\n",
              "    }\n",
              "\n",
              "    .dataframe thead th {\n",
              "        text-align: right;\n",
              "    }\n",
              "</style>\n",
              "<table border=\"1\" class=\"dataframe\">\n",
              "  <thead>\n",
              "    <tr style=\"text-align: right;\">\n",
              "      <th></th>\n",
              "      <th>text</th>\n",
              "      <th>emotion</th>\n",
              "    </tr>\n",
              "  </thead>\n",
              "  <tbody>\n",
              "    <tr>\n",
              "      <th>0</th>\n",
              "      <td>자기야 나 너무 화가나. 지금 퇴근 후 집에 들어왔는데, 키우는 반려견이 휴지통과 ...</td>\n",
              "      <td>분노</td>\n",
              "    </tr>\n",
              "    <tr>\n",
              "      <th>1</th>\n",
              "      <td>오늘 고생하고 집에왔는데 그 장면을 보고 기분이 참 안좋았겠다. 자기가 화나니까 나...</td>\n",
              "      <td>분노</td>\n",
              "    </tr>\n",
              "    <tr>\n",
              "      <th>2</th>\n",
              "      <td>내가 출근 전에 집 청소를 다했었거든. 그런데, 집이 다시 더럽게 되었어. 청소를 ...</td>\n",
              "      <td>분노</td>\n",
              "    </tr>\n",
              "    <tr>\n",
              "      <th>3</th>\n",
              "      <td>나였어도, 아침에 시간 내서 치웠는데, 저녁에 다시 청소를 해야 하면 기분이 안좋을...</td>\n",
              "      <td>분노</td>\n",
              "    </tr>\n",
              "    <tr>\n",
              "      <th>4</th>\n",
              "      <td>강아지를 데려온지 얼마 안되서 그런지 힘든게 한두개가 아니야. 밤에는 짖어서 잠을 ...</td>\n",
              "      <td>분노</td>\n",
              "    </tr>\n",
              "  </tbody>\n",
              "</table>\n",
              "</div>\n",
              "    <div class=\"colab-df-buttons\">\n",
              "\n",
              "  <div class=\"colab-df-container\">\n",
              "    <button class=\"colab-df-convert\" onclick=\"convertToInteractive('df-4f309d5a-c749-48f4-8faf-c4cbdb338ac3')\"\n",
              "            title=\"Convert this dataframe to an interactive table.\"\n",
              "            style=\"display:none;\">\n",
              "\n",
              "  <svg xmlns=\"http://www.w3.org/2000/svg\" height=\"24px\" viewBox=\"0 -960 960 960\">\n",
              "    <path d=\"M120-120v-720h720v720H120Zm60-500h600v-160H180v160Zm220 220h160v-160H400v160Zm0 220h160v-160H400v160ZM180-400h160v-160H180v160Zm440 0h160v-160H620v160ZM180-180h160v-160H180v160Zm440 0h160v-160H620v160Z\"/>\n",
              "  </svg>\n",
              "    </button>\n",
              "\n",
              "  <style>\n",
              "    .colab-df-container {\n",
              "      display:flex;\n",
              "      gap: 12px;\n",
              "    }\n",
              "\n",
              "    .colab-df-convert {\n",
              "      background-color: #E8F0FE;\n",
              "      border: none;\n",
              "      border-radius: 50%;\n",
              "      cursor: pointer;\n",
              "      display: none;\n",
              "      fill: #1967D2;\n",
              "      height: 32px;\n",
              "      padding: 0 0 0 0;\n",
              "      width: 32px;\n",
              "    }\n",
              "\n",
              "    .colab-df-convert:hover {\n",
              "      background-color: #E2EBFA;\n",
              "      box-shadow: 0px 1px 2px rgba(60, 64, 67, 0.3), 0px 1px 3px 1px rgba(60, 64, 67, 0.15);\n",
              "      fill: #174EA6;\n",
              "    }\n",
              "\n",
              "    .colab-df-buttons div {\n",
              "      margin-bottom: 4px;\n",
              "    }\n",
              "\n",
              "    [theme=dark] .colab-df-convert {\n",
              "      background-color: #3B4455;\n",
              "      fill: #D2E3FC;\n",
              "    }\n",
              "\n",
              "    [theme=dark] .colab-df-convert:hover {\n",
              "      background-color: #434B5C;\n",
              "      box-shadow: 0px 1px 3px 1px rgba(0, 0, 0, 0.15);\n",
              "      filter: drop-shadow(0px 1px 2px rgba(0, 0, 0, 0.3));\n",
              "      fill: #FFFFFF;\n",
              "    }\n",
              "  </style>\n",
              "\n",
              "    <script>\n",
              "      const buttonEl =\n",
              "        document.querySelector('#df-4f309d5a-c749-48f4-8faf-c4cbdb338ac3 button.colab-df-convert');\n",
              "      buttonEl.style.display =\n",
              "        google.colab.kernel.accessAllowed ? 'block' : 'none';\n",
              "\n",
              "      async function convertToInteractive(key) {\n",
              "        const element = document.querySelector('#df-4f309d5a-c749-48f4-8faf-c4cbdb338ac3');\n",
              "        const dataTable =\n",
              "          await google.colab.kernel.invokeFunction('convertToInteractive',\n",
              "                                                    [key], {});\n",
              "        if (!dataTable) return;\n",
              "\n",
              "        const docLinkHtml = 'Like what you see? Visit the ' +\n",
              "          '<a target=\"_blank\" href=https://colab.research.google.com/notebooks/data_table.ipynb>data table notebook</a>'\n",
              "          + ' to learn more about interactive tables.';\n",
              "        element.innerHTML = '';\n",
              "        dataTable['output_type'] = 'display_data';\n",
              "        await google.colab.output.renderOutput(dataTable, element);\n",
              "        const docLink = document.createElement('div');\n",
              "        docLink.innerHTML = docLinkHtml;\n",
              "        element.appendChild(docLink);\n",
              "      }\n",
              "    </script>\n",
              "  </div>\n",
              "\n",
              "\n",
              "<div id=\"df-a7da485b-b3ee-4c65-a2f9-2109f129b7f8\">\n",
              "  <button class=\"colab-df-quickchart\" onclick=\"quickchart('df-a7da485b-b3ee-4c65-a2f9-2109f129b7f8')\"\n",
              "            title=\"Suggest charts\"\n",
              "            style=\"display:none;\">\n",
              "\n",
              "<svg xmlns=\"http://www.w3.org/2000/svg\" height=\"24px\"viewBox=\"0 0 24 24\"\n",
              "     width=\"24px\">\n",
              "    <g>\n",
              "        <path d=\"M19 3H5c-1.1 0-2 .9-2 2v14c0 1.1.9 2 2 2h14c1.1 0 2-.9 2-2V5c0-1.1-.9-2-2-2zM9 17H7v-7h2v7zm4 0h-2V7h2v10zm4 0h-2v-4h2v4z\"/>\n",
              "    </g>\n",
              "</svg>\n",
              "  </button>\n",
              "\n",
              "<style>\n",
              "  .colab-df-quickchart {\n",
              "      --bg-color: #E8F0FE;\n",
              "      --fill-color: #1967D2;\n",
              "      --hover-bg-color: #E2EBFA;\n",
              "      --hover-fill-color: #174EA6;\n",
              "      --disabled-fill-color: #AAA;\n",
              "      --disabled-bg-color: #DDD;\n",
              "  }\n",
              "\n",
              "  [theme=dark] .colab-df-quickchart {\n",
              "      --bg-color: #3B4455;\n",
              "      --fill-color: #D2E3FC;\n",
              "      --hover-bg-color: #434B5C;\n",
              "      --hover-fill-color: #FFFFFF;\n",
              "      --disabled-bg-color: #3B4455;\n",
              "      --disabled-fill-color: #666;\n",
              "  }\n",
              "\n",
              "  .colab-df-quickchart {\n",
              "    background-color: var(--bg-color);\n",
              "    border: none;\n",
              "    border-radius: 50%;\n",
              "    cursor: pointer;\n",
              "    display: none;\n",
              "    fill: var(--fill-color);\n",
              "    height: 32px;\n",
              "    padding: 0;\n",
              "    width: 32px;\n",
              "  }\n",
              "\n",
              "  .colab-df-quickchart:hover {\n",
              "    background-color: var(--hover-bg-color);\n",
              "    box-shadow: 0 1px 2px rgba(60, 64, 67, 0.3), 0 1px 3px 1px rgba(60, 64, 67, 0.15);\n",
              "    fill: var(--button-hover-fill-color);\n",
              "  }\n",
              "\n",
              "  .colab-df-quickchart-complete:disabled,\n",
              "  .colab-df-quickchart-complete:disabled:hover {\n",
              "    background-color: var(--disabled-bg-color);\n",
              "    fill: var(--disabled-fill-color);\n",
              "    box-shadow: none;\n",
              "  }\n",
              "\n",
              "  .colab-df-spinner {\n",
              "    border: 2px solid var(--fill-color);\n",
              "    border-color: transparent;\n",
              "    border-bottom-color: var(--fill-color);\n",
              "    animation:\n",
              "      spin 1s steps(1) infinite;\n",
              "  }\n",
              "\n",
              "  @keyframes spin {\n",
              "    0% {\n",
              "      border-color: transparent;\n",
              "      border-bottom-color: var(--fill-color);\n",
              "      border-left-color: var(--fill-color);\n",
              "    }\n",
              "    20% {\n",
              "      border-color: transparent;\n",
              "      border-left-color: var(--fill-color);\n",
              "      border-top-color: var(--fill-color);\n",
              "    }\n",
              "    30% {\n",
              "      border-color: transparent;\n",
              "      border-left-color: var(--fill-color);\n",
              "      border-top-color: var(--fill-color);\n",
              "      border-right-color: var(--fill-color);\n",
              "    }\n",
              "    40% {\n",
              "      border-color: transparent;\n",
              "      border-right-color: var(--fill-color);\n",
              "      border-top-color: var(--fill-color);\n",
              "    }\n",
              "    60% {\n",
              "      border-color: transparent;\n",
              "      border-right-color: var(--fill-color);\n",
              "    }\n",
              "    80% {\n",
              "      border-color: transparent;\n",
              "      border-right-color: var(--fill-color);\n",
              "      border-bottom-color: var(--fill-color);\n",
              "    }\n",
              "    90% {\n",
              "      border-color: transparent;\n",
              "      border-bottom-color: var(--fill-color);\n",
              "    }\n",
              "  }\n",
              "</style>\n",
              "\n",
              "  <script>\n",
              "    async function quickchart(key) {\n",
              "      const quickchartButtonEl =\n",
              "        document.querySelector('#' + key + ' button');\n",
              "      quickchartButtonEl.disabled = true;  // To prevent multiple clicks.\n",
              "      quickchartButtonEl.classList.add('colab-df-spinner');\n",
              "      try {\n",
              "        const charts = await google.colab.kernel.invokeFunction(\n",
              "            'suggestCharts', [key], {});\n",
              "      } catch (error) {\n",
              "        console.error('Error during call to suggestCharts:', error);\n",
              "      }\n",
              "      quickchartButtonEl.classList.remove('colab-df-spinner');\n",
              "      quickchartButtonEl.classList.add('colab-df-quickchart-complete');\n",
              "    }\n",
              "    (() => {\n",
              "      let quickchartButtonEl =\n",
              "        document.querySelector('#df-a7da485b-b3ee-4c65-a2f9-2109f129b7f8 button');\n",
              "      quickchartButtonEl.style.display =\n",
              "        google.colab.kernel.accessAllowed ? 'block' : 'none';\n",
              "    })();\n",
              "  </script>\n",
              "</div>\n",
              "\n",
              "    </div>\n",
              "  </div>\n"
            ],
            "application/vnd.google.colaboratory.intrinsic+json": {
              "type": "dataframe",
              "variable_name": "empathy_df"
            }
          },
          "metadata": {},
          "execution_count": 85
        }
      ]
    },
    {
      "cell_type": "code",
      "source": [
        "empathy_df['emotion'].unique()"
      ],
      "metadata": {
        "colab": {
          "base_uri": "https://localhost:8080/"
        },
        "id": "uoU8rlAGywRo",
        "outputId": "79c362fa-7a8b-4956-f910-b93341ac37af"
      },
      "execution_count": null,
      "outputs": [
        {
          "output_type": "execute_result",
          "data": {
            "text/plain": [
              "array(['분노', '중립', '슬픔', '기쁨', '당황', '불안', '상처'], dtype=object)"
            ]
          },
          "metadata": {},
          "execution_count": 86
        }
      ]
    },
    {
      "cell_type": "markdown",
      "source": [
        "LabelEncoder이용"
      ],
      "metadata": {
        "id": "ifFCZ-yiqTcL"
      }
    },
    {
      "cell_type": "code",
      "source": [
        "from sklearn.preprocessing import LabelEncoder\n",
        "\n",
        "y = empathy_df[\"emotion\"]\n",
        "\n",
        "# LabelEncoder 객체 생성\n",
        "encoder = LabelEncoder()\n",
        "encoder.fit(y)\n",
        "labels = encoder.transform(y)\n",
        "\n",
        "print(\"labels:\", labels)\n",
        "\n",
        "#인코딩 클래스\n",
        "print(\"encoder:\", encoder.classes_)\n",
        "#디코딩원본값\n",
        "print(encoder.inverse_transform(labels))\n",
        "\n"
      ],
      "metadata": {
        "colab": {
          "base_uri": "https://localhost:8080/"
        },
        "id": "hIbaCf0KoBod",
        "outputId": "82df1be6-98e6-4a17-9482-0cd65ad9be78"
      },
      "execution_count": null,
      "outputs": [
        {
          "output_type": "stream",
          "name": "stdout",
          "text": [
            "labels: [2 2 2 ... 3 3 3]\n",
            "encoder: ['기쁨' '당황' '분노' '불안' '상처' '슬픔' '중립']\n",
            "['분노' '분노' '분노' ... '불안' '불안' '불안']\n"
          ]
        }
      ]
    },
    {
      "cell_type": "code",
      "source": [
        "empathy_df['labels'] = labels\n",
        "empathy_df.tail()"
      ],
      "metadata": {
        "colab": {
          "base_uri": "https://localhost:8080/",
          "height": 206
        },
        "id": "NCkdQndWqaO5",
        "outputId": "e6151b4b-43e1-4598-b089-1e74690c0518"
      },
      "execution_count": null,
      "outputs": [
        {
          "output_type": "execute_result",
          "data": {
            "text/plain": [
              "                                                     text emotion  labels\n",
              "396724  감정화자님은 자식들이 결혼해 자리를 잡아서 걱정을 안 끼치니 다행이라 생각하셨으면 ...      불안       3\n",
              "396725  그렇게 말씀하시니 다행이라는 생각이 들긴 하네요. 얼마 되지는 않지만, 퇴직금이라도...      불안       3\n",
              "396726  남편분도 오랜 직장 생활에 지쳐서 그러실 거예요. 조금 쉬시다 보면 다시 생각이 달...      불안       3\n",
              "396727  말씀을 그렇게 희망적으로 해주시니 제 근심이 조금씩 사라지는 기분이네요. 공감화자님...      불안       3\n",
              "396728  마음을 그렇게 긍정적으로 가지시면 모든 일이 잘 풀릴 거예요. 마음이 건강해야 몸의...      불안       3"
            ],
            "text/html": [
              "\n",
              "  <div id=\"df-00031b53-30d8-4df9-8425-65ae3dbed109\" class=\"colab-df-container\">\n",
              "    <div>\n",
              "<style scoped>\n",
              "    .dataframe tbody tr th:only-of-type {\n",
              "        vertical-align: middle;\n",
              "    }\n",
              "\n",
              "    .dataframe tbody tr th {\n",
              "        vertical-align: top;\n",
              "    }\n",
              "\n",
              "    .dataframe thead th {\n",
              "        text-align: right;\n",
              "    }\n",
              "</style>\n",
              "<table border=\"1\" class=\"dataframe\">\n",
              "  <thead>\n",
              "    <tr style=\"text-align: right;\">\n",
              "      <th></th>\n",
              "      <th>text</th>\n",
              "      <th>emotion</th>\n",
              "      <th>labels</th>\n",
              "    </tr>\n",
              "  </thead>\n",
              "  <tbody>\n",
              "    <tr>\n",
              "      <th>396724</th>\n",
              "      <td>감정화자님은 자식들이 결혼해 자리를 잡아서 걱정을 안 끼치니 다행이라 생각하셨으면 ...</td>\n",
              "      <td>불안</td>\n",
              "      <td>3</td>\n",
              "    </tr>\n",
              "    <tr>\n",
              "      <th>396725</th>\n",
              "      <td>그렇게 말씀하시니 다행이라는 생각이 들긴 하네요. 얼마 되지는 않지만, 퇴직금이라도...</td>\n",
              "      <td>불안</td>\n",
              "      <td>3</td>\n",
              "    </tr>\n",
              "    <tr>\n",
              "      <th>396726</th>\n",
              "      <td>남편분도 오랜 직장 생활에 지쳐서 그러실 거예요. 조금 쉬시다 보면 다시 생각이 달...</td>\n",
              "      <td>불안</td>\n",
              "      <td>3</td>\n",
              "    </tr>\n",
              "    <tr>\n",
              "      <th>396727</th>\n",
              "      <td>말씀을 그렇게 희망적으로 해주시니 제 근심이 조금씩 사라지는 기분이네요. 공감화자님...</td>\n",
              "      <td>불안</td>\n",
              "      <td>3</td>\n",
              "    </tr>\n",
              "    <tr>\n",
              "      <th>396728</th>\n",
              "      <td>마음을 그렇게 긍정적으로 가지시면 모든 일이 잘 풀릴 거예요. 마음이 건강해야 몸의...</td>\n",
              "      <td>불안</td>\n",
              "      <td>3</td>\n",
              "    </tr>\n",
              "  </tbody>\n",
              "</table>\n",
              "</div>\n",
              "    <div class=\"colab-df-buttons\">\n",
              "\n",
              "  <div class=\"colab-df-container\">\n",
              "    <button class=\"colab-df-convert\" onclick=\"convertToInteractive('df-00031b53-30d8-4df9-8425-65ae3dbed109')\"\n",
              "            title=\"Convert this dataframe to an interactive table.\"\n",
              "            style=\"display:none;\">\n",
              "\n",
              "  <svg xmlns=\"http://www.w3.org/2000/svg\" height=\"24px\" viewBox=\"0 -960 960 960\">\n",
              "    <path d=\"M120-120v-720h720v720H120Zm60-500h600v-160H180v160Zm220 220h160v-160H400v160Zm0 220h160v-160H400v160ZM180-400h160v-160H180v160Zm440 0h160v-160H620v160ZM180-180h160v-160H180v160Zm440 0h160v-160H620v160Z\"/>\n",
              "  </svg>\n",
              "    </button>\n",
              "\n",
              "  <style>\n",
              "    .colab-df-container {\n",
              "      display:flex;\n",
              "      gap: 12px;\n",
              "    }\n",
              "\n",
              "    .colab-df-convert {\n",
              "      background-color: #E8F0FE;\n",
              "      border: none;\n",
              "      border-radius: 50%;\n",
              "      cursor: pointer;\n",
              "      display: none;\n",
              "      fill: #1967D2;\n",
              "      height: 32px;\n",
              "      padding: 0 0 0 0;\n",
              "      width: 32px;\n",
              "    }\n",
              "\n",
              "    .colab-df-convert:hover {\n",
              "      background-color: #E2EBFA;\n",
              "      box-shadow: 0px 1px 2px rgba(60, 64, 67, 0.3), 0px 1px 3px 1px rgba(60, 64, 67, 0.15);\n",
              "      fill: #174EA6;\n",
              "    }\n",
              "\n",
              "    .colab-df-buttons div {\n",
              "      margin-bottom: 4px;\n",
              "    }\n",
              "\n",
              "    [theme=dark] .colab-df-convert {\n",
              "      background-color: #3B4455;\n",
              "      fill: #D2E3FC;\n",
              "    }\n",
              "\n",
              "    [theme=dark] .colab-df-convert:hover {\n",
              "      background-color: #434B5C;\n",
              "      box-shadow: 0px 1px 3px 1px rgba(0, 0, 0, 0.15);\n",
              "      filter: drop-shadow(0px 1px 2px rgba(0, 0, 0, 0.3));\n",
              "      fill: #FFFFFF;\n",
              "    }\n",
              "  </style>\n",
              "\n",
              "    <script>\n",
              "      const buttonEl =\n",
              "        document.querySelector('#df-00031b53-30d8-4df9-8425-65ae3dbed109 button.colab-df-convert');\n",
              "      buttonEl.style.display =\n",
              "        google.colab.kernel.accessAllowed ? 'block' : 'none';\n",
              "\n",
              "      async function convertToInteractive(key) {\n",
              "        const element = document.querySelector('#df-00031b53-30d8-4df9-8425-65ae3dbed109');\n",
              "        const dataTable =\n",
              "          await google.colab.kernel.invokeFunction('convertToInteractive',\n",
              "                                                    [key], {});\n",
              "        if (!dataTable) return;\n",
              "\n",
              "        const docLinkHtml = 'Like what you see? Visit the ' +\n",
              "          '<a target=\"_blank\" href=https://colab.research.google.com/notebooks/data_table.ipynb>data table notebook</a>'\n",
              "          + ' to learn more about interactive tables.';\n",
              "        element.innerHTML = '';\n",
              "        dataTable['output_type'] = 'display_data';\n",
              "        await google.colab.output.renderOutput(dataTable, element);\n",
              "        const docLink = document.createElement('div');\n",
              "        docLink.innerHTML = docLinkHtml;\n",
              "        element.appendChild(docLink);\n",
              "      }\n",
              "    </script>\n",
              "  </div>\n",
              "\n",
              "\n",
              "<div id=\"df-6235d852-ea40-47e5-b4c5-43fba1d7d709\">\n",
              "  <button class=\"colab-df-quickchart\" onclick=\"quickchart('df-6235d852-ea40-47e5-b4c5-43fba1d7d709')\"\n",
              "            title=\"Suggest charts\"\n",
              "            style=\"display:none;\">\n",
              "\n",
              "<svg xmlns=\"http://www.w3.org/2000/svg\" height=\"24px\"viewBox=\"0 0 24 24\"\n",
              "     width=\"24px\">\n",
              "    <g>\n",
              "        <path d=\"M19 3H5c-1.1 0-2 .9-2 2v14c0 1.1.9 2 2 2h14c1.1 0 2-.9 2-2V5c0-1.1-.9-2-2-2zM9 17H7v-7h2v7zm4 0h-2V7h2v10zm4 0h-2v-4h2v4z\"/>\n",
              "    </g>\n",
              "</svg>\n",
              "  </button>\n",
              "\n",
              "<style>\n",
              "  .colab-df-quickchart {\n",
              "      --bg-color: #E8F0FE;\n",
              "      --fill-color: #1967D2;\n",
              "      --hover-bg-color: #E2EBFA;\n",
              "      --hover-fill-color: #174EA6;\n",
              "      --disabled-fill-color: #AAA;\n",
              "      --disabled-bg-color: #DDD;\n",
              "  }\n",
              "\n",
              "  [theme=dark] .colab-df-quickchart {\n",
              "      --bg-color: #3B4455;\n",
              "      --fill-color: #D2E3FC;\n",
              "      --hover-bg-color: #434B5C;\n",
              "      --hover-fill-color: #FFFFFF;\n",
              "      --disabled-bg-color: #3B4455;\n",
              "      --disabled-fill-color: #666;\n",
              "  }\n",
              "\n",
              "  .colab-df-quickchart {\n",
              "    background-color: var(--bg-color);\n",
              "    border: none;\n",
              "    border-radius: 50%;\n",
              "    cursor: pointer;\n",
              "    display: none;\n",
              "    fill: var(--fill-color);\n",
              "    height: 32px;\n",
              "    padding: 0;\n",
              "    width: 32px;\n",
              "  }\n",
              "\n",
              "  .colab-df-quickchart:hover {\n",
              "    background-color: var(--hover-bg-color);\n",
              "    box-shadow: 0 1px 2px rgba(60, 64, 67, 0.3), 0 1px 3px 1px rgba(60, 64, 67, 0.15);\n",
              "    fill: var(--button-hover-fill-color);\n",
              "  }\n",
              "\n",
              "  .colab-df-quickchart-complete:disabled,\n",
              "  .colab-df-quickchart-complete:disabled:hover {\n",
              "    background-color: var(--disabled-bg-color);\n",
              "    fill: var(--disabled-fill-color);\n",
              "    box-shadow: none;\n",
              "  }\n",
              "\n",
              "  .colab-df-spinner {\n",
              "    border: 2px solid var(--fill-color);\n",
              "    border-color: transparent;\n",
              "    border-bottom-color: var(--fill-color);\n",
              "    animation:\n",
              "      spin 1s steps(1) infinite;\n",
              "  }\n",
              "\n",
              "  @keyframes spin {\n",
              "    0% {\n",
              "      border-color: transparent;\n",
              "      border-bottom-color: var(--fill-color);\n",
              "      border-left-color: var(--fill-color);\n",
              "    }\n",
              "    20% {\n",
              "      border-color: transparent;\n",
              "      border-left-color: var(--fill-color);\n",
              "      border-top-color: var(--fill-color);\n",
              "    }\n",
              "    30% {\n",
              "      border-color: transparent;\n",
              "      border-left-color: var(--fill-color);\n",
              "      border-top-color: var(--fill-color);\n",
              "      border-right-color: var(--fill-color);\n",
              "    }\n",
              "    40% {\n",
              "      border-color: transparent;\n",
              "      border-right-color: var(--fill-color);\n",
              "      border-top-color: var(--fill-color);\n",
              "    }\n",
              "    60% {\n",
              "      border-color: transparent;\n",
              "      border-right-color: var(--fill-color);\n",
              "    }\n",
              "    80% {\n",
              "      border-color: transparent;\n",
              "      border-right-color: var(--fill-color);\n",
              "      border-bottom-color: var(--fill-color);\n",
              "    }\n",
              "    90% {\n",
              "      border-color: transparent;\n",
              "      border-bottom-color: var(--fill-color);\n",
              "    }\n",
              "  }\n",
              "</style>\n",
              "\n",
              "  <script>\n",
              "    async function quickchart(key) {\n",
              "      const quickchartButtonEl =\n",
              "        document.querySelector('#' + key + ' button');\n",
              "      quickchartButtonEl.disabled = true;  // To prevent multiple clicks.\n",
              "      quickchartButtonEl.classList.add('colab-df-spinner');\n",
              "      try {\n",
              "        const charts = await google.colab.kernel.invokeFunction(\n",
              "            'suggestCharts', [key], {});\n",
              "      } catch (error) {\n",
              "        console.error('Error during call to suggestCharts:', error);\n",
              "      }\n",
              "      quickchartButtonEl.classList.remove('colab-df-spinner');\n",
              "      quickchartButtonEl.classList.add('colab-df-quickchart-complete');\n",
              "    }\n",
              "    (() => {\n",
              "      let quickchartButtonEl =\n",
              "        document.querySelector('#df-6235d852-ea40-47e5-b4c5-43fba1d7d709 button');\n",
              "      quickchartButtonEl.style.display =\n",
              "        google.colab.kernel.accessAllowed ? 'block' : 'none';\n",
              "    })();\n",
              "  </script>\n",
              "</div>\n",
              "\n",
              "    </div>\n",
              "  </div>\n"
            ],
            "application/vnd.google.colaboratory.intrinsic+json": {
              "type": "dataframe",
              "summary": "{\n  \"name\": \"empathy_df\",\n  \"rows\": 5,\n  \"fields\": [\n    {\n      \"column\": \"text\",\n      \"properties\": {\n        \"dtype\": \"string\",\n        \"num_unique_values\": 5,\n        \"samples\": [\n          \"\\uadf8\\ub807\\uac8c \\ub9d0\\uc500\\ud558\\uc2dc\\ub2c8 \\ub2e4\\ud589\\uc774\\ub77c\\ub294 \\uc0dd\\uac01\\uc774 \\ub4e4\\uae34 \\ud558\\ub124\\uc694. \\uc5bc\\ub9c8 \\ub418\\uc9c0\\ub294 \\uc54a\\uc9c0\\ub9cc, \\ud1f4\\uc9c1\\uae08\\uc774\\ub77c\\ub3c4 \\uc190\\uc5d0 \\uc950\\uace0 \\uc788\\uc73c\\ub2c8 \\ub4e0\\ub4e0\\ud55c \\uac10\\uc740 \\uc788\\uc5b4\\uc694. \\uadf8\\uac78 \\ubbff\\uace0 \\ub0a8\\ud3b8\\uc774 \\uad6d\\ubbfc\\uc5f0\\uae08\\ub9cc \\uae30\\ub2e4\\ub9ac\\ub294 \\uac8c \\ubabb\\ub9c8\\ub545\\ud558\\uc9c0\\ub9cc, \\ud560 \\uc218 \\uc5c6\\ub294 \\uc77c\\uc774\\uc9c0\\uc694. \\ub0a8\\ud3b8\\ubd84\\ub3c4 \\uc624\\ub79c \\uc9c1\\uc7a5 \\uc0dd\\ud65c\\uc5d0 \\uc9c0\\uccd0\\uc11c \\uadf8\\ub7ec\\uc2e4 \\uac70\\uc608\\uc694. \\uc870\\uae08 \\uc26c\\uc2dc\\ub2e4 \\ubcf4\\uba74 \\ub2e4\\uc2dc \\uc0dd\\uac01\\uc774 \\ub2ec\\ub77c\\uc9c0\\uc2e4 \\uc218 \\uc788\\uc73c\\ub2c8 \\uc880 \\uae30\\ub2e4\\ub824 \\ubcf4\\uc138\\uc694. \\ubb34\\uc2a8 \\uc77c\\uc774\\ub4e0 \\ub2e5\\uce58\\uba74 \\ub2e4 \\uae38\\uc774 \\uc0dd\\uae38 \\ud14c\\ub2c8 \\ub108\\ubb34 \\uac71\\uc815\\ud558\\uc9c0 \\ub9c8\\uc138\\uc694.\",\n          \"\\ub9c8\\uc74c\\uc744 \\uadf8\\ub807\\uac8c \\uae0d\\uc815\\uc801\\uc73c\\ub85c \\uac00\\uc9c0\\uc2dc\\uba74 \\ubaa8\\ub4e0 \\uc77c\\uc774 \\uc798 \\ud480\\ub9b4 \\uac70\\uc608\\uc694. \\ub9c8\\uc74c\\uc774 \\uac74\\uac15\\ud574\\uc57c \\ubab8\\uc758 \\uac74\\uac15\\ub3c4 \\ub530\\ub77c\\uc62c \\ud14c\\ub2c8\\uae4c \\uc990\\uac70\\uc6b4 \\ub9c8\\uc74c\\uc73c\\ub85c \\uc9c0\\ub0b4\\uc138\\uc694. \\ubbf8\\ub798 \\uac71\\uc815\\ubcf4\\ub2e4 \\uc9c0\\uae08\\uc758 \\ud589\\ubcf5\\uc744 \\ub354 \\uc18c\\uc911\\ud558\\uac8c \\uc0dd\\uac01\\ud558\\uc168\\uc73c\\uba74 \\uc88b\\uaca0\\uc5b4\\uc694. \\uacf5\\uac10\\ud654\\uc790\\ub2d8 \\ub355\\ubd84\\uc5d0 \\ubd88\\uc548\\ud558\\ub358 \\ub9c8\\uc74c\\uc774 \\uc2f9 \\uac00\\uc168\\uc5b4\\uc694. \\uc544\\uc9c1 \\uc624\\uc9c0 \\uc54a\\uc740 \\ubbf8\\ub798\\uc5d0 \\uc18d\\uc744 \\ub053\\uc774\\uae30\\ubcf4\\ub2e4 \\uc9c0\\uae08 \\uc5f4\\uc2ec\\ud788 \\uc0ac\\ub294 \\uac8c \\ub0ab\\uaca0\\uc5b4\\uc694. \\uc88b\\uc740 \\ub9d0\\uc500 \\uc815\\ub9d0 \\uac10\\uc0ac\\ud569\\ub2c8\\ub2e4.\",\n          \"\\ub0a8\\ud3b8\\ubd84\\ub3c4 \\uc624\\ub79c \\uc9c1\\uc7a5 \\uc0dd\\ud65c\\uc5d0 \\uc9c0\\uccd0\\uc11c \\uadf8\\ub7ec\\uc2e4 \\uac70\\uc608\\uc694. \\uc870\\uae08 \\uc26c\\uc2dc\\ub2e4 \\ubcf4\\uba74 \\ub2e4\\uc2dc \\uc0dd\\uac01\\uc774 \\ub2ec\\ub77c\\uc9c0\\uc2e4 \\uc218 \\uc788\\uc73c\\ub2c8 \\uc880 \\uae30\\ub2e4\\ub824 \\ubcf4\\uc138\\uc694. \\ubb34\\uc2a8 \\uc77c\\uc774\\ub4e0 \\ub2e5\\uce58\\uba74 \\ub2e4 \\uae38\\uc774 \\uc0dd\\uae38 \\ud14c\\ub2c8 \\ub108\\ubb34 \\uac71\\uc815\\ud558\\uc9c0 \\ub9c8\\uc138\\uc694. \\ub9d0\\uc500\\uc744 \\uadf8\\ub807\\uac8c \\ud76c\\ub9dd\\uc801\\uc73c\\ub85c \\ud574\\uc8fc\\uc2dc\\ub2c8 \\uc81c \\uadfc\\uc2ec\\uc774 \\uc870\\uae08\\uc529 \\uc0ac\\ub77c\\uc9c0\\ub294 \\uae30\\ubd84\\uc774\\ub124\\uc694. \\uacf5\\uac10\\ud654\\uc790\\ub2d8 \\ub9d0\\uc500\\ub300\\ub85c \\ub2e5\\uce58\\uba74 \\ub2e4 \\ud5e4\\uccd0 \\ub098\\uac08 \\uae38\\uc774 \\uc788\\uaca0\\uc9c0\\uc694. \\uc544\\uc9c1\\uc740 \\ubd80\\ubd80\\uac00 \\ub2e4 \\uac74\\uac15\\ud558\\uace0, \\uc790\\uc2dd\\ub4e4\\ub3c4 \\uc798 \\uc0ac\\ub294 \\uac78 \\ub2e4\\ud589\\uc73c\\ub85c \\uc54c\\uc544\\uc57c\\uaca0\\uc5b4\\uc694.\"\n        ],\n        \"semantic_type\": \"\",\n        \"description\": \"\"\n      }\n    },\n    {\n      \"column\": \"emotion\",\n      \"properties\": {\n        \"dtype\": \"category\",\n        \"num_unique_values\": 1,\n        \"samples\": [\n          \"\\ubd88\\uc548\"\n        ],\n        \"semantic_type\": \"\",\n        \"description\": \"\"\n      }\n    },\n    {\n      \"column\": \"labels\",\n      \"properties\": {\n        \"dtype\": \"number\",\n        \"std\": 0,\n        \"min\": 3,\n        \"max\": 3,\n        \"num_unique_values\": 1,\n        \"samples\": [\n          3\n        ],\n        \"semantic_type\": \"\",\n        \"description\": \"\"\n      }\n    }\n  ]\n}"
            }
          },
          "metadata": {},
          "execution_count": 88
        }
      ]
    },
    {
      "cell_type": "markdown",
      "source": [
        "라벨 인코딩 이후 전처리"
      ],
      "metadata": {
        "id": "QaH1Ws24q2Nv"
      }
    },
    {
      "cell_type": "code",
      "source": [
        "empathy_df.info() #결측치 없음"
      ],
      "metadata": {
        "colab": {
          "base_uri": "https://localhost:8080/"
        },
        "id": "TvmIB0AqhoGn",
        "outputId": "3090f8d8-c5d3-4c5a-fd5b-9bb90b678ae5"
      },
      "execution_count": null,
      "outputs": [
        {
          "output_type": "stream",
          "name": "stdout",
          "text": [
            "<class 'pandas.core.frame.DataFrame'>\n",
            "RangeIndex: 396729 entries, 0 to 396728\n",
            "Data columns (total 3 columns):\n",
            " #   Column   Non-Null Count   Dtype \n",
            "---  ------   --------------   ----- \n",
            " 0   text     396729 non-null  object\n",
            " 1   emotion  396729 non-null  object\n",
            " 2   labels   396729 non-null  int64 \n",
            "dtypes: int64(1), object(2)\n",
            "memory usage: 9.1+ MB\n"
          ]
        }
      ]
    },
    {
      "cell_type": "code",
      "source": [
        "empathy_df.columns"
      ],
      "metadata": {
        "colab": {
          "base_uri": "https://localhost:8080/"
        },
        "id": "cFRDE3RszuEH",
        "outputId": "03644a4d-30b6-4765-ae53-6211ba6d5771"
      },
      "execution_count": null,
      "outputs": [
        {
          "output_type": "execute_result",
          "data": {
            "text/plain": [
              "Index(['text', 'emotion', 'labels'], dtype='object')"
            ]
          },
          "metadata": {},
          "execution_count": 90
        }
      ]
    },
    {
      "cell_type": "code",
      "source": [
        "empathy_df.rename(columns={'preprocessed':'text'}, inplace=True)"
      ],
      "metadata": {
        "id": "FBO-y6AXzg67"
      },
      "execution_count": null,
      "outputs": []
    },
    {
      "cell_type": "code",
      "source": [
        "empathy_df['text']"
      ],
      "metadata": {
        "colab": {
          "base_uri": "https://localhost:8080/"
        },
        "id": "Y1gfnWSFiAd3",
        "outputId": "7d709cba-c91a-40c1-b49e-309c630ebd89"
      },
      "execution_count": null,
      "outputs": [
        {
          "output_type": "execute_result",
          "data": {
            "text/plain": [
              "0         자기야 나 너무 화가나. 지금 퇴근 후 집에 들어왔는데, 키우는 반려견이 휴지통과 ...\n",
              "1         오늘 고생하고 집에왔는데 그 장면을 보고 기분이 참 안좋았겠다. 자기가 화나니까 나...\n",
              "2         내가 출근 전에 집 청소를 다했었거든. 그런데, 집이 다시 더럽게 되었어. 청소를 ...\n",
              "3         나였어도, 아침에 시간 내서 치웠는데, 저녁에 다시 청소를 해야 하면 기분이 안좋을...\n",
              "4         강아지를 데려온지 얼마 안되서 그런지 힘든게 한두개가 아니야. 밤에는 짖어서 잠을 ...\n",
              "                                ...                        \n",
              "396724    감정화자님은 자식들이 결혼해 자리를 잡아서 걱정을 안 끼치니 다행이라 생각하셨으면 ...\n",
              "396725    그렇게 말씀하시니 다행이라는 생각이 들긴 하네요. 얼마 되지는 않지만, 퇴직금이라도...\n",
              "396726    남편분도 오랜 직장 생활에 지쳐서 그러실 거예요. 조금 쉬시다 보면 다시 생각이 달...\n",
              "396727    말씀을 그렇게 희망적으로 해주시니 제 근심이 조금씩 사라지는 기분이네요. 공감화자님...\n",
              "396728    마음을 그렇게 긍정적으로 가지시면 모든 일이 잘 풀릴 거예요. 마음이 건강해야 몸의...\n",
              "Name: text, Length: 396729, dtype: object"
            ]
          },
          "metadata": {},
          "execution_count": 92
        }
      ]
    },
    {
      "cell_type": "code",
      "source": [
        "plt.figure(figsize=(10, 10))\n",
        "sns.heatmap(empathy_df.isnull(), cmap='viridis')\n",
        "plt.show()"
      ],
      "metadata": {
        "colab": {
          "base_uri": "https://localhost:8080/",
          "height": 836
        },
        "id": "qGNM4ok3iFMn",
        "outputId": "8defacd2-9c01-49ca-e25c-9144a3e2836a"
      },
      "execution_count": null,
      "outputs": [
        {
          "output_type": "display_data",
          "data": {
            "text/plain": [
              "<Figure size 1000x1000 with 2 Axes>"
            ],
            "image/png": "[encoded data removed]"
          },
          "metadata": {}
        }
      ]
    },
    {
      "cell_type": "code",
      "source": [
        "empathy_df.isnull().sum()"
      ],
      "metadata": {
        "colab": {
          "base_uri": "https://localhost:8080/"
        },
        "id": "BTFPFBs-i5aI",
        "outputId": "b56ab468-cadc-4fc2-d96d-7b675025bf1d"
      },
      "execution_count": null,
      "outputs": [
        {
          "output_type": "execute_result",
          "data": {
            "text/plain": [
              "text       0\n",
              "emotion    0\n",
              "labels     0\n",
              "dtype: int64"
            ]
          },
          "metadata": {},
          "execution_count": 94
        }
      ]
    },
    {
      "cell_type": "code",
      "source": [
        "#중복코드 제거\n",
        "print(empathy_df.duplicated().sum())\n",
        "duplicated_df = empathy_df.duplicated()"
      ],
      "metadata": {
        "colab": {
          "base_uri": "https://localhost:8080/"
        },
        "id": "CBzje-MHjAzI",
        "outputId": "73517a49-f4b8-4e39-a905-be6439767cde"
      },
      "execution_count": null,
      "outputs": [
        {
          "output_type": "stream",
          "name": "stdout",
          "text": [
            "238\n"
          ]
        }
      ]
    },
    {
      "cell_type": "code",
      "source": [
        "print(empathy_df[duplicated_df])"
      ],
      "metadata": {
        "colab": {
          "base_uri": "https://localhost:8080/"
        },
        "id": "j7wwc4gCjmor",
        "outputId": "a56364f1-1aa8-4643-bab0-06a91566f1d0"
      },
      "execution_count": null,
      "outputs": [
        {
          "output_type": "stream",
          "name": "stdout",
          "text": [
            "                                                     text emotion  labels\n",
            "744             그렇게 말해줘서 고마워, 자기야. 자기 덕분에 기분이 좀 나아진 것 같아.      중립       6\n",
            "13302   남편, 오늘 나한테 무척 기쁜 일이 있었어. 생각할수록 신이 나고 들떠서 정말 행복...      기쁨       0\n",
            "13313   내가 우리 아내에게 조금이라도 도움이 되어서 다행이야. 앞으로도 언제든 혼자서 감당...      기쁨       0\n",
            "13314   그렇게 말해 주는 걸 듣기만 했는데도 마음이 든든해지는 기분이야. 덕분에 기쁨이 배...      기쁨       0\n",
            "19074   자기 덕분에 마음이 한결 편안해져서 정말 다행이야. 자기의 격려로 인해서 큰 힘이 ...      중립       6\n",
            "...                                                   ...     ...     ...\n",
            "394366  공감화자님 잘 지내요? 저 오늘 너무 상처받는 일이 있었어요. 감정화자님도 잘 있죠...      상처       4\n",
            "394376  그렇게는 생각을 못해 봤어요. 당장 상처받은 마음에만 너무 집중했던 것 같아요. 공...      중립       6\n",
            "394377  감정화자님 기분이 좋아졌다니 정말 다행이에요. 저도 안도의 미소가 절로 나와요. 감...      상처       4\n",
            "394378  진작 공감화자님께 고민을 얘기할 걸 그랬어요. 이 고민 탓에 많이 힘들었거든요. 이...      상처       4\n",
            "394379  제가 도움이 됐다니 기뻐요. 제 소중한 직장동료인 감정화자님의 얘기라면 언제라도 괜...      상처       4\n",
            "\n",
            "[238 rows x 3 columns]\n"
          ]
        }
      ]
    },
    {
      "cell_type": "code",
      "source": [
        "empathy_df = empathy_df.drop_duplicates()\n",
        "empathy_df.duplicated().sum()"
      ],
      "metadata": {
        "colab": {
          "base_uri": "https://localhost:8080/"
        },
        "id": "chztAVaWjFd5",
        "outputId": "3ba11487-42cf-4e59-f568-1ef746ba4de6"
      },
      "execution_count": null,
      "outputs": [
        {
          "output_type": "execute_result",
          "data": {
            "text/plain": [
              "0"
            ]
          },
          "metadata": {},
          "execution_count": 97
        }
      ]
    },
    {
      "cell_type": "code",
      "source": [
        "stopwords_list = []\n",
        "# #불용어 사전\n",
        "# stopwords = \"아,휴,아이구,아이쿠,아이고,어,나,우리,저희,따라,의해,을,를,에,의,가,으로,로,에게,뿐이다,의거하여,근거하여,입각하여,기준으로,예하면,예를 들면,예를 들자면,저,소인,소생,저희,지말고,하지마,하지마라,다른,물론,또한,그리고,비길수 없다,해서는 안된다,뿐만 아니라,만이 아니다,만은 아니다,막론하고,관계없이,그치지 않다,그러나,그런데,하지만,든간에,논하지 않다,따지지 않다,설사,비록,더라도,아니면,만 못하다,하는 편이 낫다,불문하고,향하여,향해서,향하다,쪽으로,틈타,이용하여,타다,오르다,제외하고,이 외에,이 밖에,하여야,비로소,한다면 몰라도,외에도,이곳,여기,부터,기점으로,따라서,할 생각이다,하려고하다,이리하여,그리하여,그렇게 함으로써,하지만,일때,할때,앞에서,중에서,보는데서,으로써,로써,까지,해야한다,일것이다,반드시,할줄알다,할수있다,할수있어,임에 틀림없다,한다면,등,등등,제,겨우,단지,다만,할뿐,딩동,댕그,대해서,대하여,대하면,훨씬,얼마나,얼마만큼,얼마큼,남짓,여,얼마간,약간,다소,좀,조금,다수,몇,얼마,지만,하물며,또한,그러나,그렇지만,하지만,이외에도,대해 말하자면,뿐이다,다음에,반대로,반대로 말하자면,이와 반대로,바꾸어서 말하면,바꾸어서 한다면,만약,그렇지않으면,까악,툭,딱,삐걱거리다,보드득,비걱거리다,꽈당,응당,해야한다,에 가서,각,각각,여러분,각종,각자,제각기,하도록하다,와,과,그러므로,그래서,고로,한 까닭에,하기 때문에,거니와,이지만,대하여,관하여,관한,과연,실로,아니나다를가,생각한대로,진짜로,한적이있다,하곤하였다,하,하하,허허,아하,거바,와,오,왜,어째서,무엇때문에,어찌,하겠는가,무슨,어디,어느곳,더군다나,하물며,더욱이는,어느때,언제,야,이봐,어이,여보시오,흐흐,흥,휴,헉헉,헐떡헐떡,영차,여차,어기여차,끙끙,아야,앗,아야,콸콸,졸졸,좍좍,뚝뚝,주룩주룩,솨,우르르,그래도,또,그리고,바꾸어말하면,바꾸어말하자면,혹은,혹시,답다,및,그에 따르는,때가 되어,즉,지든지,설령,가령,하더라도,할지라도,일지라도,지든지,몇,거의,하마터면,인젠,이젠,된바에야,된이상,만큼,어찌됏든,그위에,게다가,점에서 보아,비추어 보아,고려하면,하게될것이다,일것이다,비교적,좀,보다더,비하면,시키다,하게하다,할만하다,의해서,연이서,이어서,잇따라,뒤따라,뒤이어,결국,의지하여,기대여,통하여,자마자,더욱더,불구하고,얼마든지,마음대로,주저하지 않고,곧,즉시,바로,당장,하자마자,밖에 안된다,하면된다,그래,그렇지,요컨대,다시 말하자면,바꿔 말하면,즉,구체적으로,말하자면,시작하여,시초에,이상,허,헉,허걱,바와같이,해도좋다,해도된다,게다가,더구나,하물며,와르르,팍,퍽,펄렁,동안,이래,하고있었다,이었다,에서,로부터,까지,예하면,했어요,해요,함께,같이,더불어,마저,마저도,양자,모두,습니다,가까스로,하려고하다,즈음하여,다른,다른 방면으로,해봐요,습니까,했어요,말할것도 없고,무릎쓰고,개의치않고,하는것만 못하다,하는것이 낫다,매,매번,들,모,어느것,어느,로써,갖고말하자면,어디,어느쪽,어느것,어느해,어느 년도,라 해도,언젠가,어떤것,어느것,저기,저쪽,저것,그때,그럼,그러면,요만한걸,그래,그때,저것만큼,그저,이르기까지,할 줄 안다,할 힘이 있다,너,너희,당신,어찌,설마,차라리,할지언정,할지라도,할망정,할지언정,구토하다,게우다,토하다,메쓰겁다,옆사람,퉤,쳇,의거하여,근거하여,의해,따라,힘입어,그,다음,버금,두번째로,기타,첫번째로,나머지는,그중에서,견지에서,형식으로 쓰여,입장에서,위해서,단지,의해되다,하도록시키다,뿐만아니라,반대로,전후,전자,앞의것,잠시,잠깐,하면서,그렇지만,다음에,그러한즉,그런즉,남들,아무거나,어찌하든지,같다,비슷하다,예컨대,이럴정도로,어떻게,만약,만일,위에서 서술한바와같이,인 듯하다,하지 않는다면,만약에,무엇,무슨,어느,어떤,아래윗,조차,한데,그럼에도 불구하고,여전히,심지어,까지도,조차도,하지 않도록,않기 위하여,때,시각,무렵,시간,동안,어때,어떠한,하여금,네,예,우선,누구,누가 알겠는가,아무도,줄은모른다,줄은 몰랏다,하는 김에,겸사겸사,하는바,그런 까닭에,한 이유는,그러니,그러니까,때문에,그,너희,그들,너희들,타인,것,것들,너,위하여,공동으로,동시에,하기 위하여,어찌하여,무엇때문에,붕붕,윙윙,나,우리,엉엉,휘익,윙윙,오호,아하,어쨋든,만 못하다,하기보다는,차라리,하는 편이 낫다,흐흐,놀라다,상대적으로 말하자면,마치,아니라면,쉿,그렇지 않으면,그렇지 않다면,안 그러면,아니었다면,하든지,아니면,이라면,좋아,알았어,하는것도,그만이다,어쩔수 없다,하나,일,일반적으로,일단,한켠으로는,오자마자,이렇게되면,이와같다면,전부,한마디,한항목,근거로,하기에,아울러,하지 않도록,않기 위해서,이르기까지,이 되다,로 인하여,까닭으로,이유만으로,이로 인하여,그래서,이 때문에,그러므로,그런 까닭에,알 수 있다,결론을 낼 수 있다,으로 인하여,있다,어떤것,관계가 있다,관련이 있다,연관되다,어떤것들,에 대해,이리하여,그리하여,여부,하기보다는,하느니,하면 할수록,운운,이러이러하다,하구나,하도다,다시말하면,다음으로,에 있다,에 달려 있다,우리,우리들,오히려,하기는한데,어떻게,어떻해,어찌됏어,어때,어째서,본대로,자,이,이쪽,여기,이것,이번,이렇게말하자면,이런,이러한,이와 같은,요만큼,요만한 것,얼마 안 되는 것,이만큼,이 정도의,이렇게 많은 것,이와 같다,이때,이렇구나,것과 같이,끼익,삐걱,따위,와 같은 사람들,부류의 사람들,왜냐하면,중의하나,오직,오로지,에 한하다,하기만 하면,도착하다,까지 미치다,도달하다,정도에 이르다,할 지경이다,결과에 이르다,관해서는,여러분,하고 있다,한 후,혼자,자기,자기집,자신,우에 종합한것과같이,총적으로 보면,총적으로 말하면,총적으로,대로 하다,으로서,참,그만이다,할 따름이다,쿵,탕탕,쾅쾅,둥둥,봐,봐라,아이야,아니,와아,응,아이,참나,년,월,일,령,영,일,이,삼,사,오,육,륙,칠,팔,구,이천육,이천칠,이천팔,이천구,하나,둘,셋,넷,다섯,여섯,일곱,여덟,아홉,령,영,이,있,하,것,들,그,되,수,이,보,나,사람,주,아니,등,같,우리,때,년,가,한,지,대하,오,말,그렇,위하,때문,그것,두,말하,알,그러나,받,못하,일,그런,또,문제,더,사회,많,그리고,좋,크,따르,중,나오,가지,씨,시키,만들,지금,생각하,그러,속,하나,집,살,모르,적,월,데,자신,어떤,내,경우,명,생각,시간,그녀,다시,이런,앞,보이,번,나,다른,어떻,여자,개,전,들,사실,이렇,점,싶,말,정도,좀,원,잘,통하,놓\"\n",
        "# # 불용어들을 공백을 기준으로 분리하여 리스트로 변환\n",
        "# stopwords_list = stopwords.split(\",\")\n",
        "# stopwords_list"
      ],
      "metadata": {
        "id": "f8KCpqe-tVwN"
      },
      "execution_count": null,
      "outputs": []
    },
    {
      "cell_type": "code",
      "source": [
        "def text_preprocessing(text):\n",
        "    # 기호 제거\n",
        "    text = re.sub('[^가-힣]', ' ', text)\n",
        "    # 불용어 처리\n",
        "    text = [word for word in text.split() if word not in stopwords_list]\n",
        "    text = ' '.join(text)\n",
        "    return text"
      ],
      "metadata": {
        "id": "JLz7R9v7nRHL"
      },
      "execution_count": null,
      "outputs": []
    },
    {
      "cell_type": "code",
      "source": [
        "text_preprocessing(\"아이고 배야\")"
      ],
      "metadata": {
        "colab": {
          "base_uri": "https://localhost:8080/",
          "height": 35
        },
        "id": "s3QU-y0O_gVF",
        "outputId": "1010b250-8ceb-41fd-e2c5-87fd40b9f264"
      },
      "execution_count": null,
      "outputs": [
        {
          "output_type": "execute_result",
          "data": {
            "text/plain": [
              "'아이고 배야'"
            ],
            "application/vnd.google.colaboratory.intrinsic+json": {
              "type": "string"
            }
          },
          "metadata": {},
          "execution_count": 100
        }
      ]
    },
    {
      "cell_type": "code",
      "source": [
        "sample = empathy_df['text'][2]\n",
        "print(sample)\n",
        "print('='*20)\n",
        "print(text_preprocessing(sample))"
      ],
      "metadata": {
        "colab": {
          "base_uri": "https://localhost:8080/"
        },
        "id": "8IeBUxgMnehj",
        "outputId": "24ae3df7-a2a0-4bc1-b8a3-33cddcc3e483"
      },
      "execution_count": null,
      "outputs": [
        {
          "output_type": "stream",
          "name": "stdout",
          "text": [
            "내가 출근 전에 집 청소를 다했었거든. 그런데, 집이 다시 더럽게 되었어. 청소를 다시 할 생각하니 너무 기분이 안좋고 화가나네. 나였어도, 아침에 시간 내서 치웠는데, 저녁에 다시 청소를 해야 하면 기분이 안좋을 것 같아. 나도 키우는 강아지로 인해 청소를 여러 번 하고 있거든. 번거롭기도 하고 귀찮기도 해서 더 기분이 안좋다는 거 잘 알고 있어.\n",
            "====================\n",
            "내가 출근 전에 집 청소를 다했었거든 그런데 집이 다시 더럽게 되었어 청소를 다시 할 생각하니 너무 기분이 안좋고 화가나네 나였어도 아침에 시간 내서 치웠는데 저녁에 다시 청소를 해야 하면 기분이 안좋을 것 같아 나도 키우는 강아지로 인해 청소를 여러 번 하고 있거든 번거롭기도 하고 귀찮기도 해서 더 기분이 안좋다는 거 잘 알고 있어\n"
          ]
        }
      ]
    },
    {
      "cell_type": "code",
      "source": [
        "empathy_df['cleaned_text'] = empathy_df['text'].apply(text_preprocessing)\n",
        "empathy_df.head()"
      ],
      "metadata": {
        "colab": {
          "base_uri": "https://localhost:8080/",
          "height": 241
        },
        "id": "LVEUnNn9njkZ",
        "outputId": "7542061a-2f60-46ef-9114-cbb69d927be6"
      },
      "execution_count": null,
      "outputs": [
        {
          "output_type": "execute_result",
          "data": {
            "text/plain": [
              "                                                text emotion  labels  \\\n",
              "0  자기야 나 너무 화가나. 지금 퇴근 후 집에 들어왔는데, 키우는 반려견이 휴지통과 ...      분노       2   \n",
              "1  오늘 고생하고 집에왔는데 그 장면을 보고 기분이 참 안좋았겠다. 자기가 화나니까 나...      분노       2   \n",
              "2  내가 출근 전에 집 청소를 다했었거든. 그런데, 집이 다시 더럽게 되었어. 청소를 ...      분노       2   \n",
              "3  나였어도, 아침에 시간 내서 치웠는데, 저녁에 다시 청소를 해야 하면 기분이 안좋을...      분노       2   \n",
              "4  강아지를 데려온지 얼마 안되서 그런지 힘든게 한두개가 아니야. 밤에는 짖어서 잠을 ...      분노       2   \n",
              "\n",
              "                                        cleaned_text  \n",
              "0  자기야 나 너무 화가나 지금 퇴근 후 집에 들어왔는데 키우는 반려견이 휴지통과 봉투...  \n",
              "1  오늘 고생하고 집에왔는데 그 장면을 보고 기분이 참 안좋았겠다 자기가 화나니까 나도...  \n",
              "2  내가 출근 전에 집 청소를 다했었거든 그런데 집이 다시 더럽게 되었어 청소를 다시 ...  \n",
              "3  나였어도 아침에 시간 내서 치웠는데 저녁에 다시 청소를 해야 하면 기분이 안좋을 것...  \n",
              "4  강아지를 데려온지 얼마 안되서 그런지 힘든게 한두개가 아니야 밤에는 짖어서 잠을 설...  "
            ],
            "text/html": [
              "\n",
              "  <div id=\"df-64e18d6b-0372-4e86-bcde-c25757a48192\" class=\"colab-df-container\">\n",
              "    <div>\n",
              "<style scoped>\n",
              "    .dataframe tbody tr th:only-of-type {\n",
              "        vertical-align: middle;\n",
              "    }\n",
              "\n",
              "    .dataframe tbody tr th {\n",
              "        vertical-align: top;\n",
              "    }\n",
              "\n",
              "    .dataframe thead th {\n",
              "        text-align: right;\n",
              "    }\n",
              "</style>\n",
              "<table border=\"1\" class=\"dataframe\">\n",
              "  <thead>\n",
              "    <tr style=\"text-align: right;\">\n",
              "      <th></th>\n",
              "      <th>text</th>\n",
              "      <th>emotion</th>\n",
              "      <th>labels</th>\n",
              "      <th>cleaned_text</th>\n",
              "    </tr>\n",
              "  </thead>\n",
              "  <tbody>\n",
              "    <tr>\n",
              "      <th>0</th>\n",
              "      <td>자기야 나 너무 화가나. 지금 퇴근 후 집에 들어왔는데, 키우는 반려견이 휴지통과 ...</td>\n",
              "      <td>분노</td>\n",
              "      <td>2</td>\n",
              "      <td>자기야 나 너무 화가나 지금 퇴근 후 집에 들어왔는데 키우는 반려견이 휴지통과 봉투...</td>\n",
              "    </tr>\n",
              "    <tr>\n",
              "      <th>1</th>\n",
              "      <td>오늘 고생하고 집에왔는데 그 장면을 보고 기분이 참 안좋았겠다. 자기가 화나니까 나...</td>\n",
              "      <td>분노</td>\n",
              "      <td>2</td>\n",
              "      <td>오늘 고생하고 집에왔는데 그 장면을 보고 기분이 참 안좋았겠다 자기가 화나니까 나도...</td>\n",
              "    </tr>\n",
              "    <tr>\n",
              "      <th>2</th>\n",
              "      <td>내가 출근 전에 집 청소를 다했었거든. 그런데, 집이 다시 더럽게 되었어. 청소를 ...</td>\n",
              "      <td>분노</td>\n",
              "      <td>2</td>\n",
              "      <td>내가 출근 전에 집 청소를 다했었거든 그런데 집이 다시 더럽게 되었어 청소를 다시 ...</td>\n",
              "    </tr>\n",
              "    <tr>\n",
              "      <th>3</th>\n",
              "      <td>나였어도, 아침에 시간 내서 치웠는데, 저녁에 다시 청소를 해야 하면 기분이 안좋을...</td>\n",
              "      <td>분노</td>\n",
              "      <td>2</td>\n",
              "      <td>나였어도 아침에 시간 내서 치웠는데 저녁에 다시 청소를 해야 하면 기분이 안좋을 것...</td>\n",
              "    </tr>\n",
              "    <tr>\n",
              "      <th>4</th>\n",
              "      <td>강아지를 데려온지 얼마 안되서 그런지 힘든게 한두개가 아니야. 밤에는 짖어서 잠을 ...</td>\n",
              "      <td>분노</td>\n",
              "      <td>2</td>\n",
              "      <td>강아지를 데려온지 얼마 안되서 그런지 힘든게 한두개가 아니야 밤에는 짖어서 잠을 설...</td>\n",
              "    </tr>\n",
              "  </tbody>\n",
              "</table>\n",
              "</div>\n",
              "    <div class=\"colab-df-buttons\">\n",
              "\n",
              "  <div class=\"colab-df-container\">\n",
              "    <button class=\"colab-df-convert\" onclick=\"convertToInteractive('df-64e18d6b-0372-4e86-bcde-c25757a48192')\"\n",
              "            title=\"Convert this dataframe to an interactive table.\"\n",
              "            style=\"display:none;\">\n",
              "\n",
              "  <svg xmlns=\"http://www.w3.org/2000/svg\" height=\"24px\" viewBox=\"0 -960 960 960\">\n",
              "    <path d=\"M120-120v-720h720v720H120Zm60-500h600v-160H180v160Zm220 220h160v-160H400v160Zm0 220h160v-160H400v160ZM180-400h160v-160H180v160Zm440 0h160v-160H620v160ZM180-180h160v-160H180v160Zm440 0h160v-160H620v160Z\"/>\n",
              "  </svg>\n",
              "    </button>\n",
              "\n",
              "  <style>\n",
              "    .colab-df-container {\n",
              "      display:flex;\n",
              "      gap: 12px;\n",
              "    }\n",
              "\n",
              "    .colab-df-convert {\n",
              "      background-color: #E8F0FE;\n",
              "      border: none;\n",
              "      border-radius: 50%;\n",
              "      cursor: pointer;\n",
              "      display: none;\n",
              "      fill: #1967D2;\n",
              "      height: 32px;\n",
              "      padding: 0 0 0 0;\n",
              "      width: 32px;\n",
              "    }\n",
              "\n",
              "    .colab-df-convert:hover {\n",
              "      background-color: #E2EBFA;\n",
              "      box-shadow: 0px 1px 2px rgba(60, 64, 67, 0.3), 0px 1px 3px 1px rgba(60, 64, 67, 0.15);\n",
              "      fill: #174EA6;\n",
              "    }\n",
              "\n",
              "    .colab-df-buttons div {\n",
              "      margin-bottom: 4px;\n",
              "    }\n",
              "\n",
              "    [theme=dark] .colab-df-convert {\n",
              "      background-color: #3B4455;\n",
              "      fill: #D2E3FC;\n",
              "    }\n",
              "\n",
              "    [theme=dark] .colab-df-convert:hover {\n",
              "      background-color: #434B5C;\n",
              "      box-shadow: 0px 1px 3px 1px rgba(0, 0, 0, 0.15);\n",
              "      filter: drop-shadow(0px 1px 2px rgba(0, 0, 0, 0.3));\n",
              "      fill: #FFFFFF;\n",
              "    }\n",
              "  </style>\n",
              "\n",
              "    <script>\n",
              "      const buttonEl =\n",
              "        document.querySelector('#df-64e18d6b-0372-4e86-bcde-c25757a48192 button.colab-df-convert');\n",
              "      buttonEl.style.display =\n",
              "        google.colab.kernel.accessAllowed ? 'block' : 'none';\n",
              "\n",
              "      async function convertToInteractive(key) {\n",
              "        const element = document.querySelector('#df-64e18d6b-0372-4e86-bcde-c25757a48192');\n",
              "        const dataTable =\n",
              "          await google.colab.kernel.invokeFunction('convertToInteractive',\n",
              "                                                    [key], {});\n",
              "        if (!dataTable) return;\n",
              "\n",
              "        const docLinkHtml = 'Like what you see? Visit the ' +\n",
              "          '<a target=\"_blank\" href=https://colab.research.google.com/notebooks/data_table.ipynb>data table notebook</a>'\n",
              "          + ' to learn more about interactive tables.';\n",
              "        element.innerHTML = '';\n",
              "        dataTable['output_type'] = 'display_data';\n",
              "        await google.colab.output.renderOutput(dataTable, element);\n",
              "        const docLink = document.createElement('div');\n",
              "        docLink.innerHTML = docLinkHtml;\n",
              "        element.appendChild(docLink);\n",
              "      }\n",
              "    </script>\n",
              "  </div>\n",
              "\n",
              "\n",
              "<div id=\"df-81fa62b8-445e-4cae-b230-1221fd80fac4\">\n",
              "  <button class=\"colab-df-quickchart\" onclick=\"quickchart('df-81fa62b8-445e-4cae-b230-1221fd80fac4')\"\n",
              "            title=\"Suggest charts\"\n",
              "            style=\"display:none;\">\n",
              "\n",
              "<svg xmlns=\"http://www.w3.org/2000/svg\" height=\"24px\"viewBox=\"0 0 24 24\"\n",
              "     width=\"24px\">\n",
              "    <g>\n",
              "        <path d=\"M19 3H5c-1.1 0-2 .9-2 2v14c0 1.1.9 2 2 2h14c1.1 0 2-.9 2-2V5c0-1.1-.9-2-2-2zM9 17H7v-7h2v7zm4 0h-2V7h2v10zm4 0h-2v-4h2v4z\"/>\n",
              "    </g>\n",
              "</svg>\n",
              "  </button>\n",
              "\n",
              "<style>\n",
              "  .colab-df-quickchart {\n",
              "      --bg-color: #E8F0FE;\n",
              "      --fill-color: #1967D2;\n",
              "      --hover-bg-color: #E2EBFA;\n",
              "      --hover-fill-color: #174EA6;\n",
              "      --disabled-fill-color: #AAA;\n",
              "      --disabled-bg-color: #DDD;\n",
              "  }\n",
              "\n",
              "  [theme=dark] .colab-df-quickchart {\n",
              "      --bg-color: #3B4455;\n",
              "      --fill-color: #D2E3FC;\n",
              "      --hover-bg-color: #434B5C;\n",
              "      --hover-fill-color: #FFFFFF;\n",
              "      --disabled-bg-color: #3B4455;\n",
              "      --disabled-fill-color: #666;\n",
              "  }\n",
              "\n",
              "  .colab-df-quickchart {\n",
              "    background-color: var(--bg-color);\n",
              "    border: none;\n",
              "    border-radius: 50%;\n",
              "    cursor: pointer;\n",
              "    display: none;\n",
              "    fill: var(--fill-color);\n",
              "    height: 32px;\n",
              "    padding: 0;\n",
              "    width: 32px;\n",
              "  }\n",
              "\n",
              "  .colab-df-quickchart:hover {\n",
              "    background-color: var(--hover-bg-color);\n",
              "    box-shadow: 0 1px 2px rgba(60, 64, 67, 0.3), 0 1px 3px 1px rgba(60, 64, 67, 0.15);\n",
              "    fill: var(--button-hover-fill-color);\n",
              "  }\n",
              "\n",
              "  .colab-df-quickchart-complete:disabled,\n",
              "  .colab-df-quickchart-complete:disabled:hover {\n",
              "    background-color: var(--disabled-bg-color);\n",
              "    fill: var(--disabled-fill-color);\n",
              "    box-shadow: none;\n",
              "  }\n",
              "\n",
              "  .colab-df-spinner {\n",
              "    border: 2px solid var(--fill-color);\n",
              "    border-color: transparent;\n",
              "    border-bottom-color: var(--fill-color);\n",
              "    animation:\n",
              "      spin 1s steps(1) infinite;\n",
              "  }\n",
              "\n",
              "  @keyframes spin {\n",
              "    0% {\n",
              "      border-color: transparent;\n",
              "      border-bottom-color: var(--fill-color);\n",
              "      border-left-color: var(--fill-color);\n",
              "    }\n",
              "    20% {\n",
              "      border-color: transparent;\n",
              "      border-left-color: var(--fill-color);\n",
              "      border-top-color: var(--fill-color);\n",
              "    }\n",
              "    30% {\n",
              "      border-color: transparent;\n",
              "      border-left-color: var(--fill-color);\n",
              "      border-top-color: var(--fill-color);\n",
              "      border-right-color: var(--fill-color);\n",
              "    }\n",
              "    40% {\n",
              "      border-color: transparent;\n",
              "      border-right-color: var(--fill-color);\n",
              "      border-top-color: var(--fill-color);\n",
              "    }\n",
              "    60% {\n",
              "      border-color: transparent;\n",
              "      border-right-color: var(--fill-color);\n",
              "    }\n",
              "    80% {\n",
              "      border-color: transparent;\n",
              "      border-right-color: var(--fill-color);\n",
              "      border-bottom-color: var(--fill-color);\n",
              "    }\n",
              "    90% {\n",
              "      border-color: transparent;\n",
              "      border-bottom-color: var(--fill-color);\n",
              "    }\n",
              "  }\n",
              "</style>\n",
              "\n",
              "  <script>\n",
              "    async function quickchart(key) {\n",
              "      const quickchartButtonEl =\n",
              "        document.querySelector('#' + key + ' button');\n",
              "      quickchartButtonEl.disabled = true;  // To prevent multiple clicks.\n",
              "      quickchartButtonEl.classList.add('colab-df-spinner');\n",
              "      try {\n",
              "        const charts = await google.colab.kernel.invokeFunction(\n",
              "            'suggestCharts', [key], {});\n",
              "      } catch (error) {\n",
              "        console.error('Error during call to suggestCharts:', error);\n",
              "      }\n",
              "      quickchartButtonEl.classList.remove('colab-df-spinner');\n",
              "      quickchartButtonEl.classList.add('colab-df-quickchart-complete');\n",
              "    }\n",
              "    (() => {\n",
              "      let quickchartButtonEl =\n",
              "        document.querySelector('#df-81fa62b8-445e-4cae-b230-1221fd80fac4 button');\n",
              "      quickchartButtonEl.style.display =\n",
              "        google.colab.kernel.accessAllowed ? 'block' : 'none';\n",
              "    })();\n",
              "  </script>\n",
              "</div>\n",
              "\n",
              "    </div>\n",
              "  </div>\n"
            ],
            "application/vnd.google.colaboratory.intrinsic+json": {
              "type": "dataframe",
              "variable_name": "empathy_df"
            }
          },
          "metadata": {},
          "execution_count": 102
        }
      ]
    },
    {
      "cell_type": "code",
      "source": [
        "sns.countplot(x=empathy_df['emotion'])"
      ],
      "metadata": {
        "id": "8pc6rMJeodH4",
        "colab": {
          "base_uri": "https://localhost:8080/",
          "height": 466
        },
        "outputId": "b3ccecf1-2e54-41cf-8b70-713b18f1d35a"
      },
      "execution_count": null,
      "outputs": [
        {
          "output_type": "execute_result",
          "data": {
            "text/plain": [
              "<Axes: xlabel='emotion', ylabel='count'>"
            ]
          },
          "metadata": {},
          "execution_count": 103
        },
        {
          "output_type": "display_data",
          "data": {
            "text/plain": [
              "<Figure size 640x480 with 1 Axes>"
            ],
            "image/png": "[encoded data removed]"
          },
          "metadata": {}
        }
      ]
    },
    {
      "cell_type": "code",
      "source": [
        "corpus = [word for text in empathy_df['cleaned_text'] for word in text.split()]\n",
        "\n",
        "count_words = Counter(corpus)\n",
        "\n",
        "sorted_words = count_words.most_common(20)\n",
        "sorted_words"
      ],
      "metadata": {
        "colab": {
          "base_uri": "https://localhost:8080/"
        },
        "id": "IVs1JaYxokHZ",
        "outputId": "72d4f3bb-d1ea-4384-ae43-234d64e1ab6b"
      },
      "execution_count": null,
      "outputs": [
        {
          "output_type": "execute_result",
          "data": {
            "text/plain": [
              "[('너무', 186229),\n",
              " ('것', 174143),\n",
              " ('정말', 148071),\n",
              " ('수', 107199),\n",
              " ('내가', 100907),\n",
              " ('같아', 98597),\n",
              " ('더', 98421),\n",
              " ('마음이', 97269),\n",
              " ('거야', 89786),\n",
              " ('안', 88428),\n",
              " ('잘', 86743),\n",
              " ('그', 86125),\n",
              " ('게', 80206),\n",
              " ('그런', 74695),\n",
              " ('많이', 72706),\n",
              " ('네가', 71158),\n",
              " ('그렇게', 67543),\n",
              " ('내', 62814),\n",
              " ('나도', 60687),\n",
              " ('거', 59314)]"
            ]
          },
          "metadata": {},
          "execution_count": 104
        }
      ]
    },
    {
      "cell_type": "code",
      "source": [
        "keys = []\n",
        "values = []\n",
        "\n",
        "for key, value in sorted_words[:20]:\n",
        "\n",
        "    keys.append(key)\n",
        "    values.append(value)\n",
        "\n",
        "plt.figure(figsize=(12, 5))\n",
        "plt.bar(keys, values)\n",
        "plt.title('Top 20 words')\n",
        "plt.show()"
      ],
      "metadata": {
        "colab": {
          "base_uri": "https://localhost:8080/",
          "height": 465
        },
        "id": "ZXluI4MkskXi",
        "outputId": "23a5c089-3c28-4d9a-f78d-12e8274531c4"
      },
      "execution_count": null,
      "outputs": [
        {
          "output_type": "display_data",
          "data": {
            "text/plain": [
              "<Figure size 1200x500 with 1 Axes>"
            ],
            "image/png": "[encoded data removed]"
          },
          "metadata": {}
        }
      ]
    },
    {
      "cell_type": "code",
      "source": [
        "def create_vocab_and_tokenize(reviews, min_freq=0, max_length=64):\n",
        "    # 리뷰를 토큰화합니다.\n",
        "    def tokenize_text(text):\n",
        "        return text.split()\n",
        "\n",
        "    tokenized_reviews = [tokenize_text(review) for review in reviews]\n",
        "\n",
        "    # 각 토큰의 발생 횟수를 세어봅니다.\n",
        "    token_counts = Counter(chain(*tokenized_reviews))\n",
        "\n",
        "    # min_freq 이상 출현한 토큰만으로 어휘를 만듭니다.\n",
        "    vocab = {token: i for i, (token, count) in enumerate(token_counts.items()) if count >= min_freq}\n",
        "\n",
        "    #어휘에 특수 토큰을 추가합니다\n",
        "    vocab = {**{'[PAD]': 0, '[UNK]': 1, '[CLS]': 2, '[SEP]': 3}, **vocab}\n",
        "\n",
        "    # 리뷰를 입력 ID와 attention masks로 변환합니다.\n",
        "    input_ids = []\n",
        "    attention_masks = []\n",
        "\n",
        "    for review in reviews:\n",
        "        # 리뷰를 토큰화하고 최대 길이에 맞게 잘라냅니다.\n",
        "        tokens = tokenize_text(review)[:max_length-2]\n",
        "        input_id = [2] + [vocab.get(token, 1) for token in tokens] + [3]\n",
        "\n",
        "        attention_mask = [1] * len(input_id) + [0] * (max_length - len(input_id))\n",
        "        input_id += [0] * (max_length - len(input_id))\n",
        "        input_ids.append(input_id)\n",
        "        attention_masks.append(attention_mask)\n",
        "\n",
        "    return vocab, torch.tensor(input_ids), torch.tensor(attention_masks)"
      ],
      "metadata": {
        "id": "2MfOsqv7wJD6"
      },
      "execution_count": null,
      "outputs": []
    },
    {
      "cell_type": "code",
      "source": [
        "text = empathy_df['cleaned_text'].tolist()\n",
        "emotions = empathy_df['labels'].tolist()"
      ],
      "metadata": {
        "id": "_QOSxLJEu5O6"
      },
      "execution_count": null,
      "outputs": []
    },
    {
      "cell_type": "code",
      "source": [
        "vocab, input_ids, attention_masks = create_vocab_and_tokenize(text)\n",
        "\n",
        "# # a temporary list\n",
        "# temp_list = y\n",
        "\n",
        "# # dictionary that maps integer to its string value\n",
        "# label_dict = {}\n",
        "\n",
        "# # list to store integer labels\n",
        "# emotions_int_labels = []\n",
        "\n",
        "# for i in range(len(temp_list)):\n",
        "#     label_dict[i] = temp_list[i]\n",
        "#     emotions_int_labels.append(i)\n",
        "\n",
        "\n",
        "emotions = torch.tensor(emotions)\n",
        "\n",
        "input_ids = input_ids.type(torch.LongTensor)\n",
        "input_ids = input_ids.to(device)\n",
        "attention_masks = attention_masks.to(device)\n",
        "\n",
        "emotions = emotions.type(torch.LongTensor)\n",
        "emotions = emotions.to(device)\n",
        "\n",
        "# labels = labels.type(torch.LongTensor) # <---- Here (casting)\n",
        "# labels = labels.to(device)"
      ],
      "metadata": {
        "id": "hfDa7EOpwLD7"
      },
      "execution_count": null,
      "outputs": []
    },
    {
      "cell_type": "code",
      "source": [
        "#데이터셋 생성\n",
        "dataset = TensorDataset(input_ids, attention_masks, emotions)\n",
        "\n",
        "# 90%를 train 10%는 validation 사용\n",
        "train_size = int(0.9 * len(dataset))\n",
        "val_size = len(dataset) - train_size\n",
        "#random_split 데이터셋 무작위 분할\n",
        "train_dataset, val_dataset = random_split(dataset, [train_size, val_size])"
      ],
      "metadata": {
        "id": "NoFY4TfXwnjL"
      },
      "execution_count": null,
      "outputs": []
    },
    {
      "cell_type": "code",
      "source": [
        "batch_size = 64\n",
        "#훈련데이터를 위한 데이터 로더\n",
        "train_dataloader = DataLoader(\n",
        "    train_dataset,\n",
        "    sampler = RandomSampler(train_dataset),  # 무작위 샘플링\n",
        "    batch_size = batch_size\n",
        ")\n",
        "#검증 데이터를 위한 데이터 로더\n",
        "validation_dataloader = DataLoader(\n",
        "    val_dataset,\n",
        "    sampler = SequentialSampler(val_dataset),  # 순차적 샘플링\n",
        "    batch_size = batch_size\n",
        ")"
      ],
      "metadata": {
        "id": "jLW9xp282iU8"
      },
      "execution_count": null,
      "outputs": []
    },
    {
      "cell_type": "code",
      "source": [
        "len(vocab)"
      ],
      "metadata": {
        "colab": {
          "base_uri": "https://localhost:8080/"
        },
        "id": "VaIH-VvJU31h",
        "outputId": "8476c9ba-a4c4-4512-f486-6fb3136f8fc3"
      },
      "execution_count": null,
      "outputs": [
        {
          "output_type": "execute_result",
          "data": {
            "text/plain": [
              "354891"
            ]
          },
          "metadata": {},
          "execution_count": 111
        }
      ]
    },
    {
      "cell_type": "code",
      "source": [
        "maxlen = 512\n",
        "vocab_size = len(vocab)\n",
        "max_pred = 20\n",
        "\n",
        "n_layers = 12\n",
        "n_heads = 8\n",
        "d_model = 768\n",
        "d_ff = 768*4\n",
        "d_k = d_v = 64\n",
        "\n",
        "n_segments = 2\n",
        "lr = 0.0001\n",
        "epochs = 200\n",
        "\n",
        "dropout = 0.1\n",
        "\n",
        "early_stopping_max = 10"
      ],
      "metadata": {
        "id": "wtLOwng04bCd"
      },
      "execution_count": null,
      "outputs": []
    },
    {
      "cell_type": "code",
      "source": [
        "def gelu(x):\n",
        "  return x *0.5 * (1.0 + torch.erf(x / math.sqrt(2.0)))"
      ],
      "metadata": {
        "id": "0qE7A0E_4dNM"
      },
      "execution_count": null,
      "outputs": []
    },
    {
      "cell_type": "code",
      "source": [
        "class Embedding(nn.Module):\n",
        "    def __init__(self, vocab_size):\n",
        "        super().__init__()\n",
        "\n",
        "        self.tok_embedding = nn.Embedding(vocab_size, d_model) # 토큰임베딩 : 주어진 단어나 토큰을 d_model 차원의 벡터로 변환\n",
        "        self.pos_embedding = nn.Embedding(maxlen, d_model) # 위치 임베딩 :  각 토큰의 위치를  d_model 차원의 벡터로 변환\n",
        "        self.norm = nn.LayerNorm(d_model) # LayerNorm : 임베딩 벡터를 정규화\n",
        "        self.dropout = nn.Dropout(dropout) #모델 과적합 방지\n",
        "\n",
        "    def forward(self, x):\n",
        "        seq_len = x.size(1) #입력 시퀀스의 길이를 가져옴\n",
        "        #입력 x의 각 토큰에 대한 위치 정보를 생성\n",
        "        pos = torch.arange(seq_len,dtype = torch.long, device = x.device)\n",
        "        pos = pos.unsqueeze(0).repeat(x.size(0), 1)\n",
        "\n",
        "        #토큰임베딩과 위치임베팅을 합침\n",
        "        embedding = self.tok_embedding(x) + self.pos_embedding(pos)\n",
        "\n",
        "        return self.dropout(self.norm(embedding))"
      ],
      "metadata": {
        "id": "wthvoSzz4ekc"
      },
      "execution_count": null,
      "outputs": []
    },
    {
      "cell_type": "code",
      "source": [
        "class MultiHeadAttention(nn.Module):\n",
        "    def __init__(self):\n",
        "        super().__init__()\n",
        "\n",
        "        self.w_q = nn.Linear(d_model, d_model)\n",
        "        self.w_k = nn.Linear(d_model, d_model)\n",
        "        self.w_v = nn.Linear(d_model, d_model)\n",
        "\n",
        "        self.dropout = nn.Dropout(dropout)\n",
        "\n",
        "        self.fc = nn.Linear(d_model, d_model)\n",
        "\n",
        "        self.scale = torch.sqrt(torch.FloatTensor([d_model//n_heads])).to(device)\n",
        "\n",
        "        self.softmax = nn.Softmax(dim=-1)\n",
        "\n",
        "    def forward(self, query, key, value, mask=None):\n",
        "        batch_size = query.shape[0]\n",
        "\n",
        "        Q = self.w_q(query)\n",
        "        K = self.w_k(key)\n",
        "        V = self.w_v(value)\n",
        "\n",
        "        Q = Q.view(batch_size, -1, n_heads, d_model//n_heads).permute(0, 2, 1, 3)\n",
        "        K = K.view(batch_size, -1, n_heads, d_model//n_heads).permute(0, 2, 1, 3)\n",
        "        V = V.view(batch_size, -1, n_heads, d_model//n_heads).permute(0, 2, 1, 3)\n",
        "\n",
        "        energy = torch.matmul(Q, K.permute(0, 1, 3, 2)) / self.scale\n",
        "\n",
        "        if mask is not None:\n",
        "            energy = energy.masked_fill(mask == 0, -1e10)\n",
        "\n",
        "        attention = self.dropout(self.softmax(energy))\n",
        "\n",
        "        X = torch.matmul(attention, V)\n",
        "        X = X.permute(0, 2, 1, 3).contiguous()\n",
        "        X = X.view(batch_size, -1, d_model)\n",
        "\n",
        "        X = self.fc(X)\n",
        "\n",
        "        return X\n"
      ],
      "metadata": {
        "id": "6pyDjEPu4gVt"
      },
      "execution_count": null,
      "outputs": []
    },
    {
      "cell_type": "code",
      "source": [
        "class PositionwiseFeedforward(nn.Module):\n",
        "    def __init__(self):\n",
        "        super().__init__()\n",
        "\n",
        "        self.conv1 = nn.Conv1d(d_model, d_ff, 1)\n",
        "        self.conv2 = nn.Conv1d(d_ff, d_model, 1)\n",
        "\n",
        "        self.dropout = nn.Dropout(dropout)\n",
        "\n",
        "    def forward(self, x):\n",
        "        # x => [batch_size, seq_len, d_model]\n",
        "        x = x.permute(0, 2, 1)\n",
        "        x = self.dropout(gelu(self.conv1(x)))\n",
        "\n",
        "        x = self.conv2(x)\n",
        "\n",
        "        x = x.permute(0, 2, 1)\n",
        "\n",
        "        return x\n",
        "      #fc1, fc2대신."
      ],
      "metadata": {
        "id": "jsWCK6bI4lUc"
      },
      "execution_count": null,
      "outputs": []
    },
    {
      "cell_type": "code",
      "source": [
        "class EncoderLayer(nn.Module):\n",
        "    def __init__(self):\n",
        "        super().__init__()\n",
        "\n",
        "        self.encoder_self_attn = MultiHeadAttention()\n",
        "        self.encoder_feed_fwd = PositionwiseFeedforward()\n",
        "        self.layer_norm = nn.LayerNorm(d_model)\n",
        "        self.dropout = nn.Dropout(dropout)\n",
        "\n",
        "    def forward(self, input, input_mask=None):\n",
        "    # input => [batch_size, seq_len, d_model]\n",
        "\n",
        "      encoder_outputs = self.layer_norm(input + self.dropout(self.encoder_self_attn(input, input, input, input_mask)))\n",
        "      encoder_outputs = self.layer_norm(encoder_outputs + self.dropout(self.encoder_feed_fwd(encoder_outputs)))\n",
        "      return encoder_outputs"
      ],
      "metadata": {
        "id": "1CNDGKer4oUc"
      },
      "execution_count": null,
      "outputs": []
    },
    {
      "cell_type": "code",
      "source": [
        "class Bert(nn.Module):\n",
        "    def __init__(self, vocab_size):\n",
        "        super().__init__()\n",
        "\n",
        "        self.embedding = Embedding(vocab_size)\n",
        "        self.layers = nn.ModuleList([EncoderLayer() for _ in range(n_layers)])\n",
        "\n",
        "        self.linear = nn.Linear(d_model, d_model)\n",
        "        self.activn = gelu\n",
        "        self.norm = nn.LayerNorm(d_model)\n",
        "\n",
        "        # outfeature 개수 조정\n",
        "        # merged_dataset: '분노', '슬픔', '기쁨', '당황', '불안', '상처'\n",
        "        # empathy_dataset: '분노', '슬픔', '기쁨', '당황', '불안', '상처', '중립'\n",
        "        self.classifier = nn.Linear(d_model, 7)\n",
        "\n",
        "    def forward(self, input_ids, attention_mask):\n",
        "        # 임베딩 레이어를 통과\n",
        "        embedding_output = self.embedding(input_ids)\n",
        "        # 각 인코더 레이어를 순차적으로 통과\n",
        "        for layer in self.layers:\n",
        "            encoder_output = layer(embedding_output)\n",
        "        pooled_output = encoder_output[:, 0]\n",
        "        # 분류를 위해 선형 레이어를 통과\n",
        "        output = self.classifier(pooled_output)\n",
        "\n",
        "        return output"
      ],
      "metadata": {
        "id": "wjH-xjPC4r2s"
      },
      "execution_count": null,
      "outputs": []
    },
    {
      "cell_type": "code",
      "source": [
        "model = Bert(vocab_size)\n",
        "model = model.to(device)\n",
        "# criterion = nn.NLLLoss()\n",
        "criterion = nn.CrossEntropyLoss()\n",
        "# criterion = nn.BCEWithLogitsLoss()\n",
        "optimizer = optim.Adam(model.parameters(), lr=lr)\n",
        "\n",
        "print(model)"
      ],
      "metadata": {
        "colab": {
          "base_uri": "https://localhost:8080/"
        },
        "id": "VDzWoYuK4txt",
        "outputId": "dabb39bb-1627-480c-a061-cf6ecf1805e7"
      },
      "execution_count": null,
      "outputs": [
        {
          "output_type": "stream",
          "name": "stdout",
          "text": [
            "Bert(\n",
            "  (embedding): Embedding(\n",
            "    (tok_embedding): Embedding(354891, 768)\n",
            "    (pos_embedding): Embedding(512, 768)\n",
            "    (norm): LayerNorm((768,), eps=1e-05, elementwise_affine=True)\n",
            "    (dropout): Dropout(p=0.1, inplace=False)\n",
            "  )\n",
            "  (layers): ModuleList(\n",
            "    (0-11): 12 x EncoderLayer(\n",
            "      (encoder_self_attn): MultiHeadAttention(\n",
            "        (w_q): Linear(in_features=768, out_features=768, bias=True)\n",
            "        (w_k): Linear(in_features=768, out_features=768, bias=True)\n",
            "        (w_v): Linear(in_features=768, out_features=768, bias=True)\n",
            "        (dropout): Dropout(p=0.1, inplace=False)\n",
            "        (fc): Linear(in_features=768, out_features=768, bias=True)\n",
            "        (softmax): Softmax(dim=-1)\n",
            "      )\n",
            "      (encoder_feed_fwd): PositionwiseFeedforward(\n",
            "        (conv1): Conv1d(768, 3072, kernel_size=(1,), stride=(1,))\n",
            "        (conv2): Conv1d(3072, 768, kernel_size=(1,), stride=(1,))\n",
            "        (dropout): Dropout(p=0.1, inplace=False)\n",
            "      )\n",
            "      (layer_norm): LayerNorm((768,), eps=1e-05, elementwise_affine=True)\n",
            "      (dropout): Dropout(p=0.1, inplace=False)\n",
            "    )\n",
            "  )\n",
            "  (linear): Linear(in_features=768, out_features=768, bias=True)\n",
            "  (norm): LayerNorm((768,), eps=1e-05, elementwise_affine=True)\n",
            "  (classifier): Linear(in_features=768, out_features=7, bias=True)\n",
            ")\n"
          ]
        }
      ]
    },
    {
      "cell_type": "code",
      "source": [
        "def train_and_validate(\n",
        "    model, train_dataloader, validation_dataloader, epochs, optimizer, criterion\n",
        "):\n",
        "    acc_early_counter = 0\n",
        "    best_val_accuracy, best_val_loss = 0.0, 0.0\n",
        "    train_losses = []\n",
        "    val_losses = []\n",
        "    train_accuracies = []\n",
        "    val_accuracies = []\n",
        "\n",
        "    for epoch in range(epochs):\n",
        "        print(f\"Epoch {epoch + 1}/{epochs}\")\n",
        "        print(\"-\" * 10)\n",
        "\n",
        "        model.train()\n",
        "        total_loss = 0\n",
        "        train_preds, train_labels = [], []\n",
        "\n",
        "        progress_bar = tqdm(train_dataloader, desc=\"Training\", position=0, leave=True)\n",
        "        for step, batch in enumerate(progress_bar):\n",
        "            b_input_ids = batch[0].to(device)\n",
        "            b_input_mask = batch[1].to(device)\n",
        "            b_labels = batch[2].long().to(device)\n",
        "\n",
        "            # 그래디언트 초기화\n",
        "            model.zero_grad()\n",
        "\n",
        "            outputs = model(b_input_ids, b_input_mask)\n",
        "\n",
        "            # 손실계산\n",
        "            loss = criterion(outputs.squeeze(), b_labels.long())\n",
        "            # loss = criterion(outputs.squeeze(), b_labels.float())\n",
        "            total_loss += loss.item()\n",
        "\n",
        "            # 그래디언트 역전파\n",
        "            loss.backward()\n",
        "\n",
        "            # 그래디언트 클리핑 - 폭발방지\n",
        "            torch.nn.utils.clip_grad_norm_(model.parameters(), 1.0)\n",
        "\n",
        "            # 모델 파라미터 업데이트\n",
        "            optimizer.step()\n",
        "\n",
        "            # 예측값 레이블 저장\n",
        "            softmax_probs = torch.nn.functional.softmax(outputs, dim=1)\n",
        "            train_preds.extend(softmax_probs.squeeze().detach().cpu().numpy().tolist())\n",
        "            # train_preds.extend(torch.sigmoid(outputs).squeeze().detach().cpu().numpy().tolist())\n",
        "            train_labels.extend(b_labels.squeeze().detach().cpu().numpy().tolist())\n",
        "\n",
        "            # 진행바 업데이트\n",
        "            progress_bar.set_postfix(\n",
        "                {\"training_loss\": \"{:.3f}\".format(loss.item() / len(train_dataloader))}\n",
        "            )\n",
        "\n",
        "        # 평균학습손실\n",
        "        avg_train_loss = total_loss / len(train_dataloader)\n",
        "        print(f\"Average training loss: {avg_train_loss:.4f}\")\n",
        "\n",
        "        # (바이너리) 학습 정확도 측정\n",
        "        # train_preds = [1 if pred > 0.5 else 0 for pred in train_preds]\n",
        "        # train_acc = accuracy_score(train_labels, train_preds)\n",
        "        # print(f\"Train Accuracy: {train_acc:.4f}\")\n",
        "\n",
        "        # train_preds를 텐서로 변환\n",
        "        # train_preds에서 각 샘플에 대한 최대값을 가지는 클래스 찾기\n",
        "        predicted_classes = torch.argmax(torch.tensor(train_preds), axis=1)\n",
        "\n",
        "        # 실제 레이블과 비교하여 정확도 계산\n",
        "        train_labels_numpy = np.array([label for label in train_labels])\n",
        "        train_preds_numpy = (\n",
        "            predicted_classes.numpy()\n",
        "        )  # 예측된 클래스를 넘파이 배열로 변환\n",
        "\n",
        "        # 정확도 계산\n",
        "        train_acc = accuracy_score(train_labels_numpy, train_preds_numpy)\n",
        "        print(f\"Train Accuracy: {train_acc:.4f}\")\n",
        "\n",
        "        train_losses.append(avg_train_loss)\n",
        "        train_accuracies.append(train_acc)\n",
        "\n",
        "        # 검증모드 설정\n",
        "        model.eval()\n",
        "        total_eval_loss = 0\n",
        "        val_preds, val_labels = [], []\n",
        "\n",
        "        # 검증데이터로 검증 진행\n",
        "        progress_bar = tqdm(\n",
        "            validation_dataloader, desc=\"Validation\", position=0, leave=True\n",
        "        )\n",
        "        for step, batch in enumerate(progress_bar):\n",
        "            b_input_ids = batch[0].to(device)\n",
        "            b_input_mask = batch[1].to(device)\n",
        "            b_labels = batch[2].long().to(device)\n",
        "\n",
        "            # 그래디언트 계산 비활성화\n",
        "            with torch.no_grad():\n",
        "                outputs = model(b_input_ids, b_input_mask)\n",
        "\n",
        "                # 손실계산\n",
        "                loss = criterion(outputs.squeeze(), b_labels.long())\n",
        "                total_eval_loss += loss.item()\n",
        "\n",
        "                # 예측값 및 레이블 저장\n",
        "\n",
        "                softmax_probs = torch.nn.functional.softmax(outputs, dim=1)\n",
        "\n",
        "                val_preds.extend(\n",
        "                    softmax_probs.squeeze().detach().cpu().numpy().tolist()\n",
        "                )\n",
        "                val_labels.extend(b_labels.squeeze().detach().cpu().numpy().tolist())\n",
        "\n",
        "                # 진행바 업데이트\n",
        "                progress_bar.set_postfix(\n",
        "                    {\"validation_loss\": \"{:.3f}\".format(loss.item() / len(batch))}\n",
        "                )\n",
        "\n",
        "        # 평균검증손실\n",
        "\n",
        "        avg_val_loss = total_eval_loss / len(validation_dataloader)\n",
        "\n",
        "        # train_preds에서 각 샘플에 대한 최대값을 가지는 클래스 찾기\n",
        "        val_predicted_classes = torch.argmax(torch.tensor(val_preds), axis=1)\n",
        "\n",
        "        # 실제 레이블과 비교하여 정확도 계산\n",
        "        val_labels_numpy = np.array([label for label in val_labels])\n",
        "        val_preds_numpy = (\n",
        "            val_predicted_classes.numpy()\n",
        "        )  # 예측된 클래스를 넘파이 배열로 변환\n",
        "\n",
        "        # 검증 정확도 측정 val_preds = [1 if pred > 0.5 else 0 for pred in val_preds]\n",
        "        val_acc = accuracy_score(val_labels_numpy, val_preds_numpy)\n",
        "        print(f\"Validation Accuracy: {val_acc:.4f}\")\n",
        "\n",
        "        val_losses.append(avg_val_loss)\n",
        "        val_accuracies.append(val_acc)\n",
        "\n",
        "        if val_acc > best_val_accuracy:\n",
        "            acc_early_counter = 0\n",
        "            best_val_accuracy = val_acc\n",
        "            # Save the model if the current validation accuracy is the best\n",
        "            file_name = f\"/content/drive/MyDrive/Pal-ette/trained_models/datamerged_model_acc_{epoch}_{int(val_acc*100)}.pth\"\n",
        "            if not os.path.exists(file_name):\n",
        "                print(\"File does not exist.\")\n",
        "                with open(file_name, \"w\") as f:\n",
        "                    pass\n",
        "\n",
        "            torch.save(\n",
        "                {\n",
        "                    \"epoch\": epoch,\n",
        "                    \"model_state_dict\": model.state_dict(),\n",
        "                    \"optimizer_state_dict\": optimizer.state_dict(),\n",
        "                    \"loss\": avg_val_loss,\n",
        "                },\n",
        "                file_name,\n",
        "            )\n",
        "            print(f\"Model saved: Improved validation accuracy to {val_acc:.4f}\")\n",
        "        else:\n",
        "            acc_early_counter += 1\n",
        "            if acc_early_counter > early_stopping_max:\n",
        "                print(\"Early stopping triggered\")\n",
        "                break\n",
        "\n",
        "        if avg_val_loss < best_val_loss:\n",
        "            best_val_loss = avg_val_loss\n",
        "            file_name = f\"/content/drive/MyDrive/Pal-ette/trained_models/datamerged_model_loss_{epoch}_{int(avg_val_loss*100)}.pth\"\n",
        "            if not os.path.exists(file_name):\n",
        "                print(\"File does not exist.\")\n",
        "                with open(file_name, \"w\") as f:\n",
        "                    pass\n",
        "\n",
        "            torch.save(\n",
        "                {\n",
        "                    \"epoch\": epoch,\n",
        "                    \"model_state_dict\": model.state_dict(),\n",
        "                    \"optimizer_state_dict\": optimizer.state_dict(),\n",
        "                    \"loss\": avg_val_loss,\n",
        "                },\n",
        "                file_name,\n",
        "            )\n",
        "            print(f\"Model saved: Improved loss {avg_val_loss:.4f}\")\n",
        "\n",
        "    return train_losses, val_losses, train_accuracies, val_accuracies\n"
      ],
      "metadata": {
        "id": "wSOcEQEJ4yiu"
      },
      "execution_count": null,
      "outputs": []
    },
    {
      "cell_type": "code",
      "source": [
        "train_losses, val_losses, train_accuracies, val_accuracies = train_and_validate(model, train_dataloader, validation_dataloader, epochs, optimizer, criterion)"
      ],
      "metadata": {
        "colab": {
          "base_uri": "https://localhost:8080/"
        },
        "id": "-SWrDbId46Kv",
        "outputId": "d55d5a1c-2659-4949-a6f1-7520a4459a61"
      },
      "execution_count": null,
      "outputs": [
        {
          "metadata": {
            "tags": null
          },
          "name": "stdout",
          "output_type": "stream",
          "text": [
            "Epoch 1/200\n",
            "----------\n"
          ]
        },
        {
          "output_type": "stream",
          "name": "stderr",
          "text": [
            "Training: 100%|██████████| 5576/5576 [11:44<00:00,  7.91it/s, training_loss=0.000]\n"
          ]
        },
        {
          "output_type": "stream",
          "name": "stdout",
          "text": [
            "Average training loss: 1.2017\n",
            "Train Accuracy: 0.5487\n"
          ]
        },
        {
          "output_type": "stream",
          "name": "stderr",
          "text": [
            "Validation: 100%|██████████| 620/620 [00:47<00:00, 13.17it/s, validation_loss=0.459]\n"
          ]
        },
        {
          "output_type": "stream",
          "name": "stdout",
          "text": [
            "Validation Accuracy: 0.6353\n",
            "File does not exist.\n",
            "Model saved: Improved validation accuracy to 0.6353\n",
            "Epoch 2/200\n",
            "----------\n"
          ]
        },
        {
          "output_type": "stream",
          "name": "stderr",
          "text": [
            "Training: 100%|██████████| 5576/5576 [11:46<00:00,  7.89it/s, training_loss=0.000]\n"
          ]
        },
        {
          "output_type": "stream",
          "name": "stdout",
          "text": [
            "Average training loss: 0.9830\n",
            "Train Accuracy: 0.6457\n"
          ]
        },
        {
          "output_type": "stream",
          "name": "stderr",
          "text": [
            "Validation: 100%|██████████| 620/620 [00:46<00:00, 13.21it/s, validation_loss=0.416]\n"
          ]
        },
        {
          "output_type": "stream",
          "name": "stdout",
          "text": [
            "Validation Accuracy: 0.6764\n",
            "File does not exist.\n",
            "Model saved: Improved validation accuracy to 0.6764\n",
            "Epoch 3/200\n",
            "----------\n"
          ]
        },
        {
          "output_type": "stream",
          "name": "stderr",
          "text": [
            "Training: 100%|██████████| 5576/5576 [11:45<00:00,  7.90it/s, training_loss=0.000]\n"
          ]
        },
        {
          "output_type": "stream",
          "name": "stdout",
          "text": [
            "Average training loss: 0.8998\n",
            "Train Accuracy: 0.6790\n"
          ]
        },
        {
          "output_type": "stream",
          "name": "stderr",
          "text": [
            "Validation: 100%|██████████| 620/620 [00:47<00:00, 13.18it/s, validation_loss=0.398]\n"
          ]
        },
        {
          "output_type": "stream",
          "name": "stdout",
          "text": [
            "Validation Accuracy: 0.6961\n",
            "File does not exist.\n",
            "Model saved: Improved validation accuracy to 0.6961\n",
            "Epoch 4/200\n",
            "----------\n"
          ]
        },
        {
          "output_type": "stream",
          "name": "stderr",
          "text": [
            "Training: 100%|██████████| 5576/5576 [11:46<00:00,  7.89it/s, training_loss=0.000]\n"
          ]
        },
        {
          "output_type": "stream",
          "name": "stdout",
          "text": [
            "Average training loss: 0.8377\n",
            "Train Accuracy: 0.7033\n"
          ]
        },
        {
          "output_type": "stream",
          "name": "stderr",
          "text": [
            "Validation: 100%|██████████| 620/620 [00:47<00:00, 13.17it/s, validation_loss=0.361]\n"
          ]
        },
        {
          "output_type": "stream",
          "name": "stdout",
          "text": [
            "Validation Accuracy: 0.7100\n",
            "File does not exist.\n",
            "Model saved: Improved validation accuracy to 0.7100\n",
            "Epoch 5/200\n",
            "----------\n"
          ]
        },
        {
          "output_type": "stream",
          "name": "stderr",
          "text": [
            "Training: 100%|██████████| 5576/5576 [11:46<00:00,  7.90it/s, training_loss=0.000]\n"
          ]
        },
        {
          "output_type": "stream",
          "name": "stdout",
          "text": [
            "Average training loss: 0.7870\n",
            "Train Accuracy: 0.7235\n"
          ]
        },
        {
          "output_type": "stream",
          "name": "stderr",
          "text": [
            "Validation: 100%|██████████| 620/620 [00:47<00:00, 13.18it/s, validation_loss=0.321]\n"
          ]
        },
        {
          "output_type": "stream",
          "name": "stdout",
          "text": [
            "Validation Accuracy: 0.7212\n",
            "File does not exist.\n",
            "Model saved: Improved validation accuracy to 0.7212\n",
            "Epoch 6/200\n",
            "----------\n"
          ]
        },
        {
          "output_type": "stream",
          "name": "stderr",
          "text": [
            "Training:  41%|████      | 2267/5576 [04:47<06:56,  7.95it/s, training_loss=0.000]"
          ]
        }
      ]
    },
    {
      "cell_type": "code",
      "source": [
        "# plt.figure(figsize=(12, 5))\n",
        "# plt.subplot(1, 2, 1)\n",
        "# plt.plot(train_losses, label='Train Loss')\n",
        "# plt.plot(val_losses, label='Validation Loss')\n",
        "# plt.title('Loss over epochs')\n",
        "# plt.xlabel('Epochs')\n",
        "# plt.ylabel('Loss')\n",
        "# plt.legend()\n",
        "\n",
        "# plt.subplot(1, 2, 2)\n",
        "# plt.plot(train_accuracies, label='Train Accuracy')\n",
        "# plt.plot(val_accuracies, label='Validation Accuracy')\n",
        "# plt.title('Accuracy over epochs')\n",
        "# plt.xlabel('Epochs')\n",
        "# plt.ylabel('Accuracy')\n",
        "# plt.legend()\n",
        "\n",
        "# plt.show()"
      ],
      "metadata": {
        "id": "aWLPtF72sEfn"
      },
      "execution_count": null,
      "outputs": []
    },
    {
      "cell_type": "code",
      "source": [
        "PATH = file_name"
      ],
      "metadata": {
        "id": "zXaxfD1uGktW"
      },
      "execution_count": null,
      "outputs": []
    },
    {
      "cell_type": "code",
      "source": [
        "model = Bert(vocab_size)\n",
        "model.load_state_dict(torch.load(PATH, map_location=device))"
      ],
      "metadata": {
        "id": "VQAK4ChQIIjx"
      },
      "execution_count": null,
      "outputs": []
    },
    {
      "cell_type": "code",
      "source": [
        "model.eval()"
      ],
      "metadata": {
        "id": "hVfmhIJ6HC0g"
      },
      "execution_count": null,
      "outputs": []
    },
    {
      "cell_type": "code",
      "source": [
        "new_reviews = [\n",
        "    \"차선을 이상하게 변경하는 사람이 있어서 아침부터 욕을 했어. 두차선을 가로지르는게 말이된다고 생각해??\",\n",
        "    \"기분이 너무 좋아\",\n",
        "    \"오다가 넘어져서 피부가 까졌어\",\n",
        "    \"나 오늘 슬퍼, 위로해줘\",\n",
        "    \"나 속상해\",\n",
        "    \"너 늦게오지마\",\n",
        "    \"엉엉 울었어\"\n",
        "  ]\n",
        "\n",
        "# 최소 발생 빈도수와 최대 텍스트 길이 설정\n",
        "min_frequency = 1\n",
        "max_text_length = 64\n",
        "\n",
        "# 어휘와 토큰화된 입력 데이터 생성\n",
        "vocab, input_ids, attention_masks = create_vocab_and_tokenize(new_reviews, min_freq=min_frequency, max_length=max_text_length)\n",
        "# print(vocab)\n",
        "# print(input_ids)\n",
        "# print(attention_masks)\n",
        "\n",
        "# 입력 데이터를 모델에 넣어 예측 수행\n",
        "with torch.no_grad():\n",
        "    outputs = model(input_ids, attention_mask=attention_masks)\n",
        "    predictions = torch.argmax(outputs, dim=-1)\n",
        "    print(outputs)\n",
        "\n",
        "# 결과 출력\n",
        "print(\"Predictions:\", [['분노', '슬픔', '기쁨', '당황', '불안', '상처'][p] for p in predictions])"
      ],
      "metadata": {
        "id": "ubjqQlMaH8LQ"
      },
      "execution_count": null,
      "outputs": []
    },
    {
      "cell_type": "code",
      "source": [
        "# (['분노', '슬픔', '기쁨', '당황', '불안', '상처']\n"
      ],
      "metadata": {
        "id": "LpUhcumLMA_t"
      },
      "execution_count": null,
      "outputs": []
    }
  ]
}